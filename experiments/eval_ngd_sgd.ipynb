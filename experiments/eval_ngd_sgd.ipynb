{
 "cells": [
  {
   "cell_type": "markdown",
   "metadata": {},
   "source": [
    "### **Does NGD converge to more complex minima according to the RLCT (Real Log Canonical Threshold)?**\n",
    "\n",
    "This notebook aims to test the above claim, using developmental interpretability methods.\n",
    "\n",
    "We hypothesise that NGD will consistently have a higher RLCT, because it premultiplies the gradient used for gradient descent by the inverse of the Fisher Information Matrix.\n",
    "\n",
    "SLT proposes that models converge to singularities, where the Fisher Information Matrix is non-invertable. Hence, when near a singularity, the inverse of the FIM will blow up as its determinant is close to 0. Therefore, NGD will \"jump away\" from the singularity, instead favouring more complex, less singular minima.\n",
    "\n",
    "#### **Methodology**\n",
    "- Choose between DNN (dense neural network) and CNN (convolutional neural network)\n",
    "- Vary hidden nodes and hidden layers for DNN (depth and width)\n",
    "- Vary number of convolutional layers for CNN.\n",
    "- Estimate Hessian rank using `PyHessian` module.\n",
    "- Estimate RLCT using `devinterp` library.\n",
    "\n",
    "#### **Instructions**\n",
    "\n",
    "To produce your own results, go to `args_ngd_sgd.json`. The following parameters can be adjusted:\n",
    "- `model_type (str)`  : `dnn` (deep network), `cnn` (convolutional network)\n",
    "- `experiment_type (str)` : `standard` (train models independently using SGD and NGD), `swap` (train to convergence with SGD, then continue with SGD + NGD)\n",
    "\n",
    "<!-- -->\n",
    "\n",
    "- `optimizer (str)` : `sgd`, `ngd`, or `both` (performs analysis on both optimizers) - SET TO `both` IF DOING `swap` EXPERIMENT\n",
    "- `hessian (bool)` : `true`, `false` (does Hessian rank analysis if enabled)\n",
    "\n",
    "<!-- -->\n",
    "\n",
    "- `hidden_nodes (List : int)` : e.g. `[32, 32, 64, 64, 128, 128]`, the hidden nodes to use in DNN\n",
    "- `hidden_layers (List: int)` : e.g. `[1, 1, 2, 2, 3, 3]`, the hidden layers to use in DNN. Must have same length as `hidden_nodes`.\n",
    "- `hidden_conv_layers (List : int)` : array of number of hidden convolutional layers to use for CNN, e.g. `[1, 2, 3]`.\n",
    "\n",
    "<!-- -->\n",
    "\n",
    "- `cut_off_epochs (int)` : the epoch number at which the optimiser is swapped if using `experiment_type = \"swap\"`\n",
    "- `num_epochs (int)` : total number of training epochs\n",
    "\n",
    "<!-- -->\n",
    "\n",
    "- `sgd_lr (float)` : sgd learning rate for training\n",
    "- `ngd_lr (float)` : ngd learning rate for training\n",
    "\n",
    "<!-- -->\n",
    "\n",
    "- `alpha (float)` : smoothing constant for estimation of FIM for NGD\n",
    "- `eta (float)` : $ F_{n} = \\eta S_n + (1 - \\eta) F_{n-1} $ where $ S_n $ is the estimated Fisher matrix from the current batch.\n",
    "- `epsilon (float)` : added to $ F $ to stop it from becoming singular\n",
    "- `delta (float)` : constant preventing $ F $ from becoming singular\n",
    "\n",
    "<!-- -->\n",
    "\n",
    "- `momentum (float)` : momentum used in SGD and NGD\n",
    "- `nesterov (bool)` : enable Nesterov momentum for NGD / SGD\n",
    "\n",
    "<!-- -->\n",
    "\n",
    "- `seed (int)` : the random seed used for `torch.manual_seed()`\n",
    "\n",
    "<!-- -->\n",
    "\n",
    "- `batch_size (int)` : batch size for train / validation dataloaders\n",
    "- `num_workers (int)` : number of GPU workers for data loading (keep this at around 6, vary depending on your hardware)\n",
    "- `dataset (str)` : `mnist`, `cifar10` (dataset to use for training)\n",
    "- `num_hessian_batches (int)` : number of batches used for estimation of Hessian\n",
    "\n",
    "<!-- -->\n",
    "\n",
    "- `sampler (str)` : `sgld`, `sgnht` (optimiser to use for RLCT estimation)\n",
    "- `num_chains (int)` : number of chains to use in RLCT estimation (higher leads to more accurate RLCT estimate)\n",
    "- `num_draws (int)` : number of optimizer steps in RLCT estimation (should be high enough such that chain RLCT converges - check convergence plot)\n",
    "- `localization (float)` : higher localization more strongly restricts optimizer to neighbourhood of model weights (stops RLCT estimator from going straight to minima)\n",
    "- `sampler_lr (float)` : learning rate for sampler for RLCT estimation\n",
    "\n",
    "You can run the notebook from the terminal using the following command:\n",
    "```bash\n",
    "jupyter nbconvert --to notebook --execute --inplace ./experiments/eval_ngd_sgd.ipynb\n",
    "```"
   ]
  },
  {
   "cell_type": "markdown",
   "metadata": {},
   "source": [
    "#### **0. Import libraries**\n",
    "\n",
    "The `NGD` module is used for implementing Natural Gradient Descent efficiently. It approximates the Fisher Information Matrix to do this.\n",
    "The `devinterp` library is used for estimation of the LLC (local learning coefficient)."
   ]
  },
  {
   "cell_type": "code",
   "execution_count": 49,
   "metadata": {
    "execution": {
     "iopub.execute_input": "2024-04-04T13:32:58.241916Z",
     "iopub.status.busy": "2024-04-04T13:32:58.241916Z",
     "iopub.status.idle": "2024-04-04T13:33:04.604735Z",
     "shell.execute_reply": "2024-04-04T13:33:04.604735Z"
    }
   },
   "outputs": [
    {
     "name": "stdout",
     "output_type": "stream",
     "text": [
      "Device in use: cuda\n",
      "The autoreload extension is already loaded. To reload it, use:\n",
      "  %reload_ext autoreload\n"
     ]
    }
   ],
   "source": [
    "from multiprocessing import freeze_support\n",
    "\n",
    "import os\n",
    "import sys\n",
    "import copy\n",
    "import pickle\n",
    "import pprint\n",
    "import json\n",
    "from pathlib import Path\n",
    "from datetime import datetime\n",
    "import warnings\n",
    "import numpy as np\n",
    "import pandas as pd\n",
    "from tqdm import tqdm\n",
    "\n",
    "sys.path.append(\"../\")\n",
    "\n",
    "import torch as t\n",
    "import torch.nn as nn\n",
    "import torch.nn.functional as F\n",
    "from torchvision import datasets, transforms\n",
    "from torch.utils.data import DataLoader, Subset, random_split\n",
    "\n",
    "from PyHessian.pyhessian import *\n",
    "from PyHessian.density_plot import *\n",
    "from nngeometry.metrics import FIM\n",
    "from nngeometry.object import PMatKFAC, PMatDiag, PVector\n",
    "\n",
    "from utils_general import *\n",
    "from utils_hessian_fim import *\n",
    "from architectures import *\n",
    "from ngd import NGD\n",
    "\n",
    "from plotly.subplots import make_subplots\n",
    "import plotly.express as px\n",
    "import plotly.colors\n",
    "import plotly.graph_objects as go\n",
    "import matplotlib\n",
    "import matplotlib.pyplot as plt\n",
    "\n",
    "device = \"cuda\" if t.cuda.is_available() else \"cpu\"\n",
    "print(f\"Device in use: {device}\")\n",
    "\n",
    "%load_ext autoreload\n",
    "%autoreload\n",
    "%matplotlib inline\n"
   ]
  },
  {
   "cell_type": "markdown",
   "metadata": {},
   "source": [
    "#### **1. Import data for training**\n",
    "\n",
    "We import our dataset for training. We use a helper function, `build_data_loaders` for this, which allows us to choose between MNIST and CIFAR10. \n",
    "\n",
    "We specify three dictionaries, `hp` = hyperparameters, `data_args` = arguments for dataloading, `devinterp_args` = arguments for LLC and WBIC estimation."
   ]
  },
  {
   "cell_type": "code",
   "execution_count": 50,
   "metadata": {
    "execution": {
     "iopub.execute_input": "2024-04-04T13:33:04.609615Z",
     "iopub.status.busy": "2024-04-04T13:33:04.608572Z",
     "iopub.status.idle": "2024-04-04T13:33:04.620630Z",
     "shell.execute_reply": "2024-04-04T13:33:04.620630Z"
    }
   },
   "outputs": [
    {
     "name": "stdout",
     "output_type": "stream",
     "text": [
      "======HYPERPARAMETERS======\n",
      "{'model_type': 'ffnn',\n",
      " 'experiment_type': 'swap',\n",
      " 'optimizer': 'both',\n",
      " 'hessian': False,\n",
      " 'hidden_nodes': [256],\n",
      " 'hidden_layers': [2],\n",
      " 'hidden_conv_layers': [2],\n",
      " 'cut_off_epochs': 30,\n",
      " 'num_epochs': 80,\n",
      " 'sgd_lr': 0.001,\n",
      " 'ngd_lr': 0.001,\n",
      " 'alpha': 0.1,\n",
      " 'eta': 0.9,\n",
      " 'epsilon': 1e-10,\n",
      " 'delta': 0.0005,\n",
      " 'momentum': 0.9,\n",
      " 'nesterov': True,\n",
      " 'seed': 2}\n",
      "======DATA ARGS======\n",
      "{'batch_size': 128,\n",
      " 'num_workers': 22,\n",
      " 'dataset': 'fashion-mnist',\n",
      " 'num_hessian_batches': 1}\n",
      "======DEVINTERP ARGS======\n",
      "{'sampler': 'sgld',\n",
      " 'num_chains': 2,\n",
      " 'num_draws': 1000,\n",
      " 'localization': 100.0,\n",
      " 'sampler_lr': 0.0001}\n"
     ]
    }
   ],
   "source": [
    "# Load experiment args\n",
    "\n",
    "with open(\"args_ngd_sgd.json\", \"r\") as file:\n",
    "    args = json.load(file) \n",
    "\n",
    "hp, data_args, devinterp_args = args\n",
    "\n",
    "print(\"======HYPERPARAMETERS======\")\n",
    "pprint.pprint(hp, sort_dicts=False)\n",
    "\n",
    "print(\"======DATA ARGS======\")\n",
    "pprint.pprint(data_args, sort_dicts=False)\n",
    "\n",
    "print(\"======DEVINTERP ARGS======\")\n",
    "pprint.pprint(devinterp_args, sort_dicts=False)"
   ]
  },
  {
   "cell_type": "code",
   "execution_count": 51,
   "metadata": {
    "execution": {
     "iopub.execute_input": "2024-04-04T13:33:04.623658Z",
     "iopub.status.busy": "2024-04-04T13:33:04.623658Z",
     "iopub.status.idle": "2024-04-04T13:33:04.635515Z",
     "shell.execute_reply": "2024-04-04T13:33:04.635515Z"
    }
   },
   "outputs": [
    {
     "data": {
      "text/plain": [
       "<torch._C.Generator at 0x7faba5368e50>"
      ]
     },
     "execution_count": 51,
     "metadata": {},
     "output_type": "execute_result"
    }
   ],
   "source": [
    "# Set random seed for weight initialisation (for reproducibility of results and to ensure NGD/SGD start from same point in loss landscape)\n",
    "\n",
    "t.manual_seed(hp[\"seed\"])"
   ]
  },
  {
   "cell_type": "code",
   "execution_count": 52,
   "metadata": {
    "execution": {
     "iopub.execute_input": "2024-04-04T13:33:04.638515Z",
     "iopub.status.busy": "2024-04-04T13:33:04.638515Z",
     "iopub.status.idle": "2024-04-04T13:33:05.773515Z",
     "shell.execute_reply": "2024-04-04T13:33:05.773515Z"
    }
   },
   "outputs": [],
   "source": [
    "train_loader, test_loader = build_data_loaders(data_args)"
   ]
  },
  {
   "cell_type": "markdown",
   "metadata": {},
   "source": [
    "#### **2. Training models**\n",
    "\n",
    "Choose to train either a DNN or CNN.\n",
    "\n",
    "This code produces a dictionary `models` where each key describes the model itself, e.g. \"DNN 4 HL, 256 HN\".\n",
    "\n",
    "The values in this dictionary, iterated over as `model`, are each another dictionary with the optimizer as keys\n",
    "the vakues are then a list containing the model with initial weights. As models are trained, each epoch the trained model will be added to this list so we can record the model history.\n",
    "\n",
    "```\n",
    "models={\n",
    "    \"architecture1\":{\n",
    "        \"optim1\":[epoch0,epoch1],\n",
    "        \"optim2\":[epoch0,epoch1],\n",
    "    },\n",
    "    \"architecture2\":{\n",
    "        \"optim1\":[epoch0,epoch1],\n",
    "        \"optim2\":[epoch0,epoch1],\n",
    "    }\n",
    "}\n",
    "```"
   ]
  },
  {
   "cell_type": "code",
   "execution_count": 53,
   "metadata": {
    "execution": {
     "iopub.execute_input": "2024-04-04T13:33:05.777388Z",
     "iopub.status.busy": "2024-04-04T13:33:05.777388Z",
     "iopub.status.idle": "2024-04-04T13:33:05.883828Z",
     "shell.execute_reply": "2024-04-04T13:33:05.882813Z"
    }
   },
   "outputs": [],
   "source": [
    "# Initialise models dependent on arguments\n",
    "\n",
    "models = {}\n",
    "optimizers = [\"ngd\", \"sgd\"] if hp[\"optimizer\"] == \"both\" else [hp[\"optimizer\"]]\n",
    "\n",
    "if hp[\"model_type\"] == \"ffnn\":\n",
    "    hidden_nodes = hp[\"hidden_nodes\"]\n",
    "    hidden_layers = hp[\"hidden_layers\"]\n",
    "    for hidden_node, hidden_layer in zip(hidden_nodes, hidden_layers):\n",
    "        title = f\"FFNN {hidden_layer} HL, {hidden_node} HN\"\n",
    "        if data_args[\"dataset\"] == \"mnist\" or data_args[\"dataset\"] == \"fashion-mnist\":\n",
    "            model = NeuralNet(relu=True,input_size=28*28,hidden_layers=hidden_layer, hidden_nodes=hidden_node).to(device)\n",
    "        elif data_args[\"dataset\"] == \"cifar10\":\n",
    "            model = NeuralNet(relu=True,input_size=32*32*3,hidden_layers=hidden_layer, hidden_nodes=hidden_node).to(device)\n",
    "        models[title] = {optim : [copy.deepcopy(model)] for optim in optimizers}\n",
    "elif hp[\"model_type\"] == \"dlnn\":\n",
    "    hidden_nodes = hp[\"hidden_nodes\"]\n",
    "    hidden_layers = hp[\"hidden_layers\"]\n",
    "    for hidden_node, hidden_layer in zip(hidden_nodes, hidden_layers):\n",
    "        title = f\"DLNN {hidden_layer} HL, {hidden_node} HN\"\n",
    "        if data_args[\"dataset\"] == \"mnist\" or data_args[\"dataset\"] == \"fashion-mnist\":\n",
    "            model = NeuralNet(relu=False,input_size=28*28,hidden_layers=hidden_layer, hidden_nodes=hidden_node).to(device)\n",
    "        elif data_args[\"dataset\"] == \"cifar10\":\n",
    "            model = NeuralNet(relu=False,input_size=32*32*3,hidden_layers=hidden_layer, hidden_nodes=hidden_node).to(device)\n",
    "        models[title] = {optim : [copy.deepcopy(model)] for optim in optimizers}\n",
    "elif hp[\"model_type\"] == \"cnn\":\n",
    "    hidden_conv_layers = hp[\"hidden_conv_layers\"]\n",
    "    for hidden_conv_layer in hidden_conv_layers:\n",
    "        title = f\"CNN {hidden_conv_layer} HCL\"\n",
    "        if data_args[\"dataset\"] == \"mnist\" or data_args[\"dataset\"] == \"fashion-mnist\":\n",
    "            model = LeNet(dataset=\"mnist\",extra_layers=hidden_conv_layer).to(device)\n",
    "        elif data_args[\"dataset\"] == \"cifar10\":\n",
    "            model = LeNet(dataset=\"cifar10\",extra_layers=hidden_conv_layer).to(device)\n",
    "        models[title] = {optim : [copy.deepcopy(model)] for optim in optimizers}\n"
   ]
  },
  {
   "cell_type": "markdown",
   "metadata": {},
   "source": [
    "If experiment 1, make sure `cutoff_epochs` equal to `num_epochs`"
   ]
  },
  {
   "cell_type": "code",
   "execution_count": 54,
   "metadata": {
    "execution": {
     "iopub.execute_input": "2024-04-04T13:33:05.886828Z",
     "iopub.status.busy": "2024-04-04T13:33:05.886828Z",
     "iopub.status.idle": "2024-04-04T13:50:02.779752Z",
     "shell.execute_reply": "2024-04-04T13:50:02.777621Z"
    }
   },
   "outputs": [],
   "source": [
    "# EXPERIMENT 1: Train models independently for num_epochs with SGD and NGD\n",
    "\n",
    "if hp[\"experiment_type\"] == \"standard\":\n",
    "    train_losses = {}\n",
    "    val_losses = {}\n",
    "    update_norms = {}\n",
    "    all_update_norms = {}\n",
    "\n",
    "    criterion = nn.CrossEntropyLoss()\n",
    "\n",
    "    for title, model in models.items():\n",
    "\n",
    "        # Store list for SGD losses, NGD losses, for train and val\n",
    "        model_train_losses = {optim : [] for optim in optimizers}\n",
    "        model_val_losses = {optim : [] for optim in optimizers}\n",
    "        model_update_norms = {optim : [] for optim in optimizers}\n",
    "        model_all_update_norms = {optim : [] for optim in optimizers}\n",
    "\n",
    "        for optim in optimizers:\n",
    "            state = copy.deepcopy(model[optim][0])\n",
    "            if optim == \"sgd\":\n",
    "                optimizer = t.optim.SGD(\n",
    "                    params=state.parameters(),\n",
    "                    lr=hp[\"sgd_lr\"],\n",
    "                    momentum=hp[\"momentum\"],\n",
    "                    nesterov=hp[\"nesterov\"],\n",
    "                )\n",
    "            elif optim == \"ngd\":\n",
    "                optimizer = NGD(\n",
    "                    params=state.parameters(),\n",
    "                    lr=hp[\"ngd_lr\"],\n",
    "                    alpha=hp[\"alpha\"],\n",
    "                    eta=hp[\"eta\"],\n",
    "                    epsilon=hp[\"epsilon\"],\n",
    "                    delta=hp[\"delta\"],\n",
    "                    momentum=hp[\"momentum\"],\n",
    "                    nesterov=hp[\"nesterov\"],\n",
    "                )\n",
    "            print(f\"TRAINING MODEL: {title} | OPTIMISER: {optim}\")\n",
    "            initial_train_loss = evaluate(state, train_loader, criterion, device)\n",
    "            initial_val_loss = evaluate(state, test_loader, criterion, device)\n",
    "            model_train_losses[optim].append(initial_train_loss)\n",
    "            model_val_losses[optim].append(initial_val_loss)\n",
    "        \n",
    "            for epoch in range(1, hp[\"num_epochs\"]+1):\n",
    "                train_loss, update_norm, _, epoch_update_norms = train_one_epoch(state, train_loader, optimizer, criterion, device)\n",
    "                val_loss = evaluate(state, test_loader, criterion, device)\n",
    "                model_train_losses[optim].append(train_loss)\n",
    "                model_update_norms[optim].append(update_norm)\n",
    "                model_val_losses[optim].append(val_loss)\n",
    "                #note that epoch_update norms is a list with the update_norm of each minibatch, this will concat the list to previous list\n",
    "                model_all_update_norms[optim] += epoch_update_norms\n",
    "                model[optim].append(copy.deepcopy(state))\n",
    "                print(f\"Epoch {epoch}/{hp['num_epochs']}: train_loss={train_loss:.4f}, val_loss={val_loss:.4f}\")\n",
    "\n",
    "        # Save train/val loss dictionaries to the right model key\n",
    "        train_losses[title] = model_train_losses\n",
    "        val_losses[title] = model_val_losses\n",
    "        update_norms[title] = model_update_norms\n",
    "        all_update_norms[title] = model_all_update_norms\n"
   ]
  },
  {
   "cell_type": "markdown",
   "metadata": {},
   "source": [
    "Only run the below cell ONCE, after everytime you run the initialisation cell. Otherwise, you will keep appending models incorrectly."
   ]
  },
  {
   "cell_type": "code",
   "execution_count": 55,
   "metadata": {
    "execution": {
     "iopub.execute_input": "2024-04-04T13:50:02.784827Z",
     "iopub.status.busy": "2024-04-04T13:50:02.783818Z",
     "iopub.status.idle": "2024-04-04T13:50:02.808687Z",
     "shell.execute_reply": "2024-04-04T13:50:02.808687Z"
    }
   },
   "outputs": [
    {
     "name": "stdout",
     "output_type": "stream",
     "text": [
      "TRAINING MODEL: FFNN 2 HL, 256 HN | OPTIMISER: SGD\n"
     ]
    },
    {
     "name": "stderr",
     "output_type": "stream",
     "text": [
      "100%|██████████| 469/469 [00:02<00:00, 210.41it/s]\n"
     ]
    },
    {
     "name": "stdout",
     "output_type": "stream",
     "text": [
      "Epoch 1/80: train_loss=1.2705, val_loss=0.7461\n"
     ]
    },
    {
     "name": "stderr",
     "output_type": "stream",
     "text": [
      "100%|██████████| 469/469 [00:02<00:00, 205.93it/s]\n"
     ]
    },
    {
     "name": "stdout",
     "output_type": "stream",
     "text": [
      "Epoch 2/80: train_loss=0.6507, val_loss=0.6102\n"
     ]
    },
    {
     "name": "stderr",
     "output_type": "stream",
     "text": [
      "100%|██████████| 469/469 [00:02<00:00, 228.12it/s]\n"
     ]
    },
    {
     "name": "stdout",
     "output_type": "stream",
     "text": [
      "Epoch 3/80: train_loss=0.5597, val_loss=0.5498\n"
     ]
    },
    {
     "name": "stderr",
     "output_type": "stream",
     "text": [
      "100%|██████████| 469/469 [00:02<00:00, 220.48it/s]\n"
     ]
    },
    {
     "name": "stdout",
     "output_type": "stream",
     "text": [
      "Epoch 4/80: train_loss=0.5118, val_loss=0.5174\n"
     ]
    },
    {
     "name": "stderr",
     "output_type": "stream",
     "text": [
      "100%|██████████| 469/469 [00:02<00:00, 223.52it/s]\n"
     ]
    },
    {
     "name": "stdout",
     "output_type": "stream",
     "text": [
      "Epoch 5/80: train_loss=0.4819, val_loss=0.4953\n"
     ]
    },
    {
     "name": "stderr",
     "output_type": "stream",
     "text": [
      "100%|██████████| 469/469 [00:02<00:00, 218.56it/s]\n"
     ]
    },
    {
     "name": "stdout",
     "output_type": "stream",
     "text": [
      "Epoch 6/80: train_loss=0.4608, val_loss=0.4841\n"
     ]
    },
    {
     "name": "stderr",
     "output_type": "stream",
     "text": [
      "100%|██████████| 469/469 [00:02<00:00, 211.02it/s]\n"
     ]
    },
    {
     "name": "stdout",
     "output_type": "stream",
     "text": [
      "Epoch 7/80: train_loss=0.4454, val_loss=0.4677\n"
     ]
    },
    {
     "name": "stderr",
     "output_type": "stream",
     "text": [
      "100%|██████████| 469/469 [00:02<00:00, 204.21it/s]\n"
     ]
    },
    {
     "name": "stdout",
     "output_type": "stream",
     "text": [
      "Epoch 8/80: train_loss=0.4323, val_loss=0.4585\n"
     ]
    },
    {
     "name": "stderr",
     "output_type": "stream",
     "text": [
      "100%|██████████| 469/469 [00:02<00:00, 208.79it/s]\n"
     ]
    },
    {
     "name": "stdout",
     "output_type": "stream",
     "text": [
      "Epoch 9/80: train_loss=0.4216, val_loss=0.4493\n"
     ]
    },
    {
     "name": "stderr",
     "output_type": "stream",
     "text": [
      "100%|██████████| 469/469 [00:02<00:00, 208.50it/s]\n"
     ]
    },
    {
     "name": "stdout",
     "output_type": "stream",
     "text": [
      "Epoch 10/80: train_loss=0.4116, val_loss=0.4433\n"
     ]
    },
    {
     "name": "stderr",
     "output_type": "stream",
     "text": [
      "100%|██████████| 469/469 [00:02<00:00, 193.13it/s]\n"
     ]
    },
    {
     "name": "stdout",
     "output_type": "stream",
     "text": [
      "Epoch 11/80: train_loss=0.4027, val_loss=0.4350\n"
     ]
    },
    {
     "name": "stderr",
     "output_type": "stream",
     "text": [
      "100%|██████████| 469/469 [00:02<00:00, 205.03it/s]\n"
     ]
    },
    {
     "name": "stdout",
     "output_type": "stream",
     "text": [
      "Epoch 12/80: train_loss=0.3941, val_loss=0.4259\n"
     ]
    },
    {
     "name": "stderr",
     "output_type": "stream",
     "text": [
      "100%|██████████| 469/469 [00:02<00:00, 209.76it/s]\n"
     ]
    },
    {
     "name": "stdout",
     "output_type": "stream",
     "text": [
      "Epoch 13/80: train_loss=0.3870, val_loss=0.4204\n"
     ]
    },
    {
     "name": "stderr",
     "output_type": "stream",
     "text": [
      "100%|██████████| 469/469 [00:01<00:00, 242.70it/s]\n"
     ]
    },
    {
     "name": "stdout",
     "output_type": "stream",
     "text": [
      "Epoch 14/80: train_loss=0.3806, val_loss=0.4154\n"
     ]
    },
    {
     "name": "stderr",
     "output_type": "stream",
     "text": [
      "100%|██████████| 469/469 [00:02<00:00, 232.13it/s]\n"
     ]
    },
    {
     "name": "stdout",
     "output_type": "stream",
     "text": [
      "Epoch 15/80: train_loss=0.3740, val_loss=0.4115\n"
     ]
    },
    {
     "name": "stderr",
     "output_type": "stream",
     "text": [
      "100%|██████████| 469/469 [00:02<00:00, 212.48it/s]\n"
     ]
    },
    {
     "name": "stdout",
     "output_type": "stream",
     "text": [
      "Epoch 16/80: train_loss=0.3682, val_loss=0.4064\n"
     ]
    },
    {
     "name": "stderr",
     "output_type": "stream",
     "text": [
      "100%|██████████| 469/469 [00:02<00:00, 204.28it/s]\n"
     ]
    },
    {
     "name": "stdout",
     "output_type": "stream",
     "text": [
      "Epoch 17/80: train_loss=0.3629, val_loss=0.3999\n"
     ]
    },
    {
     "name": "stderr",
     "output_type": "stream",
     "text": [
      "100%|██████████| 469/469 [00:02<00:00, 208.30it/s]\n"
     ]
    },
    {
     "name": "stdout",
     "output_type": "stream",
     "text": [
      "Epoch 18/80: train_loss=0.3577, val_loss=0.3968\n"
     ]
    },
    {
     "name": "stderr",
     "output_type": "stream",
     "text": [
      "100%|██████████| 469/469 [00:02<00:00, 200.81it/s]\n"
     ]
    },
    {
     "name": "stdout",
     "output_type": "stream",
     "text": [
      "Epoch 19/80: train_loss=0.3522, val_loss=0.3941\n"
     ]
    },
    {
     "name": "stderr",
     "output_type": "stream",
     "text": [
      "100%|██████████| 469/469 [00:02<00:00, 204.04it/s]\n"
     ]
    },
    {
     "name": "stdout",
     "output_type": "stream",
     "text": [
      "Epoch 20/80: train_loss=0.3472, val_loss=0.3879\n"
     ]
    },
    {
     "name": "stderr",
     "output_type": "stream",
     "text": [
      "100%|██████████| 469/469 [00:02<00:00, 202.92it/s]\n"
     ]
    },
    {
     "name": "stdout",
     "output_type": "stream",
     "text": [
      "Epoch 21/80: train_loss=0.3436, val_loss=0.3849\n"
     ]
    },
    {
     "name": "stderr",
     "output_type": "stream",
     "text": [
      "100%|██████████| 469/469 [00:02<00:00, 213.00it/s]\n"
     ]
    },
    {
     "name": "stdout",
     "output_type": "stream",
     "text": [
      "Epoch 22/80: train_loss=0.3383, val_loss=0.3838\n"
     ]
    },
    {
     "name": "stderr",
     "output_type": "stream",
     "text": [
      "100%|██████████| 469/469 [00:02<00:00, 207.75it/s]\n"
     ]
    },
    {
     "name": "stdout",
     "output_type": "stream",
     "text": [
      "Epoch 23/80: train_loss=0.3344, val_loss=0.3790\n"
     ]
    },
    {
     "name": "stderr",
     "output_type": "stream",
     "text": [
      "100%|██████████| 469/469 [00:02<00:00, 204.94it/s]\n"
     ]
    },
    {
     "name": "stdout",
     "output_type": "stream",
     "text": [
      "Epoch 24/80: train_loss=0.3305, val_loss=0.3803\n"
     ]
    },
    {
     "name": "stderr",
     "output_type": "stream",
     "text": [
      "100%|██████████| 469/469 [00:02<00:00, 210.94it/s]\n"
     ]
    },
    {
     "name": "stdout",
     "output_type": "stream",
     "text": [
      "Epoch 25/80: train_loss=0.3267, val_loss=0.3736\n"
     ]
    },
    {
     "name": "stderr",
     "output_type": "stream",
     "text": [
      "100%|██████████| 469/469 [00:02<00:00, 208.07it/s]\n"
     ]
    },
    {
     "name": "stdout",
     "output_type": "stream",
     "text": [
      "Epoch 26/80: train_loss=0.3233, val_loss=0.3729\n"
     ]
    },
    {
     "name": "stderr",
     "output_type": "stream",
     "text": [
      "100%|██████████| 469/469 [00:02<00:00, 201.66it/s]\n"
     ]
    },
    {
     "name": "stdout",
     "output_type": "stream",
     "text": [
      "Epoch 27/80: train_loss=0.3191, val_loss=0.3713\n"
     ]
    },
    {
     "name": "stderr",
     "output_type": "stream",
     "text": [
      "100%|██████████| 469/469 [00:02<00:00, 218.40it/s]\n"
     ]
    },
    {
     "name": "stdout",
     "output_type": "stream",
     "text": [
      "Epoch 28/80: train_loss=0.3158, val_loss=0.3652\n"
     ]
    },
    {
     "name": "stderr",
     "output_type": "stream",
     "text": [
      "100%|██████████| 469/469 [00:02<00:00, 214.77it/s]\n"
     ]
    },
    {
     "name": "stdout",
     "output_type": "stream",
     "text": [
      "Epoch 29/80: train_loss=0.3123, val_loss=0.3691\n"
     ]
    },
    {
     "name": "stderr",
     "output_type": "stream",
     "text": [
      "100%|██████████| 469/469 [00:02<00:00, 226.60it/s]\n"
     ]
    },
    {
     "name": "stdout",
     "output_type": "stream",
     "text": [
      "Epoch 30/80: train_loss=0.3084, val_loss=0.3647\n",
      "Training from model checkpoint with SGD.\n"
     ]
    },
    {
     "name": "stderr",
     "output_type": "stream",
     "text": [
      "100%|██████████| 469/469 [00:02<00:00, 214.19it/s]\n"
     ]
    },
    {
     "name": "stdout",
     "output_type": "stream",
     "text": [
      "Epoch 31/80: train_loss=0.3060, val_loss=0.3613\n"
     ]
    },
    {
     "name": "stderr",
     "output_type": "stream",
     "text": [
      "100%|██████████| 469/469 [00:02<00:00, 209.33it/s]\n"
     ]
    },
    {
     "name": "stdout",
     "output_type": "stream",
     "text": [
      "Epoch 32/80: train_loss=0.3027, val_loss=0.3573\n"
     ]
    },
    {
     "name": "stderr",
     "output_type": "stream",
     "text": [
      "100%|██████████| 469/469 [00:02<00:00, 209.92it/s]\n"
     ]
    },
    {
     "name": "stdout",
     "output_type": "stream",
     "text": [
      "Epoch 33/80: train_loss=0.2996, val_loss=0.3596\n"
     ]
    },
    {
     "name": "stderr",
     "output_type": "stream",
     "text": [
      "100%|██████████| 469/469 [00:02<00:00, 208.10it/s]\n"
     ]
    },
    {
     "name": "stdout",
     "output_type": "stream",
     "text": [
      "Epoch 34/80: train_loss=0.2969, val_loss=0.3567\n"
     ]
    },
    {
     "name": "stderr",
     "output_type": "stream",
     "text": [
      "100%|██████████| 469/469 [00:02<00:00, 207.39it/s]\n"
     ]
    },
    {
     "name": "stdout",
     "output_type": "stream",
     "text": [
      "Epoch 35/80: train_loss=0.2928, val_loss=0.3585\n"
     ]
    },
    {
     "name": "stderr",
     "output_type": "stream",
     "text": [
      "100%|██████████| 469/469 [00:02<00:00, 216.39it/s]\n"
     ]
    },
    {
     "name": "stdout",
     "output_type": "stream",
     "text": [
      "Epoch 36/80: train_loss=0.2895, val_loss=0.3524\n"
     ]
    },
    {
     "name": "stderr",
     "output_type": "stream",
     "text": [
      "100%|██████████| 469/469 [00:02<00:00, 206.69it/s]\n"
     ]
    },
    {
     "name": "stdout",
     "output_type": "stream",
     "text": [
      "Epoch 37/80: train_loss=0.2869, val_loss=0.3543\n"
     ]
    },
    {
     "name": "stderr",
     "output_type": "stream",
     "text": [
      "100%|██████████| 469/469 [00:02<00:00, 201.87it/s]\n"
     ]
    },
    {
     "name": "stdout",
     "output_type": "stream",
     "text": [
      "Epoch 38/80: train_loss=0.2843, val_loss=0.3546\n"
     ]
    },
    {
     "name": "stderr",
     "output_type": "stream",
     "text": [
      "100%|██████████| 469/469 [00:02<00:00, 201.56it/s]\n"
     ]
    },
    {
     "name": "stdout",
     "output_type": "stream",
     "text": [
      "Epoch 39/80: train_loss=0.2818, val_loss=0.3481\n"
     ]
    },
    {
     "name": "stderr",
     "output_type": "stream",
     "text": [
      "100%|██████████| 469/469 [00:02<00:00, 231.37it/s]\n"
     ]
    },
    {
     "name": "stdout",
     "output_type": "stream",
     "text": [
      "Epoch 40/80: train_loss=0.2788, val_loss=0.3460\n"
     ]
    },
    {
     "name": "stderr",
     "output_type": "stream",
     "text": [
      "100%|██████████| 469/469 [00:02<00:00, 221.12it/s]\n"
     ]
    },
    {
     "name": "stdout",
     "output_type": "stream",
     "text": [
      "Epoch 41/80: train_loss=0.2760, val_loss=0.3525\n"
     ]
    },
    {
     "name": "stderr",
     "output_type": "stream",
     "text": [
      "100%|██████████| 469/469 [00:02<00:00, 216.41it/s]\n"
     ]
    },
    {
     "name": "stdout",
     "output_type": "stream",
     "text": [
      "Epoch 42/80: train_loss=0.2735, val_loss=0.3453\n"
     ]
    },
    {
     "name": "stderr",
     "output_type": "stream",
     "text": [
      "100%|██████████| 469/469 [00:02<00:00, 214.45it/s]\n"
     ]
    },
    {
     "name": "stdout",
     "output_type": "stream",
     "text": [
      "Epoch 43/80: train_loss=0.2704, val_loss=0.3428\n"
     ]
    },
    {
     "name": "stderr",
     "output_type": "stream",
     "text": [
      "100%|██████████| 469/469 [00:02<00:00, 204.44it/s]\n"
     ]
    },
    {
     "name": "stdout",
     "output_type": "stream",
     "text": [
      "Epoch 44/80: train_loss=0.2685, val_loss=0.3432\n"
     ]
    },
    {
     "name": "stderr",
     "output_type": "stream",
     "text": [
      "100%|██████████| 469/469 [00:02<00:00, 207.82it/s]\n"
     ]
    },
    {
     "name": "stdout",
     "output_type": "stream",
     "text": [
      "Epoch 45/80: train_loss=0.2652, val_loss=0.3420\n"
     ]
    },
    {
     "name": "stderr",
     "output_type": "stream",
     "text": [
      "100%|██████████| 469/469 [00:02<00:00, 217.00it/s]\n"
     ]
    },
    {
     "name": "stdout",
     "output_type": "stream",
     "text": [
      "Epoch 46/80: train_loss=0.2631, val_loss=0.3393\n"
     ]
    },
    {
     "name": "stderr",
     "output_type": "stream",
     "text": [
      "100%|██████████| 469/469 [00:02<00:00, 207.32it/s]\n"
     ]
    },
    {
     "name": "stdout",
     "output_type": "stream",
     "text": [
      "Epoch 47/80: train_loss=0.2605, val_loss=0.3378\n"
     ]
    },
    {
     "name": "stderr",
     "output_type": "stream",
     "text": [
      "100%|██████████| 469/469 [00:02<00:00, 205.66it/s]\n"
     ]
    },
    {
     "name": "stdout",
     "output_type": "stream",
     "text": [
      "Epoch 48/80: train_loss=0.2574, val_loss=0.3344\n"
     ]
    },
    {
     "name": "stderr",
     "output_type": "stream",
     "text": [
      "100%|██████████| 469/469 [00:02<00:00, 218.99it/s]\n"
     ]
    },
    {
     "name": "stdout",
     "output_type": "stream",
     "text": [
      "Epoch 49/80: train_loss=0.2551, val_loss=0.3367\n"
     ]
    },
    {
     "name": "stderr",
     "output_type": "stream",
     "text": [
      "100%|██████████| 469/469 [00:02<00:00, 216.89it/s]\n"
     ]
    },
    {
     "name": "stdout",
     "output_type": "stream",
     "text": [
      "Epoch 50/80: train_loss=0.2527, val_loss=0.3379\n"
     ]
    },
    {
     "name": "stderr",
     "output_type": "stream",
     "text": [
      "100%|██████████| 469/469 [00:02<00:00, 222.67it/s]\n"
     ]
    },
    {
     "name": "stdout",
     "output_type": "stream",
     "text": [
      "Epoch 51/80: train_loss=0.2505, val_loss=0.3357\n"
     ]
    },
    {
     "name": "stderr",
     "output_type": "stream",
     "text": [
      "100%|██████████| 469/469 [00:02<00:00, 216.23it/s]\n"
     ]
    },
    {
     "name": "stdout",
     "output_type": "stream",
     "text": [
      "Epoch 52/80: train_loss=0.2480, val_loss=0.3334\n"
     ]
    },
    {
     "name": "stderr",
     "output_type": "stream",
     "text": [
      "100%|██████████| 469/469 [00:02<00:00, 217.59it/s]\n"
     ]
    },
    {
     "name": "stdout",
     "output_type": "stream",
     "text": [
      "Epoch 53/80: train_loss=0.2452, val_loss=0.3394\n"
     ]
    },
    {
     "name": "stderr",
     "output_type": "stream",
     "text": [
      "100%|██████████| 469/469 [00:02<00:00, 214.59it/s]\n"
     ]
    },
    {
     "name": "stdout",
     "output_type": "stream",
     "text": [
      "Epoch 54/80: train_loss=0.2430, val_loss=0.3298\n"
     ]
    },
    {
     "name": "stderr",
     "output_type": "stream",
     "text": [
      "100%|██████████| 469/469 [00:02<00:00, 213.10it/s]\n"
     ]
    },
    {
     "name": "stdout",
     "output_type": "stream",
     "text": [
      "Epoch 55/80: train_loss=0.2408, val_loss=0.3336\n"
     ]
    },
    {
     "name": "stderr",
     "output_type": "stream",
     "text": [
      "100%|██████████| 469/469 [00:02<00:00, 208.58it/s]\n"
     ]
    },
    {
     "name": "stdout",
     "output_type": "stream",
     "text": [
      "Epoch 56/80: train_loss=0.2393, val_loss=0.3310\n"
     ]
    },
    {
     "name": "stderr",
     "output_type": "stream",
     "text": [
      "100%|██████████| 469/469 [00:02<00:00, 209.09it/s]\n"
     ]
    },
    {
     "name": "stdout",
     "output_type": "stream",
     "text": [
      "Epoch 57/80: train_loss=0.2366, val_loss=0.3360\n"
     ]
    },
    {
     "name": "stderr",
     "output_type": "stream",
     "text": [
      "100%|██████████| 469/469 [00:02<00:00, 208.44it/s]\n"
     ]
    },
    {
     "name": "stdout",
     "output_type": "stream",
     "text": [
      "Epoch 58/80: train_loss=0.2341, val_loss=0.3371\n"
     ]
    },
    {
     "name": "stderr",
     "output_type": "stream",
     "text": [
      "100%|██████████| 469/469 [00:02<00:00, 205.87it/s]\n"
     ]
    },
    {
     "name": "stdout",
     "output_type": "stream",
     "text": [
      "Epoch 59/80: train_loss=0.2323, val_loss=0.3369\n"
     ]
    },
    {
     "name": "stderr",
     "output_type": "stream",
     "text": [
      "100%|██████████| 469/469 [00:02<00:00, 199.78it/s]\n"
     ]
    },
    {
     "name": "stdout",
     "output_type": "stream",
     "text": [
      "Epoch 60/80: train_loss=0.2295, val_loss=0.3259\n"
     ]
    },
    {
     "name": "stderr",
     "output_type": "stream",
     "text": [
      "100%|██████████| 469/469 [00:02<00:00, 185.97it/s]\n"
     ]
    },
    {
     "name": "stdout",
     "output_type": "stream",
     "text": [
      "Epoch 61/80: train_loss=0.2275, val_loss=0.3292\n"
     ]
    },
    {
     "name": "stderr",
     "output_type": "stream",
     "text": [
      "100%|██████████| 469/469 [00:02<00:00, 181.41it/s]\n"
     ]
    },
    {
     "name": "stdout",
     "output_type": "stream",
     "text": [
      "Epoch 62/80: train_loss=0.2250, val_loss=0.3283\n"
     ]
    },
    {
     "name": "stderr",
     "output_type": "stream",
     "text": [
      "100%|██████████| 469/469 [00:02<00:00, 188.41it/s]\n"
     ]
    },
    {
     "name": "stdout",
     "output_type": "stream",
     "text": [
      "Epoch 63/80: train_loss=0.2225, val_loss=0.3308\n"
     ]
    },
    {
     "name": "stderr",
     "output_type": "stream",
     "text": [
      "100%|██████████| 469/469 [00:02<00:00, 201.07it/s]\n"
     ]
    },
    {
     "name": "stdout",
     "output_type": "stream",
     "text": [
      "Epoch 64/80: train_loss=0.2206, val_loss=0.3254\n"
     ]
    },
    {
     "name": "stderr",
     "output_type": "stream",
     "text": [
      "100%|██████████| 469/469 [00:02<00:00, 198.84it/s]\n"
     ]
    },
    {
     "name": "stdout",
     "output_type": "stream",
     "text": [
      "Epoch 65/80: train_loss=0.2182, val_loss=0.3322\n"
     ]
    },
    {
     "name": "stderr",
     "output_type": "stream",
     "text": [
      "100%|██████████| 469/469 [00:02<00:00, 212.21it/s]\n"
     ]
    },
    {
     "name": "stdout",
     "output_type": "stream",
     "text": [
      "Epoch 66/80: train_loss=0.2162, val_loss=0.3299\n"
     ]
    },
    {
     "name": "stderr",
     "output_type": "stream",
     "text": [
      "100%|██████████| 469/469 [00:02<00:00, 204.43it/s]\n"
     ]
    },
    {
     "name": "stdout",
     "output_type": "stream",
     "text": [
      "Epoch 67/80: train_loss=0.2144, val_loss=0.3264\n"
     ]
    },
    {
     "name": "stderr",
     "output_type": "stream",
     "text": [
      "100%|██████████| 469/469 [00:02<00:00, 198.40it/s]\n"
     ]
    },
    {
     "name": "stdout",
     "output_type": "stream",
     "text": [
      "Epoch 68/80: train_loss=0.2118, val_loss=0.3276\n"
     ]
    },
    {
     "name": "stderr",
     "output_type": "stream",
     "text": [
      "100%|██████████| 469/469 [00:02<00:00, 201.59it/s]\n"
     ]
    },
    {
     "name": "stdout",
     "output_type": "stream",
     "text": [
      "Epoch 69/80: train_loss=0.2098, val_loss=0.3244\n"
     ]
    },
    {
     "name": "stderr",
     "output_type": "stream",
     "text": [
      "100%|██████████| 469/469 [00:02<00:00, 199.37it/s]\n"
     ]
    },
    {
     "name": "stdout",
     "output_type": "stream",
     "text": [
      "Epoch 70/80: train_loss=0.2076, val_loss=0.3230\n"
     ]
    },
    {
     "name": "stderr",
     "output_type": "stream",
     "text": [
      "100%|██████████| 469/469 [00:02<00:00, 196.09it/s]\n"
     ]
    },
    {
     "name": "stdout",
     "output_type": "stream",
     "text": [
      "Epoch 71/80: train_loss=0.2063, val_loss=0.3273\n"
     ]
    },
    {
     "name": "stderr",
     "output_type": "stream",
     "text": [
      "100%|██████████| 469/469 [00:02<00:00, 211.29it/s]\n"
     ]
    },
    {
     "name": "stdout",
     "output_type": "stream",
     "text": [
      "Epoch 72/80: train_loss=0.2044, val_loss=0.3300\n"
     ]
    },
    {
     "name": "stderr",
     "output_type": "stream",
     "text": [
      "100%|██████████| 469/469 [00:02<00:00, 215.47it/s]\n"
     ]
    },
    {
     "name": "stdout",
     "output_type": "stream",
     "text": [
      "Epoch 73/80: train_loss=0.2019, val_loss=0.3233\n"
     ]
    },
    {
     "name": "stderr",
     "output_type": "stream",
     "text": [
      "100%|██████████| 469/469 [00:02<00:00, 203.05it/s]\n"
     ]
    },
    {
     "name": "stdout",
     "output_type": "stream",
     "text": [
      "Epoch 74/80: train_loss=0.1994, val_loss=0.3295\n"
     ]
    },
    {
     "name": "stderr",
     "output_type": "stream",
     "text": [
      "100%|██████████| 469/469 [00:02<00:00, 215.55it/s]\n"
     ]
    },
    {
     "name": "stdout",
     "output_type": "stream",
     "text": [
      "Epoch 75/80: train_loss=0.1981, val_loss=0.3238\n"
     ]
    },
    {
     "name": "stderr",
     "output_type": "stream",
     "text": [
      "100%|██████████| 469/469 [00:02<00:00, 205.16it/s]\n"
     ]
    },
    {
     "name": "stdout",
     "output_type": "stream",
     "text": [
      "Epoch 76/80: train_loss=0.1948, val_loss=0.3338\n"
     ]
    },
    {
     "name": "stderr",
     "output_type": "stream",
     "text": [
      "100%|██████████| 469/469 [00:02<00:00, 218.98it/s]\n"
     ]
    },
    {
     "name": "stdout",
     "output_type": "stream",
     "text": [
      "Epoch 77/80: train_loss=0.1931, val_loss=0.3295\n"
     ]
    },
    {
     "name": "stderr",
     "output_type": "stream",
     "text": [
      "100%|██████████| 469/469 [00:02<00:00, 210.38it/s]\n"
     ]
    },
    {
     "name": "stdout",
     "output_type": "stream",
     "text": [
      "Epoch 78/80: train_loss=0.1916, val_loss=0.3252\n"
     ]
    },
    {
     "name": "stderr",
     "output_type": "stream",
     "text": [
      "100%|██████████| 469/469 [00:02<00:00, 200.98it/s]\n"
     ]
    },
    {
     "name": "stdout",
     "output_type": "stream",
     "text": [
      "Epoch 79/80: train_loss=0.1898, val_loss=0.3309\n"
     ]
    },
    {
     "name": "stderr",
     "output_type": "stream",
     "text": [
      "100%|██████████| 469/469 [00:02<00:00, 205.15it/s]\n"
     ]
    },
    {
     "name": "stdout",
     "output_type": "stream",
     "text": [
      "Epoch 80/80: train_loss=0.1879, val_loss=0.3240\n",
      "Training from model checkpoint with NGD.\n"
     ]
    },
    {
     "name": "stderr",
     "output_type": "stream",
     "text": [
      "100%|██████████| 469/469 [00:05<00:00, 81.95it/s]\n"
     ]
    },
    {
     "name": "stdout",
     "output_type": "stream",
     "text": [
      "Epoch 31/80: train_loss=0.3021, val_loss=0.3578\n"
     ]
    },
    {
     "name": "stderr",
     "output_type": "stream",
     "text": [
      "100%|██████████| 469/469 [00:05<00:00, 84.80it/s]\n"
     ]
    },
    {
     "name": "stdout",
     "output_type": "stream",
     "text": [
      "Epoch 32/80: train_loss=0.2960, val_loss=0.3562\n"
     ]
    },
    {
     "name": "stderr",
     "output_type": "stream",
     "text": [
      "100%|██████████| 469/469 [00:05<00:00, 80.07it/s]\n"
     ]
    },
    {
     "name": "stdout",
     "output_type": "stream",
     "text": [
      "Epoch 33/80: train_loss=0.2925, val_loss=0.3543\n"
     ]
    },
    {
     "name": "stderr",
     "output_type": "stream",
     "text": [
      "100%|██████████| 469/469 [00:05<00:00, 80.12it/s]\n"
     ]
    },
    {
     "name": "stdout",
     "output_type": "stream",
     "text": [
      "Epoch 34/80: train_loss=0.2888, val_loss=0.3524\n"
     ]
    },
    {
     "name": "stderr",
     "output_type": "stream",
     "text": [
      "100%|██████████| 469/469 [00:05<00:00, 82.79it/s]\n"
     ]
    },
    {
     "name": "stdout",
     "output_type": "stream",
     "text": [
      "Epoch 35/80: train_loss=0.2856, val_loss=0.3510\n"
     ]
    },
    {
     "name": "stderr",
     "output_type": "stream",
     "text": [
      "100%|██████████| 469/469 [00:05<00:00, 81.36it/s]\n"
     ]
    },
    {
     "name": "stdout",
     "output_type": "stream",
     "text": [
      "Epoch 36/80: train_loss=0.2818, val_loss=0.3495\n"
     ]
    },
    {
     "name": "stderr",
     "output_type": "stream",
     "text": [
      "100%|██████████| 469/469 [00:05<00:00, 85.32it/s]\n"
     ]
    },
    {
     "name": "stdout",
     "output_type": "stream",
     "text": [
      "Epoch 37/80: train_loss=0.2785, val_loss=0.3483\n"
     ]
    },
    {
     "name": "stderr",
     "output_type": "stream",
     "text": [
      "100%|██████████| 469/469 [00:05<00:00, 80.20it/s]\n"
     ]
    },
    {
     "name": "stdout",
     "output_type": "stream",
     "text": [
      "Epoch 38/80: train_loss=0.2751, val_loss=0.3467\n"
     ]
    },
    {
     "name": "stderr",
     "output_type": "stream",
     "text": [
      "100%|██████████| 469/469 [00:05<00:00, 86.51it/s]\n"
     ]
    },
    {
     "name": "stdout",
     "output_type": "stream",
     "text": [
      "Epoch 39/80: train_loss=0.2717, val_loss=0.3447\n"
     ]
    },
    {
     "name": "stderr",
     "output_type": "stream",
     "text": [
      "100%|██████████| 469/469 [00:05<00:00, 89.07it/s]\n"
     ]
    },
    {
     "name": "stdout",
     "output_type": "stream",
     "text": [
      "Epoch 40/80: train_loss=0.2684, val_loss=0.3427\n"
     ]
    },
    {
     "name": "stderr",
     "output_type": "stream",
     "text": [
      "100%|██████████| 469/469 [00:05<00:00, 88.58it/s]\n"
     ]
    },
    {
     "name": "stdout",
     "output_type": "stream",
     "text": [
      "Epoch 41/80: train_loss=0.2647, val_loss=0.3411\n"
     ]
    },
    {
     "name": "stderr",
     "output_type": "stream",
     "text": [
      "100%|██████████| 469/469 [00:05<00:00, 87.10it/s]\n"
     ]
    },
    {
     "name": "stdout",
     "output_type": "stream",
     "text": [
      "Epoch 42/80: train_loss=0.2612, val_loss=0.3393\n"
     ]
    },
    {
     "name": "stderr",
     "output_type": "stream",
     "text": [
      "100%|██████████| 469/469 [00:05<00:00, 85.40it/s]\n"
     ]
    },
    {
     "name": "stdout",
     "output_type": "stream",
     "text": [
      "Epoch 43/80: train_loss=0.2581, val_loss=0.3374\n"
     ]
    },
    {
     "name": "stderr",
     "output_type": "stream",
     "text": [
      "100%|██████████| 469/469 [00:05<00:00, 87.27it/s]\n"
     ]
    },
    {
     "name": "stdout",
     "output_type": "stream",
     "text": [
      "Epoch 44/80: train_loss=0.2546, val_loss=0.3362\n"
     ]
    },
    {
     "name": "stderr",
     "output_type": "stream",
     "text": [
      "100%|██████████| 469/469 [00:05<00:00, 88.17it/s]\n"
     ]
    },
    {
     "name": "stdout",
     "output_type": "stream",
     "text": [
      "Epoch 45/80: train_loss=0.2515, val_loss=0.3358\n"
     ]
    },
    {
     "name": "stderr",
     "output_type": "stream",
     "text": [
      "100%|██████████| 469/469 [00:05<00:00, 91.07it/s]\n"
     ]
    },
    {
     "name": "stdout",
     "output_type": "stream",
     "text": [
      "Epoch 46/80: train_loss=0.2484, val_loss=0.3344\n"
     ]
    },
    {
     "name": "stderr",
     "output_type": "stream",
     "text": [
      "100%|██████████| 469/469 [00:05<00:00, 86.25it/s]\n"
     ]
    },
    {
     "name": "stdout",
     "output_type": "stream",
     "text": [
      "Epoch 47/80: train_loss=0.2454, val_loss=0.3329\n"
     ]
    },
    {
     "name": "stderr",
     "output_type": "stream",
     "text": [
      "100%|██████████| 469/469 [00:05<00:00, 86.45it/s]\n"
     ]
    },
    {
     "name": "stdout",
     "output_type": "stream",
     "text": [
      "Epoch 48/80: train_loss=0.2424, val_loss=0.3315\n"
     ]
    },
    {
     "name": "stderr",
     "output_type": "stream",
     "text": [
      "100%|██████████| 469/469 [00:05<00:00, 85.69it/s]\n"
     ]
    },
    {
     "name": "stdout",
     "output_type": "stream",
     "text": [
      "Epoch 49/80: train_loss=0.2390, val_loss=0.3303\n"
     ]
    },
    {
     "name": "stderr",
     "output_type": "stream",
     "text": [
      "100%|██████████| 469/469 [00:05<00:00, 83.34it/s]\n"
     ]
    },
    {
     "name": "stdout",
     "output_type": "stream",
     "text": [
      "Epoch 50/80: train_loss=0.2356, val_loss=0.3286\n"
     ]
    },
    {
     "name": "stderr",
     "output_type": "stream",
     "text": [
      "100%|██████████| 469/469 [00:05<00:00, 86.51it/s]\n"
     ]
    },
    {
     "name": "stdout",
     "output_type": "stream",
     "text": [
      "Epoch 51/80: train_loss=0.2326, val_loss=0.3268\n"
     ]
    },
    {
     "name": "stderr",
     "output_type": "stream",
     "text": [
      "100%|██████████| 469/469 [00:05<00:00, 86.03it/s]\n"
     ]
    },
    {
     "name": "stdout",
     "output_type": "stream",
     "text": [
      "Epoch 52/80: train_loss=0.2297, val_loss=0.3255\n"
     ]
    },
    {
     "name": "stderr",
     "output_type": "stream",
     "text": [
      "100%|██████████| 469/469 [00:05<00:00, 82.74it/s]\n"
     ]
    },
    {
     "name": "stdout",
     "output_type": "stream",
     "text": [
      "Epoch 53/80: train_loss=0.2264, val_loss=0.3246\n"
     ]
    },
    {
     "name": "stderr",
     "output_type": "stream",
     "text": [
      "100%|██████████| 469/469 [00:05<00:00, 84.98it/s]\n"
     ]
    },
    {
     "name": "stdout",
     "output_type": "stream",
     "text": [
      "Epoch 54/80: train_loss=0.2234, val_loss=0.3241\n"
     ]
    },
    {
     "name": "stderr",
     "output_type": "stream",
     "text": [
      "100%|██████████| 469/469 [00:05<00:00, 85.59it/s]\n"
     ]
    },
    {
     "name": "stdout",
     "output_type": "stream",
     "text": [
      "Epoch 55/80: train_loss=0.2204, val_loss=0.3231\n"
     ]
    },
    {
     "name": "stderr",
     "output_type": "stream",
     "text": [
      "100%|██████████| 469/469 [00:05<00:00, 85.55it/s]\n"
     ]
    },
    {
     "name": "stdout",
     "output_type": "stream",
     "text": [
      "Epoch 56/80: train_loss=0.2171, val_loss=0.3215\n"
     ]
    },
    {
     "name": "stderr",
     "output_type": "stream",
     "text": [
      "100%|██████████| 469/469 [00:05<00:00, 86.21it/s]\n"
     ]
    },
    {
     "name": "stdout",
     "output_type": "stream",
     "text": [
      "Epoch 57/80: train_loss=0.2140, val_loss=0.3215\n"
     ]
    },
    {
     "name": "stderr",
     "output_type": "stream",
     "text": [
      "100%|██████████| 469/469 [00:05<00:00, 83.76it/s]\n"
     ]
    },
    {
     "name": "stdout",
     "output_type": "stream",
     "text": [
      "Epoch 58/80: train_loss=0.2110, val_loss=0.3207\n"
     ]
    },
    {
     "name": "stderr",
     "output_type": "stream",
     "text": [
      "100%|██████████| 469/469 [00:06<00:00, 76.62it/s]\n"
     ]
    },
    {
     "name": "stdout",
     "output_type": "stream",
     "text": [
      "Epoch 59/80: train_loss=0.2082, val_loss=0.3197\n"
     ]
    },
    {
     "name": "stderr",
     "output_type": "stream",
     "text": [
      "100%|██████████| 469/469 [00:05<00:00, 81.34it/s]\n"
     ]
    },
    {
     "name": "stdout",
     "output_type": "stream",
     "text": [
      "Epoch 60/80: train_loss=0.2053, val_loss=0.3197\n"
     ]
    },
    {
     "name": "stderr",
     "output_type": "stream",
     "text": [
      "100%|██████████| 469/469 [00:05<00:00, 84.10it/s]\n"
     ]
    },
    {
     "name": "stdout",
     "output_type": "stream",
     "text": [
      "Epoch 61/80: train_loss=0.2021, val_loss=0.3188\n"
     ]
    },
    {
     "name": "stderr",
     "output_type": "stream",
     "text": [
      "100%|██████████| 469/469 [00:05<00:00, 86.08it/s]\n"
     ]
    },
    {
     "name": "stdout",
     "output_type": "stream",
     "text": [
      "Epoch 62/80: train_loss=0.1995, val_loss=0.3183\n"
     ]
    },
    {
     "name": "stderr",
     "output_type": "stream",
     "text": [
      "100%|██████████| 469/469 [00:05<00:00, 87.12it/s]\n"
     ]
    },
    {
     "name": "stdout",
     "output_type": "stream",
     "text": [
      "Epoch 63/80: train_loss=0.1965, val_loss=0.3173\n"
     ]
    },
    {
     "name": "stderr",
     "output_type": "stream",
     "text": [
      "100%|██████████| 469/469 [00:05<00:00, 88.84it/s]\n"
     ]
    },
    {
     "name": "stdout",
     "output_type": "stream",
     "text": [
      "Epoch 64/80: train_loss=0.1937, val_loss=0.3168\n"
     ]
    },
    {
     "name": "stderr",
     "output_type": "stream",
     "text": [
      "100%|██████████| 469/469 [00:05<00:00, 89.13it/s]\n"
     ]
    },
    {
     "name": "stdout",
     "output_type": "stream",
     "text": [
      "Epoch 65/80: train_loss=0.1905, val_loss=0.3166\n"
     ]
    },
    {
     "name": "stderr",
     "output_type": "stream",
     "text": [
      "100%|██████████| 469/469 [00:05<00:00, 88.88it/s]\n"
     ]
    },
    {
     "name": "stdout",
     "output_type": "stream",
     "text": [
      "Epoch 66/80: train_loss=0.1880, val_loss=0.3148\n"
     ]
    },
    {
     "name": "stderr",
     "output_type": "stream",
     "text": [
      "100%|██████████| 469/469 [00:05<00:00, 85.42it/s]\n"
     ]
    },
    {
     "name": "stdout",
     "output_type": "stream",
     "text": [
      "Epoch 67/80: train_loss=0.1850, val_loss=0.3144\n"
     ]
    },
    {
     "name": "stderr",
     "output_type": "stream",
     "text": [
      "100%|██████████| 469/469 [00:05<00:00, 87.16it/s]\n"
     ]
    },
    {
     "name": "stdout",
     "output_type": "stream",
     "text": [
      "Epoch 68/80: train_loss=0.1826, val_loss=0.3135\n"
     ]
    },
    {
     "name": "stderr",
     "output_type": "stream",
     "text": [
      "100%|██████████| 469/469 [00:05<00:00, 89.75it/s]\n"
     ]
    },
    {
     "name": "stdout",
     "output_type": "stream",
     "text": [
      "Epoch 69/80: train_loss=0.1797, val_loss=0.3134\n"
     ]
    },
    {
     "name": "stderr",
     "output_type": "stream",
     "text": [
      "100%|██████████| 469/469 [00:05<00:00, 88.39it/s]\n"
     ]
    },
    {
     "name": "stdout",
     "output_type": "stream",
     "text": [
      "Epoch 70/80: train_loss=0.1768, val_loss=0.3126\n"
     ]
    },
    {
     "name": "stderr",
     "output_type": "stream",
     "text": [
      "100%|██████████| 469/469 [00:05<00:00, 87.72it/s]\n"
     ]
    },
    {
     "name": "stdout",
     "output_type": "stream",
     "text": [
      "Epoch 71/80: train_loss=0.1742, val_loss=0.3130\n"
     ]
    },
    {
     "name": "stderr",
     "output_type": "stream",
     "text": [
      "100%|██████████| 469/469 [00:05<00:00, 85.92it/s]\n"
     ]
    },
    {
     "name": "stdout",
     "output_type": "stream",
     "text": [
      "Epoch 72/80: train_loss=0.1713, val_loss=0.3120\n"
     ]
    },
    {
     "name": "stderr",
     "output_type": "stream",
     "text": [
      "100%|██████████| 469/469 [00:05<00:00, 86.00it/s]\n"
     ]
    },
    {
     "name": "stdout",
     "output_type": "stream",
     "text": [
      "Epoch 73/80: train_loss=0.1687, val_loss=0.3118\n"
     ]
    },
    {
     "name": "stderr",
     "output_type": "stream",
     "text": [
      "100%|██████████| 469/469 [00:05<00:00, 80.51it/s]\n"
     ]
    },
    {
     "name": "stdout",
     "output_type": "stream",
     "text": [
      "Epoch 74/80: train_loss=0.1658, val_loss=0.3127\n"
     ]
    },
    {
     "name": "stderr",
     "output_type": "stream",
     "text": [
      "100%|██████████| 469/469 [00:05<00:00, 85.69it/s]\n"
     ]
    },
    {
     "name": "stdout",
     "output_type": "stream",
     "text": [
      "Epoch 75/80: train_loss=0.1627, val_loss=0.3138\n"
     ]
    },
    {
     "name": "stderr",
     "output_type": "stream",
     "text": [
      "100%|██████████| 469/469 [00:05<00:00, 83.47it/s]\n"
     ]
    },
    {
     "name": "stdout",
     "output_type": "stream",
     "text": [
      "Epoch 76/80: train_loss=0.1602, val_loss=0.3124\n"
     ]
    },
    {
     "name": "stderr",
     "output_type": "stream",
     "text": [
      "100%|██████████| 469/469 [00:05<00:00, 83.33it/s]\n"
     ]
    },
    {
     "name": "stdout",
     "output_type": "stream",
     "text": [
      "Epoch 77/80: train_loss=0.1575, val_loss=0.3123\n"
     ]
    },
    {
     "name": "stderr",
     "output_type": "stream",
     "text": [
      "100%|██████████| 469/469 [00:05<00:00, 86.10it/s]\n"
     ]
    },
    {
     "name": "stdout",
     "output_type": "stream",
     "text": [
      "Epoch 78/80: train_loss=0.1549, val_loss=0.3124\n"
     ]
    },
    {
     "name": "stderr",
     "output_type": "stream",
     "text": [
      "100%|██████████| 469/469 [00:05<00:00, 86.87it/s]\n"
     ]
    },
    {
     "name": "stdout",
     "output_type": "stream",
     "text": [
      "Epoch 79/80: train_loss=0.1520, val_loss=0.3115\n"
     ]
    },
    {
     "name": "stderr",
     "output_type": "stream",
     "text": [
      "100%|██████████| 469/469 [00:05<00:00, 87.59it/s]\n"
     ]
    },
    {
     "name": "stdout",
     "output_type": "stream",
     "text": [
      "Epoch 80/80: train_loss=0.1494, val_loss=0.3115\n"
     ]
    }
   ],
   "source": [
    "# EXPERIMENT 2: Train to convergence with SGD, then continue with SGD and NGD and compare\n",
    "\n",
    "if hp[\"experiment_type\"] == \"swap\":\n",
    "    train_losses = {}\n",
    "    val_losses = {}\n",
    "    update_norms = {}\n",
    "    all_update_norms = {}\n",
    "\n",
    "    criterion = nn.CrossEntropyLoss()\n",
    "\n",
    "    for title, model in models.items():\n",
    "        \n",
    "        #delete the first model for NGD as we recycle the SGD stuff\n",
    "        #del model[\"ngd\"][0]\n",
    "        #replace this first model with a bunch of Nones\n",
    "        model[\"ngd\"]=[None for i in range(hp[\"cut_off_epochs\"]+1)]\n",
    "\n",
    "        #fill in first few with None, for NGD\n",
    "        model_train_losses = {\"sgd\" : [], \"ngd\" : [None for i in range(hp[\"cut_off_epochs\"]+1)]}\n",
    "        model_val_losses = {\"sgd\" : [], \"ngd\" : [None for i in range(hp[\"cut_off_epochs\"]+1)]}\n",
    "        model_update_norms = {\"sgd\" : [], \"ngd\" : [None for i in range(hp[\"cut_off_epochs\"]+1)]}\n",
    "        model_all_update_norms = {\"sgd\" : [], \"ngd\" : [None for i in range(len(train_loader)*hp[\"cut_off_epochs\"])]}\n",
    "\n",
    "        state = copy.deepcopy(model[\"sgd\"][0])\n",
    "        optimizer = t.optim.SGD(\n",
    "            params=state.parameters(),\n",
    "            lr=hp[\"sgd_lr\"],\n",
    "            momentum=hp[\"momentum\"],\n",
    "            nesterov=hp[\"nesterov\"],\n",
    "        )\n",
    "    \n",
    "        print(f\"TRAINING MODEL: {title} | OPTIMISER: SGD\")\n",
    "        initial_train_loss = evaluate(state, train_loader, criterion, device)\n",
    "        initial_val_loss = evaluate(state, test_loader, criterion, device)\n",
    "        model_train_losses[\"sgd\"].append(initial_train_loss)\n",
    "        model_val_losses[\"sgd\"].append(initial_val_loss)\n",
    "        for epoch in range(1, hp[\"cut_off_epochs\"]+1):\n",
    "            train_loss, update_norm, _, epoch_update_norms = train_one_epoch(state, train_loader, optimizer, criterion, device)\n",
    "            val_loss = evaluate(state, test_loader, criterion, device)\n",
    "            model_train_losses[\"sgd\"].append(train_loss)\n",
    "            model_update_norms[\"sgd\"].append(update_norm)\n",
    "            model_val_losses[\"sgd\"].append(val_loss)\n",
    "            model_all_update_norms[\"sgd\"] += epoch_update_norms\n",
    "            model[\"sgd\"].append(copy.deepcopy(state))\n",
    "            print(f\"Epoch {epoch}/{hp['num_epochs']}: train_loss={train_loss:.4f}, val_loss={val_loss:.4f}\")\n",
    "\n",
    "\n",
    "        # Train with SGD\n",
    "        print(\"Training from model checkpoint with SGD.\")\n",
    "        state = copy.deepcopy(model[\"sgd\"][hp[\"cut_off_epochs\"]])\n",
    "        optim_sgd = t.optim.SGD(\n",
    "            params=state.parameters(),\n",
    "            #multiply this to vary SGD\n",
    "            lr=hp[\"sgd_lr\"],\n",
    "            momentum=hp[\"momentum\"],\n",
    "            nesterov=hp[\"nesterov\"],\n",
    "        )\n",
    "        for epoch in range(hp[\"cut_off_epochs\"]+1, hp[\"num_epochs\"]+1):\n",
    "            train_loss, update_norm, _, epoch_update_norms = train_one_epoch(state, train_loader, optim_sgd, criterion, device)\n",
    "            val_loss = evaluate(state, test_loader, criterion, device)\n",
    "            model_train_losses[\"sgd\"].append(train_loss)\n",
    "            model_update_norms[\"sgd\"].append(update_norm)\n",
    "            model_val_losses[\"sgd\"].append(val_loss)\n",
    "            model_all_update_norms[\"sgd\"] += epoch_update_norms\n",
    "            model[\"sgd\"].append(copy.deepcopy(state))\n",
    "            print(f\"Epoch {epoch}/{hp['num_epochs']}: train_loss={train_loss:.4f}, val_loss={val_loss:.4f}\")\n",
    "        \n",
    "        # Train with NGD\n",
    "        print(\"Training from model checkpoint with NGD.\")\n",
    "        state = copy.deepcopy(model[\"sgd\"][hp[\"cut_off_epochs\"]])\n",
    "        optim_ngd = NGD(\n",
    "            params=state.parameters(),\n",
    "            lr=hp[\"ngd_lr\"],\n",
    "            alpha=hp[\"alpha\"],\n",
    "            eta=hp[\"eta\"],\n",
    "            epsilon=hp[\"epsilon\"],\n",
    "            delta=hp[\"delta\"],\n",
    "            momentum=hp[\"momentum\"],\n",
    "            nesterov=hp[\"nesterov\"],\n",
    "        )\n",
    "        for epoch in range(hp[\"cut_off_epochs\"]+1, hp[\"num_epochs\"]+1):\n",
    "            train_loss, update_norm, _, epoch_update_norms = train_one_epoch(state, train_loader, optim_ngd, criterion, device)\n",
    "            val_loss = evaluate(state, test_loader, criterion, device)\n",
    "            model_train_losses[\"ngd\"].append(train_loss)\n",
    "            model_update_norms[\"ngd\"].append(update_norm)\n",
    "            model_val_losses[\"ngd\"].append(val_loss)\n",
    "            model_all_update_norms[\"ngd\"] += epoch_update_norms\n",
    "            model[\"ngd\"].append(copy.deepcopy(state))\n",
    "            print(f\"Epoch {epoch}/{hp['num_epochs']}: train_loss={train_loss:.4f}, val_loss={val_loss:.4f}\")\n",
    "\n",
    "        # Save train/val loss dictionaries to the right model key\n",
    "        train_losses[title] = model_train_losses\n",
    "        val_losses[title] = model_val_losses\n",
    "        update_norms[title] = model_update_norms\n",
    "        all_update_norms[title] = model_all_update_norms\n"
   ]
  },
  {
   "cell_type": "markdown",
   "metadata": {},
   "source": [
    "#### **3. Visualising training / validation loss results**\n",
    "\n",
    "Check that the models all converged.\n",
    "\n",
    "Displays training and testing data for each model separately, with 4 traces on each graph.\n",
    "\n",
    "The traces are: SGD training, SGD testing, NGD training, NGD testing."
   ]
  },
  {
   "cell_type": "code",
   "execution_count": 56,
   "metadata": {},
   "outputs": [],
   "source": [
    "color_cycle = ['rgb(200, 0, 0)', 'rgb(32, 102, 168)']"
   ]
  },
  {
   "cell_type": "code",
   "execution_count": 57,
   "metadata": {},
   "outputs": [
    {
     "data": {
      "application/vnd.plotly.v1+json": {
       "config": {
        "plotlyServerURL": "https://plot.ly"
       },
       "data": [
        {
         "line": {
          "color": "rgb(200, 0, 0)",
          "width": 3
         },
         "mode": "lines",
         "name": "ngd Train",
         "type": "scatter",
         "x": [
          0,
          1,
          2,
          3,
          4,
          5,
          6,
          7,
          8,
          9,
          10,
          11,
          12,
          13,
          14,
          15,
          16,
          17,
          18,
          19,
          20,
          21,
          22,
          23,
          24,
          25,
          26,
          27,
          28,
          29,
          30,
          31,
          32,
          33,
          34,
          35,
          36,
          37,
          38,
          39,
          40,
          41,
          42,
          43,
          44,
          45,
          46,
          47,
          48,
          49,
          50,
          51,
          52,
          53,
          54,
          55,
          56,
          57,
          58,
          59,
          60,
          61,
          62,
          63,
          64,
          65,
          66,
          67,
          68,
          69,
          70,
          71,
          72,
          73,
          74,
          75,
          76,
          77,
          78,
          79,
          80
         ],
         "y": [
          null,
          null,
          null,
          null,
          null,
          null,
          null,
          null,
          null,
          null,
          null,
          null,
          null,
          null,
          null,
          null,
          null,
          null,
          null,
          null,
          null,
          null,
          null,
          null,
          null,
          null,
          null,
          null,
          null,
          null,
          null,
          0.30206829960793574,
          0.29597907651589117,
          0.29250504076480865,
          0.28879068969790617,
          0.2855838518152867,
          0.28182586728891074,
          0.2784634530862003,
          0.2751172524271235,
          0.2716855886839092,
          0.26843275885973406,
          0.26468614935239493,
          0.2611570128563371,
          0.2580912217084787,
          0.25464128169106015,
          0.251524348074058,
          0.2483609125717108,
          0.2454099686288122,
          0.2423824055362612,
          0.23904444313824558,
          0.2355939330640378,
          0.2325817740865862,
          0.22972285501293535,
          0.22637643606296734,
          0.22343651677118437,
          0.22040237292552045,
          0.21713667442358886,
          0.21398373184872588,
          0.21101626385249564,
          0.20815050908560945,
          0.20527619404642822,
          0.20209377149401953,
          0.19949590103394949,
          0.19651194699982336,
          0.19366869637007905,
          0.19052314856794597,
          0.18799448470825325,
          0.18502759288496046,
          0.1826123276880301,
          0.17970084950232557,
          0.17683320324113375,
          0.17424744456561644,
          0.17132818482832105,
          0.1687191325877267,
          0.16584947240600453,
          0.1626887044418595,
          0.1601752826272806,
          0.15749975671963906,
          0.15490115028835816,
          0.15197083863940067,
          0.14938634429087264
         ]
        },
        {
         "line": {
          "color": "rgb(200, 0, 0)",
          "dash": "dot",
          "width": 3
         },
         "mode": "lines",
         "name": "ngd Validation",
         "type": "scatter",
         "x": [
          0,
          1,
          2,
          3,
          4,
          5,
          6,
          7,
          8,
          9,
          10,
          11,
          12,
          13,
          14,
          15,
          16,
          17,
          18,
          19,
          20,
          21,
          22,
          23,
          24,
          25,
          26,
          27,
          28,
          29,
          30,
          31,
          32,
          33,
          34,
          35,
          36,
          37,
          38,
          39,
          40,
          41,
          42,
          43,
          44,
          45,
          46,
          47,
          48,
          49,
          50,
          51,
          52,
          53,
          54,
          55,
          56,
          57,
          58,
          59,
          60,
          61,
          62,
          63,
          64,
          65,
          66,
          67,
          68,
          69,
          70,
          71,
          72,
          73,
          74,
          75,
          76,
          77,
          78,
          79,
          80
         ],
         "y": [
          null,
          null,
          null,
          null,
          null,
          null,
          null,
          null,
          null,
          null,
          null,
          null,
          null,
          null,
          null,
          null,
          null,
          null,
          null,
          null,
          null,
          null,
          null,
          null,
          null,
          null,
          null,
          null,
          null,
          null,
          null,
          0.3577971067986911,
          0.3561711643315569,
          0.35432915351813354,
          0.35241593213021,
          0.35095569208452976,
          0.34949702392273313,
          0.34831251524671725,
          0.34665779769420624,
          0.34474293972495235,
          0.34273459262485745,
          0.3410566869793059,
          0.3392761494917206,
          0.3373848400727103,
          0.336236649487592,
          0.33579828382670124,
          0.3344357553162152,
          0.3329160783109786,
          0.33152916678522204,
          0.330253292205213,
          0.3286209579887269,
          0.3268371573354624,
          0.32551540698431713,
          0.3245897338360171,
          0.3240847185819964,
          0.3230757713317871,
          0.3214994828346409,
          0.3215372696330276,
          0.320719433358953,
          0.31966974218434924,
          0.31973982941877993,
          0.3188273631319215,
          0.3183227521897871,
          0.3173433218764353,
          0.3168224565967729,
          0.31658304529854014,
          0.31477044192673287,
          0.3144092074112047,
          0.3135109601330154,
          0.3133951823545408,
          0.31255324958245967,
          0.3130051910499983,
          0.3119564958954159,
          0.311830132067958,
          0.3126852140773701,
          0.31384692732480507,
          0.3124029403434524,
          0.3123047119831737,
          0.31235840020677713,
          0.3115365253407744,
          0.3114617175505131
         ]
        },
        {
         "line": {
          "color": "rgb(32, 102, 168)",
          "width": 3
         },
         "mode": "lines",
         "name": "sgd Train",
         "type": "scatter",
         "x": [
          0,
          1,
          2,
          3,
          4,
          5,
          6,
          7,
          8,
          9,
          10,
          11,
          12,
          13,
          14,
          15,
          16,
          17,
          18,
          19,
          20,
          21,
          22,
          23,
          24,
          25,
          26,
          27,
          28,
          29,
          30,
          31,
          32,
          33,
          34,
          35,
          36,
          37,
          38,
          39,
          40,
          41,
          42,
          43,
          44,
          45,
          46,
          47,
          48,
          49,
          50,
          51,
          52,
          53,
          54,
          55,
          56,
          57,
          58,
          59,
          60,
          61,
          62,
          63,
          64,
          65,
          66,
          67,
          68,
          69,
          70,
          71,
          72,
          73,
          74,
          75,
          76,
          77,
          78,
          79,
          80
         ],
         "y": [
          2.2984726200225767,
          1.2705473311420188,
          0.6507319082329268,
          0.5596925131420591,
          0.5117599939359531,
          0.48189305579230224,
          0.46078392335855123,
          0.44539673616891223,
          0.4322763739237145,
          0.42158415780138614,
          0.41158051274097296,
          0.4027151210602921,
          0.39406603069574847,
          0.38701165971090035,
          0.3805574763304135,
          0.37395428785128887,
          0.3682394641866562,
          0.3628694134226232,
          0.35772695718035263,
          0.35221279779476905,
          0.34719397445350314,
          0.34356754287473684,
          0.33833124080319393,
          0.3343819369003971,
          0.3304843352928853,
          0.3267320840279939,
          0.3233381111675234,
          0.31914650964965696,
          0.3158491458148082,
          0.3123120394533377,
          0.3083644447359703,
          0.30599973498504046,
          0.3026885935651468,
          0.29964262996909463,
          0.29686079426869144,
          0.2928221339800719,
          0.2895268576422226,
          0.2869402952412807,
          0.28427574718430604,
          0.2818263868596762,
          0.27878383923568195,
          0.2759967658088914,
          0.2735171572231789,
          0.2704087439249319,
          0.26845116128545327,
          0.2651851425038726,
          0.2630607564566232,
          0.26048979320442245,
          0.25743357570313696,
          0.2550840893946985,
          0.2526712930088104,
          0.25053205460246436,
          0.24796218601371178,
          0.2451799483473367,
          0.2429532739939466,
          0.2407952040147934,
          0.23930681282396254,
          0.23663250992356588,
          0.234068224154937,
          0.23228307751450203,
          0.22954717157746174,
          0.22747458538203352,
          0.22504554642860825,
          0.22248816877794164,
          0.22061450326684187,
          0.21819108465650697,
          0.216190930924563,
          0.2143703955513582,
          0.2118027622479874,
          0.20983492092155953,
          0.20761828337396895,
          0.2062566240014298,
          0.20436659477539917,
          0.20190633882655265,
          0.19938219005047386,
          0.19812276552735106,
          0.19477086431626825,
          0.1931093126567188,
          0.19158465099105956,
          0.18980742549337049,
          0.18785918141796645
         ]
        },
        {
         "line": {
          "color": "rgb(32, 102, 168)",
          "dash": "dot",
          "width": 3
         },
         "mode": "lines",
         "name": "sgd Validation",
         "type": "scatter",
         "x": [
          0,
          1,
          2,
          3,
          4,
          5,
          6,
          7,
          8,
          9,
          10,
          11,
          12,
          13,
          14,
          15,
          16,
          17,
          18,
          19,
          20,
          21,
          22,
          23,
          24,
          25,
          26,
          27,
          28,
          29,
          30,
          31,
          32,
          33,
          34,
          35,
          36,
          37,
          38,
          39,
          40,
          41,
          42,
          43,
          44,
          45,
          46,
          47,
          48,
          49,
          50,
          51,
          52,
          53,
          54,
          55,
          56,
          57,
          58,
          59,
          60,
          61,
          62,
          63,
          64,
          65,
          66,
          67,
          68,
          69,
          70,
          71,
          72,
          73,
          74,
          75,
          76,
          77,
          78,
          79,
          80
         ],
         "y": [
          2.2982055959822256,
          0.746054003510294,
          0.6102346476120285,
          0.5497647169270093,
          0.5173938191389735,
          0.4952898297128798,
          0.4840961185437215,
          0.4676617565034311,
          0.458504513849186,
          0.4492901920140544,
          0.443344740362107,
          0.43495464475849005,
          0.4259415359436711,
          0.4204477846999712,
          0.4154219367081606,
          0.41147884613350977,
          0.40642345140251934,
          0.39994299053391325,
          0.39676585567148426,
          0.394114229309408,
          0.38792691483527797,
          0.38494508081599127,
          0.3838487974827803,
          0.37904345008391366,
          0.3802651834638813,
          0.3736397424076177,
          0.3729147511192515,
          0.37134774349912814,
          0.36515614861928963,
          0.3691095338214802,
          0.3646914955181412,
          0.36125491370883167,
          0.357339381605764,
          0.35960078616685504,
          0.35672243278992327,
          0.3585225477626052,
          0.3523739451849008,
          0.35431684280120873,
          0.3546161304546308,
          0.3481279424851454,
          0.34599848261362387,
          0.3525277310157124,
          0.3453472282124471,
          0.3428059954054748,
          0.34317194198883033,
          0.3419667158888865,
          0.3393058825897265,
          0.337815755058693,
          0.33435605956783776,
          0.33673062411290183,
          0.33788855656792843,
          0.3357433514504493,
          0.33341529635311684,
          0.33937112572072425,
          0.32981519825473615,
          0.3335719862127606,
          0.330985963344574,
          0.3359506011386461,
          0.3371380840109873,
          0.3368979381232322,
          0.325936914527718,
          0.32917024355523195,
          0.32833087170803094,
          0.330804470502123,
          0.325425943430466,
          0.332162387386153,
          0.329868435105191,
          0.3264122041343134,
          0.32761286104781717,
          0.3244376149547251,
          0.32303511662573753,
          0.3272795617769036,
          0.33002505517458613,
          0.3232610606694523,
          0.3294520991135247,
          0.32381987609440765,
          0.33377207513851453,
          0.3295430764555931,
          0.32518204490217983,
          0.3309058873336526,
          0.32402762242510347
         ]
        }
       ],
       "layout": {
        "height": 400,
        "legend": {
         "orientation": "h",
         "x": 0,
         "xanchor": "left",
         "y": 1,
         "yanchor": "bottom"
        },
        "template": {
         "data": {
          "bar": [
           {
            "error_x": {
             "color": "#2a3f5f"
            },
            "error_y": {
             "color": "#2a3f5f"
            },
            "marker": {
             "line": {
              "color": "#E5ECF6",
              "width": 0.5
             },
             "pattern": {
              "fillmode": "overlay",
              "size": 10,
              "solidity": 0.2
             }
            },
            "type": "bar"
           }
          ],
          "barpolar": [
           {
            "marker": {
             "line": {
              "color": "#E5ECF6",
              "width": 0.5
             },
             "pattern": {
              "fillmode": "overlay",
              "size": 10,
              "solidity": 0.2
             }
            },
            "type": "barpolar"
           }
          ],
          "carpet": [
           {
            "aaxis": {
             "endlinecolor": "#2a3f5f",
             "gridcolor": "white",
             "linecolor": "white",
             "minorgridcolor": "white",
             "startlinecolor": "#2a3f5f"
            },
            "baxis": {
             "endlinecolor": "#2a3f5f",
             "gridcolor": "white",
             "linecolor": "white",
             "minorgridcolor": "white",
             "startlinecolor": "#2a3f5f"
            },
            "type": "carpet"
           }
          ],
          "choropleth": [
           {
            "colorbar": {
             "outlinewidth": 0,
             "ticks": ""
            },
            "type": "choropleth"
           }
          ],
          "contour": [
           {
            "colorbar": {
             "outlinewidth": 0,
             "ticks": ""
            },
            "colorscale": [
             [
              0,
              "#0d0887"
             ],
             [
              0.1111111111111111,
              "#46039f"
             ],
             [
              0.2222222222222222,
              "#7201a8"
             ],
             [
              0.3333333333333333,
              "#9c179e"
             ],
             [
              0.4444444444444444,
              "#bd3786"
             ],
             [
              0.5555555555555556,
              "#d8576b"
             ],
             [
              0.6666666666666666,
              "#ed7953"
             ],
             [
              0.7777777777777778,
              "#fb9f3a"
             ],
             [
              0.8888888888888888,
              "#fdca26"
             ],
             [
              1,
              "#f0f921"
             ]
            ],
            "type": "contour"
           }
          ],
          "contourcarpet": [
           {
            "colorbar": {
             "outlinewidth": 0,
             "ticks": ""
            },
            "type": "contourcarpet"
           }
          ],
          "heatmap": [
           {
            "colorbar": {
             "outlinewidth": 0,
             "ticks": ""
            },
            "colorscale": [
             [
              0,
              "#0d0887"
             ],
             [
              0.1111111111111111,
              "#46039f"
             ],
             [
              0.2222222222222222,
              "#7201a8"
             ],
             [
              0.3333333333333333,
              "#9c179e"
             ],
             [
              0.4444444444444444,
              "#bd3786"
             ],
             [
              0.5555555555555556,
              "#d8576b"
             ],
             [
              0.6666666666666666,
              "#ed7953"
             ],
             [
              0.7777777777777778,
              "#fb9f3a"
             ],
             [
              0.8888888888888888,
              "#fdca26"
             ],
             [
              1,
              "#f0f921"
             ]
            ],
            "type": "heatmap"
           }
          ],
          "heatmapgl": [
           {
            "colorbar": {
             "outlinewidth": 0,
             "ticks": ""
            },
            "colorscale": [
             [
              0,
              "#0d0887"
             ],
             [
              0.1111111111111111,
              "#46039f"
             ],
             [
              0.2222222222222222,
              "#7201a8"
             ],
             [
              0.3333333333333333,
              "#9c179e"
             ],
             [
              0.4444444444444444,
              "#bd3786"
             ],
             [
              0.5555555555555556,
              "#d8576b"
             ],
             [
              0.6666666666666666,
              "#ed7953"
             ],
             [
              0.7777777777777778,
              "#fb9f3a"
             ],
             [
              0.8888888888888888,
              "#fdca26"
             ],
             [
              1,
              "#f0f921"
             ]
            ],
            "type": "heatmapgl"
           }
          ],
          "histogram": [
           {
            "marker": {
             "pattern": {
              "fillmode": "overlay",
              "size": 10,
              "solidity": 0.2
             }
            },
            "type": "histogram"
           }
          ],
          "histogram2d": [
           {
            "colorbar": {
             "outlinewidth": 0,
             "ticks": ""
            },
            "colorscale": [
             [
              0,
              "#0d0887"
             ],
             [
              0.1111111111111111,
              "#46039f"
             ],
             [
              0.2222222222222222,
              "#7201a8"
             ],
             [
              0.3333333333333333,
              "#9c179e"
             ],
             [
              0.4444444444444444,
              "#bd3786"
             ],
             [
              0.5555555555555556,
              "#d8576b"
             ],
             [
              0.6666666666666666,
              "#ed7953"
             ],
             [
              0.7777777777777778,
              "#fb9f3a"
             ],
             [
              0.8888888888888888,
              "#fdca26"
             ],
             [
              1,
              "#f0f921"
             ]
            ],
            "type": "histogram2d"
           }
          ],
          "histogram2dcontour": [
           {
            "colorbar": {
             "outlinewidth": 0,
             "ticks": ""
            },
            "colorscale": [
             [
              0,
              "#0d0887"
             ],
             [
              0.1111111111111111,
              "#46039f"
             ],
             [
              0.2222222222222222,
              "#7201a8"
             ],
             [
              0.3333333333333333,
              "#9c179e"
             ],
             [
              0.4444444444444444,
              "#bd3786"
             ],
             [
              0.5555555555555556,
              "#d8576b"
             ],
             [
              0.6666666666666666,
              "#ed7953"
             ],
             [
              0.7777777777777778,
              "#fb9f3a"
             ],
             [
              0.8888888888888888,
              "#fdca26"
             ],
             [
              1,
              "#f0f921"
             ]
            ],
            "type": "histogram2dcontour"
           }
          ],
          "mesh3d": [
           {
            "colorbar": {
             "outlinewidth": 0,
             "ticks": ""
            },
            "type": "mesh3d"
           }
          ],
          "parcoords": [
           {
            "line": {
             "colorbar": {
              "outlinewidth": 0,
              "ticks": ""
             }
            },
            "type": "parcoords"
           }
          ],
          "pie": [
           {
            "automargin": true,
            "type": "pie"
           }
          ],
          "scatter": [
           {
            "fillpattern": {
             "fillmode": "overlay",
             "size": 10,
             "solidity": 0.2
            },
            "type": "scatter"
           }
          ],
          "scatter3d": [
           {
            "line": {
             "colorbar": {
              "outlinewidth": 0,
              "ticks": ""
             }
            },
            "marker": {
             "colorbar": {
              "outlinewidth": 0,
              "ticks": ""
             }
            },
            "type": "scatter3d"
           }
          ],
          "scattercarpet": [
           {
            "marker": {
             "colorbar": {
              "outlinewidth": 0,
              "ticks": ""
             }
            },
            "type": "scattercarpet"
           }
          ],
          "scattergeo": [
           {
            "marker": {
             "colorbar": {
              "outlinewidth": 0,
              "ticks": ""
             }
            },
            "type": "scattergeo"
           }
          ],
          "scattergl": [
           {
            "marker": {
             "colorbar": {
              "outlinewidth": 0,
              "ticks": ""
             }
            },
            "type": "scattergl"
           }
          ],
          "scattermapbox": [
           {
            "marker": {
             "colorbar": {
              "outlinewidth": 0,
              "ticks": ""
             }
            },
            "type": "scattermapbox"
           }
          ],
          "scatterpolar": [
           {
            "marker": {
             "colorbar": {
              "outlinewidth": 0,
              "ticks": ""
             }
            },
            "type": "scatterpolar"
           }
          ],
          "scatterpolargl": [
           {
            "marker": {
             "colorbar": {
              "outlinewidth": 0,
              "ticks": ""
             }
            },
            "type": "scatterpolargl"
           }
          ],
          "scatterternary": [
           {
            "marker": {
             "colorbar": {
              "outlinewidth": 0,
              "ticks": ""
             }
            },
            "type": "scatterternary"
           }
          ],
          "surface": [
           {
            "colorbar": {
             "outlinewidth": 0,
             "ticks": ""
            },
            "colorscale": [
             [
              0,
              "#0d0887"
             ],
             [
              0.1111111111111111,
              "#46039f"
             ],
             [
              0.2222222222222222,
              "#7201a8"
             ],
             [
              0.3333333333333333,
              "#9c179e"
             ],
             [
              0.4444444444444444,
              "#bd3786"
             ],
             [
              0.5555555555555556,
              "#d8576b"
             ],
             [
              0.6666666666666666,
              "#ed7953"
             ],
             [
              0.7777777777777778,
              "#fb9f3a"
             ],
             [
              0.8888888888888888,
              "#fdca26"
             ],
             [
              1,
              "#f0f921"
             ]
            ],
            "type": "surface"
           }
          ],
          "table": [
           {
            "cells": {
             "fill": {
              "color": "#EBF0F8"
             },
             "line": {
              "color": "white"
             }
            },
            "header": {
             "fill": {
              "color": "#C8D4E3"
             },
             "line": {
              "color": "white"
             }
            },
            "type": "table"
           }
          ]
         },
         "layout": {
          "annotationdefaults": {
           "arrowcolor": "#2a3f5f",
           "arrowhead": 0,
           "arrowwidth": 1
          },
          "autotypenumbers": "strict",
          "coloraxis": {
           "colorbar": {
            "outlinewidth": 0,
            "ticks": ""
           }
          },
          "colorscale": {
           "diverging": [
            [
             0,
             "#8e0152"
            ],
            [
             0.1,
             "#c51b7d"
            ],
            [
             0.2,
             "#de77ae"
            ],
            [
             0.3,
             "#f1b6da"
            ],
            [
             0.4,
             "#fde0ef"
            ],
            [
             0.5,
             "#f7f7f7"
            ],
            [
             0.6,
             "#e6f5d0"
            ],
            [
             0.7,
             "#b8e186"
            ],
            [
             0.8,
             "#7fbc41"
            ],
            [
             0.9,
             "#4d9221"
            ],
            [
             1,
             "#276419"
            ]
           ],
           "sequential": [
            [
             0,
             "#0d0887"
            ],
            [
             0.1111111111111111,
             "#46039f"
            ],
            [
             0.2222222222222222,
             "#7201a8"
            ],
            [
             0.3333333333333333,
             "#9c179e"
            ],
            [
             0.4444444444444444,
             "#bd3786"
            ],
            [
             0.5555555555555556,
             "#d8576b"
            ],
            [
             0.6666666666666666,
             "#ed7953"
            ],
            [
             0.7777777777777778,
             "#fb9f3a"
            ],
            [
             0.8888888888888888,
             "#fdca26"
            ],
            [
             1,
             "#f0f921"
            ]
           ],
           "sequentialminus": [
            [
             0,
             "#0d0887"
            ],
            [
             0.1111111111111111,
             "#46039f"
            ],
            [
             0.2222222222222222,
             "#7201a8"
            ],
            [
             0.3333333333333333,
             "#9c179e"
            ],
            [
             0.4444444444444444,
             "#bd3786"
            ],
            [
             0.5555555555555556,
             "#d8576b"
            ],
            [
             0.6666666666666666,
             "#ed7953"
            ],
            [
             0.7777777777777778,
             "#fb9f3a"
            ],
            [
             0.8888888888888888,
             "#fdca26"
            ],
            [
             1,
             "#f0f921"
            ]
           ]
          },
          "colorway": [
           "#636efa",
           "#EF553B",
           "#00cc96",
           "#ab63fa",
           "#FFA15A",
           "#19d3f3",
           "#FF6692",
           "#B6E880",
           "#FF97FF",
           "#FECB52"
          ],
          "font": {
           "color": "#2a3f5f"
          },
          "geo": {
           "bgcolor": "white",
           "lakecolor": "white",
           "landcolor": "#E5ECF6",
           "showlakes": true,
           "showland": true,
           "subunitcolor": "white"
          },
          "hoverlabel": {
           "align": "left"
          },
          "hovermode": "closest",
          "mapbox": {
           "style": "light"
          },
          "paper_bgcolor": "white",
          "plot_bgcolor": "#E5ECF6",
          "polar": {
           "angularaxis": {
            "gridcolor": "white",
            "linecolor": "white",
            "ticks": ""
           },
           "bgcolor": "#E5ECF6",
           "radialaxis": {
            "gridcolor": "white",
            "linecolor": "white",
            "ticks": ""
           }
          },
          "scene": {
           "xaxis": {
            "backgroundcolor": "#E5ECF6",
            "gridcolor": "white",
            "gridwidth": 2,
            "linecolor": "white",
            "showbackground": true,
            "ticks": "",
            "zerolinecolor": "white"
           },
           "yaxis": {
            "backgroundcolor": "#E5ECF6",
            "gridcolor": "white",
            "gridwidth": 2,
            "linecolor": "white",
            "showbackground": true,
            "ticks": "",
            "zerolinecolor": "white"
           },
           "zaxis": {
            "backgroundcolor": "#E5ECF6",
            "gridcolor": "white",
            "gridwidth": 2,
            "linecolor": "white",
            "showbackground": true,
            "ticks": "",
            "zerolinecolor": "white"
           }
          },
          "shapedefaults": {
           "line": {
            "color": "#2a3f5f"
           }
          },
          "ternary": {
           "aaxis": {
            "gridcolor": "white",
            "linecolor": "white",
            "ticks": ""
           },
           "baxis": {
            "gridcolor": "white",
            "linecolor": "white",
            "ticks": ""
           },
           "bgcolor": "#E5ECF6",
           "caxis": {
            "gridcolor": "white",
            "linecolor": "white",
            "ticks": ""
           }
          },
          "title": {
           "x": 0.05
          },
          "xaxis": {
           "automargin": true,
           "gridcolor": "white",
           "linecolor": "white",
           "ticks": "",
           "title": {
            "standoff": 15
           },
           "zerolinecolor": "white",
           "zerolinewidth": 2
          },
          "yaxis": {
           "automargin": true,
           "gridcolor": "white",
           "linecolor": "white",
           "ticks": "",
           "title": {
            "standoff": 15
           },
           "zerolinecolor": "white",
           "zerolinewidth": 2
          }
         }
        },
        "title": {
         "text": "FFNN 2 HL, 256 HN training / validation loss"
        },
        "width": 600,
        "xaxis": {
         "dtick": 5,
         "tick0": 0,
         "tickmode": "linear",
         "title": {
          "text": "Epoch"
         }
        },
        "yaxis": {
         "range": [
          0,
          null
         ],
         "title": {
          "text": "Loss"
         },
         "type": "linear"
        }
       }
      },
      "text/html": [
       "<div>                            <div id=\"c4768911-8041-4bb1-9e60-10e1714eee32\" class=\"plotly-graph-div\" style=\"height:400px; width:600px;\"></div>            <script type=\"text/javascript\">                require([\"plotly\"], function(Plotly) {                    window.PLOTLYENV=window.PLOTLYENV || {};                                    if (document.getElementById(\"c4768911-8041-4bb1-9e60-10e1714eee32\")) {                    Plotly.newPlot(                        \"c4768911-8041-4bb1-9e60-10e1714eee32\",                        [{\"line\":{\"color\":\"rgb(200, 0, 0)\",\"width\":3},\"mode\":\"lines\",\"name\":\"ngd Train\",\"x\":[0,1,2,3,4,5,6,7,8,9,10,11,12,13,14,15,16,17,18,19,20,21,22,23,24,25,26,27,28,29,30,31,32,33,34,35,36,37,38,39,40,41,42,43,44,45,46,47,48,49,50,51,52,53,54,55,56,57,58,59,60,61,62,63,64,65,66,67,68,69,70,71,72,73,74,75,76,77,78,79,80],\"y\":[null,null,null,null,null,null,null,null,null,null,null,null,null,null,null,null,null,null,null,null,null,null,null,null,null,null,null,null,null,null,null,0.30206829960793574,0.29597907651589117,0.29250504076480865,0.28879068969790617,0.2855838518152867,0.28182586728891074,0.2784634530862003,0.2751172524271235,0.2716855886839092,0.26843275885973406,0.26468614935239493,0.2611570128563371,0.2580912217084787,0.25464128169106015,0.251524348074058,0.2483609125717108,0.2454099686288122,0.2423824055362612,0.23904444313824558,0.2355939330640378,0.2325817740865862,0.22972285501293535,0.22637643606296734,0.22343651677118437,0.22040237292552045,0.21713667442358886,0.21398373184872588,0.21101626385249564,0.20815050908560945,0.20527619404642822,0.20209377149401953,0.19949590103394949,0.19651194699982336,0.19366869637007905,0.19052314856794597,0.18799448470825325,0.18502759288496046,0.1826123276880301,0.17970084950232557,0.17683320324113375,0.17424744456561644,0.17132818482832105,0.1687191325877267,0.16584947240600453,0.1626887044418595,0.1601752826272806,0.15749975671963906,0.15490115028835816,0.15197083863940067,0.14938634429087264],\"type\":\"scatter\"},{\"line\":{\"color\":\"rgb(200, 0, 0)\",\"dash\":\"dot\",\"width\":3},\"mode\":\"lines\",\"name\":\"ngd Validation\",\"x\":[0,1,2,3,4,5,6,7,8,9,10,11,12,13,14,15,16,17,18,19,20,21,22,23,24,25,26,27,28,29,30,31,32,33,34,35,36,37,38,39,40,41,42,43,44,45,46,47,48,49,50,51,52,53,54,55,56,57,58,59,60,61,62,63,64,65,66,67,68,69,70,71,72,73,74,75,76,77,78,79,80],\"y\":[null,null,null,null,null,null,null,null,null,null,null,null,null,null,null,null,null,null,null,null,null,null,null,null,null,null,null,null,null,null,null,0.3577971067986911,0.3561711643315569,0.35432915351813354,0.35241593213021,0.35095569208452976,0.34949702392273313,0.34831251524671725,0.34665779769420624,0.34474293972495235,0.34273459262485745,0.3410566869793059,0.3392761494917206,0.3373848400727103,0.336236649487592,0.33579828382670124,0.3344357553162152,0.3329160783109786,0.33152916678522204,0.330253292205213,0.3286209579887269,0.3268371573354624,0.32551540698431713,0.3245897338360171,0.3240847185819964,0.3230757713317871,0.3214994828346409,0.3215372696330276,0.320719433358953,0.31966974218434924,0.31973982941877993,0.3188273631319215,0.3183227521897871,0.3173433218764353,0.3168224565967729,0.31658304529854014,0.31477044192673287,0.3144092074112047,0.3135109601330154,0.3133951823545408,0.31255324958245967,0.3130051910499983,0.3119564958954159,0.311830132067958,0.3126852140773701,0.31384692732480507,0.3124029403434524,0.3123047119831737,0.31235840020677713,0.3115365253407744,0.3114617175505131],\"type\":\"scatter\"},{\"line\":{\"color\":\"rgb(32, 102, 168)\",\"width\":3},\"mode\":\"lines\",\"name\":\"sgd Train\",\"x\":[0,1,2,3,4,5,6,7,8,9,10,11,12,13,14,15,16,17,18,19,20,21,22,23,24,25,26,27,28,29,30,31,32,33,34,35,36,37,38,39,40,41,42,43,44,45,46,47,48,49,50,51,52,53,54,55,56,57,58,59,60,61,62,63,64,65,66,67,68,69,70,71,72,73,74,75,76,77,78,79,80],\"y\":[2.2984726200225767,1.2705473311420188,0.6507319082329268,0.5596925131420591,0.5117599939359531,0.48189305579230224,0.46078392335855123,0.44539673616891223,0.4322763739237145,0.42158415780138614,0.41158051274097296,0.4027151210602921,0.39406603069574847,0.38701165971090035,0.3805574763304135,0.37395428785128887,0.3682394641866562,0.3628694134226232,0.35772695718035263,0.35221279779476905,0.34719397445350314,0.34356754287473684,0.33833124080319393,0.3343819369003971,0.3304843352928853,0.3267320840279939,0.3233381111675234,0.31914650964965696,0.3158491458148082,0.3123120394533377,0.3083644447359703,0.30599973498504046,0.3026885935651468,0.29964262996909463,0.29686079426869144,0.2928221339800719,0.2895268576422226,0.2869402952412807,0.28427574718430604,0.2818263868596762,0.27878383923568195,0.2759967658088914,0.2735171572231789,0.2704087439249319,0.26845116128545327,0.2651851425038726,0.2630607564566232,0.26048979320442245,0.25743357570313696,0.2550840893946985,0.2526712930088104,0.25053205460246436,0.24796218601371178,0.2451799483473367,0.2429532739939466,0.2407952040147934,0.23930681282396254,0.23663250992356588,0.234068224154937,0.23228307751450203,0.22954717157746174,0.22747458538203352,0.22504554642860825,0.22248816877794164,0.22061450326684187,0.21819108465650697,0.216190930924563,0.2143703955513582,0.2118027622479874,0.20983492092155953,0.20761828337396895,0.2062566240014298,0.20436659477539917,0.20190633882655265,0.19938219005047386,0.19812276552735106,0.19477086431626825,0.1931093126567188,0.19158465099105956,0.18980742549337049,0.18785918141796645],\"type\":\"scatter\"},{\"line\":{\"color\":\"rgb(32, 102, 168)\",\"dash\":\"dot\",\"width\":3},\"mode\":\"lines\",\"name\":\"sgd Validation\",\"x\":[0,1,2,3,4,5,6,7,8,9,10,11,12,13,14,15,16,17,18,19,20,21,22,23,24,25,26,27,28,29,30,31,32,33,34,35,36,37,38,39,40,41,42,43,44,45,46,47,48,49,50,51,52,53,54,55,56,57,58,59,60,61,62,63,64,65,66,67,68,69,70,71,72,73,74,75,76,77,78,79,80],\"y\":[2.2982055959822256,0.746054003510294,0.6102346476120285,0.5497647169270093,0.5173938191389735,0.4952898297128798,0.4840961185437215,0.4676617565034311,0.458504513849186,0.4492901920140544,0.443344740362107,0.43495464475849005,0.4259415359436711,0.4204477846999712,0.4154219367081606,0.41147884613350977,0.40642345140251934,0.39994299053391325,0.39676585567148426,0.394114229309408,0.38792691483527797,0.38494508081599127,0.3838487974827803,0.37904345008391366,0.3802651834638813,0.3736397424076177,0.3729147511192515,0.37134774349912814,0.36515614861928963,0.3691095338214802,0.3646914955181412,0.36125491370883167,0.357339381605764,0.35960078616685504,0.35672243278992327,0.3585225477626052,0.3523739451849008,0.35431684280120873,0.3546161304546308,0.3481279424851454,0.34599848261362387,0.3525277310157124,0.3453472282124471,0.3428059954054748,0.34317194198883033,0.3419667158888865,0.3393058825897265,0.337815755058693,0.33435605956783776,0.33673062411290183,0.33788855656792843,0.3357433514504493,0.33341529635311684,0.33937112572072425,0.32981519825473615,0.3335719862127606,0.330985963344574,0.3359506011386461,0.3371380840109873,0.3368979381232322,0.325936914527718,0.32917024355523195,0.32833087170803094,0.330804470502123,0.325425943430466,0.332162387386153,0.329868435105191,0.3264122041343134,0.32761286104781717,0.3244376149547251,0.32303511662573753,0.3272795617769036,0.33002505517458613,0.3232610606694523,0.3294520991135247,0.32381987609440765,0.33377207513851453,0.3295430764555931,0.32518204490217983,0.3309058873336526,0.32402762242510347],\"type\":\"scatter\"}],                        {\"template\":{\"data\":{\"histogram2dcontour\":[{\"type\":\"histogram2dcontour\",\"colorbar\":{\"outlinewidth\":0,\"ticks\":\"\"},\"colorscale\":[[0.0,\"#0d0887\"],[0.1111111111111111,\"#46039f\"],[0.2222222222222222,\"#7201a8\"],[0.3333333333333333,\"#9c179e\"],[0.4444444444444444,\"#bd3786\"],[0.5555555555555556,\"#d8576b\"],[0.6666666666666666,\"#ed7953\"],[0.7777777777777778,\"#fb9f3a\"],[0.8888888888888888,\"#fdca26\"],[1.0,\"#f0f921\"]]}],\"choropleth\":[{\"type\":\"choropleth\",\"colorbar\":{\"outlinewidth\":0,\"ticks\":\"\"}}],\"histogram2d\":[{\"type\":\"histogram2d\",\"colorbar\":{\"outlinewidth\":0,\"ticks\":\"\"},\"colorscale\":[[0.0,\"#0d0887\"],[0.1111111111111111,\"#46039f\"],[0.2222222222222222,\"#7201a8\"],[0.3333333333333333,\"#9c179e\"],[0.4444444444444444,\"#bd3786\"],[0.5555555555555556,\"#d8576b\"],[0.6666666666666666,\"#ed7953\"],[0.7777777777777778,\"#fb9f3a\"],[0.8888888888888888,\"#fdca26\"],[1.0,\"#f0f921\"]]}],\"heatmap\":[{\"type\":\"heatmap\",\"colorbar\":{\"outlinewidth\":0,\"ticks\":\"\"},\"colorscale\":[[0.0,\"#0d0887\"],[0.1111111111111111,\"#46039f\"],[0.2222222222222222,\"#7201a8\"],[0.3333333333333333,\"#9c179e\"],[0.4444444444444444,\"#bd3786\"],[0.5555555555555556,\"#d8576b\"],[0.6666666666666666,\"#ed7953\"],[0.7777777777777778,\"#fb9f3a\"],[0.8888888888888888,\"#fdca26\"],[1.0,\"#f0f921\"]]}],\"heatmapgl\":[{\"type\":\"heatmapgl\",\"colorbar\":{\"outlinewidth\":0,\"ticks\":\"\"},\"colorscale\":[[0.0,\"#0d0887\"],[0.1111111111111111,\"#46039f\"],[0.2222222222222222,\"#7201a8\"],[0.3333333333333333,\"#9c179e\"],[0.4444444444444444,\"#bd3786\"],[0.5555555555555556,\"#d8576b\"],[0.6666666666666666,\"#ed7953\"],[0.7777777777777778,\"#fb9f3a\"],[0.8888888888888888,\"#fdca26\"],[1.0,\"#f0f921\"]]}],\"contourcarpet\":[{\"type\":\"contourcarpet\",\"colorbar\":{\"outlinewidth\":0,\"ticks\":\"\"}}],\"contour\":[{\"type\":\"contour\",\"colorbar\":{\"outlinewidth\":0,\"ticks\":\"\"},\"colorscale\":[[0.0,\"#0d0887\"],[0.1111111111111111,\"#46039f\"],[0.2222222222222222,\"#7201a8\"],[0.3333333333333333,\"#9c179e\"],[0.4444444444444444,\"#bd3786\"],[0.5555555555555556,\"#d8576b\"],[0.6666666666666666,\"#ed7953\"],[0.7777777777777778,\"#fb9f3a\"],[0.8888888888888888,\"#fdca26\"],[1.0,\"#f0f921\"]]}],\"surface\":[{\"type\":\"surface\",\"colorbar\":{\"outlinewidth\":0,\"ticks\":\"\"},\"colorscale\":[[0.0,\"#0d0887\"],[0.1111111111111111,\"#46039f\"],[0.2222222222222222,\"#7201a8\"],[0.3333333333333333,\"#9c179e\"],[0.4444444444444444,\"#bd3786\"],[0.5555555555555556,\"#d8576b\"],[0.6666666666666666,\"#ed7953\"],[0.7777777777777778,\"#fb9f3a\"],[0.8888888888888888,\"#fdca26\"],[1.0,\"#f0f921\"]]}],\"mesh3d\":[{\"type\":\"mesh3d\",\"colorbar\":{\"outlinewidth\":0,\"ticks\":\"\"}}],\"scatter\":[{\"fillpattern\":{\"fillmode\":\"overlay\",\"size\":10,\"solidity\":0.2},\"type\":\"scatter\"}],\"parcoords\":[{\"type\":\"parcoords\",\"line\":{\"colorbar\":{\"outlinewidth\":0,\"ticks\":\"\"}}}],\"scatterpolargl\":[{\"type\":\"scatterpolargl\",\"marker\":{\"colorbar\":{\"outlinewidth\":0,\"ticks\":\"\"}}}],\"bar\":[{\"error_x\":{\"color\":\"#2a3f5f\"},\"error_y\":{\"color\":\"#2a3f5f\"},\"marker\":{\"line\":{\"color\":\"#E5ECF6\",\"width\":0.5},\"pattern\":{\"fillmode\":\"overlay\",\"size\":10,\"solidity\":0.2}},\"type\":\"bar\"}],\"scattergeo\":[{\"type\":\"scattergeo\",\"marker\":{\"colorbar\":{\"outlinewidth\":0,\"ticks\":\"\"}}}],\"scatterpolar\":[{\"type\":\"scatterpolar\",\"marker\":{\"colorbar\":{\"outlinewidth\":0,\"ticks\":\"\"}}}],\"histogram\":[{\"marker\":{\"pattern\":{\"fillmode\":\"overlay\",\"size\":10,\"solidity\":0.2}},\"type\":\"histogram\"}],\"scattergl\":[{\"type\":\"scattergl\",\"marker\":{\"colorbar\":{\"outlinewidth\":0,\"ticks\":\"\"}}}],\"scatter3d\":[{\"type\":\"scatter3d\",\"line\":{\"colorbar\":{\"outlinewidth\":0,\"ticks\":\"\"}},\"marker\":{\"colorbar\":{\"outlinewidth\":0,\"ticks\":\"\"}}}],\"scattermapbox\":[{\"type\":\"scattermapbox\",\"marker\":{\"colorbar\":{\"outlinewidth\":0,\"ticks\":\"\"}}}],\"scatterternary\":[{\"type\":\"scatterternary\",\"marker\":{\"colorbar\":{\"outlinewidth\":0,\"ticks\":\"\"}}}],\"scattercarpet\":[{\"type\":\"scattercarpet\",\"marker\":{\"colorbar\":{\"outlinewidth\":0,\"ticks\":\"\"}}}],\"carpet\":[{\"aaxis\":{\"endlinecolor\":\"#2a3f5f\",\"gridcolor\":\"white\",\"linecolor\":\"white\",\"minorgridcolor\":\"white\",\"startlinecolor\":\"#2a3f5f\"},\"baxis\":{\"endlinecolor\":\"#2a3f5f\",\"gridcolor\":\"white\",\"linecolor\":\"white\",\"minorgridcolor\":\"white\",\"startlinecolor\":\"#2a3f5f\"},\"type\":\"carpet\"}],\"table\":[{\"cells\":{\"fill\":{\"color\":\"#EBF0F8\"},\"line\":{\"color\":\"white\"}},\"header\":{\"fill\":{\"color\":\"#C8D4E3\"},\"line\":{\"color\":\"white\"}},\"type\":\"table\"}],\"barpolar\":[{\"marker\":{\"line\":{\"color\":\"#E5ECF6\",\"width\":0.5},\"pattern\":{\"fillmode\":\"overlay\",\"size\":10,\"solidity\":0.2}},\"type\":\"barpolar\"}],\"pie\":[{\"automargin\":true,\"type\":\"pie\"}]},\"layout\":{\"autotypenumbers\":\"strict\",\"colorway\":[\"#636efa\",\"#EF553B\",\"#00cc96\",\"#ab63fa\",\"#FFA15A\",\"#19d3f3\",\"#FF6692\",\"#B6E880\",\"#FF97FF\",\"#FECB52\"],\"font\":{\"color\":\"#2a3f5f\"},\"hovermode\":\"closest\",\"hoverlabel\":{\"align\":\"left\"},\"paper_bgcolor\":\"white\",\"plot_bgcolor\":\"#E5ECF6\",\"polar\":{\"bgcolor\":\"#E5ECF6\",\"angularaxis\":{\"gridcolor\":\"white\",\"linecolor\":\"white\",\"ticks\":\"\"},\"radialaxis\":{\"gridcolor\":\"white\",\"linecolor\":\"white\",\"ticks\":\"\"}},\"ternary\":{\"bgcolor\":\"#E5ECF6\",\"aaxis\":{\"gridcolor\":\"white\",\"linecolor\":\"white\",\"ticks\":\"\"},\"baxis\":{\"gridcolor\":\"white\",\"linecolor\":\"white\",\"ticks\":\"\"},\"caxis\":{\"gridcolor\":\"white\",\"linecolor\":\"white\",\"ticks\":\"\"}},\"coloraxis\":{\"colorbar\":{\"outlinewidth\":0,\"ticks\":\"\"}},\"colorscale\":{\"sequential\":[[0.0,\"#0d0887\"],[0.1111111111111111,\"#46039f\"],[0.2222222222222222,\"#7201a8\"],[0.3333333333333333,\"#9c179e\"],[0.4444444444444444,\"#bd3786\"],[0.5555555555555556,\"#d8576b\"],[0.6666666666666666,\"#ed7953\"],[0.7777777777777778,\"#fb9f3a\"],[0.8888888888888888,\"#fdca26\"],[1.0,\"#f0f921\"]],\"sequentialminus\":[[0.0,\"#0d0887\"],[0.1111111111111111,\"#46039f\"],[0.2222222222222222,\"#7201a8\"],[0.3333333333333333,\"#9c179e\"],[0.4444444444444444,\"#bd3786\"],[0.5555555555555556,\"#d8576b\"],[0.6666666666666666,\"#ed7953\"],[0.7777777777777778,\"#fb9f3a\"],[0.8888888888888888,\"#fdca26\"],[1.0,\"#f0f921\"]],\"diverging\":[[0,\"#8e0152\"],[0.1,\"#c51b7d\"],[0.2,\"#de77ae\"],[0.3,\"#f1b6da\"],[0.4,\"#fde0ef\"],[0.5,\"#f7f7f7\"],[0.6,\"#e6f5d0\"],[0.7,\"#b8e186\"],[0.8,\"#7fbc41\"],[0.9,\"#4d9221\"],[1,\"#276419\"]]},\"xaxis\":{\"gridcolor\":\"white\",\"linecolor\":\"white\",\"ticks\":\"\",\"title\":{\"standoff\":15},\"zerolinecolor\":\"white\",\"automargin\":true,\"zerolinewidth\":2},\"yaxis\":{\"gridcolor\":\"white\",\"linecolor\":\"white\",\"ticks\":\"\",\"title\":{\"standoff\":15},\"zerolinecolor\":\"white\",\"automargin\":true,\"zerolinewidth\":2},\"scene\":{\"xaxis\":{\"backgroundcolor\":\"#E5ECF6\",\"gridcolor\":\"white\",\"linecolor\":\"white\",\"showbackground\":true,\"ticks\":\"\",\"zerolinecolor\":\"white\",\"gridwidth\":2},\"yaxis\":{\"backgroundcolor\":\"#E5ECF6\",\"gridcolor\":\"white\",\"linecolor\":\"white\",\"showbackground\":true,\"ticks\":\"\",\"zerolinecolor\":\"white\",\"gridwidth\":2},\"zaxis\":{\"backgroundcolor\":\"#E5ECF6\",\"gridcolor\":\"white\",\"linecolor\":\"white\",\"showbackground\":true,\"ticks\":\"\",\"zerolinecolor\":\"white\",\"gridwidth\":2}},\"shapedefaults\":{\"line\":{\"color\":\"#2a3f5f\"}},\"annotationdefaults\":{\"arrowcolor\":\"#2a3f5f\",\"arrowhead\":0,\"arrowwidth\":1},\"geo\":{\"bgcolor\":\"white\",\"landcolor\":\"#E5ECF6\",\"subunitcolor\":\"white\",\"showland\":true,\"showlakes\":true,\"lakecolor\":\"white\"},\"title\":{\"x\":0.05},\"mapbox\":{\"style\":\"light\"}}},\"xaxis\":{\"title\":{\"text\":\"Epoch\"},\"tickmode\":\"linear\",\"tick0\":0,\"dtick\":5},\"yaxis\":{\"title\":{\"text\":\"Loss\"},\"type\":\"linear\",\"range\":[0,null]},\"legend\":{\"x\":0,\"y\":1,\"xanchor\":\"left\",\"yanchor\":\"bottom\",\"orientation\":\"h\"},\"title\":{\"text\":\"FFNN 2 HL, 256 HN training \\u002f validation loss\"},\"width\":600,\"height\":400},                        {\"responsive\": true}                    ).then(function(){\n",
       "                            \n",
       "var gd = document.getElementById('c4768911-8041-4bb1-9e60-10e1714eee32');\n",
       "var x = new MutationObserver(function (mutations, observer) {{\n",
       "        var display = window.getComputedStyle(gd).display;\n",
       "        if (!display || display === 'none') {{\n",
       "            console.log([gd, 'removed!']);\n",
       "            Plotly.purge(gd);\n",
       "            observer.disconnect();\n",
       "        }}\n",
       "}});\n",
       "\n",
       "// Listen for the removal of the full notebook cells\n",
       "var notebookContainer = gd.closest('#notebook-container');\n",
       "if (notebookContainer) {{\n",
       "    x.observe(notebookContainer, {childList: true});\n",
       "}}\n",
       "\n",
       "// Listen for the clearing of the current output cell\n",
       "var outputEl = gd.closest('.output');\n",
       "if (outputEl) {{\n",
       "    x.observe(outputEl, {childList: true});\n",
       "}}\n",
       "\n",
       "                        })                };                });            </script>        </div>"
      ]
     },
     "metadata": {},
     "output_type": "display_data"
    }
   ],
   "source": [
    "# Display training / val data for all models for NGD / SGD\n",
    "\n",
    "loss_figures = {}\n",
    "\n",
    "for title in models.keys():\n",
    "    loss_fig = go.Figure()\n",
    "    color_index = 0\n",
    "    for optim in optimizers:\n",
    "        color = color_cycle[color_index % len(color_cycle)]\n",
    "        color_index += 1\n",
    "        loss_fig.add_trace(go.Scatter(\n",
    "            x=np.arange(0, hp[\"num_epochs\"]+1),\n",
    "            y=train_losses[title][optim],\n",
    "            mode=\"lines\",\n",
    "            line=dict(color=color, width=3),\n",
    "            name=f\"{optim} Train\",\n",
    "        ))\n",
    "\n",
    "        loss_fig.add_trace(go.Scatter(\n",
    "            x=np.arange(0, hp[\"num_epochs\"]+1),\n",
    "            y=val_losses[title][optim],\n",
    "            mode=\"lines\",\n",
    "            line=dict(color=color, dash='dot', width=3),\n",
    "            name=f\"{optim} Validation\",\n",
    "        ))\n",
    "        \n",
    "    loss_fig.update_layout(\n",
    "        title=f\"{title} training / validation loss\",\n",
    "        xaxis_title=\"Epoch\",\n",
    "        yaxis_title=\"Loss\",\n",
    "        xaxis=dict(\n",
    "            tickmode='linear',\n",
    "            tick0=0,\n",
    "            dtick=5,\n",
    "        ),\n",
    "        yaxis_type=\"linear\",\n",
    "        yaxis=dict(\n",
    "        type=\"linear\",\n",
    "        range=[0, None],  # Start at 0, automatic upper limit\n",
    "        ),\n",
    "        width=600,\n",
    "        height=400,\n",
    "        legend=dict(\n",
    "            x=0,\n",
    "            y=1,\n",
    "            xanchor='left',\n",
    "            yanchor='bottom',\n",
    "            orientation='h',\n",
    "        ),\n",
    "    )\n",
    "    loss_figures[title] = loss_fig\n",
    "    loss_fig.show()"
   ]
  },
  {
   "cell_type": "code",
   "execution_count": 58,
   "metadata": {
    "execution": {
     "iopub.execute_input": "2024-04-04T13:50:03.292571Z",
     "iopub.status.busy": "2024-04-04T13:50:03.292571Z",
     "iopub.status.idle": "2024-04-04T13:50:03.622344Z",
     "shell.execute_reply": "2024-04-04T13:50:03.622344Z"
    }
   },
   "outputs": [
    {
     "data": {
      "application/vnd.plotly.v1+json": {
       "config": {
        "plotlyServerURL": "https://plot.ly"
       },
       "data": [
        {
         "line": {
          "color": "rgb(200, 0, 0)",
          "width": 3
         },
         "mode": "lines",
         "name": "ngd update norm",
         "type": "scatter",
         "x": [
          1,
          2,
          3,
          4,
          5,
          6,
          7,
          8,
          9,
          10,
          11,
          12,
          13,
          14,
          15,
          16,
          17,
          18,
          19,
          20,
          21,
          22,
          23,
          24,
          25,
          26,
          27,
          28,
          29,
          30,
          31,
          32,
          33,
          34,
          35,
          36,
          37,
          38,
          39,
          40,
          41,
          42,
          43,
          44,
          45,
          46,
          47,
          48,
          49,
          50,
          51,
          52,
          53,
          54,
          55,
          56,
          57,
          58,
          59,
          60,
          61,
          62,
          63,
          64,
          65,
          66,
          67,
          68,
          69,
          70,
          71,
          72,
          73,
          74,
          75,
          76,
          77,
          78,
          79,
          80
         ],
         "y": [
          null,
          null,
          null,
          null,
          null,
          null,
          null,
          null,
          null,
          null,
          null,
          null,
          null,
          null,
          null,
          null,
          null,
          null,
          null,
          null,
          null,
          null,
          null,
          null,
          null,
          null,
          null,
          null,
          null,
          null,
          0.008081992698172087,
          0.007769725806866927,
          0.007942142599083237,
          0.008030341822804772,
          0.00795045276965523,
          0.008256935452202503,
          0.008066185165543327,
          0.008207073115933368,
          0.008302945723520532,
          0.008419459216263752,
          0.008211902913569727,
          0.008260413518566491,
          0.008381581771834904,
          0.008397347166317517,
          0.008511616176279017,
          0.008437249162769436,
          0.008554472264633683,
          0.008399330413175234,
          0.008625177083929202,
          0.008697131323781993,
          0.008638544401487406,
          0.008687384169053581,
          0.008683247297508223,
          0.00866983081263929,
          0.008981366131622037,
          0.008855452901438134,
          0.008983750781402733,
          0.008940860937190993,
          0.008946800043104653,
          0.008959121903007317,
          0.00897930920816542,
          0.008996293906771759,
          0.008992933832836074,
          0.009176703524039799,
          0.008959473411175065,
          0.00918026439768761,
          0.009244379244454298,
          0.009154963606184239,
          0.009209569762526511,
          0.009193051001147009,
          0.009184882455488179,
          0.009248795643207932,
          0.009113900999296492,
          0.009378432772935213,
          0.009394952940160819,
          0.009195563107270868,
          0.009382327307005155,
          0.009254308381346677,
          0.00940107776172971,
          0.009232939186248972
         ]
        },
        {
         "line": {
          "color": "rgb(32, 102, 168)",
          "width": 3
         },
         "mode": "lines",
         "name": "sgd update norm",
         "type": "scatter",
         "x": [
          1,
          2,
          3,
          4,
          5,
          6,
          7,
          8,
          9,
          10,
          11,
          12,
          13,
          14,
          15,
          16,
          17,
          18,
          19,
          20,
          21,
          22,
          23,
          24,
          25,
          26,
          27,
          28,
          29,
          30,
          31,
          32,
          33,
          34,
          35,
          36,
          37,
          38,
          39,
          40,
          41,
          42,
          43,
          44,
          45,
          46,
          47,
          48,
          49,
          50,
          51,
          52,
          53,
          54,
          55,
          56,
          57,
          58,
          59,
          60,
          61,
          62,
          63,
          64,
          65,
          66,
          67,
          68,
          69,
          70,
          71,
          72,
          73,
          74,
          75,
          76,
          77,
          78,
          79,
          80
         ],
         "y": [
          0.01071574468610602,
          0.006399439949893391,
          0.006376879216715217,
          0.006351366887838497,
          0.006179614732175249,
          0.006389729381332718,
          0.006560581636458781,
          0.00667113394041762,
          0.006760044723748168,
          0.006623419114064722,
          0.006659212018895486,
          0.006492097404699539,
          0.006604474511319351,
          0.006837136894574951,
          0.006696924949536159,
          0.006737173788513941,
          0.006844295020208108,
          0.00677666591486828,
          0.006774632886013285,
          0.0066622353708869824,
          0.006994176775351312,
          0.006843443158323934,
          0.006793533701824663,
          0.006974809274188742,
          0.0070102550638236425,
          0.007127712775485467,
          0.007021321525128232,
          0.007274558257048407,
          0.007279110636468654,
          0.0069065866028084665,
          0.007478329352014466,
          0.007349378524906418,
          0.00739399911951057,
          0.007604106550057071,
          0.0073653110434619045,
          0.0073810265507755195,
          0.007394963216108791,
          0.007525973064825373,
          0.007507258818587792,
          0.0075171444790426275,
          0.007740673039943683,
          0.007646563829107794,
          0.0075499597761842325,
          0.007932480756447174,
          0.007666693489010135,
          0.007755913272378286,
          0.00786792201470157,
          0.0077181633440051,
          0.007831330666314378,
          0.007909646745805797,
          0.008000830081623956,
          0.007896169401953455,
          0.008127763984767045,
          0.007983296292334657,
          0.008193785403037258,
          0.008246338319907802,
          0.008272546701970406,
          0.008352783427326047,
          0.00827209557573486,
          0.008135384066654316,
          0.008309055090319387,
          0.008270865916255716,
          0.008158169389837473,
          0.00828769953041667,
          0.008399279670608047,
          0.008346888812910014,
          0.008553593563200165,
          0.008452065343873346,
          0.008581432126680614,
          0.00851516206288335,
          0.008759167346954146,
          0.008835014588479144,
          0.008806173107755513,
          0.008658255625640038,
          0.008893243752007654,
          0.00848796767994825,
          0.008722353703443993,
          0.008827365197638366,
          0.008811783461086012,
          0.009032120413045236
         ]
        }
       ],
       "layout": {
        "height": 400,
        "legend": {
         "orientation": "h",
         "x": 0,
         "xanchor": "left",
         "y": 1,
         "yanchor": "bottom"
        },
        "template": {
         "data": {
          "bar": [
           {
            "error_x": {
             "color": "#2a3f5f"
            },
            "error_y": {
             "color": "#2a3f5f"
            },
            "marker": {
             "line": {
              "color": "#E5ECF6",
              "width": 0.5
             },
             "pattern": {
              "fillmode": "overlay",
              "size": 10,
              "solidity": 0.2
             }
            },
            "type": "bar"
           }
          ],
          "barpolar": [
           {
            "marker": {
             "line": {
              "color": "#E5ECF6",
              "width": 0.5
             },
             "pattern": {
              "fillmode": "overlay",
              "size": 10,
              "solidity": 0.2
             }
            },
            "type": "barpolar"
           }
          ],
          "carpet": [
           {
            "aaxis": {
             "endlinecolor": "#2a3f5f",
             "gridcolor": "white",
             "linecolor": "white",
             "minorgridcolor": "white",
             "startlinecolor": "#2a3f5f"
            },
            "baxis": {
             "endlinecolor": "#2a3f5f",
             "gridcolor": "white",
             "linecolor": "white",
             "minorgridcolor": "white",
             "startlinecolor": "#2a3f5f"
            },
            "type": "carpet"
           }
          ],
          "choropleth": [
           {
            "colorbar": {
             "outlinewidth": 0,
             "ticks": ""
            },
            "type": "choropleth"
           }
          ],
          "contour": [
           {
            "colorbar": {
             "outlinewidth": 0,
             "ticks": ""
            },
            "colorscale": [
             [
              0,
              "#0d0887"
             ],
             [
              0.1111111111111111,
              "#46039f"
             ],
             [
              0.2222222222222222,
              "#7201a8"
             ],
             [
              0.3333333333333333,
              "#9c179e"
             ],
             [
              0.4444444444444444,
              "#bd3786"
             ],
             [
              0.5555555555555556,
              "#d8576b"
             ],
             [
              0.6666666666666666,
              "#ed7953"
             ],
             [
              0.7777777777777778,
              "#fb9f3a"
             ],
             [
              0.8888888888888888,
              "#fdca26"
             ],
             [
              1,
              "#f0f921"
             ]
            ],
            "type": "contour"
           }
          ],
          "contourcarpet": [
           {
            "colorbar": {
             "outlinewidth": 0,
             "ticks": ""
            },
            "type": "contourcarpet"
           }
          ],
          "heatmap": [
           {
            "colorbar": {
             "outlinewidth": 0,
             "ticks": ""
            },
            "colorscale": [
             [
              0,
              "#0d0887"
             ],
             [
              0.1111111111111111,
              "#46039f"
             ],
             [
              0.2222222222222222,
              "#7201a8"
             ],
             [
              0.3333333333333333,
              "#9c179e"
             ],
             [
              0.4444444444444444,
              "#bd3786"
             ],
             [
              0.5555555555555556,
              "#d8576b"
             ],
             [
              0.6666666666666666,
              "#ed7953"
             ],
             [
              0.7777777777777778,
              "#fb9f3a"
             ],
             [
              0.8888888888888888,
              "#fdca26"
             ],
             [
              1,
              "#f0f921"
             ]
            ],
            "type": "heatmap"
           }
          ],
          "heatmapgl": [
           {
            "colorbar": {
             "outlinewidth": 0,
             "ticks": ""
            },
            "colorscale": [
             [
              0,
              "#0d0887"
             ],
             [
              0.1111111111111111,
              "#46039f"
             ],
             [
              0.2222222222222222,
              "#7201a8"
             ],
             [
              0.3333333333333333,
              "#9c179e"
             ],
             [
              0.4444444444444444,
              "#bd3786"
             ],
             [
              0.5555555555555556,
              "#d8576b"
             ],
             [
              0.6666666666666666,
              "#ed7953"
             ],
             [
              0.7777777777777778,
              "#fb9f3a"
             ],
             [
              0.8888888888888888,
              "#fdca26"
             ],
             [
              1,
              "#f0f921"
             ]
            ],
            "type": "heatmapgl"
           }
          ],
          "histogram": [
           {
            "marker": {
             "pattern": {
              "fillmode": "overlay",
              "size": 10,
              "solidity": 0.2
             }
            },
            "type": "histogram"
           }
          ],
          "histogram2d": [
           {
            "colorbar": {
             "outlinewidth": 0,
             "ticks": ""
            },
            "colorscale": [
             [
              0,
              "#0d0887"
             ],
             [
              0.1111111111111111,
              "#46039f"
             ],
             [
              0.2222222222222222,
              "#7201a8"
             ],
             [
              0.3333333333333333,
              "#9c179e"
             ],
             [
              0.4444444444444444,
              "#bd3786"
             ],
             [
              0.5555555555555556,
              "#d8576b"
             ],
             [
              0.6666666666666666,
              "#ed7953"
             ],
             [
              0.7777777777777778,
              "#fb9f3a"
             ],
             [
              0.8888888888888888,
              "#fdca26"
             ],
             [
              1,
              "#f0f921"
             ]
            ],
            "type": "histogram2d"
           }
          ],
          "histogram2dcontour": [
           {
            "colorbar": {
             "outlinewidth": 0,
             "ticks": ""
            },
            "colorscale": [
             [
              0,
              "#0d0887"
             ],
             [
              0.1111111111111111,
              "#46039f"
             ],
             [
              0.2222222222222222,
              "#7201a8"
             ],
             [
              0.3333333333333333,
              "#9c179e"
             ],
             [
              0.4444444444444444,
              "#bd3786"
             ],
             [
              0.5555555555555556,
              "#d8576b"
             ],
             [
              0.6666666666666666,
              "#ed7953"
             ],
             [
              0.7777777777777778,
              "#fb9f3a"
             ],
             [
              0.8888888888888888,
              "#fdca26"
             ],
             [
              1,
              "#f0f921"
             ]
            ],
            "type": "histogram2dcontour"
           }
          ],
          "mesh3d": [
           {
            "colorbar": {
             "outlinewidth": 0,
             "ticks": ""
            },
            "type": "mesh3d"
           }
          ],
          "parcoords": [
           {
            "line": {
             "colorbar": {
              "outlinewidth": 0,
              "ticks": ""
             }
            },
            "type": "parcoords"
           }
          ],
          "pie": [
           {
            "automargin": true,
            "type": "pie"
           }
          ],
          "scatter": [
           {
            "fillpattern": {
             "fillmode": "overlay",
             "size": 10,
             "solidity": 0.2
            },
            "type": "scatter"
           }
          ],
          "scatter3d": [
           {
            "line": {
             "colorbar": {
              "outlinewidth": 0,
              "ticks": ""
             }
            },
            "marker": {
             "colorbar": {
              "outlinewidth": 0,
              "ticks": ""
             }
            },
            "type": "scatter3d"
           }
          ],
          "scattercarpet": [
           {
            "marker": {
             "colorbar": {
              "outlinewidth": 0,
              "ticks": ""
             }
            },
            "type": "scattercarpet"
           }
          ],
          "scattergeo": [
           {
            "marker": {
             "colorbar": {
              "outlinewidth": 0,
              "ticks": ""
             }
            },
            "type": "scattergeo"
           }
          ],
          "scattergl": [
           {
            "marker": {
             "colorbar": {
              "outlinewidth": 0,
              "ticks": ""
             }
            },
            "type": "scattergl"
           }
          ],
          "scattermapbox": [
           {
            "marker": {
             "colorbar": {
              "outlinewidth": 0,
              "ticks": ""
             }
            },
            "type": "scattermapbox"
           }
          ],
          "scatterpolar": [
           {
            "marker": {
             "colorbar": {
              "outlinewidth": 0,
              "ticks": ""
             }
            },
            "type": "scatterpolar"
           }
          ],
          "scatterpolargl": [
           {
            "marker": {
             "colorbar": {
              "outlinewidth": 0,
              "ticks": ""
             }
            },
            "type": "scatterpolargl"
           }
          ],
          "scatterternary": [
           {
            "marker": {
             "colorbar": {
              "outlinewidth": 0,
              "ticks": ""
             }
            },
            "type": "scatterternary"
           }
          ],
          "surface": [
           {
            "colorbar": {
             "outlinewidth": 0,
             "ticks": ""
            },
            "colorscale": [
             [
              0,
              "#0d0887"
             ],
             [
              0.1111111111111111,
              "#46039f"
             ],
             [
              0.2222222222222222,
              "#7201a8"
             ],
             [
              0.3333333333333333,
              "#9c179e"
             ],
             [
              0.4444444444444444,
              "#bd3786"
             ],
             [
              0.5555555555555556,
              "#d8576b"
             ],
             [
              0.6666666666666666,
              "#ed7953"
             ],
             [
              0.7777777777777778,
              "#fb9f3a"
             ],
             [
              0.8888888888888888,
              "#fdca26"
             ],
             [
              1,
              "#f0f921"
             ]
            ],
            "type": "surface"
           }
          ],
          "table": [
           {
            "cells": {
             "fill": {
              "color": "#EBF0F8"
             },
             "line": {
              "color": "white"
             }
            },
            "header": {
             "fill": {
              "color": "#C8D4E3"
             },
             "line": {
              "color": "white"
             }
            },
            "type": "table"
           }
          ]
         },
         "layout": {
          "annotationdefaults": {
           "arrowcolor": "#2a3f5f",
           "arrowhead": 0,
           "arrowwidth": 1
          },
          "autotypenumbers": "strict",
          "coloraxis": {
           "colorbar": {
            "outlinewidth": 0,
            "ticks": ""
           }
          },
          "colorscale": {
           "diverging": [
            [
             0,
             "#8e0152"
            ],
            [
             0.1,
             "#c51b7d"
            ],
            [
             0.2,
             "#de77ae"
            ],
            [
             0.3,
             "#f1b6da"
            ],
            [
             0.4,
             "#fde0ef"
            ],
            [
             0.5,
             "#f7f7f7"
            ],
            [
             0.6,
             "#e6f5d0"
            ],
            [
             0.7,
             "#b8e186"
            ],
            [
             0.8,
             "#7fbc41"
            ],
            [
             0.9,
             "#4d9221"
            ],
            [
             1,
             "#276419"
            ]
           ],
           "sequential": [
            [
             0,
             "#0d0887"
            ],
            [
             0.1111111111111111,
             "#46039f"
            ],
            [
             0.2222222222222222,
             "#7201a8"
            ],
            [
             0.3333333333333333,
             "#9c179e"
            ],
            [
             0.4444444444444444,
             "#bd3786"
            ],
            [
             0.5555555555555556,
             "#d8576b"
            ],
            [
             0.6666666666666666,
             "#ed7953"
            ],
            [
             0.7777777777777778,
             "#fb9f3a"
            ],
            [
             0.8888888888888888,
             "#fdca26"
            ],
            [
             1,
             "#f0f921"
            ]
           ],
           "sequentialminus": [
            [
             0,
             "#0d0887"
            ],
            [
             0.1111111111111111,
             "#46039f"
            ],
            [
             0.2222222222222222,
             "#7201a8"
            ],
            [
             0.3333333333333333,
             "#9c179e"
            ],
            [
             0.4444444444444444,
             "#bd3786"
            ],
            [
             0.5555555555555556,
             "#d8576b"
            ],
            [
             0.6666666666666666,
             "#ed7953"
            ],
            [
             0.7777777777777778,
             "#fb9f3a"
            ],
            [
             0.8888888888888888,
             "#fdca26"
            ],
            [
             1,
             "#f0f921"
            ]
           ]
          },
          "colorway": [
           "#636efa",
           "#EF553B",
           "#00cc96",
           "#ab63fa",
           "#FFA15A",
           "#19d3f3",
           "#FF6692",
           "#B6E880",
           "#FF97FF",
           "#FECB52"
          ],
          "font": {
           "color": "#2a3f5f"
          },
          "geo": {
           "bgcolor": "white",
           "lakecolor": "white",
           "landcolor": "#E5ECF6",
           "showlakes": true,
           "showland": true,
           "subunitcolor": "white"
          },
          "hoverlabel": {
           "align": "left"
          },
          "hovermode": "closest",
          "mapbox": {
           "style": "light"
          },
          "paper_bgcolor": "white",
          "plot_bgcolor": "#E5ECF6",
          "polar": {
           "angularaxis": {
            "gridcolor": "white",
            "linecolor": "white",
            "ticks": ""
           },
           "bgcolor": "#E5ECF6",
           "radialaxis": {
            "gridcolor": "white",
            "linecolor": "white",
            "ticks": ""
           }
          },
          "scene": {
           "xaxis": {
            "backgroundcolor": "#E5ECF6",
            "gridcolor": "white",
            "gridwidth": 2,
            "linecolor": "white",
            "showbackground": true,
            "ticks": "",
            "zerolinecolor": "white"
           },
           "yaxis": {
            "backgroundcolor": "#E5ECF6",
            "gridcolor": "white",
            "gridwidth": 2,
            "linecolor": "white",
            "showbackground": true,
            "ticks": "",
            "zerolinecolor": "white"
           },
           "zaxis": {
            "backgroundcolor": "#E5ECF6",
            "gridcolor": "white",
            "gridwidth": 2,
            "linecolor": "white",
            "showbackground": true,
            "ticks": "",
            "zerolinecolor": "white"
           }
          },
          "shapedefaults": {
           "line": {
            "color": "#2a3f5f"
           }
          },
          "ternary": {
           "aaxis": {
            "gridcolor": "white",
            "linecolor": "white",
            "ticks": ""
           },
           "baxis": {
            "gridcolor": "white",
            "linecolor": "white",
            "ticks": ""
           },
           "bgcolor": "#E5ECF6",
           "caxis": {
            "gridcolor": "white",
            "linecolor": "white",
            "ticks": ""
           }
          },
          "title": {
           "x": 0.05
          },
          "xaxis": {
           "automargin": true,
           "gridcolor": "white",
           "linecolor": "white",
           "ticks": "",
           "title": {
            "standoff": 15
           },
           "zerolinecolor": "white",
           "zerolinewidth": 2
          },
          "yaxis": {
           "automargin": true,
           "gridcolor": "white",
           "linecolor": "white",
           "ticks": "",
           "title": {
            "standoff": 15
           },
           "zerolinecolor": "white",
           "zerolinewidth": 2
          }
         }
        },
        "title": {
         "text": "FFNN 2 HL, 256 HN update norms over training steps"
        },
        "width": 600,
        "xaxis": {
         "dtick": 5,
         "title": {
          "text": "Steps"
         }
        },
        "yaxis": {
         "title": {
          "text": "Update Size"
         },
         "type": "linear"
        }
       }
      },
      "text/html": [
       "<div>                            <div id=\"9bfa77eb-5133-462b-9599-e7f6d1356bf6\" class=\"plotly-graph-div\" style=\"height:400px; width:600px;\"></div>            <script type=\"text/javascript\">                require([\"plotly\"], function(Plotly) {                    window.PLOTLYENV=window.PLOTLYENV || {};                                    if (document.getElementById(\"9bfa77eb-5133-462b-9599-e7f6d1356bf6\")) {                    Plotly.newPlot(                        \"9bfa77eb-5133-462b-9599-e7f6d1356bf6\",                        [{\"line\":{\"color\":\"rgb(200, 0, 0)\",\"width\":3},\"mode\":\"lines\",\"name\":\"ngd update norm\",\"x\":[1,2,3,4,5,6,7,8,9,10,11,12,13,14,15,16,17,18,19,20,21,22,23,24,25,26,27,28,29,30,31,32,33,34,35,36,37,38,39,40,41,42,43,44,45,46,47,48,49,50,51,52,53,54,55,56,57,58,59,60,61,62,63,64,65,66,67,68,69,70,71,72,73,74,75,76,77,78,79,80],\"y\":[null,null,null,null,null,null,null,null,null,null,null,null,null,null,null,null,null,null,null,null,null,null,null,null,null,null,null,null,null,null,0.008081992698172087,0.007769725806866927,0.007942142599083237,0.008030341822804772,0.00795045276965523,0.008256935452202503,0.008066185165543327,0.008207073115933368,0.008302945723520532,0.008419459216263752,0.008211902913569727,0.008260413518566491,0.008381581771834904,0.008397347166317517,0.008511616176279017,0.008437249162769436,0.008554472264633683,0.008399330413175234,0.008625177083929202,0.008697131323781993,0.008638544401487406,0.008687384169053581,0.008683247297508223,0.00866983081263929,0.008981366131622037,0.008855452901438134,0.008983750781402733,0.008940860937190993,0.008946800043104653,0.008959121903007317,0.00897930920816542,0.008996293906771759,0.008992933832836074,0.009176703524039799,0.008959473411175065,0.00918026439768761,0.009244379244454298,0.009154963606184239,0.009209569762526511,0.009193051001147009,0.009184882455488179,0.009248795643207932,0.009113900999296492,0.009378432772935213,0.009394952940160819,0.009195563107270868,0.009382327307005155,0.009254308381346677,0.00940107776172971,0.009232939186248972],\"type\":\"scatter\"},{\"line\":{\"color\":\"rgb(32, 102, 168)\",\"width\":3},\"mode\":\"lines\",\"name\":\"sgd update norm\",\"x\":[1,2,3,4,5,6,7,8,9,10,11,12,13,14,15,16,17,18,19,20,21,22,23,24,25,26,27,28,29,30,31,32,33,34,35,36,37,38,39,40,41,42,43,44,45,46,47,48,49,50,51,52,53,54,55,56,57,58,59,60,61,62,63,64,65,66,67,68,69,70,71,72,73,74,75,76,77,78,79,80],\"y\":[0.01071574468610602,0.006399439949893391,0.006376879216715217,0.006351366887838497,0.006179614732175249,0.006389729381332718,0.006560581636458781,0.00667113394041762,0.006760044723748168,0.006623419114064722,0.006659212018895486,0.006492097404699539,0.006604474511319351,0.006837136894574951,0.006696924949536159,0.006737173788513941,0.006844295020208108,0.00677666591486828,0.006774632886013285,0.0066622353708869824,0.006994176775351312,0.006843443158323934,0.006793533701824663,0.006974809274188742,0.0070102550638236425,0.007127712775485467,0.007021321525128232,0.007274558257048407,0.007279110636468654,0.0069065866028084665,0.007478329352014466,0.007349378524906418,0.00739399911951057,0.007604106550057071,0.0073653110434619045,0.0073810265507755195,0.007394963216108791,0.007525973064825373,0.007507258818587792,0.0075171444790426275,0.007740673039943683,0.007646563829107794,0.0075499597761842325,0.007932480756447174,0.007666693489010135,0.007755913272378286,0.00786792201470157,0.0077181633440051,0.007831330666314378,0.007909646745805797,0.008000830081623956,0.007896169401953455,0.008127763984767045,0.007983296292334657,0.008193785403037258,0.008246338319907802,0.008272546701970406,0.008352783427326047,0.00827209557573486,0.008135384066654316,0.008309055090319387,0.008270865916255716,0.008158169389837473,0.00828769953041667,0.008399279670608047,0.008346888812910014,0.008553593563200165,0.008452065343873346,0.008581432126680614,0.00851516206288335,0.008759167346954146,0.008835014588479144,0.008806173107755513,0.008658255625640038,0.008893243752007654,0.00848796767994825,0.008722353703443993,0.008827365197638366,0.008811783461086012,0.009032120413045236],\"type\":\"scatter\"}],                        {\"template\":{\"data\":{\"histogram2dcontour\":[{\"type\":\"histogram2dcontour\",\"colorbar\":{\"outlinewidth\":0,\"ticks\":\"\"},\"colorscale\":[[0.0,\"#0d0887\"],[0.1111111111111111,\"#46039f\"],[0.2222222222222222,\"#7201a8\"],[0.3333333333333333,\"#9c179e\"],[0.4444444444444444,\"#bd3786\"],[0.5555555555555556,\"#d8576b\"],[0.6666666666666666,\"#ed7953\"],[0.7777777777777778,\"#fb9f3a\"],[0.8888888888888888,\"#fdca26\"],[1.0,\"#f0f921\"]]}],\"choropleth\":[{\"type\":\"choropleth\",\"colorbar\":{\"outlinewidth\":0,\"ticks\":\"\"}}],\"histogram2d\":[{\"type\":\"histogram2d\",\"colorbar\":{\"outlinewidth\":0,\"ticks\":\"\"},\"colorscale\":[[0.0,\"#0d0887\"],[0.1111111111111111,\"#46039f\"],[0.2222222222222222,\"#7201a8\"],[0.3333333333333333,\"#9c179e\"],[0.4444444444444444,\"#bd3786\"],[0.5555555555555556,\"#d8576b\"],[0.6666666666666666,\"#ed7953\"],[0.7777777777777778,\"#fb9f3a\"],[0.8888888888888888,\"#fdca26\"],[1.0,\"#f0f921\"]]}],\"heatmap\":[{\"type\":\"heatmap\",\"colorbar\":{\"outlinewidth\":0,\"ticks\":\"\"},\"colorscale\":[[0.0,\"#0d0887\"],[0.1111111111111111,\"#46039f\"],[0.2222222222222222,\"#7201a8\"],[0.3333333333333333,\"#9c179e\"],[0.4444444444444444,\"#bd3786\"],[0.5555555555555556,\"#d8576b\"],[0.6666666666666666,\"#ed7953\"],[0.7777777777777778,\"#fb9f3a\"],[0.8888888888888888,\"#fdca26\"],[1.0,\"#f0f921\"]]}],\"heatmapgl\":[{\"type\":\"heatmapgl\",\"colorbar\":{\"outlinewidth\":0,\"ticks\":\"\"},\"colorscale\":[[0.0,\"#0d0887\"],[0.1111111111111111,\"#46039f\"],[0.2222222222222222,\"#7201a8\"],[0.3333333333333333,\"#9c179e\"],[0.4444444444444444,\"#bd3786\"],[0.5555555555555556,\"#d8576b\"],[0.6666666666666666,\"#ed7953\"],[0.7777777777777778,\"#fb9f3a\"],[0.8888888888888888,\"#fdca26\"],[1.0,\"#f0f921\"]]}],\"contourcarpet\":[{\"type\":\"contourcarpet\",\"colorbar\":{\"outlinewidth\":0,\"ticks\":\"\"}}],\"contour\":[{\"type\":\"contour\",\"colorbar\":{\"outlinewidth\":0,\"ticks\":\"\"},\"colorscale\":[[0.0,\"#0d0887\"],[0.1111111111111111,\"#46039f\"],[0.2222222222222222,\"#7201a8\"],[0.3333333333333333,\"#9c179e\"],[0.4444444444444444,\"#bd3786\"],[0.5555555555555556,\"#d8576b\"],[0.6666666666666666,\"#ed7953\"],[0.7777777777777778,\"#fb9f3a\"],[0.8888888888888888,\"#fdca26\"],[1.0,\"#f0f921\"]]}],\"surface\":[{\"type\":\"surface\",\"colorbar\":{\"outlinewidth\":0,\"ticks\":\"\"},\"colorscale\":[[0.0,\"#0d0887\"],[0.1111111111111111,\"#46039f\"],[0.2222222222222222,\"#7201a8\"],[0.3333333333333333,\"#9c179e\"],[0.4444444444444444,\"#bd3786\"],[0.5555555555555556,\"#d8576b\"],[0.6666666666666666,\"#ed7953\"],[0.7777777777777778,\"#fb9f3a\"],[0.8888888888888888,\"#fdca26\"],[1.0,\"#f0f921\"]]}],\"mesh3d\":[{\"type\":\"mesh3d\",\"colorbar\":{\"outlinewidth\":0,\"ticks\":\"\"}}],\"scatter\":[{\"fillpattern\":{\"fillmode\":\"overlay\",\"size\":10,\"solidity\":0.2},\"type\":\"scatter\"}],\"parcoords\":[{\"type\":\"parcoords\",\"line\":{\"colorbar\":{\"outlinewidth\":0,\"ticks\":\"\"}}}],\"scatterpolargl\":[{\"type\":\"scatterpolargl\",\"marker\":{\"colorbar\":{\"outlinewidth\":0,\"ticks\":\"\"}}}],\"bar\":[{\"error_x\":{\"color\":\"#2a3f5f\"},\"error_y\":{\"color\":\"#2a3f5f\"},\"marker\":{\"line\":{\"color\":\"#E5ECF6\",\"width\":0.5},\"pattern\":{\"fillmode\":\"overlay\",\"size\":10,\"solidity\":0.2}},\"type\":\"bar\"}],\"scattergeo\":[{\"type\":\"scattergeo\",\"marker\":{\"colorbar\":{\"outlinewidth\":0,\"ticks\":\"\"}}}],\"scatterpolar\":[{\"type\":\"scatterpolar\",\"marker\":{\"colorbar\":{\"outlinewidth\":0,\"ticks\":\"\"}}}],\"histogram\":[{\"marker\":{\"pattern\":{\"fillmode\":\"overlay\",\"size\":10,\"solidity\":0.2}},\"type\":\"histogram\"}],\"scattergl\":[{\"type\":\"scattergl\",\"marker\":{\"colorbar\":{\"outlinewidth\":0,\"ticks\":\"\"}}}],\"scatter3d\":[{\"type\":\"scatter3d\",\"line\":{\"colorbar\":{\"outlinewidth\":0,\"ticks\":\"\"}},\"marker\":{\"colorbar\":{\"outlinewidth\":0,\"ticks\":\"\"}}}],\"scattermapbox\":[{\"type\":\"scattermapbox\",\"marker\":{\"colorbar\":{\"outlinewidth\":0,\"ticks\":\"\"}}}],\"scatterternary\":[{\"type\":\"scatterternary\",\"marker\":{\"colorbar\":{\"outlinewidth\":0,\"ticks\":\"\"}}}],\"scattercarpet\":[{\"type\":\"scattercarpet\",\"marker\":{\"colorbar\":{\"outlinewidth\":0,\"ticks\":\"\"}}}],\"carpet\":[{\"aaxis\":{\"endlinecolor\":\"#2a3f5f\",\"gridcolor\":\"white\",\"linecolor\":\"white\",\"minorgridcolor\":\"white\",\"startlinecolor\":\"#2a3f5f\"},\"baxis\":{\"endlinecolor\":\"#2a3f5f\",\"gridcolor\":\"white\",\"linecolor\":\"white\",\"minorgridcolor\":\"white\",\"startlinecolor\":\"#2a3f5f\"},\"type\":\"carpet\"}],\"table\":[{\"cells\":{\"fill\":{\"color\":\"#EBF0F8\"},\"line\":{\"color\":\"white\"}},\"header\":{\"fill\":{\"color\":\"#C8D4E3\"},\"line\":{\"color\":\"white\"}},\"type\":\"table\"}],\"barpolar\":[{\"marker\":{\"line\":{\"color\":\"#E5ECF6\",\"width\":0.5},\"pattern\":{\"fillmode\":\"overlay\",\"size\":10,\"solidity\":0.2}},\"type\":\"barpolar\"}],\"pie\":[{\"automargin\":true,\"type\":\"pie\"}]},\"layout\":{\"autotypenumbers\":\"strict\",\"colorway\":[\"#636efa\",\"#EF553B\",\"#00cc96\",\"#ab63fa\",\"#FFA15A\",\"#19d3f3\",\"#FF6692\",\"#B6E880\",\"#FF97FF\",\"#FECB52\"],\"font\":{\"color\":\"#2a3f5f\"},\"hovermode\":\"closest\",\"hoverlabel\":{\"align\":\"left\"},\"paper_bgcolor\":\"white\",\"plot_bgcolor\":\"#E5ECF6\",\"polar\":{\"bgcolor\":\"#E5ECF6\",\"angularaxis\":{\"gridcolor\":\"white\",\"linecolor\":\"white\",\"ticks\":\"\"},\"radialaxis\":{\"gridcolor\":\"white\",\"linecolor\":\"white\",\"ticks\":\"\"}},\"ternary\":{\"bgcolor\":\"#E5ECF6\",\"aaxis\":{\"gridcolor\":\"white\",\"linecolor\":\"white\",\"ticks\":\"\"},\"baxis\":{\"gridcolor\":\"white\",\"linecolor\":\"white\",\"ticks\":\"\"},\"caxis\":{\"gridcolor\":\"white\",\"linecolor\":\"white\",\"ticks\":\"\"}},\"coloraxis\":{\"colorbar\":{\"outlinewidth\":0,\"ticks\":\"\"}},\"colorscale\":{\"sequential\":[[0.0,\"#0d0887\"],[0.1111111111111111,\"#46039f\"],[0.2222222222222222,\"#7201a8\"],[0.3333333333333333,\"#9c179e\"],[0.4444444444444444,\"#bd3786\"],[0.5555555555555556,\"#d8576b\"],[0.6666666666666666,\"#ed7953\"],[0.7777777777777778,\"#fb9f3a\"],[0.8888888888888888,\"#fdca26\"],[1.0,\"#f0f921\"]],\"sequentialminus\":[[0.0,\"#0d0887\"],[0.1111111111111111,\"#46039f\"],[0.2222222222222222,\"#7201a8\"],[0.3333333333333333,\"#9c179e\"],[0.4444444444444444,\"#bd3786\"],[0.5555555555555556,\"#d8576b\"],[0.6666666666666666,\"#ed7953\"],[0.7777777777777778,\"#fb9f3a\"],[0.8888888888888888,\"#fdca26\"],[1.0,\"#f0f921\"]],\"diverging\":[[0,\"#8e0152\"],[0.1,\"#c51b7d\"],[0.2,\"#de77ae\"],[0.3,\"#f1b6da\"],[0.4,\"#fde0ef\"],[0.5,\"#f7f7f7\"],[0.6,\"#e6f5d0\"],[0.7,\"#b8e186\"],[0.8,\"#7fbc41\"],[0.9,\"#4d9221\"],[1,\"#276419\"]]},\"xaxis\":{\"gridcolor\":\"white\",\"linecolor\":\"white\",\"ticks\":\"\",\"title\":{\"standoff\":15},\"zerolinecolor\":\"white\",\"automargin\":true,\"zerolinewidth\":2},\"yaxis\":{\"gridcolor\":\"white\",\"linecolor\":\"white\",\"ticks\":\"\",\"title\":{\"standoff\":15},\"zerolinecolor\":\"white\",\"automargin\":true,\"zerolinewidth\":2},\"scene\":{\"xaxis\":{\"backgroundcolor\":\"#E5ECF6\",\"gridcolor\":\"white\",\"linecolor\":\"white\",\"showbackground\":true,\"ticks\":\"\",\"zerolinecolor\":\"white\",\"gridwidth\":2},\"yaxis\":{\"backgroundcolor\":\"#E5ECF6\",\"gridcolor\":\"white\",\"linecolor\":\"white\",\"showbackground\":true,\"ticks\":\"\",\"zerolinecolor\":\"white\",\"gridwidth\":2},\"zaxis\":{\"backgroundcolor\":\"#E5ECF6\",\"gridcolor\":\"white\",\"linecolor\":\"white\",\"showbackground\":true,\"ticks\":\"\",\"zerolinecolor\":\"white\",\"gridwidth\":2}},\"shapedefaults\":{\"line\":{\"color\":\"#2a3f5f\"}},\"annotationdefaults\":{\"arrowcolor\":\"#2a3f5f\",\"arrowhead\":0,\"arrowwidth\":1},\"geo\":{\"bgcolor\":\"white\",\"landcolor\":\"#E5ECF6\",\"subunitcolor\":\"white\",\"showland\":true,\"showlakes\":true,\"lakecolor\":\"white\"},\"title\":{\"x\":0.05},\"mapbox\":{\"style\":\"light\"}}},\"xaxis\":{\"title\":{\"text\":\"Steps\"},\"dtick\":5},\"yaxis\":{\"title\":{\"text\":\"Update Size\"},\"type\":\"linear\"},\"legend\":{\"x\":0,\"y\":1,\"xanchor\":\"left\",\"yanchor\":\"bottom\",\"orientation\":\"h\"},\"title\":{\"text\":\"FFNN 2 HL, 256 HN update norms over training steps\"},\"width\":600,\"height\":400},                        {\"responsive\": true}                    ).then(function(){\n",
       "                            \n",
       "var gd = document.getElementById('9bfa77eb-5133-462b-9599-e7f6d1356bf6');\n",
       "var x = new MutationObserver(function (mutations, observer) {{\n",
       "        var display = window.getComputedStyle(gd).display;\n",
       "        if (!display || display === 'none') {{\n",
       "            console.log([gd, 'removed!']);\n",
       "            Plotly.purge(gd);\n",
       "            observer.disconnect();\n",
       "        }}\n",
       "}});\n",
       "\n",
       "// Listen for the removal of the full notebook cells\n",
       "var notebookContainer = gd.closest('#notebook-container');\n",
       "if (notebookContainer) {{\n",
       "    x.observe(notebookContainer, {childList: true});\n",
       "}}\n",
       "\n",
       "// Listen for the clearing of the current output cell\n",
       "var outputEl = gd.closest('.output');\n",
       "if (outputEl) {{\n",
       "    x.observe(outputEl, {childList: true});\n",
       "}}\n",
       "\n",
       "                        })                };                });            </script>        </div>"
      ]
     },
     "metadata": {},
     "output_type": "display_data"
    }
   ],
   "source": [
    "# Gradient norms over epochs for NGD and SGD, note that each step corresponds to one minibatch\n",
    "\n",
    "update_norm_figures = {}\n",
    "\n",
    "for title in models.keys():\n",
    "    update_norm_fig = go.Figure()\n",
    "    color_index = 0\n",
    "    for optim in optimizers:\n",
    "        color = color_cycle[color_index % len(color_cycle)]\n",
    "        color_index += 1\n",
    "\n",
    "        #swapping and the adding of Nones to ngd causes the indexing to be weird\n",
    "        if hp[\"experiment_type\"] == \"swap\" and optim=='ngd':\n",
    "            norm_y=update_norms[title][optim][1:]\n",
    "        else:\n",
    "            norm_y=update_norms[title][optim]\n",
    "\n",
    "        update_norm_fig.add_trace(go.Scatter(\n",
    "            x=np.arange(1, hp[\"num_epochs\"]+1),\n",
    "            #y=np.convolve(all_update_norms[title][optim], np.ones(30)/30, mode=\"same\"),\n",
    "            #y=all_update_norms[title][optim],\n",
    "\n",
    "            #remove the first None of ngd as it is added without any updates, the first epoch has no updates\n",
    "            y=norm_y,\n",
    "            mode=\"lines\",\n",
    "            line=dict(color=color, width=3),\n",
    "            name=f\"{optim} update norm\"))\n",
    "    update_norm_fig.update_layout(\n",
    "        title=f\"{title} update norms over training\",\n",
    "        xaxis_title=\"Epochs\",\n",
    "        xaxis=dict(\n",
    "            dtick=5,),\n",
    "        yaxis_title=\"Update Size\",\n",
    "        yaxis_type=\"linear\",\n",
    "        width=600,\n",
    "        height=400,\n",
    "        legend=dict(\n",
    "            x=0,\n",
    "            y=1,\n",
    "            xanchor='left',\n",
    "            yanchor='bottom',\n",
    "            orientation='h',\n",
    "        ),\n",
    "    )\n",
    "    update_norm_figures[title] = update_norm_fig\n",
    "    update_norm_fig.show()"
   ]
  },
  {
   "cell_type": "markdown",
   "metadata": {},
   "source": [
    "#### **4. Perform Hessian rank computation**\n",
    "\n",
    "As a way of verifying results produced by the RLCT, we will compute an approximation of the Hessian for each model at convergence. Then, we'll estimate the rank of this matrix using its eigenspectrum. SLT predicts the following: \n",
    "\n",
    "$\\text{RLCT} \\geq \\frac{\\text{rank}(\\textbf{Hess})}{2}$ \n",
    "\n",
    "We will check whether this is true for our experiments. Hessian computation is done using helper functions from `utils_hessian_fim.py` which acts as a wrapper for the `PyHessian` module (and the `nngeometry` module, for doing computations involving the Fisher Information Matrix)."
   ]
  },
  {
   "cell_type": "code",
   "execution_count": 59,
   "metadata": {
    "execution": {
     "iopub.execute_input": "2024-04-04T13:50:03.676961Z",
     "iopub.status.busy": "2024-04-04T13:50:03.675963Z",
     "iopub.status.idle": "2024-04-04T13:50:04.529767Z",
     "shell.execute_reply": "2024-04-04T13:50:04.529767Z"
    }
   },
   "outputs": [],
   "source": [
    "# Create Hessians for each model - recall that model is a list containing all its past versions\n",
    "if hp[\"hessian\"]:\n",
    "    hessians = {}\n",
    "    for title, model in models.items():\n",
    "        hessian = {}\n",
    "        for optim in optimizers:\n",
    "            hessians_list = produce_hessians(\n",
    "                models=model[optim],\n",
    "                data_loader=train_loader,\n",
    "                num_batches=10,\n",
    "                criterion=criterion,\n",
    "                device=device,\n",
    "            )\n",
    "            hessian[optim] = hessians_list\n",
    "        hessians[title] = hessian"
   ]
  },
  {
   "cell_type": "code",
   "execution_count": 60,
   "metadata": {},
   "outputs": [],
   "source": [
    "# Compute Hessian trace for each model\n",
    "if hp[\"hessian\"]:\n",
    "    hessian_traces = {}\n",
    "    for title, hessian in tqdm(hessians.items(), desc=\"Processing Hessian Traces\"):\n",
    "        hessian_trace = {}\n",
    "        for optim in optimizers:\n",
    "            trace_list = produce_hessian_traces(\n",
    "                hessians=hessian[optim],\n",
    "                tol=1e-05,\n",
    "                maxIters=50,\n",
    "                N=5,\n",
    "            )\n",
    "            hessian_trace[optim] = trace_list\n",
    "        hessian_traces[title] = hessian_trace"
   ]
  },
  {
   "cell_type": "code",
   "execution_count": 61,
   "metadata": {
    "execution": {
     "iopub.execute_input": "2024-04-04T13:50:04.534311Z",
     "iopub.status.busy": "2024-04-04T13:50:04.533046Z",
     "iopub.status.idle": "2024-04-04T14:04:20.087985Z",
     "shell.execute_reply": "2024-04-04T14:04:20.087985Z"
    }
   },
   "outputs": [],
   "source": [
    "# Get the eigenspectum data from the Hessian objects\n",
    "# if hp[\"hessian\"]:\n",
    "#     eigenspectra_data = {}\n",
    "#     eigenspectra_figs = {}\n",
    "#     for title, hessian in tqdm(hessians.items(), desc=\"Processing Hessians\"):\n",
    "#         eigenspectrum_data = {}\n",
    "#         eigenspectrum_figs = {}\n",
    "#         for optim in optimizers:\n",
    "#             eigenspectrum_figs_list, eigenspectrum_data_list = produce_eigenspectra(\n",
    "#                 hessians=hessian[optim],\n",
    "#                 plot_type=\"log\",\n",
    "#             )\n",
    "#             eigenspectrum_figs[optim] = eigenspectrum_figs_list\n",
    "#             eigenspectrum_data[optim] = eigenspectrum_data_list\n",
    "#         eigenspectra_data[title] = eigenspectrum_data\n",
    "#         eigenspectra_figs[title] = eigenspectrum_figs"
   ]
  },
  {
   "cell_type": "code",
   "execution_count": 62,
   "metadata": {
    "execution": {
     "iopub.execute_input": "2024-04-04T14:04:20.091985Z",
     "iopub.status.busy": "2024-04-04T14:04:20.090986Z",
     "iopub.status.idle": "2024-04-04T14:04:20.306228Z",
     "shell.execute_reply": "2024-04-04T14:04:20.306228Z"
    }
   },
   "outputs": [],
   "source": [
    "# Produce the traces of Hessian dimensionality over epochs\n",
    "# if hp[\"hessian\"]:\n",
    "#     hessian_ranks = {}\n",
    "#     for title, eigenspectrum_data in eigenspectra_data.items():\n",
    "#         hessian_rank = {}\n",
    "#         for optim in optimizers:\n",
    "#             hessian_rank_list = find_hessian_dimensionality(eigenspectrum_data[optim])\n",
    "#             hessian_rank[optim] = hessian_rank_list\n",
    "#         hessian_ranks[title] = hessian_rank"
   ]
  },
  {
   "cell_type": "markdown",
   "metadata": {},
   "source": [
    "#### **5. Perform RLCT estimation**\n",
    "\n",
    "Using the `devinterp` library, we perform estimation of the RLCT (Real Log Canonical Threshold) or otherwise known as the LLC (Local Learning Coefficient).\n",
    "\n",
    "`rlct_estimates` is a dictionary containing dictionaries, each of which contain two lists, one for SGD RLCT values over epochs, and one for NGD RLCT values over epochs. The same is true for `wbic_estimates`."
   ]
  },
  {
   "cell_type": "code",
   "execution_count": 63,
   "metadata": {},
   "outputs": [
    {
     "name": "stderr",
     "output_type": "stream",
     "text": [
      "Chain 0: 100%|██████████| 1000/1000 [00:03<00:00, 294.31it/s]\n",
      "Chain 1: 100%|██████████| 1000/1000 [00:02<00:00, 399.11it/s]\n",
      "Chain 0: 100%|██████████| 1000/1000 [00:03<00:00, 322.75it/s]\n",
      "Chain 1: 100%|██████████| 1000/1000 [00:03<00:00, 294.27it/s]\n",
      "Chain 0: 100%|██████████| 1000/1000 [00:02<00:00, 351.47it/s]\n",
      "Chain 1: 100%|██████████| 1000/1000 [00:02<00:00, 403.40it/s]\n",
      "Chain 0: 100%|██████████| 1000/1000 [00:03<00:00, 328.18it/s]\n",
      "Chain 1: 100%|██████████| 1000/1000 [00:02<00:00, 367.09it/s]\n",
      "Chain 0: 100%|██████████| 1000/1000 [00:03<00:00, 297.66it/s]\n",
      "Chain 1: 100%|██████████| 1000/1000 [00:02<00:00, 382.84it/s]\n",
      "Chain 0: 100%|██████████| 1000/1000 [00:02<00:00, 369.13it/s]\n",
      "Chain 1: 100%|██████████| 1000/1000 [00:03<00:00, 307.13it/s]\n",
      "Chain 0: 100%|██████████| 1000/1000 [00:03<00:00, 313.35it/s]\n",
      "Chain 1: 100%|██████████| 1000/1000 [00:02<00:00, 349.13it/s]\n",
      "Chain 0: 100%|██████████| 1000/1000 [00:03<00:00, 313.50it/s]\n",
      "Chain 1: 100%|██████████| 1000/1000 [00:02<00:00, 341.78it/s]\n",
      "Chain 0: 100%|██████████| 1000/1000 [00:02<00:00, 347.00it/s]\n",
      "Chain 1: 100%|██████████| 1000/1000 [00:02<00:00, 349.08it/s]\n",
      "Chain 0: 100%|██████████| 1000/1000 [00:02<00:00, 346.78it/s]\n",
      "Chain 1: 100%|██████████| 1000/1000 [00:02<00:00, 399.48it/s]\n",
      "Chain 0: 100%|██████████| 1000/1000 [00:02<00:00, 382.53it/s]\n",
      "Chain 1: 100%|██████████| 1000/1000 [00:02<00:00, 391.85it/s]\n",
      "Chain 0: 100%|██████████| 1000/1000 [00:02<00:00, 394.89it/s]\n",
      "Chain 1: 100%|██████████| 1000/1000 [00:02<00:00, 383.60it/s]\n",
      "Chain 0: 100%|██████████| 1000/1000 [00:03<00:00, 323.62it/s]\n",
      "Chain 1: 100%|██████████| 1000/1000 [00:02<00:00, 392.91it/s]\n",
      "Chain 0: 100%|██████████| 1000/1000 [00:02<00:00, 364.12it/s]\n",
      "Chain 1: 100%|██████████| 1000/1000 [00:02<00:00, 348.01it/s]\n",
      "Chain 0: 100%|██████████| 1000/1000 [00:02<00:00, 362.49it/s]\n",
      "Chain 1: 100%|██████████| 1000/1000 [00:02<00:00, 351.30it/s]\n",
      "Chain 0: 100%|██████████| 1000/1000 [00:03<00:00, 321.48it/s]\n",
      "Chain 1: 100%|██████████| 1000/1000 [00:02<00:00, 336.83it/s]\n",
      "Chain 0: 100%|██████████| 1000/1000 [00:03<00:00, 297.44it/s]\n",
      "Chain 1: 100%|██████████| 1000/1000 [00:02<00:00, 381.23it/s]\n",
      "Chain 0: 100%|██████████| 1000/1000 [00:02<00:00, 343.11it/s]\n",
      "Chain 1: 100%|██████████| 1000/1000 [00:02<00:00, 343.88it/s]\n",
      "Chain 0: 100%|██████████| 1000/1000 [00:02<00:00, 405.77it/s]\n",
      "Chain 1: 100%|██████████| 1000/1000 [00:02<00:00, 357.41it/s]\n",
      "Chain 0: 100%|██████████| 1000/1000 [00:02<00:00, 416.20it/s]\n",
      "Chain 1: 100%|██████████| 1000/1000 [00:02<00:00, 345.82it/s]\n",
      "Chain 0: 100%|██████████| 1000/1000 [00:02<00:00, 407.51it/s]\n",
      "Chain 1: 100%|██████████| 1000/1000 [00:02<00:00, 409.25it/s]\n",
      "Chain 0: 100%|██████████| 1000/1000 [00:02<00:00, 338.02it/s]\n",
      "Chain 1: 100%|██████████| 1000/1000 [00:02<00:00, 404.11it/s]\n",
      "Chain 0: 100%|██████████| 1000/1000 [00:02<00:00, 395.12it/s]\n",
      "Chain 1: 100%|██████████| 1000/1000 [00:02<00:00, 415.29it/s]\n",
      "Chain 0: 100%|██████████| 1000/1000 [00:02<00:00, 410.62it/s]\n",
      "Chain 1: 100%|██████████| 1000/1000 [00:02<00:00, 378.50it/s]\n",
      "Chain 0: 100%|██████████| 1000/1000 [00:02<00:00, 376.32it/s]\n",
      "Chain 1: 100%|██████████| 1000/1000 [00:02<00:00, 372.06it/s]\n",
      "Chain 0: 100%|██████████| 1000/1000 [00:02<00:00, 375.89it/s]\n",
      "Chain 1: 100%|██████████| 1000/1000 [00:02<00:00, 373.78it/s]\n",
      "Chain 0: 100%|██████████| 1000/1000 [00:02<00:00, 356.13it/s]\n",
      "Chain 1: 100%|██████████| 1000/1000 [00:02<00:00, 347.14it/s]\n",
      "Chain 0: 100%|██████████| 1000/1000 [00:03<00:00, 301.18it/s]\n",
      "Chain 1: 100%|██████████| 1000/1000 [00:02<00:00, 343.87it/s]\n",
      "Chain 0: 100%|██████████| 1000/1000 [00:02<00:00, 354.88it/s]\n",
      "Chain 1: 100%|██████████| 1000/1000 [00:02<00:00, 360.24it/s]\n",
      "Chain 0: 100%|██████████| 1000/1000 [00:02<00:00, 399.91it/s]\n",
      "Chain 1: 100%|██████████| 1000/1000 [00:02<00:00, 360.39it/s]\n",
      "Chain 0: 100%|██████████| 1000/1000 [00:02<00:00, 395.91it/s]\n",
      "Chain 1: 100%|██████████| 1000/1000 [00:02<00:00, 390.99it/s]\n",
      "Chain 0: 100%|██████████| 1000/1000 [00:02<00:00, 361.59it/s]\n",
      "Chain 1: 100%|██████████| 1000/1000 [00:02<00:00, 341.71it/s]\n",
      "Chain 0: 100%|██████████| 1000/1000 [00:02<00:00, 351.65it/s]\n",
      "Chain 1: 100%|██████████| 1000/1000 [00:02<00:00, 339.67it/s]\n",
      "Chain 0: 100%|██████████| 1000/1000 [00:02<00:00, 335.04it/s]\n",
      "Chain 1: 100%|██████████| 1000/1000 [00:02<00:00, 353.06it/s]\n",
      "Chain 0: 100%|██████████| 1000/1000 [00:02<00:00, 370.02it/s]\n",
      "Chain 1: 100%|██████████| 1000/1000 [00:02<00:00, 390.56it/s]\n",
      "Chain 0: 100%|██████████| 1000/1000 [00:02<00:00, 352.72it/s]\n",
      "Chain 1: 100%|██████████| 1000/1000 [00:02<00:00, 368.94it/s]\n",
      "Chain 0: 100%|██████████| 1000/1000 [00:03<00:00, 316.90it/s]\n",
      "Chain 1: 100%|██████████| 1000/1000 [00:02<00:00, 340.61it/s]\n",
      "Chain 0: 100%|██████████| 1000/1000 [00:02<00:00, 344.35it/s]\n",
      "Chain 1: 100%|██████████| 1000/1000 [00:02<00:00, 362.96it/s]\n",
      "Chain 0: 100%|██████████| 1000/1000 [00:02<00:00, 344.91it/s]\n",
      "Chain 1: 100%|██████████| 1000/1000 [00:02<00:00, 364.80it/s]\n",
      "Chain 0: 100%|██████████| 1000/1000 [00:02<00:00, 341.25it/s]\n",
      "Chain 1: 100%|██████████| 1000/1000 [00:02<00:00, 382.94it/s]\n",
      "Chain 0: 100%|██████████| 1000/1000 [00:02<00:00, 406.12it/s]\n",
      "Chain 1: 100%|██████████| 1000/1000 [00:02<00:00, 384.42it/s]\n",
      "Chain 0: 100%|██████████| 1000/1000 [00:02<00:00, 385.52it/s]\n",
      "Chain 1: 100%|██████████| 1000/1000 [00:02<00:00, 357.14it/s]\n",
      "Chain 0: 100%|██████████| 1000/1000 [00:02<00:00, 354.06it/s]\n",
      "Chain 1: 100%|██████████| 1000/1000 [00:02<00:00, 398.91it/s]\n",
      "Chain 0: 100%|██████████| 1000/1000 [00:02<00:00, 367.16it/s]\n",
      "Chain 1: 100%|██████████| 1000/1000 [00:02<00:00, 408.09it/s]\n",
      "Chain 0: 100%|██████████| 1000/1000 [00:02<00:00, 398.92it/s]\n",
      "Chain 1: 100%|██████████| 1000/1000 [00:02<00:00, 388.29it/s]\n",
      "Chain 0: 100%|██████████| 1000/1000 [00:02<00:00, 363.67it/s]\n",
      "Chain 1: 100%|██████████| 1000/1000 [00:02<00:00, 367.21it/s]\n",
      "Chain 0: 100%|██████████| 1000/1000 [00:02<00:00, 358.97it/s]\n",
      "Chain 1: 100%|██████████| 1000/1000 [00:02<00:00, 354.74it/s]\n",
      "Chain 0: 100%|██████████| 1000/1000 [00:03<00:00, 304.92it/s]\n",
      "Chain 1: 100%|██████████| 1000/1000 [00:02<00:00, 342.51it/s]\n",
      "Chain 0: 100%|██████████| 1000/1000 [00:02<00:00, 338.17it/s]\n",
      "Chain 1: 100%|██████████| 1000/1000 [00:02<00:00, 380.55it/s]\n",
      "Chain 0: 100%|██████████| 1000/1000 [00:02<00:00, 369.50it/s]\n",
      "Chain 1: 100%|██████████| 1000/1000 [00:02<00:00, 353.93it/s]\n",
      "100%|██████████| 81/81 [04:48<00:00,  3.56s/it]\n",
      "Chain 0: 100%|██████████| 1000/1000 [00:02<00:00, 341.48it/s]\n",
      "Chain 1: 100%|██████████| 1000/1000 [00:02<00:00, 344.28it/s]\n",
      "Chain 0: 100%|██████████| 1000/1000 [00:02<00:00, 342.33it/s]\n",
      "Chain 1: 100%|██████████| 1000/1000 [00:03<00:00, 316.36it/s]\n",
      "Chain 0: 100%|██████████| 1000/1000 [00:02<00:00, 401.03it/s]\n",
      "Chain 1: 100%|██████████| 1000/1000 [00:02<00:00, 413.95it/s]\n",
      "Chain 0: 100%|██████████| 1000/1000 [00:02<00:00, 376.54it/s]\n",
      "Chain 1: 100%|██████████| 1000/1000 [00:02<00:00, 389.84it/s]\n",
      "Chain 0: 100%|██████████| 1000/1000 [00:02<00:00, 372.21it/s]\n",
      "Chain 1: 100%|██████████| 1000/1000 [00:02<00:00, 391.11it/s]\n",
      "Chain 0: 100%|██████████| 1000/1000 [00:02<00:00, 371.73it/s]\n",
      "Chain 1: 100%|██████████| 1000/1000 [00:02<00:00, 361.43it/s]\n",
      "Chain 0: 100%|██████████| 1000/1000 [00:02<00:00, 344.55it/s]\n",
      "Chain 1: 100%|██████████| 1000/1000 [00:02<00:00, 348.05it/s]\n",
      "Chain 0: 100%|██████████| 1000/1000 [00:02<00:00, 356.14it/s]\n",
      "Chain 1: 100%|██████████| 1000/1000 [00:02<00:00, 345.74it/s]\n",
      "Chain 0: 100%|██████████| 1000/1000 [00:02<00:00, 350.23it/s]\n",
      "Chain 1: 100%|██████████| 1000/1000 [00:02<00:00, 354.45it/s]\n",
      "Chain 0: 100%|██████████| 1000/1000 [00:02<00:00, 358.33it/s]\n",
      "Chain 1: 100%|██████████| 1000/1000 [00:02<00:00, 364.28it/s]\n",
      "Chain 0: 100%|██████████| 1000/1000 [00:02<00:00, 343.10it/s]\n",
      "Chain 1: 100%|██████████| 1000/1000 [00:02<00:00, 410.24it/s]\n",
      "Chain 0: 100%|██████████| 1000/1000 [00:02<00:00, 396.77it/s]\n",
      "Chain 1: 100%|██████████| 1000/1000 [00:02<00:00, 409.09it/s]\n",
      "Chain 0: 100%|██████████| 1000/1000 [00:02<00:00, 401.39it/s]\n",
      "Chain 1: 100%|██████████| 1000/1000 [00:02<00:00, 408.96it/s]\n",
      "Chain 0: 100%|██████████| 1000/1000 [00:02<00:00, 336.55it/s]\n",
      "Chain 1: 100%|██████████| 1000/1000 [00:02<00:00, 362.73it/s]\n",
      "Chain 0: 100%|██████████| 1000/1000 [00:03<00:00, 324.50it/s]\n",
      "Chain 1: 100%|██████████| 1000/1000 [00:02<00:00, 347.92it/s]\n",
      "Chain 0: 100%|██████████| 1000/1000 [00:02<00:00, 398.62it/s]\n",
      "Chain 1: 100%|██████████| 1000/1000 [00:02<00:00, 400.31it/s]\n",
      "Chain 0: 100%|██████████| 1000/1000 [00:02<00:00, 354.27it/s]\n",
      "Chain 1: 100%|██████████| 1000/1000 [00:02<00:00, 351.65it/s]\n",
      "Chain 0: 100%|██████████| 1000/1000 [00:02<00:00, 342.89it/s]\n",
      "Chain 1: 100%|██████████| 1000/1000 [00:02<00:00, 341.87it/s]\n",
      "Chain 0: 100%|██████████| 1000/1000 [00:02<00:00, 353.60it/s]\n",
      "Chain 1: 100%|██████████| 1000/1000 [00:02<00:00, 371.64it/s]\n",
      "Chain 0: 100%|██████████| 1000/1000 [00:02<00:00, 351.48it/s]\n",
      "Chain 1: 100%|██████████| 1000/1000 [00:02<00:00, 368.74it/s]\n",
      "Chain 0: 100%|██████████| 1000/1000 [00:02<00:00, 379.13it/s]\n",
      "Chain 1: 100%|██████████| 1000/1000 [00:02<00:00, 379.04it/s]\n",
      "Chain 0: 100%|██████████| 1000/1000 [00:02<00:00, 366.42it/s]\n",
      "Chain 1: 100%|██████████| 1000/1000 [00:02<00:00, 374.60it/s]\n",
      "Chain 0: 100%|██████████| 1000/1000 [00:02<00:00, 374.23it/s]\n",
      "Chain 1: 100%|██████████| 1000/1000 [00:02<00:00, 346.62it/s]\n",
      "Chain 0: 100%|██████████| 1000/1000 [00:03<00:00, 316.24it/s]\n",
      "Chain 1: 100%|██████████| 1000/1000 [00:02<00:00, 338.35it/s]\n",
      "Chain 0: 100%|██████████| 1000/1000 [00:02<00:00, 361.36it/s]\n",
      "Chain 1: 100%|██████████| 1000/1000 [00:02<00:00, 398.14it/s]\n",
      "Chain 0: 100%|██████████| 1000/1000 [00:02<00:00, 391.80it/s]\n",
      "Chain 1: 100%|██████████| 1000/1000 [00:02<00:00, 400.81it/s]\n",
      "Chain 0: 100%|██████████| 1000/1000 [00:02<00:00, 353.67it/s]\n",
      "Chain 1: 100%|██████████| 1000/1000 [00:02<00:00, 342.38it/s]\n",
      "Chain 0: 100%|██████████| 1000/1000 [00:02<00:00, 355.35it/s]\n",
      "Chain 1: 100%|██████████| 1000/1000 [00:02<00:00, 381.62it/s]\n",
      "Chain 0: 100%|██████████| 1000/1000 [00:02<00:00, 377.45it/s]\n",
      "Chain 1: 100%|██████████| 1000/1000 [00:02<00:00, 368.16it/s]\n",
      "Chain 0: 100%|██████████| 1000/1000 [00:02<00:00, 348.70it/s]\n",
      "Chain 1: 100%|██████████| 1000/1000 [00:02<00:00, 351.30it/s]\n",
      "Chain 0: 100%|██████████| 1000/1000 [00:03<00:00, 307.19it/s]\n",
      "Chain 1: 100%|██████████| 1000/1000 [00:02<00:00, 370.05it/s]\n",
      "Chain 0: 100%|██████████| 1000/1000 [00:02<00:00, 352.10it/s]\n",
      "Chain 1: 100%|██████████| 1000/1000 [00:02<00:00, 401.86it/s]\n",
      "Chain 0: 100%|██████████| 1000/1000 [00:02<00:00, 399.07it/s]\n",
      "Chain 1: 100%|██████████| 1000/1000 [00:02<00:00, 401.08it/s]\n",
      "Chain 0: 100%|██████████| 1000/1000 [00:02<00:00, 406.71it/s]\n",
      "Chain 1: 100%|██████████| 1000/1000 [00:02<00:00, 409.23it/s]\n",
      "Chain 0: 100%|██████████| 1000/1000 [00:02<00:00, 372.53it/s]\n",
      "Chain 1: 100%|██████████| 1000/1000 [00:02<00:00, 398.42it/s]\n",
      "Chain 0: 100%|██████████| 1000/1000 [00:02<00:00, 391.79it/s]\n",
      "Chain 1: 100%|██████████| 1000/1000 [00:02<00:00, 387.74it/s]\n",
      "Chain 0: 100%|██████████| 1000/1000 [00:02<00:00, 378.23it/s]\n",
      "Chain 1: 100%|██████████| 1000/1000 [00:02<00:00, 399.96it/s]\n",
      "Chain 0: 100%|██████████| 1000/1000 [00:02<00:00, 388.42it/s]\n",
      "Chain 1: 100%|██████████| 1000/1000 [00:02<00:00, 343.43it/s]\n",
      "Chain 0: 100%|██████████| 1000/1000 [00:02<00:00, 353.18it/s]\n",
      "Chain 1: 100%|██████████| 1000/1000 [00:02<00:00, 349.63it/s]\n",
      "Chain 0: 100%|██████████| 1000/1000 [00:02<00:00, 339.72it/s]\n",
      "Chain 1: 100%|██████████| 1000/1000 [00:02<00:00, 344.25it/s]\n",
      "Chain 0: 100%|██████████| 1000/1000 [00:02<00:00, 344.56it/s]\n",
      "Chain 1: 100%|██████████| 1000/1000 [00:02<00:00, 377.59it/s]\n",
      "Chain 0: 100%|██████████| 1000/1000 [00:02<00:00, 368.85it/s]\n",
      "Chain 1: 100%|██████████| 1000/1000 [00:02<00:00, 346.92it/s]\n",
      "Chain 0: 100%|██████████| 1000/1000 [00:02<00:00, 367.54it/s]\n",
      "Chain 1: 100%|██████████| 1000/1000 [00:02<00:00, 375.15it/s]\n",
      "Chain 0: 100%|██████████| 1000/1000 [00:02<00:00, 340.72it/s]\n",
      "Chain 1: 100%|██████████| 1000/1000 [00:02<00:00, 370.19it/s]\n",
      "Chain 0: 100%|██████████| 1000/1000 [00:03<00:00, 306.83it/s]\n",
      "Chain 1: 100%|██████████| 1000/1000 [00:02<00:00, 356.09it/s]\n",
      "Chain 0: 100%|██████████| 1000/1000 [00:02<00:00, 336.80it/s]\n",
      "Chain 1: 100%|██████████| 1000/1000 [00:02<00:00, 346.73it/s]\n",
      "Chain 0: 100%|██████████| 1000/1000 [00:02<00:00, 369.11it/s]\n",
      "Chain 1: 100%|██████████| 1000/1000 [00:02<00:00, 351.24it/s]\n",
      "Chain 0: 100%|██████████| 1000/1000 [00:02<00:00, 367.47it/s]\n",
      "Chain 1: 100%|██████████| 1000/1000 [00:02<00:00, 355.21it/s]\n",
      "Chain 0: 100%|██████████| 1000/1000 [00:02<00:00, 374.86it/s]\n",
      "Chain 1: 100%|██████████| 1000/1000 [00:02<00:00, 380.24it/s]\n",
      "Chain 0: 100%|██████████| 1000/1000 [00:02<00:00, 345.19it/s]\n",
      "Chain 1: 100%|██████████| 1000/1000 [00:02<00:00, 341.83it/s]\n",
      "Chain 0: 100%|██████████| 1000/1000 [00:02<00:00, 362.79it/s]\n",
      "Chain 1: 100%|██████████| 1000/1000 [00:02<00:00, 351.88it/s]\n",
      "Chain 0: 100%|██████████| 1000/1000 [00:02<00:00, 369.46it/s]\n",
      "Chain 1: 100%|██████████| 1000/1000 [00:02<00:00, 377.68it/s]\n",
      "Chain 0: 100%|██████████| 1000/1000 [00:02<00:00, 367.00it/s]\n",
      "Chain 1: 100%|██████████| 1000/1000 [00:02<00:00, 398.20it/s]\n",
      "Chain 0: 100%|██████████| 1000/1000 [00:02<00:00, 352.23it/s]\n",
      "Chain 1: 100%|██████████| 1000/1000 [00:02<00:00, 353.49it/s]\n",
      "Chain 0: 100%|██████████| 1000/1000 [00:02<00:00, 402.97it/s]\n",
      "Chain 1: 100%|██████████| 1000/1000 [00:02<00:00, 391.47it/s]\n",
      "Chain 0: 100%|██████████| 1000/1000 [00:02<00:00, 397.35it/s]\n",
      "Chain 1: 100%|██████████| 1000/1000 [00:02<00:00, 389.77it/s]\n",
      "Chain 0: 100%|██████████| 1000/1000 [00:02<00:00, 353.88it/s]\n",
      "Chain 1: 100%|██████████| 1000/1000 [00:02<00:00, 405.88it/s]\n",
      "Chain 0: 100%|██████████| 1000/1000 [00:02<00:00, 339.71it/s]\n",
      "Chain 1: 100%|██████████| 1000/1000 [00:02<00:00, 411.03it/s]\n",
      "Chain 0: 100%|██████████| 1000/1000 [00:02<00:00, 364.56it/s]\n",
      "Chain 1: 100%|██████████| 1000/1000 [00:02<00:00, 343.85it/s]\n",
      "Chain 0: 100%|██████████| 1000/1000 [00:03<00:00, 329.43it/s]\n",
      "Chain 1: 100%|██████████| 1000/1000 [00:02<00:00, 376.53it/s]\n",
      "Chain 0: 100%|██████████| 1000/1000 [00:02<00:00, 349.71it/s]\n",
      "Chain 1: 100%|██████████| 1000/1000 [00:02<00:00, 348.66it/s]\n",
      "Chain 0: 100%|██████████| 1000/1000 [00:02<00:00, 358.31it/s]\n",
      "Chain 1: 100%|██████████| 1000/1000 [00:02<00:00, 343.90it/s]\n",
      "Chain 0: 100%|██████████| 1000/1000 [00:02<00:00, 355.87it/s]\n",
      "Chain 1: 100%|██████████| 1000/1000 [00:02<00:00, 353.01it/s]\n",
      "Chain 0: 100%|██████████| 1000/1000 [00:03<00:00, 312.73it/s]\n",
      "Chain 1: 100%|██████████| 1000/1000 [00:02<00:00, 399.85it/s]\n",
      "Chain 0: 100%|██████████| 1000/1000 [00:02<00:00, 377.11it/s]\n",
      "Chain 1: 100%|██████████| 1000/1000 [00:02<00:00, 399.58it/s]\n",
      "Chain 0: 100%|██████████| 1000/1000 [00:03<00:00, 323.03it/s]\n",
      "Chain 1: 100%|██████████| 1000/1000 [00:02<00:00, 335.64it/s]\n",
      "Chain 0: 100%|██████████| 1000/1000 [00:03<00:00, 299.45it/s]\n",
      "Chain 1: 100%|██████████| 1000/1000 [00:03<00:00, 320.91it/s]\n",
      "Chain 0: 100%|██████████| 1000/1000 [00:02<00:00, 405.77it/s]\n",
      "Chain 1: 100%|██████████| 1000/1000 [00:02<00:00, 400.04it/s]\n",
      "Chain 0: 100%|██████████| 1000/1000 [00:03<00:00, 297.58it/s]\n",
      "Chain 1: 100%|██████████| 1000/1000 [00:03<00:00, 321.58it/s]\n",
      "Chain 0: 100%|██████████| 1000/1000 [00:02<00:00, 352.96it/s]\n",
      "Chain 1: 100%|██████████| 1000/1000 [00:03<00:00, 294.08it/s]\n",
      "Chain 0: 100%|██████████| 1000/1000 [00:03<00:00, 283.55it/s]\n",
      "Chain 1: 100%|██████████| 1000/1000 [00:03<00:00, 286.29it/s]\n",
      "Chain 0: 100%|██████████| 1000/1000 [00:03<00:00, 333.30it/s]\n",
      "Chain 1: 100%|██████████| 1000/1000 [00:03<00:00, 301.88it/s]\n",
      "Chain 0: 100%|██████████| 1000/1000 [00:02<00:00, 361.01it/s]\n",
      "Chain 1: 100%|██████████| 1000/1000 [00:02<00:00, 361.49it/s]\n",
      "Chain 0: 100%|██████████| 1000/1000 [00:03<00:00, 271.24it/s]\n",
      "Chain 1: 100%|██████████| 1000/1000 [00:02<00:00, 410.46it/s]\n",
      "Chain 0: 100%|██████████| 1000/1000 [00:02<00:00, 393.62it/s]\n",
      "Chain 1: 100%|██████████| 1000/1000 [00:02<00:00, 339.86it/s]\n",
      "Chain 0: 100%|██████████| 1000/1000 [00:03<00:00, 331.51it/s]\n",
      "Chain 1: 100%|██████████| 1000/1000 [00:02<00:00, 389.24it/s]\n",
      "Chain 0: 100%|██████████| 1000/1000 [00:02<00:00, 410.22it/s]\n",
      "Chain 1: 100%|██████████| 1000/1000 [00:03<00:00, 297.52it/s]\n",
      "Chain 0: 100%|██████████| 1000/1000 [00:02<00:00, 376.26it/s]\n",
      "Chain 1: 100%|██████████| 1000/1000 [00:02<00:00, 358.74it/s]\n",
      "Chain 0: 100%|██████████| 1000/1000 [00:03<00:00, 308.34it/s]\n",
      "Chain 1: 100%|██████████| 1000/1000 [00:03<00:00, 299.01it/s]\n",
      "Chain 0: 100%|██████████| 1000/1000 [00:02<00:00, 344.00it/s]\n",
      "Chain 1: 100%|██████████| 1000/1000 [00:02<00:00, 354.92it/s]\n",
      "Chain 0: 100%|██████████| 1000/1000 [00:03<00:00, 264.35it/s]\n",
      "Chain 1: 100%|██████████| 1000/1000 [00:02<00:00, 381.77it/s]\n",
      "100%|██████████| 81/81 [07:48<00:00,  5.79s/it]\n"
     ]
    }
   ],
   "source": [
    "# Online LLC / WBIC estimation\n",
    "\n",
    "wbic_histories = {}\n",
    "llc_histories = {}\n",
    "\n",
    "wbic_estimates = {}\n",
    "llc_estimates = {}\n",
    "\n",
    "for title, model in models.items():\n",
    "    wbic_estimate = {}\n",
    "    wbic_history = {}\n",
    "    llc_estimate = {}\n",
    "    llc_history = {}\n",
    "    for optim in optimizers:\n",
    "        llc_values_list, llc_history_list, wbic_values_list, wbic_history_list = estimate_rlcts_online(\n",
    "            model[optim], train_loader, criterion, device, devinterp_args, wbic=True\n",
    "        )\n",
    "        wbic_estimate[optim] = wbic_values_list\n",
    "        wbic_history[optim] = wbic_history_list\n",
    "        llc_estimate[optim] = llc_values_list\n",
    "        llc_history[optim] = llc_history_list\n",
    "    wbic_estimates[title] = wbic_estimate\n",
    "    wbic_histories[title] = wbic_history\n",
    "    llc_estimates[title] = llc_estimate\n",
    "    llc_histories[title] = llc_history"
   ]
  },
  {
   "cell_type": "markdown",
   "metadata": {},
   "source": [
    "#### **6. Visualise RLCT / Hessian rank, Hessian eigenspectra, generalisation loss, RLCT convergence**\n",
    "\n",
    "We display the following final figures:\n",
    "- RLCT and Hessian rank evolution for each model, for NGD and SGD\n",
    "- Hessian eigenspectra for SGD and NGD overlaid on the same plot\n",
    "- Evolution of generalisation loss for each model, compared to validation loss\n",
    "- RLCT moving average evolution for each model, for NGD and SGD, to check for convergence"
   ]
  },
  {
   "cell_type": "code",
   "execution_count": 64,
   "metadata": {
    "execution": {
     "iopub.execute_input": "2024-04-04T14:34:40.835348Z",
     "iopub.status.busy": "2024-04-04T14:34:40.835348Z",
     "iopub.status.idle": "2024-04-04T14:34:40.866670Z",
     "shell.execute_reply": "2024-04-04T14:34:40.866670Z"
    }
   },
   "outputs": [],
   "source": [
    "# Visualise RLCT and Hessian rank data\n",
    "exp_figures = {}\n",
    "if hp[\"hessian\"]:\n",
    "    for title in models.keys():\n",
    "        exp_fig = make_subplots(specs=[[{\"secondary_y\" : True}]])\n",
    "        color_index = 0\n",
    "        for optim in optimizers:\n",
    "            color = color_cycle[color_index % len(color_cycle)]\n",
    "            color_index += 1\n",
    "            exp_fig.add_trace(go.Scatter(\n",
    "                x=np.arange(0, hp[\"num_epochs\"]+1),\n",
    "                y=llc_estimates[title][optim],\n",
    "                mode=\"lines\",\n",
    "                name=f\"{optim} LLC\",\n",
    "                line=dict(color=color, width=3),\n",
    "            ), secondary_y=False)\n",
    "            exp_fig.add_trace(go.Scatter(\n",
    "                x=np.arange(0, hp[\"num_epochs\"]+1),\n",
    "                y=hessian_traces[title][optim][1:],\n",
    "                mode=\"lines\",\n",
    "                name=f\"{optim} Hessian Trace\",\n",
    "                line=dict(color=color, dash=\"dash\", width=3)\n",
    "            ), secondary_y=True)\n",
    "        exp_fig.update_layout(\n",
    "            title=f\"{title} LLC / Hessian Trace\",\n",
    "            xaxis_title=\"Epoch\",\n",
    "            xaxis=dict(\n",
    "                tickmode='linear',\n",
    "                tick0=0,\n",
    "                dtick=10,\n",
    "            ),\n",
    "            yaxis_type=\"linear\",\n",
    "            width=600,\n",
    "            height=400,\n",
    "            legend=dict(\n",
    "                x=0,\n",
    "                y=1,\n",
    "                xanchor='left',\n",
    "                yanchor='bottom',\n",
    "                orientation='h',\n",
    "            ),\n",
    "        )\n",
    "        exp_fig.update_yaxes(title_text=\"LLC\", secondary_y=False)\n",
    "        exp_fig.update_yaxes(title_text=\"Hessian Trace\", secondary_y=True)\n",
    "        exp_figures[title] = exp_fig\n",
    "        exp_fig.show()   "
   ]
  },
  {
   "cell_type": "code",
   "execution_count": 65,
   "metadata": {},
   "outputs": [
    {
     "data": {
      "application/vnd.plotly.v1+json": {
       "config": {
        "plotlyServerURL": "https://plot.ly"
       },
       "data": [
        {
         "line": {
          "color": "rgb(200, 0, 0)",
          "width": 3
         },
         "mode": "lines",
         "name": "ngd LLC",
         "type": "scatter",
         "x": [
          1,
          2,
          3,
          4,
          5,
          6,
          7,
          8,
          9,
          10,
          11,
          12,
          13,
          14,
          15,
          16,
          17,
          18,
          19,
          20,
          21,
          22,
          23,
          24,
          25,
          26,
          27,
          28,
          29,
          30,
          31,
          32,
          33,
          34,
          35,
          36,
          37,
          38,
          39,
          40,
          41,
          42,
          43,
          44,
          45,
          46,
          47,
          48,
          49,
          50,
          51,
          52,
          53,
          54,
          55,
          56,
          57,
          58,
          59,
          60,
          61,
          62,
          63,
          64,
          65,
          66,
          67,
          68,
          69,
          70,
          71,
          72,
          73,
          74,
          75,
          76,
          77,
          78,
          79,
          80
         ],
         "xaxis": "x",
         "y": [
          null,
          null,
          null,
          null,
          null,
          null,
          null,
          null,
          null,
          null,
          null,
          null,
          null,
          null,
          null,
          null,
          null,
          null,
          null,
          null,
          null,
          null,
          null,
          null,
          null,
          null,
          null,
          null,
          null,
          null,
          null,
          26.908889770507812,
          29.908357620239258,
          28.779470443725586,
          29.707841873168945,
          27.925559997558594,
          28.987537384033203,
          31.175037384033203,
          30.495792388916016,
          30.65633773803711,
          31.571916580200195,
          31.42153549194336,
          30.807464599609375,
          32.24360275268555,
          31.664628982543945,
          29.933752059936523,
          32.02354431152344,
          33.050537109375,
          33.84278106689453,
          33.904869079589844,
          32.41188049316406,
          34.61439514160156,
          35.2265625,
          35.05718994140625,
          34.81201171875,
          36.00988006591797,
          35.10105895996094,
          35.47373962402344,
          36.115501403808594,
          34.824188232421875,
          38.621681213378906,
          36.413360595703125,
          38.57093048095703,
          38.36054229736328,
          38.06875228881836,
          38.249732971191406,
          38.914100646972656,
          38.40082550048828,
          38.72331237792969,
          39.73194885253906,
          40.74046325683594,
          40.9840087890625,
          39.69403839111328,
          41.979217529296875,
          42.55564498901367,
          40.97815704345703,
          40.58354949951172,
          43.628143310546875,
          42.34992218017578,
          42.942649841308594,
          42.894752502441406
         ],
         "yaxis": "y"
        },
        {
         "line": {
          "color": "rgb(200, 0, 0)",
          "dash": "dash",
          "width": 3
         },
         "mode": "lines",
         "name": "ngd Validation Loss",
         "type": "scatter",
         "x": [
          0,
          1,
          2,
          3,
          4,
          5,
          6,
          7,
          8,
          9,
          10,
          11,
          12,
          13,
          14,
          15,
          16,
          17,
          18,
          19,
          20,
          21,
          22,
          23,
          24,
          25,
          26,
          27,
          28,
          29,
          30,
          31,
          32,
          33,
          34,
          35,
          36,
          37,
          38,
          39,
          40,
          41,
          42,
          43,
          44,
          45,
          46,
          47,
          48,
          49,
          50,
          51,
          52,
          53,
          54,
          55,
          56,
          57,
          58,
          59,
          60,
          61,
          62,
          63,
          64,
          65,
          66,
          67,
          68,
          69,
          70,
          71,
          72,
          73,
          74,
          75,
          76,
          77,
          78,
          79,
          80
         ],
         "xaxis": "x",
         "y": [
          null,
          null,
          null,
          null,
          null,
          null,
          null,
          null,
          null,
          null,
          null,
          null,
          null,
          null,
          null,
          null,
          null,
          null,
          null,
          null,
          null,
          null,
          null,
          null,
          null,
          null,
          null,
          null,
          null,
          null,
          null,
          0.3577971067986911,
          0.3561711643315569,
          0.35432915351813354,
          0.35241593213021,
          0.35095569208452976,
          0.34949702392273313,
          0.34831251524671725,
          0.34665779769420624,
          0.34474293972495235,
          0.34273459262485745,
          0.3410566869793059,
          0.3392761494917206,
          0.3373848400727103,
          0.336236649487592,
          0.33579828382670124,
          0.3344357553162152,
          0.3329160783109786,
          0.33152916678522204,
          0.330253292205213,
          0.3286209579887269,
          0.3268371573354624,
          0.32551540698431713,
          0.3245897338360171,
          0.3240847185819964,
          0.3230757713317871,
          0.3214994828346409,
          0.3215372696330276,
          0.320719433358953,
          0.31966974218434924,
          0.31973982941877993,
          0.3188273631319215,
          0.3183227521897871,
          0.3173433218764353,
          0.3168224565967729,
          0.31658304529854014,
          0.31477044192673287,
          0.3144092074112047,
          0.3135109601330154,
          0.3133951823545408,
          0.31255324958245967,
          0.3130051910499983,
          0.3119564958954159,
          0.311830132067958,
          0.3126852140773701,
          0.31384692732480507,
          0.3124029403434524,
          0.3123047119831737,
          0.31235840020677713,
          0.3115365253407744,
          0.3114617175505131
         ],
         "yaxis": "y2"
        },
        {
         "line": {
          "color": "rgb(32, 102, 168)",
          "width": 3
         },
         "mode": "lines",
         "name": "sgd LLC",
         "type": "scatter",
         "x": [
          1,
          2,
          3,
          4,
          5,
          6,
          7,
          8,
          9,
          10,
          11,
          12,
          13,
          14,
          15,
          16,
          17,
          18,
          19,
          20,
          21,
          22,
          23,
          24,
          25,
          26,
          27,
          28,
          29,
          30,
          31,
          32,
          33,
          34,
          35,
          36,
          37,
          38,
          39,
          40,
          41,
          42,
          43,
          44,
          45,
          46,
          47,
          48,
          49,
          50,
          51,
          52,
          53,
          54,
          55,
          56,
          57,
          58,
          59,
          60,
          61,
          62,
          63,
          64,
          65,
          66,
          67,
          68,
          69,
          70,
          71,
          72,
          73,
          74,
          75,
          76,
          77,
          78,
          79,
          80
         ],
         "xaxis": "x",
         "y": [
          -1.140392541885376,
          25.65536117553711,
          25.240522384643555,
          23.56768035888672,
          24.20684814453125,
          21.911361694335938,
          25.3344783782959,
          26.189851760864258,
          24.67942237854004,
          25.323394775390625,
          25.193153381347656,
          24.608234405517578,
          26.440025329589844,
          24.280540466308594,
          28.68568992614746,
          24.751800537109375,
          27.086135864257812,
          28.47466278076172,
          25.42797088623047,
          27.534616470336914,
          29.313337326049805,
          26.0789794921875,
          26.763534545898438,
          27.49399185180664,
          28.899229049682617,
          28.446063995361328,
          29.10190773010254,
          29.30038833618164,
          28.376564025878906,
          28.73398208618164,
          29.9757137298584,
          28.68890953063965,
          26.76077651977539,
          30.976638793945312,
          30.294418334960938,
          29.544052124023438,
          29.309398651123047,
          27.480323791503906,
          29.54879379272461,
          31.8610782623291,
          29.287994384765625,
          29.37158966064453,
          31.37925148010254,
          32.12678909301758,
          31.789836883544922,
          31.89100456237793,
          30.315826416015625,
          31.116287231445312,
          30.589126586914062,
          33.08185577392578,
          31.09560775756836,
          32.28205108642578,
          32.91081237792969,
          32.99715042114258,
          31.697935104370117,
          32.748680114746094,
          34.169586181640625,
          33.00596237182617,
          32.787864685058594,
          32.36977767944336,
          33.41465759277344,
          33.955589294433594,
          34.54021453857422,
          34.621604919433594,
          35.60887908935547,
          34.65315246582031,
          35.07478332519531,
          35.24580001831055,
          34.689781188964844,
          37.421424865722656,
          36.92669677734375,
          37.082366943359375,
          36.187339782714844,
          37.04210662841797,
          36.577423095703125,
          38.841339111328125,
          37.36353302001953,
          37.50586700439453,
          37.17237091064453,
          36.987796783447266,
          38.753379821777344
         ],
         "yaxis": "y"
        },
        {
         "line": {
          "color": "rgb(32, 102, 168)",
          "dash": "dash",
          "width": 3
         },
         "mode": "lines",
         "name": "sgd Validation Loss",
         "type": "scatter",
         "x": [
          0,
          1,
          2,
          3,
          4,
          5,
          6,
          7,
          8,
          9,
          10,
          11,
          12,
          13,
          14,
          15,
          16,
          17,
          18,
          19,
          20,
          21,
          22,
          23,
          24,
          25,
          26,
          27,
          28,
          29,
          30,
          31,
          32,
          33,
          34,
          35,
          36,
          37,
          38,
          39,
          40,
          41,
          42,
          43,
          44,
          45,
          46,
          47,
          48,
          49,
          50,
          51,
          52,
          53,
          54,
          55,
          56,
          57,
          58,
          59,
          60,
          61,
          62,
          63,
          64,
          65,
          66,
          67,
          68,
          69,
          70,
          71,
          72,
          73,
          74,
          75,
          76,
          77,
          78,
          79,
          80
         ],
         "xaxis": "x",
         "y": [
          2.2982055959822256,
          0.746054003510294,
          0.6102346476120285,
          0.5497647169270093,
          0.5173938191389735,
          0.4952898297128798,
          0.4840961185437215,
          0.4676617565034311,
          0.458504513849186,
          0.4492901920140544,
          0.443344740362107,
          0.43495464475849005,
          0.4259415359436711,
          0.4204477846999712,
          0.4154219367081606,
          0.41147884613350977,
          0.40642345140251934,
          0.39994299053391325,
          0.39676585567148426,
          0.394114229309408,
          0.38792691483527797,
          0.38494508081599127,
          0.3838487974827803,
          0.37904345008391366,
          0.3802651834638813,
          0.3736397424076177,
          0.3729147511192515,
          0.37134774349912814,
          0.36515614861928963,
          0.3691095338214802,
          0.3646914955181412,
          0.36125491370883167,
          0.357339381605764,
          0.35960078616685504,
          0.35672243278992327,
          0.3585225477626052,
          0.3523739451849008,
          0.35431684280120873,
          0.3546161304546308,
          0.3481279424851454,
          0.34599848261362387,
          0.3525277310157124,
          0.3453472282124471,
          0.3428059954054748,
          0.34317194198883033,
          0.3419667158888865,
          0.3393058825897265,
          0.337815755058693,
          0.33435605956783776,
          0.33673062411290183,
          0.33788855656792843,
          0.3357433514504493,
          0.33341529635311684,
          0.33937112572072425,
          0.32981519825473615,
          0.3335719862127606,
          0.330985963344574,
          0.3359506011386461,
          0.3371380840109873,
          0.3368979381232322,
          0.325936914527718,
          0.32917024355523195,
          0.32833087170803094,
          0.330804470502123,
          0.325425943430466,
          0.332162387386153,
          0.329868435105191,
          0.3264122041343134,
          0.32761286104781717,
          0.3244376149547251,
          0.32303511662573753,
          0.3272795617769036,
          0.33002505517458613,
          0.3232610606694523,
          0.3294520991135247,
          0.32381987609440765,
          0.33377207513851453,
          0.3295430764555931,
          0.32518204490217983,
          0.3309058873336526,
          0.32402762242510347
         ],
         "yaxis": "y2"
        }
       ],
       "layout": {
        "height": 400,
        "legend": {
         "orientation": "h",
         "x": 0,
         "xanchor": "left",
         "y": 1,
         "yanchor": "bottom"
        },
        "template": {
         "data": {
          "bar": [
           {
            "error_x": {
             "color": "#2a3f5f"
            },
            "error_y": {
             "color": "#2a3f5f"
            },
            "marker": {
             "line": {
              "color": "#E5ECF6",
              "width": 0.5
             },
             "pattern": {
              "fillmode": "overlay",
              "size": 10,
              "solidity": 0.2
             }
            },
            "type": "bar"
           }
          ],
          "barpolar": [
           {
            "marker": {
             "line": {
              "color": "#E5ECF6",
              "width": 0.5
             },
             "pattern": {
              "fillmode": "overlay",
              "size": 10,
              "solidity": 0.2
             }
            },
            "type": "barpolar"
           }
          ],
          "carpet": [
           {
            "aaxis": {
             "endlinecolor": "#2a3f5f",
             "gridcolor": "white",
             "linecolor": "white",
             "minorgridcolor": "white",
             "startlinecolor": "#2a3f5f"
            },
            "baxis": {
             "endlinecolor": "#2a3f5f",
             "gridcolor": "white",
             "linecolor": "white",
             "minorgridcolor": "white",
             "startlinecolor": "#2a3f5f"
            },
            "type": "carpet"
           }
          ],
          "choropleth": [
           {
            "colorbar": {
             "outlinewidth": 0,
             "ticks": ""
            },
            "type": "choropleth"
           }
          ],
          "contour": [
           {
            "colorbar": {
             "outlinewidth": 0,
             "ticks": ""
            },
            "colorscale": [
             [
              0,
              "#0d0887"
             ],
             [
              0.1111111111111111,
              "#46039f"
             ],
             [
              0.2222222222222222,
              "#7201a8"
             ],
             [
              0.3333333333333333,
              "#9c179e"
             ],
             [
              0.4444444444444444,
              "#bd3786"
             ],
             [
              0.5555555555555556,
              "#d8576b"
             ],
             [
              0.6666666666666666,
              "#ed7953"
             ],
             [
              0.7777777777777778,
              "#fb9f3a"
             ],
             [
              0.8888888888888888,
              "#fdca26"
             ],
             [
              1,
              "#f0f921"
             ]
            ],
            "type": "contour"
           }
          ],
          "contourcarpet": [
           {
            "colorbar": {
             "outlinewidth": 0,
             "ticks": ""
            },
            "type": "contourcarpet"
           }
          ],
          "heatmap": [
           {
            "colorbar": {
             "outlinewidth": 0,
             "ticks": ""
            },
            "colorscale": [
             [
              0,
              "#0d0887"
             ],
             [
              0.1111111111111111,
              "#46039f"
             ],
             [
              0.2222222222222222,
              "#7201a8"
             ],
             [
              0.3333333333333333,
              "#9c179e"
             ],
             [
              0.4444444444444444,
              "#bd3786"
             ],
             [
              0.5555555555555556,
              "#d8576b"
             ],
             [
              0.6666666666666666,
              "#ed7953"
             ],
             [
              0.7777777777777778,
              "#fb9f3a"
             ],
             [
              0.8888888888888888,
              "#fdca26"
             ],
             [
              1,
              "#f0f921"
             ]
            ],
            "type": "heatmap"
           }
          ],
          "heatmapgl": [
           {
            "colorbar": {
             "outlinewidth": 0,
             "ticks": ""
            },
            "colorscale": [
             [
              0,
              "#0d0887"
             ],
             [
              0.1111111111111111,
              "#46039f"
             ],
             [
              0.2222222222222222,
              "#7201a8"
             ],
             [
              0.3333333333333333,
              "#9c179e"
             ],
             [
              0.4444444444444444,
              "#bd3786"
             ],
             [
              0.5555555555555556,
              "#d8576b"
             ],
             [
              0.6666666666666666,
              "#ed7953"
             ],
             [
              0.7777777777777778,
              "#fb9f3a"
             ],
             [
              0.8888888888888888,
              "#fdca26"
             ],
             [
              1,
              "#f0f921"
             ]
            ],
            "type": "heatmapgl"
           }
          ],
          "histogram": [
           {
            "marker": {
             "pattern": {
              "fillmode": "overlay",
              "size": 10,
              "solidity": 0.2
             }
            },
            "type": "histogram"
           }
          ],
          "histogram2d": [
           {
            "colorbar": {
             "outlinewidth": 0,
             "ticks": ""
            },
            "colorscale": [
             [
              0,
              "#0d0887"
             ],
             [
              0.1111111111111111,
              "#46039f"
             ],
             [
              0.2222222222222222,
              "#7201a8"
             ],
             [
              0.3333333333333333,
              "#9c179e"
             ],
             [
              0.4444444444444444,
              "#bd3786"
             ],
             [
              0.5555555555555556,
              "#d8576b"
             ],
             [
              0.6666666666666666,
              "#ed7953"
             ],
             [
              0.7777777777777778,
              "#fb9f3a"
             ],
             [
              0.8888888888888888,
              "#fdca26"
             ],
             [
              1,
              "#f0f921"
             ]
            ],
            "type": "histogram2d"
           }
          ],
          "histogram2dcontour": [
           {
            "colorbar": {
             "outlinewidth": 0,
             "ticks": ""
            },
            "colorscale": [
             [
              0,
              "#0d0887"
             ],
             [
              0.1111111111111111,
              "#46039f"
             ],
             [
              0.2222222222222222,
              "#7201a8"
             ],
             [
              0.3333333333333333,
              "#9c179e"
             ],
             [
              0.4444444444444444,
              "#bd3786"
             ],
             [
              0.5555555555555556,
              "#d8576b"
             ],
             [
              0.6666666666666666,
              "#ed7953"
             ],
             [
              0.7777777777777778,
              "#fb9f3a"
             ],
             [
              0.8888888888888888,
              "#fdca26"
             ],
             [
              1,
              "#f0f921"
             ]
            ],
            "type": "histogram2dcontour"
           }
          ],
          "mesh3d": [
           {
            "colorbar": {
             "outlinewidth": 0,
             "ticks": ""
            },
            "type": "mesh3d"
           }
          ],
          "parcoords": [
           {
            "line": {
             "colorbar": {
              "outlinewidth": 0,
              "ticks": ""
             }
            },
            "type": "parcoords"
           }
          ],
          "pie": [
           {
            "automargin": true,
            "type": "pie"
           }
          ],
          "scatter": [
           {
            "fillpattern": {
             "fillmode": "overlay",
             "size": 10,
             "solidity": 0.2
            },
            "type": "scatter"
           }
          ],
          "scatter3d": [
           {
            "line": {
             "colorbar": {
              "outlinewidth": 0,
              "ticks": ""
             }
            },
            "marker": {
             "colorbar": {
              "outlinewidth": 0,
              "ticks": ""
             }
            },
            "type": "scatter3d"
           }
          ],
          "scattercarpet": [
           {
            "marker": {
             "colorbar": {
              "outlinewidth": 0,
              "ticks": ""
             }
            },
            "type": "scattercarpet"
           }
          ],
          "scattergeo": [
           {
            "marker": {
             "colorbar": {
              "outlinewidth": 0,
              "ticks": ""
             }
            },
            "type": "scattergeo"
           }
          ],
          "scattergl": [
           {
            "marker": {
             "colorbar": {
              "outlinewidth": 0,
              "ticks": ""
             }
            },
            "type": "scattergl"
           }
          ],
          "scattermapbox": [
           {
            "marker": {
             "colorbar": {
              "outlinewidth": 0,
              "ticks": ""
             }
            },
            "type": "scattermapbox"
           }
          ],
          "scatterpolar": [
           {
            "marker": {
             "colorbar": {
              "outlinewidth": 0,
              "ticks": ""
             }
            },
            "type": "scatterpolar"
           }
          ],
          "scatterpolargl": [
           {
            "marker": {
             "colorbar": {
              "outlinewidth": 0,
              "ticks": ""
             }
            },
            "type": "scatterpolargl"
           }
          ],
          "scatterternary": [
           {
            "marker": {
             "colorbar": {
              "outlinewidth": 0,
              "ticks": ""
             }
            },
            "type": "scatterternary"
           }
          ],
          "surface": [
           {
            "colorbar": {
             "outlinewidth": 0,
             "ticks": ""
            },
            "colorscale": [
             [
              0,
              "#0d0887"
             ],
             [
              0.1111111111111111,
              "#46039f"
             ],
             [
              0.2222222222222222,
              "#7201a8"
             ],
             [
              0.3333333333333333,
              "#9c179e"
             ],
             [
              0.4444444444444444,
              "#bd3786"
             ],
             [
              0.5555555555555556,
              "#d8576b"
             ],
             [
              0.6666666666666666,
              "#ed7953"
             ],
             [
              0.7777777777777778,
              "#fb9f3a"
             ],
             [
              0.8888888888888888,
              "#fdca26"
             ],
             [
              1,
              "#f0f921"
             ]
            ],
            "type": "surface"
           }
          ],
          "table": [
           {
            "cells": {
             "fill": {
              "color": "#EBF0F8"
             },
             "line": {
              "color": "white"
             }
            },
            "header": {
             "fill": {
              "color": "#C8D4E3"
             },
             "line": {
              "color": "white"
             }
            },
            "type": "table"
           }
          ]
         },
         "layout": {
          "annotationdefaults": {
           "arrowcolor": "#2a3f5f",
           "arrowhead": 0,
           "arrowwidth": 1
          },
          "autotypenumbers": "strict",
          "coloraxis": {
           "colorbar": {
            "outlinewidth": 0,
            "ticks": ""
           }
          },
          "colorscale": {
           "diverging": [
            [
             0,
             "#8e0152"
            ],
            [
             0.1,
             "#c51b7d"
            ],
            [
             0.2,
             "#de77ae"
            ],
            [
             0.3,
             "#f1b6da"
            ],
            [
             0.4,
             "#fde0ef"
            ],
            [
             0.5,
             "#f7f7f7"
            ],
            [
             0.6,
             "#e6f5d0"
            ],
            [
             0.7,
             "#b8e186"
            ],
            [
             0.8,
             "#7fbc41"
            ],
            [
             0.9,
             "#4d9221"
            ],
            [
             1,
             "#276419"
            ]
           ],
           "sequential": [
            [
             0,
             "#0d0887"
            ],
            [
             0.1111111111111111,
             "#46039f"
            ],
            [
             0.2222222222222222,
             "#7201a8"
            ],
            [
             0.3333333333333333,
             "#9c179e"
            ],
            [
             0.4444444444444444,
             "#bd3786"
            ],
            [
             0.5555555555555556,
             "#d8576b"
            ],
            [
             0.6666666666666666,
             "#ed7953"
            ],
            [
             0.7777777777777778,
             "#fb9f3a"
            ],
            [
             0.8888888888888888,
             "#fdca26"
            ],
            [
             1,
             "#f0f921"
            ]
           ],
           "sequentialminus": [
            [
             0,
             "#0d0887"
            ],
            [
             0.1111111111111111,
             "#46039f"
            ],
            [
             0.2222222222222222,
             "#7201a8"
            ],
            [
             0.3333333333333333,
             "#9c179e"
            ],
            [
             0.4444444444444444,
             "#bd3786"
            ],
            [
             0.5555555555555556,
             "#d8576b"
            ],
            [
             0.6666666666666666,
             "#ed7953"
            ],
            [
             0.7777777777777778,
             "#fb9f3a"
            ],
            [
             0.8888888888888888,
             "#fdca26"
            ],
            [
             1,
             "#f0f921"
            ]
           ]
          },
          "colorway": [
           "#636efa",
           "#EF553B",
           "#00cc96",
           "#ab63fa",
           "#FFA15A",
           "#19d3f3",
           "#FF6692",
           "#B6E880",
           "#FF97FF",
           "#FECB52"
          ],
          "font": {
           "color": "#2a3f5f"
          },
          "geo": {
           "bgcolor": "white",
           "lakecolor": "white",
           "landcolor": "#E5ECF6",
           "showlakes": true,
           "showland": true,
           "subunitcolor": "white"
          },
          "hoverlabel": {
           "align": "left"
          },
          "hovermode": "closest",
          "mapbox": {
           "style": "light"
          },
          "paper_bgcolor": "white",
          "plot_bgcolor": "#E5ECF6",
          "polar": {
           "angularaxis": {
            "gridcolor": "white",
            "linecolor": "white",
            "ticks": ""
           },
           "bgcolor": "#E5ECF6",
           "radialaxis": {
            "gridcolor": "white",
            "linecolor": "white",
            "ticks": ""
           }
          },
          "scene": {
           "xaxis": {
            "backgroundcolor": "#E5ECF6",
            "gridcolor": "white",
            "gridwidth": 2,
            "linecolor": "white",
            "showbackground": true,
            "ticks": "",
            "zerolinecolor": "white"
           },
           "yaxis": {
            "backgroundcolor": "#E5ECF6",
            "gridcolor": "white",
            "gridwidth": 2,
            "linecolor": "white",
            "showbackground": true,
            "ticks": "",
            "zerolinecolor": "white"
           },
           "zaxis": {
            "backgroundcolor": "#E5ECF6",
            "gridcolor": "white",
            "gridwidth": 2,
            "linecolor": "white",
            "showbackground": true,
            "ticks": "",
            "zerolinecolor": "white"
           }
          },
          "shapedefaults": {
           "line": {
            "color": "#2a3f5f"
           }
          },
          "ternary": {
           "aaxis": {
            "gridcolor": "white",
            "linecolor": "white",
            "ticks": ""
           },
           "baxis": {
            "gridcolor": "white",
            "linecolor": "white",
            "ticks": ""
           },
           "bgcolor": "#E5ECF6",
           "caxis": {
            "gridcolor": "white",
            "linecolor": "white",
            "ticks": ""
           }
          },
          "title": {
           "x": 0.05
          },
          "xaxis": {
           "automargin": true,
           "gridcolor": "white",
           "linecolor": "white",
           "ticks": "",
           "title": {
            "standoff": 15
           },
           "zerolinecolor": "white",
           "zerolinewidth": 2
          },
          "yaxis": {
           "automargin": true,
           "gridcolor": "white",
           "linecolor": "white",
           "ticks": "",
           "title": {
            "standoff": 15
           },
           "zerolinecolor": "white",
           "zerolinewidth": 2
          }
         }
        },
        "title": {
         "text": "FFNN 2 HL, 256 HN LLC / Validation Loss"
        },
        "width": 600,
        "xaxis": {
         "anchor": "y",
         "domain": [
          0,
          0.94
         ],
         "dtick": 5,
         "tick0": 0,
         "tickmode": "linear",
         "title": {
          "text": "Epoch"
         }
        },
        "yaxis": {
         "anchor": "x",
         "domain": [
          0,
          1
         ],
         "range": [
          0,
          null
         ],
         "title": {
          "text": "LLC"
         },
         "type": "linear"
        },
        "yaxis2": {
         "anchor": "x",
         "overlaying": "y",
         "showgrid": false,
         "side": "right",
         "title": {
          "text": "Validation Loss"
         },
         "zeroline": false
        }
       }
      },
      "text/html": [
       "<div>                            <div id=\"6f5b7b6d-fac8-45dc-9448-494e7d974bf9\" class=\"plotly-graph-div\" style=\"height:400px; width:600px;\"></div>            <script type=\"text/javascript\">                require([\"plotly\"], function(Plotly) {                    window.PLOTLYENV=window.PLOTLYENV || {};                                    if (document.getElementById(\"6f5b7b6d-fac8-45dc-9448-494e7d974bf9\")) {                    Plotly.newPlot(                        \"6f5b7b6d-fac8-45dc-9448-494e7d974bf9\",                        [{\"line\":{\"color\":\"rgb(200, 0, 0)\",\"width\":3},\"mode\":\"lines\",\"name\":\"ngd LLC\",\"x\":[1,2,3,4,5,6,7,8,9,10,11,12,13,14,15,16,17,18,19,20,21,22,23,24,25,26,27,28,29,30,31,32,33,34,35,36,37,38,39,40,41,42,43,44,45,46,47,48,49,50,51,52,53,54,55,56,57,58,59,60,61,62,63,64,65,66,67,68,69,70,71,72,73,74,75,76,77,78,79,80],\"y\":[null,null,null,null,null,null,null,null,null,null,null,null,null,null,null,null,null,null,null,null,null,null,null,null,null,null,null,null,null,null,null,26.908889770507812,29.908357620239258,28.779470443725586,29.707841873168945,27.925559997558594,28.987537384033203,31.175037384033203,30.495792388916016,30.65633773803711,31.571916580200195,31.42153549194336,30.807464599609375,32.24360275268555,31.664628982543945,29.933752059936523,32.02354431152344,33.050537109375,33.84278106689453,33.904869079589844,32.41188049316406,34.61439514160156,35.2265625,35.05718994140625,34.81201171875,36.00988006591797,35.10105895996094,35.47373962402344,36.115501403808594,34.824188232421875,38.621681213378906,36.413360595703125,38.57093048095703,38.36054229736328,38.06875228881836,38.249732971191406,38.914100646972656,38.40082550048828,38.72331237792969,39.73194885253906,40.74046325683594,40.9840087890625,39.69403839111328,41.979217529296875,42.55564498901367,40.97815704345703,40.58354949951172,43.628143310546875,42.34992218017578,42.942649841308594,42.894752502441406],\"type\":\"scatter\",\"xaxis\":\"x\",\"yaxis\":\"y\"},{\"line\":{\"color\":\"rgb(200, 0, 0)\",\"dash\":\"dash\",\"width\":3},\"mode\":\"lines\",\"name\":\"ngd Validation Loss\",\"x\":[0,1,2,3,4,5,6,7,8,9,10,11,12,13,14,15,16,17,18,19,20,21,22,23,24,25,26,27,28,29,30,31,32,33,34,35,36,37,38,39,40,41,42,43,44,45,46,47,48,49,50,51,52,53,54,55,56,57,58,59,60,61,62,63,64,65,66,67,68,69,70,71,72,73,74,75,76,77,78,79,80],\"y\":[null,null,null,null,null,null,null,null,null,null,null,null,null,null,null,null,null,null,null,null,null,null,null,null,null,null,null,null,null,null,null,0.3577971067986911,0.3561711643315569,0.35432915351813354,0.35241593213021,0.35095569208452976,0.34949702392273313,0.34831251524671725,0.34665779769420624,0.34474293972495235,0.34273459262485745,0.3410566869793059,0.3392761494917206,0.3373848400727103,0.336236649487592,0.33579828382670124,0.3344357553162152,0.3329160783109786,0.33152916678522204,0.330253292205213,0.3286209579887269,0.3268371573354624,0.32551540698431713,0.3245897338360171,0.3240847185819964,0.3230757713317871,0.3214994828346409,0.3215372696330276,0.320719433358953,0.31966974218434924,0.31973982941877993,0.3188273631319215,0.3183227521897871,0.3173433218764353,0.3168224565967729,0.31658304529854014,0.31477044192673287,0.3144092074112047,0.3135109601330154,0.3133951823545408,0.31255324958245967,0.3130051910499983,0.3119564958954159,0.311830132067958,0.3126852140773701,0.31384692732480507,0.3124029403434524,0.3123047119831737,0.31235840020677713,0.3115365253407744,0.3114617175505131],\"type\":\"scatter\",\"xaxis\":\"x\",\"yaxis\":\"y2\"},{\"line\":{\"color\":\"rgb(32, 102, 168)\",\"width\":3},\"mode\":\"lines\",\"name\":\"sgd LLC\",\"x\":[1,2,3,4,5,6,7,8,9,10,11,12,13,14,15,16,17,18,19,20,21,22,23,24,25,26,27,28,29,30,31,32,33,34,35,36,37,38,39,40,41,42,43,44,45,46,47,48,49,50,51,52,53,54,55,56,57,58,59,60,61,62,63,64,65,66,67,68,69,70,71,72,73,74,75,76,77,78,79,80],\"y\":[-1.140392541885376,25.65536117553711,25.240522384643555,23.56768035888672,24.20684814453125,21.911361694335938,25.3344783782959,26.189851760864258,24.67942237854004,25.323394775390625,25.193153381347656,24.608234405517578,26.440025329589844,24.280540466308594,28.68568992614746,24.751800537109375,27.086135864257812,28.47466278076172,25.42797088623047,27.534616470336914,29.313337326049805,26.0789794921875,26.763534545898438,27.49399185180664,28.899229049682617,28.446063995361328,29.10190773010254,29.30038833618164,28.376564025878906,28.73398208618164,29.9757137298584,28.68890953063965,26.76077651977539,30.976638793945312,30.294418334960938,29.544052124023438,29.309398651123047,27.480323791503906,29.54879379272461,31.8610782623291,29.287994384765625,29.37158966064453,31.37925148010254,32.12678909301758,31.789836883544922,31.89100456237793,30.315826416015625,31.116287231445312,30.589126586914062,33.08185577392578,31.09560775756836,32.28205108642578,32.91081237792969,32.99715042114258,31.697935104370117,32.748680114746094,34.169586181640625,33.00596237182617,32.787864685058594,32.36977767944336,33.41465759277344,33.955589294433594,34.54021453857422,34.621604919433594,35.60887908935547,34.65315246582031,35.07478332519531,35.24580001831055,34.689781188964844,37.421424865722656,36.92669677734375,37.082366943359375,36.187339782714844,37.04210662841797,36.577423095703125,38.841339111328125,37.36353302001953,37.50586700439453,37.17237091064453,36.987796783447266,38.753379821777344],\"type\":\"scatter\",\"xaxis\":\"x\",\"yaxis\":\"y\"},{\"line\":{\"color\":\"rgb(32, 102, 168)\",\"dash\":\"dash\",\"width\":3},\"mode\":\"lines\",\"name\":\"sgd Validation Loss\",\"x\":[0,1,2,3,4,5,6,7,8,9,10,11,12,13,14,15,16,17,18,19,20,21,22,23,24,25,26,27,28,29,30,31,32,33,34,35,36,37,38,39,40,41,42,43,44,45,46,47,48,49,50,51,52,53,54,55,56,57,58,59,60,61,62,63,64,65,66,67,68,69,70,71,72,73,74,75,76,77,78,79,80],\"y\":[2.2982055959822256,0.746054003510294,0.6102346476120285,0.5497647169270093,0.5173938191389735,0.4952898297128798,0.4840961185437215,0.4676617565034311,0.458504513849186,0.4492901920140544,0.443344740362107,0.43495464475849005,0.4259415359436711,0.4204477846999712,0.4154219367081606,0.41147884613350977,0.40642345140251934,0.39994299053391325,0.39676585567148426,0.394114229309408,0.38792691483527797,0.38494508081599127,0.3838487974827803,0.37904345008391366,0.3802651834638813,0.3736397424076177,0.3729147511192515,0.37134774349912814,0.36515614861928963,0.3691095338214802,0.3646914955181412,0.36125491370883167,0.357339381605764,0.35960078616685504,0.35672243278992327,0.3585225477626052,0.3523739451849008,0.35431684280120873,0.3546161304546308,0.3481279424851454,0.34599848261362387,0.3525277310157124,0.3453472282124471,0.3428059954054748,0.34317194198883033,0.3419667158888865,0.3393058825897265,0.337815755058693,0.33435605956783776,0.33673062411290183,0.33788855656792843,0.3357433514504493,0.33341529635311684,0.33937112572072425,0.32981519825473615,0.3335719862127606,0.330985963344574,0.3359506011386461,0.3371380840109873,0.3368979381232322,0.325936914527718,0.32917024355523195,0.32833087170803094,0.330804470502123,0.325425943430466,0.332162387386153,0.329868435105191,0.3264122041343134,0.32761286104781717,0.3244376149547251,0.32303511662573753,0.3272795617769036,0.33002505517458613,0.3232610606694523,0.3294520991135247,0.32381987609440765,0.33377207513851453,0.3295430764555931,0.32518204490217983,0.3309058873336526,0.32402762242510347],\"type\":\"scatter\",\"xaxis\":\"x\",\"yaxis\":\"y2\"}],                        {\"template\":{\"data\":{\"histogram2dcontour\":[{\"type\":\"histogram2dcontour\",\"colorbar\":{\"outlinewidth\":0,\"ticks\":\"\"},\"colorscale\":[[0.0,\"#0d0887\"],[0.1111111111111111,\"#46039f\"],[0.2222222222222222,\"#7201a8\"],[0.3333333333333333,\"#9c179e\"],[0.4444444444444444,\"#bd3786\"],[0.5555555555555556,\"#d8576b\"],[0.6666666666666666,\"#ed7953\"],[0.7777777777777778,\"#fb9f3a\"],[0.8888888888888888,\"#fdca26\"],[1.0,\"#f0f921\"]]}],\"choropleth\":[{\"type\":\"choropleth\",\"colorbar\":{\"outlinewidth\":0,\"ticks\":\"\"}}],\"histogram2d\":[{\"type\":\"histogram2d\",\"colorbar\":{\"outlinewidth\":0,\"ticks\":\"\"},\"colorscale\":[[0.0,\"#0d0887\"],[0.1111111111111111,\"#46039f\"],[0.2222222222222222,\"#7201a8\"],[0.3333333333333333,\"#9c179e\"],[0.4444444444444444,\"#bd3786\"],[0.5555555555555556,\"#d8576b\"],[0.6666666666666666,\"#ed7953\"],[0.7777777777777778,\"#fb9f3a\"],[0.8888888888888888,\"#fdca26\"],[1.0,\"#f0f921\"]]}],\"heatmap\":[{\"type\":\"heatmap\",\"colorbar\":{\"outlinewidth\":0,\"ticks\":\"\"},\"colorscale\":[[0.0,\"#0d0887\"],[0.1111111111111111,\"#46039f\"],[0.2222222222222222,\"#7201a8\"],[0.3333333333333333,\"#9c179e\"],[0.4444444444444444,\"#bd3786\"],[0.5555555555555556,\"#d8576b\"],[0.6666666666666666,\"#ed7953\"],[0.7777777777777778,\"#fb9f3a\"],[0.8888888888888888,\"#fdca26\"],[1.0,\"#f0f921\"]]}],\"heatmapgl\":[{\"type\":\"heatmapgl\",\"colorbar\":{\"outlinewidth\":0,\"ticks\":\"\"},\"colorscale\":[[0.0,\"#0d0887\"],[0.1111111111111111,\"#46039f\"],[0.2222222222222222,\"#7201a8\"],[0.3333333333333333,\"#9c179e\"],[0.4444444444444444,\"#bd3786\"],[0.5555555555555556,\"#d8576b\"],[0.6666666666666666,\"#ed7953\"],[0.7777777777777778,\"#fb9f3a\"],[0.8888888888888888,\"#fdca26\"],[1.0,\"#f0f921\"]]}],\"contourcarpet\":[{\"type\":\"contourcarpet\",\"colorbar\":{\"outlinewidth\":0,\"ticks\":\"\"}}],\"contour\":[{\"type\":\"contour\",\"colorbar\":{\"outlinewidth\":0,\"ticks\":\"\"},\"colorscale\":[[0.0,\"#0d0887\"],[0.1111111111111111,\"#46039f\"],[0.2222222222222222,\"#7201a8\"],[0.3333333333333333,\"#9c179e\"],[0.4444444444444444,\"#bd3786\"],[0.5555555555555556,\"#d8576b\"],[0.6666666666666666,\"#ed7953\"],[0.7777777777777778,\"#fb9f3a\"],[0.8888888888888888,\"#fdca26\"],[1.0,\"#f0f921\"]]}],\"surface\":[{\"type\":\"surface\",\"colorbar\":{\"outlinewidth\":0,\"ticks\":\"\"},\"colorscale\":[[0.0,\"#0d0887\"],[0.1111111111111111,\"#46039f\"],[0.2222222222222222,\"#7201a8\"],[0.3333333333333333,\"#9c179e\"],[0.4444444444444444,\"#bd3786\"],[0.5555555555555556,\"#d8576b\"],[0.6666666666666666,\"#ed7953\"],[0.7777777777777778,\"#fb9f3a\"],[0.8888888888888888,\"#fdca26\"],[1.0,\"#f0f921\"]]}],\"mesh3d\":[{\"type\":\"mesh3d\",\"colorbar\":{\"outlinewidth\":0,\"ticks\":\"\"}}],\"scatter\":[{\"fillpattern\":{\"fillmode\":\"overlay\",\"size\":10,\"solidity\":0.2},\"type\":\"scatter\"}],\"parcoords\":[{\"type\":\"parcoords\",\"line\":{\"colorbar\":{\"outlinewidth\":0,\"ticks\":\"\"}}}],\"scatterpolargl\":[{\"type\":\"scatterpolargl\",\"marker\":{\"colorbar\":{\"outlinewidth\":0,\"ticks\":\"\"}}}],\"bar\":[{\"error_x\":{\"color\":\"#2a3f5f\"},\"error_y\":{\"color\":\"#2a3f5f\"},\"marker\":{\"line\":{\"color\":\"#E5ECF6\",\"width\":0.5},\"pattern\":{\"fillmode\":\"overlay\",\"size\":10,\"solidity\":0.2}},\"type\":\"bar\"}],\"scattergeo\":[{\"type\":\"scattergeo\",\"marker\":{\"colorbar\":{\"outlinewidth\":0,\"ticks\":\"\"}}}],\"scatterpolar\":[{\"type\":\"scatterpolar\",\"marker\":{\"colorbar\":{\"outlinewidth\":0,\"ticks\":\"\"}}}],\"histogram\":[{\"marker\":{\"pattern\":{\"fillmode\":\"overlay\",\"size\":10,\"solidity\":0.2}},\"type\":\"histogram\"}],\"scattergl\":[{\"type\":\"scattergl\",\"marker\":{\"colorbar\":{\"outlinewidth\":0,\"ticks\":\"\"}}}],\"scatter3d\":[{\"type\":\"scatter3d\",\"line\":{\"colorbar\":{\"outlinewidth\":0,\"ticks\":\"\"}},\"marker\":{\"colorbar\":{\"outlinewidth\":0,\"ticks\":\"\"}}}],\"scattermapbox\":[{\"type\":\"scattermapbox\",\"marker\":{\"colorbar\":{\"outlinewidth\":0,\"ticks\":\"\"}}}],\"scatterternary\":[{\"type\":\"scatterternary\",\"marker\":{\"colorbar\":{\"outlinewidth\":0,\"ticks\":\"\"}}}],\"scattercarpet\":[{\"type\":\"scattercarpet\",\"marker\":{\"colorbar\":{\"outlinewidth\":0,\"ticks\":\"\"}}}],\"carpet\":[{\"aaxis\":{\"endlinecolor\":\"#2a3f5f\",\"gridcolor\":\"white\",\"linecolor\":\"white\",\"minorgridcolor\":\"white\",\"startlinecolor\":\"#2a3f5f\"},\"baxis\":{\"endlinecolor\":\"#2a3f5f\",\"gridcolor\":\"white\",\"linecolor\":\"white\",\"minorgridcolor\":\"white\",\"startlinecolor\":\"#2a3f5f\"},\"type\":\"carpet\"}],\"table\":[{\"cells\":{\"fill\":{\"color\":\"#EBF0F8\"},\"line\":{\"color\":\"white\"}},\"header\":{\"fill\":{\"color\":\"#C8D4E3\"},\"line\":{\"color\":\"white\"}},\"type\":\"table\"}],\"barpolar\":[{\"marker\":{\"line\":{\"color\":\"#E5ECF6\",\"width\":0.5},\"pattern\":{\"fillmode\":\"overlay\",\"size\":10,\"solidity\":0.2}},\"type\":\"barpolar\"}],\"pie\":[{\"automargin\":true,\"type\":\"pie\"}]},\"layout\":{\"autotypenumbers\":\"strict\",\"colorway\":[\"#636efa\",\"#EF553B\",\"#00cc96\",\"#ab63fa\",\"#FFA15A\",\"#19d3f3\",\"#FF6692\",\"#B6E880\",\"#FF97FF\",\"#FECB52\"],\"font\":{\"color\":\"#2a3f5f\"},\"hovermode\":\"closest\",\"hoverlabel\":{\"align\":\"left\"},\"paper_bgcolor\":\"white\",\"plot_bgcolor\":\"#E5ECF6\",\"polar\":{\"bgcolor\":\"#E5ECF6\",\"angularaxis\":{\"gridcolor\":\"white\",\"linecolor\":\"white\",\"ticks\":\"\"},\"radialaxis\":{\"gridcolor\":\"white\",\"linecolor\":\"white\",\"ticks\":\"\"}},\"ternary\":{\"bgcolor\":\"#E5ECF6\",\"aaxis\":{\"gridcolor\":\"white\",\"linecolor\":\"white\",\"ticks\":\"\"},\"baxis\":{\"gridcolor\":\"white\",\"linecolor\":\"white\",\"ticks\":\"\"},\"caxis\":{\"gridcolor\":\"white\",\"linecolor\":\"white\",\"ticks\":\"\"}},\"coloraxis\":{\"colorbar\":{\"outlinewidth\":0,\"ticks\":\"\"}},\"colorscale\":{\"sequential\":[[0.0,\"#0d0887\"],[0.1111111111111111,\"#46039f\"],[0.2222222222222222,\"#7201a8\"],[0.3333333333333333,\"#9c179e\"],[0.4444444444444444,\"#bd3786\"],[0.5555555555555556,\"#d8576b\"],[0.6666666666666666,\"#ed7953\"],[0.7777777777777778,\"#fb9f3a\"],[0.8888888888888888,\"#fdca26\"],[1.0,\"#f0f921\"]],\"sequentialminus\":[[0.0,\"#0d0887\"],[0.1111111111111111,\"#46039f\"],[0.2222222222222222,\"#7201a8\"],[0.3333333333333333,\"#9c179e\"],[0.4444444444444444,\"#bd3786\"],[0.5555555555555556,\"#d8576b\"],[0.6666666666666666,\"#ed7953\"],[0.7777777777777778,\"#fb9f3a\"],[0.8888888888888888,\"#fdca26\"],[1.0,\"#f0f921\"]],\"diverging\":[[0,\"#8e0152\"],[0.1,\"#c51b7d\"],[0.2,\"#de77ae\"],[0.3,\"#f1b6da\"],[0.4,\"#fde0ef\"],[0.5,\"#f7f7f7\"],[0.6,\"#e6f5d0\"],[0.7,\"#b8e186\"],[0.8,\"#7fbc41\"],[0.9,\"#4d9221\"],[1,\"#276419\"]]},\"xaxis\":{\"gridcolor\":\"white\",\"linecolor\":\"white\",\"ticks\":\"\",\"title\":{\"standoff\":15},\"zerolinecolor\":\"white\",\"automargin\":true,\"zerolinewidth\":2},\"yaxis\":{\"gridcolor\":\"white\",\"linecolor\":\"white\",\"ticks\":\"\",\"title\":{\"standoff\":15},\"zerolinecolor\":\"white\",\"automargin\":true,\"zerolinewidth\":2},\"scene\":{\"xaxis\":{\"backgroundcolor\":\"#E5ECF6\",\"gridcolor\":\"white\",\"linecolor\":\"white\",\"showbackground\":true,\"ticks\":\"\",\"zerolinecolor\":\"white\",\"gridwidth\":2},\"yaxis\":{\"backgroundcolor\":\"#E5ECF6\",\"gridcolor\":\"white\",\"linecolor\":\"white\",\"showbackground\":true,\"ticks\":\"\",\"zerolinecolor\":\"white\",\"gridwidth\":2},\"zaxis\":{\"backgroundcolor\":\"#E5ECF6\",\"gridcolor\":\"white\",\"linecolor\":\"white\",\"showbackground\":true,\"ticks\":\"\",\"zerolinecolor\":\"white\",\"gridwidth\":2}},\"shapedefaults\":{\"line\":{\"color\":\"#2a3f5f\"}},\"annotationdefaults\":{\"arrowcolor\":\"#2a3f5f\",\"arrowhead\":0,\"arrowwidth\":1},\"geo\":{\"bgcolor\":\"white\",\"landcolor\":\"#E5ECF6\",\"subunitcolor\":\"white\",\"showland\":true,\"showlakes\":true,\"lakecolor\":\"white\"},\"title\":{\"x\":0.05},\"mapbox\":{\"style\":\"light\"}}},\"xaxis\":{\"anchor\":\"y\",\"domain\":[0.0,0.94],\"title\":{\"text\":\"Epoch\"},\"tickmode\":\"linear\",\"tick0\":0,\"dtick\":5},\"yaxis\":{\"anchor\":\"x\",\"domain\":[0.0,1.0],\"type\":\"linear\",\"range\":[0,null],\"title\":{\"text\":\"LLC\"}},\"yaxis2\":{\"anchor\":\"x\",\"overlaying\":\"y\",\"side\":\"right\",\"title\":{\"text\":\"Validation Loss\"},\"showgrid\":false,\"zeroline\":false},\"legend\":{\"x\":0,\"y\":1,\"xanchor\":\"left\",\"yanchor\":\"bottom\",\"orientation\":\"h\"},\"title\":{\"text\":\"FFNN 2 HL, 256 HN LLC \\u002f Validation Loss\"},\"width\":600,\"height\":400},                        {\"responsive\": true}                    ).then(function(){\n",
       "                            \n",
       "var gd = document.getElementById('6f5b7b6d-fac8-45dc-9448-494e7d974bf9');\n",
       "var x = new MutationObserver(function (mutations, observer) {{\n",
       "        var display = window.getComputedStyle(gd).display;\n",
       "        if (!display || display === 'none') {{\n",
       "            console.log([gd, 'removed!']);\n",
       "            Plotly.purge(gd);\n",
       "            observer.disconnect();\n",
       "        }}\n",
       "}});\n",
       "\n",
       "// Listen for the removal of the full notebook cells\n",
       "var notebookContainer = gd.closest('#notebook-container');\n",
       "if (notebookContainer) {{\n",
       "    x.observe(notebookContainer, {childList: true});\n",
       "}}\n",
       "\n",
       "// Listen for the clearing of the current output cell\n",
       "var outputEl = gd.closest('.output');\n",
       "if (outputEl) {{\n",
       "    x.observe(outputEl, {childList: true});\n",
       "}}\n",
       "\n",
       "                        })                };                });            </script>        </div>"
      ]
     },
     "metadata": {},
     "output_type": "display_data"
    }
   ],
   "source": [
    "#visualize LLC and val loss\n",
    "\n",
    "llc_figures = {}\n",
    "\n",
    "for title in models.keys():\n",
    "    llc_fig = make_subplots(specs=[[{\"secondary_y\" : True}]])\n",
    "    color_index = 0\n",
    "    for optim in optimizers:\n",
    "        color = color_cycle[color_index % len(color_cycle)]\n",
    "        color_index += 1\n",
    "\n",
    "        #ignore the first epoch\n",
    "        llc_fig.add_trace(go.Scatter(\n",
    "            x=np.arange(1, hp[\"num_epochs\"]+1),\n",
    "            y=llc_estimates[title][optim],\n",
    "            mode=\"lines\",\n",
    "            name=f\"{optim} LLC\",\n",
    "            line=dict(color=color, width=3),\n",
    "        ), secondary_y=False)\n",
    "        llc_fig.add_trace(go.Scatter(\n",
    "            x=np.arange(0, hp[\"num_epochs\"]+1),\n",
    "            y=val_losses[title][optim],\n",
    "            mode=\"lines\",\n",
    "            name=f\"{optim} Validation Loss\",\n",
    "            line=dict(color=color, dash=\"dash\", width=3)\n",
    "        ), secondary_y=True)\n",
    "    llc_fig.update_layout(\n",
    "        title=f\"{title} LLC / Validation Loss\",\n",
    "        xaxis_title=\"Epoch\",\n",
    "        xaxis=dict(\n",
    "            tickmode='linear',\n",
    "            tick0=0,\n",
    "            dtick=5,\n",
    "        ),\n",
    "        yaxis_type=\"linear\",\n",
    "        yaxis=dict(\n",
    "            range=[0, None],\n",
    "        ),\n",
    "        width=600,\n",
    "        height=400,\n",
    "        legend=dict(\n",
    "            x=0,\n",
    "            y=1,\n",
    "            xanchor='left',\n",
    "            yanchor='bottom',\n",
    "            orientation='h',\n",
    "        ),\n",
    "    )\n",
    "    llc_fig.update_yaxes(title_text=\"LLC\", secondary_y=False)\n",
    "    llc_fig.update_yaxes(title_text=\"Validation Loss\", \n",
    "                         secondary_y=True,\n",
    "                        showgrid=False,  # This removes the grid for the secondary y-axis\n",
    "                        zeroline=False   # This removes the zero line for the secondary y-axis\n",
    "                        )\n",
    "    llc_figures[title] = llc_fig\n",
    "    llc_fig.show()"
   ]
  },
  {
   "cell_type": "code",
   "execution_count": 66,
   "metadata": {},
   "outputs": [],
   "source": [
    "#visualize hessian trace and val loss\n",
    "\n",
    "#visualize LLC and val loss\n",
    "hess_figures = {}\n",
    "\n",
    "if hp['hessian']:\n",
    "    for title in models.keys():\n",
    "        hess_fig = make_subplots(specs=[[{\"secondary_y\" : True}]])\n",
    "        color_index = 0\n",
    "        for optim in optimizers:\n",
    "            color = color_cycle[color_index % len(color_cycle)]\n",
    "            color_index += 1\n",
    "            hess_fig.add_trace(go.Scatter(\n",
    "                x=np.arange(1, hp[\"num_epochs\"]+1),\n",
    "                y=hessian_traces[title][optim][1:],\n",
    "                mode=\"lines\",\n",
    "                name=f\"{optim} Trace\",\n",
    "                line=dict(color=color, width=3),\n",
    "            ), secondary_y=False)\n",
    "            hess_fig.add_trace(go.Scatter(\n",
    "                x=np.arange(1, hp[\"num_epochs\"]+1),\n",
    "                y=val_losses[title][optim][1:],\n",
    "                mode=\"lines\",\n",
    "                name=f\"{optim} Validation Loss\",\n",
    "                line=dict(color=color, dash=\"dash\", width=3)\n",
    "            ), secondary_y=True)\n",
    "        hess_fig.update_layout(\n",
    "            title=f\"{title} Hessian Trace / Validation Loss\",\n",
    "            xaxis_title=\"Epoch\",\n",
    "            xaxis=dict(\n",
    "                tickmode='linear',\n",
    "                tick0=0,\n",
    "                dtick=5,\n",
    "            ),\n",
    "            yaxis_type=\"linear\",\n",
    "            width=600,\n",
    "            height=400,\n",
    "            legend=dict(\n",
    "                x=0,\n",
    "                y=1,\n",
    "                xanchor='left',\n",
    "                yanchor='bottom',\n",
    "                orientation='h',\n",
    "            ),\n",
    "        )\n",
    "        hess_fig.update_yaxes(title_text=\"Hessian Trace\", secondary_y=False)\n",
    "        hess_fig.update_yaxes(title_text=\"Validation Loss\", secondary_y=True)\n",
    "        hess_figures[title] = hess_fig\n",
    "        hess_fig.show()"
   ]
  },
  {
   "cell_type": "code",
   "execution_count": 67,
   "metadata": {
    "execution": {
     "iopub.execute_input": "2024-04-04T14:34:40.866670Z",
     "iopub.status.busy": "2024-04-04T14:34:40.866670Z",
     "iopub.status.idle": "2024-04-04T14:34:40.930347Z",
     "shell.execute_reply": "2024-04-04T14:34:40.930347Z"
    }
   },
   "outputs": [],
   "source": [
    "# Visualise converged eigenspectra for SGD and NGD for each model\n",
    "\n",
    "# if hp[\"hessian\"]:\n",
    "#     combined_eigenspectra = {}\n",
    "\n",
    "#     for title in models.keys():\n",
    "\n",
    "#         combined_eigenspectrum = go.Figure()\n",
    "#         final_eigenspectra = {}\n",
    "#         traces = {}\n",
    "\n",
    "#         for optim in optimizers:\n",
    "#             color = color_cycle[color_index % len(color_cycle)]\n",
    "#             color_index += 1\n",
    "#             final_eigenspectra[optim] = eigenspectra_figs[title][optim][-2]\n",
    "#             final_eigenspectra[optim].data[0].name = optim\n",
    "#             final_eigenspectra[optim].data[0].line.color = color\n",
    "#             combined_eigenspectrum.add_trace(final_eigenspectra[optim].data[0])\n",
    "\n",
    "#         combined_eigenspectrum.update_layout(\n",
    "#             title=f\"{title} Hessian eigenspectra at convergence\",\n",
    "#             xaxis_title=\"Eigenvalue\",\n",
    "#             yaxis_title=\"Probability density (log scale)\",\n",
    "#             yaxis_type=\"log\",\n",
    "#         )\n",
    "\n",
    "#         combined_eigenspectrum.show()\n",
    "#         combined_eigenspectra[title] = (combined_eigenspectrum)"
   ]
  },
  {
   "cell_type": "code",
   "execution_count": 68,
   "metadata": {
    "execution": {
     "iopub.execute_input": "2024-04-04T14:34:40.940213Z",
     "iopub.status.busy": "2024-04-04T14:34:40.940213Z",
     "iopub.status.idle": "2024-04-04T14:34:40.962041Z",
     "shell.execute_reply": "2024-04-04T14:34:40.962041Z"
    }
   },
   "outputs": [
    {
     "data": {
      "application/vnd.plotly.v1+json": {
       "config": {
        "plotlyServerURL": "https://plot.ly"
       },
       "data": [
        {
         "line": {
          "color": "rgb(200, 0, 0)",
          "width": 3
         },
         "marker": {
          "size": 8,
          "symbol": "x"
         },
         "mode": "lines",
         "name": "ngd Validation",
         "type": "scatter",
         "x": [
          1,
          2,
          3,
          4,
          5,
          6,
          7,
          8,
          9,
          10,
          11,
          12,
          13,
          14,
          15,
          16,
          17,
          18,
          19,
          20,
          21,
          22,
          23,
          24,
          25,
          26,
          27,
          28,
          29,
          30,
          31,
          32,
          33,
          34,
          35,
          36,
          37,
          38,
          39,
          40,
          41,
          42,
          43,
          44,
          45,
          46,
          47,
          48,
          49,
          50,
          51,
          52,
          53,
          54,
          55,
          56,
          57,
          58,
          59,
          60,
          61,
          62,
          63,
          64,
          65,
          66,
          67,
          68,
          69,
          70,
          71,
          72,
          73,
          74,
          75,
          76,
          77,
          78,
          79,
          80
         ],
         "xaxis": "x",
         "y": [
          null,
          null,
          null,
          null,
          null,
          null,
          null,
          null,
          null,
          null,
          null,
          null,
          null,
          null,
          null,
          null,
          null,
          null,
          null,
          null,
          null,
          null,
          null,
          null,
          null,
          null,
          null,
          null,
          null,
          null,
          0.3577971067986911,
          0.3561711643315569,
          0.35432915351813354,
          0.35241593213021,
          0.35095569208452976,
          0.34949702392273313,
          0.34831251524671725,
          0.34665779769420624,
          0.34474293972495235,
          0.34273459262485745,
          0.3410566869793059,
          0.3392761494917206,
          0.3373848400727103,
          0.336236649487592,
          0.33579828382670124,
          0.3344357553162152,
          0.3329160783109786,
          0.33152916678522204,
          0.330253292205213,
          0.3286209579887269,
          0.3268371573354624,
          0.32551540698431713,
          0.3245897338360171,
          0.3240847185819964,
          0.3230757713317871,
          0.3214994828346409,
          0.3215372696330276,
          0.320719433358953,
          0.31966974218434924,
          0.31973982941877993,
          0.3188273631319215,
          0.3183227521897871,
          0.3173433218764353,
          0.3168224565967729,
          0.31658304529854014,
          0.31477044192673287,
          0.3144092074112047,
          0.3135109601330154,
          0.3133951823545408,
          0.31255324958245967,
          0.3130051910499983,
          0.3119564958954159,
          0.311830132067958,
          0.3126852140773701,
          0.31384692732480507,
          0.3124029403434524,
          0.3123047119831737,
          0.31235840020677713,
          0.3115365253407744,
          0.3114617175505131
         ],
         "yaxis": "y"
        },
        {
         "line": {
          "color": "rgb(200, 0, 0)",
          "dash": "dot",
          "width": 4
         },
         "marker": {
          "size": 8,
          "symbol": "x"
         },
         "mode": "lines",
         "name": "ngd WBIC",
         "type": "scatter",
         "x": [
          1,
          2,
          3,
          4,
          5,
          6,
          7,
          8,
          9,
          10,
          11,
          12,
          13,
          14,
          15,
          16,
          17,
          18,
          19,
          20,
          21,
          22,
          23,
          24,
          25,
          26,
          27,
          28,
          29,
          30,
          31,
          32,
          33,
          34,
          35,
          36,
          37,
          38,
          39,
          40,
          41,
          42,
          43,
          44,
          45,
          46,
          47,
          48,
          49,
          50,
          51,
          52,
          53,
          54,
          55,
          56,
          57,
          58,
          59,
          60,
          61,
          62,
          63,
          64,
          65,
          66,
          67,
          68,
          69,
          70,
          71,
          72,
          73,
          74,
          75,
          76,
          77,
          78,
          79,
          80
         ],
         "xaxis": "x",
         "y": [
          null,
          null,
          null,
          null,
          null,
          null,
          null,
          null,
          null,
          null,
          null,
          null,
          null,
          null,
          null,
          null,
          null,
          null,
          null,
          null,
          null,
          null,
          null,
          null,
          null,
          null,
          null,
          null,
          null,
          null,
          82753.90625,
          82785.5,
          83074.4921875,
          82601.6875,
          84728.21875,
          85756.65625,
          84857.578125,
          85127.9375,
          86047.4375,
          86194.34375,
          88668.140625,
          87228.796875,
          87529.765625,
          86615.71875,
          86412.0234375,
          87778.8828125,
          89367.6640625,
          90014.6640625,
          92548.7890625,
          88848.2265625,
          92125.109375,
          92386.734375,
          92669.5,
          93592.203125,
          94154.609375,
          93360.609375,
          95165.390625,
          95801.8671875,
          97056.953125,
          96527.953125,
          96333.6484375,
          98699.9453125,
          97675.546875,
          98777.953125,
          97699.890625,
          99720.03125,
          99495.0390625,
          98501.84375,
          100673.3203125,
          104331.375,
          102727.734375,
          100543.5703125,
          103277.15625,
          106653.96875,
          103214.8984375,
          103366.7265625,
          105902.921875,
          107383.03125,
          108806.796875,
          108145.8046875
         ],
         "yaxis": "y2"
        },
        {
         "line": {
          "color": "rgb(32, 102, 168)",
          "width": 3
         },
         "marker": {
          "size": 8,
          "symbol": "x"
         },
         "mode": "lines",
         "name": "sgd Validation",
         "type": "scatter",
         "x": [
          1,
          2,
          3,
          4,
          5,
          6,
          7,
          8,
          9,
          10,
          11,
          12,
          13,
          14,
          15,
          16,
          17,
          18,
          19,
          20,
          21,
          22,
          23,
          24,
          25,
          26,
          27,
          28,
          29,
          30,
          31,
          32,
          33,
          34,
          35,
          36,
          37,
          38,
          39,
          40,
          41,
          42,
          43,
          44,
          45,
          46,
          47,
          48,
          49,
          50,
          51,
          52,
          53,
          54,
          55,
          56,
          57,
          58,
          59,
          60,
          61,
          62,
          63,
          64,
          65,
          66,
          67,
          68,
          69,
          70,
          71,
          72,
          73,
          74,
          75,
          76,
          77,
          78,
          79,
          80
         ],
         "xaxis": "x",
         "y": [
          0.746054003510294,
          0.6102346476120285,
          0.5497647169270093,
          0.5173938191389735,
          0.4952898297128798,
          0.4840961185437215,
          0.4676617565034311,
          0.458504513849186,
          0.4492901920140544,
          0.443344740362107,
          0.43495464475849005,
          0.4259415359436711,
          0.4204477846999712,
          0.4154219367081606,
          0.41147884613350977,
          0.40642345140251934,
          0.39994299053391325,
          0.39676585567148426,
          0.394114229309408,
          0.38792691483527797,
          0.38494508081599127,
          0.3838487974827803,
          0.37904345008391366,
          0.3802651834638813,
          0.3736397424076177,
          0.3729147511192515,
          0.37134774349912814,
          0.36515614861928963,
          0.3691095338214802,
          0.3646914955181412,
          0.36125491370883167,
          0.357339381605764,
          0.35960078616685504,
          0.35672243278992327,
          0.3585225477626052,
          0.3523739451849008,
          0.35431684280120873,
          0.3546161304546308,
          0.3481279424851454,
          0.34599848261362387,
          0.3525277310157124,
          0.3453472282124471,
          0.3428059954054748,
          0.34317194198883033,
          0.3419667158888865,
          0.3393058825897265,
          0.337815755058693,
          0.33435605956783776,
          0.33673062411290183,
          0.33788855656792843,
          0.3357433514504493,
          0.33341529635311684,
          0.33937112572072425,
          0.32981519825473615,
          0.3335719862127606,
          0.330985963344574,
          0.3359506011386461,
          0.3371380840109873,
          0.3368979381232322,
          0.325936914527718,
          0.32917024355523195,
          0.32833087170803094,
          0.330804470502123,
          0.325425943430466,
          0.332162387386153,
          0.329868435105191,
          0.3264122041343134,
          0.32761286104781717,
          0.3244376149547251,
          0.32303511662573753,
          0.3272795617769036,
          0.33002505517458613,
          0.3232610606694523,
          0.3294520991135247,
          0.32381987609440765,
          0.33377207513851453,
          0.3295430764555931,
          0.32518204490217983,
          0.3309058873336526,
          0.32402762242510347
         ],
         "yaxis": "y"
        },
        {
         "line": {
          "color": "rgb(32, 102, 168)",
          "dash": "dot",
          "width": 4
         },
         "marker": {
          "size": 8,
          "symbol": "x"
         },
         "mode": "lines",
         "name": "sgd WBIC",
         "type": "scatter",
         "x": [
          1,
          2,
          3,
          4,
          5,
          6,
          7,
          8,
          9,
          10,
          11,
          12,
          13,
          14,
          15,
          16,
          17,
          18,
          19,
          20,
          21,
          22,
          23,
          24,
          25,
          26,
          27,
          28,
          29,
          30,
          31,
          32,
          33,
          34,
          35,
          36,
          37,
          38,
          39,
          40,
          41,
          42,
          43,
          44,
          45,
          46,
          47,
          48,
          49,
          50,
          51,
          52,
          53,
          54,
          55,
          56,
          57,
          58,
          59,
          60,
          61,
          62,
          63,
          64,
          65,
          66,
          67,
          68,
          69,
          70,
          71,
          72,
          73,
          74,
          75,
          76,
          77,
          78,
          79,
          80
         ],
         "xaxis": "x",
         "y": [
          99877.671875,
          95102.09375,
          88453.984375,
          86949.7109375,
          85834.5390625,
          83627.65625,
          83892.328125,
          85732.796875,
          83123.3515625,
          83772.484375,
          83231.828125,
          81771.90625,
          80484.109375,
          84553.03125,
          81139.0390625,
          82638.53125,
          83345.09375,
          80943.4375,
          80536.6328125,
          83371.734375,
          81811.015625,
          79488.609375,
          81918.359375,
          84074.15625,
          81552.921875,
          82258.1640625,
          84084.65625,
          83500.3515625,
          82782.9765625,
          84300.609375,
          82003.203125,
          81121.75,
          83316.6640625,
          86054.9453125,
          83777.6875,
          83662.140625,
          81571.140625,
          84279.0234375,
          85242.546875,
          83197.640625,
          84112.28125,
          86371.890625,
          86383.3125,
          86305.78125,
          87973.9375,
          85605.9140625,
          88369.296875,
          87342.7421875,
          85745.78125,
          88409.28125,
          87573.21875,
          86904.6796875,
          87746.171875,
          88181.3125,
          88677.015625,
          89272.203125,
          89694.53125,
          90680.515625,
          90994.40625,
          90563.328125,
          89028.890625,
          92612.359375,
          93638.265625,
          92238.2421875,
          92475.125,
          92320.203125,
          92812.46875,
          93018.0625,
          93380.1328125,
          93832.6875,
          94028.328125,
          92003.921875,
          95603.3984375,
          95772.453125,
          97101.375,
          96739.1015625,
          95832.15625,
          94840.046875,
          94597.5078125,
          96874.015625
         ],
         "yaxis": "y2"
        }
       ],
       "layout": {
        "height": 400,
        "legend": {
         "orientation": "h",
         "x": 0,
         "xanchor": "left",
         "y": 1,
         "yanchor": "bottom"
        },
        "template": {
         "data": {
          "bar": [
           {
            "error_x": {
             "color": "#2a3f5f"
            },
            "error_y": {
             "color": "#2a3f5f"
            },
            "marker": {
             "line": {
              "color": "#E5ECF6",
              "width": 0.5
             },
             "pattern": {
              "fillmode": "overlay",
              "size": 10,
              "solidity": 0.2
             }
            },
            "type": "bar"
           }
          ],
          "barpolar": [
           {
            "marker": {
             "line": {
              "color": "#E5ECF6",
              "width": 0.5
             },
             "pattern": {
              "fillmode": "overlay",
              "size": 10,
              "solidity": 0.2
             }
            },
            "type": "barpolar"
           }
          ],
          "carpet": [
           {
            "aaxis": {
             "endlinecolor": "#2a3f5f",
             "gridcolor": "white",
             "linecolor": "white",
             "minorgridcolor": "white",
             "startlinecolor": "#2a3f5f"
            },
            "baxis": {
             "endlinecolor": "#2a3f5f",
             "gridcolor": "white",
             "linecolor": "white",
             "minorgridcolor": "white",
             "startlinecolor": "#2a3f5f"
            },
            "type": "carpet"
           }
          ],
          "choropleth": [
           {
            "colorbar": {
             "outlinewidth": 0,
             "ticks": ""
            },
            "type": "choropleth"
           }
          ],
          "contour": [
           {
            "colorbar": {
             "outlinewidth": 0,
             "ticks": ""
            },
            "colorscale": [
             [
              0,
              "#0d0887"
             ],
             [
              0.1111111111111111,
              "#46039f"
             ],
             [
              0.2222222222222222,
              "#7201a8"
             ],
             [
              0.3333333333333333,
              "#9c179e"
             ],
             [
              0.4444444444444444,
              "#bd3786"
             ],
             [
              0.5555555555555556,
              "#d8576b"
             ],
             [
              0.6666666666666666,
              "#ed7953"
             ],
             [
              0.7777777777777778,
              "#fb9f3a"
             ],
             [
              0.8888888888888888,
              "#fdca26"
             ],
             [
              1,
              "#f0f921"
             ]
            ],
            "type": "contour"
           }
          ],
          "contourcarpet": [
           {
            "colorbar": {
             "outlinewidth": 0,
             "ticks": ""
            },
            "type": "contourcarpet"
           }
          ],
          "heatmap": [
           {
            "colorbar": {
             "outlinewidth": 0,
             "ticks": ""
            },
            "colorscale": [
             [
              0,
              "#0d0887"
             ],
             [
              0.1111111111111111,
              "#46039f"
             ],
             [
              0.2222222222222222,
              "#7201a8"
             ],
             [
              0.3333333333333333,
              "#9c179e"
             ],
             [
              0.4444444444444444,
              "#bd3786"
             ],
             [
              0.5555555555555556,
              "#d8576b"
             ],
             [
              0.6666666666666666,
              "#ed7953"
             ],
             [
              0.7777777777777778,
              "#fb9f3a"
             ],
             [
              0.8888888888888888,
              "#fdca26"
             ],
             [
              1,
              "#f0f921"
             ]
            ],
            "type": "heatmap"
           }
          ],
          "heatmapgl": [
           {
            "colorbar": {
             "outlinewidth": 0,
             "ticks": ""
            },
            "colorscale": [
             [
              0,
              "#0d0887"
             ],
             [
              0.1111111111111111,
              "#46039f"
             ],
             [
              0.2222222222222222,
              "#7201a8"
             ],
             [
              0.3333333333333333,
              "#9c179e"
             ],
             [
              0.4444444444444444,
              "#bd3786"
             ],
             [
              0.5555555555555556,
              "#d8576b"
             ],
             [
              0.6666666666666666,
              "#ed7953"
             ],
             [
              0.7777777777777778,
              "#fb9f3a"
             ],
             [
              0.8888888888888888,
              "#fdca26"
             ],
             [
              1,
              "#f0f921"
             ]
            ],
            "type": "heatmapgl"
           }
          ],
          "histogram": [
           {
            "marker": {
             "pattern": {
              "fillmode": "overlay",
              "size": 10,
              "solidity": 0.2
             }
            },
            "type": "histogram"
           }
          ],
          "histogram2d": [
           {
            "colorbar": {
             "outlinewidth": 0,
             "ticks": ""
            },
            "colorscale": [
             [
              0,
              "#0d0887"
             ],
             [
              0.1111111111111111,
              "#46039f"
             ],
             [
              0.2222222222222222,
              "#7201a8"
             ],
             [
              0.3333333333333333,
              "#9c179e"
             ],
             [
              0.4444444444444444,
              "#bd3786"
             ],
             [
              0.5555555555555556,
              "#d8576b"
             ],
             [
              0.6666666666666666,
              "#ed7953"
             ],
             [
              0.7777777777777778,
              "#fb9f3a"
             ],
             [
              0.8888888888888888,
              "#fdca26"
             ],
             [
              1,
              "#f0f921"
             ]
            ],
            "type": "histogram2d"
           }
          ],
          "histogram2dcontour": [
           {
            "colorbar": {
             "outlinewidth": 0,
             "ticks": ""
            },
            "colorscale": [
             [
              0,
              "#0d0887"
             ],
             [
              0.1111111111111111,
              "#46039f"
             ],
             [
              0.2222222222222222,
              "#7201a8"
             ],
             [
              0.3333333333333333,
              "#9c179e"
             ],
             [
              0.4444444444444444,
              "#bd3786"
             ],
             [
              0.5555555555555556,
              "#d8576b"
             ],
             [
              0.6666666666666666,
              "#ed7953"
             ],
             [
              0.7777777777777778,
              "#fb9f3a"
             ],
             [
              0.8888888888888888,
              "#fdca26"
             ],
             [
              1,
              "#f0f921"
             ]
            ],
            "type": "histogram2dcontour"
           }
          ],
          "mesh3d": [
           {
            "colorbar": {
             "outlinewidth": 0,
             "ticks": ""
            },
            "type": "mesh3d"
           }
          ],
          "parcoords": [
           {
            "line": {
             "colorbar": {
              "outlinewidth": 0,
              "ticks": ""
             }
            },
            "type": "parcoords"
           }
          ],
          "pie": [
           {
            "automargin": true,
            "type": "pie"
           }
          ],
          "scatter": [
           {
            "fillpattern": {
             "fillmode": "overlay",
             "size": 10,
             "solidity": 0.2
            },
            "type": "scatter"
           }
          ],
          "scatter3d": [
           {
            "line": {
             "colorbar": {
              "outlinewidth": 0,
              "ticks": ""
             }
            },
            "marker": {
             "colorbar": {
              "outlinewidth": 0,
              "ticks": ""
             }
            },
            "type": "scatter3d"
           }
          ],
          "scattercarpet": [
           {
            "marker": {
             "colorbar": {
              "outlinewidth": 0,
              "ticks": ""
             }
            },
            "type": "scattercarpet"
           }
          ],
          "scattergeo": [
           {
            "marker": {
             "colorbar": {
              "outlinewidth": 0,
              "ticks": ""
             }
            },
            "type": "scattergeo"
           }
          ],
          "scattergl": [
           {
            "marker": {
             "colorbar": {
              "outlinewidth": 0,
              "ticks": ""
             }
            },
            "type": "scattergl"
           }
          ],
          "scattermapbox": [
           {
            "marker": {
             "colorbar": {
              "outlinewidth": 0,
              "ticks": ""
             }
            },
            "type": "scattermapbox"
           }
          ],
          "scatterpolar": [
           {
            "marker": {
             "colorbar": {
              "outlinewidth": 0,
              "ticks": ""
             }
            },
            "type": "scatterpolar"
           }
          ],
          "scatterpolargl": [
           {
            "marker": {
             "colorbar": {
              "outlinewidth": 0,
              "ticks": ""
             }
            },
            "type": "scatterpolargl"
           }
          ],
          "scatterternary": [
           {
            "marker": {
             "colorbar": {
              "outlinewidth": 0,
              "ticks": ""
             }
            },
            "type": "scatterternary"
           }
          ],
          "surface": [
           {
            "colorbar": {
             "outlinewidth": 0,
             "ticks": ""
            },
            "colorscale": [
             [
              0,
              "#0d0887"
             ],
             [
              0.1111111111111111,
              "#46039f"
             ],
             [
              0.2222222222222222,
              "#7201a8"
             ],
             [
              0.3333333333333333,
              "#9c179e"
             ],
             [
              0.4444444444444444,
              "#bd3786"
             ],
             [
              0.5555555555555556,
              "#d8576b"
             ],
             [
              0.6666666666666666,
              "#ed7953"
             ],
             [
              0.7777777777777778,
              "#fb9f3a"
             ],
             [
              0.8888888888888888,
              "#fdca26"
             ],
             [
              1,
              "#f0f921"
             ]
            ],
            "type": "surface"
           }
          ],
          "table": [
           {
            "cells": {
             "fill": {
              "color": "#EBF0F8"
             },
             "line": {
              "color": "white"
             }
            },
            "header": {
             "fill": {
              "color": "#C8D4E3"
             },
             "line": {
              "color": "white"
             }
            },
            "type": "table"
           }
          ]
         },
         "layout": {
          "annotationdefaults": {
           "arrowcolor": "#2a3f5f",
           "arrowhead": 0,
           "arrowwidth": 1
          },
          "autotypenumbers": "strict",
          "coloraxis": {
           "colorbar": {
            "outlinewidth": 0,
            "ticks": ""
           }
          },
          "colorscale": {
           "diverging": [
            [
             0,
             "#8e0152"
            ],
            [
             0.1,
             "#c51b7d"
            ],
            [
             0.2,
             "#de77ae"
            ],
            [
             0.3,
             "#f1b6da"
            ],
            [
             0.4,
             "#fde0ef"
            ],
            [
             0.5,
             "#f7f7f7"
            ],
            [
             0.6,
             "#e6f5d0"
            ],
            [
             0.7,
             "#b8e186"
            ],
            [
             0.8,
             "#7fbc41"
            ],
            [
             0.9,
             "#4d9221"
            ],
            [
             1,
             "#276419"
            ]
           ],
           "sequential": [
            [
             0,
             "#0d0887"
            ],
            [
             0.1111111111111111,
             "#46039f"
            ],
            [
             0.2222222222222222,
             "#7201a8"
            ],
            [
             0.3333333333333333,
             "#9c179e"
            ],
            [
             0.4444444444444444,
             "#bd3786"
            ],
            [
             0.5555555555555556,
             "#d8576b"
            ],
            [
             0.6666666666666666,
             "#ed7953"
            ],
            [
             0.7777777777777778,
             "#fb9f3a"
            ],
            [
             0.8888888888888888,
             "#fdca26"
            ],
            [
             1,
             "#f0f921"
            ]
           ],
           "sequentialminus": [
            [
             0,
             "#0d0887"
            ],
            [
             0.1111111111111111,
             "#46039f"
            ],
            [
             0.2222222222222222,
             "#7201a8"
            ],
            [
             0.3333333333333333,
             "#9c179e"
            ],
            [
             0.4444444444444444,
             "#bd3786"
            ],
            [
             0.5555555555555556,
             "#d8576b"
            ],
            [
             0.6666666666666666,
             "#ed7953"
            ],
            [
             0.7777777777777778,
             "#fb9f3a"
            ],
            [
             0.8888888888888888,
             "#fdca26"
            ],
            [
             1,
             "#f0f921"
            ]
           ]
          },
          "colorway": [
           "#636efa",
           "#EF553B",
           "#00cc96",
           "#ab63fa",
           "#FFA15A",
           "#19d3f3",
           "#FF6692",
           "#B6E880",
           "#FF97FF",
           "#FECB52"
          ],
          "font": {
           "color": "#2a3f5f"
          },
          "geo": {
           "bgcolor": "white",
           "lakecolor": "white",
           "landcolor": "#E5ECF6",
           "showlakes": true,
           "showland": true,
           "subunitcolor": "white"
          },
          "hoverlabel": {
           "align": "left"
          },
          "hovermode": "closest",
          "mapbox": {
           "style": "light"
          },
          "paper_bgcolor": "white",
          "plot_bgcolor": "#E5ECF6",
          "polar": {
           "angularaxis": {
            "gridcolor": "white",
            "linecolor": "white",
            "ticks": ""
           },
           "bgcolor": "#E5ECF6",
           "radialaxis": {
            "gridcolor": "white",
            "linecolor": "white",
            "ticks": ""
           }
          },
          "scene": {
           "xaxis": {
            "backgroundcolor": "#E5ECF6",
            "gridcolor": "white",
            "gridwidth": 2,
            "linecolor": "white",
            "showbackground": true,
            "ticks": "",
            "zerolinecolor": "white"
           },
           "yaxis": {
            "backgroundcolor": "#E5ECF6",
            "gridcolor": "white",
            "gridwidth": 2,
            "linecolor": "white",
            "showbackground": true,
            "ticks": "",
            "zerolinecolor": "white"
           },
           "zaxis": {
            "backgroundcolor": "#E5ECF6",
            "gridcolor": "white",
            "gridwidth": 2,
            "linecolor": "white",
            "showbackground": true,
            "ticks": "",
            "zerolinecolor": "white"
           }
          },
          "shapedefaults": {
           "line": {
            "color": "#2a3f5f"
           }
          },
          "ternary": {
           "aaxis": {
            "gridcolor": "white",
            "linecolor": "white",
            "ticks": ""
           },
           "baxis": {
            "gridcolor": "white",
            "linecolor": "white",
            "ticks": ""
           },
           "bgcolor": "#E5ECF6",
           "caxis": {
            "gridcolor": "white",
            "linecolor": "white",
            "ticks": ""
           }
          },
          "title": {
           "x": 0.05
          },
          "xaxis": {
           "automargin": true,
           "gridcolor": "white",
           "linecolor": "white",
           "ticks": "",
           "title": {
            "standoff": 15
           },
           "zerolinecolor": "white",
           "zerolinewidth": 2
          },
          "yaxis": {
           "automargin": true,
           "gridcolor": "white",
           "linecolor": "white",
           "ticks": "",
           "title": {
            "standoff": 15
           },
           "zerolinecolor": "white",
           "zerolinewidth": 2
          }
         }
        },
        "title": {
         "text": "FFNN 2 HL, 256 HN Validation Loss / WBIC"
        },
        "width": 600,
        "xaxis": {
         "anchor": "y",
         "domain": [
          0,
          0.94
         ],
         "dtick": 5,
         "tick0": 0,
         "tickmode": "linear",
         "title": {
          "text": "Epoch"
         }
        },
        "yaxis": {
         "anchor": "x",
         "domain": [
          0,
          1
         ],
         "range": [
          0,
          null
         ],
         "title": {
          "text": "Validation Loss"
         },
         "type": "linear"
        },
        "yaxis2": {
         "anchor": "x",
         "overlaying": "y",
         "showgrid": false,
         "side": "right",
         "title": {
          "text": "WBIC"
         }
        }
       }
      },
      "text/html": [
       "<div>                            <div id=\"4841f983-72ea-4b4a-bf6a-79edd625c1ff\" class=\"plotly-graph-div\" style=\"height:400px; width:600px;\"></div>            <script type=\"text/javascript\">                require([\"plotly\"], function(Plotly) {                    window.PLOTLYENV=window.PLOTLYENV || {};                                    if (document.getElementById(\"4841f983-72ea-4b4a-bf6a-79edd625c1ff\")) {                    Plotly.newPlot(                        \"4841f983-72ea-4b4a-bf6a-79edd625c1ff\",                        [{\"line\":{\"color\":\"rgb(200, 0, 0)\",\"width\":3},\"marker\":{\"size\":8,\"symbol\":\"x\"},\"mode\":\"lines\",\"name\":\"ngd Validation\",\"x\":[1,2,3,4,5,6,7,8,9,10,11,12,13,14,15,16,17,18,19,20,21,22,23,24,25,26,27,28,29,30,31,32,33,34,35,36,37,38,39,40,41,42,43,44,45,46,47,48,49,50,51,52,53,54,55,56,57,58,59,60,61,62,63,64,65,66,67,68,69,70,71,72,73,74,75,76,77,78,79,80],\"y\":[null,null,null,null,null,null,null,null,null,null,null,null,null,null,null,null,null,null,null,null,null,null,null,null,null,null,null,null,null,null,0.3577971067986911,0.3561711643315569,0.35432915351813354,0.35241593213021,0.35095569208452976,0.34949702392273313,0.34831251524671725,0.34665779769420624,0.34474293972495235,0.34273459262485745,0.3410566869793059,0.3392761494917206,0.3373848400727103,0.336236649487592,0.33579828382670124,0.3344357553162152,0.3329160783109786,0.33152916678522204,0.330253292205213,0.3286209579887269,0.3268371573354624,0.32551540698431713,0.3245897338360171,0.3240847185819964,0.3230757713317871,0.3214994828346409,0.3215372696330276,0.320719433358953,0.31966974218434924,0.31973982941877993,0.3188273631319215,0.3183227521897871,0.3173433218764353,0.3168224565967729,0.31658304529854014,0.31477044192673287,0.3144092074112047,0.3135109601330154,0.3133951823545408,0.31255324958245967,0.3130051910499983,0.3119564958954159,0.311830132067958,0.3126852140773701,0.31384692732480507,0.3124029403434524,0.3123047119831737,0.31235840020677713,0.3115365253407744,0.3114617175505131],\"type\":\"scatter\",\"xaxis\":\"x\",\"yaxis\":\"y\"},{\"line\":{\"color\":\"rgb(200, 0, 0)\",\"dash\":\"dot\",\"width\":4},\"marker\":{\"size\":8,\"symbol\":\"x\"},\"mode\":\"lines\",\"name\":\"ngd WBIC\",\"x\":[1,2,3,4,5,6,7,8,9,10,11,12,13,14,15,16,17,18,19,20,21,22,23,24,25,26,27,28,29,30,31,32,33,34,35,36,37,38,39,40,41,42,43,44,45,46,47,48,49,50,51,52,53,54,55,56,57,58,59,60,61,62,63,64,65,66,67,68,69,70,71,72,73,74,75,76,77,78,79,80],\"y\":[null,null,null,null,null,null,null,null,null,null,null,null,null,null,null,null,null,null,null,null,null,null,null,null,null,null,null,null,null,null,82753.90625,82785.5,83074.4921875,82601.6875,84728.21875,85756.65625,84857.578125,85127.9375,86047.4375,86194.34375,88668.140625,87228.796875,87529.765625,86615.71875,86412.0234375,87778.8828125,89367.6640625,90014.6640625,92548.7890625,88848.2265625,92125.109375,92386.734375,92669.5,93592.203125,94154.609375,93360.609375,95165.390625,95801.8671875,97056.953125,96527.953125,96333.6484375,98699.9453125,97675.546875,98777.953125,97699.890625,99720.03125,99495.0390625,98501.84375,100673.3203125,104331.375,102727.734375,100543.5703125,103277.15625,106653.96875,103214.8984375,103366.7265625,105902.921875,107383.03125,108806.796875,108145.8046875],\"type\":\"scatter\",\"xaxis\":\"x\",\"yaxis\":\"y2\"},{\"line\":{\"color\":\"rgb(32, 102, 168)\",\"width\":3},\"marker\":{\"size\":8,\"symbol\":\"x\"},\"mode\":\"lines\",\"name\":\"sgd Validation\",\"x\":[1,2,3,4,5,6,7,8,9,10,11,12,13,14,15,16,17,18,19,20,21,22,23,24,25,26,27,28,29,30,31,32,33,34,35,36,37,38,39,40,41,42,43,44,45,46,47,48,49,50,51,52,53,54,55,56,57,58,59,60,61,62,63,64,65,66,67,68,69,70,71,72,73,74,75,76,77,78,79,80],\"y\":[0.746054003510294,0.6102346476120285,0.5497647169270093,0.5173938191389735,0.4952898297128798,0.4840961185437215,0.4676617565034311,0.458504513849186,0.4492901920140544,0.443344740362107,0.43495464475849005,0.4259415359436711,0.4204477846999712,0.4154219367081606,0.41147884613350977,0.40642345140251934,0.39994299053391325,0.39676585567148426,0.394114229309408,0.38792691483527797,0.38494508081599127,0.3838487974827803,0.37904345008391366,0.3802651834638813,0.3736397424076177,0.3729147511192515,0.37134774349912814,0.36515614861928963,0.3691095338214802,0.3646914955181412,0.36125491370883167,0.357339381605764,0.35960078616685504,0.35672243278992327,0.3585225477626052,0.3523739451849008,0.35431684280120873,0.3546161304546308,0.3481279424851454,0.34599848261362387,0.3525277310157124,0.3453472282124471,0.3428059954054748,0.34317194198883033,0.3419667158888865,0.3393058825897265,0.337815755058693,0.33435605956783776,0.33673062411290183,0.33788855656792843,0.3357433514504493,0.33341529635311684,0.33937112572072425,0.32981519825473615,0.3335719862127606,0.330985963344574,0.3359506011386461,0.3371380840109873,0.3368979381232322,0.325936914527718,0.32917024355523195,0.32833087170803094,0.330804470502123,0.325425943430466,0.332162387386153,0.329868435105191,0.3264122041343134,0.32761286104781717,0.3244376149547251,0.32303511662573753,0.3272795617769036,0.33002505517458613,0.3232610606694523,0.3294520991135247,0.32381987609440765,0.33377207513851453,0.3295430764555931,0.32518204490217983,0.3309058873336526,0.32402762242510347],\"type\":\"scatter\",\"xaxis\":\"x\",\"yaxis\":\"y\"},{\"line\":{\"color\":\"rgb(32, 102, 168)\",\"dash\":\"dot\",\"width\":4},\"marker\":{\"size\":8,\"symbol\":\"x\"},\"mode\":\"lines\",\"name\":\"sgd WBIC\",\"x\":[1,2,3,4,5,6,7,8,9,10,11,12,13,14,15,16,17,18,19,20,21,22,23,24,25,26,27,28,29,30,31,32,33,34,35,36,37,38,39,40,41,42,43,44,45,46,47,48,49,50,51,52,53,54,55,56,57,58,59,60,61,62,63,64,65,66,67,68,69,70,71,72,73,74,75,76,77,78,79,80],\"y\":[99877.671875,95102.09375,88453.984375,86949.7109375,85834.5390625,83627.65625,83892.328125,85732.796875,83123.3515625,83772.484375,83231.828125,81771.90625,80484.109375,84553.03125,81139.0390625,82638.53125,83345.09375,80943.4375,80536.6328125,83371.734375,81811.015625,79488.609375,81918.359375,84074.15625,81552.921875,82258.1640625,84084.65625,83500.3515625,82782.9765625,84300.609375,82003.203125,81121.75,83316.6640625,86054.9453125,83777.6875,83662.140625,81571.140625,84279.0234375,85242.546875,83197.640625,84112.28125,86371.890625,86383.3125,86305.78125,87973.9375,85605.9140625,88369.296875,87342.7421875,85745.78125,88409.28125,87573.21875,86904.6796875,87746.171875,88181.3125,88677.015625,89272.203125,89694.53125,90680.515625,90994.40625,90563.328125,89028.890625,92612.359375,93638.265625,92238.2421875,92475.125,92320.203125,92812.46875,93018.0625,93380.1328125,93832.6875,94028.328125,92003.921875,95603.3984375,95772.453125,97101.375,96739.1015625,95832.15625,94840.046875,94597.5078125,96874.015625],\"type\":\"scatter\",\"xaxis\":\"x\",\"yaxis\":\"y2\"}],                        {\"template\":{\"data\":{\"histogram2dcontour\":[{\"type\":\"histogram2dcontour\",\"colorbar\":{\"outlinewidth\":0,\"ticks\":\"\"},\"colorscale\":[[0.0,\"#0d0887\"],[0.1111111111111111,\"#46039f\"],[0.2222222222222222,\"#7201a8\"],[0.3333333333333333,\"#9c179e\"],[0.4444444444444444,\"#bd3786\"],[0.5555555555555556,\"#d8576b\"],[0.6666666666666666,\"#ed7953\"],[0.7777777777777778,\"#fb9f3a\"],[0.8888888888888888,\"#fdca26\"],[1.0,\"#f0f921\"]]}],\"choropleth\":[{\"type\":\"choropleth\",\"colorbar\":{\"outlinewidth\":0,\"ticks\":\"\"}}],\"histogram2d\":[{\"type\":\"histogram2d\",\"colorbar\":{\"outlinewidth\":0,\"ticks\":\"\"},\"colorscale\":[[0.0,\"#0d0887\"],[0.1111111111111111,\"#46039f\"],[0.2222222222222222,\"#7201a8\"],[0.3333333333333333,\"#9c179e\"],[0.4444444444444444,\"#bd3786\"],[0.5555555555555556,\"#d8576b\"],[0.6666666666666666,\"#ed7953\"],[0.7777777777777778,\"#fb9f3a\"],[0.8888888888888888,\"#fdca26\"],[1.0,\"#f0f921\"]]}],\"heatmap\":[{\"type\":\"heatmap\",\"colorbar\":{\"outlinewidth\":0,\"ticks\":\"\"},\"colorscale\":[[0.0,\"#0d0887\"],[0.1111111111111111,\"#46039f\"],[0.2222222222222222,\"#7201a8\"],[0.3333333333333333,\"#9c179e\"],[0.4444444444444444,\"#bd3786\"],[0.5555555555555556,\"#d8576b\"],[0.6666666666666666,\"#ed7953\"],[0.7777777777777778,\"#fb9f3a\"],[0.8888888888888888,\"#fdca26\"],[1.0,\"#f0f921\"]]}],\"heatmapgl\":[{\"type\":\"heatmapgl\",\"colorbar\":{\"outlinewidth\":0,\"ticks\":\"\"},\"colorscale\":[[0.0,\"#0d0887\"],[0.1111111111111111,\"#46039f\"],[0.2222222222222222,\"#7201a8\"],[0.3333333333333333,\"#9c179e\"],[0.4444444444444444,\"#bd3786\"],[0.5555555555555556,\"#d8576b\"],[0.6666666666666666,\"#ed7953\"],[0.7777777777777778,\"#fb9f3a\"],[0.8888888888888888,\"#fdca26\"],[1.0,\"#f0f921\"]]}],\"contourcarpet\":[{\"type\":\"contourcarpet\",\"colorbar\":{\"outlinewidth\":0,\"ticks\":\"\"}}],\"contour\":[{\"type\":\"contour\",\"colorbar\":{\"outlinewidth\":0,\"ticks\":\"\"},\"colorscale\":[[0.0,\"#0d0887\"],[0.1111111111111111,\"#46039f\"],[0.2222222222222222,\"#7201a8\"],[0.3333333333333333,\"#9c179e\"],[0.4444444444444444,\"#bd3786\"],[0.5555555555555556,\"#d8576b\"],[0.6666666666666666,\"#ed7953\"],[0.7777777777777778,\"#fb9f3a\"],[0.8888888888888888,\"#fdca26\"],[1.0,\"#f0f921\"]]}],\"surface\":[{\"type\":\"surface\",\"colorbar\":{\"outlinewidth\":0,\"ticks\":\"\"},\"colorscale\":[[0.0,\"#0d0887\"],[0.1111111111111111,\"#46039f\"],[0.2222222222222222,\"#7201a8\"],[0.3333333333333333,\"#9c179e\"],[0.4444444444444444,\"#bd3786\"],[0.5555555555555556,\"#d8576b\"],[0.6666666666666666,\"#ed7953\"],[0.7777777777777778,\"#fb9f3a\"],[0.8888888888888888,\"#fdca26\"],[1.0,\"#f0f921\"]]}],\"mesh3d\":[{\"type\":\"mesh3d\",\"colorbar\":{\"outlinewidth\":0,\"ticks\":\"\"}}],\"scatter\":[{\"fillpattern\":{\"fillmode\":\"overlay\",\"size\":10,\"solidity\":0.2},\"type\":\"scatter\"}],\"parcoords\":[{\"type\":\"parcoords\",\"line\":{\"colorbar\":{\"outlinewidth\":0,\"ticks\":\"\"}}}],\"scatterpolargl\":[{\"type\":\"scatterpolargl\",\"marker\":{\"colorbar\":{\"outlinewidth\":0,\"ticks\":\"\"}}}],\"bar\":[{\"error_x\":{\"color\":\"#2a3f5f\"},\"error_y\":{\"color\":\"#2a3f5f\"},\"marker\":{\"line\":{\"color\":\"#E5ECF6\",\"width\":0.5},\"pattern\":{\"fillmode\":\"overlay\",\"size\":10,\"solidity\":0.2}},\"type\":\"bar\"}],\"scattergeo\":[{\"type\":\"scattergeo\",\"marker\":{\"colorbar\":{\"outlinewidth\":0,\"ticks\":\"\"}}}],\"scatterpolar\":[{\"type\":\"scatterpolar\",\"marker\":{\"colorbar\":{\"outlinewidth\":0,\"ticks\":\"\"}}}],\"histogram\":[{\"marker\":{\"pattern\":{\"fillmode\":\"overlay\",\"size\":10,\"solidity\":0.2}},\"type\":\"histogram\"}],\"scattergl\":[{\"type\":\"scattergl\",\"marker\":{\"colorbar\":{\"outlinewidth\":0,\"ticks\":\"\"}}}],\"scatter3d\":[{\"type\":\"scatter3d\",\"line\":{\"colorbar\":{\"outlinewidth\":0,\"ticks\":\"\"}},\"marker\":{\"colorbar\":{\"outlinewidth\":0,\"ticks\":\"\"}}}],\"scattermapbox\":[{\"type\":\"scattermapbox\",\"marker\":{\"colorbar\":{\"outlinewidth\":0,\"ticks\":\"\"}}}],\"scatterternary\":[{\"type\":\"scatterternary\",\"marker\":{\"colorbar\":{\"outlinewidth\":0,\"ticks\":\"\"}}}],\"scattercarpet\":[{\"type\":\"scattercarpet\",\"marker\":{\"colorbar\":{\"outlinewidth\":0,\"ticks\":\"\"}}}],\"carpet\":[{\"aaxis\":{\"endlinecolor\":\"#2a3f5f\",\"gridcolor\":\"white\",\"linecolor\":\"white\",\"minorgridcolor\":\"white\",\"startlinecolor\":\"#2a3f5f\"},\"baxis\":{\"endlinecolor\":\"#2a3f5f\",\"gridcolor\":\"white\",\"linecolor\":\"white\",\"minorgridcolor\":\"white\",\"startlinecolor\":\"#2a3f5f\"},\"type\":\"carpet\"}],\"table\":[{\"cells\":{\"fill\":{\"color\":\"#EBF0F8\"},\"line\":{\"color\":\"white\"}},\"header\":{\"fill\":{\"color\":\"#C8D4E3\"},\"line\":{\"color\":\"white\"}},\"type\":\"table\"}],\"barpolar\":[{\"marker\":{\"line\":{\"color\":\"#E5ECF6\",\"width\":0.5},\"pattern\":{\"fillmode\":\"overlay\",\"size\":10,\"solidity\":0.2}},\"type\":\"barpolar\"}],\"pie\":[{\"automargin\":true,\"type\":\"pie\"}]},\"layout\":{\"autotypenumbers\":\"strict\",\"colorway\":[\"#636efa\",\"#EF553B\",\"#00cc96\",\"#ab63fa\",\"#FFA15A\",\"#19d3f3\",\"#FF6692\",\"#B6E880\",\"#FF97FF\",\"#FECB52\"],\"font\":{\"color\":\"#2a3f5f\"},\"hovermode\":\"closest\",\"hoverlabel\":{\"align\":\"left\"},\"paper_bgcolor\":\"white\",\"plot_bgcolor\":\"#E5ECF6\",\"polar\":{\"bgcolor\":\"#E5ECF6\",\"angularaxis\":{\"gridcolor\":\"white\",\"linecolor\":\"white\",\"ticks\":\"\"},\"radialaxis\":{\"gridcolor\":\"white\",\"linecolor\":\"white\",\"ticks\":\"\"}},\"ternary\":{\"bgcolor\":\"#E5ECF6\",\"aaxis\":{\"gridcolor\":\"white\",\"linecolor\":\"white\",\"ticks\":\"\"},\"baxis\":{\"gridcolor\":\"white\",\"linecolor\":\"white\",\"ticks\":\"\"},\"caxis\":{\"gridcolor\":\"white\",\"linecolor\":\"white\",\"ticks\":\"\"}},\"coloraxis\":{\"colorbar\":{\"outlinewidth\":0,\"ticks\":\"\"}},\"colorscale\":{\"sequential\":[[0.0,\"#0d0887\"],[0.1111111111111111,\"#46039f\"],[0.2222222222222222,\"#7201a8\"],[0.3333333333333333,\"#9c179e\"],[0.4444444444444444,\"#bd3786\"],[0.5555555555555556,\"#d8576b\"],[0.6666666666666666,\"#ed7953\"],[0.7777777777777778,\"#fb9f3a\"],[0.8888888888888888,\"#fdca26\"],[1.0,\"#f0f921\"]],\"sequentialminus\":[[0.0,\"#0d0887\"],[0.1111111111111111,\"#46039f\"],[0.2222222222222222,\"#7201a8\"],[0.3333333333333333,\"#9c179e\"],[0.4444444444444444,\"#bd3786\"],[0.5555555555555556,\"#d8576b\"],[0.6666666666666666,\"#ed7953\"],[0.7777777777777778,\"#fb9f3a\"],[0.8888888888888888,\"#fdca26\"],[1.0,\"#f0f921\"]],\"diverging\":[[0,\"#8e0152\"],[0.1,\"#c51b7d\"],[0.2,\"#de77ae\"],[0.3,\"#f1b6da\"],[0.4,\"#fde0ef\"],[0.5,\"#f7f7f7\"],[0.6,\"#e6f5d0\"],[0.7,\"#b8e186\"],[0.8,\"#7fbc41\"],[0.9,\"#4d9221\"],[1,\"#276419\"]]},\"xaxis\":{\"gridcolor\":\"white\",\"linecolor\":\"white\",\"ticks\":\"\",\"title\":{\"standoff\":15},\"zerolinecolor\":\"white\",\"automargin\":true,\"zerolinewidth\":2},\"yaxis\":{\"gridcolor\":\"white\",\"linecolor\":\"white\",\"ticks\":\"\",\"title\":{\"standoff\":15},\"zerolinecolor\":\"white\",\"automargin\":true,\"zerolinewidth\":2},\"scene\":{\"xaxis\":{\"backgroundcolor\":\"#E5ECF6\",\"gridcolor\":\"white\",\"linecolor\":\"white\",\"showbackground\":true,\"ticks\":\"\",\"zerolinecolor\":\"white\",\"gridwidth\":2},\"yaxis\":{\"backgroundcolor\":\"#E5ECF6\",\"gridcolor\":\"white\",\"linecolor\":\"white\",\"showbackground\":true,\"ticks\":\"\",\"zerolinecolor\":\"white\",\"gridwidth\":2},\"zaxis\":{\"backgroundcolor\":\"#E5ECF6\",\"gridcolor\":\"white\",\"linecolor\":\"white\",\"showbackground\":true,\"ticks\":\"\",\"zerolinecolor\":\"white\",\"gridwidth\":2}},\"shapedefaults\":{\"line\":{\"color\":\"#2a3f5f\"}},\"annotationdefaults\":{\"arrowcolor\":\"#2a3f5f\",\"arrowhead\":0,\"arrowwidth\":1},\"geo\":{\"bgcolor\":\"white\",\"landcolor\":\"#E5ECF6\",\"subunitcolor\":\"white\",\"showland\":true,\"showlakes\":true,\"lakecolor\":\"white\"},\"title\":{\"x\":0.05},\"mapbox\":{\"style\":\"light\"}}},\"xaxis\":{\"anchor\":\"y\",\"domain\":[0.0,0.94],\"title\":{\"text\":\"Epoch\"},\"tickmode\":\"linear\",\"tick0\":0,\"dtick\":5},\"yaxis\":{\"anchor\":\"x\",\"domain\":[0.0,1.0],\"type\":\"linear\",\"range\":[0,null],\"title\":{\"text\":\"Validation Loss\"}},\"yaxis2\":{\"anchor\":\"x\",\"overlaying\":\"y\",\"side\":\"right\",\"title\":{\"text\":\"WBIC\"},\"showgrid\":false},\"legend\":{\"x\":0,\"y\":1,\"xanchor\":\"left\",\"yanchor\":\"bottom\",\"orientation\":\"h\"},\"title\":{\"text\":\"FFNN 2 HL, 256 HN Validation Loss \\u002f WBIC\"},\"width\":600,\"height\":400},                        {\"responsive\": true}                    ).then(function(){\n",
       "                            \n",
       "var gd = document.getElementById('4841f983-72ea-4b4a-bf6a-79edd625c1ff');\n",
       "var x = new MutationObserver(function (mutations, observer) {{\n",
       "        var display = window.getComputedStyle(gd).display;\n",
       "        if (!display || display === 'none') {{\n",
       "            console.log([gd, 'removed!']);\n",
       "            Plotly.purge(gd);\n",
       "            observer.disconnect();\n",
       "        }}\n",
       "}});\n",
       "\n",
       "// Listen for the removal of the full notebook cells\n",
       "var notebookContainer = gd.closest('#notebook-container');\n",
       "if (notebookContainer) {{\n",
       "    x.observe(notebookContainer, {childList: true});\n",
       "}}\n",
       "\n",
       "// Listen for the clearing of the current output cell\n",
       "var outputEl = gd.closest('.output');\n",
       "if (outputEl) {{\n",
       "    x.observe(outputEl, {childList: true});\n",
       "}}\n",
       "\n",
       "                        })                };                });            </script>        </div>"
      ]
     },
     "metadata": {},
     "output_type": "display_data"
    }
   ],
   "source": [
    "# Visualise generalisation loss vs. testing loss for each model\n",
    "\n",
    "val_wbic_figs = {}\n",
    "for title in models.keys():\n",
    "    val_wbic_fig = make_subplots(specs=[[{\"secondary_y\" : True}]])\n",
    "    color_index = 0\n",
    "    for optim in optimizers:\n",
    "        color = color_cycle[color_index % len(color_cycle)]\n",
    "        color_index += 1\n",
    "        val_wbic_fig.add_trace(go.Scatter(\n",
    "            x=np.arange(1, hp[\"num_epochs\"]+1),\n",
    "            y=val_losses[title][optim][1:],\n",
    "            mode=\"lines\",\n",
    "            name=f\"{optim} Validation\",\n",
    "            line=dict(color=color, width=3),\n",
    "            marker=dict(size=8, symbol=\"x\")\n",
    "        ),secondary_y=False)\n",
    "        val_wbic_fig.add_trace(go.Scatter(\n",
    "            x=np.arange(1, hp[\"num_epochs\"]+1),\n",
    "            y=wbic_estimates[title][optim][1:],\n",
    "            mode=\"lines\",\n",
    "            name=f\"{optim} WBIC\",\n",
    "            line=dict(color=color, dash=\"dot\", width=4),\n",
    "            marker=dict(size=8, symbol=\"x\")\n",
    "        ),secondary_y=True)\n",
    "    val_wbic_fig.update_layout(\n",
    "        title=f\"{title} Validation Loss / WBIC\",\n",
    "        xaxis_title=\"Epoch\",\n",
    "        xaxis=dict(\n",
    "            tickmode='linear',\n",
    "            tick0=0,\n",
    "            dtick=5,\n",
    "        ),\n",
    "        yaxis_type=\"linear\",\n",
    "        yaxis=dict(\n",
    "            range=[0,None]\n",
    "        ),\n",
    "        width=600,\n",
    "        height=400,\n",
    "        legend=dict(\n",
    "            x=0,\n",
    "            y=1,\n",
    "            xanchor='left',\n",
    "            yanchor='bottom',\n",
    "            orientation='h',\n",
    "        ),\n",
    "    )\n",
    "    val_wbic_fig.update_yaxes(title=\"Validation Loss\", secondary_y=False)\n",
    "    val_wbic_fig.update_yaxes(title=\"WBIC\", \n",
    "                              secondary_y=True,\n",
    "                              showgrid=False,\n",
    "                              )\n",
    "    val_wbic_figs[title] = val_wbic_fig\n",
    "    val_wbic_fig.show()"
   ]
  },
  {
   "cell_type": "code",
   "execution_count": 69,
   "metadata": {},
   "outputs": [
    {
     "ename": "TypeError",
     "evalue": "loop of ufunc does not support argument 50 of type NoneType which has no callable conjugate method",
     "output_type": "error",
     "traceback": [
      "\u001b[0;31m---------------------------------------------------------------------------\u001b[0m",
      "\u001b[0;31mAttributeError\u001b[0m                            Traceback (most recent call last)",
      "\u001b[0;31mAttributeError\u001b[0m: 'NoneType' object has no attribute 'conjugate'",
      "\nThe above exception was the direct cause of the following exception:\n",
      "\u001b[0;31mTypeError\u001b[0m                                 Traceback (most recent call last)",
      "Cell \u001b[0;32mIn[69], line 18\u001b[0m\n\u001b[1;32m     11\u001b[0m     color_index \u001b[38;5;241m+\u001b[39m\u001b[38;5;241m=\u001b[39m \u001b[38;5;241m1\u001b[39m\n\u001b[1;32m     13\u001b[0m     \u001b[38;5;66;03m# corr=np.correlate(\u001b[39;00m\n\u001b[1;32m     14\u001b[0m     \u001b[38;5;66;03m#     val_losses[title][optim][1:], \u001b[39;00m\n\u001b[1;32m     15\u001b[0m     \u001b[38;5;66;03m#     wbic_estimates[title][optim][1:], \u001b[39;00m\n\u001b[1;32m     16\u001b[0m     \u001b[38;5;66;03m#     mode='full')\u001b[39;00m\n\u001b[0;32m---> 18\u001b[0m     corr\u001b[38;5;241m=\u001b[39m\u001b[43msignal\u001b[49m\u001b[38;5;241;43m.\u001b[39;49m\u001b[43mcorrelate\u001b[49m\u001b[43m(\u001b[49m\n\u001b[1;32m     19\u001b[0m \u001b[43m        \u001b[49m\u001b[43mval_losses\u001b[49m\u001b[43m[\u001b[49m\u001b[43mtitle\u001b[49m\u001b[43m]\u001b[49m\u001b[43m[\u001b[49m\u001b[43moptim\u001b[49m\u001b[43m]\u001b[49m\u001b[43m[\u001b[49m\u001b[38;5;241;43m1\u001b[39;49m\u001b[43m:\u001b[49m\u001b[43m]\u001b[49m\u001b[43m,\u001b[49m\u001b[43m \u001b[49m\n\u001b[1;32m     20\u001b[0m \u001b[43m        \u001b[49m\u001b[43mwbic_estimates\u001b[49m\u001b[43m[\u001b[49m\u001b[43mtitle\u001b[49m\u001b[43m]\u001b[49m\u001b[43m[\u001b[49m\u001b[43moptim\u001b[49m\u001b[43m]\u001b[49m\u001b[43m[\u001b[49m\u001b[38;5;241;43m1\u001b[39;49m\u001b[43m:\u001b[49m\u001b[43m]\u001b[49m\u001b[43m,\u001b[49m\u001b[43m \u001b[49m\u001b[43mmode\u001b[49m\u001b[38;5;241;43m=\u001b[39;49m\u001b[38;5;124;43m'\u001b[39;49m\u001b[38;5;124;43mfull\u001b[39;49m\u001b[38;5;124;43m'\u001b[39;49m\u001b[43m,\u001b[49m\u001b[43m \u001b[49m\u001b[43mmethod\u001b[49m\u001b[38;5;241;43m=\u001b[39;49m\u001b[38;5;124;43m'\u001b[39;49m\u001b[38;5;124;43mauto\u001b[39;49m\u001b[38;5;124;43m'\u001b[39;49m\u001b[43m)\u001b[49m\n\u001b[1;32m     22\u001b[0m     corr_fig\u001b[38;5;241m.\u001b[39madd_trace(go\u001b[38;5;241m.\u001b[39mScatter(\n\u001b[1;32m     23\u001b[0m         x\u001b[38;5;241m=\u001b[39mnp\u001b[38;5;241m.\u001b[39marange(\u001b[38;5;241m1\u001b[39m,hp[\u001b[38;5;124m'\u001b[39m\u001b[38;5;124mnum_epochs\u001b[39m\u001b[38;5;124m'\u001b[39m]\u001b[38;5;241m+\u001b[39m\u001b[38;5;241m1\u001b[39m),\n\u001b[1;32m     24\u001b[0m         y\u001b[38;5;241m=\u001b[39mcorr,\n\u001b[0;32m   (...)\u001b[0m\n\u001b[1;32m     28\u001b[0m         marker\u001b[38;5;241m=\u001b[39m\u001b[38;5;28mdict\u001b[39m(size\u001b[38;5;241m=\u001b[39m\u001b[38;5;241m8\u001b[39m, symbol\u001b[38;5;241m=\u001b[39m\u001b[38;5;124m\"\u001b[39m\u001b[38;5;124mx\u001b[39m\u001b[38;5;124m\"\u001b[39m)\n\u001b[1;32m     29\u001b[0m     ))\n\u001b[1;32m     31\u001b[0m corr_fig\u001b[38;5;241m.\u001b[39mupdate_layout(\n\u001b[1;32m     32\u001b[0m     title\u001b[38;5;241m=\u001b[39m\u001b[38;5;124mf\u001b[39m\u001b[38;5;124m\"\u001b[39m\u001b[38;5;132;01m{\u001b[39;00mtitle\u001b[38;5;132;01m}\u001b[39;00m\u001b[38;5;124m WBIC and Validation Loss Cross Correlation\u001b[39m\u001b[38;5;124m\"\u001b[39m,\n\u001b[1;32m     33\u001b[0m     xaxis_title\u001b[38;5;241m=\u001b[39m\u001b[38;5;124m\"\u001b[39m\u001b[38;5;124mEpoch\u001b[39m\u001b[38;5;124m\"\u001b[39m,\n\u001b[0;32m   (...)\u001b[0m\n\u001b[1;32m     48\u001b[0m     ),\n\u001b[1;32m     49\u001b[0m )\n",
      "File \u001b[0;32m~/ngd_with_slt/venv/lib/python3.10/site-packages/scipy/signal/_signaltools.py:241\u001b[0m, in \u001b[0;36mcorrelate\u001b[0;34m(in1, in2, mode, method)\u001b[0m\n\u001b[1;32m    239\u001b[0m \u001b[38;5;66;03m# this either calls fftconvolve or this function with method=='direct'\u001b[39;00m\n\u001b[1;32m    240\u001b[0m \u001b[38;5;28;01mif\u001b[39;00m method \u001b[38;5;129;01min\u001b[39;00m (\u001b[38;5;124m'\u001b[39m\u001b[38;5;124mfft\u001b[39m\u001b[38;5;124m'\u001b[39m, \u001b[38;5;124m'\u001b[39m\u001b[38;5;124mauto\u001b[39m\u001b[38;5;124m'\u001b[39m):\n\u001b[0;32m--> 241\u001b[0m     \u001b[38;5;28;01mreturn\u001b[39;00m convolve(in1, \u001b[43m_reverse_and_conj\u001b[49m\u001b[43m(\u001b[49m\u001b[43min2\u001b[49m\u001b[43m)\u001b[49m, mode, method)\n\u001b[1;32m    243\u001b[0m \u001b[38;5;28;01melif\u001b[39;00m method \u001b[38;5;241m==\u001b[39m \u001b[38;5;124m'\u001b[39m\u001b[38;5;124mdirect\u001b[39m\u001b[38;5;124m'\u001b[39m:\n\u001b[1;32m    244\u001b[0m     \u001b[38;5;66;03m# fastpath to faster numpy.correlate for 1d inputs when possible\u001b[39;00m\n\u001b[1;32m    245\u001b[0m     \u001b[38;5;28;01mif\u001b[39;00m _np_conv_ok(in1, in2, mode):\n",
      "File \u001b[0;32m~/ngd_with_slt/venv/lib/python3.10/site-packages/scipy/signal/_signaltools.py:1104\u001b[0m, in \u001b[0;36m_reverse_and_conj\u001b[0;34m(x)\u001b[0m\n\u001b[1;32m   1100\u001b[0m \u001b[38;5;250m\u001b[39m\u001b[38;5;124;03m\"\"\"\u001b[39;00m\n\u001b[1;32m   1101\u001b[0m \u001b[38;5;124;03mReverse array `x` in all dimensions and perform the complex conjugate\u001b[39;00m\n\u001b[1;32m   1102\u001b[0m \u001b[38;5;124;03m\"\"\"\u001b[39;00m\n\u001b[1;32m   1103\u001b[0m reverse \u001b[38;5;241m=\u001b[39m (\u001b[38;5;28mslice\u001b[39m(\u001b[38;5;28;01mNone\u001b[39;00m, \u001b[38;5;28;01mNone\u001b[39;00m, \u001b[38;5;241m-\u001b[39m\u001b[38;5;241m1\u001b[39m),) \u001b[38;5;241m*\u001b[39m x\u001b[38;5;241m.\u001b[39mndim\n\u001b[0;32m-> 1104\u001b[0m \u001b[38;5;28;01mreturn\u001b[39;00m \u001b[43mx\u001b[49m\u001b[43m[\u001b[49m\u001b[43mreverse\u001b[49m\u001b[43m]\u001b[49m\u001b[38;5;241;43m.\u001b[39;49m\u001b[43mconj\u001b[49m\u001b[43m(\u001b[49m\u001b[43m)\u001b[49m\n",
      "\u001b[0;31mTypeError\u001b[0m: loop of ufunc does not support argument 50 of type NoneType which has no callable conjugate method"
     ]
    }
   ],
   "source": [
    "#visualize cross correlation\n",
    "# Visualise generalisation loss vs. testing loss for each model\n",
    "from scipy import signal\n",
    "\n",
    "corr_figs = {}\n",
    "for title in models.keys():\n",
    "    corr_fig = make_subplots()\n",
    "    color_index = 0\n",
    "    for optim in optimizers:\n",
    "        color = color_cycle[color_index % len(color_cycle)]\n",
    "        color_index += 1\n",
    "\n",
    "        # corr=np.correlate(\n",
    "        #     val_losses[title][optim][1:], \n",
    "        #     wbic_estimates[title][optim][1:], \n",
    "        #     mode='full')\n",
    "\n",
    "        corr=signal.correlate(\n",
    "            val_losses[title][optim][1:], \n",
    "            wbic_estimates[title][optim][1:], mode='full', method='auto')\n",
    "\n",
    "        corr_fig.add_trace(go.Scatter(\n",
    "            x=np.arange(1,hp['num_epochs']+1),\n",
    "            y=corr,\n",
    "            mode=\"lines\",\n",
    "            name=f\"{optim} Correlation\",\n",
    "            line=dict(color=color, width=3),\n",
    "            marker=dict(size=8, symbol=\"x\")\n",
    "        ))\n",
    "\n",
    "    corr_fig.update_layout(\n",
    "        title=f\"{title} WBIC and Validation Loss Cross Correlation\",\n",
    "        xaxis_title=\"Epoch\",\n",
    "        xaxis=dict(\n",
    "            tickmode='linear',\n",
    "            tick0=0,\n",
    "            dtick=5,\n",
    "        ),\n",
    "        yaxis_type=\"linear\",\n",
    "        width=600,\n",
    "        height=400,\n",
    "        legend=dict(\n",
    "            x=0,\n",
    "            y=1,\n",
    "            xanchor='left',\n",
    "            yanchor='bottom',\n",
    "            orientation='h',\n",
    "        ),\n",
    "    )\n",
    "    corr_fig.update_yaxes(title=\"Cross-Correlation\")\n",
    "    corr_figs[title] = corr_fig\n",
    "    corr_fig.show()"
   ]
  },
  {
   "cell_type": "code",
   "execution_count": null,
   "metadata": {
    "execution": {
     "iopub.execute_input": "2024-04-04T14:34:40.964692Z",
     "iopub.status.busy": "2024-04-04T14:34:40.964692Z",
     "iopub.status.idle": "2024-04-04T14:34:40.993729Z",
     "shell.execute_reply": "2024-04-04T14:34:40.993729Z"
    }
   },
   "outputs": [
    {
     "data": {
      "application/vnd.plotly.v1+json": {
       "config": {
        "plotlyServerURL": "https://plot.ly"
       },
       "data": [
        {
         "line": {
          "color": "rgb(32, 102, 168)",
          "width": 3
         },
         "name": "ngd LLC",
         "type": "scatter",
         "xaxis": "x",
         "y": [
          0.0027766746934503317,
          0.01868530735373497,
          0.0832894891500473,
          0.11794822663068771,
          0.1921319216489792,
          0.2811298370361328,
          0.45281386375427246,
          0.5876986980438232,
          0.5905187129974365,
          0.6556397676467896,
          0.804398238658905,
          0.8549272418022156,
          1.0118552446365356,
          1.1599462032318115,
          1.2135703563690186,
          1.4193229675292969,
          1.6687910556793213,
          1.826799988746643,
          2.0001258850097656,
          2.307277202606201,
          2.472931385040283,
          2.871216297149658,
          2.9807214736938477,
          3.254411458969116,
          3.5283737182617188,
          3.7482411861419678,
          3.9787135124206543,
          4.2811279296875,
          4.373063087463379,
          4.551565647125244,
          4.7369890213012695,
          5.023981094360352,
          5.3094401359558105,
          5.725964069366455,
          5.961313247680664,
          6.135379791259766,
          6.206737995147705,
          6.346065521240234,
          6.428428649902344,
          6.537580966949463,
          6.8073530197143555,
          7.033531188964844,
          7.231952667236328,
          7.338945388793945,
          7.390705108642578,
          7.537441253662109,
          7.669376373291016,
          8.010412216186523,
          8.20624828338623,
          8.33355712890625,
          8.612398147583008,
          8.749963760375977,
          8.924123764038086,
          9.26862907409668,
          9.649557113647461,
          9.932394027709961,
          10.058860778808594,
          10.312620162963867,
          10.454626083374023,
          10.812162399291992,
          11.084609985351562,
          11.263704299926758,
          11.572800636291504,
          11.715435028076172,
          12.052606582641602,
          12.270936965942383,
          12.430718421936035,
          12.6051025390625,
          12.927045822143555,
          13.170992851257324,
          13.425069808959961,
          13.720388412475586,
          13.992987632751465,
          14.256190299987793,
          14.492700576782227,
          14.632316589355469,
          14.786907196044922,
          15.154748916625977,
          15.40465259552002,
          15.574188232421875,
          15.840103149414062,
          16.00655174255371,
          16.295581817626953,
          16.46741485595703,
          16.753671646118164,
          16.87203598022461,
          17.195545196533203,
          17.436307907104492,
          17.620447158813477,
          17.820541381835938,
          18.037090301513672,
          18.281448364257812,
          18.47773551940918,
          18.54904556274414,
          18.712860107421875,
          18.863115310668945,
          19.02997589111328,
          19.158809661865234,
          19.262279510498047,
          19.54226303100586,
          19.703155517578125,
          19.8021240234375,
          19.847248077392578,
          19.980632781982422,
          20.08420181274414,
          20.300945281982422,
          20.430782318115234,
          20.579116821289062,
          20.70160675048828,
          20.824127197265625,
          20.994827270507812,
          21.104110717773438,
          21.231651306152344,
          21.28782844543457,
          21.59084701538086,
          21.72624969482422,
          21.858993530273438,
          21.961576461791992,
          22.19123077392578,
          22.309646606445312,
          22.467548370361328,
          22.540782928466797,
          22.6588077545166,
          22.849205017089844,
          22.96628189086914,
          23.11395263671875,
          23.35903549194336,
          23.457509994506836,
          23.55870819091797,
          23.647321701049805,
          23.740447998046875,
          23.804590225219727,
          23.919822692871094,
          23.992755889892578,
          24.048866271972656,
          24.158620834350586,
          24.239013671875,
          24.34795379638672,
          24.48553466796875,
          24.653358459472656,
          24.789072036743164,
          24.938796997070312,
          25.08916473388672,
          25.197036743164062,
          25.255403518676758,
          25.34857749938965,
          25.380386352539062,
          25.466508865356445,
          25.570615768432617,
          25.695131301879883,
          25.802635192871094,
          25.9648380279541,
          26.069799423217773,
          26.194637298583984,
          26.380077362060547,
          26.431312561035156,
          26.571521759033203,
          26.64295768737793,
          26.803518295288086,
          26.872316360473633,
          27.072593688964844,
          27.230384826660156,
          27.367918014526367,
          27.54535675048828,
          27.650665283203125,
          27.755334854125977,
          27.868404388427734,
          27.963001251220703,
          28.05547332763672,
          28.20807456970215,
          28.343612670898438,
          28.383228302001953,
          28.493534088134766,
          28.60793685913086,
          28.71124839782715,
          28.82737922668457,
          28.954967498779297,
          29.095211029052734,
          29.242961883544922,
          29.333274841308594,
          29.425262451171875,
          29.520889282226562,
          29.665660858154297,
          29.772253036499023,
          29.87600326538086,
          30.02444076538086,
          30.159814834594727,
          30.304279327392578,
          30.37485122680664,
          30.455562591552734,
          30.57094955444336,
          30.688541412353516,
          30.741233825683594,
          30.856464385986328,
          30.93539047241211,
          31.023483276367188,
          31.071147918701172,
          31.158218383789062,
          31.29230499267578,
          31.409847259521484,
          31.527141571044922,
          31.667007446289062,
          31.864967346191406,
          31.980300903320312,
          32.081764221191406,
          32.19759750366211,
          32.30475997924805,
          32.431114196777344,
          32.544979095458984,
          32.60155487060547,
          32.659767150878906,
          32.75061798095703,
          32.862205505371094,
          32.973018646240234,
          33.047691345214844,
          33.14722442626953,
          33.23556900024414,
          33.31941223144531,
          33.46582794189453,
          33.54072570800781,
          33.647796630859375,
          33.70391845703125,
          33.836883544921875,
          33.90184020996094,
          33.97673034667969,
          34.025020599365234,
          34.07332992553711,
          34.20146942138672,
          34.243568420410156,
          34.30412673950195,
          34.406951904296875,
          34.492698669433594,
          34.559600830078125,
          34.61737823486328,
          34.661865234375,
          34.71230697631836,
          34.75091552734375,
          34.81053924560547,
          34.87034606933594,
          34.937400817871094,
          35.004180908203125,
          35.09223937988281,
          35.13525390625,
          35.22108840942383,
          35.3316650390625,
          35.38608169555664,
          35.40693664550781,
          35.46375274658203,
          35.50067138671875,
          35.54540252685547,
          35.562522888183594,
          35.58384704589844,
          35.654991149902344,
          35.684425354003906,
          35.73639678955078,
          35.791236877441406,
          35.827239990234375,
          35.85478210449219,
          35.887168884277344,
          35.928871154785156,
          35.991188049316406,
          36.0515022277832,
          36.114707946777344,
          36.133758544921875,
          36.20478057861328,
          36.296295166015625,
          36.32632827758789,
          36.365943908691406,
          36.42918395996094,
          36.46291732788086,
          36.52349090576172,
          36.653350830078125,
          36.691856384277344,
          36.756126403808594,
          36.79153823852539,
          36.910400390625,
          37.033660888671875,
          37.06378173828125,
          37.130401611328125,
          37.211673736572266,
          37.258426666259766,
          37.31745910644531,
          37.38304138183594,
          37.390892028808594,
          37.41791915893555,
          37.42669677734375,
          37.443115234375,
          37.4719352722168,
          37.527984619140625,
          37.515586853027344,
          37.54289245605469,
          37.56027603149414,
          37.59791564941406,
          37.67555618286133,
          37.71596145629883,
          37.7728385925293,
          37.80535888671875,
          37.839019775390625,
          37.877777099609375,
          37.952064514160156,
          37.975341796875,
          38.018226623535156,
          38.03002166748047,
          38.02741241455078,
          38.05833053588867,
          38.08473587036133,
          38.13177490234375,
          38.18985366821289,
          38.25414276123047,
          38.29786682128906,
          38.38313674926758,
          38.408447265625,
          38.46668243408203,
          38.46690368652344,
          38.471134185791016,
          38.54103469848633,
          38.60729217529297,
          38.631500244140625,
          38.649662017822266,
          38.653770446777344,
          38.712303161621094,
          38.76435089111328,
          38.76165008544922,
          38.77973175048828,
          38.84917068481445,
          38.871253967285156,
          38.883628845214844,
          38.93016052246094,
          38.988616943359375,
          39.04594421386719,
          39.05321502685547,
          39.06282043457031,
          39.06011962890625,
          39.10057830810547,
          39.137367248535156,
          39.16086959838867,
          39.187774658203125,
          39.2005500793457,
          39.264739990234375,
          39.31221389770508,
          39.370235443115234,
          39.410003662109375,
          39.46923065185547,
          39.494964599609375,
          39.52050018310547,
          39.55916213989258,
          39.57880783081055,
          39.66435241699219,
          39.674224853515625,
          39.705345153808594,
          39.72889709472656,
          39.796043395996094,
          39.851707458496094,
          39.906917572021484,
          39.962318420410156,
          40.01459503173828,
          40.02333068847656,
          40.07408905029297,
          40.088253021240234,
          40.13492202758789,
          40.181976318359375,
          40.20635986328125,
          40.24345016479492,
          40.311058044433594,
          40.32176208496094,
          40.382850646972656,
          40.436561584472656,
          40.471336364746094,
          40.51390838623047,
          40.51805114746094,
          40.56013107299805,
          40.57300567626953,
          40.641029357910156,
          40.676177978515625,
          40.75364685058594,
          40.78020477294922,
          40.776798248291016,
          40.82130432128906,
          40.864402770996094,
          40.89978790283203,
          40.94644546508789,
          41.002769470214844,
          41.05363845825195,
          41.11216354370117,
          41.159881591796875,
          41.173377990722656,
          41.19488525390625,
          41.214637756347656,
          41.25550842285156,
          41.292152404785156,
          41.31439208984375,
          41.34254837036133,
          41.39411163330078,
          41.42513656616211,
          41.438453674316406,
          41.457557678222656,
          41.517112731933594,
          41.52539825439453,
          41.550331115722656,
          41.54890441894531,
          41.557273864746094,
          41.566070556640625,
          41.617164611816406,
          41.65764617919922,
          41.69850540161133,
          41.72681427001953,
          41.806556701660156,
          41.82305908203125,
          41.84105682373047,
          41.90489196777344,
          41.88803482055664,
          41.90910339355469,
          41.92241668701172,
          41.948848724365234,
          41.987762451171875,
          42.032100677490234,
          42.066837310791016,
          42.09901428222656,
          42.1005859375,
          42.12559509277344,
          42.12528991699219,
          42.14940643310547,
          42.183753967285156,
          42.201534271240234,
          42.18632888793945,
          42.210426330566406,
          42.221282958984375,
          42.22196960449219,
          42.23289489746094,
          42.246482849121094,
          42.276954650878906,
          42.31352996826172,
          42.31357955932617,
          42.34507369995117,
          42.38371658325195,
          42.394752502441406,
          42.437828063964844,
          42.48204040527344,
          42.548004150390625,
          42.589393615722656,
          42.63609313964844,
          42.652061462402344,
          42.674076080322266,
          42.670166015625,
          42.64999771118164,
          42.67316436767578,
          42.70185852050781,
          42.746009826660156,
          42.75056457519531,
          42.77021789550781,
          42.74785614013672,
          42.77531433105469,
          42.79911804199219,
          42.81012725830078,
          42.84388732910156,
          42.859127044677734,
          42.87647247314453,
          42.890296936035156,
          42.90088653564453,
          42.91747283935547,
          42.93214416503906,
          42.94319152832031,
          42.94966125488281,
          42.96665954589844,
          42.97215270996094,
          42.98329162597656,
          42.99610137939453,
          43.021240234375,
          43.055973052978516,
          43.07279586791992,
          43.09796905517578,
          43.129005432128906,
          43.136024475097656,
          43.14061737060547,
          43.18311309814453,
          43.22690200805664,
          43.23639678955078,
          43.256858825683594,
          43.27537536621094,
          43.271305084228516,
          43.280670166015625,
          43.30546569824219,
          43.29935073852539,
          43.30113220214844,
          43.31687545776367,
          43.347232818603516,
          43.35789489746094,
          43.377960205078125,
          43.41593933105469,
          43.42523193359375,
          43.452178955078125,
          43.475242614746094,
          43.47693634033203,
          43.49920654296875,
          43.5059814453125,
          43.52532958984375,
          43.532745361328125,
          43.529754638671875,
          43.52676773071289,
          43.558502197265625,
          43.55690002441406,
          43.574012756347656,
          43.571353912353516,
          43.587703704833984,
          43.57191467285156,
          43.5673828125,
          43.55492401123047,
          43.55946350097656,
          43.600128173828125,
          43.615623474121094,
          43.644500732421875,
          43.647422790527344,
          43.65882873535156,
          43.6546630859375,
          43.66570281982422,
          43.68705749511719,
          43.71112060546875,
          43.72584533691406,
          43.73508834838867,
          43.71539306640625,
          43.727386474609375,
          43.732460021972656,
          43.74899673461914,
          43.75922775268555,
          43.758514404296875,
          43.781776428222656,
          43.806800842285156,
          43.80103302001953,
          43.842193603515625,
          43.85942077636719,
          43.86775588989258,
          43.91214370727539,
          43.90686798095703,
          43.900169372558594,
          43.887062072753906,
          43.90874481201172,
          43.92681121826172,
          43.94775390625,
          43.93390655517578,
          43.9468994140625,
          43.93073654174805,
          43.94181823730469,
          43.946998596191406,
          43.97783279418945,
          43.96891784667969,
          43.9714469909668,
          43.998268127441406,
          44.015052795410156,
          44.01826477050781,
          44.023681640625,
          44.015377044677734,
          44.018733978271484,
          44.02679443359375,
          44.03925323486328,
          44.04798889160156,
          44.0829963684082,
          44.09971618652344,
          44.104820251464844,
          44.14870834350586,
          44.17157745361328,
          44.16980743408203,
          44.171836853027344,
          44.166561126708984,
          44.1812744140625,
          44.20240020751953,
          44.2181510925293,
          44.25232696533203,
          44.291748046875,
          44.308326721191406,
          44.323455810546875,
          44.35404968261719,
          44.37174987792969,
          44.36400604248047,
          44.35150146484375,
          44.360355377197266,
          44.35858154296875,
          44.37493133544922,
          44.365718841552734,
          44.423988342285156,
          44.45451736450195,
          44.49283218383789,
          44.49648666381836,
          44.49653625488281,
          44.51171112060547,
          44.526031494140625,
          44.54160690307617,
          44.56098937988281,
          44.57086181640625,
          44.57353973388672,
          44.58794021606445,
          44.60676956176758,
          44.61359405517578,
          44.6240119934082,
          44.656097412109375,
          44.65998077392578,
          44.686946868896484,
          44.682395935058594,
          44.67219543457031,
          44.69615936279297,
          44.724578857421875,
          44.745826721191406,
          44.741554260253906,
          44.757850646972656,
          44.75055694580078,
          44.76807403564453,
          44.766204833984375,
          44.78937530517578,
          44.79136657714844,
          44.80764389038086,
          44.81319808959961,
          44.81352996826172,
          44.83234405517578,
          44.859596252441406,
          44.85082244873047,
          44.86212921142578,
          44.85932159423828,
          44.86054229736328,
          44.86415100097656,
          44.87099075317383,
          44.87379455566406,
          44.886573791503906,
          44.9000358581543,
          44.89746856689453,
          44.929039001464844,
          44.94647979736328,
          44.967594146728516,
          44.973121643066406,
          44.98444366455078,
          44.989471435546875,
          45.00853729248047,
          45.0135498046875,
          45.041709899902344,
          45.049110412597656,
          45.05005645751953,
          45.07947540283203,
          45.08671188354492,
          45.087493896484375,
          45.10014343261719,
          45.09931945800781,
          45.12590026855469,
          45.14037322998047,
          45.15974807739258,
          45.16211700439453,
          45.19567108154297,
          45.21693420410156,
          45.22929382324219,
          45.238224029541016,
          45.286231994628906,
          45.300010681152344,
          45.3150520324707,
          45.33076477050781,
          45.353755950927734,
          45.383209228515625,
          45.42127227783203,
          45.43528747558594,
          45.43973159790039,
          45.453887939453125,
          45.46033477783203,
          45.47456359863281,
          45.47529602050781,
          45.48711395263672,
          45.48600387573242,
          45.5042724609375,
          45.52191925048828,
          45.52984619140625,
          45.541038513183594,
          45.56447982788086,
          45.58519744873047,
          45.58477020263672,
          45.59477996826172,
          45.60527801513672,
          45.61992645263672,
          45.62568664550781,
          45.61298370361328,
          45.6156005859375,
          45.627532958984375,
          45.640140533447266,
          45.64259338378906,
          45.672122955322266,
          45.66224670410156,
          45.65936279296875,
          45.674476623535156,
          45.68778991699219,
          45.68520736694336,
          45.693077087402344,
          45.68743133544922,
          45.68383026123047,
          45.68705368041992,
          45.680450439453125,
          45.67504119873047,
          45.66917419433594,
          45.68780517578125,
          45.67496109008789,
          45.66405487060547,
          45.65713882446289,
          45.65972137451172,
          45.660423278808594,
          45.6606559753418,
          45.65989303588867,
          45.66484832763672,
          45.6717643737793,
          45.68437957763672,
          45.684261322021484,
          45.686363220214844,
          45.68195343017578,
          45.69725799560547,
          45.6978874206543,
          45.70283508300781,
          45.70954895019531,
          45.71571350097656,
          45.709320068359375,
          45.71974182128906,
          45.724517822265625,
          45.739524841308594,
          45.74306869506836,
          45.7447624206543,
          45.73711395263672,
          45.73097229003906,
          45.72697448730469,
          45.7222900390625,
          45.73125457763672,
          45.73981475830078,
          45.7418212890625,
          45.74174499511719,
          45.74205780029297,
          45.736114501953125,
          45.72840118408203,
          45.72669219970703,
          45.722679138183594,
          45.73210144042969,
          45.74696350097656,
          45.740234375,
          45.75543212890625,
          45.74584197998047,
          45.74708557128906,
          45.757728576660156,
          45.7559814453125,
          45.74901580810547,
          45.759788513183594,
          45.77216339111328,
          45.780941009521484,
          45.773414611816406,
          45.779136657714844,
          45.78541564941406,
          45.794029235839844,
          45.79346466064453,
          45.802162170410156,
          45.81597137451172,
          45.824134826660156,
          45.8233757019043,
          45.82330322265625,
          45.828651428222656,
          45.841217041015625,
          45.841217041015625,
          45.846954345703125,
          45.85075378417969,
          45.848419189453125,
          45.85333251953125,
          45.84666442871094,
          45.83103561401367,
          45.83226013183594,
          45.831214904785156,
          45.84162139892578,
          45.85289764404297,
          45.862632751464844,
          45.881656646728516,
          45.891258239746094,
          45.890342712402344,
          45.885032653808594,
          45.89812469482422,
          45.93389892578125,
          45.92864990234375,
          45.951560974121094,
          45.97066879272461,
          45.98511505126953,
          46.01653289794922,
          46.035858154296875,
          46.04742431640625,
          46.053733825683594,
          46.0799560546875,
          46.10340881347656,
          46.12336730957031,
          46.13821792602539,
          46.15497970581055,
          46.17113494873047,
          46.18231964111328,
          46.200401306152344,
          46.20363998413086,
          46.2133903503418,
          46.22686004638672,
          46.236854553222656,
          46.251434326171875,
          46.243621826171875,
          46.262237548828125,
          46.24869155883789,
          46.23991012573242,
          46.24872970581055,
          46.25235366821289,
          46.25537872314453,
          46.262481689453125,
          46.26884078979492,
          46.282039642333984,
          46.27268981933594,
          46.286842346191406,
          46.30314636230469,
          46.313751220703125,
          46.302268981933594,
          46.2994384765625,
          46.29991912841797,
          46.29729461669922,
          46.29523468017578,
          46.303218841552734,
          46.31928253173828,
          46.327293395996094,
          46.33349609375,
          46.34777069091797,
          46.345252990722656,
          46.34086990356445,
          46.34071350097656,
          46.33587646484375,
          46.33736801147461,
          46.33116912841797,
          46.34004211425781,
          46.339969635009766,
          46.350563049316406,
          46.34551239013672,
          46.35202407836914,
          46.365234375,
          46.365318298339844,
          46.368507385253906,
          46.388771057128906,
          46.37401580810547,
          46.389801025390625,
          46.38868713378906,
          46.39386749267578,
          46.4129638671875,
          46.41770553588867,
          46.4060173034668,
          46.40447235107422,
          46.4148063659668,
          46.419044494628906,
          46.42044448852539,
          46.43531799316406,
          46.433921813964844,
          46.43096160888672,
          46.42462921142578,
          46.418277740478516,
          46.416019439697266,
          46.408775329589844,
          46.42508316040039,
          46.44718933105469,
          46.44964599609375,
          46.452415466308594,
          46.44255065917969,
          46.44936752319336,
          46.437644958496094,
          46.432830810546875,
          46.442481994628906,
          46.44142150878906,
          46.44072723388672,
          46.43653869628906,
          46.438812255859375,
          46.445274353027344,
          46.440948486328125,
          46.453330993652344,
          46.46907424926758,
          46.4744758605957,
          46.46852493286133,
          46.47010040283203,
          46.46031951904297,
          46.460716247558594,
          46.455177307128906,
          46.47299575805664,
          46.46533966064453,
          46.46578598022461,
          46.47772979736328,
          46.461334228515625,
          46.45518493652344,
          46.45803451538086,
          46.46003723144531,
          46.457557678222656,
          46.45952606201172,
          46.456390380859375,
          46.45964813232422,
          46.457679748535156,
          46.446372985839844,
          46.454490661621094,
          46.45869827270508,
          46.45849609375,
          46.45466613769531,
          46.45634841918945,
          46.46137237548828,
          46.47023010253906,
          46.4639778137207,
          46.46355438232422,
          46.4581298828125,
          46.453407287597656,
          46.45750427246094,
          46.459373474121094,
          46.46245574951172,
          46.45948791503906,
          46.451866149902344,
          46.450286865234375,
          46.453853607177734,
          46.463191986083984,
          46.4533576965332,
          46.44200897216797,
          46.44208908081055,
          46.45301818847656,
          46.464080810546875,
          46.468997955322266,
          46.47039794921875,
          46.46611785888672,
          46.464881896972656,
          46.45939636230469,
          46.463714599609375,
          46.46092224121094,
          46.46324157714844,
          46.47186279296875,
          46.46741485595703,
          46.470191955566406,
          46.482643127441406,
          46.48352813720703,
          46.478981018066406,
          46.4879150390625,
          46.494285583496094,
          46.507118225097656,
          46.50205993652344,
          46.49829864501953,
          46.48794937133789,
          46.482547760009766,
          46.47563934326172,
          46.485511779785156,
          46.49309158325195,
          46.49981689453125,
          46.495121002197266,
          46.49992370605469,
          46.50562286376953,
          46.507965087890625,
          46.50293731689453,
          46.504825592041016,
          46.497718811035156,
          46.49044418334961,
          46.4879150390625,
          46.49745178222656,
          46.496498107910156,
          46.497230529785156,
          46.48992156982422,
          46.488128662109375,
          46.4981689453125,
          46.51079559326172,
          46.50463104248047,
          46.500160217285156,
          46.49250411987305,
          46.50312042236328,
          46.50440216064453,
          46.501285552978516,
          46.52229690551758,
          46.52067565917969,
          46.533668518066406,
          46.54803466796875,
          46.56300354003906,
          46.57192611694336,
          46.586795806884766,
          46.5821533203125,
          46.582427978515625,
          46.570213317871094,
          46.561641693115234,
          46.575016021728516,
          46.568359375,
          46.56752014160156,
          46.57073974609375,
          46.569793701171875,
          46.5689582824707,
          46.566184997558594,
          46.560630798339844,
          46.558807373046875,
          46.559478759765625,
          46.55974578857422,
          46.57292175292969,
          46.58519744873047,
          46.589439392089844,
          46.58221435546875,
          46.584434509277344,
          46.589805603027344,
          46.58372116088867,
          46.59428787231445,
          46.59971618652344,
          46.60517883300781,
          46.617034912109375,
          46.609397888183594,
          46.617164611816406,
          46.62864685058594,
          46.62067413330078,
          46.63946533203125,
          46.653953552246094,
          46.64760208129883,
          46.651161193847656,
          46.66388702392578,
          46.6622200012207
         ],
         "yaxis": "y"
        },
        {
         "line": {
          "color": "rgb(32, 102, 168)",
          "dash": "dash",
          "width": 6
         },
         "name": "ngd WBIC",
         "type": "scatter",
         "xaxis": "x",
         "y": [
          20.828813552856445,
          57.01123809814453,
          203.94627380371094,
          282.77374267578125,
          451.496337890625,
          653.9122314453125,
          1044.388427734375,
          1351.1689453125,
          1357.582763671875,
          1505.693603515625,
          1844.0281982421875,
          1958.95068359375,
          2315.8662109375,
          2652.6826171875,
          2774.64453125,
          3242.60595703125,
          3809.993408203125,
          4169.3671875,
          4563.578125,
          5262.16015625,
          5638.921875,
          6544.7763671875,
          6793.833984375,
          7416.3115234375,
          8039.40869140625,
          8539.47265625,
          9063.65625,
          9751.46484375,
          9960.560546875,
          10366.544921875,
          10788.2685546875,
          11441,
          12090.244140625,
          13037.58203125,
          13572.8583984375,
          13968.7529296875,
          14131.048828125,
          14447.93359375,
          14635.259765625,
          14883.513671875,
          15497.08203125,
          16011.498046875,
          16462.78515625,
          16706.12890625,
          16823.849609375,
          17157.5859375,
          17457.65625,
          18233.3046875,
          18678.71484375,
          18968.263671875,
          19602.453125,
          19915.333984375,
          20311.439453125,
          21094.978515625,
          21961.357421875,
          22604.638671875,
          22892.2734375,
          23469.419921875,
          23792.396484375,
          24605.5703125,
          25225.224609375,
          25632.556640625,
          26335.5625,
          26659.966796875,
          27426.82421875,
          27923.39453125,
          28286.798828125,
          28683.41796875,
          29415.640625,
          29970.470703125,
          30548.33984375,
          31220.01171875,
          31840.0078125,
          32438.6328125,
          32976.546875,
          33294.08984375,
          33645.6875,
          34482.3046875,
          35050.68359375,
          35436.2734375,
          36041.06640625,
          36419.640625,
          37077,
          37467.8203125,
          38118.875,
          38388.0859375,
          39123.875,
          39671.4609375,
          40090.2578125,
          40545.3515625,
          41037.8671875,
          41593.6328125,
          42040.0625,
          42202.25,
          42574.8203125,
          42916.5625,
          43296.0703125,
          43589.0859375,
          43824.4140625,
          44461.203125,
          44827.140625,
          45052.23046875,
          45154.8671875,
          45458.234375,
          45693.7890625,
          46186.75,
          46482.046875,
          46819.421875,
          47098.015625,
          47376.6796875,
          47764.921875,
          48013.4609375,
          48303.546875,
          48431.3125,
          49120.4921875,
          49428.45703125,
          49730.36328125,
          49963.6796875,
          50486,
          50755.3125,
          51114.453125,
          51281.0234375,
          51549.4609375,
          51982.5,
          52248.77734375,
          52584.62890625,
          53142.04296875,
          53366.015625,
          53596.1796875,
          53797.71875,
          54009.5234375,
          54155.40625,
          54417.48828125,
          54583.37109375,
          54710.984375,
          54960.609375,
          55143.46484375,
          55391.23046875,
          55704.1484375,
          56085.8359375,
          56394.5078125,
          56735.046875,
          57077.03515625,
          57322.3828125,
          57455.1328125,
          57667.046875,
          57739.3984375,
          57935.2734375,
          58172.046875,
          58455.24609375,
          58699.75390625,
          59068.6640625,
          59307.3828125,
          59591.3125,
          60013.07421875,
          60129.6015625,
          60448.4921875,
          60610.96484375,
          60976.140625,
          61132.6171875,
          61588.1328125,
          61947,
          62259.8125,
          62663.3828125,
          62902.90234375,
          63140.953125,
          63398.1171875,
          63613.265625,
          63823.5859375,
          64170.66796875,
          64478.9296875,
          64569.03125,
          64819.9140625,
          65080.10546875,
          65315.07421875,
          65579.1953125,
          65869.3828125,
          66188.3515625,
          66524.3984375,
          66729.8046875,
          66939.015625,
          67156.515625,
          67485.78125,
          67728.21875,
          67964.1875,
          68301.78125,
          68609.6796875,
          68938.25,
          69098.765625,
          69282.328125,
          69544.765625,
          69812.21875,
          69932.046875,
          70194.125,
          70373.640625,
          70574,
          70682.40625,
          70880.4375,
          71185.3984375,
          71452.7421875,
          71719.515625,
          72037.6328125,
          72487.8671875,
          72750.171875,
          72980.953125,
          73244.3984375,
          73488.125,
          73775.5,
          74034.4921875,
          74163.15625,
          74295.5546875,
          74502.1875,
          74755.984375,
          75008.015625,
          75177.8359375,
          75404.21875,
          75605.140625,
          75795.8515625,
          76128.84375,
          76299.203125,
          76542.7109375,
          76670.3671875,
          76972.78125,
          77120.5,
          77290.828125,
          77400.65625,
          77510.53125,
          77801.984375,
          77897.734375,
          78035.4609375,
          78269.3203125,
          78464.3515625,
          78616.515625,
          78747.90625,
          78849.09375,
          78963.8125,
          79051.625,
          79187.2265625,
          79323.2578125,
          79475.765625,
          79627.640625,
          79827.9140625,
          79925.7421875,
          80120.9765625,
          80372.484375,
          80496.2421875,
          80543.671875,
          80672.90625,
          80756.859375,
          80858.59375,
          80897.53125,
          80946.03125,
          81107.828125,
          81174.78125,
          81292.9765625,
          81417.703125,
          81499.59375,
          81562.2265625,
          81635.890625,
          81730.7421875,
          81872.4765625,
          82009.65625,
          82153.40625,
          82196.75,
          82358.265625,
          82566.40625,
          82634.7109375,
          82724.8125,
          82868.65625,
          82945.375,
          83083.15625,
          83378.484375,
          83466.0703125,
          83612.25,
          83692.78125,
          83963.125,
          84243.46875,
          84311.96875,
          84463.484375,
          84648.3359375,
          84754.671875,
          84888.9375,
          85038.09375,
          85055.953125,
          85117.4140625,
          85137.3828125,
          85174.71875,
          85240.28125,
          85367.75,
          85339.5390625,
          85401.6484375,
          85441.1796875,
          85526.796875,
          85703.390625,
          85795.296875,
          85924.6484375,
          85998.6171875,
          86075.171875,
          86163.3125,
          86332.2734375,
          86385.21875,
          86482.75,
          86509.5703125,
          86503.640625,
          86573.953125,
          86634,
          86741,
          86873.09375,
          87019.3125,
          87118.765625,
          87312.703125,
          87370.265625,
          87502.71875,
          87503.21875,
          87512.8359375,
          87671.8125,
          87822.5078125,
          87877.5625,
          87918.875,
          87928.2109375,
          88061.34375,
          88179.7265625,
          88173.59375,
          88214.703125,
          88372.640625,
          88422.8671875,
          88451.0078125,
          88556.84375,
          88689.8046875,
          88820.1875,
          88836.734375,
          88858.5859375,
          88852.453125,
          88944.453125,
          89028.125,
          89081.5625,
          89142.7578125,
          89171.8125,
          89317.8125,
          89425.78125,
          89557.734375,
          89648.1875,
          89782.890625,
          89841.421875,
          89899.4921875,
          89987.4296875,
          90032.109375,
          90226.6875,
          90249.1328125,
          90319.90625,
          90373.484375,
          90526.203125,
          90652.796875,
          90778.359375,
          90904.390625,
          91023.265625,
          91043.15625,
          91158.578125,
          91190.78125,
          91296.9375,
          91403.9609375,
          91459.40625,
          91543.765625,
          91697.5390625,
          91721.875,
          91860.8125,
          91982.984375,
          92062.0625,
          92158.8828125,
          92168.296875,
          92264.015625,
          92293.3046875,
          92448.0078125,
          92527.953125,
          92704.140625,
          92764.546875,
          92756.8125,
          92858.0390625,
          92956.0625,
          93036.53125,
          93142.65625,
          93270.765625,
          93386.4609375,
          93519.5625,
          93628.09375,
          93658.796875,
          93707.703125,
          93752.6328125,
          93845.59375,
          93928.9296875,
          93979.5,
          94043.546875,
          94160.8203125,
          94231.390625,
          94261.6796875,
          94305.125,
          94440.59375,
          94459.421875,
          94516.1328125,
          94512.890625,
          94531.9296875,
          94551.9296875,
          94668.1328125,
          94760.203125,
          94853.140625,
          94917.515625,
          95098.890625,
          95136.4140625,
          95177.34375,
          95322.53125,
          95284.203125,
          95332.1171875,
          95362.390625,
          95422.515625,
          95511.015625,
          95611.828125,
          95690.84375,
          95764.03125,
          95767.59375,
          95824.484375,
          95823.765625,
          95878.609375,
          95956.734375,
          95997.15625,
          95962.59375,
          96017.3984375,
          96042.109375,
          96043.65625,
          96068.515625,
          96099.40625,
          96168.734375,
          96251.90625,
          96252.015625,
          96323.640625,
          96411.53125,
          96436.6328125,
          96534.6015625,
          96635.171875,
          96785.203125,
          96879.34375,
          96985.5625,
          97021.8671875,
          97071.9375,
          97063.046875,
          97017.1640625,
          97069.859375,
          97135.1171875,
          97235.53125,
          97245.8828125,
          97290.5859375,
          97239.734375,
          97302.1875,
          97356.3203125,
          97381.359375,
          97458.140625,
          97492.8046875,
          97532.25,
          97563.6796875,
          97587.78125,
          97625.5,
          97658.859375,
          97684.0078125,
          97698.71875,
          97737.375,
          97749.859375,
          97775.1875,
          97804.328125,
          97861.5,
          97940.4921875,
          97978.765625,
          98036.0234375,
          98106.609375,
          98122.5703125,
          98133.0234375,
          98229.6796875,
          98329.2734375,
          98350.8671875,
          98397.40625,
          98439.5,
          98430.25,
          98451.5390625,
          98507.9296875,
          98494.03125,
          98498.0859375,
          98533.890625,
          98602.9375,
          98627.1796875,
          98672.8125,
          98759.1875,
          98780.34375,
          98841.625,
          98894.078125,
          98897.9375,
          98948.5859375,
          98963.984375,
          99008,
          99024.8671875,
          99018.0625,
          99011.265625,
          99083.4375,
          99079.796875,
          99118.7109375,
          99112.671875,
          99149.859375,
          99113.9375,
          99103.6328125,
          99075.296875,
          99085.609375,
          99178.09375,
          99213.3359375,
          99279.015625,
          99285.65625,
          99311.59375,
          99302.109375,
          99327.21875,
          99375.796875,
          99430.515625,
          99464.015625,
          99485.03125,
          99440.234375,
          99467.53125,
          99479.0625,
          99516.671875,
          99539.9375,
          99538.3125,
          99591.21875,
          99648.1484375,
          99635.015625,
          99728.625,
          99767.796875,
          99786.765625,
          99887.71875,
          99875.7265625,
          99860.484375,
          99830.6640625,
          99879.984375,
          99921.078125,
          99968.7109375,
          99937.21875,
          99966.765625,
          99930,
          99955.203125,
          99966.984375,
          100037.109375,
          100016.828125,
          100022.578125,
          100083.578125,
          100121.75,
          100129.0625,
          100141.3828125,
          100122.5,
          100130.125,
          100148.46875,
          100176.7890625,
          100196.6640625,
          100276.2734375,
          100314.296875,
          100325.9140625,
          100425.7265625,
          100477.7421875,
          100473.703125,
          100478.34375,
          100466.34375,
          100499.8125,
          100547.8515625,
          100583.6796875,
          100661.40625,
          100751.0625,
          100788.765625,
          100823.1875,
          100892.765625,
          100933.0234375,
          100915.4140625,
          100886.9921875,
          100907.1171875,
          100903.0625,
          100940.265625,
          100919.3125,
          101051.828125,
          101121.265625,
          101208.4140625,
          101216.71875,
          101216.8359375,
          101251.3515625,
          101283.90625,
          101319.3359375,
          101363.421875,
          101385.875,
          101391.953125,
          101424.703125,
          101467.53125,
          101483.0625,
          101506.75,
          101579.734375,
          101588.5625,
          101649.890625,
          101639.5390625,
          101616.34375,
          101670.84375,
          101735.484375,
          101783.8125,
          101774.109375,
          101811.171875,
          101794.5859375,
          101834.421875,
          101830.171875,
          101882.875,
          101887.40625,
          101924.421875,
          101937.0625,
          101937.8046875,
          101980.59375,
          102042.578125,
          102022.6328125,
          102048.34375,
          102041.953125,
          102044.734375,
          102052.9296875,
          102068.4921875,
          102074.875,
          102103.9375,
          102134.5546875,
          102128.71875,
          102200.515625,
          102240.1875,
          102288.21875,
          102300.78125,
          102326.53125,
          102337.9609375,
          102381.328125,
          102392.71875,
          102456.7578125,
          102473.59375,
          102475.7421875,
          102542.6484375,
          102559.125,
          102560.890625,
          102589.671875,
          102587.796875,
          102648.25,
          102681.15625,
          102725.2265625,
          102730.625,
          102806.9375,
          102855.2890625,
          102883.40625,
          102903.734375,
          103012.9375,
          103044.25,
          103078.4765625,
          103114.203125,
          103166.5,
          103233.5,
          103320.0625,
          103351.9453125,
          103362.0625,
          103394.25,
          103408.90625,
          103441.265625,
          103442.9375,
          103469.828125,
          103467.296875,
          103508.84375,
          103548.9921875,
          103567.0234375,
          103592.4765625,
          103645.78125,
          103692.9140625,
          103691.9375,
          103714.7109375,
          103738.59375,
          103771.90625,
          103785,
          103756.1171875,
          103762.0625,
          103789.1953125,
          103817.875,
          103823.453125,
          103890.609375,
          103868.1484375,
          103861.59375,
          103895.9609375,
          103926.25,
          103920.3671875,
          103938.265625,
          103925.421875,
          103917.234375,
          103924.5625,
          103909.53125,
          103897.234375,
          103883.890625,
          103926.2734375,
          103897.0625,
          103872.25,
          103856.515625,
          103862.40625,
          103864,
          103864.53125,
          103862.78125,
          103874.0625,
          103889.78125,
          103918.46875,
          103918.21875,
          103922.9921875,
          103912.96875,
          103947.7890625,
          103949.21875,
          103960.46875,
          103975.734375,
          103989.765625,
          103975.2265625,
          103998.921875,
          104009.78125,
          104043.9140625,
          104051.96875,
          104055.8125,
          104038.4375,
          104024.4609375,
          104015.375,
          104004.703125,
          104025.0859375,
          104044.578125,
          104049.125,
          104048.96875,
          104049.65625,
          104036.140625,
          104018.6015625,
          104014.71875,
          104005.59375,
          104027.0234375,
          104060.8125,
          104045.515625,
          104080.0859375,
          104058.265625,
          104061.09375,
          104085.296875,
          104081.3203125,
          104065.484375,
          104089.984375,
          104118.125,
          104138.09375,
          104120.96875,
          104133.984375,
          104148.25,
          104167.84375,
          104166.5625,
          104186.3203125,
          104217.734375,
          104236.296875,
          104234.5625,
          104234.40625,
          104246.578125,
          104275.1484375,
          104275.15625,
          104288.203125,
          104296.84375,
          104291.5390625,
          104302.7109375,
          104287.546875,
          104251.984375,
          104254.78125,
          104252.390625,
          104276.0546875,
          104301.6953125,
          104323.859375,
          104367.125,
          104388.953125,
          104386.890625,
          104374.8125,
          104404.578125,
          104485.9453125,
          104474.015625,
          104526.125,
          104569.578125,
          104602.4296875,
          104673.8984375,
          104717.84375,
          104744.1484375,
          104758.4921875,
          104818.140625,
          104871.46875,
          104916.875,
          104950.65625,
          104988.7734375,
          105025.515625,
          105050.96875,
          105092.0859375,
          105099.46875,
          105121.640625,
          105152.265625,
          105175,
          105208.140625,
          105190.3828125,
          105232.734375,
          105201.921875,
          105181.953125,
          105202.015625,
          105210.2578125,
          105217.125,
          105233.2890625,
          105247.7578125,
          105277.765625,
          105256.515625,
          105288.703125,
          105325.796875,
          105349.90625,
          105323.78125,
          105317.359375,
          105318.4375,
          105312.46875,
          105307.796875,
          105325.953125,
          105362.484375,
          105380.6953125,
          105394.8125,
          105427.2734375,
          105421.53125,
          105411.5625,
          105411.203125,
          105400.1875,
          105403.578125,
          105389.46875,
          105409.65625,
          105409.484375,
          105433.578125,
          105422.09375,
          105436.890625,
          105466.9453125,
          105467.125,
          105474.390625,
          105520.46875,
          105486.921875,
          105522.828125,
          105520.296875,
          105532.0703125,
          105575.515625,
          105586.296875,
          105559.703125,
          105556.203125,
          105579.6875,
          105589.328125,
          105592.515625,
          105626.34375,
          105623.15625,
          105616.421875,
          105602.0234375,
          105587.578125,
          105582.4375,
          105565.953125,
          105603.0625,
          105653.34375,
          105658.921875,
          105665.21875,
          105642.7890625,
          105658.28125,
          105631.625,
          105620.671875,
          105642.6328125,
          105640.2109375,
          105638.6328125,
          105629.109375,
          105634.28125,
          105648.984375,
          105639.140625,
          105667.296875,
          105703.109375,
          105715.3984375,
          105701.8515625,
          105705.4375,
          105683.1953125,
          105684.109375,
          105671.5,
          105712.03125,
          105694.625,
          105695.6328125,
          105722.8125,
          105685.5234375,
          105671.53125,
          105678.015625,
          105682.578125,
          105676.9375,
          105681.4140625,
          105674.28125,
          105681.6953125,
          105677.2109375,
          105651.5,
          105669.96875,
          105679.53125,
          105679.0703125,
          105670.3671875,
          105674.1875,
          105685.609375,
          105705.75,
          105691.515625,
          105690.5625,
          105678.2265625,
          105667.484375,
          105676.8046875,
          105681.0625,
          105688.078125,
          105681.328125,
          105664,
          105660.3984375,
          105668.515625,
          105689.765625,
          105667.3984375,
          105641.5859375,
          105641.7578125,
          105666.625,
          105691.78125,
          105702.9453125,
          105706.125,
          105696.4140625,
          105693.578125,
          105681.09375,
          105690.9296875,
          105684.578125,
          105689.859375,
          105709.453125,
          105699.3515625,
          105705.65625,
          105733.984375,
          105736,
          105725.65625,
          105745.984375,
          105760.4609375,
          105789.6484375,
          105778.140625,
          105769.609375,
          105746.0625,
          105733.78125,
          105718.0703125,
          105740.5390625,
          105757.78125,
          105773.0625,
          105762.390625,
          105773.3125,
          105786.265625,
          105791.59375,
          105780.1640625,
          105784.453125,
          105768.296875,
          105751.734375,
          105745.984375,
          105767.671875,
          105765.5,
          105767.15625,
          105750.546875,
          105746.46875,
          105769.3125,
          105798.03125,
          105784,
          105773.84375,
          105756.421875,
          105780.578125,
          105783.5,
          105776.40625,
          105824.1953125,
          105820.5,
          105850.03125,
          105882.7265625,
          105916.78125,
          105937.0625,
          105970.875,
          105960.3125,
          105960.9296875,
          105933.15625,
          105913.65625,
          105944.078125,
          105928.9375,
          105927.015625,
          105934.34375,
          105932.1875,
          105930.28125,
          105923.9765625,
          105911.359375,
          105907.2265625,
          105908.7578125,
          105909.34375,
          105939.3125,
          105967.234375,
          105976.8828125,
          105960.453125,
          105965.515625,
          105977.71875,
          105963.890625,
          105987.921875,
          106000.265625,
          106012.671875,
          106039.65625,
          106022.28125,
          106039.953125,
          106066.0625,
          106047.9375,
          106090.671875,
          106123.625,
          106109.1796875,
          106117.28125,
          106146.21875,
          106142.421875
         ],
         "yaxis": "y2"
        },
        {
         "line": {
          "color": "rgb(200, 0, 0)",
          "width": 3
         },
         "name": "sgd LLC",
         "type": "scatter",
         "xaxis": "x",
         "y": [
          -0.0028833323158323765,
          0.016448721289634705,
          0.022311244159936905,
          0.026336954906582832,
          0.02542250230908394,
          0.2904868721961975,
          0.3261377215385437,
          0.442143976688385,
          0.4487640857696533,
          0.46898454427719116,
          0.6414531469345093,
          0.6693471670150757,
          0.9630783796310425,
          1.3965989351272583,
          1.5177454948425293,
          1.9209527969360352,
          2.114372491836548,
          2.3161234855651855,
          2.5154099464416504,
          2.622544765472412,
          2.913607358932495,
          2.909804105758667,
          3.184081554412842,
          3.494401216506958,
          3.8034355640411377,
          3.8946917057037354,
          4.074493885040283,
          4.167899131774902,
          4.427534103393555,
          4.684951305389404,
          5.0126237869262695,
          5.096529960632324,
          5.235982894897461,
          5.42025899887085,
          5.576011657714844,
          5.684029579162598,
          5.746729373931885,
          5.992551326751709,
          6.161871910095215,
          6.382297515869141,
          6.529829025268555,
          6.703960418701172,
          6.885469436645508,
          7.055706024169922,
          7.193105697631836,
          7.445160865783691,
          7.806149482727051,
          7.947967529296875,
          8.109258651733398,
          8.402853965759277,
          8.733846664428711,
          8.891664505004883,
          9.067476272583008,
          9.231937408447266,
          9.326505661010742,
          9.586387634277344,
          9.862405776977539,
          10.112756729125977,
          10.342069625854492,
          10.4956693649292,
          10.715304374694824,
          10.825860977172852,
          10.940357208251953,
          11.236021041870117,
          11.56649398803711,
          11.745622634887695,
          11.956436157226562,
          12.148965835571289,
          12.384063720703125,
          12.523529052734375,
          12.634029388427734,
          12.91419792175293,
          13.010944366455078,
          13.205328941345215,
          13.424409866333008,
          13.688642501831055,
          13.71026611328125,
          13.967016220092773,
          14.122961044311523,
          14.375454902648926,
          14.570524215698242,
          14.785022735595703,
          15.038312911987305,
          15.163602828979492,
          15.383769035339355,
          15.51759147644043,
          15.695502281188965,
          15.855401039123535,
          16.097562789916992,
          16.209617614746094,
          16.383338928222656,
          16.51647186279297,
          16.574954986572266,
          16.680877685546875,
          16.76068878173828,
          16.95832061767578,
          17.263870239257812,
          17.458873748779297,
          17.572134017944336,
          17.70296287536621,
          17.8555908203125,
          17.99465560913086,
          18.185640335083008,
          18.408479690551758,
          18.547927856445312,
          18.643199920654297,
          18.90929412841797,
          19.107938766479492,
          19.289302825927734,
          19.453712463378906,
          19.619686126708984,
          19.65583038330078,
          19.748563766479492,
          19.826053619384766,
          19.978107452392578,
          20.045475006103516,
          20.193845748901367,
          20.257976531982422,
          20.358097076416016,
          20.521541595458984,
          20.687410354614258,
          20.819427490234375,
          21.020273208618164,
          21.094863891601562,
          21.25523567199707,
          21.383033752441406,
          21.529117584228516,
          21.685710906982422,
          21.855066299438477,
          22.031261444091797,
          22.160320281982422,
          22.376996994018555,
          22.448326110839844,
          22.551883697509766,
          22.63756561279297,
          22.69746971130371,
          22.774259567260742,
          22.927936553955078,
          23.061683654785156,
          23.199851989746094,
          23.309968948364258,
          23.416915893554688,
          23.559350967407227,
          23.72105598449707,
          23.806068420410156,
          23.921875,
          24.050769805908203,
          24.202898025512695,
          24.327274322509766,
          24.450183868408203,
          24.58435821533203,
          24.760025024414062,
          24.83414077758789,
          24.91863250732422,
          24.976295471191406,
          25.07520294189453,
          25.174575805664062,
          25.245338439941406,
          25.345380783081055,
          25.404504776000977,
          25.613296508789062,
          25.717927932739258,
          25.803314208984375,
          25.961280822753906,
          26.040042877197266,
          26.14134979248047,
          26.217735290527344,
          26.278430938720703,
          26.34398651123047,
          26.51230812072754,
          26.55063819885254,
          26.685956954956055,
          26.759416580200195,
          26.865535736083984,
          26.943758010864258,
          27.085681915283203,
          27.261173248291016,
          27.369136810302734,
          27.458362579345703,
          27.541872024536133,
          27.628501892089844,
          27.747474670410156,
          27.89614486694336,
          27.993825912475586,
          28.056846618652344,
          28.12970542907715,
          28.234695434570312,
          28.311826705932617,
          28.37213706970215,
          28.48871612548828,
          28.524919509887695,
          28.62857437133789,
          28.791996002197266,
          28.93521499633789,
          29.027206420898438,
          29.16617202758789,
          29.282350540161133,
          29.372514724731445,
          29.498435974121094,
          29.57979393005371,
          29.639230728149414,
          29.776058197021484,
          29.827911376953125,
          29.888206481933594,
          29.95479965209961,
          30.060117721557617,
          30.12492561340332,
          30.158794403076172,
          30.21217918395996,
          30.299083709716797,
          30.335037231445312,
          30.376686096191406,
          30.473854064941406,
          30.597869873046875,
          30.70977020263672,
          30.803974151611328,
          30.909469604492188,
          30.922630310058594,
          30.944259643554688,
          31.00048065185547,
          31.05126190185547,
          31.075027465820312,
          31.10540008544922,
          31.12485122680664,
          31.182613372802734,
          31.192169189453125,
          31.263803482055664,
          31.322423934936523,
          31.378662109375,
          31.405567169189453,
          31.460453033447266,
          31.50799560546875,
          31.54961395263672,
          31.593738555908203,
          31.6291561126709,
          31.67310905456543,
          31.743831634521484,
          31.801605224609375,
          31.86317253112793,
          31.910860061645508,
          31.973915100097656,
          32.04282760620117,
          32.11293411254883,
          32.2469596862793,
          32.31412124633789,
          32.37824249267578,
          32.45628356933594,
          32.47918701171875,
          32.569427490234375,
          32.606536865234375,
          32.65715408325195,
          32.704769134521484,
          32.784332275390625,
          32.843292236328125,
          32.91341781616211,
          32.973087310791016,
          33.00932312011719,
          33.03313446044922,
          33.05182647705078,
          33.12187194824219,
          33.19136047363281,
          33.24821853637695,
          33.310157775878906,
          33.33156967163086,
          33.41474151611328,
          33.449249267578125,
          33.53815460205078,
          33.59954833984375,
          33.709815979003906,
          33.80127716064453,
          33.87675476074219,
          33.970943450927734,
          34.05171203613281,
          34.13037109375,
          34.19340896606445,
          34.25938415527344,
          34.36297607421875,
          34.464229583740234,
          34.51750946044922,
          34.55653762817383,
          34.549129486083984,
          34.581851959228516,
          34.66007995605469,
          34.71019744873047,
          34.76190948486328,
          34.810394287109375,
          34.84880828857422,
          34.876983642578125,
          34.91324234008789,
          34.97998046875,
          35.06128692626953,
          35.13457107543945,
          35.19086837768555,
          35.235618591308594,
          35.305450439453125,
          35.373069763183594,
          35.42987823486328,
          35.49747085571289,
          35.5235595703125,
          35.573768615722656,
          35.64809799194336,
          35.67035675048828,
          35.78400421142578,
          35.826324462890625,
          35.883544921875,
          35.936038970947266,
          35.989349365234375,
          36.040672302246094,
          36.033241271972656,
          36.04747772216797,
          36.080299377441406,
          36.152015686035156,
          36.224971771240234,
          36.21794128417969,
          36.216373443603516,
          36.239559173583984,
          36.267738342285156,
          36.313079833984375,
          36.42375946044922,
          36.45502853393555,
          36.48466491699219,
          36.54582214355469,
          36.55195236206055,
          36.55500030517578,
          36.585533142089844,
          36.60855484008789,
          36.63642883300781,
          36.680152893066406,
          36.68263244628906,
          36.68899917602539,
          36.689048767089844,
          36.70164489746094,
          36.71717834472656,
          36.73686981201172,
          36.75029754638672,
          36.772621154785156,
          36.82598876953125,
          36.87328338623047,
          36.88665008544922,
          36.90185546875,
          36.93144226074219,
          36.972618103027344,
          36.98143768310547,
          37.01112365722656,
          37.00154113769531,
          37.04290008544922,
          37.063568115234375,
          37.093997955322266,
          37.14369583129883,
          37.14588165283203,
          37.23565673828125,
          37.26692199707031,
          37.307899475097656,
          37.33544921875,
          37.39938735961914,
          37.43610382080078,
          37.485015869140625,
          37.51292419433594,
          37.51329803466797,
          37.54537582397461,
          37.57574462890625,
          37.62998962402344,
          37.656959533691406,
          37.69025802612305,
          37.731773376464844,
          37.74375534057617,
          37.8148193359375,
          37.83247375488281,
          37.86109924316406,
          37.90156555175781,
          37.94196319580078,
          37.96331024169922,
          37.96940612792969,
          38.002201080322266,
          38.05615234375,
          38.047279357910156,
          38.12151336669922,
          38.19181823730469,
          38.21162033081055,
          38.26531982421875,
          38.29956817626953,
          38.33821105957031,
          38.36634826660156,
          38.378665924072266,
          38.394447326660156,
          38.41215515136719,
          38.42320251464844,
          38.45906448364258,
          38.49315643310547,
          38.51394271850586,
          38.53207015991211,
          38.55262756347656,
          38.59857940673828,
          38.638431549072266,
          38.70004653930664,
          38.711334228515625,
          38.73241424560547,
          38.742958068847656,
          38.77325439453125,
          38.79264831542969,
          38.81523895263672,
          38.838932037353516,
          38.83740997314453,
          38.8693962097168,
          38.904273986816406,
          38.90010070800781,
          38.92813491821289,
          38.94480895996094,
          38.982887268066406,
          39.030555725097656,
          39.01605987548828,
          39.03095626831055,
          39.04023361206055,
          39.063697814941406,
          39.10676193237305,
          39.12281799316406,
          39.14165496826172,
          39.15886688232422,
          39.14802551269531,
          39.139495849609375,
          39.13469696044922,
          39.150611877441406,
          39.1512451171875,
          39.16797637939453,
          39.17616271972656,
          39.1859130859375,
          39.22063446044922,
          39.231414794921875,
          39.263648986816406,
          39.27461624145508,
          39.30216598510742,
          39.30685806274414,
          39.307350158691406,
          39.327735900878906,
          39.36273193359375,
          39.38059997558594,
          39.378639221191406,
          39.406402587890625,
          39.43792724609375,
          39.4603271484375,
          39.49196243286133,
          39.5225715637207,
          39.53614807128906,
          39.528236389160156,
          39.54278564453125,
          39.56254196166992,
          39.577919006347656,
          39.589019775390625,
          39.58393859863281,
          39.60435485839844,
          39.60627746582031,
          39.62151336669922,
          39.63854217529297,
          39.66021728515625,
          39.69363021850586,
          39.7215461730957,
          39.75202178955078,
          39.7989501953125,
          39.830406188964844,
          39.84937286376953,
          39.85675811767578,
          39.8976936340332,
          39.931114196777344,
          39.950355529785156,
          39.96900939941406,
          39.98828125,
          40.000003814697266,
          40.04448318481445,
          40.07246780395508,
          40.07111740112305,
          40.108009338378906,
          40.11848449707031,
          40.15240478515625,
          40.149322509765625,
          40.12976837158203,
          40.1350212097168,
          40.143760681152344,
          40.155029296875,
          40.166831970214844,
          40.16802215576172,
          40.16962814331055,
          40.2089958190918,
          40.245052337646484,
          40.25918197631836,
          40.293113708496094,
          40.29364776611328,
          40.30375289916992,
          40.33103942871094,
          40.336341857910156,
          40.32992172241211,
          40.323211669921875,
          40.34912872314453,
          40.36271667480469,
          40.38951110839844,
          40.409358978271484,
          40.394081115722656,
          40.420257568359375,
          40.44319152832031,
          40.45674514770508,
          40.4479866027832,
          40.47003173828125,
          40.48640060424805,
          40.47174835205078,
          40.48757553100586,
          40.52348327636719,
          40.51451873779297,
          40.52878952026367,
          40.556915283203125,
          40.5528450012207,
          40.570045471191406,
          40.600242614746094,
          40.61566925048828,
          40.65205383300781,
          40.673614501953125,
          40.677093505859375,
          40.686058044433594,
          40.700130462646484,
          40.715187072753906,
          40.75770568847656,
          40.80747985839844,
          40.824344635009766,
          40.836002349853516,
          40.86444854736328,
          40.8851318359375,
          40.90777587890625,
          40.918312072753906,
          40.93101501464844,
          40.9716796875,
          40.97388458251953,
          40.9786376953125,
          40.982643127441406,
          41.00361633300781,
          41.015830993652344,
          41.03679656982422,
          41.045982360839844,
          41.05788040161133,
          41.07058334350586,
          41.08428955078125,
          41.10146713256836,
          41.118927001953125,
          41.122596740722656,
          41.13663864135742,
          41.17127990722656,
          41.16974639892578,
          41.18465805053711,
          41.1767463684082,
          41.198951721191406,
          41.203712463378906,
          41.214725494384766,
          41.24460983276367,
          41.259979248046875,
          41.29511260986328,
          41.311073303222656,
          41.33924102783203,
          41.3536491394043,
          41.369102478027344,
          41.38543701171875,
          41.3922119140625,
          41.397457122802734,
          41.410804748535156,
          41.43314743041992,
          41.42870330810547,
          41.45734405517578,
          41.454627990722656,
          41.487037658691406,
          41.52188491821289,
          41.52545928955078,
          41.53591537475586,
          41.556007385253906,
          41.5516242980957,
          41.55122375488281,
          41.581268310546875,
          41.593204498291016,
          41.605438232421875,
          41.605796813964844,
          41.611549377441406,
          41.63190841674805,
          41.62687683105469,
          41.634681701660156,
          41.61957550048828,
          41.62800598144531,
          41.63261413574219,
          41.637351989746094,
          41.633880615234375,
          41.64305877685547,
          41.64299392700195,
          41.658870697021484,
          41.66712188720703,
          41.67060852050781,
          41.669189453125,
          41.665504455566406,
          41.68318557739258,
          41.68377685546875,
          41.69708251953125,
          41.68695831298828,
          41.68950653076172,
          41.694129943847656,
          41.69944763183594,
          41.714317321777344,
          41.71987533569336,
          41.71354675292969,
          41.708763122558594,
          41.70056915283203,
          41.71494674682617,
          41.725006103515625,
          41.747352600097656,
          41.753379821777344,
          41.76201248168945,
          41.76947784423828,
          41.77667236328125,
          41.76373291015625,
          41.77973937988281,
          41.77616882324219,
          41.768768310546875,
          41.75990295410156,
          41.76764678955078,
          41.777767181396484,
          41.7876091003418,
          41.791385650634766,
          41.78953552246094,
          41.8094482421875,
          41.822509765625,
          41.82252502441406,
          41.80193328857422,
          41.78973388671875,
          41.80665969848633,
          41.809974670410156,
          41.81178283691406,
          41.803279876708984,
          41.809364318847656,
          41.811683654785156,
          41.83237838745117,
          41.840248107910156,
          41.843650817871094,
          41.83985137939453,
          41.855438232421875,
          41.84880065917969,
          41.85456085205078,
          41.87708282470703,
          41.88966369628906,
          41.90740203857422,
          41.92241668701172,
          41.91118621826172,
          41.919029235839844,
          41.9183235168457,
          41.9318962097168,
          41.9383544921875,
          41.96284484863281,
          41.975196838378906,
          41.972740173339844,
          41.98089599609375,
          41.97613525390625,
          41.97477722167969,
          41.971805572509766,
          41.96055603027344,
          41.950843811035156,
          41.96339416503906,
          41.96942138671875,
          41.97113037109375,
          41.984619140625,
          41.98907470703125,
          41.99237823486328,
          41.99477767944336,
          42.00169372558594,
          41.9969482421875,
          41.98772430419922,
          41.98561477661133,
          41.974937438964844,
          41.97295379638672,
          41.97043991088867,
          41.977455139160156,
          41.97317886352539,
          41.955116271972656,
          41.948097229003906,
          41.94452667236328,
          41.94853210449219,
          41.949737548828125,
          41.950050354003906,
          41.95184326171875,
          41.95792007446289,
          41.97124099731445,
          41.983856201171875,
          41.99248504638672,
          42.005714416503906,
          42.02527618408203,
          42.02375793457031,
          42.018863677978516,
          42.021263122558594,
          42.021141052246094,
          42.054203033447266,
          42.07072448730469,
          42.08025360107422,
          42.08774185180664,
          42.123390197753906,
          42.119041442871094,
          42.12054443359375,
          42.12908935546875,
          42.12232208251953,
          42.140708923339844,
          42.15812301635742,
          42.16417694091797,
          42.19662094116211,
          42.216522216796875,
          42.21400451660156,
          42.236106872558594,
          42.26316452026367,
          42.26820755004883,
          42.26430892944336,
          42.28011703491211,
          42.28704833984375,
          42.277645111083984,
          42.29802703857422,
          42.290283203125,
          42.299034118652344,
          42.31774139404297,
          42.34510803222656,
          42.351097106933594,
          42.37692642211914,
          42.37389373779297,
          42.38417053222656,
          42.38264846801758,
          42.38652038574219,
          42.38774871826172,
          42.39409637451172,
          42.40530776977539,
          42.40428924560547,
          42.41454315185547,
          42.414772033691406,
          42.408203125,
          42.40175247192383,
          42.40353775024414,
          42.40392303466797,
          42.40122985839844,
          42.40789794921875,
          42.40873336791992,
          42.43755340576172,
          42.436317443847656,
          42.42690658569336,
          42.42095947265625,
          42.419891357421875,
          42.41859436035156,
          42.40546798706055,
          42.40634536743164,
          42.40165710449219,
          42.400001525878906,
          42.41027069091797,
          42.41252899169922,
          42.41740417480469,
          42.4015007019043,
          42.40447998046875,
          42.407997131347656,
          42.420223236083984,
          42.421905517578125,
          42.42502212524414,
          42.41908264160156,
          42.42841720581055,
          42.428428649902344,
          42.420501708984375,
          42.43067932128906,
          42.429718017578125,
          42.436500549316406,
          42.440467834472656,
          42.449951171875,
          42.45288848876953,
          42.44911193847656,
          42.46293640136719,
          42.46525573730469,
          42.46996307373047,
          42.48146057128906,
          42.498046875,
          42.515106201171875,
          42.51353454589844,
          42.51206970214844,
          42.51515579223633,
          42.51288986206055,
          42.51045227050781,
          42.512550354003906,
          42.49858093261719,
          42.4947509765625,
          42.501121520996094,
          42.49449157714844,
          42.508506774902344,
          42.504638671875,
          42.50616455078125,
          42.50855255126953,
          42.52330017089844,
          42.53337860107422,
          42.55076599121094,
          42.55471420288086,
          42.55545425415039,
          42.566497802734375,
          42.566410064697266,
          42.56455993652344,
          42.56732177734375,
          42.57068634033203,
          42.58241271972656,
          42.58930206298828,
          42.581092834472656,
          42.57737731933594,
          42.57408142089844,
          42.56744384765625,
          42.56536865234375,
          42.56269836425781,
          42.55352783203125,
          42.55313491821289,
          42.56095886230469,
          42.552635192871094,
          42.54819107055664,
          42.53296661376953,
          42.53550338745117,
          42.53547668457031,
          42.53633499145508,
          42.53249740600586,
          42.53525161743164,
          42.5365104675293,
          42.54054641723633,
          42.53437042236328,
          42.551109313964844,
          42.55520248413086,
          42.55199432373047,
          42.56854248046875,
          42.582176208496094,
          42.58750915527344,
          42.61012649536133,
          42.61163330078125,
          42.626564025878906,
          42.62297821044922,
          42.627830505371094,
          42.63957214355469,
          42.64152526855469,
          42.67363739013672,
          42.68060302734375,
          42.69557189941406,
          42.72001647949219,
          42.71745300292969,
          42.731781005859375,
          42.7401237487793,
          42.739803314208984,
          42.73443603515625,
          42.730323791503906,
          42.737464904785156,
          42.73686218261719,
          42.719879150390625,
          42.71387481689453,
          42.704261779785156,
          42.720664978027344,
          42.733768463134766,
          42.72471618652344,
          42.717926025390625,
          42.727439880371094,
          42.73877716064453,
          42.73340606689453,
          42.7293586730957,
          42.73919677734375,
          42.752105712890625,
          42.73778533935547,
          42.73793029785156,
          42.74958038330078,
          42.75164794921875,
          42.74744415283203,
          42.75318145751953,
          42.7677001953125,
          42.77065658569336,
          42.77937316894531,
          42.77186584472656,
          42.765708923339844,
          42.76111602783203,
          42.770660400390625,
          42.77018737792969,
          42.778831481933594,
          42.79362106323242,
          42.78865432739258,
          42.78090286254883,
          42.785160064697266,
          42.784637451171875,
          42.806053161621094,
          42.81279754638672,
          42.8369140625,
          42.850311279296875,
          42.849708557128906,
          42.856468200683594,
          42.859580993652344,
          42.864749908447266,
          42.86620330810547,
          42.86330032348633,
          42.85786819458008,
          42.846675872802734,
          42.848876953125,
          42.843841552734375,
          42.84428405761719,
          42.849552154541016,
          42.84081268310547,
          42.847984313964844,
          42.868534088134766,
          42.873504638671875,
          42.87054443359375,
          42.86769485473633,
          42.88062286376953,
          42.888145446777344,
          42.9041633605957,
          42.91260528564453,
          42.91684341430664,
          42.910552978515625,
          42.92913055419922,
          42.929725646972656,
          42.927490234375,
          42.929054260253906,
          42.930416107177734,
          42.93292236328125,
          42.928688049316406,
          42.927978515625,
          42.92638397216797,
          42.930633544921875,
          42.94056701660156,
          42.94342041015625,
          42.94215393066406,
          42.953895568847656,
          42.957679748535156,
          42.96442413330078,
          42.962318420410156,
          42.972042083740234,
          42.957237243652344,
          42.96159362792969,
          42.96819305419922,
          42.96879959106445,
          42.983551025390625,
          42.993072509765625,
          42.994319915771484,
          43.01711654663086,
          43.007965087890625,
          43.009246826171875,
          43.01899719238281,
          43.038047790527344,
          43.05913543701172,
          43.065277099609375,
          43.07470703125,
          43.07651138305664,
          43.0857048034668,
          43.09561538696289,
          43.10069274902344,
          43.10785675048828,
          43.13127136230469,
          43.131813049316406,
          43.13823318481445,
          43.138553619384766,
          43.153526306152344,
          43.14581298828125,
          43.143795013427734,
          43.145835876464844,
          43.14442443847656,
          43.155357360839844,
          43.17906951904297,
          43.18512725830078,
          43.19837188720703,
          43.205970764160156,
          43.209877014160156,
          43.216522216796875,
          43.2159423828125,
          43.21192169189453,
          43.212303161621094,
          43.21797180175781,
          43.2200813293457,
          43.225643157958984,
          43.22233963012695,
          43.224639892578125,
          43.21888732910156,
          43.22343444824219,
          43.231082916259766,
          43.23545837402344,
          43.24231719970703,
          43.256874084472656,
          43.25006103515625,
          43.25336456298828,
          43.25885772705078,
          43.24509811401367,
          43.25787353515625,
          43.275848388671875,
          43.283836364746094,
          43.282188415527344,
          43.299293518066406,
          43.30313491821289,
          43.304481506347656,
          43.30371856689453,
          43.305606842041016,
          43.306480407714844,
          43.3102912902832,
          43.31138229370117,
          43.30818176269531,
          43.30126190185547,
          43.298614501953125,
          43.303977966308594,
          43.31526184082031,
          43.32161331176758,
          43.328487396240234,
          43.32358932495117,
          43.325714111328125,
          43.324195861816406,
          43.32598114013672,
          43.32581329345703,
          43.32248306274414
         ],
         "yaxis": "y"
        },
        {
         "line": {
          "color": "rgb(200, 0, 0)",
          "dash": "dash",
          "width": 6
         },
         "name": "sgd WBIC",
         "type": "scatter",
         "xaxis": "x",
         "y": [
          4.31661319732666,
          48.28522872924805,
          61.61888885498047,
          70.77491760253906,
          68.69509887695312,
          671.5545654296875,
          752.638427734375,
          1016.4818115234375,
          1031.5384521484375,
          1077.5277099609375,
          1469.788330078125,
          1533.230224609375,
          2201.28955078125,
          3187.283447265625,
          3462.81787109375,
          4379.8681640625,
          4819.77978515625,
          5278.640625,
          5731.89501953125,
          5975.5615234375,
          6637.55078125,
          6628.90087890625,
          7252.71435546875,
          7958.501953125,
          8661.3662109375,
          8868.91796875,
          9277.8583984375,
          9490.296875,
          10080.80859375,
          10666.2744140625,
          11411.529296875,
          11602.365234375,
          11919.53515625,
          12338.650390625,
          12692.892578125,
          12938.568359375,
          13081.1708984375,
          13640.265625,
          14025.365234375,
          14526.7001953125,
          14862.244140625,
          15258.2861328125,
          15671.107421875,
          16058.29296875,
          16370.794921875,
          16944.064453125,
          17765.091796875,
          18087.640625,
          18454.48046875,
          19122.234375,
          19875.0390625,
          20233.97265625,
          20633.83984375,
          21007.888671875,
          21222.97265625,
          21814.044921875,
          22441.81640625,
          23011.212890625,
          23532.76171875,
          23882.10546875,
          24381.64453125,
          24633.09375,
          24893.501953125,
          25565.953125,
          26317.576171875,
          26724.986328125,
          27204.4609375,
          27642.345703125,
          28177.0546875,
          28494.25,
          28745.5703125,
          29382.78515625,
          29602.826171875,
          30044.927734375,
          30543.203125,
          31144.169921875,
          31193.3515625,
          31777.3046875,
          32131.98046875,
          32706.25,
          33149.9140625,
          33637.76953125,
          34213.8515625,
          34498.8046875,
          34999.55078125,
          35303.9140625,
          35708.5546875,
          36072.2265625,
          36622.9921875,
          36877.8515625,
          37272.96484375,
          37575.7578125,
          37708.7734375,
          37949.68359375,
          38131.203125,
          38580.69140625,
          39275.63671875,
          39719.1484375,
          39976.74609375,
          40274.3046875,
          40621.44140625,
          40937.7265625,
          41372.1015625,
          41878.921875,
          42196.078125,
          42412.76171875,
          43017.96875,
          43469.76171875,
          43882.2578125,
          44256.1875,
          44633.67578125,
          44715.8828125,
          44926.796875,
          45103.03515625,
          45448.875,
          45602.09375,
          45939.5390625,
          46085.3984375,
          46313.1171875,
          46684.83984375,
          47062.09765625,
          47362.359375,
          47819.15625,
          47988.8046875,
          48353.546875,
          48644.2109375,
          48976.45703125,
          49332.61328125,
          49717.7890625,
          50118.5234375,
          50412.0546875,
          50904.859375,
          51067.0859375,
          51302.62109375,
          51497.5,
          51633.73828125,
          51808.390625,
          52157.91796875,
          52462.10546875,
          52776.359375,
          53026.8046875,
          53270.046875,
          53594,
          53961.7734375,
          54155.12109375,
          54418.51171875,
          54711.6640625,
          55057.6640625,
          55340.546875,
          55620.09375,
          55925.2578125,
          56324.7890625,
          56493.359375,
          56685.5234375,
          56816.6796875,
          57041.62890625,
          57267.640625,
          57428.578125,
          57656.109375,
          57790.57421875,
          58265.44921875,
          58503.41796875,
          58697.62109375,
          59056.8984375,
          59236.03125,
          59466.44921875,
          59640.1796875,
          59778.23046875,
          59927.3203125,
          60310.15234375,
          60397.3359375,
          60705.09765625,
          60872.171875,
          61113.5234375,
          61291.44140625,
          61614.21875,
          62013.359375,
          62258.90625,
          62461.8515625,
          62651.77734375,
          62848.8046875,
          63119.3984375,
          63457.5390625,
          63679.703125,
          63823.0390625,
          63988.7421875,
          64227.53125,
          64402.9609375,
          64540.12890625,
          64805.2734375,
          64887.609375,
          65123.359375,
          65495.046875,
          65820.7890625,
          66030.015625,
          66346.0703125,
          66610.3125,
          66815.375,
          67101.7734375,
          67286.8125,
          67422,
          67733.1953125,
          67851.125,
          67988.265625,
          68139.71875,
          68379.25,
          68526.65625,
          68603.6953125,
          68725.125,
          68922.765625,
          69004.53125,
          69099.265625,
          69320.265625,
          69602.3203125,
          69856.828125,
          70071.078125,
          70311.015625,
          70340.953125,
          70390.1484375,
          70518.03125,
          70633.5078125,
          70687.5625,
          70756.640625,
          70800.890625,
          70932.2578125,
          70953.9921875,
          71116.921875,
          71250.234375,
          71378.140625,
          71439.34375,
          71564.171875,
          71672.3125,
          71766.96875,
          71867.3203125,
          71947.875,
          72047.8359375,
          72208.6875,
          72340.078125,
          72480.1171875,
          72588.5703125,
          72731.96875,
          72888.71875,
          73048.15625,
          73352.9921875,
          73505.75,
          73651.59375,
          73829.09375,
          73881.171875,
          74086.421875,
          74170.828125,
          74285.9453125,
          74394.2421875,
          74575.1875,
          74709.296875,
          74868.78125,
          75004.484375,
          75086.8984375,
          75141.0625,
          75183.578125,
          75342.890625,
          75500.9296875,
          75630.25,
          75771.125,
          75819.796875,
          76008.9609375,
          76087.453125,
          76289.6640625,
          76429.28125,
          76680.0859375,
          76888.09375,
          77059.7578125,
          77273.984375,
          77457.6875,
          77636.5859375,
          77779.953125,
          77930.0078125,
          78165.609375,
          78395.90625,
          78517.078125,
          78605.859375,
          78589,
          78663.4375,
          78841.359375,
          78955.34375,
          79072.96875,
          79183.234375,
          79270.59375,
          79334.671875,
          79417.140625,
          79568.9140625,
          79753.84375,
          79920.515625,
          80048.5625,
          80150.34375,
          80309.171875,
          80462.96875,
          80592.1796875,
          80745.90625,
          80805.25,
          80919.4375,
          81088.4921875,
          81139.125,
          81397.6015625,
          81493.859375,
          81623.9921875,
          81743.390625,
          81864.6484375,
          81981.3671875,
          81964.4609375,
          81996.84375,
          82071.5078125,
          82234.6015625,
          82400.53125,
          82384.546875,
          82380.984375,
          82433.7109375,
          82497.8046875,
          82600.921875,
          82852.65625,
          82923.78125,
          82991.1875,
          83130.2734375,
          83144.21875,
          83151.15625,
          83220.59375,
          83272.9609375,
          83336.34375,
          83435.8125,
          83441.4453125,
          83455.9375,
          83456.046875,
          83484.703125,
          83520.015625,
          83564.8125,
          83595.3359375,
          83646.109375,
          83767.484375,
          83875.046875,
          83905.453125,
          83940.0390625,
          84007.328125,
          84100.96875,
          84121.03125,
          84188.546875,
          84166.7421875,
          84260.8203125,
          84307.828125,
          84377.0390625,
          84490.0625,
          84495.03125,
          84699.234375,
          84770.34375,
          84863.53125,
          84926.1953125,
          85071.609375,
          85155.1171875,
          85266.359375,
          85329.84375,
          85330.671875,
          85403.640625,
          85472.7109375,
          85596.09375,
          85657.421875,
          85733.1640625,
          85827.59375,
          85854.84375,
          86016.46875,
          86056.6171875,
          86121.71875,
          86213.75,
          86305.6328125,
          86354.203125,
          86368.046875,
          86442.6328125,
          86565.3359375,
          86545.1640625,
          86714,
          86873.90625,
          86918.9375,
          87041.0703125,
          87118.96875,
          87206.8671875,
          87270.859375,
          87298.875,
          87334.7578125,
          87375.0390625,
          87400.171875,
          87481.734375,
          87559.265625,
          87606.5390625,
          87647.765625,
          87694.5390625,
          87799.046875,
          87889.6875,
          88029.828125,
          88055.5,
          88103.4453125,
          88127.421875,
          88196.34375,
          88240.453125,
          88291.828125,
          88345.71875,
          88342.2578125,
          88415,
          88494.328125,
          88484.8359375,
          88548.59375,
          88586.53125,
          88673.125,
          88781.546875,
          88748.578125,
          88782.453125,
          88803.546875,
          88856.921875,
          88954.859375,
          88991.3828125,
          89034.21875,
          89073.3671875,
          89048.703125,
          89029.3125,
          89018.390625,
          89054.5703125,
          89056.015625,
          89094.0625,
          89112.6875,
          89134.859375,
          89213.8359375,
          89238.359375,
          89311.65625,
          89336.609375,
          89399.265625,
          89409.9296875,
          89411.0546875,
          89457.4296875,
          89537.03125,
          89577.671875,
          89573.203125,
          89636.3515625,
          89708.046875,
          89759,
          89830.953125,
          89900.5625,
          89931.4375,
          89913.4375,
          89946.5390625,
          89991.4609375,
          90026.4375,
          90051.6875,
          90040.109375,
          90086.546875,
          90090.921875,
          90125.5625,
          90164.296875,
          90213.609375,
          90289.59375,
          90353.09375,
          90422.40625,
          90529.140625,
          90600.6875,
          90643.8125,
          90660.6171875,
          90753.71875,
          90829.75,
          90873.4921875,
          90915.921875,
          90959.75,
          90986.40625,
          91087.5703125,
          91151.2109375,
          91148.15625,
          91232.046875,
          91255.890625,
          91333.046875,
          91326.0234375,
          91281.5625,
          91293.484375,
          91313.3671875,
          91338.9921875,
          91365.828125,
          91368.5390625,
          91372.203125,
          91461.734375,
          91543.734375,
          91575.875,
          91653.046875,
          91654.265625,
          91677.25,
          91739.3046875,
          91751.375,
          91736.765625,
          91721.5,
          91780.453125,
          91811.359375,
          91872.3046875,
          91917.4375,
          91882.6875,
          91942.2109375,
          91994.375,
          92025.203125,
          92005.28125,
          92055.421875,
          92092.640625,
          92059.3125,
          92095.3125,
          92176.96875,
          92156.578125,
          92189.0390625,
          92253.015625,
          92243.75,
          92282.8671875,
          92351.546875,
          92386.625,
          92469.390625,
          92518.421875,
          92526.328125,
          92546.71875,
          92578.7265625,
          92612.984375,
          92709.6875,
          92822.890625,
          92861.25,
          92887.7734375,
          92952.46875,
          92999.5234375,
          93051.015625,
          93074.984375,
          93103.8671875,
          93196.359375,
          93201.3671875,
          93212.171875,
          93221.2890625,
          93268.984375,
          93296.765625,
          93344.453125,
          93365.328125,
          93392.390625,
          93421.2890625,
          93452.46875,
          93491.53125,
          93531.25,
          93539.609375,
          93571.53125,
          93650.3203125,
          93646.828125,
          93680.7421875,
          93662.75,
          93713.265625,
          93724.0859375,
          93749.125,
          93817.09375,
          93852.046875,
          93931.953125,
          93968.25,
          94032.328125,
          94065.0859375,
          94100.234375,
          94137.3828125,
          94152.7890625,
          94164.71875,
          94195.078125,
          94245.8984375,
          94235.78125,
          94300.9296875,
          94294.7578125,
          94368.46875,
          94447.734375,
          94455.859375,
          94479.640625,
          94525.3359375,
          94515.375,
          94514.4609375,
          94582.796875,
          94609.953125,
          94637.765625,
          94638.578125,
          94651.65625,
          94697.96875,
          94686.5234375,
          94704.265625,
          94669.90625,
          94689.0859375,
          94699.5625,
          94710.34375,
          94702.4453125,
          94723.3203125,
          94723.1875,
          94759.3046875,
          94778.078125,
          94786,
          94782.7734375,
          94774.390625,
          94814.59375,
          94815.9375,
          94846.1875,
          94823.1796875,
          94828.96875,
          94839.4921875,
          94851.59375,
          94885.4140625,
          94898.046875,
          94883.6484375,
          94872.796875,
          94854.15625,
          94886.84375,
          94909.71875,
          94960.546875,
          94974.25,
          94993.890625,
          95010.859375,
          95027.21875,
          94997.7890625,
          95034.203125,
          95026.078125,
          95009.25,
          94989.09375,
          95006.703125,
          95029.71875,
          95052.09375,
          95060.6875,
          95056.484375,
          95101.765625,
          95131.46875,
          95131.5,
          95084.671875,
          95056.921875,
          95095.421875,
          95102.96875,
          95107.078125,
          95087.734375,
          95101.5703125,
          95106.8359375,
          95153.90625,
          95171.8046875,
          95179.53125,
          95170.90625,
          95206.3515625,
          95191.2578125,
          95204.359375,
          95255.578125,
          95284.1875,
          95324.53125,
          95358.6796875,
          95333.140625,
          95350.984375,
          95349.3828125,
          95380.25,
          95394.9375,
          95450.6484375,
          95478.734375,
          95473.15625,
          95491.703125,
          95480.890625,
          95477.796875,
          95471.046875,
          95445.4375,
          95423.359375,
          95451.9140625,
          95465.625,
          95469.5078125,
          95500.1953125,
          95510.3125,
          95517.828125,
          95523.296875,
          95539.015625,
          95528.234375,
          95507.2578125,
          95502.4453125,
          95478.1640625,
          95473.6484375,
          95467.9296875,
          95483.890625,
          95474.15625,
          95433.078125,
          95417.125,
          95409,
          95418.1015625,
          95420.84375,
          95421.578125,
          95425.640625,
          95439.453125,
          95469.765625,
          95498.453125,
          95518.078125,
          95548.15625,
          95592.671875,
          95589.203125,
          95578.0625,
          95583.515625,
          95583.2421875,
          95658.4375,
          95696.015625,
          95717.6875,
          95734.71875,
          95815.796875,
          95805.90625,
          95809.3125,
          95828.75,
          95813.3515625,
          95855.171875,
          95894.78125,
          95908.546875,
          95982.328125,
          96027.609375,
          96021.8828125,
          96072.15625,
          96133.6796875,
          96145.15625,
          96136.28125,
          96172.234375,
          96188.0078125,
          96166.6171875,
          96212.96875,
          96195.375,
          96215.265625,
          96257.8203125,
          96320.0703125,
          96333.6953125,
          96392.4375,
          96385.53125,
          96408.890625,
          96405.4375,
          96414.234375,
          96417.0390625,
          96431.46875,
          96456.96875,
          96454.640625,
          96477.984375,
          96478.5,
          96463.5625,
          96448.875,
          96452.9375,
          96453.8125,
          96447.6875,
          96462.859375,
          96464.7578125,
          96530.296875,
          96527.4921875,
          96506.078125,
          96492.5546875,
          96490.125,
          96487.1875,
          96457.328125,
          96459.3203125,
          96448.65625,
          96444.890625,
          96468.234375,
          96473.390625,
          96484.46875,
          96448.296875,
          96455.078125,
          96463.078125,
          96490.8828125,
          96494.71875,
          96501.8046875,
          96488.3046875,
          96509.53125,
          96509.546875,
          96491.515625,
          96514.65625,
          96512.4921875,
          96527.90625,
          96536.9296875,
          96558.484375,
          96565.1796875,
          96556.59375,
          96588.03125,
          96593.3125,
          96604.015625,
          96630.171875,
          96667.890625,
          96706.6953125,
          96703.125,
          96699.78125,
          96706.796875,
          96701.640625,
          96696.09375,
          96700.8671875,
          96669.09375,
          96660.375,
          96674.875,
          96659.78125,
          96691.6640625,
          96682.875,
          96686.34375,
          96691.7734375,
          96725.3203125,
          96748.234375,
          96787.796875,
          96796.78125,
          96798.4609375,
          96823.5625,
          96823.359375,
          96819.15625,
          96825.4375,
          96833.09375,
          96859.765625,
          96875.421875,
          96856.765625,
          96848.3125,
          96840.828125,
          96825.7265625,
          96821,
          96814.9453125,
          96794.0859375,
          96793.1875,
          96810.984375,
          96792.046875,
          96781.9375,
          96747.328125,
          96753.09375,
          96753.0234375,
          96754.9921875,
          96746.265625,
          96752.53125,
          96755.390625,
          96764.5625,
          96750.515625,
          96788.5859375,
          96797.890625,
          96790.6015625,
          96828.234375,
          96859.2421875,
          96871.375,
          96922.796875,
          96926.21875,
          96960.1796875,
          96952.015625,
          96963.0546875,
          96989.7578125,
          96994.203125,
          97067.234375,
          97083.0859375,
          97117.125,
          97172.734375,
          97166.8984375,
          97199.484375,
          97218.453125,
          97217.71875,
          97205.5234375,
          97196.15625,
          97212.390625,
          97211.03125,
          97172.3828125,
          97158.7421875,
          97136.875,
          97174.171875,
          97203.9921875,
          97183.3984375,
          97167.9609375,
          97189.59375,
          97215.390625,
          97203.1640625,
          97193.953125,
          97216.328125,
          97245.6875,
          97213.125,
          97213.453125,
          97239.9609375,
          97244.65625,
          97235.109375,
          97248.1484375,
          97281.171875,
          97287.8984375,
          97307.71875,
          97290.640625,
          97276.625,
          97266.1875,
          97287.90625,
          97286.828125,
          97306.484375,
          97340.140625,
          97328.84375,
          97311.203125,
          97320.8984375,
          97319.71875,
          97368.421875,
          97383.765625,
          97438.609375,
          97469.078125,
          97467.703125,
          97483.078125,
          97490.1640625,
          97501.921875,
          97505.21875,
          97498.609375,
          97486.2578125,
          97460.8125,
          97465.8125,
          97454.359375,
          97455.359375,
          97467.34375,
          97447.46875,
          97463.765625,
          97510.5,
          97521.8125,
          97515.0703125,
          97508.578125,
          97537.984375,
          97555.109375,
          97591.53125,
          97610.734375,
          97620.375,
          97606.078125,
          97648.328125,
          97649.6796875,
          97644.59375,
          97648.140625,
          97651.25,
          97656.953125,
          97647.3125,
          97645.703125,
          97642.0703125,
          97651.734375,
          97674.328125,
          97680.8125,
          97677.921875,
          97704.640625,
          97713.25,
          97728.6015625,
          97723.8125,
          97745.921875,
          97712.25,
          97722.15625,
          97737.171875,
          97738.546875,
          97772.109375,
          97793.765625,
          97796.609375,
          97848.453125,
          97827.640625,
          97830.5625,
          97852.734375,
          97896.0703125,
          97944.015625,
          97957.984375,
          97979.4375,
          97983.5390625,
          98004.4453125,
          98026.984375,
          98038.546875,
          98054.828125,
          98108.0859375,
          98109.3125,
          98123.90625,
          98124.6328125,
          98158.6875,
          98141.140625,
          98136.5625,
          98141.203125,
          98138,
          98162.875,
          98216.8125,
          98230.59375,
          98260.71875,
          98278.015625,
          98286.90625,
          98302.015625,
          98300.703125,
          98291.5546875,
          98292.4140625,
          98305.3046875,
          98310.109375,
          98322.75,
          98315.2265625,
          98320.453125,
          98307.359375,
          98317.71875,
          98335.1328125,
          98345.078125,
          98360.671875,
          98393.7734375,
          98378.2734375,
          98385.7890625,
          98398.28125,
          98366.984375,
          98396.0390625,
          98436.921875,
          98455.09375,
          98451.3359375,
          98490.25,
          98499,
          98502.046875,
          98500.3125,
          98504.609375,
          98506.59375,
          98515.265625,
          98517.7265625,
          98510.453125,
          98494.703125,
          98488.6796875,
          98500.890625,
          98526.5546875,
          98541.0078125,
          98556.640625,
          98545.5,
          98550.3359375,
          98546.890625,
          98550.953125,
          98550.578125,
          98542.984375
         ],
         "yaxis": "y2"
        }
       ],
       "layout": {
        "height": 400,
        "legend": {
         "orientation": "h",
         "x": 0,
         "xanchor": "left",
         "y": 1,
         "yanchor": "bottom"
        },
        "template": {
         "data": {
          "bar": [
           {
            "error_x": {
             "color": "#2a3f5f"
            },
            "error_y": {
             "color": "#2a3f5f"
            },
            "marker": {
             "line": {
              "color": "#E5ECF6",
              "width": 0.5
             },
             "pattern": {
              "fillmode": "overlay",
              "size": 10,
              "solidity": 0.2
             }
            },
            "type": "bar"
           }
          ],
          "barpolar": [
           {
            "marker": {
             "line": {
              "color": "#E5ECF6",
              "width": 0.5
             },
             "pattern": {
              "fillmode": "overlay",
              "size": 10,
              "solidity": 0.2
             }
            },
            "type": "barpolar"
           }
          ],
          "carpet": [
           {
            "aaxis": {
             "endlinecolor": "#2a3f5f",
             "gridcolor": "white",
             "linecolor": "white",
             "minorgridcolor": "white",
             "startlinecolor": "#2a3f5f"
            },
            "baxis": {
             "endlinecolor": "#2a3f5f",
             "gridcolor": "white",
             "linecolor": "white",
             "minorgridcolor": "white",
             "startlinecolor": "#2a3f5f"
            },
            "type": "carpet"
           }
          ],
          "choropleth": [
           {
            "colorbar": {
             "outlinewidth": 0,
             "ticks": ""
            },
            "type": "choropleth"
           }
          ],
          "contour": [
           {
            "colorbar": {
             "outlinewidth": 0,
             "ticks": ""
            },
            "colorscale": [
             [
              0,
              "#0d0887"
             ],
             [
              0.1111111111111111,
              "#46039f"
             ],
             [
              0.2222222222222222,
              "#7201a8"
             ],
             [
              0.3333333333333333,
              "#9c179e"
             ],
             [
              0.4444444444444444,
              "#bd3786"
             ],
             [
              0.5555555555555556,
              "#d8576b"
             ],
             [
              0.6666666666666666,
              "#ed7953"
             ],
             [
              0.7777777777777778,
              "#fb9f3a"
             ],
             [
              0.8888888888888888,
              "#fdca26"
             ],
             [
              1,
              "#f0f921"
             ]
            ],
            "type": "contour"
           }
          ],
          "contourcarpet": [
           {
            "colorbar": {
             "outlinewidth": 0,
             "ticks": ""
            },
            "type": "contourcarpet"
           }
          ],
          "heatmap": [
           {
            "colorbar": {
             "outlinewidth": 0,
             "ticks": ""
            },
            "colorscale": [
             [
              0,
              "#0d0887"
             ],
             [
              0.1111111111111111,
              "#46039f"
             ],
             [
              0.2222222222222222,
              "#7201a8"
             ],
             [
              0.3333333333333333,
              "#9c179e"
             ],
             [
              0.4444444444444444,
              "#bd3786"
             ],
             [
              0.5555555555555556,
              "#d8576b"
             ],
             [
              0.6666666666666666,
              "#ed7953"
             ],
             [
              0.7777777777777778,
              "#fb9f3a"
             ],
             [
              0.8888888888888888,
              "#fdca26"
             ],
             [
              1,
              "#f0f921"
             ]
            ],
            "type": "heatmap"
           }
          ],
          "heatmapgl": [
           {
            "colorbar": {
             "outlinewidth": 0,
             "ticks": ""
            },
            "colorscale": [
             [
              0,
              "#0d0887"
             ],
             [
              0.1111111111111111,
              "#46039f"
             ],
             [
              0.2222222222222222,
              "#7201a8"
             ],
             [
              0.3333333333333333,
              "#9c179e"
             ],
             [
              0.4444444444444444,
              "#bd3786"
             ],
             [
              0.5555555555555556,
              "#d8576b"
             ],
             [
              0.6666666666666666,
              "#ed7953"
             ],
             [
              0.7777777777777778,
              "#fb9f3a"
             ],
             [
              0.8888888888888888,
              "#fdca26"
             ],
             [
              1,
              "#f0f921"
             ]
            ],
            "type": "heatmapgl"
           }
          ],
          "histogram": [
           {
            "marker": {
             "pattern": {
              "fillmode": "overlay",
              "size": 10,
              "solidity": 0.2
             }
            },
            "type": "histogram"
           }
          ],
          "histogram2d": [
           {
            "colorbar": {
             "outlinewidth": 0,
             "ticks": ""
            },
            "colorscale": [
             [
              0,
              "#0d0887"
             ],
             [
              0.1111111111111111,
              "#46039f"
             ],
             [
              0.2222222222222222,
              "#7201a8"
             ],
             [
              0.3333333333333333,
              "#9c179e"
             ],
             [
              0.4444444444444444,
              "#bd3786"
             ],
             [
              0.5555555555555556,
              "#d8576b"
             ],
             [
              0.6666666666666666,
              "#ed7953"
             ],
             [
              0.7777777777777778,
              "#fb9f3a"
             ],
             [
              0.8888888888888888,
              "#fdca26"
             ],
             [
              1,
              "#f0f921"
             ]
            ],
            "type": "histogram2d"
           }
          ],
          "histogram2dcontour": [
           {
            "colorbar": {
             "outlinewidth": 0,
             "ticks": ""
            },
            "colorscale": [
             [
              0,
              "#0d0887"
             ],
             [
              0.1111111111111111,
              "#46039f"
             ],
             [
              0.2222222222222222,
              "#7201a8"
             ],
             [
              0.3333333333333333,
              "#9c179e"
             ],
             [
              0.4444444444444444,
              "#bd3786"
             ],
             [
              0.5555555555555556,
              "#d8576b"
             ],
             [
              0.6666666666666666,
              "#ed7953"
             ],
             [
              0.7777777777777778,
              "#fb9f3a"
             ],
             [
              0.8888888888888888,
              "#fdca26"
             ],
             [
              1,
              "#f0f921"
             ]
            ],
            "type": "histogram2dcontour"
           }
          ],
          "mesh3d": [
           {
            "colorbar": {
             "outlinewidth": 0,
             "ticks": ""
            },
            "type": "mesh3d"
           }
          ],
          "parcoords": [
           {
            "line": {
             "colorbar": {
              "outlinewidth": 0,
              "ticks": ""
             }
            },
            "type": "parcoords"
           }
          ],
          "pie": [
           {
            "automargin": true,
            "type": "pie"
           }
          ],
          "scatter": [
           {
            "fillpattern": {
             "fillmode": "overlay",
             "size": 10,
             "solidity": 0.2
            },
            "type": "scatter"
           }
          ],
          "scatter3d": [
           {
            "line": {
             "colorbar": {
              "outlinewidth": 0,
              "ticks": ""
             }
            },
            "marker": {
             "colorbar": {
              "outlinewidth": 0,
              "ticks": ""
             }
            },
            "type": "scatter3d"
           }
          ],
          "scattercarpet": [
           {
            "marker": {
             "colorbar": {
              "outlinewidth": 0,
              "ticks": ""
             }
            },
            "type": "scattercarpet"
           }
          ],
          "scattergeo": [
           {
            "marker": {
             "colorbar": {
              "outlinewidth": 0,
              "ticks": ""
             }
            },
            "type": "scattergeo"
           }
          ],
          "scattergl": [
           {
            "marker": {
             "colorbar": {
              "outlinewidth": 0,
              "ticks": ""
             }
            },
            "type": "scattergl"
           }
          ],
          "scattermapbox": [
           {
            "marker": {
             "colorbar": {
              "outlinewidth": 0,
              "ticks": ""
             }
            },
            "type": "scattermapbox"
           }
          ],
          "scatterpolar": [
           {
            "marker": {
             "colorbar": {
              "outlinewidth": 0,
              "ticks": ""
             }
            },
            "type": "scatterpolar"
           }
          ],
          "scatterpolargl": [
           {
            "marker": {
             "colorbar": {
              "outlinewidth": 0,
              "ticks": ""
             }
            },
            "type": "scatterpolargl"
           }
          ],
          "scatterternary": [
           {
            "marker": {
             "colorbar": {
              "outlinewidth": 0,
              "ticks": ""
             }
            },
            "type": "scatterternary"
           }
          ],
          "surface": [
           {
            "colorbar": {
             "outlinewidth": 0,
             "ticks": ""
            },
            "colorscale": [
             [
              0,
              "#0d0887"
             ],
             [
              0.1111111111111111,
              "#46039f"
             ],
             [
              0.2222222222222222,
              "#7201a8"
             ],
             [
              0.3333333333333333,
              "#9c179e"
             ],
             [
              0.4444444444444444,
              "#bd3786"
             ],
             [
              0.5555555555555556,
              "#d8576b"
             ],
             [
              0.6666666666666666,
              "#ed7953"
             ],
             [
              0.7777777777777778,
              "#fb9f3a"
             ],
             [
              0.8888888888888888,
              "#fdca26"
             ],
             [
              1,
              "#f0f921"
             ]
            ],
            "type": "surface"
           }
          ],
          "table": [
           {
            "cells": {
             "fill": {
              "color": "#EBF0F8"
             },
             "line": {
              "color": "white"
             }
            },
            "header": {
             "fill": {
              "color": "#C8D4E3"
             },
             "line": {
              "color": "white"
             }
            },
            "type": "table"
           }
          ]
         },
         "layout": {
          "annotationdefaults": {
           "arrowcolor": "#2a3f5f",
           "arrowhead": 0,
           "arrowwidth": 1
          },
          "autotypenumbers": "strict",
          "coloraxis": {
           "colorbar": {
            "outlinewidth": 0,
            "ticks": ""
           }
          },
          "colorscale": {
           "diverging": [
            [
             0,
             "#8e0152"
            ],
            [
             0.1,
             "#c51b7d"
            ],
            [
             0.2,
             "#de77ae"
            ],
            [
             0.3,
             "#f1b6da"
            ],
            [
             0.4,
             "#fde0ef"
            ],
            [
             0.5,
             "#f7f7f7"
            ],
            [
             0.6,
             "#e6f5d0"
            ],
            [
             0.7,
             "#b8e186"
            ],
            [
             0.8,
             "#7fbc41"
            ],
            [
             0.9,
             "#4d9221"
            ],
            [
             1,
             "#276419"
            ]
           ],
           "sequential": [
            [
             0,
             "#0d0887"
            ],
            [
             0.1111111111111111,
             "#46039f"
            ],
            [
             0.2222222222222222,
             "#7201a8"
            ],
            [
             0.3333333333333333,
             "#9c179e"
            ],
            [
             0.4444444444444444,
             "#bd3786"
            ],
            [
             0.5555555555555556,
             "#d8576b"
            ],
            [
             0.6666666666666666,
             "#ed7953"
            ],
            [
             0.7777777777777778,
             "#fb9f3a"
            ],
            [
             0.8888888888888888,
             "#fdca26"
            ],
            [
             1,
             "#f0f921"
            ]
           ],
           "sequentialminus": [
            [
             0,
             "#0d0887"
            ],
            [
             0.1111111111111111,
             "#46039f"
            ],
            [
             0.2222222222222222,
             "#7201a8"
            ],
            [
             0.3333333333333333,
             "#9c179e"
            ],
            [
             0.4444444444444444,
             "#bd3786"
            ],
            [
             0.5555555555555556,
             "#d8576b"
            ],
            [
             0.6666666666666666,
             "#ed7953"
            ],
            [
             0.7777777777777778,
             "#fb9f3a"
            ],
            [
             0.8888888888888888,
             "#fdca26"
            ],
            [
             1,
             "#f0f921"
            ]
           ]
          },
          "colorway": [
           "#636efa",
           "#EF553B",
           "#00cc96",
           "#ab63fa",
           "#FFA15A",
           "#19d3f3",
           "#FF6692",
           "#B6E880",
           "#FF97FF",
           "#FECB52"
          ],
          "font": {
           "color": "#2a3f5f"
          },
          "geo": {
           "bgcolor": "white",
           "lakecolor": "white",
           "landcolor": "#E5ECF6",
           "showlakes": true,
           "showland": true,
           "subunitcolor": "white"
          },
          "hoverlabel": {
           "align": "left"
          },
          "hovermode": "closest",
          "mapbox": {
           "style": "light"
          },
          "paper_bgcolor": "white",
          "plot_bgcolor": "#E5ECF6",
          "polar": {
           "angularaxis": {
            "gridcolor": "white",
            "linecolor": "white",
            "ticks": ""
           },
           "bgcolor": "#E5ECF6",
           "radialaxis": {
            "gridcolor": "white",
            "linecolor": "white",
            "ticks": ""
           }
          },
          "scene": {
           "xaxis": {
            "backgroundcolor": "#E5ECF6",
            "gridcolor": "white",
            "gridwidth": 2,
            "linecolor": "white",
            "showbackground": true,
            "ticks": "",
            "zerolinecolor": "white"
           },
           "yaxis": {
            "backgroundcolor": "#E5ECF6",
            "gridcolor": "white",
            "gridwidth": 2,
            "linecolor": "white",
            "showbackground": true,
            "ticks": "",
            "zerolinecolor": "white"
           },
           "zaxis": {
            "backgroundcolor": "#E5ECF6",
            "gridcolor": "white",
            "gridwidth": 2,
            "linecolor": "white",
            "showbackground": true,
            "ticks": "",
            "zerolinecolor": "white"
           }
          },
          "shapedefaults": {
           "line": {
            "color": "#2a3f5f"
           }
          },
          "ternary": {
           "aaxis": {
            "gridcolor": "white",
            "linecolor": "white",
            "ticks": ""
           },
           "baxis": {
            "gridcolor": "white",
            "linecolor": "white",
            "ticks": ""
           },
           "bgcolor": "#E5ECF6",
           "caxis": {
            "gridcolor": "white",
            "linecolor": "white",
            "ticks": ""
           }
          },
          "title": {
           "x": 0.05
          },
          "xaxis": {
           "automargin": true,
           "gridcolor": "white",
           "linecolor": "white",
           "ticks": "",
           "title": {
            "standoff": 15
           },
           "zerolinecolor": "white",
           "zerolinewidth": 2
          },
          "yaxis": {
           "automargin": true,
           "gridcolor": "white",
           "linecolor": "white",
           "ticks": "",
           "title": {
            "standoff": 15
           },
           "zerolinecolor": "white",
           "zerolinewidth": 2
          }
         }
        },
        "title": {
         "text": "LLC / WBIC Trace"
        },
        "width": 600,
        "xaxis": {
         "anchor": "y",
         "domain": [
          0,
          0.94
         ],
         "title": {
          "text": "Draws"
         }
        },
        "yaxis": {
         "anchor": "x",
         "domain": [
          0,
          1
         ],
         "range": [
          0,
          null
         ],
         "title": {
          "text": "LLC"
         }
        },
        "yaxis2": {
         "anchor": "x",
         "overlaying": "y",
         "showgrid": false,
         "side": "right",
         "title": {
          "text": "WBIC"
         }
        }
       }
      },
      "text/html": [
       "<div>                            <div id=\"84927dde-d93a-4beb-9dde-7c692999a62a\" class=\"plotly-graph-div\" style=\"height:400px; width:600px;\"></div>            <script type=\"text/javascript\">                require([\"plotly\"], function(Plotly) {                    window.PLOTLYENV=window.PLOTLYENV || {};                                    if (document.getElementById(\"84927dde-d93a-4beb-9dde-7c692999a62a\")) {                    Plotly.newPlot(                        \"84927dde-d93a-4beb-9dde-7c692999a62a\",                        [{\"line\":{\"color\":\"rgb(32, 102, 168)\",\"width\":3},\"name\":\"ngd LLC\",\"y\":[0.0027766746934503317,0.01868530735373497,0.0832894891500473,0.11794822663068771,0.1921319216489792,0.2811298370361328,0.45281386375427246,0.5876986980438232,0.5905187129974365,0.6556397676467896,0.804398238658905,0.8549272418022156,1.0118552446365356,1.1599462032318115,1.2135703563690186,1.4193229675292969,1.6687910556793213,1.826799988746643,2.0001258850097656,2.307277202606201,2.472931385040283,2.871216297149658,2.9807214736938477,3.254411458969116,3.5283737182617188,3.7482411861419678,3.9787135124206543,4.2811279296875,4.373063087463379,4.551565647125244,4.7369890213012695,5.023981094360352,5.3094401359558105,5.725964069366455,5.961313247680664,6.135379791259766,6.206737995147705,6.346065521240234,6.428428649902344,6.537580966949463,6.8073530197143555,7.033531188964844,7.231952667236328,7.338945388793945,7.390705108642578,7.537441253662109,7.669376373291016,8.010412216186523,8.20624828338623,8.33355712890625,8.612398147583008,8.749963760375977,8.924123764038086,9.26862907409668,9.649557113647461,9.932394027709961,10.058860778808594,10.312620162963867,10.454626083374023,10.812162399291992,11.084609985351562,11.263704299926758,11.572800636291504,11.715435028076172,12.052606582641602,12.270936965942383,12.430718421936035,12.6051025390625,12.927045822143555,13.170992851257324,13.425069808959961,13.720388412475586,13.992987632751465,14.256190299987793,14.492700576782227,14.632316589355469,14.786907196044922,15.154748916625977,15.40465259552002,15.574188232421875,15.840103149414062,16.00655174255371,16.295581817626953,16.46741485595703,16.753671646118164,16.87203598022461,17.195545196533203,17.436307907104492,17.620447158813477,17.820541381835938,18.037090301513672,18.281448364257812,18.47773551940918,18.54904556274414,18.712860107421875,18.863115310668945,19.02997589111328,19.158809661865234,19.262279510498047,19.54226303100586,19.703155517578125,19.8021240234375,19.847248077392578,19.980632781982422,20.08420181274414,20.300945281982422,20.430782318115234,20.579116821289062,20.70160675048828,20.824127197265625,20.994827270507812,21.104110717773438,21.231651306152344,21.28782844543457,21.59084701538086,21.72624969482422,21.858993530273438,21.961576461791992,22.19123077392578,22.309646606445312,22.467548370361328,22.540782928466797,22.6588077545166,22.849205017089844,22.96628189086914,23.11395263671875,23.35903549194336,23.457509994506836,23.55870819091797,23.647321701049805,23.740447998046875,23.804590225219727,23.919822692871094,23.992755889892578,24.048866271972656,24.158620834350586,24.239013671875,24.34795379638672,24.48553466796875,24.653358459472656,24.789072036743164,24.938796997070312,25.08916473388672,25.197036743164062,25.255403518676758,25.34857749938965,25.380386352539062,25.466508865356445,25.570615768432617,25.695131301879883,25.802635192871094,25.9648380279541,26.069799423217773,26.194637298583984,26.380077362060547,26.431312561035156,26.571521759033203,26.64295768737793,26.803518295288086,26.872316360473633,27.072593688964844,27.230384826660156,27.367918014526367,27.54535675048828,27.650665283203125,27.755334854125977,27.868404388427734,27.963001251220703,28.05547332763672,28.20807456970215,28.343612670898438,28.383228302001953,28.493534088134766,28.60793685913086,28.71124839782715,28.82737922668457,28.954967498779297,29.095211029052734,29.242961883544922,29.333274841308594,29.425262451171875,29.520889282226562,29.665660858154297,29.772253036499023,29.87600326538086,30.02444076538086,30.159814834594727,30.304279327392578,30.37485122680664,30.455562591552734,30.57094955444336,30.688541412353516,30.741233825683594,30.856464385986328,30.93539047241211,31.023483276367188,31.071147918701172,31.158218383789062,31.29230499267578,31.409847259521484,31.527141571044922,31.667007446289062,31.864967346191406,31.980300903320312,32.081764221191406,32.19759750366211,32.30475997924805,32.431114196777344,32.544979095458984,32.60155487060547,32.659767150878906,32.75061798095703,32.862205505371094,32.973018646240234,33.047691345214844,33.14722442626953,33.23556900024414,33.31941223144531,33.46582794189453,33.54072570800781,33.647796630859375,33.70391845703125,33.836883544921875,33.90184020996094,33.97673034667969,34.025020599365234,34.07332992553711,34.20146942138672,34.243568420410156,34.30412673950195,34.406951904296875,34.492698669433594,34.559600830078125,34.61737823486328,34.661865234375,34.71230697631836,34.75091552734375,34.81053924560547,34.87034606933594,34.937400817871094,35.004180908203125,35.09223937988281,35.13525390625,35.22108840942383,35.3316650390625,35.38608169555664,35.40693664550781,35.46375274658203,35.50067138671875,35.54540252685547,35.562522888183594,35.58384704589844,35.654991149902344,35.684425354003906,35.73639678955078,35.791236877441406,35.827239990234375,35.85478210449219,35.887168884277344,35.928871154785156,35.991188049316406,36.0515022277832,36.114707946777344,36.133758544921875,36.20478057861328,36.296295166015625,36.32632827758789,36.365943908691406,36.42918395996094,36.46291732788086,36.52349090576172,36.653350830078125,36.691856384277344,36.756126403808594,36.79153823852539,36.910400390625,37.033660888671875,37.06378173828125,37.130401611328125,37.211673736572266,37.258426666259766,37.31745910644531,37.38304138183594,37.390892028808594,37.41791915893555,37.42669677734375,37.443115234375,37.4719352722168,37.527984619140625,37.515586853027344,37.54289245605469,37.56027603149414,37.59791564941406,37.67555618286133,37.71596145629883,37.7728385925293,37.80535888671875,37.839019775390625,37.877777099609375,37.952064514160156,37.975341796875,38.018226623535156,38.03002166748047,38.02741241455078,38.05833053588867,38.08473587036133,38.13177490234375,38.18985366821289,38.25414276123047,38.29786682128906,38.38313674926758,38.408447265625,38.46668243408203,38.46690368652344,38.471134185791016,38.54103469848633,38.60729217529297,38.631500244140625,38.649662017822266,38.653770446777344,38.712303161621094,38.76435089111328,38.76165008544922,38.77973175048828,38.84917068481445,38.871253967285156,38.883628845214844,38.93016052246094,38.988616943359375,39.04594421386719,39.05321502685547,39.06282043457031,39.06011962890625,39.10057830810547,39.137367248535156,39.16086959838867,39.187774658203125,39.2005500793457,39.264739990234375,39.31221389770508,39.370235443115234,39.410003662109375,39.46923065185547,39.494964599609375,39.52050018310547,39.55916213989258,39.57880783081055,39.66435241699219,39.674224853515625,39.705345153808594,39.72889709472656,39.796043395996094,39.851707458496094,39.906917572021484,39.962318420410156,40.01459503173828,40.02333068847656,40.07408905029297,40.088253021240234,40.13492202758789,40.181976318359375,40.20635986328125,40.24345016479492,40.311058044433594,40.32176208496094,40.382850646972656,40.436561584472656,40.471336364746094,40.51390838623047,40.51805114746094,40.56013107299805,40.57300567626953,40.641029357910156,40.676177978515625,40.75364685058594,40.78020477294922,40.776798248291016,40.82130432128906,40.864402770996094,40.89978790283203,40.94644546508789,41.002769470214844,41.05363845825195,41.11216354370117,41.159881591796875,41.173377990722656,41.19488525390625,41.214637756347656,41.25550842285156,41.292152404785156,41.31439208984375,41.34254837036133,41.39411163330078,41.42513656616211,41.438453674316406,41.457557678222656,41.517112731933594,41.52539825439453,41.550331115722656,41.54890441894531,41.557273864746094,41.566070556640625,41.617164611816406,41.65764617919922,41.69850540161133,41.72681427001953,41.806556701660156,41.82305908203125,41.84105682373047,41.90489196777344,41.88803482055664,41.90910339355469,41.92241668701172,41.948848724365234,41.987762451171875,42.032100677490234,42.066837310791016,42.09901428222656,42.1005859375,42.12559509277344,42.12528991699219,42.14940643310547,42.183753967285156,42.201534271240234,42.18632888793945,42.210426330566406,42.221282958984375,42.22196960449219,42.23289489746094,42.246482849121094,42.276954650878906,42.31352996826172,42.31357955932617,42.34507369995117,42.38371658325195,42.394752502441406,42.437828063964844,42.48204040527344,42.548004150390625,42.589393615722656,42.63609313964844,42.652061462402344,42.674076080322266,42.670166015625,42.64999771118164,42.67316436767578,42.70185852050781,42.746009826660156,42.75056457519531,42.77021789550781,42.74785614013672,42.77531433105469,42.79911804199219,42.81012725830078,42.84388732910156,42.859127044677734,42.87647247314453,42.890296936035156,42.90088653564453,42.91747283935547,42.93214416503906,42.94319152832031,42.94966125488281,42.96665954589844,42.97215270996094,42.98329162597656,42.99610137939453,43.021240234375,43.055973052978516,43.07279586791992,43.09796905517578,43.129005432128906,43.136024475097656,43.14061737060547,43.18311309814453,43.22690200805664,43.23639678955078,43.256858825683594,43.27537536621094,43.271305084228516,43.280670166015625,43.30546569824219,43.29935073852539,43.30113220214844,43.31687545776367,43.347232818603516,43.35789489746094,43.377960205078125,43.41593933105469,43.42523193359375,43.452178955078125,43.475242614746094,43.47693634033203,43.49920654296875,43.5059814453125,43.52532958984375,43.532745361328125,43.529754638671875,43.52676773071289,43.558502197265625,43.55690002441406,43.574012756347656,43.571353912353516,43.587703704833984,43.57191467285156,43.5673828125,43.55492401123047,43.55946350097656,43.600128173828125,43.615623474121094,43.644500732421875,43.647422790527344,43.65882873535156,43.6546630859375,43.66570281982422,43.68705749511719,43.71112060546875,43.72584533691406,43.73508834838867,43.71539306640625,43.727386474609375,43.732460021972656,43.74899673461914,43.75922775268555,43.758514404296875,43.781776428222656,43.806800842285156,43.80103302001953,43.842193603515625,43.85942077636719,43.86775588989258,43.91214370727539,43.90686798095703,43.900169372558594,43.887062072753906,43.90874481201172,43.92681121826172,43.94775390625,43.93390655517578,43.9468994140625,43.93073654174805,43.94181823730469,43.946998596191406,43.97783279418945,43.96891784667969,43.9714469909668,43.998268127441406,44.015052795410156,44.01826477050781,44.023681640625,44.015377044677734,44.018733978271484,44.02679443359375,44.03925323486328,44.04798889160156,44.0829963684082,44.09971618652344,44.104820251464844,44.14870834350586,44.17157745361328,44.16980743408203,44.171836853027344,44.166561126708984,44.1812744140625,44.20240020751953,44.2181510925293,44.25232696533203,44.291748046875,44.308326721191406,44.323455810546875,44.35404968261719,44.37174987792969,44.36400604248047,44.35150146484375,44.360355377197266,44.35858154296875,44.37493133544922,44.365718841552734,44.423988342285156,44.45451736450195,44.49283218383789,44.49648666381836,44.49653625488281,44.51171112060547,44.526031494140625,44.54160690307617,44.56098937988281,44.57086181640625,44.57353973388672,44.58794021606445,44.60676956176758,44.61359405517578,44.6240119934082,44.656097412109375,44.65998077392578,44.686946868896484,44.682395935058594,44.67219543457031,44.69615936279297,44.724578857421875,44.745826721191406,44.741554260253906,44.757850646972656,44.75055694580078,44.76807403564453,44.766204833984375,44.78937530517578,44.79136657714844,44.80764389038086,44.81319808959961,44.81352996826172,44.83234405517578,44.859596252441406,44.85082244873047,44.86212921142578,44.85932159423828,44.86054229736328,44.86415100097656,44.87099075317383,44.87379455566406,44.886573791503906,44.9000358581543,44.89746856689453,44.929039001464844,44.94647979736328,44.967594146728516,44.973121643066406,44.98444366455078,44.989471435546875,45.00853729248047,45.0135498046875,45.041709899902344,45.049110412597656,45.05005645751953,45.07947540283203,45.08671188354492,45.087493896484375,45.10014343261719,45.09931945800781,45.12590026855469,45.14037322998047,45.15974807739258,45.16211700439453,45.19567108154297,45.21693420410156,45.22929382324219,45.238224029541016,45.286231994628906,45.300010681152344,45.3150520324707,45.33076477050781,45.353755950927734,45.383209228515625,45.42127227783203,45.43528747558594,45.43973159790039,45.453887939453125,45.46033477783203,45.47456359863281,45.47529602050781,45.48711395263672,45.48600387573242,45.5042724609375,45.52191925048828,45.52984619140625,45.541038513183594,45.56447982788086,45.58519744873047,45.58477020263672,45.59477996826172,45.60527801513672,45.61992645263672,45.62568664550781,45.61298370361328,45.6156005859375,45.627532958984375,45.640140533447266,45.64259338378906,45.672122955322266,45.66224670410156,45.65936279296875,45.674476623535156,45.68778991699219,45.68520736694336,45.693077087402344,45.68743133544922,45.68383026123047,45.68705368041992,45.680450439453125,45.67504119873047,45.66917419433594,45.68780517578125,45.67496109008789,45.66405487060547,45.65713882446289,45.65972137451172,45.660423278808594,45.6606559753418,45.65989303588867,45.66484832763672,45.6717643737793,45.68437957763672,45.684261322021484,45.686363220214844,45.68195343017578,45.69725799560547,45.6978874206543,45.70283508300781,45.70954895019531,45.71571350097656,45.709320068359375,45.71974182128906,45.724517822265625,45.739524841308594,45.74306869506836,45.7447624206543,45.73711395263672,45.73097229003906,45.72697448730469,45.7222900390625,45.73125457763672,45.73981475830078,45.7418212890625,45.74174499511719,45.74205780029297,45.736114501953125,45.72840118408203,45.72669219970703,45.722679138183594,45.73210144042969,45.74696350097656,45.740234375,45.75543212890625,45.74584197998047,45.74708557128906,45.757728576660156,45.7559814453125,45.74901580810547,45.759788513183594,45.77216339111328,45.780941009521484,45.773414611816406,45.779136657714844,45.78541564941406,45.794029235839844,45.79346466064453,45.802162170410156,45.81597137451172,45.824134826660156,45.8233757019043,45.82330322265625,45.828651428222656,45.841217041015625,45.841217041015625,45.846954345703125,45.85075378417969,45.848419189453125,45.85333251953125,45.84666442871094,45.83103561401367,45.83226013183594,45.831214904785156,45.84162139892578,45.85289764404297,45.862632751464844,45.881656646728516,45.891258239746094,45.890342712402344,45.885032653808594,45.89812469482422,45.93389892578125,45.92864990234375,45.951560974121094,45.97066879272461,45.98511505126953,46.01653289794922,46.035858154296875,46.04742431640625,46.053733825683594,46.0799560546875,46.10340881347656,46.12336730957031,46.13821792602539,46.15497970581055,46.17113494873047,46.18231964111328,46.200401306152344,46.20363998413086,46.2133903503418,46.22686004638672,46.236854553222656,46.251434326171875,46.243621826171875,46.262237548828125,46.24869155883789,46.23991012573242,46.24872970581055,46.25235366821289,46.25537872314453,46.262481689453125,46.26884078979492,46.282039642333984,46.27268981933594,46.286842346191406,46.30314636230469,46.313751220703125,46.302268981933594,46.2994384765625,46.29991912841797,46.29729461669922,46.29523468017578,46.303218841552734,46.31928253173828,46.327293395996094,46.33349609375,46.34777069091797,46.345252990722656,46.34086990356445,46.34071350097656,46.33587646484375,46.33736801147461,46.33116912841797,46.34004211425781,46.339969635009766,46.350563049316406,46.34551239013672,46.35202407836914,46.365234375,46.365318298339844,46.368507385253906,46.388771057128906,46.37401580810547,46.389801025390625,46.38868713378906,46.39386749267578,46.4129638671875,46.41770553588867,46.4060173034668,46.40447235107422,46.4148063659668,46.419044494628906,46.42044448852539,46.43531799316406,46.433921813964844,46.43096160888672,46.42462921142578,46.418277740478516,46.416019439697266,46.408775329589844,46.42508316040039,46.44718933105469,46.44964599609375,46.452415466308594,46.44255065917969,46.44936752319336,46.437644958496094,46.432830810546875,46.442481994628906,46.44142150878906,46.44072723388672,46.43653869628906,46.438812255859375,46.445274353027344,46.440948486328125,46.453330993652344,46.46907424926758,46.4744758605957,46.46852493286133,46.47010040283203,46.46031951904297,46.460716247558594,46.455177307128906,46.47299575805664,46.46533966064453,46.46578598022461,46.47772979736328,46.461334228515625,46.45518493652344,46.45803451538086,46.46003723144531,46.457557678222656,46.45952606201172,46.456390380859375,46.45964813232422,46.457679748535156,46.446372985839844,46.454490661621094,46.45869827270508,46.45849609375,46.45466613769531,46.45634841918945,46.46137237548828,46.47023010253906,46.4639778137207,46.46355438232422,46.4581298828125,46.453407287597656,46.45750427246094,46.459373474121094,46.46245574951172,46.45948791503906,46.451866149902344,46.450286865234375,46.453853607177734,46.463191986083984,46.4533576965332,46.44200897216797,46.44208908081055,46.45301818847656,46.464080810546875,46.468997955322266,46.47039794921875,46.46611785888672,46.464881896972656,46.45939636230469,46.463714599609375,46.46092224121094,46.46324157714844,46.47186279296875,46.46741485595703,46.470191955566406,46.482643127441406,46.48352813720703,46.478981018066406,46.4879150390625,46.494285583496094,46.507118225097656,46.50205993652344,46.49829864501953,46.48794937133789,46.482547760009766,46.47563934326172,46.485511779785156,46.49309158325195,46.49981689453125,46.495121002197266,46.49992370605469,46.50562286376953,46.507965087890625,46.50293731689453,46.504825592041016,46.497718811035156,46.49044418334961,46.4879150390625,46.49745178222656,46.496498107910156,46.497230529785156,46.48992156982422,46.488128662109375,46.4981689453125,46.51079559326172,46.50463104248047,46.500160217285156,46.49250411987305,46.50312042236328,46.50440216064453,46.501285552978516,46.52229690551758,46.52067565917969,46.533668518066406,46.54803466796875,46.56300354003906,46.57192611694336,46.586795806884766,46.5821533203125,46.582427978515625,46.570213317871094,46.561641693115234,46.575016021728516,46.568359375,46.56752014160156,46.57073974609375,46.569793701171875,46.5689582824707,46.566184997558594,46.560630798339844,46.558807373046875,46.559478759765625,46.55974578857422,46.57292175292969,46.58519744873047,46.589439392089844,46.58221435546875,46.584434509277344,46.589805603027344,46.58372116088867,46.59428787231445,46.59971618652344,46.60517883300781,46.617034912109375,46.609397888183594,46.617164611816406,46.62864685058594,46.62067413330078,46.63946533203125,46.653953552246094,46.64760208129883,46.651161193847656,46.66388702392578,46.6622200012207],\"type\":\"scatter\",\"xaxis\":\"x\",\"yaxis\":\"y\"},{\"line\":{\"color\":\"rgb(32, 102, 168)\",\"dash\":\"dash\",\"width\":6},\"name\":\"ngd WBIC\",\"y\":[20.828813552856445,57.01123809814453,203.94627380371094,282.77374267578125,451.496337890625,653.9122314453125,1044.388427734375,1351.1689453125,1357.582763671875,1505.693603515625,1844.0281982421875,1958.95068359375,2315.8662109375,2652.6826171875,2774.64453125,3242.60595703125,3809.993408203125,4169.3671875,4563.578125,5262.16015625,5638.921875,6544.7763671875,6793.833984375,7416.3115234375,8039.40869140625,8539.47265625,9063.65625,9751.46484375,9960.560546875,10366.544921875,10788.2685546875,11441.0,12090.244140625,13037.58203125,13572.8583984375,13968.7529296875,14131.048828125,14447.93359375,14635.259765625,14883.513671875,15497.08203125,16011.498046875,16462.78515625,16706.12890625,16823.849609375,17157.5859375,17457.65625,18233.3046875,18678.71484375,18968.263671875,19602.453125,19915.333984375,20311.439453125,21094.978515625,21961.357421875,22604.638671875,22892.2734375,23469.419921875,23792.396484375,24605.5703125,25225.224609375,25632.556640625,26335.5625,26659.966796875,27426.82421875,27923.39453125,28286.798828125,28683.41796875,29415.640625,29970.470703125,30548.33984375,31220.01171875,31840.0078125,32438.6328125,32976.546875,33294.08984375,33645.6875,34482.3046875,35050.68359375,35436.2734375,36041.06640625,36419.640625,37077.0,37467.8203125,38118.875,38388.0859375,39123.875,39671.4609375,40090.2578125,40545.3515625,41037.8671875,41593.6328125,42040.0625,42202.25,42574.8203125,42916.5625,43296.0703125,43589.0859375,43824.4140625,44461.203125,44827.140625,45052.23046875,45154.8671875,45458.234375,45693.7890625,46186.75,46482.046875,46819.421875,47098.015625,47376.6796875,47764.921875,48013.4609375,48303.546875,48431.3125,49120.4921875,49428.45703125,49730.36328125,49963.6796875,50486.0,50755.3125,51114.453125,51281.0234375,51549.4609375,51982.5,52248.77734375,52584.62890625,53142.04296875,53366.015625,53596.1796875,53797.71875,54009.5234375,54155.40625,54417.48828125,54583.37109375,54710.984375,54960.609375,55143.46484375,55391.23046875,55704.1484375,56085.8359375,56394.5078125,56735.046875,57077.03515625,57322.3828125,57455.1328125,57667.046875,57739.3984375,57935.2734375,58172.046875,58455.24609375,58699.75390625,59068.6640625,59307.3828125,59591.3125,60013.07421875,60129.6015625,60448.4921875,60610.96484375,60976.140625,61132.6171875,61588.1328125,61947.0,62259.8125,62663.3828125,62902.90234375,63140.953125,63398.1171875,63613.265625,63823.5859375,64170.66796875,64478.9296875,64569.03125,64819.9140625,65080.10546875,65315.07421875,65579.1953125,65869.3828125,66188.3515625,66524.3984375,66729.8046875,66939.015625,67156.515625,67485.78125,67728.21875,67964.1875,68301.78125,68609.6796875,68938.25,69098.765625,69282.328125,69544.765625,69812.21875,69932.046875,70194.125,70373.640625,70574.0,70682.40625,70880.4375,71185.3984375,71452.7421875,71719.515625,72037.6328125,72487.8671875,72750.171875,72980.953125,73244.3984375,73488.125,73775.5,74034.4921875,74163.15625,74295.5546875,74502.1875,74755.984375,75008.015625,75177.8359375,75404.21875,75605.140625,75795.8515625,76128.84375,76299.203125,76542.7109375,76670.3671875,76972.78125,77120.5,77290.828125,77400.65625,77510.53125,77801.984375,77897.734375,78035.4609375,78269.3203125,78464.3515625,78616.515625,78747.90625,78849.09375,78963.8125,79051.625,79187.2265625,79323.2578125,79475.765625,79627.640625,79827.9140625,79925.7421875,80120.9765625,80372.484375,80496.2421875,80543.671875,80672.90625,80756.859375,80858.59375,80897.53125,80946.03125,81107.828125,81174.78125,81292.9765625,81417.703125,81499.59375,81562.2265625,81635.890625,81730.7421875,81872.4765625,82009.65625,82153.40625,82196.75,82358.265625,82566.40625,82634.7109375,82724.8125,82868.65625,82945.375,83083.15625,83378.484375,83466.0703125,83612.25,83692.78125,83963.125,84243.46875,84311.96875,84463.484375,84648.3359375,84754.671875,84888.9375,85038.09375,85055.953125,85117.4140625,85137.3828125,85174.71875,85240.28125,85367.75,85339.5390625,85401.6484375,85441.1796875,85526.796875,85703.390625,85795.296875,85924.6484375,85998.6171875,86075.171875,86163.3125,86332.2734375,86385.21875,86482.75,86509.5703125,86503.640625,86573.953125,86634.0,86741.0,86873.09375,87019.3125,87118.765625,87312.703125,87370.265625,87502.71875,87503.21875,87512.8359375,87671.8125,87822.5078125,87877.5625,87918.875,87928.2109375,88061.34375,88179.7265625,88173.59375,88214.703125,88372.640625,88422.8671875,88451.0078125,88556.84375,88689.8046875,88820.1875,88836.734375,88858.5859375,88852.453125,88944.453125,89028.125,89081.5625,89142.7578125,89171.8125,89317.8125,89425.78125,89557.734375,89648.1875,89782.890625,89841.421875,89899.4921875,89987.4296875,90032.109375,90226.6875,90249.1328125,90319.90625,90373.484375,90526.203125,90652.796875,90778.359375,90904.390625,91023.265625,91043.15625,91158.578125,91190.78125,91296.9375,91403.9609375,91459.40625,91543.765625,91697.5390625,91721.875,91860.8125,91982.984375,92062.0625,92158.8828125,92168.296875,92264.015625,92293.3046875,92448.0078125,92527.953125,92704.140625,92764.546875,92756.8125,92858.0390625,92956.0625,93036.53125,93142.65625,93270.765625,93386.4609375,93519.5625,93628.09375,93658.796875,93707.703125,93752.6328125,93845.59375,93928.9296875,93979.5,94043.546875,94160.8203125,94231.390625,94261.6796875,94305.125,94440.59375,94459.421875,94516.1328125,94512.890625,94531.9296875,94551.9296875,94668.1328125,94760.203125,94853.140625,94917.515625,95098.890625,95136.4140625,95177.34375,95322.53125,95284.203125,95332.1171875,95362.390625,95422.515625,95511.015625,95611.828125,95690.84375,95764.03125,95767.59375,95824.484375,95823.765625,95878.609375,95956.734375,95997.15625,95962.59375,96017.3984375,96042.109375,96043.65625,96068.515625,96099.40625,96168.734375,96251.90625,96252.015625,96323.640625,96411.53125,96436.6328125,96534.6015625,96635.171875,96785.203125,96879.34375,96985.5625,97021.8671875,97071.9375,97063.046875,97017.1640625,97069.859375,97135.1171875,97235.53125,97245.8828125,97290.5859375,97239.734375,97302.1875,97356.3203125,97381.359375,97458.140625,97492.8046875,97532.25,97563.6796875,97587.78125,97625.5,97658.859375,97684.0078125,97698.71875,97737.375,97749.859375,97775.1875,97804.328125,97861.5,97940.4921875,97978.765625,98036.0234375,98106.609375,98122.5703125,98133.0234375,98229.6796875,98329.2734375,98350.8671875,98397.40625,98439.5,98430.25,98451.5390625,98507.9296875,98494.03125,98498.0859375,98533.890625,98602.9375,98627.1796875,98672.8125,98759.1875,98780.34375,98841.625,98894.078125,98897.9375,98948.5859375,98963.984375,99008.0,99024.8671875,99018.0625,99011.265625,99083.4375,99079.796875,99118.7109375,99112.671875,99149.859375,99113.9375,99103.6328125,99075.296875,99085.609375,99178.09375,99213.3359375,99279.015625,99285.65625,99311.59375,99302.109375,99327.21875,99375.796875,99430.515625,99464.015625,99485.03125,99440.234375,99467.53125,99479.0625,99516.671875,99539.9375,99538.3125,99591.21875,99648.1484375,99635.015625,99728.625,99767.796875,99786.765625,99887.71875,99875.7265625,99860.484375,99830.6640625,99879.984375,99921.078125,99968.7109375,99937.21875,99966.765625,99930.0,99955.203125,99966.984375,100037.109375,100016.828125,100022.578125,100083.578125,100121.75,100129.0625,100141.3828125,100122.5,100130.125,100148.46875,100176.7890625,100196.6640625,100276.2734375,100314.296875,100325.9140625,100425.7265625,100477.7421875,100473.703125,100478.34375,100466.34375,100499.8125,100547.8515625,100583.6796875,100661.40625,100751.0625,100788.765625,100823.1875,100892.765625,100933.0234375,100915.4140625,100886.9921875,100907.1171875,100903.0625,100940.265625,100919.3125,101051.828125,101121.265625,101208.4140625,101216.71875,101216.8359375,101251.3515625,101283.90625,101319.3359375,101363.421875,101385.875,101391.953125,101424.703125,101467.53125,101483.0625,101506.75,101579.734375,101588.5625,101649.890625,101639.5390625,101616.34375,101670.84375,101735.484375,101783.8125,101774.109375,101811.171875,101794.5859375,101834.421875,101830.171875,101882.875,101887.40625,101924.421875,101937.0625,101937.8046875,101980.59375,102042.578125,102022.6328125,102048.34375,102041.953125,102044.734375,102052.9296875,102068.4921875,102074.875,102103.9375,102134.5546875,102128.71875,102200.515625,102240.1875,102288.21875,102300.78125,102326.53125,102337.9609375,102381.328125,102392.71875,102456.7578125,102473.59375,102475.7421875,102542.6484375,102559.125,102560.890625,102589.671875,102587.796875,102648.25,102681.15625,102725.2265625,102730.625,102806.9375,102855.2890625,102883.40625,102903.734375,103012.9375,103044.25,103078.4765625,103114.203125,103166.5,103233.5,103320.0625,103351.9453125,103362.0625,103394.25,103408.90625,103441.265625,103442.9375,103469.828125,103467.296875,103508.84375,103548.9921875,103567.0234375,103592.4765625,103645.78125,103692.9140625,103691.9375,103714.7109375,103738.59375,103771.90625,103785.0,103756.1171875,103762.0625,103789.1953125,103817.875,103823.453125,103890.609375,103868.1484375,103861.59375,103895.9609375,103926.25,103920.3671875,103938.265625,103925.421875,103917.234375,103924.5625,103909.53125,103897.234375,103883.890625,103926.2734375,103897.0625,103872.25,103856.515625,103862.40625,103864.0,103864.53125,103862.78125,103874.0625,103889.78125,103918.46875,103918.21875,103922.9921875,103912.96875,103947.7890625,103949.21875,103960.46875,103975.734375,103989.765625,103975.2265625,103998.921875,104009.78125,104043.9140625,104051.96875,104055.8125,104038.4375,104024.4609375,104015.375,104004.703125,104025.0859375,104044.578125,104049.125,104048.96875,104049.65625,104036.140625,104018.6015625,104014.71875,104005.59375,104027.0234375,104060.8125,104045.515625,104080.0859375,104058.265625,104061.09375,104085.296875,104081.3203125,104065.484375,104089.984375,104118.125,104138.09375,104120.96875,104133.984375,104148.25,104167.84375,104166.5625,104186.3203125,104217.734375,104236.296875,104234.5625,104234.40625,104246.578125,104275.1484375,104275.15625,104288.203125,104296.84375,104291.5390625,104302.7109375,104287.546875,104251.984375,104254.78125,104252.390625,104276.0546875,104301.6953125,104323.859375,104367.125,104388.953125,104386.890625,104374.8125,104404.578125,104485.9453125,104474.015625,104526.125,104569.578125,104602.4296875,104673.8984375,104717.84375,104744.1484375,104758.4921875,104818.140625,104871.46875,104916.875,104950.65625,104988.7734375,105025.515625,105050.96875,105092.0859375,105099.46875,105121.640625,105152.265625,105175.0,105208.140625,105190.3828125,105232.734375,105201.921875,105181.953125,105202.015625,105210.2578125,105217.125,105233.2890625,105247.7578125,105277.765625,105256.515625,105288.703125,105325.796875,105349.90625,105323.78125,105317.359375,105318.4375,105312.46875,105307.796875,105325.953125,105362.484375,105380.6953125,105394.8125,105427.2734375,105421.53125,105411.5625,105411.203125,105400.1875,105403.578125,105389.46875,105409.65625,105409.484375,105433.578125,105422.09375,105436.890625,105466.9453125,105467.125,105474.390625,105520.46875,105486.921875,105522.828125,105520.296875,105532.0703125,105575.515625,105586.296875,105559.703125,105556.203125,105579.6875,105589.328125,105592.515625,105626.34375,105623.15625,105616.421875,105602.0234375,105587.578125,105582.4375,105565.953125,105603.0625,105653.34375,105658.921875,105665.21875,105642.7890625,105658.28125,105631.625,105620.671875,105642.6328125,105640.2109375,105638.6328125,105629.109375,105634.28125,105648.984375,105639.140625,105667.296875,105703.109375,105715.3984375,105701.8515625,105705.4375,105683.1953125,105684.109375,105671.5,105712.03125,105694.625,105695.6328125,105722.8125,105685.5234375,105671.53125,105678.015625,105682.578125,105676.9375,105681.4140625,105674.28125,105681.6953125,105677.2109375,105651.5,105669.96875,105679.53125,105679.0703125,105670.3671875,105674.1875,105685.609375,105705.75,105691.515625,105690.5625,105678.2265625,105667.484375,105676.8046875,105681.0625,105688.078125,105681.328125,105664.0,105660.3984375,105668.515625,105689.765625,105667.3984375,105641.5859375,105641.7578125,105666.625,105691.78125,105702.9453125,105706.125,105696.4140625,105693.578125,105681.09375,105690.9296875,105684.578125,105689.859375,105709.453125,105699.3515625,105705.65625,105733.984375,105736.0,105725.65625,105745.984375,105760.4609375,105789.6484375,105778.140625,105769.609375,105746.0625,105733.78125,105718.0703125,105740.5390625,105757.78125,105773.0625,105762.390625,105773.3125,105786.265625,105791.59375,105780.1640625,105784.453125,105768.296875,105751.734375,105745.984375,105767.671875,105765.5,105767.15625,105750.546875,105746.46875,105769.3125,105798.03125,105784.0,105773.84375,105756.421875,105780.578125,105783.5,105776.40625,105824.1953125,105820.5,105850.03125,105882.7265625,105916.78125,105937.0625,105970.875,105960.3125,105960.9296875,105933.15625,105913.65625,105944.078125,105928.9375,105927.015625,105934.34375,105932.1875,105930.28125,105923.9765625,105911.359375,105907.2265625,105908.7578125,105909.34375,105939.3125,105967.234375,105976.8828125,105960.453125,105965.515625,105977.71875,105963.890625,105987.921875,106000.265625,106012.671875,106039.65625,106022.28125,106039.953125,106066.0625,106047.9375,106090.671875,106123.625,106109.1796875,106117.28125,106146.21875,106142.421875],\"type\":\"scatter\",\"xaxis\":\"x\",\"yaxis\":\"y2\"},{\"line\":{\"color\":\"rgb(200, 0, 0)\",\"width\":3},\"name\":\"sgd LLC\",\"y\":[-0.0028833323158323765,0.016448721289634705,0.022311244159936905,0.026336954906582832,0.02542250230908394,0.2904868721961975,0.3261377215385437,0.442143976688385,0.4487640857696533,0.46898454427719116,0.6414531469345093,0.6693471670150757,0.9630783796310425,1.3965989351272583,1.5177454948425293,1.9209527969360352,2.114372491836548,2.3161234855651855,2.5154099464416504,2.622544765472412,2.913607358932495,2.909804105758667,3.184081554412842,3.494401216506958,3.8034355640411377,3.8946917057037354,4.074493885040283,4.167899131774902,4.427534103393555,4.684951305389404,5.0126237869262695,5.096529960632324,5.235982894897461,5.42025899887085,5.576011657714844,5.684029579162598,5.746729373931885,5.992551326751709,6.161871910095215,6.382297515869141,6.529829025268555,6.703960418701172,6.885469436645508,7.055706024169922,7.193105697631836,7.445160865783691,7.806149482727051,7.947967529296875,8.109258651733398,8.402853965759277,8.733846664428711,8.891664505004883,9.067476272583008,9.231937408447266,9.326505661010742,9.586387634277344,9.862405776977539,10.112756729125977,10.342069625854492,10.4956693649292,10.715304374694824,10.825860977172852,10.940357208251953,11.236021041870117,11.56649398803711,11.745622634887695,11.956436157226562,12.148965835571289,12.384063720703125,12.523529052734375,12.634029388427734,12.91419792175293,13.010944366455078,13.205328941345215,13.424409866333008,13.688642501831055,13.71026611328125,13.967016220092773,14.122961044311523,14.375454902648926,14.570524215698242,14.785022735595703,15.038312911987305,15.163602828979492,15.383769035339355,15.51759147644043,15.695502281188965,15.855401039123535,16.097562789916992,16.209617614746094,16.383338928222656,16.51647186279297,16.574954986572266,16.680877685546875,16.76068878173828,16.95832061767578,17.263870239257812,17.458873748779297,17.572134017944336,17.70296287536621,17.8555908203125,17.99465560913086,18.185640335083008,18.408479690551758,18.547927856445312,18.643199920654297,18.90929412841797,19.107938766479492,19.289302825927734,19.453712463378906,19.619686126708984,19.65583038330078,19.748563766479492,19.826053619384766,19.978107452392578,20.045475006103516,20.193845748901367,20.257976531982422,20.358097076416016,20.521541595458984,20.687410354614258,20.819427490234375,21.020273208618164,21.094863891601562,21.25523567199707,21.383033752441406,21.529117584228516,21.685710906982422,21.855066299438477,22.031261444091797,22.160320281982422,22.376996994018555,22.448326110839844,22.551883697509766,22.63756561279297,22.69746971130371,22.774259567260742,22.927936553955078,23.061683654785156,23.199851989746094,23.309968948364258,23.416915893554688,23.559350967407227,23.72105598449707,23.806068420410156,23.921875,24.050769805908203,24.202898025512695,24.327274322509766,24.450183868408203,24.58435821533203,24.760025024414062,24.83414077758789,24.91863250732422,24.976295471191406,25.07520294189453,25.174575805664062,25.245338439941406,25.345380783081055,25.404504776000977,25.613296508789062,25.717927932739258,25.803314208984375,25.961280822753906,26.040042877197266,26.14134979248047,26.217735290527344,26.278430938720703,26.34398651123047,26.51230812072754,26.55063819885254,26.685956954956055,26.759416580200195,26.865535736083984,26.943758010864258,27.085681915283203,27.261173248291016,27.369136810302734,27.458362579345703,27.541872024536133,27.628501892089844,27.747474670410156,27.89614486694336,27.993825912475586,28.056846618652344,28.12970542907715,28.234695434570312,28.311826705932617,28.37213706970215,28.48871612548828,28.524919509887695,28.62857437133789,28.791996002197266,28.93521499633789,29.027206420898438,29.16617202758789,29.282350540161133,29.372514724731445,29.498435974121094,29.57979393005371,29.639230728149414,29.776058197021484,29.827911376953125,29.888206481933594,29.95479965209961,30.060117721557617,30.12492561340332,30.158794403076172,30.21217918395996,30.299083709716797,30.335037231445312,30.376686096191406,30.473854064941406,30.597869873046875,30.70977020263672,30.803974151611328,30.909469604492188,30.922630310058594,30.944259643554688,31.00048065185547,31.05126190185547,31.075027465820312,31.10540008544922,31.12485122680664,31.182613372802734,31.192169189453125,31.263803482055664,31.322423934936523,31.378662109375,31.405567169189453,31.460453033447266,31.50799560546875,31.54961395263672,31.593738555908203,31.6291561126709,31.67310905456543,31.743831634521484,31.801605224609375,31.86317253112793,31.910860061645508,31.973915100097656,32.04282760620117,32.11293411254883,32.2469596862793,32.31412124633789,32.37824249267578,32.45628356933594,32.47918701171875,32.569427490234375,32.606536865234375,32.65715408325195,32.704769134521484,32.784332275390625,32.843292236328125,32.91341781616211,32.973087310791016,33.00932312011719,33.03313446044922,33.05182647705078,33.12187194824219,33.19136047363281,33.24821853637695,33.310157775878906,33.33156967163086,33.41474151611328,33.449249267578125,33.53815460205078,33.59954833984375,33.709815979003906,33.80127716064453,33.87675476074219,33.970943450927734,34.05171203613281,34.13037109375,34.19340896606445,34.25938415527344,34.36297607421875,34.464229583740234,34.51750946044922,34.55653762817383,34.549129486083984,34.581851959228516,34.66007995605469,34.71019744873047,34.76190948486328,34.810394287109375,34.84880828857422,34.876983642578125,34.91324234008789,34.97998046875,35.06128692626953,35.13457107543945,35.19086837768555,35.235618591308594,35.305450439453125,35.373069763183594,35.42987823486328,35.49747085571289,35.5235595703125,35.573768615722656,35.64809799194336,35.67035675048828,35.78400421142578,35.826324462890625,35.883544921875,35.936038970947266,35.989349365234375,36.040672302246094,36.033241271972656,36.04747772216797,36.080299377441406,36.152015686035156,36.224971771240234,36.21794128417969,36.216373443603516,36.239559173583984,36.267738342285156,36.313079833984375,36.42375946044922,36.45502853393555,36.48466491699219,36.54582214355469,36.55195236206055,36.55500030517578,36.585533142089844,36.60855484008789,36.63642883300781,36.680152893066406,36.68263244628906,36.68899917602539,36.689048767089844,36.70164489746094,36.71717834472656,36.73686981201172,36.75029754638672,36.772621154785156,36.82598876953125,36.87328338623047,36.88665008544922,36.90185546875,36.93144226074219,36.972618103027344,36.98143768310547,37.01112365722656,37.00154113769531,37.04290008544922,37.063568115234375,37.093997955322266,37.14369583129883,37.14588165283203,37.23565673828125,37.26692199707031,37.307899475097656,37.33544921875,37.39938735961914,37.43610382080078,37.485015869140625,37.51292419433594,37.51329803466797,37.54537582397461,37.57574462890625,37.62998962402344,37.656959533691406,37.69025802612305,37.731773376464844,37.74375534057617,37.8148193359375,37.83247375488281,37.86109924316406,37.90156555175781,37.94196319580078,37.96331024169922,37.96940612792969,38.002201080322266,38.05615234375,38.047279357910156,38.12151336669922,38.19181823730469,38.21162033081055,38.26531982421875,38.29956817626953,38.33821105957031,38.36634826660156,38.378665924072266,38.394447326660156,38.41215515136719,38.42320251464844,38.45906448364258,38.49315643310547,38.51394271850586,38.53207015991211,38.55262756347656,38.59857940673828,38.638431549072266,38.70004653930664,38.711334228515625,38.73241424560547,38.742958068847656,38.77325439453125,38.79264831542969,38.81523895263672,38.838932037353516,38.83740997314453,38.8693962097168,38.904273986816406,38.90010070800781,38.92813491821289,38.94480895996094,38.982887268066406,39.030555725097656,39.01605987548828,39.03095626831055,39.04023361206055,39.063697814941406,39.10676193237305,39.12281799316406,39.14165496826172,39.15886688232422,39.14802551269531,39.139495849609375,39.13469696044922,39.150611877441406,39.1512451171875,39.16797637939453,39.17616271972656,39.1859130859375,39.22063446044922,39.231414794921875,39.263648986816406,39.27461624145508,39.30216598510742,39.30685806274414,39.307350158691406,39.327735900878906,39.36273193359375,39.38059997558594,39.378639221191406,39.406402587890625,39.43792724609375,39.4603271484375,39.49196243286133,39.5225715637207,39.53614807128906,39.528236389160156,39.54278564453125,39.56254196166992,39.577919006347656,39.589019775390625,39.58393859863281,39.60435485839844,39.60627746582031,39.62151336669922,39.63854217529297,39.66021728515625,39.69363021850586,39.7215461730957,39.75202178955078,39.7989501953125,39.830406188964844,39.84937286376953,39.85675811767578,39.8976936340332,39.931114196777344,39.950355529785156,39.96900939941406,39.98828125,40.000003814697266,40.04448318481445,40.07246780395508,40.07111740112305,40.108009338378906,40.11848449707031,40.15240478515625,40.149322509765625,40.12976837158203,40.1350212097168,40.143760681152344,40.155029296875,40.166831970214844,40.16802215576172,40.16962814331055,40.2089958190918,40.245052337646484,40.25918197631836,40.293113708496094,40.29364776611328,40.30375289916992,40.33103942871094,40.336341857910156,40.32992172241211,40.323211669921875,40.34912872314453,40.36271667480469,40.38951110839844,40.409358978271484,40.394081115722656,40.420257568359375,40.44319152832031,40.45674514770508,40.4479866027832,40.47003173828125,40.48640060424805,40.47174835205078,40.48757553100586,40.52348327636719,40.51451873779297,40.52878952026367,40.556915283203125,40.5528450012207,40.570045471191406,40.600242614746094,40.61566925048828,40.65205383300781,40.673614501953125,40.677093505859375,40.686058044433594,40.700130462646484,40.715187072753906,40.75770568847656,40.80747985839844,40.824344635009766,40.836002349853516,40.86444854736328,40.8851318359375,40.90777587890625,40.918312072753906,40.93101501464844,40.9716796875,40.97388458251953,40.9786376953125,40.982643127441406,41.00361633300781,41.015830993652344,41.03679656982422,41.045982360839844,41.05788040161133,41.07058334350586,41.08428955078125,41.10146713256836,41.118927001953125,41.122596740722656,41.13663864135742,41.17127990722656,41.16974639892578,41.18465805053711,41.1767463684082,41.198951721191406,41.203712463378906,41.214725494384766,41.24460983276367,41.259979248046875,41.29511260986328,41.311073303222656,41.33924102783203,41.3536491394043,41.369102478027344,41.38543701171875,41.3922119140625,41.397457122802734,41.410804748535156,41.43314743041992,41.42870330810547,41.45734405517578,41.454627990722656,41.487037658691406,41.52188491821289,41.52545928955078,41.53591537475586,41.556007385253906,41.5516242980957,41.55122375488281,41.581268310546875,41.593204498291016,41.605438232421875,41.605796813964844,41.611549377441406,41.63190841674805,41.62687683105469,41.634681701660156,41.61957550048828,41.62800598144531,41.63261413574219,41.637351989746094,41.633880615234375,41.64305877685547,41.64299392700195,41.658870697021484,41.66712188720703,41.67060852050781,41.669189453125,41.665504455566406,41.68318557739258,41.68377685546875,41.69708251953125,41.68695831298828,41.68950653076172,41.694129943847656,41.69944763183594,41.714317321777344,41.71987533569336,41.71354675292969,41.708763122558594,41.70056915283203,41.71494674682617,41.725006103515625,41.747352600097656,41.753379821777344,41.76201248168945,41.76947784423828,41.77667236328125,41.76373291015625,41.77973937988281,41.77616882324219,41.768768310546875,41.75990295410156,41.76764678955078,41.777767181396484,41.7876091003418,41.791385650634766,41.78953552246094,41.8094482421875,41.822509765625,41.82252502441406,41.80193328857422,41.78973388671875,41.80665969848633,41.809974670410156,41.81178283691406,41.803279876708984,41.809364318847656,41.811683654785156,41.83237838745117,41.840248107910156,41.843650817871094,41.83985137939453,41.855438232421875,41.84880065917969,41.85456085205078,41.87708282470703,41.88966369628906,41.90740203857422,41.92241668701172,41.91118621826172,41.919029235839844,41.9183235168457,41.9318962097168,41.9383544921875,41.96284484863281,41.975196838378906,41.972740173339844,41.98089599609375,41.97613525390625,41.97477722167969,41.971805572509766,41.96055603027344,41.950843811035156,41.96339416503906,41.96942138671875,41.97113037109375,41.984619140625,41.98907470703125,41.99237823486328,41.99477767944336,42.00169372558594,41.9969482421875,41.98772430419922,41.98561477661133,41.974937438964844,41.97295379638672,41.97043991088867,41.977455139160156,41.97317886352539,41.955116271972656,41.948097229003906,41.94452667236328,41.94853210449219,41.949737548828125,41.950050354003906,41.95184326171875,41.95792007446289,41.97124099731445,41.983856201171875,41.99248504638672,42.005714416503906,42.02527618408203,42.02375793457031,42.018863677978516,42.021263122558594,42.021141052246094,42.054203033447266,42.07072448730469,42.08025360107422,42.08774185180664,42.123390197753906,42.119041442871094,42.12054443359375,42.12908935546875,42.12232208251953,42.140708923339844,42.15812301635742,42.16417694091797,42.19662094116211,42.216522216796875,42.21400451660156,42.236106872558594,42.26316452026367,42.26820755004883,42.26430892944336,42.28011703491211,42.28704833984375,42.277645111083984,42.29802703857422,42.290283203125,42.299034118652344,42.31774139404297,42.34510803222656,42.351097106933594,42.37692642211914,42.37389373779297,42.38417053222656,42.38264846801758,42.38652038574219,42.38774871826172,42.39409637451172,42.40530776977539,42.40428924560547,42.41454315185547,42.414772033691406,42.408203125,42.40175247192383,42.40353775024414,42.40392303466797,42.40122985839844,42.40789794921875,42.40873336791992,42.43755340576172,42.436317443847656,42.42690658569336,42.42095947265625,42.419891357421875,42.41859436035156,42.40546798706055,42.40634536743164,42.40165710449219,42.400001525878906,42.41027069091797,42.41252899169922,42.41740417480469,42.4015007019043,42.40447998046875,42.407997131347656,42.420223236083984,42.421905517578125,42.42502212524414,42.41908264160156,42.42841720581055,42.428428649902344,42.420501708984375,42.43067932128906,42.429718017578125,42.436500549316406,42.440467834472656,42.449951171875,42.45288848876953,42.44911193847656,42.46293640136719,42.46525573730469,42.46996307373047,42.48146057128906,42.498046875,42.515106201171875,42.51353454589844,42.51206970214844,42.51515579223633,42.51288986206055,42.51045227050781,42.512550354003906,42.49858093261719,42.4947509765625,42.501121520996094,42.49449157714844,42.508506774902344,42.504638671875,42.50616455078125,42.50855255126953,42.52330017089844,42.53337860107422,42.55076599121094,42.55471420288086,42.55545425415039,42.566497802734375,42.566410064697266,42.56455993652344,42.56732177734375,42.57068634033203,42.58241271972656,42.58930206298828,42.581092834472656,42.57737731933594,42.57408142089844,42.56744384765625,42.56536865234375,42.56269836425781,42.55352783203125,42.55313491821289,42.56095886230469,42.552635192871094,42.54819107055664,42.53296661376953,42.53550338745117,42.53547668457031,42.53633499145508,42.53249740600586,42.53525161743164,42.5365104675293,42.54054641723633,42.53437042236328,42.551109313964844,42.55520248413086,42.55199432373047,42.56854248046875,42.582176208496094,42.58750915527344,42.61012649536133,42.61163330078125,42.626564025878906,42.62297821044922,42.627830505371094,42.63957214355469,42.64152526855469,42.67363739013672,42.68060302734375,42.69557189941406,42.72001647949219,42.71745300292969,42.731781005859375,42.7401237487793,42.739803314208984,42.73443603515625,42.730323791503906,42.737464904785156,42.73686218261719,42.719879150390625,42.71387481689453,42.704261779785156,42.720664978027344,42.733768463134766,42.72471618652344,42.717926025390625,42.727439880371094,42.73877716064453,42.73340606689453,42.7293586730957,42.73919677734375,42.752105712890625,42.73778533935547,42.73793029785156,42.74958038330078,42.75164794921875,42.74744415283203,42.75318145751953,42.7677001953125,42.77065658569336,42.77937316894531,42.77186584472656,42.765708923339844,42.76111602783203,42.770660400390625,42.77018737792969,42.778831481933594,42.79362106323242,42.78865432739258,42.78090286254883,42.785160064697266,42.784637451171875,42.806053161621094,42.81279754638672,42.8369140625,42.850311279296875,42.849708557128906,42.856468200683594,42.859580993652344,42.864749908447266,42.86620330810547,42.86330032348633,42.85786819458008,42.846675872802734,42.848876953125,42.843841552734375,42.84428405761719,42.849552154541016,42.84081268310547,42.847984313964844,42.868534088134766,42.873504638671875,42.87054443359375,42.86769485473633,42.88062286376953,42.888145446777344,42.9041633605957,42.91260528564453,42.91684341430664,42.910552978515625,42.92913055419922,42.929725646972656,42.927490234375,42.929054260253906,42.930416107177734,42.93292236328125,42.928688049316406,42.927978515625,42.92638397216797,42.930633544921875,42.94056701660156,42.94342041015625,42.94215393066406,42.953895568847656,42.957679748535156,42.96442413330078,42.962318420410156,42.972042083740234,42.957237243652344,42.96159362792969,42.96819305419922,42.96879959106445,42.983551025390625,42.993072509765625,42.994319915771484,43.01711654663086,43.007965087890625,43.009246826171875,43.01899719238281,43.038047790527344,43.05913543701172,43.065277099609375,43.07470703125,43.07651138305664,43.0857048034668,43.09561538696289,43.10069274902344,43.10785675048828,43.13127136230469,43.131813049316406,43.13823318481445,43.138553619384766,43.153526306152344,43.14581298828125,43.143795013427734,43.145835876464844,43.14442443847656,43.155357360839844,43.17906951904297,43.18512725830078,43.19837188720703,43.205970764160156,43.209877014160156,43.216522216796875,43.2159423828125,43.21192169189453,43.212303161621094,43.21797180175781,43.2200813293457,43.225643157958984,43.22233963012695,43.224639892578125,43.21888732910156,43.22343444824219,43.231082916259766,43.23545837402344,43.24231719970703,43.256874084472656,43.25006103515625,43.25336456298828,43.25885772705078,43.24509811401367,43.25787353515625,43.275848388671875,43.283836364746094,43.282188415527344,43.299293518066406,43.30313491821289,43.304481506347656,43.30371856689453,43.305606842041016,43.306480407714844,43.3102912902832,43.31138229370117,43.30818176269531,43.30126190185547,43.298614501953125,43.303977966308594,43.31526184082031,43.32161331176758,43.328487396240234,43.32358932495117,43.325714111328125,43.324195861816406,43.32598114013672,43.32581329345703,43.32248306274414],\"type\":\"scatter\",\"xaxis\":\"x\",\"yaxis\":\"y\"},{\"line\":{\"color\":\"rgb(200, 0, 0)\",\"dash\":\"dash\",\"width\":6},\"name\":\"sgd WBIC\",\"y\":[4.31661319732666,48.28522872924805,61.61888885498047,70.77491760253906,68.69509887695312,671.5545654296875,752.638427734375,1016.4818115234375,1031.5384521484375,1077.5277099609375,1469.788330078125,1533.230224609375,2201.28955078125,3187.283447265625,3462.81787109375,4379.8681640625,4819.77978515625,5278.640625,5731.89501953125,5975.5615234375,6637.55078125,6628.90087890625,7252.71435546875,7958.501953125,8661.3662109375,8868.91796875,9277.8583984375,9490.296875,10080.80859375,10666.2744140625,11411.529296875,11602.365234375,11919.53515625,12338.650390625,12692.892578125,12938.568359375,13081.1708984375,13640.265625,14025.365234375,14526.7001953125,14862.244140625,15258.2861328125,15671.107421875,16058.29296875,16370.794921875,16944.064453125,17765.091796875,18087.640625,18454.48046875,19122.234375,19875.0390625,20233.97265625,20633.83984375,21007.888671875,21222.97265625,21814.044921875,22441.81640625,23011.212890625,23532.76171875,23882.10546875,24381.64453125,24633.09375,24893.501953125,25565.953125,26317.576171875,26724.986328125,27204.4609375,27642.345703125,28177.0546875,28494.25,28745.5703125,29382.78515625,29602.826171875,30044.927734375,30543.203125,31144.169921875,31193.3515625,31777.3046875,32131.98046875,32706.25,33149.9140625,33637.76953125,34213.8515625,34498.8046875,34999.55078125,35303.9140625,35708.5546875,36072.2265625,36622.9921875,36877.8515625,37272.96484375,37575.7578125,37708.7734375,37949.68359375,38131.203125,38580.69140625,39275.63671875,39719.1484375,39976.74609375,40274.3046875,40621.44140625,40937.7265625,41372.1015625,41878.921875,42196.078125,42412.76171875,43017.96875,43469.76171875,43882.2578125,44256.1875,44633.67578125,44715.8828125,44926.796875,45103.03515625,45448.875,45602.09375,45939.5390625,46085.3984375,46313.1171875,46684.83984375,47062.09765625,47362.359375,47819.15625,47988.8046875,48353.546875,48644.2109375,48976.45703125,49332.61328125,49717.7890625,50118.5234375,50412.0546875,50904.859375,51067.0859375,51302.62109375,51497.5,51633.73828125,51808.390625,52157.91796875,52462.10546875,52776.359375,53026.8046875,53270.046875,53594.0,53961.7734375,54155.12109375,54418.51171875,54711.6640625,55057.6640625,55340.546875,55620.09375,55925.2578125,56324.7890625,56493.359375,56685.5234375,56816.6796875,57041.62890625,57267.640625,57428.578125,57656.109375,57790.57421875,58265.44921875,58503.41796875,58697.62109375,59056.8984375,59236.03125,59466.44921875,59640.1796875,59778.23046875,59927.3203125,60310.15234375,60397.3359375,60705.09765625,60872.171875,61113.5234375,61291.44140625,61614.21875,62013.359375,62258.90625,62461.8515625,62651.77734375,62848.8046875,63119.3984375,63457.5390625,63679.703125,63823.0390625,63988.7421875,64227.53125,64402.9609375,64540.12890625,64805.2734375,64887.609375,65123.359375,65495.046875,65820.7890625,66030.015625,66346.0703125,66610.3125,66815.375,67101.7734375,67286.8125,67422.0,67733.1953125,67851.125,67988.265625,68139.71875,68379.25,68526.65625,68603.6953125,68725.125,68922.765625,69004.53125,69099.265625,69320.265625,69602.3203125,69856.828125,70071.078125,70311.015625,70340.953125,70390.1484375,70518.03125,70633.5078125,70687.5625,70756.640625,70800.890625,70932.2578125,70953.9921875,71116.921875,71250.234375,71378.140625,71439.34375,71564.171875,71672.3125,71766.96875,71867.3203125,71947.875,72047.8359375,72208.6875,72340.078125,72480.1171875,72588.5703125,72731.96875,72888.71875,73048.15625,73352.9921875,73505.75,73651.59375,73829.09375,73881.171875,74086.421875,74170.828125,74285.9453125,74394.2421875,74575.1875,74709.296875,74868.78125,75004.484375,75086.8984375,75141.0625,75183.578125,75342.890625,75500.9296875,75630.25,75771.125,75819.796875,76008.9609375,76087.453125,76289.6640625,76429.28125,76680.0859375,76888.09375,77059.7578125,77273.984375,77457.6875,77636.5859375,77779.953125,77930.0078125,78165.609375,78395.90625,78517.078125,78605.859375,78589.0,78663.4375,78841.359375,78955.34375,79072.96875,79183.234375,79270.59375,79334.671875,79417.140625,79568.9140625,79753.84375,79920.515625,80048.5625,80150.34375,80309.171875,80462.96875,80592.1796875,80745.90625,80805.25,80919.4375,81088.4921875,81139.125,81397.6015625,81493.859375,81623.9921875,81743.390625,81864.6484375,81981.3671875,81964.4609375,81996.84375,82071.5078125,82234.6015625,82400.53125,82384.546875,82380.984375,82433.7109375,82497.8046875,82600.921875,82852.65625,82923.78125,82991.1875,83130.2734375,83144.21875,83151.15625,83220.59375,83272.9609375,83336.34375,83435.8125,83441.4453125,83455.9375,83456.046875,83484.703125,83520.015625,83564.8125,83595.3359375,83646.109375,83767.484375,83875.046875,83905.453125,83940.0390625,84007.328125,84100.96875,84121.03125,84188.546875,84166.7421875,84260.8203125,84307.828125,84377.0390625,84490.0625,84495.03125,84699.234375,84770.34375,84863.53125,84926.1953125,85071.609375,85155.1171875,85266.359375,85329.84375,85330.671875,85403.640625,85472.7109375,85596.09375,85657.421875,85733.1640625,85827.59375,85854.84375,86016.46875,86056.6171875,86121.71875,86213.75,86305.6328125,86354.203125,86368.046875,86442.6328125,86565.3359375,86545.1640625,86714.0,86873.90625,86918.9375,87041.0703125,87118.96875,87206.8671875,87270.859375,87298.875,87334.7578125,87375.0390625,87400.171875,87481.734375,87559.265625,87606.5390625,87647.765625,87694.5390625,87799.046875,87889.6875,88029.828125,88055.5,88103.4453125,88127.421875,88196.34375,88240.453125,88291.828125,88345.71875,88342.2578125,88415.0,88494.328125,88484.8359375,88548.59375,88586.53125,88673.125,88781.546875,88748.578125,88782.453125,88803.546875,88856.921875,88954.859375,88991.3828125,89034.21875,89073.3671875,89048.703125,89029.3125,89018.390625,89054.5703125,89056.015625,89094.0625,89112.6875,89134.859375,89213.8359375,89238.359375,89311.65625,89336.609375,89399.265625,89409.9296875,89411.0546875,89457.4296875,89537.03125,89577.671875,89573.203125,89636.3515625,89708.046875,89759.0,89830.953125,89900.5625,89931.4375,89913.4375,89946.5390625,89991.4609375,90026.4375,90051.6875,90040.109375,90086.546875,90090.921875,90125.5625,90164.296875,90213.609375,90289.59375,90353.09375,90422.40625,90529.140625,90600.6875,90643.8125,90660.6171875,90753.71875,90829.75,90873.4921875,90915.921875,90959.75,90986.40625,91087.5703125,91151.2109375,91148.15625,91232.046875,91255.890625,91333.046875,91326.0234375,91281.5625,91293.484375,91313.3671875,91338.9921875,91365.828125,91368.5390625,91372.203125,91461.734375,91543.734375,91575.875,91653.046875,91654.265625,91677.25,91739.3046875,91751.375,91736.765625,91721.5,91780.453125,91811.359375,91872.3046875,91917.4375,91882.6875,91942.2109375,91994.375,92025.203125,92005.28125,92055.421875,92092.640625,92059.3125,92095.3125,92176.96875,92156.578125,92189.0390625,92253.015625,92243.75,92282.8671875,92351.546875,92386.625,92469.390625,92518.421875,92526.328125,92546.71875,92578.7265625,92612.984375,92709.6875,92822.890625,92861.25,92887.7734375,92952.46875,92999.5234375,93051.015625,93074.984375,93103.8671875,93196.359375,93201.3671875,93212.171875,93221.2890625,93268.984375,93296.765625,93344.453125,93365.328125,93392.390625,93421.2890625,93452.46875,93491.53125,93531.25,93539.609375,93571.53125,93650.3203125,93646.828125,93680.7421875,93662.75,93713.265625,93724.0859375,93749.125,93817.09375,93852.046875,93931.953125,93968.25,94032.328125,94065.0859375,94100.234375,94137.3828125,94152.7890625,94164.71875,94195.078125,94245.8984375,94235.78125,94300.9296875,94294.7578125,94368.46875,94447.734375,94455.859375,94479.640625,94525.3359375,94515.375,94514.4609375,94582.796875,94609.953125,94637.765625,94638.578125,94651.65625,94697.96875,94686.5234375,94704.265625,94669.90625,94689.0859375,94699.5625,94710.34375,94702.4453125,94723.3203125,94723.1875,94759.3046875,94778.078125,94786.0,94782.7734375,94774.390625,94814.59375,94815.9375,94846.1875,94823.1796875,94828.96875,94839.4921875,94851.59375,94885.4140625,94898.046875,94883.6484375,94872.796875,94854.15625,94886.84375,94909.71875,94960.546875,94974.25,94993.890625,95010.859375,95027.21875,94997.7890625,95034.203125,95026.078125,95009.25,94989.09375,95006.703125,95029.71875,95052.09375,95060.6875,95056.484375,95101.765625,95131.46875,95131.5,95084.671875,95056.921875,95095.421875,95102.96875,95107.078125,95087.734375,95101.5703125,95106.8359375,95153.90625,95171.8046875,95179.53125,95170.90625,95206.3515625,95191.2578125,95204.359375,95255.578125,95284.1875,95324.53125,95358.6796875,95333.140625,95350.984375,95349.3828125,95380.25,95394.9375,95450.6484375,95478.734375,95473.15625,95491.703125,95480.890625,95477.796875,95471.046875,95445.4375,95423.359375,95451.9140625,95465.625,95469.5078125,95500.1953125,95510.3125,95517.828125,95523.296875,95539.015625,95528.234375,95507.2578125,95502.4453125,95478.1640625,95473.6484375,95467.9296875,95483.890625,95474.15625,95433.078125,95417.125,95409.0,95418.1015625,95420.84375,95421.578125,95425.640625,95439.453125,95469.765625,95498.453125,95518.078125,95548.15625,95592.671875,95589.203125,95578.0625,95583.515625,95583.2421875,95658.4375,95696.015625,95717.6875,95734.71875,95815.796875,95805.90625,95809.3125,95828.75,95813.3515625,95855.171875,95894.78125,95908.546875,95982.328125,96027.609375,96021.8828125,96072.15625,96133.6796875,96145.15625,96136.28125,96172.234375,96188.0078125,96166.6171875,96212.96875,96195.375,96215.265625,96257.8203125,96320.0703125,96333.6953125,96392.4375,96385.53125,96408.890625,96405.4375,96414.234375,96417.0390625,96431.46875,96456.96875,96454.640625,96477.984375,96478.5,96463.5625,96448.875,96452.9375,96453.8125,96447.6875,96462.859375,96464.7578125,96530.296875,96527.4921875,96506.078125,96492.5546875,96490.125,96487.1875,96457.328125,96459.3203125,96448.65625,96444.890625,96468.234375,96473.390625,96484.46875,96448.296875,96455.078125,96463.078125,96490.8828125,96494.71875,96501.8046875,96488.3046875,96509.53125,96509.546875,96491.515625,96514.65625,96512.4921875,96527.90625,96536.9296875,96558.484375,96565.1796875,96556.59375,96588.03125,96593.3125,96604.015625,96630.171875,96667.890625,96706.6953125,96703.125,96699.78125,96706.796875,96701.640625,96696.09375,96700.8671875,96669.09375,96660.375,96674.875,96659.78125,96691.6640625,96682.875,96686.34375,96691.7734375,96725.3203125,96748.234375,96787.796875,96796.78125,96798.4609375,96823.5625,96823.359375,96819.15625,96825.4375,96833.09375,96859.765625,96875.421875,96856.765625,96848.3125,96840.828125,96825.7265625,96821.0,96814.9453125,96794.0859375,96793.1875,96810.984375,96792.046875,96781.9375,96747.328125,96753.09375,96753.0234375,96754.9921875,96746.265625,96752.53125,96755.390625,96764.5625,96750.515625,96788.5859375,96797.890625,96790.6015625,96828.234375,96859.2421875,96871.375,96922.796875,96926.21875,96960.1796875,96952.015625,96963.0546875,96989.7578125,96994.203125,97067.234375,97083.0859375,97117.125,97172.734375,97166.8984375,97199.484375,97218.453125,97217.71875,97205.5234375,97196.15625,97212.390625,97211.03125,97172.3828125,97158.7421875,97136.875,97174.171875,97203.9921875,97183.3984375,97167.9609375,97189.59375,97215.390625,97203.1640625,97193.953125,97216.328125,97245.6875,97213.125,97213.453125,97239.9609375,97244.65625,97235.109375,97248.1484375,97281.171875,97287.8984375,97307.71875,97290.640625,97276.625,97266.1875,97287.90625,97286.828125,97306.484375,97340.140625,97328.84375,97311.203125,97320.8984375,97319.71875,97368.421875,97383.765625,97438.609375,97469.078125,97467.703125,97483.078125,97490.1640625,97501.921875,97505.21875,97498.609375,97486.2578125,97460.8125,97465.8125,97454.359375,97455.359375,97467.34375,97447.46875,97463.765625,97510.5,97521.8125,97515.0703125,97508.578125,97537.984375,97555.109375,97591.53125,97610.734375,97620.375,97606.078125,97648.328125,97649.6796875,97644.59375,97648.140625,97651.25,97656.953125,97647.3125,97645.703125,97642.0703125,97651.734375,97674.328125,97680.8125,97677.921875,97704.640625,97713.25,97728.6015625,97723.8125,97745.921875,97712.25,97722.15625,97737.171875,97738.546875,97772.109375,97793.765625,97796.609375,97848.453125,97827.640625,97830.5625,97852.734375,97896.0703125,97944.015625,97957.984375,97979.4375,97983.5390625,98004.4453125,98026.984375,98038.546875,98054.828125,98108.0859375,98109.3125,98123.90625,98124.6328125,98158.6875,98141.140625,98136.5625,98141.203125,98138.0,98162.875,98216.8125,98230.59375,98260.71875,98278.015625,98286.90625,98302.015625,98300.703125,98291.5546875,98292.4140625,98305.3046875,98310.109375,98322.75,98315.2265625,98320.453125,98307.359375,98317.71875,98335.1328125,98345.078125,98360.671875,98393.7734375,98378.2734375,98385.7890625,98398.28125,98366.984375,98396.0390625,98436.921875,98455.09375,98451.3359375,98490.25,98499.0,98502.046875,98500.3125,98504.609375,98506.59375,98515.265625,98517.7265625,98510.453125,98494.703125,98488.6796875,98500.890625,98526.5546875,98541.0078125,98556.640625,98545.5,98550.3359375,98546.890625,98550.953125,98550.578125,98542.984375],\"type\":\"scatter\",\"xaxis\":\"x\",\"yaxis\":\"y2\"}],                        {\"template\":{\"data\":{\"histogram2dcontour\":[{\"type\":\"histogram2dcontour\",\"colorbar\":{\"outlinewidth\":0,\"ticks\":\"\"},\"colorscale\":[[0.0,\"#0d0887\"],[0.1111111111111111,\"#46039f\"],[0.2222222222222222,\"#7201a8\"],[0.3333333333333333,\"#9c179e\"],[0.4444444444444444,\"#bd3786\"],[0.5555555555555556,\"#d8576b\"],[0.6666666666666666,\"#ed7953\"],[0.7777777777777778,\"#fb9f3a\"],[0.8888888888888888,\"#fdca26\"],[1.0,\"#f0f921\"]]}],\"choropleth\":[{\"type\":\"choropleth\",\"colorbar\":{\"outlinewidth\":0,\"ticks\":\"\"}}],\"histogram2d\":[{\"type\":\"histogram2d\",\"colorbar\":{\"outlinewidth\":0,\"ticks\":\"\"},\"colorscale\":[[0.0,\"#0d0887\"],[0.1111111111111111,\"#46039f\"],[0.2222222222222222,\"#7201a8\"],[0.3333333333333333,\"#9c179e\"],[0.4444444444444444,\"#bd3786\"],[0.5555555555555556,\"#d8576b\"],[0.6666666666666666,\"#ed7953\"],[0.7777777777777778,\"#fb9f3a\"],[0.8888888888888888,\"#fdca26\"],[1.0,\"#f0f921\"]]}],\"heatmap\":[{\"type\":\"heatmap\",\"colorbar\":{\"outlinewidth\":0,\"ticks\":\"\"},\"colorscale\":[[0.0,\"#0d0887\"],[0.1111111111111111,\"#46039f\"],[0.2222222222222222,\"#7201a8\"],[0.3333333333333333,\"#9c179e\"],[0.4444444444444444,\"#bd3786\"],[0.5555555555555556,\"#d8576b\"],[0.6666666666666666,\"#ed7953\"],[0.7777777777777778,\"#fb9f3a\"],[0.8888888888888888,\"#fdca26\"],[1.0,\"#f0f921\"]]}],\"heatmapgl\":[{\"type\":\"heatmapgl\",\"colorbar\":{\"outlinewidth\":0,\"ticks\":\"\"},\"colorscale\":[[0.0,\"#0d0887\"],[0.1111111111111111,\"#46039f\"],[0.2222222222222222,\"#7201a8\"],[0.3333333333333333,\"#9c179e\"],[0.4444444444444444,\"#bd3786\"],[0.5555555555555556,\"#d8576b\"],[0.6666666666666666,\"#ed7953\"],[0.7777777777777778,\"#fb9f3a\"],[0.8888888888888888,\"#fdca26\"],[1.0,\"#f0f921\"]]}],\"contourcarpet\":[{\"type\":\"contourcarpet\",\"colorbar\":{\"outlinewidth\":0,\"ticks\":\"\"}}],\"contour\":[{\"type\":\"contour\",\"colorbar\":{\"outlinewidth\":0,\"ticks\":\"\"},\"colorscale\":[[0.0,\"#0d0887\"],[0.1111111111111111,\"#46039f\"],[0.2222222222222222,\"#7201a8\"],[0.3333333333333333,\"#9c179e\"],[0.4444444444444444,\"#bd3786\"],[0.5555555555555556,\"#d8576b\"],[0.6666666666666666,\"#ed7953\"],[0.7777777777777778,\"#fb9f3a\"],[0.8888888888888888,\"#fdca26\"],[1.0,\"#f0f921\"]]}],\"surface\":[{\"type\":\"surface\",\"colorbar\":{\"outlinewidth\":0,\"ticks\":\"\"},\"colorscale\":[[0.0,\"#0d0887\"],[0.1111111111111111,\"#46039f\"],[0.2222222222222222,\"#7201a8\"],[0.3333333333333333,\"#9c179e\"],[0.4444444444444444,\"#bd3786\"],[0.5555555555555556,\"#d8576b\"],[0.6666666666666666,\"#ed7953\"],[0.7777777777777778,\"#fb9f3a\"],[0.8888888888888888,\"#fdca26\"],[1.0,\"#f0f921\"]]}],\"mesh3d\":[{\"type\":\"mesh3d\",\"colorbar\":{\"outlinewidth\":0,\"ticks\":\"\"}}],\"scatter\":[{\"fillpattern\":{\"fillmode\":\"overlay\",\"size\":10,\"solidity\":0.2},\"type\":\"scatter\"}],\"parcoords\":[{\"type\":\"parcoords\",\"line\":{\"colorbar\":{\"outlinewidth\":0,\"ticks\":\"\"}}}],\"scatterpolargl\":[{\"type\":\"scatterpolargl\",\"marker\":{\"colorbar\":{\"outlinewidth\":0,\"ticks\":\"\"}}}],\"bar\":[{\"error_x\":{\"color\":\"#2a3f5f\"},\"error_y\":{\"color\":\"#2a3f5f\"},\"marker\":{\"line\":{\"color\":\"#E5ECF6\",\"width\":0.5},\"pattern\":{\"fillmode\":\"overlay\",\"size\":10,\"solidity\":0.2}},\"type\":\"bar\"}],\"scattergeo\":[{\"type\":\"scattergeo\",\"marker\":{\"colorbar\":{\"outlinewidth\":0,\"ticks\":\"\"}}}],\"scatterpolar\":[{\"type\":\"scatterpolar\",\"marker\":{\"colorbar\":{\"outlinewidth\":0,\"ticks\":\"\"}}}],\"histogram\":[{\"marker\":{\"pattern\":{\"fillmode\":\"overlay\",\"size\":10,\"solidity\":0.2}},\"type\":\"histogram\"}],\"scattergl\":[{\"type\":\"scattergl\",\"marker\":{\"colorbar\":{\"outlinewidth\":0,\"ticks\":\"\"}}}],\"scatter3d\":[{\"type\":\"scatter3d\",\"line\":{\"colorbar\":{\"outlinewidth\":0,\"ticks\":\"\"}},\"marker\":{\"colorbar\":{\"outlinewidth\":0,\"ticks\":\"\"}}}],\"scattermapbox\":[{\"type\":\"scattermapbox\",\"marker\":{\"colorbar\":{\"outlinewidth\":0,\"ticks\":\"\"}}}],\"scatterternary\":[{\"type\":\"scatterternary\",\"marker\":{\"colorbar\":{\"outlinewidth\":0,\"ticks\":\"\"}}}],\"scattercarpet\":[{\"type\":\"scattercarpet\",\"marker\":{\"colorbar\":{\"outlinewidth\":0,\"ticks\":\"\"}}}],\"carpet\":[{\"aaxis\":{\"endlinecolor\":\"#2a3f5f\",\"gridcolor\":\"white\",\"linecolor\":\"white\",\"minorgridcolor\":\"white\",\"startlinecolor\":\"#2a3f5f\"},\"baxis\":{\"endlinecolor\":\"#2a3f5f\",\"gridcolor\":\"white\",\"linecolor\":\"white\",\"minorgridcolor\":\"white\",\"startlinecolor\":\"#2a3f5f\"},\"type\":\"carpet\"}],\"table\":[{\"cells\":{\"fill\":{\"color\":\"#EBF0F8\"},\"line\":{\"color\":\"white\"}},\"header\":{\"fill\":{\"color\":\"#C8D4E3\"},\"line\":{\"color\":\"white\"}},\"type\":\"table\"}],\"barpolar\":[{\"marker\":{\"line\":{\"color\":\"#E5ECF6\",\"width\":0.5},\"pattern\":{\"fillmode\":\"overlay\",\"size\":10,\"solidity\":0.2}},\"type\":\"barpolar\"}],\"pie\":[{\"automargin\":true,\"type\":\"pie\"}]},\"layout\":{\"autotypenumbers\":\"strict\",\"colorway\":[\"#636efa\",\"#EF553B\",\"#00cc96\",\"#ab63fa\",\"#FFA15A\",\"#19d3f3\",\"#FF6692\",\"#B6E880\",\"#FF97FF\",\"#FECB52\"],\"font\":{\"color\":\"#2a3f5f\"},\"hovermode\":\"closest\",\"hoverlabel\":{\"align\":\"left\"},\"paper_bgcolor\":\"white\",\"plot_bgcolor\":\"#E5ECF6\",\"polar\":{\"bgcolor\":\"#E5ECF6\",\"angularaxis\":{\"gridcolor\":\"white\",\"linecolor\":\"white\",\"ticks\":\"\"},\"radialaxis\":{\"gridcolor\":\"white\",\"linecolor\":\"white\",\"ticks\":\"\"}},\"ternary\":{\"bgcolor\":\"#E5ECF6\",\"aaxis\":{\"gridcolor\":\"white\",\"linecolor\":\"white\",\"ticks\":\"\"},\"baxis\":{\"gridcolor\":\"white\",\"linecolor\":\"white\",\"ticks\":\"\"},\"caxis\":{\"gridcolor\":\"white\",\"linecolor\":\"white\",\"ticks\":\"\"}},\"coloraxis\":{\"colorbar\":{\"outlinewidth\":0,\"ticks\":\"\"}},\"colorscale\":{\"sequential\":[[0.0,\"#0d0887\"],[0.1111111111111111,\"#46039f\"],[0.2222222222222222,\"#7201a8\"],[0.3333333333333333,\"#9c179e\"],[0.4444444444444444,\"#bd3786\"],[0.5555555555555556,\"#d8576b\"],[0.6666666666666666,\"#ed7953\"],[0.7777777777777778,\"#fb9f3a\"],[0.8888888888888888,\"#fdca26\"],[1.0,\"#f0f921\"]],\"sequentialminus\":[[0.0,\"#0d0887\"],[0.1111111111111111,\"#46039f\"],[0.2222222222222222,\"#7201a8\"],[0.3333333333333333,\"#9c179e\"],[0.4444444444444444,\"#bd3786\"],[0.5555555555555556,\"#d8576b\"],[0.6666666666666666,\"#ed7953\"],[0.7777777777777778,\"#fb9f3a\"],[0.8888888888888888,\"#fdca26\"],[1.0,\"#f0f921\"]],\"diverging\":[[0,\"#8e0152\"],[0.1,\"#c51b7d\"],[0.2,\"#de77ae\"],[0.3,\"#f1b6da\"],[0.4,\"#fde0ef\"],[0.5,\"#f7f7f7\"],[0.6,\"#e6f5d0\"],[0.7,\"#b8e186\"],[0.8,\"#7fbc41\"],[0.9,\"#4d9221\"],[1,\"#276419\"]]},\"xaxis\":{\"gridcolor\":\"white\",\"linecolor\":\"white\",\"ticks\":\"\",\"title\":{\"standoff\":15},\"zerolinecolor\":\"white\",\"automargin\":true,\"zerolinewidth\":2},\"yaxis\":{\"gridcolor\":\"white\",\"linecolor\":\"white\",\"ticks\":\"\",\"title\":{\"standoff\":15},\"zerolinecolor\":\"white\",\"automargin\":true,\"zerolinewidth\":2},\"scene\":{\"xaxis\":{\"backgroundcolor\":\"#E5ECF6\",\"gridcolor\":\"white\",\"linecolor\":\"white\",\"showbackground\":true,\"ticks\":\"\",\"zerolinecolor\":\"white\",\"gridwidth\":2},\"yaxis\":{\"backgroundcolor\":\"#E5ECF6\",\"gridcolor\":\"white\",\"linecolor\":\"white\",\"showbackground\":true,\"ticks\":\"\",\"zerolinecolor\":\"white\",\"gridwidth\":2},\"zaxis\":{\"backgroundcolor\":\"#E5ECF6\",\"gridcolor\":\"white\",\"linecolor\":\"white\",\"showbackground\":true,\"ticks\":\"\",\"zerolinecolor\":\"white\",\"gridwidth\":2}},\"shapedefaults\":{\"line\":{\"color\":\"#2a3f5f\"}},\"annotationdefaults\":{\"arrowcolor\":\"#2a3f5f\",\"arrowhead\":0,\"arrowwidth\":1},\"geo\":{\"bgcolor\":\"white\",\"landcolor\":\"#E5ECF6\",\"subunitcolor\":\"white\",\"showland\":true,\"showlakes\":true,\"lakecolor\":\"white\"},\"title\":{\"x\":0.05},\"mapbox\":{\"style\":\"light\"}}},\"xaxis\":{\"anchor\":\"y\",\"domain\":[0.0,0.94],\"title\":{\"text\":\"Draws\"}},\"yaxis\":{\"anchor\":\"x\",\"domain\":[0.0,1.0],\"range\":[0,null],\"title\":{\"text\":\"LLC\"}},\"yaxis2\":{\"anchor\":\"x\",\"overlaying\":\"y\",\"side\":\"right\",\"title\":{\"text\":\"WBIC\"},\"showgrid\":false},\"legend\":{\"x\":0,\"y\":1,\"xanchor\":\"left\",\"yanchor\":\"bottom\",\"orientation\":\"h\"},\"title\":{\"text\":\"LLC \\u002f WBIC Trace\"},\"width\":600,\"height\":400},                        {\"responsive\": true}                    ).then(function(){\n",
       "                            \n",
       "var gd = document.getElementById('84927dde-d93a-4beb-9dde-7c692999a62a');\n",
       "var x = new MutationObserver(function (mutations, observer) {{\n",
       "        var display = window.getComputedStyle(gd).display;\n",
       "        if (!display || display === 'none') {{\n",
       "            console.log([gd, 'removed!']);\n",
       "            Plotly.purge(gd);\n",
       "            observer.disconnect();\n",
       "        }}\n",
       "}});\n",
       "\n",
       "// Listen for the removal of the full notebook cells\n",
       "var notebookContainer = gd.closest('#notebook-container');\n",
       "if (notebookContainer) {{\n",
       "    x.observe(notebookContainer, {childList: true});\n",
       "}}\n",
       "\n",
       "// Listen for the clearing of the current output cell\n",
       "var outputEl = gd.closest('.output');\n",
       "if (outputEl) {{\n",
       "    x.observe(outputEl, {childList: true});\n",
       "}}\n",
       "\n",
       "                        })                };                });            </script>        </div>"
      ]
     },
     "metadata": {},
     "output_type": "display_data"
    }
   ],
   "source": [
    "# Check the LLC chains / WBIC chains converged for each model\n",
    "\n",
    "rlct_converge_plots = {}\n",
    "for title in models.keys():\n",
    "    rlct_converge_plot = make_subplots(specs=[[{\"secondary_y\" : True}]])\n",
    "    for optim in optimizers:\n",
    "        color = color_cycle[color_index % len(color_cycle)]\n",
    "        color_index += 1\n",
    "        if wbic_histories[title][optim][-1] is not None and llc_histories[title][optim][-1] is not None:\n",
    "            rlct_converge_plot.add_trace(go.Scatter(\n",
    "                y=np.mean(llc_histories[title][optim][-1][\"llc/moving_avg\"],axis=0),\n",
    "                name=f\"{optim} LLC\",\n",
    "                line=dict(color=color, width=3)\n",
    "            ), secondary_y=False)\n",
    "            rlct_converge_plot.add_trace(go.Scatter(\n",
    "                y=wbic_histories[title][optim][-1][\"wbic/means\"],\n",
    "                name=f\"{optim} WBIC\",\n",
    "                line=dict(color=color, dash=\"dash\", width=6)\n",
    "            ), secondary_y=True)\n",
    "    rlct_converge_plot.update_layout(\n",
    "        title=f\"LLC / WBIC Trace\",\n",
    "        xaxis_title=\"Draws\",\n",
    "        yaxis=dict(\n",
    "            range=[0,None]\n",
    "        ),\n",
    "        width=600,\n",
    "        height=400,\n",
    "        legend=dict(\n",
    "            x=0,\n",
    "            y=1,\n",
    "            xanchor='left',\n",
    "            yanchor='bottom',\n",
    "            orientation='h',\n",
    "        ),\n",
    "    )\n",
    "    rlct_converge_plot.update_yaxes(title=\"LLC\", secondary_y=False)\n",
    "    rlct_converge_plot.update_yaxes(title=\"WBIC\",\n",
    "                                    secondary_y=True,\n",
    "                                    showgrid=False)\n",
    "    rlct_converge_plots[title] = rlct_converge_plot\n",
    "    rlct_converge_plot.show()"
   ]
  },
  {
   "cell_type": "code",
   "execution_count": 70,
   "metadata": {
    "execution": {
     "iopub.execute_input": "2024-04-04T14:34:40.995993Z",
     "iopub.status.busy": "2024-04-04T14:34:40.995993Z",
     "iopub.status.idle": "2024-04-04T14:34:41.057330Z",
     "shell.execute_reply": "2024-04-04T14:34:41.057330Z"
    }
   },
   "outputs": [],
   "source": [
    "# Save the results to a HTML file.\n",
    "\n",
    "figures = []\n",
    "\n",
    "combined_args = {**hp, **data_args, **devinterp_args}\n",
    "\n",
    "if loss_figures:\n",
    "    figures += list(loss_figures.values())\n",
    "if update_norm_figures:\n",
    "    figures += list(update_norm_figures.values())\n",
    "if exp_figures:\n",
    "    figures += list(exp_figures.values())\n",
    "# if combined_eigenspectra:\n",
    "#     figures += list(combined_eigenspectra.values())\n",
    "if val_wbic_figs:\n",
    "    figures += list(val_wbic_figs.values())\n",
    "if rlct_converge_plots:\n",
    "    figures += list(rlct_converge_plots.values())\n",
    "\n",
    "figures+=list(llc_figures.values())\n",
    "figures+=list(hess_figures.values())\n",
    "figures+=list(corr_figs.values())\n",
    "\n",
    "curr_time = datetime.now().strftime(\"%Y-%m-%d-%H-%M\")\n",
    "\n",
    "write_figs_to_html(\n",
    "    figs=figures,\n",
    "    dest=f\"./ngd_sgd/{hp['model_type']}_ngd_sgd_llc_{curr_time}.html\",\n",
    "    title=\"Does NGD converge to minima that are 'more complex' i.e. have a higher RLCT?\",\n",
    "    summary=combined_args,\n",
    ")"
   ]
  }
 ],
 "metadata": {
  "kernelspec": {
   "display_name": "env",
   "language": "python",
   "name": "python3"
  },
  "language_info": {
   "codemirror_mode": {
    "name": "ipython",
    "version": 3
   },
   "file_extension": ".py",
   "mimetype": "text/x-python",
   "name": "python",
   "nbconvert_exporter": "python",
   "pygments_lexer": "ipython3",
   "version": "3.10.12"
  }
 },
 "nbformat": 4,
 "nbformat_minor": 2
}
