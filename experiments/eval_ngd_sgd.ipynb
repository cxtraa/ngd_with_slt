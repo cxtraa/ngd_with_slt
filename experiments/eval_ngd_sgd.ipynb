{
 "cells": [
  {
   "cell_type": "markdown",
   "metadata": {},
   "source": [
    "### **Does NGD converge to more complex minima according to the RLCT (Real Log Canonical Threshold)?**\n",
    "\n",
    "This notebook aims to test the above claim, using developmental interpretability methods.\n",
    "\n",
    "We hypothesise that NGD will consistently have a higher RLCT, because it premultiplies the gradient used for gradient descent by the inverse of the Fisher Information Matrix.\n",
    "\n",
    "SLT proposes that models converge to singularities, where the Fisher Information Matrix is non-invertable. Hence, when near a singularity, the inverse of the FIM will blow up as its determinant is close to 0. Therefore, NGD will \"jump away\" from the singularity, instead favouring more complex, less singular minima.\n",
    "\n",
    "#### **Methodology**\n",
    "- Choose between DNN (dense neural network) and CNN (convolutional neural network)\n",
    "- Vary hidden nodes and hidden layers for DNN (depth and width)\n",
    "- Vary number of convolutional layers for CNN.\n",
    "- Estimate Hessian rank using `PyHessian` module.\n",
    "- Estimate RLCT using `devinterp` library.\n",
    "\n",
    "#### **Instructions**\n",
    "\n",
    "To produce your own results, go to `args_ngd_sgd.json`. The following parameters can be adjusted:\n",
    "- `model_type (str)`  : `dnn` (deep network), `cnn` (convolutional network)\n",
    "- `experiment_type (str)` : `standard` (train models independently using SGD and NGD), `swap` (train to convergence with SGD, then continue with SGD + NGD)\n",
    "\n",
    "<!-- -->\n",
    "\n",
    "- `optimizer (str)` : `sgd`, `ngd`, or `both` (performs analysis on both optimizers) - SET TO `both` IF DOING `swap` EXPERIMENT\n",
    "- `hessian (bool)` : `true`, `false` (does Hessian rank analysis if enabled)\n",
    "\n",
    "<!-- -->\n",
    "\n",
    "- `hidden_nodes (List : int)` : e.g. `[32, 32, 64, 64, 128, 128]`, the hidden nodes to use in DNN\n",
    "- `hidden_layers (List: int)` : e.g. `[1, 1, 2, 2, 3, 3]`, the hidden layers to use in DNN. Must have same length as `hidden_nodes`.\n",
    "- `hidden_conv_layers (List : int)` : array of number of hidden convolutional layers to use for CNN, e.g. `[1, 2, 3]`.\n",
    "\n",
    "<!-- -->\n",
    "\n",
    "- `cut_off_epochs (int)` : the epoch number at which the optimiser is swapped if using `experiment_type = \"swap\"`\n",
    "- `num_epochs (int)` : total number of training epochs\n",
    "\n",
    "<!-- -->\n",
    "\n",
    "- `sgd_lr (float)` : sgd learning rate for training\n",
    "- `ngd_lr (float)` : ngd learning rate for training\n",
    "\n",
    "<!-- -->\n",
    "\n",
    "- `alpha (float)` : smoothing constant for estimation of FIM for NGD\n",
    "- `eta (float)` : $ F_{n} = \\eta S_n + (1 - \\eta) F_{n-1} $ where $ S_n $ is the estimated Fisher matrix from the current batch.\n",
    "- `epsilon (float)` : added to $ F $ to stop it from becoming singular\n",
    "- `delta (float)` : constant preventing $ F $ from becoming singular\n",
    "\n",
    "<!-- -->\n",
    "\n",
    "- `momentum (float)` : momentum used in SGD and NGD\n",
    "- `nesterov (bool)` : enable Nesterov momentum for NGD / SGD\n",
    "\n",
    "<!-- -->\n",
    "\n",
    "- `seed (int)` : the random seed used for `torch.manual_seed()`\n",
    "\n",
    "<!-- -->\n",
    "\n",
    "- `batch_size (int)` : batch size for train / validation dataloaders\n",
    "- `num_workers (int)` : number of GPU workers for data loading (keep this at around 6, vary depending on your hardware)\n",
    "- `dataset (str)` : `mnist`, `cifar10` (dataset to use for training)\n",
    "- `num_hessian_batches (int)` : number of batches used for estimation of Hessian\n",
    "\n",
    "<!-- -->\n",
    "\n",
    "- `sampler (str)` : `sgld`, `sgnht` (optimiser to use for RLCT estimation)\n",
    "- `num_chains (int)` : number of chains to use in RLCT estimation (higher leads to more accurate RLCT estimate)\n",
    "- `num_draws (int)` : number of optimizer steps in RLCT estimation (should be high enough such that chain RLCT converges - check convergence plot)\n",
    "- `localization (float)` : higher localization more strongly restricts optimizer to neighbourhood of model weights (stops RLCT estimator from going straight to minima)\n",
    "- `sampler_lr (float)` : learning rate for sampler for RLCT estimation\n",
    "\n",
    "You can run the notebook from the terminal using the following command:\n",
    "```bash\n",
    "jupyter nbconvert --to notebook --execute --inplace ./experiments/eval_ngd_sgd.ipynb\n",
    "```"
   ]
  },
  {
   "cell_type": "markdown",
   "metadata": {},
   "source": [
    "#### **0. Import libraries**\n",
    "\n",
    "The `NGD` module is used for implementing Natural Gradient Descent efficiently. It approximates the Fisher Information Matrix to do this.\n",
    "The `devinterp` library is used for estimation of the LLC (local learning coefficient)."
   ]
  },
  {
   "cell_type": "code",
   "execution_count": 22,
   "metadata": {
    "execution": {
     "iopub.execute_input": "2024-04-04T13:32:58.241916Z",
     "iopub.status.busy": "2024-04-04T13:32:58.241916Z",
     "iopub.status.idle": "2024-04-04T13:33:04.604735Z",
     "shell.execute_reply": "2024-04-04T13:33:04.604735Z"
    }
   },
   "outputs": [
    {
     "name": "stdout",
     "output_type": "stream",
     "text": [
      "Device in use: cuda\n",
      "The autoreload extension is already loaded. To reload it, use:\n",
      "  %reload_ext autoreload\n"
     ]
    }
   ],
   "source": [
    "from multiprocessing import freeze_support\n",
    "\n",
    "import os\n",
    "import sys\n",
    "import copy\n",
    "import pickle\n",
    "import pprint\n",
    "import json\n",
    "from pathlib import Path\n",
    "from datetime import datetime\n",
    "import warnings\n",
    "import numpy as np\n",
    "import pandas as pd\n",
    "from tqdm import tqdm\n",
    "\n",
    "sys.path.append(\"../\")\n",
    "\n",
    "import torch as t\n",
    "import torch.nn as nn\n",
    "import torch.nn.functional as F\n",
    "from torchvision import datasets, transforms\n",
    "from torch.utils.data import DataLoader, Subset, random_split\n",
    "\n",
    "from PyHessian.pyhessian import *\n",
    "from PyHessian.density_plot import *\n",
    "from nngeometry.metrics import FIM\n",
    "from nngeometry.object import PMatKFAC, PMatDiag, PVector\n",
    "\n",
    "from utils_general import *\n",
    "from utils_hessian_fim import *\n",
    "from architectures import *\n",
    "from ngd import NGD\n",
    "\n",
    "from plotly.subplots import make_subplots\n",
    "import plotly.express as px\n",
    "import plotly.colors\n",
    "import plotly.graph_objects as go\n",
    "import matplotlib\n",
    "import matplotlib.pyplot as plt\n",
    "\n",
    "device = \"cuda\" if t.cuda.is_available() else \"cpu\"\n",
    "print(f\"Device in use: {device}\")\n",
    "\n",
    "%load_ext autoreload\n",
    "%autoreload\n",
    "%matplotlib inline\n"
   ]
  },
  {
   "cell_type": "markdown",
   "metadata": {},
   "source": [
    "#### **1. Import data for training**\n",
    "\n",
    "We import our dataset for training. We use a helper function, `build_data_loaders` for this, which allows us to choose between MNIST and CIFAR10. \n",
    "\n",
    "We specify three dictionaries, `hp` = hyperparameters, `data_args` = arguments for dataloading, `devinterp_args` = arguments for LLC and WBIC estimation."
   ]
  },
  {
   "cell_type": "code",
   "execution_count": 23,
   "metadata": {
    "execution": {
     "iopub.execute_input": "2024-04-04T13:33:04.609615Z",
     "iopub.status.busy": "2024-04-04T13:33:04.608572Z",
     "iopub.status.idle": "2024-04-04T13:33:04.620630Z",
     "shell.execute_reply": "2024-04-04T13:33:04.620630Z"
    }
   },
   "outputs": [
    {
     "name": "stdout",
     "output_type": "stream",
     "text": [
      "======HYPERPARAMETERS======\n",
      "{'model_type': 'ffnn',\n",
      " 'experiment_type': 'swap',\n",
      " 'optimizer': 'both',\n",
      " 'hessian': False,\n",
      " 'hidden_nodes': [256],\n",
      " 'hidden_layers': [2],\n",
      " 'hidden_conv_layers': [2],\n",
      " 'cut_off_epochs': 10,\n",
      " 'num_epochs': 20,\n",
      " 'sgd_lr': 0.01,\n",
      " 'ngd_lr': 0.01,\n",
      " 'alpha': 0.1,\n",
      " 'eta': 0.9,\n",
      " 'epsilon': 1e-10,\n",
      " 'delta': 0.0005,\n",
      " 'momentum': 0.9,\n",
      " 'nesterov': True,\n",
      " 'seed': 1}\n",
      "======DATA ARGS======\n",
      "{'batch_size': 128,\n",
      " 'num_workers': 22,\n",
      " 'dataset': 'fashion-mnist',\n",
      " 'num_hessian_batches': 1}\n",
      "======DEVINTERP ARGS======\n",
      "{'sampler': 'sgld',\n",
      " 'num_chains': 2,\n",
      " 'num_draws': 1000,\n",
      " 'localization': 100.0,\n",
      " 'sampler_lr': 0.0001}\n"
     ]
    }
   ],
   "source": [
    "# Load experiment args\n",
    "\n",
    "with open(\"args_ngd_sgd.json\", \"r\") as file:\n",
    "    args = json.load(file) \n",
    "\n",
    "hp, data_args, devinterp_args = args\n",
    "\n",
    "print(\"======HYPERPARAMETERS======\")\n",
    "pprint.pprint(hp, sort_dicts=False)\n",
    "\n",
    "print(\"======DATA ARGS======\")\n",
    "pprint.pprint(data_args, sort_dicts=False)\n",
    "\n",
    "print(\"======DEVINTERP ARGS======\")\n",
    "pprint.pprint(devinterp_args, sort_dicts=False)"
   ]
  },
  {
   "cell_type": "code",
   "execution_count": 24,
   "metadata": {
    "execution": {
     "iopub.execute_input": "2024-04-04T13:33:04.623658Z",
     "iopub.status.busy": "2024-04-04T13:33:04.623658Z",
     "iopub.status.idle": "2024-04-04T13:33:04.635515Z",
     "shell.execute_reply": "2024-04-04T13:33:04.635515Z"
    }
   },
   "outputs": [
    {
     "data": {
      "text/plain": [
       "<torch._C.Generator at 0x7fbcdd960e50>"
      ]
     },
     "execution_count": 24,
     "metadata": {},
     "output_type": "execute_result"
    }
   ],
   "source": [
    "# Set random seed for weight initialisation (for reproducibility of results and to ensure NGD/SGD start from same point in loss landscape)\n",
    "\n",
    "t.manual_seed(hp[\"seed\"])"
   ]
  },
  {
   "cell_type": "code",
   "execution_count": 25,
   "metadata": {
    "execution": {
     "iopub.execute_input": "2024-04-04T13:33:04.638515Z",
     "iopub.status.busy": "2024-04-04T13:33:04.638515Z",
     "iopub.status.idle": "2024-04-04T13:33:05.773515Z",
     "shell.execute_reply": "2024-04-04T13:33:05.773515Z"
    }
   },
   "outputs": [],
   "source": [
    "train_loader, test_loader = build_data_loaders(data_args)"
   ]
  },
  {
   "cell_type": "markdown",
   "metadata": {},
   "source": [
    "#### **2. Training models**\n",
    "\n",
    "Choose to train either a DNN or CNN.\n",
    "\n",
    "This code produces a dictionary `models` where each key describes the model itself, e.g. \"DNN 4 HL, 256 HN\".\n",
    "\n",
    "The values in this dictionary, iterated over as `model`, are each another dictionary with the optimizer as keys\n",
    "the vakues are then a list containing the model with initial weights. As models are trained, each epoch the trained model will be added to this list so we can record the model history.\n",
    "\n",
    "```\n",
    "models={\n",
    "    \"architecture1\":{\n",
    "        \"optim1\":[epoch0,epoch1],\n",
    "        \"optim2\":[epoch0,epoch1],\n",
    "    },\n",
    "    \"architecture2\":{\n",
    "        \"optim1\":[epoch0,epoch1],\n",
    "        \"optim2\":[epoch0,epoch1],\n",
    "    }\n",
    "}\n",
    "```"
   ]
  },
  {
   "cell_type": "code",
   "execution_count": 26,
   "metadata": {
    "execution": {
     "iopub.execute_input": "2024-04-04T13:33:05.777388Z",
     "iopub.status.busy": "2024-04-04T13:33:05.777388Z",
     "iopub.status.idle": "2024-04-04T13:33:05.883828Z",
     "shell.execute_reply": "2024-04-04T13:33:05.882813Z"
    }
   },
   "outputs": [],
   "source": [
    "# Initialise models dependent on arguments\n",
    "\n",
    "models = {}\n",
    "optimizers = [\"ngd\", \"sgd\"] if hp[\"optimizer\"] == \"both\" else [hp[\"optimizer\"]]\n",
    "\n",
    "if hp[\"model_type\"] == \"ffnn\":\n",
    "    hidden_nodes = hp[\"hidden_nodes\"]\n",
    "    hidden_layers = hp[\"hidden_layers\"]\n",
    "    for hidden_node, hidden_layer in zip(hidden_nodes, hidden_layers):\n",
    "        title = f\"FFNN {hidden_layer} HL, {hidden_node} HN\"\n",
    "        if data_args[\"dataset\"] == \"mnist\" or data_args[\"dataset\"] == \"fashion-mnist\":\n",
    "            model = NeuralNet(relu=True,input_size=28*28,hidden_layers=hidden_layer, hidden_nodes=hidden_node).to(device)\n",
    "        elif data_args[\"dataset\"] == \"cifar10\":\n",
    "            model = NeuralNet(relu=True,input_size=32*32*3,hidden_layers=hidden_layer, hidden_nodes=hidden_node).to(device)\n",
    "        models[title] = {optim : [copy.deepcopy(model)] for optim in optimizers}\n",
    "elif hp[\"model_type\"] == \"dlnn\":\n",
    "    hidden_nodes = hp[\"hidden_nodes\"]\n",
    "    hidden_layers = hp[\"hidden_layers\"]\n",
    "    for hidden_node, hidden_layer in zip(hidden_nodes, hidden_layers):\n",
    "        title = f\"DLNN {hidden_layer} HL, {hidden_node} HN\"\n",
    "        if data_args[\"dataset\"] == \"mnist\" or data_args[\"dataset\"] == \"fashion-mnist\":\n",
    "            model = NeuralNet(relu=False,input_size=28*28,hidden_layers=hidden_layer, hidden_nodes=hidden_node).to(device)\n",
    "        elif data_args[\"dataset\"] == \"cifar10\":\n",
    "            model = NeuralNet(relu=False,input_size=32*32*3,hidden_layers=hidden_layer, hidden_nodes=hidden_node).to(device)\n",
    "        models[title] = {optim : [copy.deepcopy(model)] for optim in optimizers}\n",
    "elif hp[\"model_type\"] == \"cnn\":\n",
    "    hidden_conv_layers = hp[\"hidden_conv_layers\"]\n",
    "    for hidden_conv_layer in hidden_conv_layers:\n",
    "        title = f\"CNN {hidden_conv_layer} HCL\"\n",
    "        if data_args[\"dataset\"] == \"mnist\" or data_args[\"dataset\"] == \"fashion-mnist\":\n",
    "            model = LeNet(dataset=\"mnist\",extra_layers=hidden_conv_layer).to(device)\n",
    "        elif data_args[\"dataset\"] == \"cifar10\":\n",
    "            model = LeNet(dataset=\"cifar10\",extra_layers=hidden_conv_layer).to(device)\n",
    "        models[title] = {optim : [copy.deepcopy(model)] for optim in optimizers}\n"
   ]
  },
  {
   "cell_type": "markdown",
   "metadata": {},
   "source": [
    "If experiment 1, make sure `cutoff_epochs` equal to `num_epochs`"
   ]
  },
  {
   "cell_type": "code",
   "execution_count": 27,
   "metadata": {
    "execution": {
     "iopub.execute_input": "2024-04-04T13:33:05.886828Z",
     "iopub.status.busy": "2024-04-04T13:33:05.886828Z",
     "iopub.status.idle": "2024-04-04T13:50:02.779752Z",
     "shell.execute_reply": "2024-04-04T13:50:02.777621Z"
    }
   },
   "outputs": [],
   "source": [
    "# EXPERIMENT 1: Train models independently for num_epochs with SGD and NGD\n",
    "\n",
    "if hp[\"experiment_type\"] == \"standard\":\n",
    "    train_losses = {}\n",
    "    val_losses = {}\n",
    "    update_norms = {}\n",
    "    all_update_norms = {}\n",
    "\n",
    "    criterion = nn.CrossEntropyLoss()\n",
    "\n",
    "    for title, model in models.items():\n",
    "\n",
    "        # Store list for SGD losses, NGD losses, for train and val\n",
    "        model_train_losses = {optim : [] for optim in optimizers}\n",
    "        model_val_losses = {optim : [] for optim in optimizers}\n",
    "        model_update_norms = {optim : [] for optim in optimizers}\n",
    "        model_all_update_norms = {optim : [] for optim in optimizers}\n",
    "\n",
    "        for optim in optimizers:\n",
    "            state = copy.deepcopy(model[optim][0])\n",
    "            if optim == \"sgd\":\n",
    "                optimizer = t.optim.SGD(\n",
    "                    params=state.parameters(),\n",
    "                    lr=hp[\"sgd_lr\"],\n",
    "                    momentum=hp[\"momentum\"],\n",
    "                    nesterov=hp[\"nesterov\"],\n",
    "                )\n",
    "            elif optim == \"ngd\":\n",
    "                optimizer = NGD(\n",
    "                    params=state.parameters(),\n",
    "                    lr=hp[\"ngd_lr\"],\n",
    "                    alpha=hp[\"alpha\"],\n",
    "                    eta=hp[\"eta\"],\n",
    "                    epsilon=hp[\"epsilon\"],\n",
    "                    delta=hp[\"delta\"],\n",
    "                    momentum=hp[\"momentum\"],\n",
    "                    nesterov=hp[\"nesterov\"],\n",
    "                )\n",
    "            print(f\"TRAINING MODEL: {title} | OPTIMISER: {optim}\")\n",
    "            initial_train_loss = evaluate(state, train_loader, criterion, device)\n",
    "            initial_val_loss = evaluate(state, test_loader, criterion, device)\n",
    "            model_train_losses[optim].append(initial_train_loss)\n",
    "            model_val_losses[optim].append(initial_val_loss)\n",
    "        \n",
    "            for epoch in range(1, hp[\"num_epochs\"]+1):\n",
    "                train_loss, update_norm, _, epoch_update_norms = train_one_epoch(state, train_loader, optimizer, criterion, device)\n",
    "                val_loss = evaluate(state, test_loader, criterion, device)\n",
    "                model_train_losses[optim].append(train_loss)\n",
    "                model_update_norms[optim].append(update_norm)\n",
    "                model_val_losses[optim].append(val_loss)\n",
    "                #note that epoch_update norms is a list with the update_norm of each minibatch, this will concat the list to previous list\n",
    "                model_all_update_norms[optim] += epoch_update_norms\n",
    "                model[optim].append(copy.deepcopy(state))\n",
    "                print(f\"Epoch {epoch}/{hp['num_epochs']}: train_loss={train_loss:.4f}, val_loss={val_loss:.4f}\")\n",
    "\n",
    "        # Save train/val loss dictionaries to the right model key\n",
    "        train_losses[title] = model_train_losses\n",
    "        val_losses[title] = model_val_losses\n",
    "        update_norms[title] = model_update_norms\n",
    "        all_update_norms[title] = model_all_update_norms\n"
   ]
  },
  {
   "cell_type": "markdown",
   "metadata": {},
   "source": [
    "Only run the below cell ONCE, after everytime you run the initialisation cell. Otherwise, you will keep appending models incorrectly."
   ]
  },
  {
   "cell_type": "code",
   "execution_count": 28,
   "metadata": {
    "execution": {
     "iopub.execute_input": "2024-04-04T13:50:02.784827Z",
     "iopub.status.busy": "2024-04-04T13:50:02.783818Z",
     "iopub.status.idle": "2024-04-04T13:50:02.808687Z",
     "shell.execute_reply": "2024-04-04T13:50:02.808687Z"
    }
   },
   "outputs": [
    {
     "name": "stdout",
     "output_type": "stream",
     "text": [
      "TRAINING MODEL: FFNN 2 HL, 256 HN | OPTIMISER: SGD\n"
     ]
    },
    {
     "name": "stderr",
     "output_type": "stream",
     "text": [
      "100%|██████████| 469/469 [00:02<00:00, 190.86it/s]\n"
     ]
    },
    {
     "name": "stdout",
     "output_type": "stream",
     "text": [
      "Epoch 1/20: train_loss=0.6353, val_loss=0.4644\n"
     ]
    },
    {
     "name": "stderr",
     "output_type": "stream",
     "text": [
      "100%|██████████| 469/469 [00:02<00:00, 188.55it/s]\n"
     ]
    },
    {
     "name": "stdout",
     "output_type": "stream",
     "text": [
      "Epoch 2/20: train_loss=0.4081, val_loss=0.4143\n"
     ]
    },
    {
     "name": "stderr",
     "output_type": "stream",
     "text": [
      "100%|██████████| 469/469 [00:02<00:00, 191.43it/s]\n"
     ]
    },
    {
     "name": "stdout",
     "output_type": "stream",
     "text": [
      "Epoch 3/20: train_loss=0.3641, val_loss=0.3841\n"
     ]
    },
    {
     "name": "stderr",
     "output_type": "stream",
     "text": [
      "100%|██████████| 469/469 [00:02<00:00, 191.60it/s]\n"
     ]
    },
    {
     "name": "stdout",
     "output_type": "stream",
     "text": [
      "Epoch 4/20: train_loss=0.3385, val_loss=0.3680\n"
     ]
    },
    {
     "name": "stderr",
     "output_type": "stream",
     "text": [
      "100%|██████████| 469/469 [00:02<00:00, 191.82it/s]\n"
     ]
    },
    {
     "name": "stdout",
     "output_type": "stream",
     "text": [
      "Epoch 5/20: train_loss=0.3173, val_loss=0.3621\n"
     ]
    },
    {
     "name": "stderr",
     "output_type": "stream",
     "text": [
      "100%|██████████| 469/469 [00:02<00:00, 210.84it/s]\n"
     ]
    },
    {
     "name": "stdout",
     "output_type": "stream",
     "text": [
      "Epoch 6/20: train_loss=0.3000, val_loss=0.3460\n"
     ]
    },
    {
     "name": "stderr",
     "output_type": "stream",
     "text": [
      "100%|██████████| 469/469 [00:02<00:00, 211.02it/s]\n"
     ]
    },
    {
     "name": "stdout",
     "output_type": "stream",
     "text": [
      "Epoch 7/20: train_loss=0.2858, val_loss=0.3535\n"
     ]
    },
    {
     "name": "stderr",
     "output_type": "stream",
     "text": [
      "100%|██████████| 469/469 [00:02<00:00, 207.21it/s]\n"
     ]
    },
    {
     "name": "stdout",
     "output_type": "stream",
     "text": [
      "Epoch 8/20: train_loss=0.2723, val_loss=0.3480\n"
     ]
    },
    {
     "name": "stderr",
     "output_type": "stream",
     "text": [
      "100%|██████████| 469/469 [00:02<00:00, 212.60it/s]\n"
     ]
    },
    {
     "name": "stdout",
     "output_type": "stream",
     "text": [
      "Epoch 9/20: train_loss=0.2610, val_loss=0.3381\n"
     ]
    },
    {
     "name": "stderr",
     "output_type": "stream",
     "text": [
      "100%|██████████| 469/469 [00:02<00:00, 218.11it/s]\n"
     ]
    },
    {
     "name": "stdout",
     "output_type": "stream",
     "text": [
      "Epoch 10/20: train_loss=0.2502, val_loss=0.3238\n",
      "Training from model checkpoint with SGD.\n"
     ]
    },
    {
     "name": "stderr",
     "output_type": "stream",
     "text": [
      "100%|██████████| 469/469 [00:02<00:00, 198.40it/s]\n"
     ]
    },
    {
     "name": "stdout",
     "output_type": "stream",
     "text": [
      "Epoch 11/20: train_loss=0.2409, val_loss=0.3316\n"
     ]
    },
    {
     "name": "stderr",
     "output_type": "stream",
     "text": [
      "100%|██████████| 469/469 [00:02<00:00, 184.44it/s]\n"
     ]
    },
    {
     "name": "stdout",
     "output_type": "stream",
     "text": [
      "Epoch 12/20: train_loss=0.2314, val_loss=0.3259\n"
     ]
    },
    {
     "name": "stderr",
     "output_type": "stream",
     "text": [
      "100%|██████████| 469/469 [00:02<00:00, 220.46it/s]\n"
     ]
    },
    {
     "name": "stdout",
     "output_type": "stream",
     "text": [
      "Epoch 13/20: train_loss=0.2245, val_loss=0.3248\n"
     ]
    },
    {
     "name": "stderr",
     "output_type": "stream",
     "text": [
      "100%|██████████| 469/469 [00:02<00:00, 201.28it/s]\n"
     ]
    },
    {
     "name": "stdout",
     "output_type": "stream",
     "text": [
      "Epoch 14/20: train_loss=0.2148, val_loss=0.3330\n"
     ]
    },
    {
     "name": "stderr",
     "output_type": "stream",
     "text": [
      "100%|██████████| 469/469 [00:02<00:00, 201.35it/s]\n"
     ]
    },
    {
     "name": "stdout",
     "output_type": "stream",
     "text": [
      "Epoch 15/20: train_loss=0.2091, val_loss=0.3301\n"
     ]
    },
    {
     "name": "stderr",
     "output_type": "stream",
     "text": [
      "100%|██████████| 469/469 [00:02<00:00, 186.19it/s]\n"
     ]
    },
    {
     "name": "stdout",
     "output_type": "stream",
     "text": [
      "Epoch 16/20: train_loss=0.2005, val_loss=0.3352\n"
     ]
    },
    {
     "name": "stderr",
     "output_type": "stream",
     "text": [
      "100%|██████████| 469/469 [00:02<00:00, 185.41it/s]\n"
     ]
    },
    {
     "name": "stdout",
     "output_type": "stream",
     "text": [
      "Epoch 17/20: train_loss=0.1936, val_loss=0.3387\n"
     ]
    },
    {
     "name": "stderr",
     "output_type": "stream",
     "text": [
      "100%|██████████| 469/469 [00:03<00:00, 130.75it/s]\n"
     ]
    },
    {
     "name": "stdout",
     "output_type": "stream",
     "text": [
      "Epoch 18/20: train_loss=0.1883, val_loss=0.3338\n"
     ]
    },
    {
     "name": "stderr",
     "output_type": "stream",
     "text": [
      "100%|██████████| 469/469 [00:02<00:00, 176.85it/s]\n"
     ]
    },
    {
     "name": "stdout",
     "output_type": "stream",
     "text": [
      "Epoch 19/20: train_loss=0.1809, val_loss=0.3471\n"
     ]
    },
    {
     "name": "stderr",
     "output_type": "stream",
     "text": [
      "100%|██████████| 469/469 [00:02<00:00, 191.00it/s]\n"
     ]
    },
    {
     "name": "stdout",
     "output_type": "stream",
     "text": [
      "Epoch 20/20: train_loss=0.1737, val_loss=0.3254\n",
      "Training from model checkpoint with NGD.\n"
     ]
    },
    {
     "name": "stderr",
     "output_type": "stream",
     "text": [
      "100%|██████████| 469/469 [00:06<00:00, 72.44it/s]\n"
     ]
    },
    {
     "name": "stdout",
     "output_type": "stream",
     "text": [
      "Epoch 11/20: train_loss=0.2173, val_loss=0.3077\n"
     ]
    },
    {
     "name": "stderr",
     "output_type": "stream",
     "text": [
      "100%|██████████| 469/469 [00:05<00:00, 79.62it/s]\n"
     ]
    },
    {
     "name": "stdout",
     "output_type": "stream",
     "text": [
      "Epoch 12/20: train_loss=0.1989, val_loss=0.3011\n"
     ]
    },
    {
     "name": "stderr",
     "output_type": "stream",
     "text": [
      "100%|██████████| 469/469 [00:05<00:00, 79.40it/s]\n"
     ]
    },
    {
     "name": "stdout",
     "output_type": "stream",
     "text": [
      "Epoch 13/20: train_loss=0.1837, val_loss=0.3029\n"
     ]
    },
    {
     "name": "stderr",
     "output_type": "stream",
     "text": [
      "100%|██████████| 469/469 [00:05<00:00, 80.94it/s]\n"
     ]
    },
    {
     "name": "stdout",
     "output_type": "stream",
     "text": [
      "Epoch 14/20: train_loss=0.1702, val_loss=0.3054\n"
     ]
    },
    {
     "name": "stderr",
     "output_type": "stream",
     "text": [
      "100%|██████████| 469/469 [00:06<00:00, 77.60it/s]\n"
     ]
    },
    {
     "name": "stdout",
     "output_type": "stream",
     "text": [
      "Epoch 15/20: train_loss=0.1566, val_loss=0.3106\n"
     ]
    },
    {
     "name": "stderr",
     "output_type": "stream",
     "text": [
      "100%|██████████| 469/469 [00:05<00:00, 82.36it/s]\n"
     ]
    },
    {
     "name": "stdout",
     "output_type": "stream",
     "text": [
      "Epoch 16/20: train_loss=0.1433, val_loss=0.3058\n"
     ]
    },
    {
     "name": "stderr",
     "output_type": "stream",
     "text": [
      "100%|██████████| 469/469 [00:05<00:00, 79.13it/s]\n"
     ]
    },
    {
     "name": "stdout",
     "output_type": "stream",
     "text": [
      "Epoch 17/20: train_loss=0.1312, val_loss=0.3134\n"
     ]
    },
    {
     "name": "stderr",
     "output_type": "stream",
     "text": [
      "100%|██████████| 469/469 [00:06<00:00, 75.41it/s]\n"
     ]
    },
    {
     "name": "stdout",
     "output_type": "stream",
     "text": [
      "Epoch 18/20: train_loss=0.1200, val_loss=0.3191\n"
     ]
    },
    {
     "name": "stderr",
     "output_type": "stream",
     "text": [
      "100%|██████████| 469/469 [00:05<00:00, 79.92it/s]\n"
     ]
    },
    {
     "name": "stdout",
     "output_type": "stream",
     "text": [
      "Epoch 19/20: train_loss=0.1112, val_loss=0.3210\n"
     ]
    },
    {
     "name": "stderr",
     "output_type": "stream",
     "text": [
      "100%|██████████| 469/469 [00:06<00:00, 76.86it/s]\n"
     ]
    },
    {
     "name": "stdout",
     "output_type": "stream",
     "text": [
      "Epoch 20/20: train_loss=0.1031, val_loss=0.3323\n"
     ]
    }
   ],
   "source": [
    "# EXPERIMENT 2: Train to convergence with SGD, then continue with SGD and NGD and compare\n",
    "\n",
    "if hp[\"experiment_type\"] == \"swap\":\n",
    "    train_losses = {}\n",
    "    val_losses = {}\n",
    "    update_norms = {}\n",
    "    all_update_norms = {}\n",
    "\n",
    "    criterion = nn.CrossEntropyLoss()\n",
    "\n",
    "    for title, model in models.items():\n",
    "        \n",
    "        #delete the first model for NGD as we recycle the SGD stuff\n",
    "        #del model[\"ngd\"][0]\n",
    "        #replace this first model with a bunch of Nones\n",
    "        model[\"ngd\"]=[None for i in range(hp[\"cut_off_epochs\"]+1)]\n",
    "\n",
    "        #fill in first few with None, for NGD\n",
    "        model_train_losses = {\"sgd\" : [], \"ngd\" : [None for i in range(hp[\"cut_off_epochs\"]+1)]}\n",
    "        model_val_losses = {\"sgd\" : [], \"ngd\" : [None for i in range(hp[\"cut_off_epochs\"]+1)]}\n",
    "        model_update_norms = {\"sgd\" : [], \"ngd\" : [None for i in range(hp[\"cut_off_epochs\"]+1)]}\n",
    "        model_all_update_norms = {\"sgd\" : [], \"ngd\" : [None for i in range(len(train_loader)*hp[\"cut_off_epochs\"])]}\n",
    "\n",
    "        state = copy.deepcopy(model[\"sgd\"][0])\n",
    "        optimizer = t.optim.SGD(\n",
    "            params=state.parameters(),\n",
    "            lr=hp[\"sgd_lr\"],\n",
    "            momentum=hp[\"momentum\"],\n",
    "            nesterov=hp[\"nesterov\"],\n",
    "        )\n",
    "    \n",
    "        print(f\"TRAINING MODEL: {title} | OPTIMISER: SGD\")\n",
    "        initial_train_loss = evaluate(state, train_loader, criterion, device)\n",
    "        initial_val_loss = evaluate(state, test_loader, criterion, device)\n",
    "        model_train_losses[\"sgd\"].append(initial_train_loss)\n",
    "        model_val_losses[\"sgd\"].append(initial_val_loss)\n",
    "        for epoch in range(1, hp[\"cut_off_epochs\"]+1):\n",
    "            train_loss, update_norm, _, epoch_update_norms = train_one_epoch(state, train_loader, optimizer, criterion, device)\n",
    "            val_loss = evaluate(state, test_loader, criterion, device)\n",
    "            model_train_losses[\"sgd\"].append(train_loss)\n",
    "            model_update_norms[\"sgd\"].append(update_norm)\n",
    "            model_val_losses[\"sgd\"].append(val_loss)\n",
    "            model_all_update_norms[\"sgd\"] += epoch_update_norms\n",
    "            model[\"sgd\"].append(copy.deepcopy(state))\n",
    "            print(f\"Epoch {epoch}/{hp['num_epochs']}: train_loss={train_loss:.4f}, val_loss={val_loss:.4f}\")\n",
    "\n",
    "\n",
    "        # Train with SGD\n",
    "        print(\"Training from model checkpoint with SGD.\")\n",
    "        state = copy.deepcopy(model[\"sgd\"][hp[\"cut_off_epochs\"]])\n",
    "        optim_sgd = t.optim.SGD(\n",
    "            params=state.parameters(),\n",
    "            #multiply this to vary SGD\n",
    "            lr=hp[\"sgd_lr\"],\n",
    "            momentum=hp[\"momentum\"],\n",
    "            nesterov=hp[\"nesterov\"],\n",
    "        )\n",
    "        for epoch in range(hp[\"cut_off_epochs\"]+1, hp[\"num_epochs\"]+1):\n",
    "            train_loss, update_norm, _, epoch_update_norms = train_one_epoch(state, train_loader, optim_sgd, criterion, device)\n",
    "            val_loss = evaluate(state, test_loader, criterion, device)\n",
    "            model_train_losses[\"sgd\"].append(train_loss)\n",
    "            model_update_norms[\"sgd\"].append(update_norm)\n",
    "            model_val_losses[\"sgd\"].append(val_loss)\n",
    "            model_all_update_norms[\"sgd\"] += epoch_update_norms\n",
    "            model[\"sgd\"].append(copy.deepcopy(state))\n",
    "            print(f\"Epoch {epoch}/{hp['num_epochs']}: train_loss={train_loss:.4f}, val_loss={val_loss:.4f}\")\n",
    "        \n",
    "        # Train with NGD\n",
    "        print(\"Training from model checkpoint with NGD.\")\n",
    "        state = copy.deepcopy(model[\"sgd\"][hp[\"cut_off_epochs\"]])\n",
    "        optim_ngd = NGD(\n",
    "            params=state.parameters(),\n",
    "            lr=hp[\"ngd_lr\"],\n",
    "            alpha=hp[\"alpha\"],\n",
    "            eta=hp[\"eta\"],\n",
    "            epsilon=hp[\"epsilon\"],\n",
    "            delta=hp[\"delta\"],\n",
    "            momentum=hp[\"momentum\"],\n",
    "            nesterov=hp[\"nesterov\"],\n",
    "        )\n",
    "        for epoch in range(hp[\"cut_off_epochs\"]+1, hp[\"num_epochs\"]+1):\n",
    "            train_loss, update_norm, _, epoch_update_norms = train_one_epoch(state, train_loader, optim_ngd, criterion, device)\n",
    "            val_loss = evaluate(state, test_loader, criterion, device)\n",
    "            model_train_losses[\"ngd\"].append(train_loss)\n",
    "            model_update_norms[\"ngd\"].append(update_norm)\n",
    "            model_val_losses[\"ngd\"].append(val_loss)\n",
    "            model_all_update_norms[\"ngd\"] += epoch_update_norms\n",
    "            model[\"ngd\"].append(copy.deepcopy(state))\n",
    "            print(f\"Epoch {epoch}/{hp['num_epochs']}: train_loss={train_loss:.4f}, val_loss={val_loss:.4f}\")\n",
    "\n",
    "        # Save train/val loss dictionaries to the right model key\n",
    "        train_losses[title] = model_train_losses\n",
    "        val_losses[title] = model_val_losses\n",
    "        update_norms[title] = model_update_norms\n",
    "        all_update_norms[title] = model_all_update_norms\n"
   ]
  },
  {
   "cell_type": "markdown",
   "metadata": {},
   "source": [
    "#### **3. Visualising training / validation loss results**\n",
    "\n",
    "Check that the models all converged.\n",
    "\n",
    "Displays training and testing data for each model separately, with 4 traces on each graph.\n",
    "\n",
    "The traces are: SGD training, SGD testing, NGD training, NGD testing."
   ]
  },
  {
   "cell_type": "code",
   "execution_count": 29,
   "metadata": {},
   "outputs": [],
   "source": [
    "color_cycle = ['rgb(200, 0, 0)', 'rgb(32, 102, 168)']"
   ]
  },
  {
   "cell_type": "code",
   "execution_count": 30,
   "metadata": {},
   "outputs": [
    {
     "data": {
      "application/vnd.plotly.v1+json": {
       "config": {
        "plotlyServerURL": "https://plot.ly"
       },
       "data": [
        {
         "line": {
          "color": "rgb(200, 0, 0)",
          "width": 3
         },
         "mode": "lines",
         "name": "ngd Train",
         "type": "scatter",
         "x": [
          0,
          1,
          2,
          3,
          4,
          5,
          6,
          7,
          8,
          9,
          10,
          11,
          12,
          13,
          14,
          15,
          16,
          17,
          18,
          19,
          20
         ],
         "y": [
          null,
          null,
          null,
          null,
          null,
          null,
          null,
          null,
          null,
          null,
          null,
          0.2173207056230065,
          0.1989209541697492,
          0.18374567334331685,
          0.17018428888084539,
          0.1566367996876428,
          0.14327726298685012,
          0.13124933534625496,
          0.12000412641684892,
          0.11122052144330702,
          0.10310743076365385
         ]
        },
        {
         "line": {
          "color": "rgb(200, 0, 0)",
          "dash": "dot",
          "width": 3
         },
         "mode": "lines",
         "name": "ngd Validation",
         "type": "scatter",
         "x": [
          0,
          1,
          2,
          3,
          4,
          5,
          6,
          7,
          8,
          9,
          10,
          11,
          12,
          13,
          14,
          15,
          16,
          17,
          18,
          19,
          20
         ],
         "y": [
          null,
          null,
          null,
          null,
          null,
          null,
          null,
          null,
          null,
          null,
          null,
          0.3077232172783417,
          0.3011465044338492,
          0.30294640965854064,
          0.3054043472379069,
          0.3106376016630402,
          0.3058438793390612,
          0.3134004330333275,
          0.3190710579481306,
          0.32104550801877735,
          0.3322550241328493
         ]
        },
        {
         "line": {
          "color": "rgb(32, 102, 168)",
          "width": 3
         },
         "mode": "lines",
         "name": "sgd Train",
         "type": "scatter",
         "x": [
          0,
          1,
          2,
          3,
          4,
          5,
          6,
          7,
          8,
          9,
          10,
          11,
          12,
          13,
          14,
          15,
          16,
          17,
          18,
          19,
          20
         ],
         "y": [
          2.2939769901446443,
          0.6352551827298553,
          0.4080825483621056,
          0.36413710013127276,
          0.33846194187461187,
          0.3173150700419696,
          0.2999569856917172,
          0.28582970801192814,
          0.2722546579296401,
          0.2609818017463694,
          0.25019773173688065,
          0.24089388352340219,
          0.2314323473618483,
          0.22446403514220517,
          0.2148459550859069,
          0.20905278198945243,
          0.20050617518709668,
          0.19358056089453607,
          0.18832674938669083,
          0.18090477765305465,
          0.17370825773204313
         ]
        },
        {
         "line": {
          "color": "rgb(32, 102, 168)",
          "dash": "dot",
          "width": 3
         },
         "mode": "lines",
         "name": "sgd Validation",
         "type": "scatter",
         "x": [
          0,
          1,
          2,
          3,
          4,
          5,
          6,
          7,
          8,
          9,
          10,
          11,
          12,
          13,
          14,
          15,
          16,
          17,
          18,
          19,
          20
         ],
         "y": [
          2.2948665286921246,
          0.4644393811497507,
          0.4143499980998945,
          0.38412458044064196,
          0.3679977789332595,
          0.36207038484796694,
          0.3460205335028564,
          0.35346390042878406,
          0.3479530105862436,
          0.33807471932112415,
          0.32381722199011453,
          0.3315510319758065,
          0.3259355208919018,
          0.32478713291355327,
          0.332985232525234,
          0.330069693960721,
          0.3351811977881419,
          0.33870423924696597,
          0.33378992248562317,
          0.34709413783459725,
          0.325433915740327
         ]
        }
       ],
       "layout": {
        "height": 400,
        "legend": {
         "orientation": "h",
         "x": 0,
         "xanchor": "left",
         "y": 1,
         "yanchor": "bottom"
        },
        "template": {
         "data": {
          "bar": [
           {
            "error_x": {
             "color": "#2a3f5f"
            },
            "error_y": {
             "color": "#2a3f5f"
            },
            "marker": {
             "line": {
              "color": "#E5ECF6",
              "width": 0.5
             },
             "pattern": {
              "fillmode": "overlay",
              "size": 10,
              "solidity": 0.2
             }
            },
            "type": "bar"
           }
          ],
          "barpolar": [
           {
            "marker": {
             "line": {
              "color": "#E5ECF6",
              "width": 0.5
             },
             "pattern": {
              "fillmode": "overlay",
              "size": 10,
              "solidity": 0.2
             }
            },
            "type": "barpolar"
           }
          ],
          "carpet": [
           {
            "aaxis": {
             "endlinecolor": "#2a3f5f",
             "gridcolor": "white",
             "linecolor": "white",
             "minorgridcolor": "white",
             "startlinecolor": "#2a3f5f"
            },
            "baxis": {
             "endlinecolor": "#2a3f5f",
             "gridcolor": "white",
             "linecolor": "white",
             "minorgridcolor": "white",
             "startlinecolor": "#2a3f5f"
            },
            "type": "carpet"
           }
          ],
          "choropleth": [
           {
            "colorbar": {
             "outlinewidth": 0,
             "ticks": ""
            },
            "type": "choropleth"
           }
          ],
          "contour": [
           {
            "colorbar": {
             "outlinewidth": 0,
             "ticks": ""
            },
            "colorscale": [
             [
              0,
              "#0d0887"
             ],
             [
              0.1111111111111111,
              "#46039f"
             ],
             [
              0.2222222222222222,
              "#7201a8"
             ],
             [
              0.3333333333333333,
              "#9c179e"
             ],
             [
              0.4444444444444444,
              "#bd3786"
             ],
             [
              0.5555555555555556,
              "#d8576b"
             ],
             [
              0.6666666666666666,
              "#ed7953"
             ],
             [
              0.7777777777777778,
              "#fb9f3a"
             ],
             [
              0.8888888888888888,
              "#fdca26"
             ],
             [
              1,
              "#f0f921"
             ]
            ],
            "type": "contour"
           }
          ],
          "contourcarpet": [
           {
            "colorbar": {
             "outlinewidth": 0,
             "ticks": ""
            },
            "type": "contourcarpet"
           }
          ],
          "heatmap": [
           {
            "colorbar": {
             "outlinewidth": 0,
             "ticks": ""
            },
            "colorscale": [
             [
              0,
              "#0d0887"
             ],
             [
              0.1111111111111111,
              "#46039f"
             ],
             [
              0.2222222222222222,
              "#7201a8"
             ],
             [
              0.3333333333333333,
              "#9c179e"
             ],
             [
              0.4444444444444444,
              "#bd3786"
             ],
             [
              0.5555555555555556,
              "#d8576b"
             ],
             [
              0.6666666666666666,
              "#ed7953"
             ],
             [
              0.7777777777777778,
              "#fb9f3a"
             ],
             [
              0.8888888888888888,
              "#fdca26"
             ],
             [
              1,
              "#f0f921"
             ]
            ],
            "type": "heatmap"
           }
          ],
          "heatmapgl": [
           {
            "colorbar": {
             "outlinewidth": 0,
             "ticks": ""
            },
            "colorscale": [
             [
              0,
              "#0d0887"
             ],
             [
              0.1111111111111111,
              "#46039f"
             ],
             [
              0.2222222222222222,
              "#7201a8"
             ],
             [
              0.3333333333333333,
              "#9c179e"
             ],
             [
              0.4444444444444444,
              "#bd3786"
             ],
             [
              0.5555555555555556,
              "#d8576b"
             ],
             [
              0.6666666666666666,
              "#ed7953"
             ],
             [
              0.7777777777777778,
              "#fb9f3a"
             ],
             [
              0.8888888888888888,
              "#fdca26"
             ],
             [
              1,
              "#f0f921"
             ]
            ],
            "type": "heatmapgl"
           }
          ],
          "histogram": [
           {
            "marker": {
             "pattern": {
              "fillmode": "overlay",
              "size": 10,
              "solidity": 0.2
             }
            },
            "type": "histogram"
           }
          ],
          "histogram2d": [
           {
            "colorbar": {
             "outlinewidth": 0,
             "ticks": ""
            },
            "colorscale": [
             [
              0,
              "#0d0887"
             ],
             [
              0.1111111111111111,
              "#46039f"
             ],
             [
              0.2222222222222222,
              "#7201a8"
             ],
             [
              0.3333333333333333,
              "#9c179e"
             ],
             [
              0.4444444444444444,
              "#bd3786"
             ],
             [
              0.5555555555555556,
              "#d8576b"
             ],
             [
              0.6666666666666666,
              "#ed7953"
             ],
             [
              0.7777777777777778,
              "#fb9f3a"
             ],
             [
              0.8888888888888888,
              "#fdca26"
             ],
             [
              1,
              "#f0f921"
             ]
            ],
            "type": "histogram2d"
           }
          ],
          "histogram2dcontour": [
           {
            "colorbar": {
             "outlinewidth": 0,
             "ticks": ""
            },
            "colorscale": [
             [
              0,
              "#0d0887"
             ],
             [
              0.1111111111111111,
              "#46039f"
             ],
             [
              0.2222222222222222,
              "#7201a8"
             ],
             [
              0.3333333333333333,
              "#9c179e"
             ],
             [
              0.4444444444444444,
              "#bd3786"
             ],
             [
              0.5555555555555556,
              "#d8576b"
             ],
             [
              0.6666666666666666,
              "#ed7953"
             ],
             [
              0.7777777777777778,
              "#fb9f3a"
             ],
             [
              0.8888888888888888,
              "#fdca26"
             ],
             [
              1,
              "#f0f921"
             ]
            ],
            "type": "histogram2dcontour"
           }
          ],
          "mesh3d": [
           {
            "colorbar": {
             "outlinewidth": 0,
             "ticks": ""
            },
            "type": "mesh3d"
           }
          ],
          "parcoords": [
           {
            "line": {
             "colorbar": {
              "outlinewidth": 0,
              "ticks": ""
             }
            },
            "type": "parcoords"
           }
          ],
          "pie": [
           {
            "automargin": true,
            "type": "pie"
           }
          ],
          "scatter": [
           {
            "fillpattern": {
             "fillmode": "overlay",
             "size": 10,
             "solidity": 0.2
            },
            "type": "scatter"
           }
          ],
          "scatter3d": [
           {
            "line": {
             "colorbar": {
              "outlinewidth": 0,
              "ticks": ""
             }
            },
            "marker": {
             "colorbar": {
              "outlinewidth": 0,
              "ticks": ""
             }
            },
            "type": "scatter3d"
           }
          ],
          "scattercarpet": [
           {
            "marker": {
             "colorbar": {
              "outlinewidth": 0,
              "ticks": ""
             }
            },
            "type": "scattercarpet"
           }
          ],
          "scattergeo": [
           {
            "marker": {
             "colorbar": {
              "outlinewidth": 0,
              "ticks": ""
             }
            },
            "type": "scattergeo"
           }
          ],
          "scattergl": [
           {
            "marker": {
             "colorbar": {
              "outlinewidth": 0,
              "ticks": ""
             }
            },
            "type": "scattergl"
           }
          ],
          "scattermapbox": [
           {
            "marker": {
             "colorbar": {
              "outlinewidth": 0,
              "ticks": ""
             }
            },
            "type": "scattermapbox"
           }
          ],
          "scatterpolar": [
           {
            "marker": {
             "colorbar": {
              "outlinewidth": 0,
              "ticks": ""
             }
            },
            "type": "scatterpolar"
           }
          ],
          "scatterpolargl": [
           {
            "marker": {
             "colorbar": {
              "outlinewidth": 0,
              "ticks": ""
             }
            },
            "type": "scatterpolargl"
           }
          ],
          "scatterternary": [
           {
            "marker": {
             "colorbar": {
              "outlinewidth": 0,
              "ticks": ""
             }
            },
            "type": "scatterternary"
           }
          ],
          "surface": [
           {
            "colorbar": {
             "outlinewidth": 0,
             "ticks": ""
            },
            "colorscale": [
             [
              0,
              "#0d0887"
             ],
             [
              0.1111111111111111,
              "#46039f"
             ],
             [
              0.2222222222222222,
              "#7201a8"
             ],
             [
              0.3333333333333333,
              "#9c179e"
             ],
             [
              0.4444444444444444,
              "#bd3786"
             ],
             [
              0.5555555555555556,
              "#d8576b"
             ],
             [
              0.6666666666666666,
              "#ed7953"
             ],
             [
              0.7777777777777778,
              "#fb9f3a"
             ],
             [
              0.8888888888888888,
              "#fdca26"
             ],
             [
              1,
              "#f0f921"
             ]
            ],
            "type": "surface"
           }
          ],
          "table": [
           {
            "cells": {
             "fill": {
              "color": "#EBF0F8"
             },
             "line": {
              "color": "white"
             }
            },
            "header": {
             "fill": {
              "color": "#C8D4E3"
             },
             "line": {
              "color": "white"
             }
            },
            "type": "table"
           }
          ]
         },
         "layout": {
          "annotationdefaults": {
           "arrowcolor": "#2a3f5f",
           "arrowhead": 0,
           "arrowwidth": 1
          },
          "autotypenumbers": "strict",
          "coloraxis": {
           "colorbar": {
            "outlinewidth": 0,
            "ticks": ""
           }
          },
          "colorscale": {
           "diverging": [
            [
             0,
             "#8e0152"
            ],
            [
             0.1,
             "#c51b7d"
            ],
            [
             0.2,
             "#de77ae"
            ],
            [
             0.3,
             "#f1b6da"
            ],
            [
             0.4,
             "#fde0ef"
            ],
            [
             0.5,
             "#f7f7f7"
            ],
            [
             0.6,
             "#e6f5d0"
            ],
            [
             0.7,
             "#b8e186"
            ],
            [
             0.8,
             "#7fbc41"
            ],
            [
             0.9,
             "#4d9221"
            ],
            [
             1,
             "#276419"
            ]
           ],
           "sequential": [
            [
             0,
             "#0d0887"
            ],
            [
             0.1111111111111111,
             "#46039f"
            ],
            [
             0.2222222222222222,
             "#7201a8"
            ],
            [
             0.3333333333333333,
             "#9c179e"
            ],
            [
             0.4444444444444444,
             "#bd3786"
            ],
            [
             0.5555555555555556,
             "#d8576b"
            ],
            [
             0.6666666666666666,
             "#ed7953"
            ],
            [
             0.7777777777777778,
             "#fb9f3a"
            ],
            [
             0.8888888888888888,
             "#fdca26"
            ],
            [
             1,
             "#f0f921"
            ]
           ],
           "sequentialminus": [
            [
             0,
             "#0d0887"
            ],
            [
             0.1111111111111111,
             "#46039f"
            ],
            [
             0.2222222222222222,
             "#7201a8"
            ],
            [
             0.3333333333333333,
             "#9c179e"
            ],
            [
             0.4444444444444444,
             "#bd3786"
            ],
            [
             0.5555555555555556,
             "#d8576b"
            ],
            [
             0.6666666666666666,
             "#ed7953"
            ],
            [
             0.7777777777777778,
             "#fb9f3a"
            ],
            [
             0.8888888888888888,
             "#fdca26"
            ],
            [
             1,
             "#f0f921"
            ]
           ]
          },
          "colorway": [
           "#636efa",
           "#EF553B",
           "#00cc96",
           "#ab63fa",
           "#FFA15A",
           "#19d3f3",
           "#FF6692",
           "#B6E880",
           "#FF97FF",
           "#FECB52"
          ],
          "font": {
           "color": "#2a3f5f"
          },
          "geo": {
           "bgcolor": "white",
           "lakecolor": "white",
           "landcolor": "#E5ECF6",
           "showlakes": true,
           "showland": true,
           "subunitcolor": "white"
          },
          "hoverlabel": {
           "align": "left"
          },
          "hovermode": "closest",
          "mapbox": {
           "style": "light"
          },
          "paper_bgcolor": "white",
          "plot_bgcolor": "#E5ECF6",
          "polar": {
           "angularaxis": {
            "gridcolor": "white",
            "linecolor": "white",
            "ticks": ""
           },
           "bgcolor": "#E5ECF6",
           "radialaxis": {
            "gridcolor": "white",
            "linecolor": "white",
            "ticks": ""
           }
          },
          "scene": {
           "xaxis": {
            "backgroundcolor": "#E5ECF6",
            "gridcolor": "white",
            "gridwidth": 2,
            "linecolor": "white",
            "showbackground": true,
            "ticks": "",
            "zerolinecolor": "white"
           },
           "yaxis": {
            "backgroundcolor": "#E5ECF6",
            "gridcolor": "white",
            "gridwidth": 2,
            "linecolor": "white",
            "showbackground": true,
            "ticks": "",
            "zerolinecolor": "white"
           },
           "zaxis": {
            "backgroundcolor": "#E5ECF6",
            "gridcolor": "white",
            "gridwidth": 2,
            "linecolor": "white",
            "showbackground": true,
            "ticks": "",
            "zerolinecolor": "white"
           }
          },
          "shapedefaults": {
           "line": {
            "color": "#2a3f5f"
           }
          },
          "ternary": {
           "aaxis": {
            "gridcolor": "white",
            "linecolor": "white",
            "ticks": ""
           },
           "baxis": {
            "gridcolor": "white",
            "linecolor": "white",
            "ticks": ""
           },
           "bgcolor": "#E5ECF6",
           "caxis": {
            "gridcolor": "white",
            "linecolor": "white",
            "ticks": ""
           }
          },
          "title": {
           "x": 0.05
          },
          "xaxis": {
           "automargin": true,
           "gridcolor": "white",
           "linecolor": "white",
           "ticks": "",
           "title": {
            "standoff": 15
           },
           "zerolinecolor": "white",
           "zerolinewidth": 2
          },
          "yaxis": {
           "automargin": true,
           "gridcolor": "white",
           "linecolor": "white",
           "ticks": "",
           "title": {
            "standoff": 15
           },
           "zerolinecolor": "white",
           "zerolinewidth": 2
          }
         }
        },
        "title": {
         "text": "FFNN 2 HL, 256 HN training / validation loss"
        },
        "width": 600,
        "xaxis": {
         "dtick": 5,
         "tick0": 0,
         "tickmode": "linear",
         "title": {
          "text": "Epoch"
         }
        },
        "yaxis": {
         "range": [
          0,
          null
         ],
         "title": {
          "text": "Loss"
         },
         "type": "linear"
        }
       }
      },
      "text/html": [
       "<div>                            <div id=\"e2f8c0ec-f50e-4a91-92d6-d47e4b2827dd\" class=\"plotly-graph-div\" style=\"height:400px; width:600px;\"></div>            <script type=\"text/javascript\">                require([\"plotly\"], function(Plotly) {                    window.PLOTLYENV=window.PLOTLYENV || {};                                    if (document.getElementById(\"e2f8c0ec-f50e-4a91-92d6-d47e4b2827dd\")) {                    Plotly.newPlot(                        \"e2f8c0ec-f50e-4a91-92d6-d47e4b2827dd\",                        [{\"line\":{\"color\":\"rgb(200, 0, 0)\",\"width\":3},\"mode\":\"lines\",\"name\":\"ngd Train\",\"x\":[0,1,2,3,4,5,6,7,8,9,10,11,12,13,14,15,16,17,18,19,20],\"y\":[null,null,null,null,null,null,null,null,null,null,null,0.2173207056230065,0.1989209541697492,0.18374567334331685,0.17018428888084539,0.1566367996876428,0.14327726298685012,0.13124933534625496,0.12000412641684892,0.11122052144330702,0.10310743076365385],\"type\":\"scatter\"},{\"line\":{\"color\":\"rgb(200, 0, 0)\",\"dash\":\"dot\",\"width\":3},\"mode\":\"lines\",\"name\":\"ngd Validation\",\"x\":[0,1,2,3,4,5,6,7,8,9,10,11,12,13,14,15,16,17,18,19,20],\"y\":[null,null,null,null,null,null,null,null,null,null,null,0.3077232172783417,0.3011465044338492,0.30294640965854064,0.3054043472379069,0.3106376016630402,0.3058438793390612,0.3134004330333275,0.3190710579481306,0.32104550801877735,0.3322550241328493],\"type\":\"scatter\"},{\"line\":{\"color\":\"rgb(32, 102, 168)\",\"width\":3},\"mode\":\"lines\",\"name\":\"sgd Train\",\"x\":[0,1,2,3,4,5,6,7,8,9,10,11,12,13,14,15,16,17,18,19,20],\"y\":[2.2939769901446443,0.6352551827298553,0.4080825483621056,0.36413710013127276,0.33846194187461187,0.3173150700419696,0.2999569856917172,0.28582970801192814,0.2722546579296401,0.2609818017463694,0.25019773173688065,0.24089388352340219,0.2314323473618483,0.22446403514220517,0.2148459550859069,0.20905278198945243,0.20050617518709668,0.19358056089453607,0.18832674938669083,0.18090477765305465,0.17370825773204313],\"type\":\"scatter\"},{\"line\":{\"color\":\"rgb(32, 102, 168)\",\"dash\":\"dot\",\"width\":3},\"mode\":\"lines\",\"name\":\"sgd Validation\",\"x\":[0,1,2,3,4,5,6,7,8,9,10,11,12,13,14,15,16,17,18,19,20],\"y\":[2.2948665286921246,0.4644393811497507,0.4143499980998945,0.38412458044064196,0.3679977789332595,0.36207038484796694,0.3460205335028564,0.35346390042878406,0.3479530105862436,0.33807471932112415,0.32381722199011453,0.3315510319758065,0.3259355208919018,0.32478713291355327,0.332985232525234,0.330069693960721,0.3351811977881419,0.33870423924696597,0.33378992248562317,0.34709413783459725,0.325433915740327],\"type\":\"scatter\"}],                        {\"template\":{\"data\":{\"histogram2dcontour\":[{\"type\":\"histogram2dcontour\",\"colorbar\":{\"outlinewidth\":0,\"ticks\":\"\"},\"colorscale\":[[0.0,\"#0d0887\"],[0.1111111111111111,\"#46039f\"],[0.2222222222222222,\"#7201a8\"],[0.3333333333333333,\"#9c179e\"],[0.4444444444444444,\"#bd3786\"],[0.5555555555555556,\"#d8576b\"],[0.6666666666666666,\"#ed7953\"],[0.7777777777777778,\"#fb9f3a\"],[0.8888888888888888,\"#fdca26\"],[1.0,\"#f0f921\"]]}],\"choropleth\":[{\"type\":\"choropleth\",\"colorbar\":{\"outlinewidth\":0,\"ticks\":\"\"}}],\"histogram2d\":[{\"type\":\"histogram2d\",\"colorbar\":{\"outlinewidth\":0,\"ticks\":\"\"},\"colorscale\":[[0.0,\"#0d0887\"],[0.1111111111111111,\"#46039f\"],[0.2222222222222222,\"#7201a8\"],[0.3333333333333333,\"#9c179e\"],[0.4444444444444444,\"#bd3786\"],[0.5555555555555556,\"#d8576b\"],[0.6666666666666666,\"#ed7953\"],[0.7777777777777778,\"#fb9f3a\"],[0.8888888888888888,\"#fdca26\"],[1.0,\"#f0f921\"]]}],\"heatmap\":[{\"type\":\"heatmap\",\"colorbar\":{\"outlinewidth\":0,\"ticks\":\"\"},\"colorscale\":[[0.0,\"#0d0887\"],[0.1111111111111111,\"#46039f\"],[0.2222222222222222,\"#7201a8\"],[0.3333333333333333,\"#9c179e\"],[0.4444444444444444,\"#bd3786\"],[0.5555555555555556,\"#d8576b\"],[0.6666666666666666,\"#ed7953\"],[0.7777777777777778,\"#fb9f3a\"],[0.8888888888888888,\"#fdca26\"],[1.0,\"#f0f921\"]]}],\"heatmapgl\":[{\"type\":\"heatmapgl\",\"colorbar\":{\"outlinewidth\":0,\"ticks\":\"\"},\"colorscale\":[[0.0,\"#0d0887\"],[0.1111111111111111,\"#46039f\"],[0.2222222222222222,\"#7201a8\"],[0.3333333333333333,\"#9c179e\"],[0.4444444444444444,\"#bd3786\"],[0.5555555555555556,\"#d8576b\"],[0.6666666666666666,\"#ed7953\"],[0.7777777777777778,\"#fb9f3a\"],[0.8888888888888888,\"#fdca26\"],[1.0,\"#f0f921\"]]}],\"contourcarpet\":[{\"type\":\"contourcarpet\",\"colorbar\":{\"outlinewidth\":0,\"ticks\":\"\"}}],\"contour\":[{\"type\":\"contour\",\"colorbar\":{\"outlinewidth\":0,\"ticks\":\"\"},\"colorscale\":[[0.0,\"#0d0887\"],[0.1111111111111111,\"#46039f\"],[0.2222222222222222,\"#7201a8\"],[0.3333333333333333,\"#9c179e\"],[0.4444444444444444,\"#bd3786\"],[0.5555555555555556,\"#d8576b\"],[0.6666666666666666,\"#ed7953\"],[0.7777777777777778,\"#fb9f3a\"],[0.8888888888888888,\"#fdca26\"],[1.0,\"#f0f921\"]]}],\"surface\":[{\"type\":\"surface\",\"colorbar\":{\"outlinewidth\":0,\"ticks\":\"\"},\"colorscale\":[[0.0,\"#0d0887\"],[0.1111111111111111,\"#46039f\"],[0.2222222222222222,\"#7201a8\"],[0.3333333333333333,\"#9c179e\"],[0.4444444444444444,\"#bd3786\"],[0.5555555555555556,\"#d8576b\"],[0.6666666666666666,\"#ed7953\"],[0.7777777777777778,\"#fb9f3a\"],[0.8888888888888888,\"#fdca26\"],[1.0,\"#f0f921\"]]}],\"mesh3d\":[{\"type\":\"mesh3d\",\"colorbar\":{\"outlinewidth\":0,\"ticks\":\"\"}}],\"scatter\":[{\"fillpattern\":{\"fillmode\":\"overlay\",\"size\":10,\"solidity\":0.2},\"type\":\"scatter\"}],\"parcoords\":[{\"type\":\"parcoords\",\"line\":{\"colorbar\":{\"outlinewidth\":0,\"ticks\":\"\"}}}],\"scatterpolargl\":[{\"type\":\"scatterpolargl\",\"marker\":{\"colorbar\":{\"outlinewidth\":0,\"ticks\":\"\"}}}],\"bar\":[{\"error_x\":{\"color\":\"#2a3f5f\"},\"error_y\":{\"color\":\"#2a3f5f\"},\"marker\":{\"line\":{\"color\":\"#E5ECF6\",\"width\":0.5},\"pattern\":{\"fillmode\":\"overlay\",\"size\":10,\"solidity\":0.2}},\"type\":\"bar\"}],\"scattergeo\":[{\"type\":\"scattergeo\",\"marker\":{\"colorbar\":{\"outlinewidth\":0,\"ticks\":\"\"}}}],\"scatterpolar\":[{\"type\":\"scatterpolar\",\"marker\":{\"colorbar\":{\"outlinewidth\":0,\"ticks\":\"\"}}}],\"histogram\":[{\"marker\":{\"pattern\":{\"fillmode\":\"overlay\",\"size\":10,\"solidity\":0.2}},\"type\":\"histogram\"}],\"scattergl\":[{\"type\":\"scattergl\",\"marker\":{\"colorbar\":{\"outlinewidth\":0,\"ticks\":\"\"}}}],\"scatter3d\":[{\"type\":\"scatter3d\",\"line\":{\"colorbar\":{\"outlinewidth\":0,\"ticks\":\"\"}},\"marker\":{\"colorbar\":{\"outlinewidth\":0,\"ticks\":\"\"}}}],\"scattermapbox\":[{\"type\":\"scattermapbox\",\"marker\":{\"colorbar\":{\"outlinewidth\":0,\"ticks\":\"\"}}}],\"scatterternary\":[{\"type\":\"scatterternary\",\"marker\":{\"colorbar\":{\"outlinewidth\":0,\"ticks\":\"\"}}}],\"scattercarpet\":[{\"type\":\"scattercarpet\",\"marker\":{\"colorbar\":{\"outlinewidth\":0,\"ticks\":\"\"}}}],\"carpet\":[{\"aaxis\":{\"endlinecolor\":\"#2a3f5f\",\"gridcolor\":\"white\",\"linecolor\":\"white\",\"minorgridcolor\":\"white\",\"startlinecolor\":\"#2a3f5f\"},\"baxis\":{\"endlinecolor\":\"#2a3f5f\",\"gridcolor\":\"white\",\"linecolor\":\"white\",\"minorgridcolor\":\"white\",\"startlinecolor\":\"#2a3f5f\"},\"type\":\"carpet\"}],\"table\":[{\"cells\":{\"fill\":{\"color\":\"#EBF0F8\"},\"line\":{\"color\":\"white\"}},\"header\":{\"fill\":{\"color\":\"#C8D4E3\"},\"line\":{\"color\":\"white\"}},\"type\":\"table\"}],\"barpolar\":[{\"marker\":{\"line\":{\"color\":\"#E5ECF6\",\"width\":0.5},\"pattern\":{\"fillmode\":\"overlay\",\"size\":10,\"solidity\":0.2}},\"type\":\"barpolar\"}],\"pie\":[{\"automargin\":true,\"type\":\"pie\"}]},\"layout\":{\"autotypenumbers\":\"strict\",\"colorway\":[\"#636efa\",\"#EF553B\",\"#00cc96\",\"#ab63fa\",\"#FFA15A\",\"#19d3f3\",\"#FF6692\",\"#B6E880\",\"#FF97FF\",\"#FECB52\"],\"font\":{\"color\":\"#2a3f5f\"},\"hovermode\":\"closest\",\"hoverlabel\":{\"align\":\"left\"},\"paper_bgcolor\":\"white\",\"plot_bgcolor\":\"#E5ECF6\",\"polar\":{\"bgcolor\":\"#E5ECF6\",\"angularaxis\":{\"gridcolor\":\"white\",\"linecolor\":\"white\",\"ticks\":\"\"},\"radialaxis\":{\"gridcolor\":\"white\",\"linecolor\":\"white\",\"ticks\":\"\"}},\"ternary\":{\"bgcolor\":\"#E5ECF6\",\"aaxis\":{\"gridcolor\":\"white\",\"linecolor\":\"white\",\"ticks\":\"\"},\"baxis\":{\"gridcolor\":\"white\",\"linecolor\":\"white\",\"ticks\":\"\"},\"caxis\":{\"gridcolor\":\"white\",\"linecolor\":\"white\",\"ticks\":\"\"}},\"coloraxis\":{\"colorbar\":{\"outlinewidth\":0,\"ticks\":\"\"}},\"colorscale\":{\"sequential\":[[0.0,\"#0d0887\"],[0.1111111111111111,\"#46039f\"],[0.2222222222222222,\"#7201a8\"],[0.3333333333333333,\"#9c179e\"],[0.4444444444444444,\"#bd3786\"],[0.5555555555555556,\"#d8576b\"],[0.6666666666666666,\"#ed7953\"],[0.7777777777777778,\"#fb9f3a\"],[0.8888888888888888,\"#fdca26\"],[1.0,\"#f0f921\"]],\"sequentialminus\":[[0.0,\"#0d0887\"],[0.1111111111111111,\"#46039f\"],[0.2222222222222222,\"#7201a8\"],[0.3333333333333333,\"#9c179e\"],[0.4444444444444444,\"#bd3786\"],[0.5555555555555556,\"#d8576b\"],[0.6666666666666666,\"#ed7953\"],[0.7777777777777778,\"#fb9f3a\"],[0.8888888888888888,\"#fdca26\"],[1.0,\"#f0f921\"]],\"diverging\":[[0,\"#8e0152\"],[0.1,\"#c51b7d\"],[0.2,\"#de77ae\"],[0.3,\"#f1b6da\"],[0.4,\"#fde0ef\"],[0.5,\"#f7f7f7\"],[0.6,\"#e6f5d0\"],[0.7,\"#b8e186\"],[0.8,\"#7fbc41\"],[0.9,\"#4d9221\"],[1,\"#276419\"]]},\"xaxis\":{\"gridcolor\":\"white\",\"linecolor\":\"white\",\"ticks\":\"\",\"title\":{\"standoff\":15},\"zerolinecolor\":\"white\",\"automargin\":true,\"zerolinewidth\":2},\"yaxis\":{\"gridcolor\":\"white\",\"linecolor\":\"white\",\"ticks\":\"\",\"title\":{\"standoff\":15},\"zerolinecolor\":\"white\",\"automargin\":true,\"zerolinewidth\":2},\"scene\":{\"xaxis\":{\"backgroundcolor\":\"#E5ECF6\",\"gridcolor\":\"white\",\"linecolor\":\"white\",\"showbackground\":true,\"ticks\":\"\",\"zerolinecolor\":\"white\",\"gridwidth\":2},\"yaxis\":{\"backgroundcolor\":\"#E5ECF6\",\"gridcolor\":\"white\",\"linecolor\":\"white\",\"showbackground\":true,\"ticks\":\"\",\"zerolinecolor\":\"white\",\"gridwidth\":2},\"zaxis\":{\"backgroundcolor\":\"#E5ECF6\",\"gridcolor\":\"white\",\"linecolor\":\"white\",\"showbackground\":true,\"ticks\":\"\",\"zerolinecolor\":\"white\",\"gridwidth\":2}},\"shapedefaults\":{\"line\":{\"color\":\"#2a3f5f\"}},\"annotationdefaults\":{\"arrowcolor\":\"#2a3f5f\",\"arrowhead\":0,\"arrowwidth\":1},\"geo\":{\"bgcolor\":\"white\",\"landcolor\":\"#E5ECF6\",\"subunitcolor\":\"white\",\"showland\":true,\"showlakes\":true,\"lakecolor\":\"white\"},\"title\":{\"x\":0.05},\"mapbox\":{\"style\":\"light\"}}},\"xaxis\":{\"title\":{\"text\":\"Epoch\"},\"tickmode\":\"linear\",\"tick0\":0,\"dtick\":5},\"yaxis\":{\"title\":{\"text\":\"Loss\"},\"type\":\"linear\",\"range\":[0,null]},\"legend\":{\"x\":0,\"y\":1,\"xanchor\":\"left\",\"yanchor\":\"bottom\",\"orientation\":\"h\"},\"title\":{\"text\":\"FFNN 2 HL, 256 HN training \\u002f validation loss\"},\"width\":600,\"height\":400},                        {\"responsive\": true}                    ).then(function(){\n",
       "                            \n",
       "var gd = document.getElementById('e2f8c0ec-f50e-4a91-92d6-d47e4b2827dd');\n",
       "var x = new MutationObserver(function (mutations, observer) {{\n",
       "        var display = window.getComputedStyle(gd).display;\n",
       "        if (!display || display === 'none') {{\n",
       "            console.log([gd, 'removed!']);\n",
       "            Plotly.purge(gd);\n",
       "            observer.disconnect();\n",
       "        }}\n",
       "}});\n",
       "\n",
       "// Listen for the removal of the full notebook cells\n",
       "var notebookContainer = gd.closest('#notebook-container');\n",
       "if (notebookContainer) {{\n",
       "    x.observe(notebookContainer, {childList: true});\n",
       "}}\n",
       "\n",
       "// Listen for the clearing of the current output cell\n",
       "var outputEl = gd.closest('.output');\n",
       "if (outputEl) {{\n",
       "    x.observe(outputEl, {childList: true});\n",
       "}}\n",
       "\n",
       "                        })                };                });            </script>        </div>"
      ]
     },
     "metadata": {},
     "output_type": "display_data"
    }
   ],
   "source": [
    "# Display training / val data for all models for NGD / SGD\n",
    "\n",
    "loss_figures = {}\n",
    "\n",
    "for title in models.keys():\n",
    "    loss_fig = go.Figure()\n",
    "    color_index = 0\n",
    "    for optim in optimizers:\n",
    "        color = color_cycle[color_index % len(color_cycle)]\n",
    "        color_index += 1\n",
    "        loss_fig.add_trace(go.Scatter(\n",
    "            x=np.arange(0, hp[\"num_epochs\"]+1),\n",
    "            y=train_losses[title][optim],\n",
    "            mode=\"lines\",\n",
    "            line=dict(color=color, width=3),\n",
    "            name=f\"{optim} Train\",\n",
    "        ))\n",
    "\n",
    "        loss_fig.add_trace(go.Scatter(\n",
    "            x=np.arange(0, hp[\"num_epochs\"]+1),\n",
    "            y=val_losses[title][optim],\n",
    "            mode=\"lines\",\n",
    "            line=dict(color=color, dash='dot', width=3),\n",
    "            name=f\"{optim} Validation\",\n",
    "        ))\n",
    "        \n",
    "    loss_fig.update_layout(\n",
    "        title=f\"{title} training / validation loss\",\n",
    "        xaxis_title=\"Epoch\",\n",
    "        yaxis_title=\"Loss\",\n",
    "        xaxis=dict(\n",
    "            tickmode='linear',\n",
    "            tick0=0,\n",
    "            dtick=5,\n",
    "        ),\n",
    "        yaxis_type=\"linear\",\n",
    "        yaxis=dict(\n",
    "        type=\"linear\",\n",
    "        range=[0, None],  # Start at 0, automatic upper limit\n",
    "        ),\n",
    "        width=600,\n",
    "        height=400,\n",
    "        legend=dict(\n",
    "            x=0,\n",
    "            y=1,\n",
    "            xanchor='left',\n",
    "            yanchor='bottom',\n",
    "            orientation='h',\n",
    "        ),\n",
    "    )\n",
    "    loss_figures[title] = loss_fig\n",
    "    loss_fig.show()"
   ]
  },
  {
   "cell_type": "code",
   "execution_count": 31,
   "metadata": {
    "execution": {
     "iopub.execute_input": "2024-04-04T13:50:03.292571Z",
     "iopub.status.busy": "2024-04-04T13:50:03.292571Z",
     "iopub.status.idle": "2024-04-04T13:50:03.622344Z",
     "shell.execute_reply": "2024-04-04T13:50:03.622344Z"
    }
   },
   "outputs": [
    {
     "data": {
      "application/vnd.plotly.v1+json": {
       "config": {
        "plotlyServerURL": "https://plot.ly"
       },
       "data": [
        {
         "line": {
          "color": "rgb(200, 0, 0)",
          "width": 3
         },
         "mode": "lines",
         "name": "ngd update norm",
         "type": "scatter",
         "x": [
          1,
          2,
          3,
          4,
          5,
          6,
          7,
          8,
          9,
          10,
          11,
          12,
          13,
          14,
          15,
          16,
          17,
          18,
          19,
          20
         ],
         "y": [
          null,
          null,
          null,
          null,
          null,
          null,
          null,
          null,
          null,
          null,
          0.05652306725955886,
          0.057491602760534596,
          0.058092873381847425,
          0.06036255099100874,
          0.06043291322928272,
          0.06228665119023504,
          0.061265043234659866,
          0.06113466250628028,
          0.06268823847769381,
          0.06183400846305249
         ]
        },
        {
         "line": {
          "color": "rgb(32, 102, 168)",
          "width": 3
         },
         "mode": "lines",
         "name": "sgd update norm",
         "type": "scatter",
         "x": [
          1,
          2,
          3,
          4,
          5,
          6,
          7,
          8,
          9,
          10,
          11,
          12,
          13,
          14,
          15,
          16,
          17,
          18,
          19,
          20
         ],
         "y": [
          0.061263500378273036,
          0.05200565668243194,
          0.050185781362785974,
          0.05064962785465142,
          0.05018441190354592,
          0.05150966060785716,
          0.0516871934710902,
          0.051398619316949716,
          0.05246939876653961,
          0.05252635672036037,
          0.05377371978357996,
          0.053687875521672604,
          0.05455391152738544,
          0.05408527687758402,
          0.05525649640709658,
          0.05538255716341415,
          0.0552292943729258,
          0.05640198520290033,
          0.05622892093357331,
          0.05554211100795245
         ]
        }
       ],
       "layout": {
        "height": 400,
        "legend": {
         "orientation": "h",
         "x": 0,
         "xanchor": "left",
         "y": 1,
         "yanchor": "bottom"
        },
        "template": {
         "data": {
          "bar": [
           {
            "error_x": {
             "color": "#2a3f5f"
            },
            "error_y": {
             "color": "#2a3f5f"
            },
            "marker": {
             "line": {
              "color": "#E5ECF6",
              "width": 0.5
             },
             "pattern": {
              "fillmode": "overlay",
              "size": 10,
              "solidity": 0.2
             }
            },
            "type": "bar"
           }
          ],
          "barpolar": [
           {
            "marker": {
             "line": {
              "color": "#E5ECF6",
              "width": 0.5
             },
             "pattern": {
              "fillmode": "overlay",
              "size": 10,
              "solidity": 0.2
             }
            },
            "type": "barpolar"
           }
          ],
          "carpet": [
           {
            "aaxis": {
             "endlinecolor": "#2a3f5f",
             "gridcolor": "white",
             "linecolor": "white",
             "minorgridcolor": "white",
             "startlinecolor": "#2a3f5f"
            },
            "baxis": {
             "endlinecolor": "#2a3f5f",
             "gridcolor": "white",
             "linecolor": "white",
             "minorgridcolor": "white",
             "startlinecolor": "#2a3f5f"
            },
            "type": "carpet"
           }
          ],
          "choropleth": [
           {
            "colorbar": {
             "outlinewidth": 0,
             "ticks": ""
            },
            "type": "choropleth"
           }
          ],
          "contour": [
           {
            "colorbar": {
             "outlinewidth": 0,
             "ticks": ""
            },
            "colorscale": [
             [
              0,
              "#0d0887"
             ],
             [
              0.1111111111111111,
              "#46039f"
             ],
             [
              0.2222222222222222,
              "#7201a8"
             ],
             [
              0.3333333333333333,
              "#9c179e"
             ],
             [
              0.4444444444444444,
              "#bd3786"
             ],
             [
              0.5555555555555556,
              "#d8576b"
             ],
             [
              0.6666666666666666,
              "#ed7953"
             ],
             [
              0.7777777777777778,
              "#fb9f3a"
             ],
             [
              0.8888888888888888,
              "#fdca26"
             ],
             [
              1,
              "#f0f921"
             ]
            ],
            "type": "contour"
           }
          ],
          "contourcarpet": [
           {
            "colorbar": {
             "outlinewidth": 0,
             "ticks": ""
            },
            "type": "contourcarpet"
           }
          ],
          "heatmap": [
           {
            "colorbar": {
             "outlinewidth": 0,
             "ticks": ""
            },
            "colorscale": [
             [
              0,
              "#0d0887"
             ],
             [
              0.1111111111111111,
              "#46039f"
             ],
             [
              0.2222222222222222,
              "#7201a8"
             ],
             [
              0.3333333333333333,
              "#9c179e"
             ],
             [
              0.4444444444444444,
              "#bd3786"
             ],
             [
              0.5555555555555556,
              "#d8576b"
             ],
             [
              0.6666666666666666,
              "#ed7953"
             ],
             [
              0.7777777777777778,
              "#fb9f3a"
             ],
             [
              0.8888888888888888,
              "#fdca26"
             ],
             [
              1,
              "#f0f921"
             ]
            ],
            "type": "heatmap"
           }
          ],
          "heatmapgl": [
           {
            "colorbar": {
             "outlinewidth": 0,
             "ticks": ""
            },
            "colorscale": [
             [
              0,
              "#0d0887"
             ],
             [
              0.1111111111111111,
              "#46039f"
             ],
             [
              0.2222222222222222,
              "#7201a8"
             ],
             [
              0.3333333333333333,
              "#9c179e"
             ],
             [
              0.4444444444444444,
              "#bd3786"
             ],
             [
              0.5555555555555556,
              "#d8576b"
             ],
             [
              0.6666666666666666,
              "#ed7953"
             ],
             [
              0.7777777777777778,
              "#fb9f3a"
             ],
             [
              0.8888888888888888,
              "#fdca26"
             ],
             [
              1,
              "#f0f921"
             ]
            ],
            "type": "heatmapgl"
           }
          ],
          "histogram": [
           {
            "marker": {
             "pattern": {
              "fillmode": "overlay",
              "size": 10,
              "solidity": 0.2
             }
            },
            "type": "histogram"
           }
          ],
          "histogram2d": [
           {
            "colorbar": {
             "outlinewidth": 0,
             "ticks": ""
            },
            "colorscale": [
             [
              0,
              "#0d0887"
             ],
             [
              0.1111111111111111,
              "#46039f"
             ],
             [
              0.2222222222222222,
              "#7201a8"
             ],
             [
              0.3333333333333333,
              "#9c179e"
             ],
             [
              0.4444444444444444,
              "#bd3786"
             ],
             [
              0.5555555555555556,
              "#d8576b"
             ],
             [
              0.6666666666666666,
              "#ed7953"
             ],
             [
              0.7777777777777778,
              "#fb9f3a"
             ],
             [
              0.8888888888888888,
              "#fdca26"
             ],
             [
              1,
              "#f0f921"
             ]
            ],
            "type": "histogram2d"
           }
          ],
          "histogram2dcontour": [
           {
            "colorbar": {
             "outlinewidth": 0,
             "ticks": ""
            },
            "colorscale": [
             [
              0,
              "#0d0887"
             ],
             [
              0.1111111111111111,
              "#46039f"
             ],
             [
              0.2222222222222222,
              "#7201a8"
             ],
             [
              0.3333333333333333,
              "#9c179e"
             ],
             [
              0.4444444444444444,
              "#bd3786"
             ],
             [
              0.5555555555555556,
              "#d8576b"
             ],
             [
              0.6666666666666666,
              "#ed7953"
             ],
             [
              0.7777777777777778,
              "#fb9f3a"
             ],
             [
              0.8888888888888888,
              "#fdca26"
             ],
             [
              1,
              "#f0f921"
             ]
            ],
            "type": "histogram2dcontour"
           }
          ],
          "mesh3d": [
           {
            "colorbar": {
             "outlinewidth": 0,
             "ticks": ""
            },
            "type": "mesh3d"
           }
          ],
          "parcoords": [
           {
            "line": {
             "colorbar": {
              "outlinewidth": 0,
              "ticks": ""
             }
            },
            "type": "parcoords"
           }
          ],
          "pie": [
           {
            "automargin": true,
            "type": "pie"
           }
          ],
          "scatter": [
           {
            "fillpattern": {
             "fillmode": "overlay",
             "size": 10,
             "solidity": 0.2
            },
            "type": "scatter"
           }
          ],
          "scatter3d": [
           {
            "line": {
             "colorbar": {
              "outlinewidth": 0,
              "ticks": ""
             }
            },
            "marker": {
             "colorbar": {
              "outlinewidth": 0,
              "ticks": ""
             }
            },
            "type": "scatter3d"
           }
          ],
          "scattercarpet": [
           {
            "marker": {
             "colorbar": {
              "outlinewidth": 0,
              "ticks": ""
             }
            },
            "type": "scattercarpet"
           }
          ],
          "scattergeo": [
           {
            "marker": {
             "colorbar": {
              "outlinewidth": 0,
              "ticks": ""
             }
            },
            "type": "scattergeo"
           }
          ],
          "scattergl": [
           {
            "marker": {
             "colorbar": {
              "outlinewidth": 0,
              "ticks": ""
             }
            },
            "type": "scattergl"
           }
          ],
          "scattermapbox": [
           {
            "marker": {
             "colorbar": {
              "outlinewidth": 0,
              "ticks": ""
             }
            },
            "type": "scattermapbox"
           }
          ],
          "scatterpolar": [
           {
            "marker": {
             "colorbar": {
              "outlinewidth": 0,
              "ticks": ""
             }
            },
            "type": "scatterpolar"
           }
          ],
          "scatterpolargl": [
           {
            "marker": {
             "colorbar": {
              "outlinewidth": 0,
              "ticks": ""
             }
            },
            "type": "scatterpolargl"
           }
          ],
          "scatterternary": [
           {
            "marker": {
             "colorbar": {
              "outlinewidth": 0,
              "ticks": ""
             }
            },
            "type": "scatterternary"
           }
          ],
          "surface": [
           {
            "colorbar": {
             "outlinewidth": 0,
             "ticks": ""
            },
            "colorscale": [
             [
              0,
              "#0d0887"
             ],
             [
              0.1111111111111111,
              "#46039f"
             ],
             [
              0.2222222222222222,
              "#7201a8"
             ],
             [
              0.3333333333333333,
              "#9c179e"
             ],
             [
              0.4444444444444444,
              "#bd3786"
             ],
             [
              0.5555555555555556,
              "#d8576b"
             ],
             [
              0.6666666666666666,
              "#ed7953"
             ],
             [
              0.7777777777777778,
              "#fb9f3a"
             ],
             [
              0.8888888888888888,
              "#fdca26"
             ],
             [
              1,
              "#f0f921"
             ]
            ],
            "type": "surface"
           }
          ],
          "table": [
           {
            "cells": {
             "fill": {
              "color": "#EBF0F8"
             },
             "line": {
              "color": "white"
             }
            },
            "header": {
             "fill": {
              "color": "#C8D4E3"
             },
             "line": {
              "color": "white"
             }
            },
            "type": "table"
           }
          ]
         },
         "layout": {
          "annotationdefaults": {
           "arrowcolor": "#2a3f5f",
           "arrowhead": 0,
           "arrowwidth": 1
          },
          "autotypenumbers": "strict",
          "coloraxis": {
           "colorbar": {
            "outlinewidth": 0,
            "ticks": ""
           }
          },
          "colorscale": {
           "diverging": [
            [
             0,
             "#8e0152"
            ],
            [
             0.1,
             "#c51b7d"
            ],
            [
             0.2,
             "#de77ae"
            ],
            [
             0.3,
             "#f1b6da"
            ],
            [
             0.4,
             "#fde0ef"
            ],
            [
             0.5,
             "#f7f7f7"
            ],
            [
             0.6,
             "#e6f5d0"
            ],
            [
             0.7,
             "#b8e186"
            ],
            [
             0.8,
             "#7fbc41"
            ],
            [
             0.9,
             "#4d9221"
            ],
            [
             1,
             "#276419"
            ]
           ],
           "sequential": [
            [
             0,
             "#0d0887"
            ],
            [
             0.1111111111111111,
             "#46039f"
            ],
            [
             0.2222222222222222,
             "#7201a8"
            ],
            [
             0.3333333333333333,
             "#9c179e"
            ],
            [
             0.4444444444444444,
             "#bd3786"
            ],
            [
             0.5555555555555556,
             "#d8576b"
            ],
            [
             0.6666666666666666,
             "#ed7953"
            ],
            [
             0.7777777777777778,
             "#fb9f3a"
            ],
            [
             0.8888888888888888,
             "#fdca26"
            ],
            [
             1,
             "#f0f921"
            ]
           ],
           "sequentialminus": [
            [
             0,
             "#0d0887"
            ],
            [
             0.1111111111111111,
             "#46039f"
            ],
            [
             0.2222222222222222,
             "#7201a8"
            ],
            [
             0.3333333333333333,
             "#9c179e"
            ],
            [
             0.4444444444444444,
             "#bd3786"
            ],
            [
             0.5555555555555556,
             "#d8576b"
            ],
            [
             0.6666666666666666,
             "#ed7953"
            ],
            [
             0.7777777777777778,
             "#fb9f3a"
            ],
            [
             0.8888888888888888,
             "#fdca26"
            ],
            [
             1,
             "#f0f921"
            ]
           ]
          },
          "colorway": [
           "#636efa",
           "#EF553B",
           "#00cc96",
           "#ab63fa",
           "#FFA15A",
           "#19d3f3",
           "#FF6692",
           "#B6E880",
           "#FF97FF",
           "#FECB52"
          ],
          "font": {
           "color": "#2a3f5f"
          },
          "geo": {
           "bgcolor": "white",
           "lakecolor": "white",
           "landcolor": "#E5ECF6",
           "showlakes": true,
           "showland": true,
           "subunitcolor": "white"
          },
          "hoverlabel": {
           "align": "left"
          },
          "hovermode": "closest",
          "mapbox": {
           "style": "light"
          },
          "paper_bgcolor": "white",
          "plot_bgcolor": "#E5ECF6",
          "polar": {
           "angularaxis": {
            "gridcolor": "white",
            "linecolor": "white",
            "ticks": ""
           },
           "bgcolor": "#E5ECF6",
           "radialaxis": {
            "gridcolor": "white",
            "linecolor": "white",
            "ticks": ""
           }
          },
          "scene": {
           "xaxis": {
            "backgroundcolor": "#E5ECF6",
            "gridcolor": "white",
            "gridwidth": 2,
            "linecolor": "white",
            "showbackground": true,
            "ticks": "",
            "zerolinecolor": "white"
           },
           "yaxis": {
            "backgroundcolor": "#E5ECF6",
            "gridcolor": "white",
            "gridwidth": 2,
            "linecolor": "white",
            "showbackground": true,
            "ticks": "",
            "zerolinecolor": "white"
           },
           "zaxis": {
            "backgroundcolor": "#E5ECF6",
            "gridcolor": "white",
            "gridwidth": 2,
            "linecolor": "white",
            "showbackground": true,
            "ticks": "",
            "zerolinecolor": "white"
           }
          },
          "shapedefaults": {
           "line": {
            "color": "#2a3f5f"
           }
          },
          "ternary": {
           "aaxis": {
            "gridcolor": "white",
            "linecolor": "white",
            "ticks": ""
           },
           "baxis": {
            "gridcolor": "white",
            "linecolor": "white",
            "ticks": ""
           },
           "bgcolor": "#E5ECF6",
           "caxis": {
            "gridcolor": "white",
            "linecolor": "white",
            "ticks": ""
           }
          },
          "title": {
           "x": 0.05
          },
          "xaxis": {
           "automargin": true,
           "gridcolor": "white",
           "linecolor": "white",
           "ticks": "",
           "title": {
            "standoff": 15
           },
           "zerolinecolor": "white",
           "zerolinewidth": 2
          },
          "yaxis": {
           "automargin": true,
           "gridcolor": "white",
           "linecolor": "white",
           "ticks": "",
           "title": {
            "standoff": 15
           },
           "zerolinecolor": "white",
           "zerolinewidth": 2
          }
         }
        },
        "title": {
         "text": "FFNN 2 HL, 256 HN update norms over training"
        },
        "width": 600,
        "xaxis": {
         "dtick": 5,
         "title": {
          "text": "Epochs"
         }
        },
        "yaxis": {
         "title": {
          "text": "Update Size"
         },
         "type": "linear"
        }
       }
      },
      "text/html": [
       "<div>                            <div id=\"d53bed8d-8493-4b4c-a993-4181f5ff10c6\" class=\"plotly-graph-div\" style=\"height:400px; width:600px;\"></div>            <script type=\"text/javascript\">                require([\"plotly\"], function(Plotly) {                    window.PLOTLYENV=window.PLOTLYENV || {};                                    if (document.getElementById(\"d53bed8d-8493-4b4c-a993-4181f5ff10c6\")) {                    Plotly.newPlot(                        \"d53bed8d-8493-4b4c-a993-4181f5ff10c6\",                        [{\"line\":{\"color\":\"rgb(200, 0, 0)\",\"width\":3},\"mode\":\"lines\",\"name\":\"ngd update norm\",\"x\":[1,2,3,4,5,6,7,8,9,10,11,12,13,14,15,16,17,18,19,20],\"y\":[null,null,null,null,null,null,null,null,null,null,0.05652306725955886,0.057491602760534596,0.058092873381847425,0.06036255099100874,0.06043291322928272,0.06228665119023504,0.061265043234659866,0.06113466250628028,0.06268823847769381,0.06183400846305249],\"type\":\"scatter\"},{\"line\":{\"color\":\"rgb(32, 102, 168)\",\"width\":3},\"mode\":\"lines\",\"name\":\"sgd update norm\",\"x\":[1,2,3,4,5,6,7,8,9,10,11,12,13,14,15,16,17,18,19,20],\"y\":[0.061263500378273036,0.05200565668243194,0.050185781362785974,0.05064962785465142,0.05018441190354592,0.05150966060785716,0.0516871934710902,0.051398619316949716,0.05246939876653961,0.05252635672036037,0.05377371978357996,0.053687875521672604,0.05455391152738544,0.05408527687758402,0.05525649640709658,0.05538255716341415,0.0552292943729258,0.05640198520290033,0.05622892093357331,0.05554211100795245],\"type\":\"scatter\"}],                        {\"template\":{\"data\":{\"histogram2dcontour\":[{\"type\":\"histogram2dcontour\",\"colorbar\":{\"outlinewidth\":0,\"ticks\":\"\"},\"colorscale\":[[0.0,\"#0d0887\"],[0.1111111111111111,\"#46039f\"],[0.2222222222222222,\"#7201a8\"],[0.3333333333333333,\"#9c179e\"],[0.4444444444444444,\"#bd3786\"],[0.5555555555555556,\"#d8576b\"],[0.6666666666666666,\"#ed7953\"],[0.7777777777777778,\"#fb9f3a\"],[0.8888888888888888,\"#fdca26\"],[1.0,\"#f0f921\"]]}],\"choropleth\":[{\"type\":\"choropleth\",\"colorbar\":{\"outlinewidth\":0,\"ticks\":\"\"}}],\"histogram2d\":[{\"type\":\"histogram2d\",\"colorbar\":{\"outlinewidth\":0,\"ticks\":\"\"},\"colorscale\":[[0.0,\"#0d0887\"],[0.1111111111111111,\"#46039f\"],[0.2222222222222222,\"#7201a8\"],[0.3333333333333333,\"#9c179e\"],[0.4444444444444444,\"#bd3786\"],[0.5555555555555556,\"#d8576b\"],[0.6666666666666666,\"#ed7953\"],[0.7777777777777778,\"#fb9f3a\"],[0.8888888888888888,\"#fdca26\"],[1.0,\"#f0f921\"]]}],\"heatmap\":[{\"type\":\"heatmap\",\"colorbar\":{\"outlinewidth\":0,\"ticks\":\"\"},\"colorscale\":[[0.0,\"#0d0887\"],[0.1111111111111111,\"#46039f\"],[0.2222222222222222,\"#7201a8\"],[0.3333333333333333,\"#9c179e\"],[0.4444444444444444,\"#bd3786\"],[0.5555555555555556,\"#d8576b\"],[0.6666666666666666,\"#ed7953\"],[0.7777777777777778,\"#fb9f3a\"],[0.8888888888888888,\"#fdca26\"],[1.0,\"#f0f921\"]]}],\"heatmapgl\":[{\"type\":\"heatmapgl\",\"colorbar\":{\"outlinewidth\":0,\"ticks\":\"\"},\"colorscale\":[[0.0,\"#0d0887\"],[0.1111111111111111,\"#46039f\"],[0.2222222222222222,\"#7201a8\"],[0.3333333333333333,\"#9c179e\"],[0.4444444444444444,\"#bd3786\"],[0.5555555555555556,\"#d8576b\"],[0.6666666666666666,\"#ed7953\"],[0.7777777777777778,\"#fb9f3a\"],[0.8888888888888888,\"#fdca26\"],[1.0,\"#f0f921\"]]}],\"contourcarpet\":[{\"type\":\"contourcarpet\",\"colorbar\":{\"outlinewidth\":0,\"ticks\":\"\"}}],\"contour\":[{\"type\":\"contour\",\"colorbar\":{\"outlinewidth\":0,\"ticks\":\"\"},\"colorscale\":[[0.0,\"#0d0887\"],[0.1111111111111111,\"#46039f\"],[0.2222222222222222,\"#7201a8\"],[0.3333333333333333,\"#9c179e\"],[0.4444444444444444,\"#bd3786\"],[0.5555555555555556,\"#d8576b\"],[0.6666666666666666,\"#ed7953\"],[0.7777777777777778,\"#fb9f3a\"],[0.8888888888888888,\"#fdca26\"],[1.0,\"#f0f921\"]]}],\"surface\":[{\"type\":\"surface\",\"colorbar\":{\"outlinewidth\":0,\"ticks\":\"\"},\"colorscale\":[[0.0,\"#0d0887\"],[0.1111111111111111,\"#46039f\"],[0.2222222222222222,\"#7201a8\"],[0.3333333333333333,\"#9c179e\"],[0.4444444444444444,\"#bd3786\"],[0.5555555555555556,\"#d8576b\"],[0.6666666666666666,\"#ed7953\"],[0.7777777777777778,\"#fb9f3a\"],[0.8888888888888888,\"#fdca26\"],[1.0,\"#f0f921\"]]}],\"mesh3d\":[{\"type\":\"mesh3d\",\"colorbar\":{\"outlinewidth\":0,\"ticks\":\"\"}}],\"scatter\":[{\"fillpattern\":{\"fillmode\":\"overlay\",\"size\":10,\"solidity\":0.2},\"type\":\"scatter\"}],\"parcoords\":[{\"type\":\"parcoords\",\"line\":{\"colorbar\":{\"outlinewidth\":0,\"ticks\":\"\"}}}],\"scatterpolargl\":[{\"type\":\"scatterpolargl\",\"marker\":{\"colorbar\":{\"outlinewidth\":0,\"ticks\":\"\"}}}],\"bar\":[{\"error_x\":{\"color\":\"#2a3f5f\"},\"error_y\":{\"color\":\"#2a3f5f\"},\"marker\":{\"line\":{\"color\":\"#E5ECF6\",\"width\":0.5},\"pattern\":{\"fillmode\":\"overlay\",\"size\":10,\"solidity\":0.2}},\"type\":\"bar\"}],\"scattergeo\":[{\"type\":\"scattergeo\",\"marker\":{\"colorbar\":{\"outlinewidth\":0,\"ticks\":\"\"}}}],\"scatterpolar\":[{\"type\":\"scatterpolar\",\"marker\":{\"colorbar\":{\"outlinewidth\":0,\"ticks\":\"\"}}}],\"histogram\":[{\"marker\":{\"pattern\":{\"fillmode\":\"overlay\",\"size\":10,\"solidity\":0.2}},\"type\":\"histogram\"}],\"scattergl\":[{\"type\":\"scattergl\",\"marker\":{\"colorbar\":{\"outlinewidth\":0,\"ticks\":\"\"}}}],\"scatter3d\":[{\"type\":\"scatter3d\",\"line\":{\"colorbar\":{\"outlinewidth\":0,\"ticks\":\"\"}},\"marker\":{\"colorbar\":{\"outlinewidth\":0,\"ticks\":\"\"}}}],\"scattermapbox\":[{\"type\":\"scattermapbox\",\"marker\":{\"colorbar\":{\"outlinewidth\":0,\"ticks\":\"\"}}}],\"scatterternary\":[{\"type\":\"scatterternary\",\"marker\":{\"colorbar\":{\"outlinewidth\":0,\"ticks\":\"\"}}}],\"scattercarpet\":[{\"type\":\"scattercarpet\",\"marker\":{\"colorbar\":{\"outlinewidth\":0,\"ticks\":\"\"}}}],\"carpet\":[{\"aaxis\":{\"endlinecolor\":\"#2a3f5f\",\"gridcolor\":\"white\",\"linecolor\":\"white\",\"minorgridcolor\":\"white\",\"startlinecolor\":\"#2a3f5f\"},\"baxis\":{\"endlinecolor\":\"#2a3f5f\",\"gridcolor\":\"white\",\"linecolor\":\"white\",\"minorgridcolor\":\"white\",\"startlinecolor\":\"#2a3f5f\"},\"type\":\"carpet\"}],\"table\":[{\"cells\":{\"fill\":{\"color\":\"#EBF0F8\"},\"line\":{\"color\":\"white\"}},\"header\":{\"fill\":{\"color\":\"#C8D4E3\"},\"line\":{\"color\":\"white\"}},\"type\":\"table\"}],\"barpolar\":[{\"marker\":{\"line\":{\"color\":\"#E5ECF6\",\"width\":0.5},\"pattern\":{\"fillmode\":\"overlay\",\"size\":10,\"solidity\":0.2}},\"type\":\"barpolar\"}],\"pie\":[{\"automargin\":true,\"type\":\"pie\"}]},\"layout\":{\"autotypenumbers\":\"strict\",\"colorway\":[\"#636efa\",\"#EF553B\",\"#00cc96\",\"#ab63fa\",\"#FFA15A\",\"#19d3f3\",\"#FF6692\",\"#B6E880\",\"#FF97FF\",\"#FECB52\"],\"font\":{\"color\":\"#2a3f5f\"},\"hovermode\":\"closest\",\"hoverlabel\":{\"align\":\"left\"},\"paper_bgcolor\":\"white\",\"plot_bgcolor\":\"#E5ECF6\",\"polar\":{\"bgcolor\":\"#E5ECF6\",\"angularaxis\":{\"gridcolor\":\"white\",\"linecolor\":\"white\",\"ticks\":\"\"},\"radialaxis\":{\"gridcolor\":\"white\",\"linecolor\":\"white\",\"ticks\":\"\"}},\"ternary\":{\"bgcolor\":\"#E5ECF6\",\"aaxis\":{\"gridcolor\":\"white\",\"linecolor\":\"white\",\"ticks\":\"\"},\"baxis\":{\"gridcolor\":\"white\",\"linecolor\":\"white\",\"ticks\":\"\"},\"caxis\":{\"gridcolor\":\"white\",\"linecolor\":\"white\",\"ticks\":\"\"}},\"coloraxis\":{\"colorbar\":{\"outlinewidth\":0,\"ticks\":\"\"}},\"colorscale\":{\"sequential\":[[0.0,\"#0d0887\"],[0.1111111111111111,\"#46039f\"],[0.2222222222222222,\"#7201a8\"],[0.3333333333333333,\"#9c179e\"],[0.4444444444444444,\"#bd3786\"],[0.5555555555555556,\"#d8576b\"],[0.6666666666666666,\"#ed7953\"],[0.7777777777777778,\"#fb9f3a\"],[0.8888888888888888,\"#fdca26\"],[1.0,\"#f0f921\"]],\"sequentialminus\":[[0.0,\"#0d0887\"],[0.1111111111111111,\"#46039f\"],[0.2222222222222222,\"#7201a8\"],[0.3333333333333333,\"#9c179e\"],[0.4444444444444444,\"#bd3786\"],[0.5555555555555556,\"#d8576b\"],[0.6666666666666666,\"#ed7953\"],[0.7777777777777778,\"#fb9f3a\"],[0.8888888888888888,\"#fdca26\"],[1.0,\"#f0f921\"]],\"diverging\":[[0,\"#8e0152\"],[0.1,\"#c51b7d\"],[0.2,\"#de77ae\"],[0.3,\"#f1b6da\"],[0.4,\"#fde0ef\"],[0.5,\"#f7f7f7\"],[0.6,\"#e6f5d0\"],[0.7,\"#b8e186\"],[0.8,\"#7fbc41\"],[0.9,\"#4d9221\"],[1,\"#276419\"]]},\"xaxis\":{\"gridcolor\":\"white\",\"linecolor\":\"white\",\"ticks\":\"\",\"title\":{\"standoff\":15},\"zerolinecolor\":\"white\",\"automargin\":true,\"zerolinewidth\":2},\"yaxis\":{\"gridcolor\":\"white\",\"linecolor\":\"white\",\"ticks\":\"\",\"title\":{\"standoff\":15},\"zerolinecolor\":\"white\",\"automargin\":true,\"zerolinewidth\":2},\"scene\":{\"xaxis\":{\"backgroundcolor\":\"#E5ECF6\",\"gridcolor\":\"white\",\"linecolor\":\"white\",\"showbackground\":true,\"ticks\":\"\",\"zerolinecolor\":\"white\",\"gridwidth\":2},\"yaxis\":{\"backgroundcolor\":\"#E5ECF6\",\"gridcolor\":\"white\",\"linecolor\":\"white\",\"showbackground\":true,\"ticks\":\"\",\"zerolinecolor\":\"white\",\"gridwidth\":2},\"zaxis\":{\"backgroundcolor\":\"#E5ECF6\",\"gridcolor\":\"white\",\"linecolor\":\"white\",\"showbackground\":true,\"ticks\":\"\",\"zerolinecolor\":\"white\",\"gridwidth\":2}},\"shapedefaults\":{\"line\":{\"color\":\"#2a3f5f\"}},\"annotationdefaults\":{\"arrowcolor\":\"#2a3f5f\",\"arrowhead\":0,\"arrowwidth\":1},\"geo\":{\"bgcolor\":\"white\",\"landcolor\":\"#E5ECF6\",\"subunitcolor\":\"white\",\"showland\":true,\"showlakes\":true,\"lakecolor\":\"white\"},\"title\":{\"x\":0.05},\"mapbox\":{\"style\":\"light\"}}},\"xaxis\":{\"title\":{\"text\":\"Epochs\"},\"dtick\":5},\"yaxis\":{\"title\":{\"text\":\"Update Size\"},\"type\":\"linear\"},\"legend\":{\"x\":0,\"y\":1,\"xanchor\":\"left\",\"yanchor\":\"bottom\",\"orientation\":\"h\"},\"title\":{\"text\":\"FFNN 2 HL, 256 HN update norms over training\"},\"width\":600,\"height\":400},                        {\"responsive\": true}                    ).then(function(){\n",
       "                            \n",
       "var gd = document.getElementById('d53bed8d-8493-4b4c-a993-4181f5ff10c6');\n",
       "var x = new MutationObserver(function (mutations, observer) {{\n",
       "        var display = window.getComputedStyle(gd).display;\n",
       "        if (!display || display === 'none') {{\n",
       "            console.log([gd, 'removed!']);\n",
       "            Plotly.purge(gd);\n",
       "            observer.disconnect();\n",
       "        }}\n",
       "}});\n",
       "\n",
       "// Listen for the removal of the full notebook cells\n",
       "var notebookContainer = gd.closest('#notebook-container');\n",
       "if (notebookContainer) {{\n",
       "    x.observe(notebookContainer, {childList: true});\n",
       "}}\n",
       "\n",
       "// Listen for the clearing of the current output cell\n",
       "var outputEl = gd.closest('.output');\n",
       "if (outputEl) {{\n",
       "    x.observe(outputEl, {childList: true});\n",
       "}}\n",
       "\n",
       "                        })                };                });            </script>        </div>"
      ]
     },
     "metadata": {},
     "output_type": "display_data"
    }
   ],
   "source": [
    "# Gradient norms over epochs for NGD and SGD, note that each step corresponds to one minibatch\n",
    "\n",
    "update_norm_figures = {}\n",
    "\n",
    "for title in models.keys():\n",
    "    update_norm_fig = go.Figure()\n",
    "    color_index = 0\n",
    "    for optim in optimizers:\n",
    "        color = color_cycle[color_index % len(color_cycle)]\n",
    "        color_index += 1\n",
    "\n",
    "        #swapping and the adding of Nones to ngd causes the indexing to be weird\n",
    "        if hp[\"experiment_type\"] == \"swap\" and optim=='ngd':\n",
    "            norm_y=update_norms[title][optim][1:]\n",
    "        else:\n",
    "            norm_y=update_norms[title][optim]\n",
    "\n",
    "        update_norm_fig.add_trace(go.Scatter(\n",
    "            x=np.arange(1, hp[\"num_epochs\"]+1),\n",
    "            #y=np.convolve(all_update_norms[title][optim], np.ones(30)/30, mode=\"same\"),\n",
    "            #y=all_update_norms[title][optim],\n",
    "\n",
    "            #remove the first None of ngd as it is added without any updates, the first epoch has no updates\n",
    "            y=norm_y,\n",
    "            mode=\"lines\",\n",
    "            line=dict(color=color, width=3),\n",
    "            name=f\"{optim} update norm\"))\n",
    "    update_norm_fig.update_layout(\n",
    "        title=f\"{title} update norms over training\",\n",
    "        xaxis_title=\"Epochs\",\n",
    "        xaxis=dict(\n",
    "            dtick=5,),\n",
    "        yaxis_title=\"Update Size\",\n",
    "        yaxis_type=\"linear\",\n",
    "        width=600,\n",
    "        height=400,\n",
    "        legend=dict(\n",
    "            x=0,\n",
    "            y=1,\n",
    "            xanchor='left',\n",
    "            yanchor='bottom',\n",
    "            orientation='h',\n",
    "        ),\n",
    "    )\n",
    "    update_norm_figures[title] = update_norm_fig\n",
    "    update_norm_fig.show()"
   ]
  },
  {
   "cell_type": "markdown",
   "metadata": {},
   "source": [
    "#### **4. Perform Hessian rank computation**\n",
    "\n",
    "As a way of verifying results produced by the RLCT, we will compute an approximation of the Hessian for each model at convergence. Then, we'll estimate the rank of this matrix using its eigenspectrum. SLT predicts the following: \n",
    "\n",
    "$\\text{RLCT} \\geq \\frac{\\text{rank}(\\textbf{Hess})}{2}$ \n",
    "\n",
    "We will check whether this is true for our experiments. Hessian computation is done using helper functions from `utils_hessian_fim.py` which acts as a wrapper for the `PyHessian` module (and the `nngeometry` module, for doing computations involving the Fisher Information Matrix)."
   ]
  },
  {
   "cell_type": "code",
   "execution_count": 32,
   "metadata": {
    "execution": {
     "iopub.execute_input": "2024-04-04T13:50:03.676961Z",
     "iopub.status.busy": "2024-04-04T13:50:03.675963Z",
     "iopub.status.idle": "2024-04-04T13:50:04.529767Z",
     "shell.execute_reply": "2024-04-04T13:50:04.529767Z"
    }
   },
   "outputs": [],
   "source": [
    "# Create Hessians for each model - recall that model is a list containing all its past versions\n",
    "if hp[\"hessian\"]:\n",
    "    hessians = {}\n",
    "    for title, model in models.items():\n",
    "        hessian = {}\n",
    "        for optim in optimizers:\n",
    "            hessians_list = produce_hessians(\n",
    "                models=model[optim],\n",
    "                data_loader=train_loader,\n",
    "                num_batches=10,\n",
    "                criterion=criterion,\n",
    "                device=device,\n",
    "            )\n",
    "            hessian[optim] = hessians_list\n",
    "        hessians[title] = hessian"
   ]
  },
  {
   "cell_type": "code",
   "execution_count": 33,
   "metadata": {},
   "outputs": [],
   "source": [
    "# Compute Hessian trace for each model\n",
    "if hp[\"hessian\"]:\n",
    "    hessian_traces = {}\n",
    "    for title, hessian in tqdm(hessians.items(), desc=\"Processing Hessian Traces\"):\n",
    "        hessian_trace = {}\n",
    "        for optim in optimizers:\n",
    "            trace_list = produce_hessian_traces(\n",
    "                hessians=hessian[optim],\n",
    "                tol=1e-05,\n",
    "                maxIters=50,\n",
    "                N=5,\n",
    "            )\n",
    "            hessian_trace[optim] = trace_list\n",
    "        hessian_traces[title] = hessian_trace"
   ]
  },
  {
   "cell_type": "code",
   "execution_count": 34,
   "metadata": {
    "execution": {
     "iopub.execute_input": "2024-04-04T13:50:04.534311Z",
     "iopub.status.busy": "2024-04-04T13:50:04.533046Z",
     "iopub.status.idle": "2024-04-04T14:04:20.087985Z",
     "shell.execute_reply": "2024-04-04T14:04:20.087985Z"
    }
   },
   "outputs": [],
   "source": [
    "# Get the eigenspectum data from the Hessian objects\n",
    "# if hp[\"hessian\"]:\n",
    "#     eigenspectra_data = {}\n",
    "#     eigenspectra_figs = {}\n",
    "#     for title, hessian in tqdm(hessians.items(), desc=\"Processing Hessians\"):\n",
    "#         eigenspectrum_data = {}\n",
    "#         eigenspectrum_figs = {}\n",
    "#         for optim in optimizers:\n",
    "#             eigenspectrum_figs_list, eigenspectrum_data_list = produce_eigenspectra(\n",
    "#                 hessians=hessian[optim],\n",
    "#                 plot_type=\"log\",\n",
    "#             )\n",
    "#             eigenspectrum_figs[optim] = eigenspectrum_figs_list\n",
    "#             eigenspectrum_data[optim] = eigenspectrum_data_list\n",
    "#         eigenspectra_data[title] = eigenspectrum_data\n",
    "#         eigenspectra_figs[title] = eigenspectrum_figs"
   ]
  },
  {
   "cell_type": "code",
   "execution_count": 35,
   "metadata": {
    "execution": {
     "iopub.execute_input": "2024-04-04T14:04:20.091985Z",
     "iopub.status.busy": "2024-04-04T14:04:20.090986Z",
     "iopub.status.idle": "2024-04-04T14:04:20.306228Z",
     "shell.execute_reply": "2024-04-04T14:04:20.306228Z"
    }
   },
   "outputs": [],
   "source": [
    "# Produce the traces of Hessian dimensionality over epochs\n",
    "# if hp[\"hessian\"]:\n",
    "#     hessian_ranks = {}\n",
    "#     for title, eigenspectrum_data in eigenspectra_data.items():\n",
    "#         hessian_rank = {}\n",
    "#         for optim in optimizers:\n",
    "#             hessian_rank_list = find_hessian_dimensionality(eigenspectrum_data[optim])\n",
    "#             hessian_rank[optim] = hessian_rank_list\n",
    "#         hessian_ranks[title] = hessian_rank"
   ]
  },
  {
   "cell_type": "markdown",
   "metadata": {},
   "source": [
    "#### **5. Perform RLCT estimation**\n",
    "\n",
    "Using the `devinterp` library, we perform estimation of the RLCT (Real Log Canonical Threshold) or otherwise known as the LLC (Local Learning Coefficient).\n",
    "\n",
    "`rlct_estimates` is a dictionary containing dictionaries, each of which contain two lists, one for SGD RLCT values over epochs, and one for NGD RLCT values over epochs. The same is true for `wbic_estimates`."
   ]
  },
  {
   "cell_type": "code",
   "execution_count": 36,
   "metadata": {},
   "outputs": [
    {
     "name": "stderr",
     "output_type": "stream",
     "text": [
      "Chain 0: 100%|██████████| 1000/1000 [00:03<00:00, 275.14it/s]\n",
      "Chain 1: 100%|██████████| 1000/1000 [00:02<00:00, 346.96it/s]\n",
      "Chain 0: 100%|██████████| 1000/1000 [00:02<00:00, 342.01it/s]\n",
      "Chain 1: 100%|██████████| 1000/1000 [00:03<00:00, 302.07it/s]\n",
      "Chain 0: 100%|██████████| 1000/1000 [00:03<00:00, 324.47it/s]\n",
      "Chain 1: 100%|██████████| 1000/1000 [00:03<00:00, 288.50it/s]\n",
      "Chain 0: 100%|██████████| 1000/1000 [00:03<00:00, 305.71it/s]\n",
      "Chain 1: 100%|██████████| 1000/1000 [00:03<00:00, 305.32it/s]\n",
      "Chain 0: 100%|██████████| 1000/1000 [00:03<00:00, 330.53it/s]\n",
      "Chain 1: 100%|██████████| 1000/1000 [00:03<00:00, 305.52it/s]\n",
      "Chain 0: 100%|██████████| 1000/1000 [00:03<00:00, 314.63it/s]\n",
      "Chain 1: 100%|██████████| 1000/1000 [00:03<00:00, 303.08it/s]\n",
      "Chain 0: 100%|██████████| 1000/1000 [00:02<00:00, 358.92it/s]\n",
      "Chain 1: 100%|██████████| 1000/1000 [00:02<00:00, 340.40it/s]\n",
      "Chain 0: 100%|██████████| 1000/1000 [00:03<00:00, 299.62it/s]\n",
      "Chain 1: 100%|██████████| 1000/1000 [00:03<00:00, 322.24it/s]\n",
      "Chain 0: 100%|██████████| 1000/1000 [00:03<00:00, 305.81it/s]\n",
      "Chain 1: 100%|██████████| 1000/1000 [00:03<00:00, 304.21it/s]\n",
      "Chain 0: 100%|██████████| 1000/1000 [00:02<00:00, 372.81it/s]\n",
      "Chain 1: 100%|██████████| 1000/1000 [00:02<00:00, 371.69it/s]\n",
      "100%|██████████| 21/21 [01:04<00:00,  3.08s/it]\n",
      "Chain 0: 100%|██████████| 1000/1000 [00:03<00:00, 295.49it/s]\n",
      "Chain 1: 100%|██████████| 1000/1000 [00:03<00:00, 306.09it/s]\n",
      "Chain 0: 100%|██████████| 1000/1000 [00:03<00:00, 286.25it/s]\n",
      "Chain 1: 100%|██████████| 1000/1000 [00:03<00:00, 300.36it/s]\n",
      "Chain 0: 100%|██████████| 1000/1000 [00:04<00:00, 249.56it/s]\n",
      "Chain 1: 100%|██████████| 1000/1000 [00:02<00:00, 357.57it/s]\n",
      "Chain 0: 100%|██████████| 1000/1000 [00:03<00:00, 318.92it/s]\n",
      "Chain 1: 100%|██████████| 1000/1000 [00:02<00:00, 340.80it/s]\n",
      "Chain 0: 100%|██████████| 1000/1000 [00:03<00:00, 298.29it/s]\n",
      "Chain 1: 100%|██████████| 1000/1000 [00:03<00:00, 303.21it/s]\n",
      "Chain 0: 100%|██████████| 1000/1000 [00:03<00:00, 323.99it/s]\n",
      "Chain 1: 100%|██████████| 1000/1000 [00:03<00:00, 282.23it/s]\n",
      "Chain 0: 100%|██████████| 1000/1000 [00:03<00:00, 299.10it/s]\n",
      "Chain 1: 100%|██████████| 1000/1000 [00:02<00:00, 345.75it/s]\n",
      "Chain 0: 100%|██████████| 1000/1000 [00:02<00:00, 338.17it/s]\n",
      "Chain 1: 100%|██████████| 1000/1000 [00:03<00:00, 304.77it/s]\n",
      "Chain 0: 100%|██████████| 1000/1000 [00:03<00:00, 323.81it/s]\n",
      "Chain 1: 100%|██████████| 1000/1000 [00:03<00:00, 305.55it/s]\n",
      "Chain 0: 100%|██████████| 1000/1000 [00:03<00:00, 275.09it/s]\n",
      "Chain 1: 100%|██████████| 1000/1000 [00:03<00:00, 320.81it/s]\n",
      "Chain 0: 100%|██████████| 1000/1000 [00:03<00:00, 329.85it/s]\n",
      "Chain 1: 100%|██████████| 1000/1000 [00:03<00:00, 290.05it/s]\n",
      "Chain 0: 100%|██████████| 1000/1000 [00:03<00:00, 274.48it/s]\n",
      "Chain 1: 100%|██████████| 1000/1000 [00:02<00:00, 343.70it/s]\n",
      "Chain 0: 100%|██████████| 1000/1000 [00:03<00:00, 280.19it/s]\n",
      "Chain 1: 100%|██████████| 1000/1000 [00:03<00:00, 329.69it/s]\n",
      "Chain 0: 100%|██████████| 1000/1000 [00:02<00:00, 341.95it/s]\n",
      "Chain 1: 100%|██████████| 1000/1000 [00:03<00:00, 308.71it/s]\n",
      "Chain 0: 100%|██████████| 1000/1000 [00:02<00:00, 342.54it/s]\n",
      "Chain 1: 100%|██████████| 1000/1000 [00:03<00:00, 294.15it/s]\n",
      "Chain 0: 100%|██████████| 1000/1000 [00:03<00:00, 305.08it/s]\n",
      "Chain 1: 100%|██████████| 1000/1000 [00:03<00:00, 330.33it/s]\n",
      "Chain 0: 100%|██████████| 1000/1000 [00:03<00:00, 292.75it/s]\n",
      "Chain 1: 100%|██████████| 1000/1000 [00:03<00:00, 279.76it/s]\n",
      "Chain 0: 100%|██████████| 1000/1000 [00:03<00:00, 326.84it/s]\n",
      "Chain 1: 100%|██████████| 1000/1000 [00:02<00:00, 392.56it/s]\n",
      "Chain 0: 100%|██████████| 1000/1000 [00:03<00:00, 316.44it/s]\n",
      "Chain 1: 100%|██████████| 1000/1000 [00:02<00:00, 368.16it/s]\n",
      "Chain 0: 100%|██████████| 1000/1000 [00:02<00:00, 384.23it/s]\n",
      "Chain 1: 100%|██████████| 1000/1000 [00:02<00:00, 368.59it/s]\n",
      "Chain 0: 100%|██████████| 1000/1000 [00:02<00:00, 377.34it/s]\n",
      "Chain 1: 100%|██████████| 1000/1000 [00:02<00:00, 378.26it/s]\n",
      "100%|██████████| 21/21 [02:16<00:00,  6.52s/it]\n"
     ]
    }
   ],
   "source": [
    "# Online LLC / WBIC estimation\n",
    "\n",
    "wbic_histories = {}\n",
    "llc_histories = {}\n",
    "\n",
    "wbic_estimates = {}\n",
    "llc_estimates = {}\n",
    "\n",
    "for title, model in models.items():\n",
    "    wbic_estimate = {}\n",
    "    wbic_history = {}\n",
    "    llc_estimate = {}\n",
    "    llc_history = {}\n",
    "    for optim in optimizers:\n",
    "        llc_values_list, llc_history_list, wbic_values_list, wbic_history_list = estimate_rlcts_online(\n",
    "            model[optim], train_loader, criterion, device, devinterp_args, wbic=True\n",
    "        )\n",
    "        wbic_estimate[optim] = wbic_values_list\n",
    "        wbic_history[optim] = wbic_history_list\n",
    "        llc_estimate[optim] = llc_values_list\n",
    "        llc_history[optim] = llc_history_list\n",
    "    wbic_estimates[title] = wbic_estimate\n",
    "    wbic_histories[title] = wbic_history\n",
    "    llc_estimates[title] = llc_estimate\n",
    "    llc_histories[title] = llc_history"
   ]
  },
  {
   "cell_type": "markdown",
   "metadata": {},
   "source": [
    "#### **6. Visualise RLCT / Hessian rank, Hessian eigenspectra, generalisation loss, RLCT convergence**\n",
    "\n",
    "We display the following final figures:\n",
    "- RLCT and Hessian rank evolution for each model, for NGD and SGD\n",
    "- Hessian eigenspectra for SGD and NGD overlaid on the same plot\n",
    "- Evolution of generalisation loss for each model, compared to validation loss\n",
    "- RLCT moving average evolution for each model, for NGD and SGD, to check for convergence"
   ]
  },
  {
   "cell_type": "code",
   "execution_count": 37,
   "metadata": {
    "execution": {
     "iopub.execute_input": "2024-04-04T14:34:40.835348Z",
     "iopub.status.busy": "2024-04-04T14:34:40.835348Z",
     "iopub.status.idle": "2024-04-04T14:34:40.866670Z",
     "shell.execute_reply": "2024-04-04T14:34:40.866670Z"
    }
   },
   "outputs": [],
   "source": [
    "# Visualise RLCT and Hessian rank data\n",
    "exp_figures = {}\n",
    "if hp[\"hessian\"]:\n",
    "    for title in models.keys():\n",
    "        exp_fig = make_subplots(specs=[[{\"secondary_y\" : True}]])\n",
    "        color_index = 0\n",
    "        for optim in optimizers:\n",
    "            color = color_cycle[color_index % len(color_cycle)]\n",
    "            color_index += 1\n",
    "            exp_fig.add_trace(go.Scatter(\n",
    "                x=np.arange(0, hp[\"num_epochs\"]+1),\n",
    "                y=llc_estimates[title][optim],\n",
    "                mode=\"lines\",\n",
    "                name=f\"{optim} LLC\",\n",
    "                line=dict(color=color, width=3),\n",
    "            ), secondary_y=False)\n",
    "            exp_fig.add_trace(go.Scatter(\n",
    "                x=np.arange(0, hp[\"num_epochs\"]+1),\n",
    "                y=hessian_traces[title][optim][1:],\n",
    "                mode=\"lines\",\n",
    "                name=f\"{optim} Hessian Trace\",\n",
    "                line=dict(color=color, dash=\"dash\", width=3)\n",
    "            ), secondary_y=True)\n",
    "        exp_fig.update_layout(\n",
    "            title=f\"{title} LLC / Hessian Trace\",\n",
    "            xaxis_title=\"Epoch\",\n",
    "            xaxis=dict(\n",
    "                tickmode='linear',\n",
    "                tick0=0,\n",
    "                dtick=10,\n",
    "            ),\n",
    "            yaxis_type=\"linear\",\n",
    "            width=600,\n",
    "            height=400,\n",
    "            legend=dict(\n",
    "                x=0,\n",
    "                y=1,\n",
    "                xanchor='left',\n",
    "                yanchor='bottom',\n",
    "                orientation='h',\n",
    "            ),\n",
    "        )\n",
    "        exp_fig.update_yaxes(title_text=\"LLC\", secondary_y=False)\n",
    "        exp_fig.update_yaxes(title_text=\"Hessian Trace\", secondary_y=True)\n",
    "        exp_figures[title] = exp_fig\n",
    "        exp_fig.show()   "
   ]
  },
  {
   "cell_type": "code",
   "execution_count": 38,
   "metadata": {},
   "outputs": [
    {
     "data": {
      "application/vnd.plotly.v1+json": {
       "config": {
        "plotlyServerURL": "https://plot.ly"
       },
       "data": [
        {
         "line": {
          "color": "rgb(200, 0, 0)",
          "width": 3
         },
         "mode": "lines",
         "name": "ngd LLC",
         "type": "scatter",
         "x": [
          1,
          2,
          3,
          4,
          5,
          6,
          7,
          8,
          9,
          10,
          11,
          12,
          13,
          14,
          15,
          16,
          17,
          18,
          19,
          20
         ],
         "xaxis": "x",
         "y": [
          null,
          null,
          null,
          null,
          null,
          null,
          null,
          null,
          null,
          null,
          null,
          27.364707946777344,
          28.773571014404297,
          29.917566299438477,
          32.239437103271484,
          32.79119110107422,
          33.54351043701172,
          36.17706298828125,
          35.93940734863281,
          36.61686706542969,
          38.2979736328125
         ],
         "yaxis": "y"
        },
        {
         "line": {
          "color": "rgb(200, 0, 0)",
          "dash": "dash",
          "width": 3
         },
         "mode": "lines",
         "name": "ngd Validation Loss",
         "type": "scatter",
         "x": [
          0,
          1,
          2,
          3,
          4,
          5,
          6,
          7,
          8,
          9,
          10,
          11,
          12,
          13,
          14,
          15,
          16,
          17,
          18,
          19,
          20
         ],
         "xaxis": "x",
         "y": [
          null,
          null,
          null,
          null,
          null,
          null,
          null,
          null,
          null,
          null,
          null,
          0.3077232172783417,
          0.3011465044338492,
          0.30294640965854064,
          0.3054043472379069,
          0.3106376016630402,
          0.3058438793390612,
          0.3134004330333275,
          0.3190710579481306,
          0.32104550801877735,
          0.3322550241328493
         ],
         "yaxis": "y2"
        },
        {
         "line": {
          "color": "rgb(32, 102, 168)",
          "width": 3
         },
         "mode": "lines",
         "name": "sgd LLC",
         "type": "scatter",
         "x": [
          1,
          2,
          3,
          4,
          5,
          6,
          7,
          8,
          9,
          10,
          11,
          12,
          13,
          14,
          15,
          16,
          17,
          18,
          19,
          20
         ],
         "xaxis": "x",
         "y": [
          -2.721259593963623,
          24.807945251464844,
          23.81359100341797,
          24.489837646484375,
          25.12825584411621,
          25.207500457763672,
          25.3375244140625,
          24.629947662353516,
          24.466293334960938,
          25.464324951171875,
          26.412715911865234,
          26.101200103759766,
          27.435245513916016,
          25.42850685119629,
          26.51348876953125,
          28.380531311035156,
          25.52640151977539,
          28.00211524963379,
          28.008228302001953,
          29.469207763671875,
          27.710479736328125
         ],
         "yaxis": "y"
        },
        {
         "line": {
          "color": "rgb(32, 102, 168)",
          "dash": "dash",
          "width": 3
         },
         "mode": "lines",
         "name": "sgd Validation Loss",
         "type": "scatter",
         "x": [
          0,
          1,
          2,
          3,
          4,
          5,
          6,
          7,
          8,
          9,
          10,
          11,
          12,
          13,
          14,
          15,
          16,
          17,
          18,
          19,
          20
         ],
         "xaxis": "x",
         "y": [
          2.2948665286921246,
          0.4644393811497507,
          0.4143499980998945,
          0.38412458044064196,
          0.3679977789332595,
          0.36207038484796694,
          0.3460205335028564,
          0.35346390042878406,
          0.3479530105862436,
          0.33807471932112415,
          0.32381722199011453,
          0.3315510319758065,
          0.3259355208919018,
          0.32478713291355327,
          0.332985232525234,
          0.330069693960721,
          0.3351811977881419,
          0.33870423924696597,
          0.33378992248562317,
          0.34709413783459725,
          0.325433915740327
         ],
         "yaxis": "y2"
        }
       ],
       "layout": {
        "height": 400,
        "legend": {
         "orientation": "h",
         "x": 0,
         "xanchor": "left",
         "y": 1,
         "yanchor": "bottom"
        },
        "template": {
         "data": {
          "bar": [
           {
            "error_x": {
             "color": "#2a3f5f"
            },
            "error_y": {
             "color": "#2a3f5f"
            },
            "marker": {
             "line": {
              "color": "#E5ECF6",
              "width": 0.5
             },
             "pattern": {
              "fillmode": "overlay",
              "size": 10,
              "solidity": 0.2
             }
            },
            "type": "bar"
           }
          ],
          "barpolar": [
           {
            "marker": {
             "line": {
              "color": "#E5ECF6",
              "width": 0.5
             },
             "pattern": {
              "fillmode": "overlay",
              "size": 10,
              "solidity": 0.2
             }
            },
            "type": "barpolar"
           }
          ],
          "carpet": [
           {
            "aaxis": {
             "endlinecolor": "#2a3f5f",
             "gridcolor": "white",
             "linecolor": "white",
             "minorgridcolor": "white",
             "startlinecolor": "#2a3f5f"
            },
            "baxis": {
             "endlinecolor": "#2a3f5f",
             "gridcolor": "white",
             "linecolor": "white",
             "minorgridcolor": "white",
             "startlinecolor": "#2a3f5f"
            },
            "type": "carpet"
           }
          ],
          "choropleth": [
           {
            "colorbar": {
             "outlinewidth": 0,
             "ticks": ""
            },
            "type": "choropleth"
           }
          ],
          "contour": [
           {
            "colorbar": {
             "outlinewidth": 0,
             "ticks": ""
            },
            "colorscale": [
             [
              0,
              "#0d0887"
             ],
             [
              0.1111111111111111,
              "#46039f"
             ],
             [
              0.2222222222222222,
              "#7201a8"
             ],
             [
              0.3333333333333333,
              "#9c179e"
             ],
             [
              0.4444444444444444,
              "#bd3786"
             ],
             [
              0.5555555555555556,
              "#d8576b"
             ],
             [
              0.6666666666666666,
              "#ed7953"
             ],
             [
              0.7777777777777778,
              "#fb9f3a"
             ],
             [
              0.8888888888888888,
              "#fdca26"
             ],
             [
              1,
              "#f0f921"
             ]
            ],
            "type": "contour"
           }
          ],
          "contourcarpet": [
           {
            "colorbar": {
             "outlinewidth": 0,
             "ticks": ""
            },
            "type": "contourcarpet"
           }
          ],
          "heatmap": [
           {
            "colorbar": {
             "outlinewidth": 0,
             "ticks": ""
            },
            "colorscale": [
             [
              0,
              "#0d0887"
             ],
             [
              0.1111111111111111,
              "#46039f"
             ],
             [
              0.2222222222222222,
              "#7201a8"
             ],
             [
              0.3333333333333333,
              "#9c179e"
             ],
             [
              0.4444444444444444,
              "#bd3786"
             ],
             [
              0.5555555555555556,
              "#d8576b"
             ],
             [
              0.6666666666666666,
              "#ed7953"
             ],
             [
              0.7777777777777778,
              "#fb9f3a"
             ],
             [
              0.8888888888888888,
              "#fdca26"
             ],
             [
              1,
              "#f0f921"
             ]
            ],
            "type": "heatmap"
           }
          ],
          "heatmapgl": [
           {
            "colorbar": {
             "outlinewidth": 0,
             "ticks": ""
            },
            "colorscale": [
             [
              0,
              "#0d0887"
             ],
             [
              0.1111111111111111,
              "#46039f"
             ],
             [
              0.2222222222222222,
              "#7201a8"
             ],
             [
              0.3333333333333333,
              "#9c179e"
             ],
             [
              0.4444444444444444,
              "#bd3786"
             ],
             [
              0.5555555555555556,
              "#d8576b"
             ],
             [
              0.6666666666666666,
              "#ed7953"
             ],
             [
              0.7777777777777778,
              "#fb9f3a"
             ],
             [
              0.8888888888888888,
              "#fdca26"
             ],
             [
              1,
              "#f0f921"
             ]
            ],
            "type": "heatmapgl"
           }
          ],
          "histogram": [
           {
            "marker": {
             "pattern": {
              "fillmode": "overlay",
              "size": 10,
              "solidity": 0.2
             }
            },
            "type": "histogram"
           }
          ],
          "histogram2d": [
           {
            "colorbar": {
             "outlinewidth": 0,
             "ticks": ""
            },
            "colorscale": [
             [
              0,
              "#0d0887"
             ],
             [
              0.1111111111111111,
              "#46039f"
             ],
             [
              0.2222222222222222,
              "#7201a8"
             ],
             [
              0.3333333333333333,
              "#9c179e"
             ],
             [
              0.4444444444444444,
              "#bd3786"
             ],
             [
              0.5555555555555556,
              "#d8576b"
             ],
             [
              0.6666666666666666,
              "#ed7953"
             ],
             [
              0.7777777777777778,
              "#fb9f3a"
             ],
             [
              0.8888888888888888,
              "#fdca26"
             ],
             [
              1,
              "#f0f921"
             ]
            ],
            "type": "histogram2d"
           }
          ],
          "histogram2dcontour": [
           {
            "colorbar": {
             "outlinewidth": 0,
             "ticks": ""
            },
            "colorscale": [
             [
              0,
              "#0d0887"
             ],
             [
              0.1111111111111111,
              "#46039f"
             ],
             [
              0.2222222222222222,
              "#7201a8"
             ],
             [
              0.3333333333333333,
              "#9c179e"
             ],
             [
              0.4444444444444444,
              "#bd3786"
             ],
             [
              0.5555555555555556,
              "#d8576b"
             ],
             [
              0.6666666666666666,
              "#ed7953"
             ],
             [
              0.7777777777777778,
              "#fb9f3a"
             ],
             [
              0.8888888888888888,
              "#fdca26"
             ],
             [
              1,
              "#f0f921"
             ]
            ],
            "type": "histogram2dcontour"
           }
          ],
          "mesh3d": [
           {
            "colorbar": {
             "outlinewidth": 0,
             "ticks": ""
            },
            "type": "mesh3d"
           }
          ],
          "parcoords": [
           {
            "line": {
             "colorbar": {
              "outlinewidth": 0,
              "ticks": ""
             }
            },
            "type": "parcoords"
           }
          ],
          "pie": [
           {
            "automargin": true,
            "type": "pie"
           }
          ],
          "scatter": [
           {
            "fillpattern": {
             "fillmode": "overlay",
             "size": 10,
             "solidity": 0.2
            },
            "type": "scatter"
           }
          ],
          "scatter3d": [
           {
            "line": {
             "colorbar": {
              "outlinewidth": 0,
              "ticks": ""
             }
            },
            "marker": {
             "colorbar": {
              "outlinewidth": 0,
              "ticks": ""
             }
            },
            "type": "scatter3d"
           }
          ],
          "scattercarpet": [
           {
            "marker": {
             "colorbar": {
              "outlinewidth": 0,
              "ticks": ""
             }
            },
            "type": "scattercarpet"
           }
          ],
          "scattergeo": [
           {
            "marker": {
             "colorbar": {
              "outlinewidth": 0,
              "ticks": ""
             }
            },
            "type": "scattergeo"
           }
          ],
          "scattergl": [
           {
            "marker": {
             "colorbar": {
              "outlinewidth": 0,
              "ticks": ""
             }
            },
            "type": "scattergl"
           }
          ],
          "scattermapbox": [
           {
            "marker": {
             "colorbar": {
              "outlinewidth": 0,
              "ticks": ""
             }
            },
            "type": "scattermapbox"
           }
          ],
          "scatterpolar": [
           {
            "marker": {
             "colorbar": {
              "outlinewidth": 0,
              "ticks": ""
             }
            },
            "type": "scatterpolar"
           }
          ],
          "scatterpolargl": [
           {
            "marker": {
             "colorbar": {
              "outlinewidth": 0,
              "ticks": ""
             }
            },
            "type": "scatterpolargl"
           }
          ],
          "scatterternary": [
           {
            "marker": {
             "colorbar": {
              "outlinewidth": 0,
              "ticks": ""
             }
            },
            "type": "scatterternary"
           }
          ],
          "surface": [
           {
            "colorbar": {
             "outlinewidth": 0,
             "ticks": ""
            },
            "colorscale": [
             [
              0,
              "#0d0887"
             ],
             [
              0.1111111111111111,
              "#46039f"
             ],
             [
              0.2222222222222222,
              "#7201a8"
             ],
             [
              0.3333333333333333,
              "#9c179e"
             ],
             [
              0.4444444444444444,
              "#bd3786"
             ],
             [
              0.5555555555555556,
              "#d8576b"
             ],
             [
              0.6666666666666666,
              "#ed7953"
             ],
             [
              0.7777777777777778,
              "#fb9f3a"
             ],
             [
              0.8888888888888888,
              "#fdca26"
             ],
             [
              1,
              "#f0f921"
             ]
            ],
            "type": "surface"
           }
          ],
          "table": [
           {
            "cells": {
             "fill": {
              "color": "#EBF0F8"
             },
             "line": {
              "color": "white"
             }
            },
            "header": {
             "fill": {
              "color": "#C8D4E3"
             },
             "line": {
              "color": "white"
             }
            },
            "type": "table"
           }
          ]
         },
         "layout": {
          "annotationdefaults": {
           "arrowcolor": "#2a3f5f",
           "arrowhead": 0,
           "arrowwidth": 1
          },
          "autotypenumbers": "strict",
          "coloraxis": {
           "colorbar": {
            "outlinewidth": 0,
            "ticks": ""
           }
          },
          "colorscale": {
           "diverging": [
            [
             0,
             "#8e0152"
            ],
            [
             0.1,
             "#c51b7d"
            ],
            [
             0.2,
             "#de77ae"
            ],
            [
             0.3,
             "#f1b6da"
            ],
            [
             0.4,
             "#fde0ef"
            ],
            [
             0.5,
             "#f7f7f7"
            ],
            [
             0.6,
             "#e6f5d0"
            ],
            [
             0.7,
             "#b8e186"
            ],
            [
             0.8,
             "#7fbc41"
            ],
            [
             0.9,
             "#4d9221"
            ],
            [
             1,
             "#276419"
            ]
           ],
           "sequential": [
            [
             0,
             "#0d0887"
            ],
            [
             0.1111111111111111,
             "#46039f"
            ],
            [
             0.2222222222222222,
             "#7201a8"
            ],
            [
             0.3333333333333333,
             "#9c179e"
            ],
            [
             0.4444444444444444,
             "#bd3786"
            ],
            [
             0.5555555555555556,
             "#d8576b"
            ],
            [
             0.6666666666666666,
             "#ed7953"
            ],
            [
             0.7777777777777778,
             "#fb9f3a"
            ],
            [
             0.8888888888888888,
             "#fdca26"
            ],
            [
             1,
             "#f0f921"
            ]
           ],
           "sequentialminus": [
            [
             0,
             "#0d0887"
            ],
            [
             0.1111111111111111,
             "#46039f"
            ],
            [
             0.2222222222222222,
             "#7201a8"
            ],
            [
             0.3333333333333333,
             "#9c179e"
            ],
            [
             0.4444444444444444,
             "#bd3786"
            ],
            [
             0.5555555555555556,
             "#d8576b"
            ],
            [
             0.6666666666666666,
             "#ed7953"
            ],
            [
             0.7777777777777778,
             "#fb9f3a"
            ],
            [
             0.8888888888888888,
             "#fdca26"
            ],
            [
             1,
             "#f0f921"
            ]
           ]
          },
          "colorway": [
           "#636efa",
           "#EF553B",
           "#00cc96",
           "#ab63fa",
           "#FFA15A",
           "#19d3f3",
           "#FF6692",
           "#B6E880",
           "#FF97FF",
           "#FECB52"
          ],
          "font": {
           "color": "#2a3f5f"
          },
          "geo": {
           "bgcolor": "white",
           "lakecolor": "white",
           "landcolor": "#E5ECF6",
           "showlakes": true,
           "showland": true,
           "subunitcolor": "white"
          },
          "hoverlabel": {
           "align": "left"
          },
          "hovermode": "closest",
          "mapbox": {
           "style": "light"
          },
          "paper_bgcolor": "white",
          "plot_bgcolor": "#E5ECF6",
          "polar": {
           "angularaxis": {
            "gridcolor": "white",
            "linecolor": "white",
            "ticks": ""
           },
           "bgcolor": "#E5ECF6",
           "radialaxis": {
            "gridcolor": "white",
            "linecolor": "white",
            "ticks": ""
           }
          },
          "scene": {
           "xaxis": {
            "backgroundcolor": "#E5ECF6",
            "gridcolor": "white",
            "gridwidth": 2,
            "linecolor": "white",
            "showbackground": true,
            "ticks": "",
            "zerolinecolor": "white"
           },
           "yaxis": {
            "backgroundcolor": "#E5ECF6",
            "gridcolor": "white",
            "gridwidth": 2,
            "linecolor": "white",
            "showbackground": true,
            "ticks": "",
            "zerolinecolor": "white"
           },
           "zaxis": {
            "backgroundcolor": "#E5ECF6",
            "gridcolor": "white",
            "gridwidth": 2,
            "linecolor": "white",
            "showbackground": true,
            "ticks": "",
            "zerolinecolor": "white"
           }
          },
          "shapedefaults": {
           "line": {
            "color": "#2a3f5f"
           }
          },
          "ternary": {
           "aaxis": {
            "gridcolor": "white",
            "linecolor": "white",
            "ticks": ""
           },
           "baxis": {
            "gridcolor": "white",
            "linecolor": "white",
            "ticks": ""
           },
           "bgcolor": "#E5ECF6",
           "caxis": {
            "gridcolor": "white",
            "linecolor": "white",
            "ticks": ""
           }
          },
          "title": {
           "x": 0.05
          },
          "xaxis": {
           "automargin": true,
           "gridcolor": "white",
           "linecolor": "white",
           "ticks": "",
           "title": {
            "standoff": 15
           },
           "zerolinecolor": "white",
           "zerolinewidth": 2
          },
          "yaxis": {
           "automargin": true,
           "gridcolor": "white",
           "linecolor": "white",
           "ticks": "",
           "title": {
            "standoff": 15
           },
           "zerolinecolor": "white",
           "zerolinewidth": 2
          }
         }
        },
        "title": {
         "text": "FFNN 2 HL, 256 HN LLC / Validation Loss"
        },
        "width": 600,
        "xaxis": {
         "anchor": "y",
         "domain": [
          0,
          0.94
         ],
         "dtick": 5,
         "tick0": 0,
         "tickmode": "linear",
         "title": {
          "text": "Epoch"
         }
        },
        "yaxis": {
         "anchor": "x",
         "domain": [
          0,
          1
         ],
         "range": [
          0,
          null
         ],
         "title": {
          "text": "LLC"
         },
         "type": "linear"
        },
        "yaxis2": {
         "anchor": "x",
         "overlaying": "y",
         "showgrid": false,
         "side": "right",
         "title": {
          "text": "Validation Loss"
         },
         "zeroline": false
        }
       }
      },
      "text/html": [
       "<div>                            <div id=\"14e3095b-5256-475a-b8a6-02eb7a027efd\" class=\"plotly-graph-div\" style=\"height:400px; width:600px;\"></div>            <script type=\"text/javascript\">                require([\"plotly\"], function(Plotly) {                    window.PLOTLYENV=window.PLOTLYENV || {};                                    if (document.getElementById(\"14e3095b-5256-475a-b8a6-02eb7a027efd\")) {                    Plotly.newPlot(                        \"14e3095b-5256-475a-b8a6-02eb7a027efd\",                        [{\"line\":{\"color\":\"rgb(200, 0, 0)\",\"width\":3},\"mode\":\"lines\",\"name\":\"ngd LLC\",\"x\":[1,2,3,4,5,6,7,8,9,10,11,12,13,14,15,16,17,18,19,20],\"y\":[null,null,null,null,null,null,null,null,null,null,null,27.364707946777344,28.773571014404297,29.917566299438477,32.239437103271484,32.79119110107422,33.54351043701172,36.17706298828125,35.93940734863281,36.61686706542969,38.2979736328125],\"type\":\"scatter\",\"xaxis\":\"x\",\"yaxis\":\"y\"},{\"line\":{\"color\":\"rgb(200, 0, 0)\",\"dash\":\"dash\",\"width\":3},\"mode\":\"lines\",\"name\":\"ngd Validation Loss\",\"x\":[0,1,2,3,4,5,6,7,8,9,10,11,12,13,14,15,16,17,18,19,20],\"y\":[null,null,null,null,null,null,null,null,null,null,null,0.3077232172783417,0.3011465044338492,0.30294640965854064,0.3054043472379069,0.3106376016630402,0.3058438793390612,0.3134004330333275,0.3190710579481306,0.32104550801877735,0.3322550241328493],\"type\":\"scatter\",\"xaxis\":\"x\",\"yaxis\":\"y2\"},{\"line\":{\"color\":\"rgb(32, 102, 168)\",\"width\":3},\"mode\":\"lines\",\"name\":\"sgd LLC\",\"x\":[1,2,3,4,5,6,7,8,9,10,11,12,13,14,15,16,17,18,19,20],\"y\":[-2.721259593963623,24.807945251464844,23.81359100341797,24.489837646484375,25.12825584411621,25.207500457763672,25.3375244140625,24.629947662353516,24.466293334960938,25.464324951171875,26.412715911865234,26.101200103759766,27.435245513916016,25.42850685119629,26.51348876953125,28.380531311035156,25.52640151977539,28.00211524963379,28.008228302001953,29.469207763671875,27.710479736328125],\"type\":\"scatter\",\"xaxis\":\"x\",\"yaxis\":\"y\"},{\"line\":{\"color\":\"rgb(32, 102, 168)\",\"dash\":\"dash\",\"width\":3},\"mode\":\"lines\",\"name\":\"sgd Validation Loss\",\"x\":[0,1,2,3,4,5,6,7,8,9,10,11,12,13,14,15,16,17,18,19,20],\"y\":[2.2948665286921246,0.4644393811497507,0.4143499980998945,0.38412458044064196,0.3679977789332595,0.36207038484796694,0.3460205335028564,0.35346390042878406,0.3479530105862436,0.33807471932112415,0.32381722199011453,0.3315510319758065,0.3259355208919018,0.32478713291355327,0.332985232525234,0.330069693960721,0.3351811977881419,0.33870423924696597,0.33378992248562317,0.34709413783459725,0.325433915740327],\"type\":\"scatter\",\"xaxis\":\"x\",\"yaxis\":\"y2\"}],                        {\"template\":{\"data\":{\"histogram2dcontour\":[{\"type\":\"histogram2dcontour\",\"colorbar\":{\"outlinewidth\":0,\"ticks\":\"\"},\"colorscale\":[[0.0,\"#0d0887\"],[0.1111111111111111,\"#46039f\"],[0.2222222222222222,\"#7201a8\"],[0.3333333333333333,\"#9c179e\"],[0.4444444444444444,\"#bd3786\"],[0.5555555555555556,\"#d8576b\"],[0.6666666666666666,\"#ed7953\"],[0.7777777777777778,\"#fb9f3a\"],[0.8888888888888888,\"#fdca26\"],[1.0,\"#f0f921\"]]}],\"choropleth\":[{\"type\":\"choropleth\",\"colorbar\":{\"outlinewidth\":0,\"ticks\":\"\"}}],\"histogram2d\":[{\"type\":\"histogram2d\",\"colorbar\":{\"outlinewidth\":0,\"ticks\":\"\"},\"colorscale\":[[0.0,\"#0d0887\"],[0.1111111111111111,\"#46039f\"],[0.2222222222222222,\"#7201a8\"],[0.3333333333333333,\"#9c179e\"],[0.4444444444444444,\"#bd3786\"],[0.5555555555555556,\"#d8576b\"],[0.6666666666666666,\"#ed7953\"],[0.7777777777777778,\"#fb9f3a\"],[0.8888888888888888,\"#fdca26\"],[1.0,\"#f0f921\"]]}],\"heatmap\":[{\"type\":\"heatmap\",\"colorbar\":{\"outlinewidth\":0,\"ticks\":\"\"},\"colorscale\":[[0.0,\"#0d0887\"],[0.1111111111111111,\"#46039f\"],[0.2222222222222222,\"#7201a8\"],[0.3333333333333333,\"#9c179e\"],[0.4444444444444444,\"#bd3786\"],[0.5555555555555556,\"#d8576b\"],[0.6666666666666666,\"#ed7953\"],[0.7777777777777778,\"#fb9f3a\"],[0.8888888888888888,\"#fdca26\"],[1.0,\"#f0f921\"]]}],\"heatmapgl\":[{\"type\":\"heatmapgl\",\"colorbar\":{\"outlinewidth\":0,\"ticks\":\"\"},\"colorscale\":[[0.0,\"#0d0887\"],[0.1111111111111111,\"#46039f\"],[0.2222222222222222,\"#7201a8\"],[0.3333333333333333,\"#9c179e\"],[0.4444444444444444,\"#bd3786\"],[0.5555555555555556,\"#d8576b\"],[0.6666666666666666,\"#ed7953\"],[0.7777777777777778,\"#fb9f3a\"],[0.8888888888888888,\"#fdca26\"],[1.0,\"#f0f921\"]]}],\"contourcarpet\":[{\"type\":\"contourcarpet\",\"colorbar\":{\"outlinewidth\":0,\"ticks\":\"\"}}],\"contour\":[{\"type\":\"contour\",\"colorbar\":{\"outlinewidth\":0,\"ticks\":\"\"},\"colorscale\":[[0.0,\"#0d0887\"],[0.1111111111111111,\"#46039f\"],[0.2222222222222222,\"#7201a8\"],[0.3333333333333333,\"#9c179e\"],[0.4444444444444444,\"#bd3786\"],[0.5555555555555556,\"#d8576b\"],[0.6666666666666666,\"#ed7953\"],[0.7777777777777778,\"#fb9f3a\"],[0.8888888888888888,\"#fdca26\"],[1.0,\"#f0f921\"]]}],\"surface\":[{\"type\":\"surface\",\"colorbar\":{\"outlinewidth\":0,\"ticks\":\"\"},\"colorscale\":[[0.0,\"#0d0887\"],[0.1111111111111111,\"#46039f\"],[0.2222222222222222,\"#7201a8\"],[0.3333333333333333,\"#9c179e\"],[0.4444444444444444,\"#bd3786\"],[0.5555555555555556,\"#d8576b\"],[0.6666666666666666,\"#ed7953\"],[0.7777777777777778,\"#fb9f3a\"],[0.8888888888888888,\"#fdca26\"],[1.0,\"#f0f921\"]]}],\"mesh3d\":[{\"type\":\"mesh3d\",\"colorbar\":{\"outlinewidth\":0,\"ticks\":\"\"}}],\"scatter\":[{\"fillpattern\":{\"fillmode\":\"overlay\",\"size\":10,\"solidity\":0.2},\"type\":\"scatter\"}],\"parcoords\":[{\"type\":\"parcoords\",\"line\":{\"colorbar\":{\"outlinewidth\":0,\"ticks\":\"\"}}}],\"scatterpolargl\":[{\"type\":\"scatterpolargl\",\"marker\":{\"colorbar\":{\"outlinewidth\":0,\"ticks\":\"\"}}}],\"bar\":[{\"error_x\":{\"color\":\"#2a3f5f\"},\"error_y\":{\"color\":\"#2a3f5f\"},\"marker\":{\"line\":{\"color\":\"#E5ECF6\",\"width\":0.5},\"pattern\":{\"fillmode\":\"overlay\",\"size\":10,\"solidity\":0.2}},\"type\":\"bar\"}],\"scattergeo\":[{\"type\":\"scattergeo\",\"marker\":{\"colorbar\":{\"outlinewidth\":0,\"ticks\":\"\"}}}],\"scatterpolar\":[{\"type\":\"scatterpolar\",\"marker\":{\"colorbar\":{\"outlinewidth\":0,\"ticks\":\"\"}}}],\"histogram\":[{\"marker\":{\"pattern\":{\"fillmode\":\"overlay\",\"size\":10,\"solidity\":0.2}},\"type\":\"histogram\"}],\"scattergl\":[{\"type\":\"scattergl\",\"marker\":{\"colorbar\":{\"outlinewidth\":0,\"ticks\":\"\"}}}],\"scatter3d\":[{\"type\":\"scatter3d\",\"line\":{\"colorbar\":{\"outlinewidth\":0,\"ticks\":\"\"}},\"marker\":{\"colorbar\":{\"outlinewidth\":0,\"ticks\":\"\"}}}],\"scattermapbox\":[{\"type\":\"scattermapbox\",\"marker\":{\"colorbar\":{\"outlinewidth\":0,\"ticks\":\"\"}}}],\"scatterternary\":[{\"type\":\"scatterternary\",\"marker\":{\"colorbar\":{\"outlinewidth\":0,\"ticks\":\"\"}}}],\"scattercarpet\":[{\"type\":\"scattercarpet\",\"marker\":{\"colorbar\":{\"outlinewidth\":0,\"ticks\":\"\"}}}],\"carpet\":[{\"aaxis\":{\"endlinecolor\":\"#2a3f5f\",\"gridcolor\":\"white\",\"linecolor\":\"white\",\"minorgridcolor\":\"white\",\"startlinecolor\":\"#2a3f5f\"},\"baxis\":{\"endlinecolor\":\"#2a3f5f\",\"gridcolor\":\"white\",\"linecolor\":\"white\",\"minorgridcolor\":\"white\",\"startlinecolor\":\"#2a3f5f\"},\"type\":\"carpet\"}],\"table\":[{\"cells\":{\"fill\":{\"color\":\"#EBF0F8\"},\"line\":{\"color\":\"white\"}},\"header\":{\"fill\":{\"color\":\"#C8D4E3\"},\"line\":{\"color\":\"white\"}},\"type\":\"table\"}],\"barpolar\":[{\"marker\":{\"line\":{\"color\":\"#E5ECF6\",\"width\":0.5},\"pattern\":{\"fillmode\":\"overlay\",\"size\":10,\"solidity\":0.2}},\"type\":\"barpolar\"}],\"pie\":[{\"automargin\":true,\"type\":\"pie\"}]},\"layout\":{\"autotypenumbers\":\"strict\",\"colorway\":[\"#636efa\",\"#EF553B\",\"#00cc96\",\"#ab63fa\",\"#FFA15A\",\"#19d3f3\",\"#FF6692\",\"#B6E880\",\"#FF97FF\",\"#FECB52\"],\"font\":{\"color\":\"#2a3f5f\"},\"hovermode\":\"closest\",\"hoverlabel\":{\"align\":\"left\"},\"paper_bgcolor\":\"white\",\"plot_bgcolor\":\"#E5ECF6\",\"polar\":{\"bgcolor\":\"#E5ECF6\",\"angularaxis\":{\"gridcolor\":\"white\",\"linecolor\":\"white\",\"ticks\":\"\"},\"radialaxis\":{\"gridcolor\":\"white\",\"linecolor\":\"white\",\"ticks\":\"\"}},\"ternary\":{\"bgcolor\":\"#E5ECF6\",\"aaxis\":{\"gridcolor\":\"white\",\"linecolor\":\"white\",\"ticks\":\"\"},\"baxis\":{\"gridcolor\":\"white\",\"linecolor\":\"white\",\"ticks\":\"\"},\"caxis\":{\"gridcolor\":\"white\",\"linecolor\":\"white\",\"ticks\":\"\"}},\"coloraxis\":{\"colorbar\":{\"outlinewidth\":0,\"ticks\":\"\"}},\"colorscale\":{\"sequential\":[[0.0,\"#0d0887\"],[0.1111111111111111,\"#46039f\"],[0.2222222222222222,\"#7201a8\"],[0.3333333333333333,\"#9c179e\"],[0.4444444444444444,\"#bd3786\"],[0.5555555555555556,\"#d8576b\"],[0.6666666666666666,\"#ed7953\"],[0.7777777777777778,\"#fb9f3a\"],[0.8888888888888888,\"#fdca26\"],[1.0,\"#f0f921\"]],\"sequentialminus\":[[0.0,\"#0d0887\"],[0.1111111111111111,\"#46039f\"],[0.2222222222222222,\"#7201a8\"],[0.3333333333333333,\"#9c179e\"],[0.4444444444444444,\"#bd3786\"],[0.5555555555555556,\"#d8576b\"],[0.6666666666666666,\"#ed7953\"],[0.7777777777777778,\"#fb9f3a\"],[0.8888888888888888,\"#fdca26\"],[1.0,\"#f0f921\"]],\"diverging\":[[0,\"#8e0152\"],[0.1,\"#c51b7d\"],[0.2,\"#de77ae\"],[0.3,\"#f1b6da\"],[0.4,\"#fde0ef\"],[0.5,\"#f7f7f7\"],[0.6,\"#e6f5d0\"],[0.7,\"#b8e186\"],[0.8,\"#7fbc41\"],[0.9,\"#4d9221\"],[1,\"#276419\"]]},\"xaxis\":{\"gridcolor\":\"white\",\"linecolor\":\"white\",\"ticks\":\"\",\"title\":{\"standoff\":15},\"zerolinecolor\":\"white\",\"automargin\":true,\"zerolinewidth\":2},\"yaxis\":{\"gridcolor\":\"white\",\"linecolor\":\"white\",\"ticks\":\"\",\"title\":{\"standoff\":15},\"zerolinecolor\":\"white\",\"automargin\":true,\"zerolinewidth\":2},\"scene\":{\"xaxis\":{\"backgroundcolor\":\"#E5ECF6\",\"gridcolor\":\"white\",\"linecolor\":\"white\",\"showbackground\":true,\"ticks\":\"\",\"zerolinecolor\":\"white\",\"gridwidth\":2},\"yaxis\":{\"backgroundcolor\":\"#E5ECF6\",\"gridcolor\":\"white\",\"linecolor\":\"white\",\"showbackground\":true,\"ticks\":\"\",\"zerolinecolor\":\"white\",\"gridwidth\":2},\"zaxis\":{\"backgroundcolor\":\"#E5ECF6\",\"gridcolor\":\"white\",\"linecolor\":\"white\",\"showbackground\":true,\"ticks\":\"\",\"zerolinecolor\":\"white\",\"gridwidth\":2}},\"shapedefaults\":{\"line\":{\"color\":\"#2a3f5f\"}},\"annotationdefaults\":{\"arrowcolor\":\"#2a3f5f\",\"arrowhead\":0,\"arrowwidth\":1},\"geo\":{\"bgcolor\":\"white\",\"landcolor\":\"#E5ECF6\",\"subunitcolor\":\"white\",\"showland\":true,\"showlakes\":true,\"lakecolor\":\"white\"},\"title\":{\"x\":0.05},\"mapbox\":{\"style\":\"light\"}}},\"xaxis\":{\"anchor\":\"y\",\"domain\":[0.0,0.94],\"title\":{\"text\":\"Epoch\"},\"tickmode\":\"linear\",\"tick0\":0,\"dtick\":5},\"yaxis\":{\"anchor\":\"x\",\"domain\":[0.0,1.0],\"type\":\"linear\",\"range\":[0,null],\"title\":{\"text\":\"LLC\"}},\"yaxis2\":{\"anchor\":\"x\",\"overlaying\":\"y\",\"side\":\"right\",\"title\":{\"text\":\"Validation Loss\"},\"showgrid\":false,\"zeroline\":false},\"legend\":{\"x\":0,\"y\":1,\"xanchor\":\"left\",\"yanchor\":\"bottom\",\"orientation\":\"h\"},\"title\":{\"text\":\"FFNN 2 HL, 256 HN LLC \\u002f Validation Loss\"},\"width\":600,\"height\":400},                        {\"responsive\": true}                    ).then(function(){\n",
       "                            \n",
       "var gd = document.getElementById('14e3095b-5256-475a-b8a6-02eb7a027efd');\n",
       "var x = new MutationObserver(function (mutations, observer) {{\n",
       "        var display = window.getComputedStyle(gd).display;\n",
       "        if (!display || display === 'none') {{\n",
       "            console.log([gd, 'removed!']);\n",
       "            Plotly.purge(gd);\n",
       "            observer.disconnect();\n",
       "        }}\n",
       "}});\n",
       "\n",
       "// Listen for the removal of the full notebook cells\n",
       "var notebookContainer = gd.closest('#notebook-container');\n",
       "if (notebookContainer) {{\n",
       "    x.observe(notebookContainer, {childList: true});\n",
       "}}\n",
       "\n",
       "// Listen for the clearing of the current output cell\n",
       "var outputEl = gd.closest('.output');\n",
       "if (outputEl) {{\n",
       "    x.observe(outputEl, {childList: true});\n",
       "}}\n",
       "\n",
       "                        })                };                });            </script>        </div>"
      ]
     },
     "metadata": {},
     "output_type": "display_data"
    }
   ],
   "source": [
    "#visualize LLC and val loss\n",
    "\n",
    "llc_figures = {}\n",
    "\n",
    "for title in models.keys():\n",
    "    llc_fig = make_subplots(specs=[[{\"secondary_y\" : True}]])\n",
    "    color_index = 0\n",
    "    for optim in optimizers:\n",
    "        color = color_cycle[color_index % len(color_cycle)]\n",
    "        color_index += 1\n",
    "\n",
    "        #ignore the first epoch\n",
    "        llc_fig.add_trace(go.Scatter(\n",
    "            x=np.arange(1, hp[\"num_epochs\"]+1),\n",
    "            y=llc_estimates[title][optim],\n",
    "            mode=\"lines\",\n",
    "            name=f\"{optim} LLC\",\n",
    "            line=dict(color=color, width=3),\n",
    "        ), secondary_y=False)\n",
    "        llc_fig.add_trace(go.Scatter(\n",
    "            x=np.arange(0, hp[\"num_epochs\"]+1),\n",
    "            y=val_losses[title][optim],\n",
    "            mode=\"lines\",\n",
    "            name=f\"{optim} Validation Loss\",\n",
    "            line=dict(color=color, dash=\"dash\", width=3)\n",
    "        ), secondary_y=True)\n",
    "    llc_fig.update_layout(\n",
    "        title=f\"{title} LLC / Validation Loss\",\n",
    "        xaxis_title=\"Epoch\",\n",
    "        xaxis=dict(\n",
    "            tickmode='linear',\n",
    "            tick0=0,\n",
    "            dtick=5,\n",
    "        ),\n",
    "        yaxis_type=\"linear\",\n",
    "        yaxis=dict(\n",
    "            range=[0, None],\n",
    "        ),\n",
    "        width=600,\n",
    "        height=400,\n",
    "        legend=dict(\n",
    "            x=0,\n",
    "            y=1,\n",
    "            xanchor='left',\n",
    "            yanchor='bottom',\n",
    "            orientation='h',\n",
    "        ),\n",
    "    )\n",
    "    llc_fig.update_yaxes(title_text=\"LLC\", secondary_y=False)\n",
    "    llc_fig.update_yaxes(title_text=\"Validation Loss\", \n",
    "                         secondary_y=True,\n",
    "                        showgrid=False,  # This removes the grid for the secondary y-axis\n",
    "                        zeroline=False   # This removes the zero line for the secondary y-axis\n",
    "                        )\n",
    "    llc_figures[title] = llc_fig\n",
    "    llc_fig.show()"
   ]
  },
  {
   "cell_type": "code",
   "execution_count": 39,
   "metadata": {},
   "outputs": [],
   "source": [
    "#visualize hessian trace and val loss\n",
    "\n",
    "#visualize LLC and val loss\n",
    "hess_figures = {}\n",
    "\n",
    "if hp['hessian']:\n",
    "    for title in models.keys():\n",
    "        hess_fig = make_subplots(specs=[[{\"secondary_y\" : True}]])\n",
    "        color_index = 0\n",
    "        for optim in optimizers:\n",
    "            color = color_cycle[color_index % len(color_cycle)]\n",
    "            color_index += 1\n",
    "            hess_fig.add_trace(go.Scatter(\n",
    "                x=np.arange(1, hp[\"num_epochs\"]+1),\n",
    "                y=hessian_traces[title][optim][1:],\n",
    "                mode=\"lines\",\n",
    "                name=f\"{optim} Trace\",\n",
    "                line=dict(color=color, width=3),\n",
    "            ), secondary_y=False)\n",
    "            hess_fig.add_trace(go.Scatter(\n",
    "                x=np.arange(1, hp[\"num_epochs\"]+1),\n",
    "                y=val_losses[title][optim][1:],\n",
    "                mode=\"lines\",\n",
    "                name=f\"{optim} Validation Loss\",\n",
    "                line=dict(color=color, dash=\"dash\", width=3)\n",
    "            ), secondary_y=True)\n",
    "        hess_fig.update_layout(\n",
    "            title=f\"{title} Hessian Trace / Validation Loss\",\n",
    "            xaxis_title=\"Epoch\",\n",
    "            xaxis=dict(\n",
    "                tickmode='linear',\n",
    "                tick0=0,\n",
    "                dtick=5,\n",
    "            ),\n",
    "            yaxis_type=\"linear\",\n",
    "            width=600,\n",
    "            height=400,\n",
    "            legend=dict(\n",
    "                x=0,\n",
    "                y=1,\n",
    "                xanchor='left',\n",
    "                yanchor='bottom',\n",
    "                orientation='h',\n",
    "            ),\n",
    "        )\n",
    "        hess_fig.update_yaxes(title_text=\"Hessian Trace\", secondary_y=False)\n",
    "        hess_fig.update_yaxes(title_text=\"Validation Loss\", secondary_y=True)\n",
    "        hess_figures[title] = hess_fig\n",
    "        hess_fig.show()"
   ]
  },
  {
   "cell_type": "code",
   "execution_count": 40,
   "metadata": {
    "execution": {
     "iopub.execute_input": "2024-04-04T14:34:40.866670Z",
     "iopub.status.busy": "2024-04-04T14:34:40.866670Z",
     "iopub.status.idle": "2024-04-04T14:34:40.930347Z",
     "shell.execute_reply": "2024-04-04T14:34:40.930347Z"
    }
   },
   "outputs": [],
   "source": [
    "# Visualise converged eigenspectra for SGD and NGD for each model\n",
    "\n",
    "# if hp[\"hessian\"]:\n",
    "#     combined_eigenspectra = {}\n",
    "\n",
    "#     for title in models.keys():\n",
    "\n",
    "#         combined_eigenspectrum = go.Figure()\n",
    "#         final_eigenspectra = {}\n",
    "#         traces = {}\n",
    "\n",
    "#         for optim in optimizers:\n",
    "#             color = color_cycle[color_index % len(color_cycle)]\n",
    "#             color_index += 1\n",
    "#             final_eigenspectra[optim] = eigenspectra_figs[title][optim][-2]\n",
    "#             final_eigenspectra[optim].data[0].name = optim\n",
    "#             final_eigenspectra[optim].data[0].line.color = color\n",
    "#             combined_eigenspectrum.add_trace(final_eigenspectra[optim].data[0])\n",
    "\n",
    "#         combined_eigenspectrum.update_layout(\n",
    "#             title=f\"{title} Hessian eigenspectra at convergence\",\n",
    "#             xaxis_title=\"Eigenvalue\",\n",
    "#             yaxis_title=\"Probability density (log scale)\",\n",
    "#             yaxis_type=\"log\",\n",
    "#         )\n",
    "\n",
    "#         combined_eigenspectrum.show()\n",
    "#         combined_eigenspectra[title] = (combined_eigenspectrum)"
   ]
  },
  {
   "cell_type": "code",
   "execution_count": 41,
   "metadata": {
    "execution": {
     "iopub.execute_input": "2024-04-04T14:34:40.940213Z",
     "iopub.status.busy": "2024-04-04T14:34:40.940213Z",
     "iopub.status.idle": "2024-04-04T14:34:40.962041Z",
     "shell.execute_reply": "2024-04-04T14:34:40.962041Z"
    }
   },
   "outputs": [
    {
     "data": {
      "application/vnd.plotly.v1+json": {
       "config": {
        "plotlyServerURL": "https://plot.ly"
       },
       "data": [
        {
         "line": {
          "color": "rgb(200, 0, 0)",
          "width": 3
         },
         "marker": {
          "size": 8,
          "symbol": "x"
         },
         "mode": "lines",
         "name": "ngd Validation",
         "type": "scatter",
         "x": [
          1,
          2,
          3,
          4,
          5,
          6,
          7,
          8,
          9,
          10,
          11,
          12,
          13,
          14,
          15,
          16,
          17,
          18,
          19,
          20
         ],
         "xaxis": "x",
         "y": [
          null,
          null,
          null,
          null,
          null,
          null,
          null,
          null,
          null,
          null,
          0.3077232172783417,
          0.3011465044338492,
          0.30294640965854064,
          0.3054043472379069,
          0.3106376016630402,
          0.3058438793390612,
          0.3134004330333275,
          0.3190710579481306,
          0.32104550801877735,
          0.3322550241328493
         ],
         "yaxis": "y"
        },
        {
         "line": {
          "color": "rgb(200, 0, 0)",
          "dash": "dot",
          "width": 4
         },
         "marker": {
          "size": 8,
          "symbol": "x"
         },
         "mode": "lines",
         "name": "ngd WBIC",
         "type": "scatter",
         "x": [
          1,
          2,
          3,
          4,
          5,
          6,
          7,
          8,
          9,
          10,
          11,
          12,
          13,
          14,
          15,
          16,
          17,
          18,
          19,
          20
         ],
         "xaxis": "x",
         "y": [
          null,
          null,
          null,
          null,
          null,
          null,
          null,
          null,
          null,
          null,
          74082.65625,
          75478.9375,
          78117.0234375,
          83249.765625,
          83241.9375,
          83311.703125,
          87042.515625,
          88319.9765625,
          90157.859375,
          91906.125
         ],
         "yaxis": "y2"
        },
        {
         "line": {
          "color": "rgb(32, 102, 168)",
          "width": 3
         },
         "marker": {
          "size": 8,
          "symbol": "x"
         },
         "mode": "lines",
         "name": "sgd Validation",
         "type": "scatter",
         "x": [
          1,
          2,
          3,
          4,
          5,
          6,
          7,
          8,
          9,
          10,
          11,
          12,
          13,
          14,
          15,
          16,
          17,
          18,
          19,
          20
         ],
         "xaxis": "x",
         "y": [
          0.4644393811497507,
          0.4143499980998945,
          0.38412458044064196,
          0.3679977789332595,
          0.36207038484796694,
          0.3460205335028564,
          0.35346390042878406,
          0.3479530105862436,
          0.33807471932112415,
          0.32381722199011453,
          0.3315510319758065,
          0.3259355208919018,
          0.32478713291355327,
          0.332985232525234,
          0.330069693960721,
          0.3351811977881419,
          0.33870423924696597,
          0.33378992248562317,
          0.34709413783459725,
          0.325433915740327
         ],
         "yaxis": "y"
        },
        {
         "line": {
          "color": "rgb(32, 102, 168)",
          "dash": "dot",
          "width": 4
         },
         "marker": {
          "size": 8,
          "symbol": "x"
         },
         "mode": "lines",
         "name": "sgd WBIC",
         "type": "scatter",
         "x": [
          1,
          2,
          3,
          4,
          5,
          6,
          7,
          8,
          9,
          10,
          11,
          12,
          13,
          14,
          15,
          16,
          17,
          18,
          19,
          20
         ],
         "xaxis": "x",
         "y": [
          80546.09375,
          75114.078125,
          73730.0703125,
          73062.640625,
          73052.890625,
          72199.859375,
          72405.078125,
          75085.8359375,
          72268.234375,
          74517.328125,
          73246.1875,
          74906.640625,
          73907.1875,
          73323.921875,
          74967.6015625,
          70669.0703125,
          74413.140625,
          74302.078125,
          75413.4609375,
          74029.828125
         ],
         "yaxis": "y2"
        }
       ],
       "layout": {
        "height": 400,
        "legend": {
         "orientation": "h",
         "x": 0,
         "xanchor": "left",
         "y": 1,
         "yanchor": "bottom"
        },
        "template": {
         "data": {
          "bar": [
           {
            "error_x": {
             "color": "#2a3f5f"
            },
            "error_y": {
             "color": "#2a3f5f"
            },
            "marker": {
             "line": {
              "color": "#E5ECF6",
              "width": 0.5
             },
             "pattern": {
              "fillmode": "overlay",
              "size": 10,
              "solidity": 0.2
             }
            },
            "type": "bar"
           }
          ],
          "barpolar": [
           {
            "marker": {
             "line": {
              "color": "#E5ECF6",
              "width": 0.5
             },
             "pattern": {
              "fillmode": "overlay",
              "size": 10,
              "solidity": 0.2
             }
            },
            "type": "barpolar"
           }
          ],
          "carpet": [
           {
            "aaxis": {
             "endlinecolor": "#2a3f5f",
             "gridcolor": "white",
             "linecolor": "white",
             "minorgridcolor": "white",
             "startlinecolor": "#2a3f5f"
            },
            "baxis": {
             "endlinecolor": "#2a3f5f",
             "gridcolor": "white",
             "linecolor": "white",
             "minorgridcolor": "white",
             "startlinecolor": "#2a3f5f"
            },
            "type": "carpet"
           }
          ],
          "choropleth": [
           {
            "colorbar": {
             "outlinewidth": 0,
             "ticks": ""
            },
            "type": "choropleth"
           }
          ],
          "contour": [
           {
            "colorbar": {
             "outlinewidth": 0,
             "ticks": ""
            },
            "colorscale": [
             [
              0,
              "#0d0887"
             ],
             [
              0.1111111111111111,
              "#46039f"
             ],
             [
              0.2222222222222222,
              "#7201a8"
             ],
             [
              0.3333333333333333,
              "#9c179e"
             ],
             [
              0.4444444444444444,
              "#bd3786"
             ],
             [
              0.5555555555555556,
              "#d8576b"
             ],
             [
              0.6666666666666666,
              "#ed7953"
             ],
             [
              0.7777777777777778,
              "#fb9f3a"
             ],
             [
              0.8888888888888888,
              "#fdca26"
             ],
             [
              1,
              "#f0f921"
             ]
            ],
            "type": "contour"
           }
          ],
          "contourcarpet": [
           {
            "colorbar": {
             "outlinewidth": 0,
             "ticks": ""
            },
            "type": "contourcarpet"
           }
          ],
          "heatmap": [
           {
            "colorbar": {
             "outlinewidth": 0,
             "ticks": ""
            },
            "colorscale": [
             [
              0,
              "#0d0887"
             ],
             [
              0.1111111111111111,
              "#46039f"
             ],
             [
              0.2222222222222222,
              "#7201a8"
             ],
             [
              0.3333333333333333,
              "#9c179e"
             ],
             [
              0.4444444444444444,
              "#bd3786"
             ],
             [
              0.5555555555555556,
              "#d8576b"
             ],
             [
              0.6666666666666666,
              "#ed7953"
             ],
             [
              0.7777777777777778,
              "#fb9f3a"
             ],
             [
              0.8888888888888888,
              "#fdca26"
             ],
             [
              1,
              "#f0f921"
             ]
            ],
            "type": "heatmap"
           }
          ],
          "heatmapgl": [
           {
            "colorbar": {
             "outlinewidth": 0,
             "ticks": ""
            },
            "colorscale": [
             [
              0,
              "#0d0887"
             ],
             [
              0.1111111111111111,
              "#46039f"
             ],
             [
              0.2222222222222222,
              "#7201a8"
             ],
             [
              0.3333333333333333,
              "#9c179e"
             ],
             [
              0.4444444444444444,
              "#bd3786"
             ],
             [
              0.5555555555555556,
              "#d8576b"
             ],
             [
              0.6666666666666666,
              "#ed7953"
             ],
             [
              0.7777777777777778,
              "#fb9f3a"
             ],
             [
              0.8888888888888888,
              "#fdca26"
             ],
             [
              1,
              "#f0f921"
             ]
            ],
            "type": "heatmapgl"
           }
          ],
          "histogram": [
           {
            "marker": {
             "pattern": {
              "fillmode": "overlay",
              "size": 10,
              "solidity": 0.2
             }
            },
            "type": "histogram"
           }
          ],
          "histogram2d": [
           {
            "colorbar": {
             "outlinewidth": 0,
             "ticks": ""
            },
            "colorscale": [
             [
              0,
              "#0d0887"
             ],
             [
              0.1111111111111111,
              "#46039f"
             ],
             [
              0.2222222222222222,
              "#7201a8"
             ],
             [
              0.3333333333333333,
              "#9c179e"
             ],
             [
              0.4444444444444444,
              "#bd3786"
             ],
             [
              0.5555555555555556,
              "#d8576b"
             ],
             [
              0.6666666666666666,
              "#ed7953"
             ],
             [
              0.7777777777777778,
              "#fb9f3a"
             ],
             [
              0.8888888888888888,
              "#fdca26"
             ],
             [
              1,
              "#f0f921"
             ]
            ],
            "type": "histogram2d"
           }
          ],
          "histogram2dcontour": [
           {
            "colorbar": {
             "outlinewidth": 0,
             "ticks": ""
            },
            "colorscale": [
             [
              0,
              "#0d0887"
             ],
             [
              0.1111111111111111,
              "#46039f"
             ],
             [
              0.2222222222222222,
              "#7201a8"
             ],
             [
              0.3333333333333333,
              "#9c179e"
             ],
             [
              0.4444444444444444,
              "#bd3786"
             ],
             [
              0.5555555555555556,
              "#d8576b"
             ],
             [
              0.6666666666666666,
              "#ed7953"
             ],
             [
              0.7777777777777778,
              "#fb9f3a"
             ],
             [
              0.8888888888888888,
              "#fdca26"
             ],
             [
              1,
              "#f0f921"
             ]
            ],
            "type": "histogram2dcontour"
           }
          ],
          "mesh3d": [
           {
            "colorbar": {
             "outlinewidth": 0,
             "ticks": ""
            },
            "type": "mesh3d"
           }
          ],
          "parcoords": [
           {
            "line": {
             "colorbar": {
              "outlinewidth": 0,
              "ticks": ""
             }
            },
            "type": "parcoords"
           }
          ],
          "pie": [
           {
            "automargin": true,
            "type": "pie"
           }
          ],
          "scatter": [
           {
            "fillpattern": {
             "fillmode": "overlay",
             "size": 10,
             "solidity": 0.2
            },
            "type": "scatter"
           }
          ],
          "scatter3d": [
           {
            "line": {
             "colorbar": {
              "outlinewidth": 0,
              "ticks": ""
             }
            },
            "marker": {
             "colorbar": {
              "outlinewidth": 0,
              "ticks": ""
             }
            },
            "type": "scatter3d"
           }
          ],
          "scattercarpet": [
           {
            "marker": {
             "colorbar": {
              "outlinewidth": 0,
              "ticks": ""
             }
            },
            "type": "scattercarpet"
           }
          ],
          "scattergeo": [
           {
            "marker": {
             "colorbar": {
              "outlinewidth": 0,
              "ticks": ""
             }
            },
            "type": "scattergeo"
           }
          ],
          "scattergl": [
           {
            "marker": {
             "colorbar": {
              "outlinewidth": 0,
              "ticks": ""
             }
            },
            "type": "scattergl"
           }
          ],
          "scattermapbox": [
           {
            "marker": {
             "colorbar": {
              "outlinewidth": 0,
              "ticks": ""
             }
            },
            "type": "scattermapbox"
           }
          ],
          "scatterpolar": [
           {
            "marker": {
             "colorbar": {
              "outlinewidth": 0,
              "ticks": ""
             }
            },
            "type": "scatterpolar"
           }
          ],
          "scatterpolargl": [
           {
            "marker": {
             "colorbar": {
              "outlinewidth": 0,
              "ticks": ""
             }
            },
            "type": "scatterpolargl"
           }
          ],
          "scatterternary": [
           {
            "marker": {
             "colorbar": {
              "outlinewidth": 0,
              "ticks": ""
             }
            },
            "type": "scatterternary"
           }
          ],
          "surface": [
           {
            "colorbar": {
             "outlinewidth": 0,
             "ticks": ""
            },
            "colorscale": [
             [
              0,
              "#0d0887"
             ],
             [
              0.1111111111111111,
              "#46039f"
             ],
             [
              0.2222222222222222,
              "#7201a8"
             ],
             [
              0.3333333333333333,
              "#9c179e"
             ],
             [
              0.4444444444444444,
              "#bd3786"
             ],
             [
              0.5555555555555556,
              "#d8576b"
             ],
             [
              0.6666666666666666,
              "#ed7953"
             ],
             [
              0.7777777777777778,
              "#fb9f3a"
             ],
             [
              0.8888888888888888,
              "#fdca26"
             ],
             [
              1,
              "#f0f921"
             ]
            ],
            "type": "surface"
           }
          ],
          "table": [
           {
            "cells": {
             "fill": {
              "color": "#EBF0F8"
             },
             "line": {
              "color": "white"
             }
            },
            "header": {
             "fill": {
              "color": "#C8D4E3"
             },
             "line": {
              "color": "white"
             }
            },
            "type": "table"
           }
          ]
         },
         "layout": {
          "annotationdefaults": {
           "arrowcolor": "#2a3f5f",
           "arrowhead": 0,
           "arrowwidth": 1
          },
          "autotypenumbers": "strict",
          "coloraxis": {
           "colorbar": {
            "outlinewidth": 0,
            "ticks": ""
           }
          },
          "colorscale": {
           "diverging": [
            [
             0,
             "#8e0152"
            ],
            [
             0.1,
             "#c51b7d"
            ],
            [
             0.2,
             "#de77ae"
            ],
            [
             0.3,
             "#f1b6da"
            ],
            [
             0.4,
             "#fde0ef"
            ],
            [
             0.5,
             "#f7f7f7"
            ],
            [
             0.6,
             "#e6f5d0"
            ],
            [
             0.7,
             "#b8e186"
            ],
            [
             0.8,
             "#7fbc41"
            ],
            [
             0.9,
             "#4d9221"
            ],
            [
             1,
             "#276419"
            ]
           ],
           "sequential": [
            [
             0,
             "#0d0887"
            ],
            [
             0.1111111111111111,
             "#46039f"
            ],
            [
             0.2222222222222222,
             "#7201a8"
            ],
            [
             0.3333333333333333,
             "#9c179e"
            ],
            [
             0.4444444444444444,
             "#bd3786"
            ],
            [
             0.5555555555555556,
             "#d8576b"
            ],
            [
             0.6666666666666666,
             "#ed7953"
            ],
            [
             0.7777777777777778,
             "#fb9f3a"
            ],
            [
             0.8888888888888888,
             "#fdca26"
            ],
            [
             1,
             "#f0f921"
            ]
           ],
           "sequentialminus": [
            [
             0,
             "#0d0887"
            ],
            [
             0.1111111111111111,
             "#46039f"
            ],
            [
             0.2222222222222222,
             "#7201a8"
            ],
            [
             0.3333333333333333,
             "#9c179e"
            ],
            [
             0.4444444444444444,
             "#bd3786"
            ],
            [
             0.5555555555555556,
             "#d8576b"
            ],
            [
             0.6666666666666666,
             "#ed7953"
            ],
            [
             0.7777777777777778,
             "#fb9f3a"
            ],
            [
             0.8888888888888888,
             "#fdca26"
            ],
            [
             1,
             "#f0f921"
            ]
           ]
          },
          "colorway": [
           "#636efa",
           "#EF553B",
           "#00cc96",
           "#ab63fa",
           "#FFA15A",
           "#19d3f3",
           "#FF6692",
           "#B6E880",
           "#FF97FF",
           "#FECB52"
          ],
          "font": {
           "color": "#2a3f5f"
          },
          "geo": {
           "bgcolor": "white",
           "lakecolor": "white",
           "landcolor": "#E5ECF6",
           "showlakes": true,
           "showland": true,
           "subunitcolor": "white"
          },
          "hoverlabel": {
           "align": "left"
          },
          "hovermode": "closest",
          "mapbox": {
           "style": "light"
          },
          "paper_bgcolor": "white",
          "plot_bgcolor": "#E5ECF6",
          "polar": {
           "angularaxis": {
            "gridcolor": "white",
            "linecolor": "white",
            "ticks": ""
           },
           "bgcolor": "#E5ECF6",
           "radialaxis": {
            "gridcolor": "white",
            "linecolor": "white",
            "ticks": ""
           }
          },
          "scene": {
           "xaxis": {
            "backgroundcolor": "#E5ECF6",
            "gridcolor": "white",
            "gridwidth": 2,
            "linecolor": "white",
            "showbackground": true,
            "ticks": "",
            "zerolinecolor": "white"
           },
           "yaxis": {
            "backgroundcolor": "#E5ECF6",
            "gridcolor": "white",
            "gridwidth": 2,
            "linecolor": "white",
            "showbackground": true,
            "ticks": "",
            "zerolinecolor": "white"
           },
           "zaxis": {
            "backgroundcolor": "#E5ECF6",
            "gridcolor": "white",
            "gridwidth": 2,
            "linecolor": "white",
            "showbackground": true,
            "ticks": "",
            "zerolinecolor": "white"
           }
          },
          "shapedefaults": {
           "line": {
            "color": "#2a3f5f"
           }
          },
          "ternary": {
           "aaxis": {
            "gridcolor": "white",
            "linecolor": "white",
            "ticks": ""
           },
           "baxis": {
            "gridcolor": "white",
            "linecolor": "white",
            "ticks": ""
           },
           "bgcolor": "#E5ECF6",
           "caxis": {
            "gridcolor": "white",
            "linecolor": "white",
            "ticks": ""
           }
          },
          "title": {
           "x": 0.05
          },
          "xaxis": {
           "automargin": true,
           "gridcolor": "white",
           "linecolor": "white",
           "ticks": "",
           "title": {
            "standoff": 15
           },
           "zerolinecolor": "white",
           "zerolinewidth": 2
          },
          "yaxis": {
           "automargin": true,
           "gridcolor": "white",
           "linecolor": "white",
           "ticks": "",
           "title": {
            "standoff": 15
           },
           "zerolinecolor": "white",
           "zerolinewidth": 2
          }
         }
        },
        "title": {
         "text": "FFNN 2 HL, 256 HN Validation Loss / WBIC"
        },
        "width": 600,
        "xaxis": {
         "anchor": "y",
         "domain": [
          0,
          0.94
         ],
         "dtick": 5,
         "tick0": 0,
         "tickmode": "linear",
         "title": {
          "text": "Epoch"
         }
        },
        "yaxis": {
         "anchor": "x",
         "domain": [
          0,
          1
         ],
         "range": [
          0,
          null
         ],
         "title": {
          "text": "Validation Loss"
         },
         "type": "linear"
        },
        "yaxis2": {
         "anchor": "x",
         "overlaying": "y",
         "showgrid": false,
         "side": "right",
         "title": {
          "text": "WBIC"
         }
        }
       }
      },
      "text/html": [
       "<div>                            <div id=\"3dbdad0b-25f1-4f82-aabf-c0263eacbd8f\" class=\"plotly-graph-div\" style=\"height:400px; width:600px;\"></div>            <script type=\"text/javascript\">                require([\"plotly\"], function(Plotly) {                    window.PLOTLYENV=window.PLOTLYENV || {};                                    if (document.getElementById(\"3dbdad0b-25f1-4f82-aabf-c0263eacbd8f\")) {                    Plotly.newPlot(                        \"3dbdad0b-25f1-4f82-aabf-c0263eacbd8f\",                        [{\"line\":{\"color\":\"rgb(200, 0, 0)\",\"width\":3},\"marker\":{\"size\":8,\"symbol\":\"x\"},\"mode\":\"lines\",\"name\":\"ngd Validation\",\"x\":[1,2,3,4,5,6,7,8,9,10,11,12,13,14,15,16,17,18,19,20],\"y\":[null,null,null,null,null,null,null,null,null,null,0.3077232172783417,0.3011465044338492,0.30294640965854064,0.3054043472379069,0.3106376016630402,0.3058438793390612,0.3134004330333275,0.3190710579481306,0.32104550801877735,0.3322550241328493],\"type\":\"scatter\",\"xaxis\":\"x\",\"yaxis\":\"y\"},{\"line\":{\"color\":\"rgb(200, 0, 0)\",\"dash\":\"dot\",\"width\":4},\"marker\":{\"size\":8,\"symbol\":\"x\"},\"mode\":\"lines\",\"name\":\"ngd WBIC\",\"x\":[1,2,3,4,5,6,7,8,9,10,11,12,13,14,15,16,17,18,19,20],\"y\":[null,null,null,null,null,null,null,null,null,null,74082.65625,75478.9375,78117.0234375,83249.765625,83241.9375,83311.703125,87042.515625,88319.9765625,90157.859375,91906.125],\"type\":\"scatter\",\"xaxis\":\"x\",\"yaxis\":\"y2\"},{\"line\":{\"color\":\"rgb(32, 102, 168)\",\"width\":3},\"marker\":{\"size\":8,\"symbol\":\"x\"},\"mode\":\"lines\",\"name\":\"sgd Validation\",\"x\":[1,2,3,4,5,6,7,8,9,10,11,12,13,14,15,16,17,18,19,20],\"y\":[0.4644393811497507,0.4143499980998945,0.38412458044064196,0.3679977789332595,0.36207038484796694,0.3460205335028564,0.35346390042878406,0.3479530105862436,0.33807471932112415,0.32381722199011453,0.3315510319758065,0.3259355208919018,0.32478713291355327,0.332985232525234,0.330069693960721,0.3351811977881419,0.33870423924696597,0.33378992248562317,0.34709413783459725,0.325433915740327],\"type\":\"scatter\",\"xaxis\":\"x\",\"yaxis\":\"y\"},{\"line\":{\"color\":\"rgb(32, 102, 168)\",\"dash\":\"dot\",\"width\":4},\"marker\":{\"size\":8,\"symbol\":\"x\"},\"mode\":\"lines\",\"name\":\"sgd WBIC\",\"x\":[1,2,3,4,5,6,7,8,9,10,11,12,13,14,15,16,17,18,19,20],\"y\":[80546.09375,75114.078125,73730.0703125,73062.640625,73052.890625,72199.859375,72405.078125,75085.8359375,72268.234375,74517.328125,73246.1875,74906.640625,73907.1875,73323.921875,74967.6015625,70669.0703125,74413.140625,74302.078125,75413.4609375,74029.828125],\"type\":\"scatter\",\"xaxis\":\"x\",\"yaxis\":\"y2\"}],                        {\"template\":{\"data\":{\"histogram2dcontour\":[{\"type\":\"histogram2dcontour\",\"colorbar\":{\"outlinewidth\":0,\"ticks\":\"\"},\"colorscale\":[[0.0,\"#0d0887\"],[0.1111111111111111,\"#46039f\"],[0.2222222222222222,\"#7201a8\"],[0.3333333333333333,\"#9c179e\"],[0.4444444444444444,\"#bd3786\"],[0.5555555555555556,\"#d8576b\"],[0.6666666666666666,\"#ed7953\"],[0.7777777777777778,\"#fb9f3a\"],[0.8888888888888888,\"#fdca26\"],[1.0,\"#f0f921\"]]}],\"choropleth\":[{\"type\":\"choropleth\",\"colorbar\":{\"outlinewidth\":0,\"ticks\":\"\"}}],\"histogram2d\":[{\"type\":\"histogram2d\",\"colorbar\":{\"outlinewidth\":0,\"ticks\":\"\"},\"colorscale\":[[0.0,\"#0d0887\"],[0.1111111111111111,\"#46039f\"],[0.2222222222222222,\"#7201a8\"],[0.3333333333333333,\"#9c179e\"],[0.4444444444444444,\"#bd3786\"],[0.5555555555555556,\"#d8576b\"],[0.6666666666666666,\"#ed7953\"],[0.7777777777777778,\"#fb9f3a\"],[0.8888888888888888,\"#fdca26\"],[1.0,\"#f0f921\"]]}],\"heatmap\":[{\"type\":\"heatmap\",\"colorbar\":{\"outlinewidth\":0,\"ticks\":\"\"},\"colorscale\":[[0.0,\"#0d0887\"],[0.1111111111111111,\"#46039f\"],[0.2222222222222222,\"#7201a8\"],[0.3333333333333333,\"#9c179e\"],[0.4444444444444444,\"#bd3786\"],[0.5555555555555556,\"#d8576b\"],[0.6666666666666666,\"#ed7953\"],[0.7777777777777778,\"#fb9f3a\"],[0.8888888888888888,\"#fdca26\"],[1.0,\"#f0f921\"]]}],\"heatmapgl\":[{\"type\":\"heatmapgl\",\"colorbar\":{\"outlinewidth\":0,\"ticks\":\"\"},\"colorscale\":[[0.0,\"#0d0887\"],[0.1111111111111111,\"#46039f\"],[0.2222222222222222,\"#7201a8\"],[0.3333333333333333,\"#9c179e\"],[0.4444444444444444,\"#bd3786\"],[0.5555555555555556,\"#d8576b\"],[0.6666666666666666,\"#ed7953\"],[0.7777777777777778,\"#fb9f3a\"],[0.8888888888888888,\"#fdca26\"],[1.0,\"#f0f921\"]]}],\"contourcarpet\":[{\"type\":\"contourcarpet\",\"colorbar\":{\"outlinewidth\":0,\"ticks\":\"\"}}],\"contour\":[{\"type\":\"contour\",\"colorbar\":{\"outlinewidth\":0,\"ticks\":\"\"},\"colorscale\":[[0.0,\"#0d0887\"],[0.1111111111111111,\"#46039f\"],[0.2222222222222222,\"#7201a8\"],[0.3333333333333333,\"#9c179e\"],[0.4444444444444444,\"#bd3786\"],[0.5555555555555556,\"#d8576b\"],[0.6666666666666666,\"#ed7953\"],[0.7777777777777778,\"#fb9f3a\"],[0.8888888888888888,\"#fdca26\"],[1.0,\"#f0f921\"]]}],\"surface\":[{\"type\":\"surface\",\"colorbar\":{\"outlinewidth\":0,\"ticks\":\"\"},\"colorscale\":[[0.0,\"#0d0887\"],[0.1111111111111111,\"#46039f\"],[0.2222222222222222,\"#7201a8\"],[0.3333333333333333,\"#9c179e\"],[0.4444444444444444,\"#bd3786\"],[0.5555555555555556,\"#d8576b\"],[0.6666666666666666,\"#ed7953\"],[0.7777777777777778,\"#fb9f3a\"],[0.8888888888888888,\"#fdca26\"],[1.0,\"#f0f921\"]]}],\"mesh3d\":[{\"type\":\"mesh3d\",\"colorbar\":{\"outlinewidth\":0,\"ticks\":\"\"}}],\"scatter\":[{\"fillpattern\":{\"fillmode\":\"overlay\",\"size\":10,\"solidity\":0.2},\"type\":\"scatter\"}],\"parcoords\":[{\"type\":\"parcoords\",\"line\":{\"colorbar\":{\"outlinewidth\":0,\"ticks\":\"\"}}}],\"scatterpolargl\":[{\"type\":\"scatterpolargl\",\"marker\":{\"colorbar\":{\"outlinewidth\":0,\"ticks\":\"\"}}}],\"bar\":[{\"error_x\":{\"color\":\"#2a3f5f\"},\"error_y\":{\"color\":\"#2a3f5f\"},\"marker\":{\"line\":{\"color\":\"#E5ECF6\",\"width\":0.5},\"pattern\":{\"fillmode\":\"overlay\",\"size\":10,\"solidity\":0.2}},\"type\":\"bar\"}],\"scattergeo\":[{\"type\":\"scattergeo\",\"marker\":{\"colorbar\":{\"outlinewidth\":0,\"ticks\":\"\"}}}],\"scatterpolar\":[{\"type\":\"scatterpolar\",\"marker\":{\"colorbar\":{\"outlinewidth\":0,\"ticks\":\"\"}}}],\"histogram\":[{\"marker\":{\"pattern\":{\"fillmode\":\"overlay\",\"size\":10,\"solidity\":0.2}},\"type\":\"histogram\"}],\"scattergl\":[{\"type\":\"scattergl\",\"marker\":{\"colorbar\":{\"outlinewidth\":0,\"ticks\":\"\"}}}],\"scatter3d\":[{\"type\":\"scatter3d\",\"line\":{\"colorbar\":{\"outlinewidth\":0,\"ticks\":\"\"}},\"marker\":{\"colorbar\":{\"outlinewidth\":0,\"ticks\":\"\"}}}],\"scattermapbox\":[{\"type\":\"scattermapbox\",\"marker\":{\"colorbar\":{\"outlinewidth\":0,\"ticks\":\"\"}}}],\"scatterternary\":[{\"type\":\"scatterternary\",\"marker\":{\"colorbar\":{\"outlinewidth\":0,\"ticks\":\"\"}}}],\"scattercarpet\":[{\"type\":\"scattercarpet\",\"marker\":{\"colorbar\":{\"outlinewidth\":0,\"ticks\":\"\"}}}],\"carpet\":[{\"aaxis\":{\"endlinecolor\":\"#2a3f5f\",\"gridcolor\":\"white\",\"linecolor\":\"white\",\"minorgridcolor\":\"white\",\"startlinecolor\":\"#2a3f5f\"},\"baxis\":{\"endlinecolor\":\"#2a3f5f\",\"gridcolor\":\"white\",\"linecolor\":\"white\",\"minorgridcolor\":\"white\",\"startlinecolor\":\"#2a3f5f\"},\"type\":\"carpet\"}],\"table\":[{\"cells\":{\"fill\":{\"color\":\"#EBF0F8\"},\"line\":{\"color\":\"white\"}},\"header\":{\"fill\":{\"color\":\"#C8D4E3\"},\"line\":{\"color\":\"white\"}},\"type\":\"table\"}],\"barpolar\":[{\"marker\":{\"line\":{\"color\":\"#E5ECF6\",\"width\":0.5},\"pattern\":{\"fillmode\":\"overlay\",\"size\":10,\"solidity\":0.2}},\"type\":\"barpolar\"}],\"pie\":[{\"automargin\":true,\"type\":\"pie\"}]},\"layout\":{\"autotypenumbers\":\"strict\",\"colorway\":[\"#636efa\",\"#EF553B\",\"#00cc96\",\"#ab63fa\",\"#FFA15A\",\"#19d3f3\",\"#FF6692\",\"#B6E880\",\"#FF97FF\",\"#FECB52\"],\"font\":{\"color\":\"#2a3f5f\"},\"hovermode\":\"closest\",\"hoverlabel\":{\"align\":\"left\"},\"paper_bgcolor\":\"white\",\"plot_bgcolor\":\"#E5ECF6\",\"polar\":{\"bgcolor\":\"#E5ECF6\",\"angularaxis\":{\"gridcolor\":\"white\",\"linecolor\":\"white\",\"ticks\":\"\"},\"radialaxis\":{\"gridcolor\":\"white\",\"linecolor\":\"white\",\"ticks\":\"\"}},\"ternary\":{\"bgcolor\":\"#E5ECF6\",\"aaxis\":{\"gridcolor\":\"white\",\"linecolor\":\"white\",\"ticks\":\"\"},\"baxis\":{\"gridcolor\":\"white\",\"linecolor\":\"white\",\"ticks\":\"\"},\"caxis\":{\"gridcolor\":\"white\",\"linecolor\":\"white\",\"ticks\":\"\"}},\"coloraxis\":{\"colorbar\":{\"outlinewidth\":0,\"ticks\":\"\"}},\"colorscale\":{\"sequential\":[[0.0,\"#0d0887\"],[0.1111111111111111,\"#46039f\"],[0.2222222222222222,\"#7201a8\"],[0.3333333333333333,\"#9c179e\"],[0.4444444444444444,\"#bd3786\"],[0.5555555555555556,\"#d8576b\"],[0.6666666666666666,\"#ed7953\"],[0.7777777777777778,\"#fb9f3a\"],[0.8888888888888888,\"#fdca26\"],[1.0,\"#f0f921\"]],\"sequentialminus\":[[0.0,\"#0d0887\"],[0.1111111111111111,\"#46039f\"],[0.2222222222222222,\"#7201a8\"],[0.3333333333333333,\"#9c179e\"],[0.4444444444444444,\"#bd3786\"],[0.5555555555555556,\"#d8576b\"],[0.6666666666666666,\"#ed7953\"],[0.7777777777777778,\"#fb9f3a\"],[0.8888888888888888,\"#fdca26\"],[1.0,\"#f0f921\"]],\"diverging\":[[0,\"#8e0152\"],[0.1,\"#c51b7d\"],[0.2,\"#de77ae\"],[0.3,\"#f1b6da\"],[0.4,\"#fde0ef\"],[0.5,\"#f7f7f7\"],[0.6,\"#e6f5d0\"],[0.7,\"#b8e186\"],[0.8,\"#7fbc41\"],[0.9,\"#4d9221\"],[1,\"#276419\"]]},\"xaxis\":{\"gridcolor\":\"white\",\"linecolor\":\"white\",\"ticks\":\"\",\"title\":{\"standoff\":15},\"zerolinecolor\":\"white\",\"automargin\":true,\"zerolinewidth\":2},\"yaxis\":{\"gridcolor\":\"white\",\"linecolor\":\"white\",\"ticks\":\"\",\"title\":{\"standoff\":15},\"zerolinecolor\":\"white\",\"automargin\":true,\"zerolinewidth\":2},\"scene\":{\"xaxis\":{\"backgroundcolor\":\"#E5ECF6\",\"gridcolor\":\"white\",\"linecolor\":\"white\",\"showbackground\":true,\"ticks\":\"\",\"zerolinecolor\":\"white\",\"gridwidth\":2},\"yaxis\":{\"backgroundcolor\":\"#E5ECF6\",\"gridcolor\":\"white\",\"linecolor\":\"white\",\"showbackground\":true,\"ticks\":\"\",\"zerolinecolor\":\"white\",\"gridwidth\":2},\"zaxis\":{\"backgroundcolor\":\"#E5ECF6\",\"gridcolor\":\"white\",\"linecolor\":\"white\",\"showbackground\":true,\"ticks\":\"\",\"zerolinecolor\":\"white\",\"gridwidth\":2}},\"shapedefaults\":{\"line\":{\"color\":\"#2a3f5f\"}},\"annotationdefaults\":{\"arrowcolor\":\"#2a3f5f\",\"arrowhead\":0,\"arrowwidth\":1},\"geo\":{\"bgcolor\":\"white\",\"landcolor\":\"#E5ECF6\",\"subunitcolor\":\"white\",\"showland\":true,\"showlakes\":true,\"lakecolor\":\"white\"},\"title\":{\"x\":0.05},\"mapbox\":{\"style\":\"light\"}}},\"xaxis\":{\"anchor\":\"y\",\"domain\":[0.0,0.94],\"title\":{\"text\":\"Epoch\"},\"tickmode\":\"linear\",\"tick0\":0,\"dtick\":5},\"yaxis\":{\"anchor\":\"x\",\"domain\":[0.0,1.0],\"type\":\"linear\",\"range\":[0,null],\"title\":{\"text\":\"Validation Loss\"}},\"yaxis2\":{\"anchor\":\"x\",\"overlaying\":\"y\",\"side\":\"right\",\"title\":{\"text\":\"WBIC\"},\"showgrid\":false},\"legend\":{\"x\":0,\"y\":1,\"xanchor\":\"left\",\"yanchor\":\"bottom\",\"orientation\":\"h\"},\"title\":{\"text\":\"FFNN 2 HL, 256 HN Validation Loss \\u002f WBIC\"},\"width\":600,\"height\":400},                        {\"responsive\": true}                    ).then(function(){\n",
       "                            \n",
       "var gd = document.getElementById('3dbdad0b-25f1-4f82-aabf-c0263eacbd8f');\n",
       "var x = new MutationObserver(function (mutations, observer) {{\n",
       "        var display = window.getComputedStyle(gd).display;\n",
       "        if (!display || display === 'none') {{\n",
       "            console.log([gd, 'removed!']);\n",
       "            Plotly.purge(gd);\n",
       "            observer.disconnect();\n",
       "        }}\n",
       "}});\n",
       "\n",
       "// Listen for the removal of the full notebook cells\n",
       "var notebookContainer = gd.closest('#notebook-container');\n",
       "if (notebookContainer) {{\n",
       "    x.observe(notebookContainer, {childList: true});\n",
       "}}\n",
       "\n",
       "// Listen for the clearing of the current output cell\n",
       "var outputEl = gd.closest('.output');\n",
       "if (outputEl) {{\n",
       "    x.observe(outputEl, {childList: true});\n",
       "}}\n",
       "\n",
       "                        })                };                });            </script>        </div>"
      ]
     },
     "metadata": {},
     "output_type": "display_data"
    }
   ],
   "source": [
    "# Visualise generalisation loss vs. testing loss for each model\n",
    "\n",
    "val_wbic_figs = {}\n",
    "for title in models.keys():\n",
    "    val_wbic_fig = make_subplots(specs=[[{\"secondary_y\" : True}]])\n",
    "    color_index = 0\n",
    "    for optim in optimizers:\n",
    "        color = color_cycle[color_index % len(color_cycle)]\n",
    "        color_index += 1\n",
    "        val_wbic_fig.add_trace(go.Scatter(\n",
    "            x=np.arange(1, hp[\"num_epochs\"]+1),\n",
    "            y=val_losses[title][optim][1:],\n",
    "            mode=\"lines\",\n",
    "            name=f\"{optim} Validation\",\n",
    "            line=dict(color=color, width=3),\n",
    "            marker=dict(size=8, symbol=\"x\")\n",
    "        ),secondary_y=False)\n",
    "        val_wbic_fig.add_trace(go.Scatter(\n",
    "            x=np.arange(1, hp[\"num_epochs\"]+1),\n",
    "            y=wbic_estimates[title][optim][1:],\n",
    "            mode=\"lines\",\n",
    "            name=f\"{optim} WBIC\",\n",
    "            line=dict(color=color, dash=\"dot\", width=4),\n",
    "            marker=dict(size=8, symbol=\"x\")\n",
    "        ),secondary_y=True)\n",
    "    val_wbic_fig.update_layout(\n",
    "        title=f\"{title} Validation Loss / WBIC\",\n",
    "        xaxis_title=\"Epoch\",\n",
    "        xaxis=dict(\n",
    "            tickmode='linear',\n",
    "            tick0=0,\n",
    "            dtick=5,\n",
    "        ),\n",
    "        yaxis_type=\"linear\",\n",
    "        yaxis=dict(\n",
    "            range=[0,None]\n",
    "        ),\n",
    "        width=600,\n",
    "        height=400,\n",
    "        legend=dict(\n",
    "            x=0,\n",
    "            y=1,\n",
    "            xanchor='left',\n",
    "            yanchor='bottom',\n",
    "            orientation='h',\n",
    "        ),\n",
    "    )\n",
    "    val_wbic_fig.update_yaxes(title=\"Validation Loss\", secondary_y=False)\n",
    "    val_wbic_fig.update_yaxes(title=\"WBIC\", \n",
    "                              secondary_y=True,\n",
    "                              showgrid=False,\n",
    "                              )\n",
    "    val_wbic_figs[title] = val_wbic_fig\n",
    "    val_wbic_fig.show()"
   ]
  },
  {
   "cell_type": "code",
   "execution_count": 42,
   "metadata": {
    "execution": {
     "iopub.execute_input": "2024-04-04T14:34:40.964692Z",
     "iopub.status.busy": "2024-04-04T14:34:40.964692Z",
     "iopub.status.idle": "2024-04-04T14:34:40.993729Z",
     "shell.execute_reply": "2024-04-04T14:34:40.993729Z"
    }
   },
   "outputs": [
    {
     "data": {
      "application/vnd.plotly.v1+json": {
       "config": {
        "plotlyServerURL": "https://plot.ly"
       },
       "data": [
        {
         "line": {
          "color": "rgb(200, 0, 0)",
          "width": 3
         },
         "name": "ngd LLC",
         "type": "scatter",
         "xaxis": "x",
         "y": [
          0.6709481477737427,
          0.8194503784179688,
          1.1443431377410889,
          1.671525239944458,
          1.7494211196899414,
          1.9565393924713135,
          2.327019214630127,
          2.6648435592651367,
          2.858199119567871,
          3.3578295707702637,
          3.883847713470459,
          4.147827625274658,
          4.519807815551758,
          5.026095390319824,
          5.193238258361816,
          5.306549549102783,
          5.559739112854004,
          5.823321342468262,
          6.119722366333008,
          6.520936489105225,
          6.844509124755859,
          7.27761697769165,
          7.680123805999756,
          8.117801666259766,
          8.875604629516602,
          9.19610595703125,
          9.368358612060547,
          9.631723403930664,
          9.922761917114258,
          10.22174072265625,
          10.710010528564453,
          10.913457870483398,
          11.123167991638184,
          11.335965156555176,
          11.478782653808594,
          11.783815383911133,
          12.111400604248047,
          12.320592880249023,
          12.630230903625488,
          12.88534164428711,
          13.099733352661133,
          13.166278839111328,
          13.177658081054688,
          13.340957641601562,
          13.48817253112793,
          13.711466789245605,
          13.837376594543457,
          14.034031867980957,
          14.18224811553955,
          14.429391860961914,
          14.621434211730957,
          14.783791542053223,
          14.95991325378418,
          15.053621292114258,
          15.298974990844727,
          15.375361442565918,
          15.481424331665039,
          15.637040138244629,
          15.70975112915039,
          15.934423446655273,
          15.98099136352539,
          16.03793716430664,
          16.18250274658203,
          16.34467315673828,
          16.548297882080078,
          16.681629180908203,
          16.799575805664062,
          16.94614601135254,
          17.084671020507812,
          17.13385772705078,
          17.23870849609375,
          17.433530807495117,
          17.602554321289062,
          17.734458923339844,
          17.7618408203125,
          17.97809600830078,
          18.08746337890625,
          18.18004035949707,
          18.36450958251953,
          18.493003845214844,
          18.632722854614258,
          18.818262100219727,
          18.953155517578125,
          19.062814712524414,
          19.260684967041016,
          19.472505569458008,
          19.698009490966797,
          19.812545776367188,
          20.008880615234375,
          20.16891098022461,
          20.27719497680664,
          20.32437515258789,
          20.498477935791016,
          20.6375732421875,
          20.739078521728516,
          20.881689071655273,
          21.05349349975586,
          21.09188461303711,
          21.148258209228516,
          21.313270568847656,
          21.35605239868164,
          21.39220428466797,
          21.419065475463867,
          21.500009536743164,
          21.543407440185547,
          21.64402198791504,
          21.7008056640625,
          21.763580322265625,
          21.84004783630371,
          21.98038101196289,
          22.04586410522461,
          22.1175537109375,
          22.178680419921875,
          22.2098331451416,
          22.23711395263672,
          22.34536361694336,
          22.38006591796875,
          22.403648376464844,
          22.5107421875,
          22.53451156616211,
          22.597091674804688,
          22.642269134521484,
          22.69855499267578,
          22.716785430908203,
          22.74262237548828,
          22.833309173583984,
          22.876384735107422,
          22.98381805419922,
          23.06342124938965,
          23.12505340576172,
          23.158618927001953,
          23.25634002685547,
          23.324169158935547,
          23.40184211730957,
          23.477249145507812,
          23.572864532470703,
          23.612281799316406,
          23.632720947265625,
          23.71639633178711,
          23.870479583740234,
          23.969417572021484,
          24.170917510986328,
          24.238719940185547,
          24.31564712524414,
          24.327152252197266,
          24.38524627685547,
          24.47666358947754,
          24.52046775817871,
          24.562122344970703,
          24.63034439086914,
          24.67420768737793,
          24.724323272705078,
          24.799339294433594,
          24.85738754272461,
          24.86566734313965,
          24.922962188720703,
          24.98186492919922,
          25.03380584716797,
          25.044864654541016,
          25.047073364257812,
          25.124252319335938,
          25.11969566345215,
          25.21532440185547,
          25.270339965820312,
          25.297103881835938,
          25.36412811279297,
          25.469675064086914,
          25.58438491821289,
          25.685470581054688,
          25.77557945251465,
          25.835224151611328,
          25.91234588623047,
          25.96894073486328,
          26.094131469726562,
          26.185754776000977,
          26.28997802734375,
          26.433992385864258,
          26.550546646118164,
          26.612558364868164,
          26.65945053100586,
          26.736804962158203,
          26.79813003540039,
          26.877437591552734,
          26.963314056396484,
          27.00916290283203,
          27.114978790283203,
          27.16964340209961,
          27.23394012451172,
          27.28266143798828,
          27.3649959564209,
          27.40962791442871,
          27.51058578491211,
          27.52164077758789,
          27.57927703857422,
          27.637683868408203,
          27.738428115844727,
          27.79906463623047,
          27.877819061279297,
          27.93975067138672,
          28.016864776611328,
          28.042335510253906,
          28.14470100402832,
          28.171886444091797,
          28.269819259643555,
          28.349092483520508,
          28.449913024902344,
          28.512378692626953,
          28.57241439819336,
          28.65386962890625,
          28.71564483642578,
          28.78588104248047,
          28.84615135192871,
          28.921051025390625,
          28.992694854736328,
          29.05626678466797,
          29.071674346923828,
          29.135536193847656,
          29.21438217163086,
          29.292606353759766,
          29.34467124938965,
          29.421039581298828,
          29.47658348083496,
          29.53194808959961,
          29.578243255615234,
          29.63309097290039,
          29.69527816772461,
          29.74317741394043,
          29.76209259033203,
          29.840503692626953,
          29.900501251220703,
          29.992948532104492,
          30.068485260009766,
          30.08999252319336,
          30.14297103881836,
          30.16399383544922,
          30.227455139160156,
          30.264904022216797,
          30.278640747070312,
          30.297250747680664,
          30.297422409057617,
          30.3021297454834,
          30.32367515563965,
          30.382465362548828,
          30.437602996826172,
          30.525569915771484,
          30.584815979003906,
          30.626285552978516,
          30.648630142211914,
          30.67730712890625,
          30.730266571044922,
          30.748275756835938,
          30.76968765258789,
          30.794803619384766,
          30.776199340820312,
          30.80966567993164,
          30.889413833618164,
          30.918418884277344,
          30.94554901123047,
          30.958084106445312,
          31.001060485839844,
          31.058534622192383,
          31.106094360351562,
          31.1588134765625,
          31.1964111328125,
          31.232894897460938,
          31.24995994567871,
          31.276077270507812,
          31.319692611694336,
          31.34954071044922,
          31.40047836303711,
          31.449153900146484,
          31.4978084564209,
          31.548213958740234,
          31.57843017578125,
          31.608776092529297,
          31.627059936523438,
          31.647207260131836,
          31.70431137084961,
          31.73093032836914,
          31.802955627441406,
          31.826263427734375,
          31.871379852294922,
          31.929744720458984,
          31.980792999267578,
          32.00171661376953,
          32.04331970214844,
          32.079986572265625,
          32.105865478515625,
          32.09695816040039,
          32.11146545410156,
          32.16260528564453,
          32.19480895996094,
          32.21186828613281,
          32.22686004638672,
          32.21072006225586,
          32.230140686035156,
          32.259979248046875,
          32.305213928222656,
          32.31986999511719,
          32.34900665283203,
          32.36491394042969,
          32.37371826171875,
          32.451175689697266,
          32.4627685546875,
          32.52198028564453,
          32.53788757324219,
          32.569908142089844,
          32.591102600097656,
          32.61915588378906,
          32.65770721435547,
          32.705448150634766,
          32.72822189331055,
          32.76750183105469,
          32.76599884033203,
          32.7829704284668,
          32.807891845703125,
          32.81724548339844,
          32.826416015625,
          32.849151611328125,
          32.856292724609375,
          32.85322952270508,
          32.84888458251953,
          32.86700439453125,
          32.86600112915039,
          32.87214279174805,
          32.90509796142578,
          32.92472839355469,
          32.95447540283203,
          32.987674713134766,
          32.994441986083984,
          33.000213623046875,
          33.035823822021484,
          33.05522155761719,
          33.091697692871094,
          33.13031005859375,
          33.16768264770508,
          33.19721221923828,
          33.22652053833008,
          33.262718200683594,
          33.27923583984375,
          33.31095504760742,
          33.347312927246094,
          33.37216567993164,
          33.378936767578125,
          33.3939208984375,
          33.418434143066406,
          33.44655227661133,
          33.47405242919922,
          33.49939727783203,
          33.52475357055664,
          33.538509368896484,
          33.54676055908203,
          33.53009033203125,
          33.54426956176758,
          33.54899215698242,
          33.58998489379883,
          33.59363555908203,
          33.614105224609375,
          33.63072204589844,
          33.64900588989258,
          33.658782958984375,
          33.66828918457031,
          33.69084167480469,
          33.70184326171875,
          33.716827392578125,
          33.75313186645508,
          33.75836944580078,
          33.75476837158203,
          33.780242919921875,
          33.81867218017578,
          33.850685119628906,
          33.88288879394531,
          33.876983642578125,
          33.87080001831055,
          33.88664245605469,
          33.878990173339844,
          33.88257598876953,
          33.903297424316406,
          33.92713928222656,
          33.94390869140625,
          33.948394775390625,
          33.95732116699219,
          33.960025787353516,
          33.974273681640625,
          33.982627868652344,
          33.99639892578125,
          34.007667541503906,
          34.026710510253906,
          34.04261016845703,
          34.056121826171875,
          34.06222152709961,
          34.05731964111328,
          34.08110046386719,
          34.09842300415039,
          34.11054611206055,
          34.1168212890625,
          34.111839294433594,
          34.114097595214844,
          34.129539489746094,
          34.13274002075195,
          34.131385803222656,
          34.15165710449219,
          34.17560958862305,
          34.18729782104492,
          34.198402404785156,
          34.224761962890625,
          34.24352264404297,
          34.26438903808594,
          34.27049255371094,
          34.275230407714844,
          34.302608489990234,
          34.32331085205078,
          34.341217041015625,
          34.33966064453125,
          34.35546112060547,
          34.36570739746094,
          34.38555145263672,
          34.41128158569336,
          34.425010681152344,
          34.45481872558594,
          34.478153228759766,
          34.51203155517578,
          34.53974151611328,
          34.54064178466797,
          34.549285888671875,
          34.55706787109375,
          34.56441116333008,
          34.58020782470703,
          34.59420394897461,
          34.60988998413086,
          34.629661560058594,
          34.65387725830078,
          34.672828674316406,
          34.68376922607422,
          34.68681716918945,
          34.71453094482422,
          34.71773910522461,
          34.737632751464844,
          34.74390411376953,
          34.74323272705078,
          34.75535202026367,
          34.76415252685547,
          34.771629333496094,
          34.81398010253906,
          34.846885681152344,
          34.85252380371094,
          34.84595489501953,
          34.85133361816406,
          34.873207092285156,
          34.86677932739258,
          34.882381439208984,
          34.88957977294922,
          34.90937042236328,
          34.94761657714844,
          34.97897720336914,
          35.00137710571289,
          35.02405548095703,
          35.03057098388672,
          35.06389617919922,
          35.087440490722656,
          35.08794403076172,
          35.10771560668945,
          35.125244140625,
          35.12605667114258,
          35.12724304199219,
          35.12333679199219,
          35.142967224121094,
          35.130279541015625,
          35.117218017578125,
          35.13392639160156,
          35.129661560058594,
          35.14771270751953,
          35.15658950805664,
          35.16511535644531,
          35.184303283691406,
          35.17552185058594,
          35.204254150390625,
          35.22053527832031,
          35.24629211425781,
          35.25552749633789,
          35.24964904785156,
          35.245513916015625,
          35.24596405029297,
          35.25481414794922,
          35.26739501953125,
          35.284027099609375,
          35.30706787109375,
          35.31869125366211,
          35.32945251464844,
          35.354949951171875,
          35.36019515991211,
          35.359100341796875,
          35.3509521484375,
          35.39117431640625,
          35.40740966796875,
          35.407936096191406,
          35.422393798828125,
          35.42675018310547,
          35.43166732788086,
          35.44697189331055,
          35.44340515136719,
          35.44462966918945,
          35.444129943847656,
          35.44834518432617,
          35.449188232421875,
          35.44880676269531,
          35.463321685791016,
          35.48744201660156,
          35.503456115722656,
          35.48429870605469,
          35.47697067260742,
          35.47388458251953,
          35.486900329589844,
          35.5084228515625,
          35.520774841308594,
          35.52644348144531,
          35.531700134277344,
          35.52036666870117,
          35.51667785644531,
          35.5369873046875,
          35.548221588134766,
          35.543006896972656,
          35.5576171875,
          35.56941604614258,
          35.58498001098633,
          35.58473587036133,
          35.5869255065918,
          35.602561950683594,
          35.65077209472656,
          35.66685485839844,
          35.68830871582031,
          35.70587921142578,
          35.72325134277344,
          35.733543395996094,
          35.746673583984375,
          35.77469253540039,
          35.78816223144531,
          35.80503845214844,
          35.81079864501953,
          35.82197570800781,
          35.82638931274414,
          35.84868240356445,
          35.851356506347656,
          35.84465789794922,
          35.85630416870117,
          35.872337341308594,
          35.86884689331055,
          35.89218521118164,
          35.88673400878906,
          35.924354553222656,
          35.928749084472656,
          35.93853759765625,
          35.9420280456543,
          35.95191192626953,
          35.96630859375,
          35.99475860595703,
          36.00096130371094,
          36.012107849121094,
          36.02448654174805,
          36.03641128540039,
          36.0498046875,
          36.06818389892578,
          36.081573486328125,
          36.1029052734375,
          36.112857818603516,
          36.136070251464844,
          36.15895462036133,
          36.17320251464844,
          36.19218063354492,
          36.20567321777344,
          36.21357727050781,
          36.20460510253906,
          36.214683532714844,
          36.225364685058594,
          36.23712921142578,
          36.24217987060547,
          36.2545166015625,
          36.279945373535156,
          36.29966354370117,
          36.32843017578125,
          36.341285705566406,
          36.351043701171875,
          36.348297119140625,
          36.366981506347656,
          36.38758850097656,
          36.391868591308594,
          36.38509750366211,
          36.39515686035156,
          36.40364456176758,
          36.41535186767578,
          36.41722106933594,
          36.4395751953125,
          36.45301055908203,
          36.45478820800781,
          36.470611572265625,
          36.478511810302734,
          36.47993850708008,
          36.483917236328125,
          36.49070739746094,
          36.498023986816406,
          36.495506286621094,
          36.504554748535156,
          36.523658752441406,
          36.53070068359375,
          36.53515625,
          36.544212341308594,
          36.56572723388672,
          36.58491516113281,
          36.60485076904297,
          36.6197509765625,
          36.63703918457031,
          36.645477294921875,
          36.659423828125,
          36.65449142456055,
          36.652320861816406,
          36.66986083984375,
          36.681175231933594,
          36.68510437011719,
          36.69300079345703,
          36.70755386352539,
          36.70537567138672,
          36.71052551269531,
          36.72665786743164,
          36.72516632080078,
          36.72814178466797,
          36.74932861328125,
          36.747459411621094,
          36.766902923583984,
          36.783992767333984,
          36.79589080810547,
          36.814064025878906,
          36.821922302246094,
          36.820152282714844,
          36.83142852783203,
          36.8472785949707,
          36.85774612426758,
          36.88920593261719,
          36.89299011230469,
          36.88996124267578,
          36.90167999267578,
          36.905609130859375,
          36.91201400756836,
          36.93248748779297,
          36.94102478027344,
          36.95402145385742,
          36.96563720703125,
          36.97616195678711,
          36.98247528076172,
          36.98109436035156,
          36.981895446777344,
          36.9951171875,
          37.00604248046875,
          37.01448440551758,
          37.0094108581543,
          37.01656723022461,
          37.01905059814453,
          37.033470153808594,
          37.039241790771484,
          37.05202102661133,
          37.05743408203125,
          37.062721252441406,
          37.06178283691406,
          37.070709228515625,
          37.087440490722656,
          37.1024169921875,
          37.09600067138672,
          37.095420837402344,
          37.09132385253906,
          37.09251403808594,
          37.096370697021484,
          37.118553161621094,
          37.12168884277344,
          37.138343811035156,
          37.160457611083984,
          37.17261505126953,
          37.18407440185547,
          37.205543518066406,
          37.2166748046875,
          37.2132568359375,
          37.23004913330078,
          37.23557662963867,
          37.246070861816406,
          37.26374053955078,
          37.275787353515625,
          37.275550842285156,
          37.276268005371094,
          37.276832580566406,
          37.28260803222656,
          37.27680206298828,
          37.285743713378906,
          37.304527282714844,
          37.31959533691406,
          37.34074783325195,
          37.3411750793457,
          37.33946990966797,
          37.33919143676758,
          37.348567962646484,
          37.35906982421875,
          37.370689392089844,
          37.385372161865234,
          37.411399841308594,
          37.424705505371094,
          37.435546875,
          37.434871673583984,
          37.44182586669922,
          37.44886779785156,
          37.462890625,
          37.46731185913086,
          37.463470458984375,
          37.45619583129883,
          37.455963134765625,
          37.46846389770508,
          37.47358703613281,
          37.518798828125,
          37.54438781738281,
          37.552345275878906,
          37.562660217285156,
          37.57058334350586,
          37.566795349121094,
          37.58783721923828,
          37.591121673583984,
          37.587188720703125,
          37.589698791503906,
          37.587799072265625,
          37.59706115722656,
          37.60337448120117,
          37.60694885253906,
          37.608604431152344,
          37.618064880371094,
          37.62616729736328,
          37.637725830078125,
          37.63629150390625,
          37.638084411621094,
          37.64541244506836,
          37.65614318847656,
          37.65735626220703,
          37.658599853515625,
          37.66128158569336,
          37.65630340576172,
          37.66383743286133,
          37.657005310058594,
          37.66798400878906,
          37.658653259277344,
          37.65856170654297,
          37.65713882446289,
          37.65378189086914,
          37.65686798095703,
          37.6556510925293,
          37.64871597290039,
          37.635719299316406,
          37.642906188964844,
          37.661643981933594,
          37.654327392578125,
          37.66526794433594,
          37.66868209838867,
          37.66514205932617,
          37.67706298828125,
          37.67416000366211,
          37.670867919921875,
          37.671661376953125,
          37.68425369262695,
          37.681358337402344,
          37.680389404296875,
          37.66685104370117,
          37.66212844848633,
          37.6556396484375,
          37.660728454589844,
          37.65965270996094,
          37.66694641113281,
          37.67247772216797,
          37.660804748535156,
          37.664405822753906,
          37.66278076171875,
          37.66911315917969,
          37.672706604003906,
          37.67817306518555,
          37.67683410644531,
          37.673866271972656,
          37.681053161621094,
          37.692466735839844,
          37.68609619140625,
          37.688316345214844,
          37.68840789794922,
          37.68577575683594,
          37.685546875,
          37.685760498046875,
          37.689491271972656,
          37.6929817199707,
          37.68136215209961,
          37.68138885498047,
          37.67224884033203,
          37.673179626464844,
          37.67158508300781,
          37.667877197265625,
          37.66802978515625,
          37.669700622558594,
          37.67278289794922,
          37.6700553894043,
          37.67912292480469,
          37.67778015136719,
          37.67567443847656,
          37.67392349243164,
          37.68416976928711,
          37.688201904296875,
          37.689727783203125,
          37.692535400390625,
          37.691734313964844,
          37.69322204589844,
          37.69242858886719,
          37.69219207763672,
          37.697044372558594,
          37.69831848144531,
          37.698421478271484,
          37.698280334472656,
          37.69940185546875,
          37.699764251708984,
          37.701637268066406,
          37.6922721862793,
          37.69770050048828,
          37.69721984863281,
          37.70585632324219,
          37.7048225402832,
          37.709815979003906,
          37.70831298828125,
          37.70923614501953,
          37.70863342285156,
          37.705814361572266,
          37.70357894897461,
          37.7056770324707,
          37.70641326904297,
          37.71011734008789,
          37.7114143371582,
          37.712379455566406,
          37.717926025390625,
          37.72282409667969,
          37.72632598876953,
          37.72089385986328,
          37.723541259765625,
          37.72586441040039,
          37.739097595214844,
          37.74478530883789,
          37.74156951904297,
          37.74546813964844,
          37.74976348876953,
          37.74871826171875,
          37.75054168701172,
          37.75109100341797,
          37.75456237792969,
          37.764747619628906,
          37.764095306396484,
          37.75571060180664,
          37.75986099243164,
          37.75743865966797,
          37.76331329345703,
          37.768096923828125,
          37.76829528808594,
          37.77235794067383,
          37.76605987548828,
          37.765602111816406,
          37.77386474609375,
          37.77250289916992,
          37.78261947631836,
          37.78324890136719,
          37.782814025878906,
          37.78296661376953,
          37.776092529296875,
          37.77618408203125,
          37.78131103515625,
          37.77827835083008,
          37.763816833496094,
          37.767059326171875,
          37.76862335205078,
          37.777549743652344,
          37.77937316894531,
          37.78453063964844,
          37.7888069152832,
          37.78654098510742,
          37.778228759765625,
          37.77684783935547,
          37.786773681640625,
          37.79402160644531,
          37.798431396484375,
          37.7921028137207,
          37.79814147949219,
          37.798484802246094,
          37.799232482910156,
          37.80140686035156,
          37.805423736572266,
          37.816009521484375,
          37.825889587402344,
          37.83110046386719,
          37.83747863769531,
          37.829959869384766,
          37.825538635253906,
          37.82587432861328,
          37.84067916870117,
          37.83892822265625,
          37.8415412902832,
          37.85429382324219,
          37.845157623291016,
          37.85051727294922,
          37.85292053222656,
          37.855812072753906,
          37.85377502441406,
          37.8597412109375,
          37.85809326171875,
          37.858787536621094,
          37.855403900146484,
          37.858001708984375,
          37.86245346069336,
          37.87208557128906,
          37.87152099609375,
          37.886878967285156,
          37.893428802490234,
          37.897457122802734,
          37.90978240966797,
          37.910823822021484,
          37.913307189941406,
          37.92031478881836,
          37.92455291748047,
          37.92664337158203,
          37.93016815185547,
          37.936317443847656,
          37.94158935546875,
          37.9382438659668,
          37.95030975341797,
          37.94285583496094,
          37.95582962036133,
          37.96065139770508,
          37.97010040283203,
          37.982688903808594,
          37.987030029296875,
          37.98933410644531,
          37.996212005615234,
          37.99641418457031,
          38.01674270629883,
          38.03257369995117,
          38.03715133666992,
          38.037132263183594,
          38.043556213378906,
          38.04988098144531,
          38.056373596191406,
          38.06262969970703,
          38.05933380126953,
          38.064231872558594,
          38.075443267822266,
          38.081668853759766,
          38.08890914916992,
          38.090084075927734,
          38.08772277832031,
          38.08858871459961,
          38.09845733642578,
          38.11048126220703,
          38.11908721923828,
          38.11642837524414,
          38.13311767578125,
          38.14726638793945,
          38.151336669921875,
          38.150997161865234,
          38.16515350341797,
          38.16535949707031,
          38.16358184814453,
          38.1751708984375,
          38.18973922729492,
          38.197044372558594,
          38.20081329345703,
          38.19071960449219,
          38.1871337890625,
          38.187564849853516,
          38.189064025878906,
          38.194210052490234,
          38.198486328125,
          38.19297790527344,
          38.19637680053711,
          38.19173812866211,
          38.197021484375,
          38.194557189941406,
          38.19313430786133,
          38.190345764160156,
          38.1898078918457,
          38.1916618347168,
          38.19969177246094,
          38.20233154296875,
          38.213775634765625,
          38.21965789794922,
          38.23387145996094,
          38.23769760131836,
          38.2443733215332,
          38.2623176574707,
          38.263771057128906,
          38.26582336425781,
          38.265113830566406,
          38.275726318359375,
          38.279884338378906,
          38.2806396484375,
          38.28662872314453,
          38.29088592529297,
          38.291465759277344,
          38.29243850708008,
          38.2979736328125
         ],
         "yaxis": "y"
        },
        {
         "line": {
          "color": "rgb(200, 0, 0)",
          "dash": "dash",
          "width": 6
         },
         "name": "ngd WBIC",
         "type": "scatter",
         "xaxis": "x",
         "y": [
          6327.705078125,
          6665.45654296875,
          7404.388671875,
          8603.40625,
          8780.572265625,
          9251.638671875,
          10094.25390625,
          10862.599609375,
          11302.365234375,
          12438.71875,
          13635.0888671875,
          14235.482421875,
          15081.509765625,
          16233.005859375,
          16613.15234375,
          16870.8671875,
          17446.71875,
          18046.20703125,
          18720.33984375,
          19632.85546875,
          20368.78515625,
          21353.83984375,
          22269.294921875,
          23264.74609375,
          24988.28515625,
          25717.2265625,
          26109,
          26707.9921875,
          27369.92578125,
          28049.919921875,
          29160.4375,
          29623.15234375,
          30100.115234375,
          30584.09765625,
          30908.91796875,
          31602.68359375,
          32347.73828125,
          32823.5234375,
          33527.765625,
          34107.98046875,
          34595.59375,
          34746.9453125,
          34772.828125,
          35144.234375,
          35479.0625,
          35986.921875,
          36273.2890625,
          36720.5546875,
          37057.65625,
          37619.765625,
          38056.5390625,
          38425.8046875,
          38826.375,
          39039.5,
          39597.53125,
          39771.265625,
          40012.49609375,
          40366.4296875,
          40531.796875,
          41042.7890625,
          41148.703125,
          41278.2265625,
          41607.0234375,
          41975.86328125,
          42438.98046875,
          42742.2265625,
          43010.4921875,
          43343.84765625,
          43658.90625,
          43770.78125,
          44009.25,
          44452.35546875,
          44836.78125,
          45136.78125,
          45199.05859375,
          45690.90625,
          45939.65234375,
          46150.2109375,
          46569.765625,
          46862,
          47179.78125,
          47601.7734375,
          47908.5703125,
          48157.9765625,
          48608.0078125,
          49089.7734375,
          49602.65625,
          49863.1484375,
          50309.6953125,
          50673.66796875,
          50919.9453125,
          51027.25,
          51423.2265625,
          51739.5859375,
          51970.4453125,
          52294.7890625,
          52685.546875,
          52772.859375,
          52901.0703125,
          53276.375,
          53373.6796875,
          53455.8984375,
          53516.9921875,
          53701.09375,
          53799.796875,
          54028.625,
          54157.77734375,
          54300.546875,
          54474.46875,
          54793.640625,
          54942.578125,
          55105.62890625,
          55244.65625,
          55315.5,
          55377.546875,
          55623.75,
          55702.6640625,
          55756.3046875,
          55999.875,
          56053.9296875,
          56196.265625,
          56299.015625,
          56427.03515625,
          56468.50390625,
          56527.26171875,
          56733.515625,
          56831.4921875,
          57075.8359375,
          57256.8828125,
          57397.0625,
          57473.3984375,
          57695.65625,
          57849.9296875,
          58026.59375,
          58198.09375,
          58415.56640625,
          58505.2109375,
          58551.703125,
          58742.0078125,
          59092.453125,
          59317.4765625,
          59775.765625,
          59929.9765625,
          60104.9375,
          60131.109375,
          60263.234375,
          60471.15625,
          60570.78515625,
          60665.515625,
          60820.68359375,
          60920.453125,
          61034.421875,
          61205.03125,
          61337.0625,
          61355.890625,
          61486.203125,
          61620.1796875,
          61738.3046875,
          61763.4609375,
          61768.48828125,
          61944.01953125,
          61933.65625,
          62151.1484375,
          62276.28125,
          62337.15625,
          62489.59765625,
          62729.64453125,
          62990.546875,
          63220.453125,
          63425.3984375,
          63561.05859375,
          63736.4609375,
          63865.1796875,
          64149.90625,
          64358.30078125,
          64595.3359375,
          64922.8828125,
          65187.97265625,
          65329.0078125,
          65435.6640625,
          65611.59375,
          65751.078125,
          65931.453125,
          66126.765625,
          66231.046875,
          66471.71875,
          66596.046875,
          66742.28125,
          66853.09375,
          67040.359375,
          67141.8671875,
          67371.484375,
          67396.6328125,
          67527.734375,
          67660.5625,
          67889.6953125,
          68027.609375,
          68206.734375,
          68347.578125,
          68522.96875,
          68580.90625,
          68813.734375,
          68875.5625,
          69098.296875,
          69278.59375,
          69507.8984375,
          69649.96875,
          69786.515625,
          69971.78125,
          70112.2734375,
          70272.015625,
          70409.09375,
          70579.453125,
          70742.390625,
          70886.984375,
          70922.03125,
          71067.28125,
          71246.609375,
          71424.53125,
          71542.9453125,
          71716.640625,
          71842.9609375,
          71968.875,
          72074.15625,
          72198.90625,
          72340.34375,
          72449.2890625,
          72492.3046875,
          72670.640625,
          72807.09375,
          73017.359375,
          73189.15625,
          73238.0625,
          73358.5625,
          73406.375,
          73550.7109375,
          73635.890625,
          73667.125,
          73709.453125,
          73709.84375,
          73720.546875,
          73769.546875,
          73903.2734375,
          74028.6875,
          74228.7578125,
          74363.5078125,
          74457.828125,
          74508.6484375,
          74573.8828125,
          74694.328125,
          74735.28125,
          74783.984375,
          74841.1015625,
          74798.796875,
          74874.90625,
          75056.28125,
          75122.25,
          75183.953125,
          75212.46875,
          75310.21875,
          75440.9375,
          75549.1015625,
          75669,
          75754.5078125,
          75837.484375,
          75876.296875,
          75935.703125,
          76034.890625,
          76102.78125,
          76218.640625,
          76329.34375,
          76440,
          76554.640625,
          76623.359375,
          76692.3828125,
          76733.96875,
          76779.7890625,
          76909.65625,
          76970.203125,
          77134.015625,
          77187.03125,
          77289.640625,
          77422.390625,
          77538.5,
          77586.078125,
          77680.703125,
          77764.09375,
          77822.9375,
          77802.6875,
          77835.671875,
          77951.984375,
          78025.25,
          78064.0390625,
          78098.1328125,
          78061.4375,
          78105.59375,
          78173.46875,
          78276.34375,
          78309.6796875,
          78375.9453125,
          78412.125,
          78432.15625,
          78608.3125,
          78634.671875,
          78769.3515625,
          78805.53125,
          78878.359375,
          78926.546875,
          78990.3515625,
          79078.03125,
          79186.6171875,
          79238.421875,
          79327.75,
          79324.34375,
          79362.9375,
          79419.609375,
          79440.890625,
          79461.7421875,
          79513.453125,
          79529.6875,
          79522.734375,
          79512.8515625,
          79554.078125,
          79551.78125,
          79565.75,
          79640.703125,
          79685.3515625,
          79753,
          79828.5078125,
          79843.90625,
          79857.046875,
          79938.03125,
          79982.15625,
          80065.09375,
          80152.921875,
          80237.921875,
          80305.078125,
          80371.734375,
          80454.0703125,
          80491.640625,
          80563.78125,
          80646.46875,
          80702.9921875,
          80718.390625,
          80752.484375,
          80808.21875,
          80872.171875,
          80934.71875,
          80992.3671875,
          81050.03125,
          81081.328125,
          81100.09375,
          81062.1875,
          81094.421875,
          81105.171875,
          81198.40625,
          81206.703125,
          81253.265625,
          81291.0546875,
          81332.6484375,
          81354.8828125,
          81376.515625,
          81427.796875,
          81452.8125,
          81486.8984375,
          81569.4609375,
          81581.375,
          81573.1953125,
          81631.125,
          81718.53125,
          81791.328125,
          81864.578125,
          81851.140625,
          81837.09375,
          81873.1171875,
          81855.7109375,
          81863.859375,
          81910.9921875,
          81965.21875,
          82003.359375,
          82013.5625,
          82033.859375,
          82040.015625,
          82072.421875,
          82091.421875,
          82122.734375,
          82148.375,
          82191.6953125,
          82227.84375,
          82258.578125,
          82272.453125,
          82261.296875,
          82315.390625,
          82354.78125,
          82382.359375,
          82396.640625,
          82385.3125,
          82390.453125,
          82425.5703125,
          82432.84375,
          82429.765625,
          82475.8671875,
          82530.3515625,
          82556.9375,
          82582.1796875,
          82642.140625,
          82684.8125,
          82732.2578125,
          82746.140625,
          82756.90625,
          82819.171875,
          82866.2578125,
          82906.984375,
          82903.4375,
          82939.3671875,
          82962.6875,
          83007.8125,
          83066.328125,
          83097.5625,
          83165.34375,
          83218.421875,
          83295.46875,
          83358.484375,
          83360.5234375,
          83380.1875,
          83397.890625,
          83414.6015625,
          83450.515625,
          83482.359375,
          83518.03125,
          83563,
          83618.0625,
          83661.171875,
          83686.046875,
          83692.984375,
          83756.015625,
          83763.328125,
          83808.578125,
          83822.828125,
          83821.3125,
          83848.8671875,
          83868.875,
          83885.890625,
          83982.203125,
          84057.0390625,
          84069.859375,
          84054.921875,
          84067.1484375,
          84116.90625,
          84102.28125,
          84137.765625,
          84154.125,
          84199.15625,
          84286.125,
          84357.46875,
          84408.40625,
          84459.984375,
          84474.796875,
          84550.5859375,
          84604.1484375,
          84605.28125,
          84650.2578125,
          84690.1328125,
          84691.984375,
          84694.671875,
          84685.796875,
          84730.4453125,
          84701.578125,
          84671.875,
          84709.875,
          84700.171875,
          84741.234375,
          84761.421875,
          84780.8125,
          84824.4765625,
          84804.4765625,
          84869.828125,
          84906.875,
          84965.453125,
          84986.4609375,
          84973.09375,
          84963.671875,
          84964.703125,
          84984.828125,
          85013.4375,
          85051.28125,
          85103.6875,
          85130.1171875,
          85154.59375,
          85212.578125,
          85224.5,
          85222.0078125,
          85203.46875,
          85294.9609375,
          85331.875,
          85333.0859375,
          85365.96875,
          85375.8828125,
          85387.0703125,
          85421.875,
          85413.75,
          85416.546875,
          85415.3984375,
          85424.9921875,
          85426.921875,
          85426.03125,
          85459.046875,
          85513.90625,
          85550.328125,
          85506.75,
          85490.09375,
          85483.0625,
          85512.671875,
          85561.625,
          85589.71875,
          85602.609375,
          85614.5703125,
          85588.796875,
          85580.3984375,
          85626.5859375,
          85652.15625,
          85640.296875,
          85673.53125,
          85700.359375,
          85735.7578125,
          85735.203125,
          85740.1875,
          85775.7421875,
          85885.3984375,
          85921.96875,
          85970.765625,
          86010.734375,
          86050.234375,
          86073.640625,
          86103.5,
          86167.234375,
          86197.875,
          86236.2578125,
          86249.359375,
          86274.7734375,
          86284.8125,
          86335.515625,
          86341.59375,
          86326.3671875,
          86352.8515625,
          86389.3125,
          86381.375,
          86434.4609375,
          86422.0625,
          86507.625,
          86517.6171875,
          86539.8828125,
          86547.8046875,
          86570.296875,
          86603.03125,
          86667.75,
          86681.84375,
          86707.203125,
          86735.3515625,
          86762.4765625,
          86792.9375,
          86834.75,
          86865.1953125,
          86913.71875,
          86936.359375,
          86989.15625,
          87041.203125,
          87073.609375,
          87116.765625,
          87147.4453125,
          87165.421875,
          87145.03125,
          87167.9375,
          87192.234375,
          87218.9921875,
          87230.46875,
          87258.53125,
          87316.359375,
          87361.2109375,
          87426.6328125,
          87455.875,
          87478.0625,
          87471.8125,
          87514.296875,
          87561.171875,
          87570.90625,
          87555.515625,
          87578.3984375,
          87597.7109375,
          87624.328125,
          87628.59375,
          87679.421875,
          87709.984375,
          87714.03125,
          87750.015625,
          87767.984375,
          87771.234375,
          87780.28125,
          87795.734375,
          87812.375,
          87806.640625,
          87827.2109375,
          87870.671875,
          87886.6875,
          87896.8203125,
          87917.421875,
          87966.3515625,
          88009.9921875,
          88055.328125,
          88089.2265625,
          88128.546875,
          88147.734375,
          88179.453125,
          88168.234375,
          88163.296875,
          88203.203125,
          88228.9375,
          88237.859375,
          88255.8125,
          88288.921875,
          88283.96875,
          88295.671875,
          88332.375,
          88328.984375,
          88335.765625,
          88383.953125,
          88379.703125,
          88423.921875,
          88462.78125,
          88489.84375,
          88531.171875,
          88549.046875,
          88545.0234375,
          88570.65625,
          88606.71875,
          88630.5234375,
          88702.078125,
          88710.6875,
          88703.796875,
          88730.4609375,
          88739.390625,
          88753.9609375,
          88800.5078125,
          88819.9453125,
          88849.484375,
          88875.90625,
          88899.8515625,
          88914.21875,
          88911.0625,
          88912.8984375,
          88942.96875,
          88967.8125,
          88987.015625,
          88975.46875,
          88991.7421875,
          88997.40625,
          89030.1875,
          89043.3125,
          89072.375,
          89084.6875,
          89096.734375,
          89094.578125,
          89114.8828125,
          89152.9375,
          89187.015625,
          89172.4140625,
          89171.0859375,
          89161.78125,
          89164.4765625,
          89173.25,
          89223.703125,
          89230.828125,
          89268.7109375,
          89319,
          89346.65625,
          89372.7265625,
          89421.5546875,
          89446.875,
          89439.109375,
          89477.296875,
          89489.875,
          89513.7421875,
          89553.921875,
          89581.328125,
          89580.7890625,
          89582.4296875,
          89583.7109375,
          89596.84375,
          89583.640625,
          89603.96875,
          89646.6875,
          89680.953125,
          89729.0703125,
          89730.03125,
          89726.15625,
          89725.5234375,
          89746.8515625,
          89770.734375,
          89797.1484375,
          89830.546875,
          89889.7421875,
          89920.015625,
          89944.6640625,
          89943.125,
          89958.9453125,
          89974.96875,
          90006.859375,
          90016.921875,
          90008.1875,
          89991.6328125,
          89991.1015625,
          90019.5390625,
          90031.1953125,
          90134.015625,
          90192.21875,
          90210.3203125,
          90233.765625,
          90251.796875,
          90243.1796875,
          90291.0390625,
          90298.5078125,
          90289.5625,
          90295.265625,
          90290.953125,
          90312.015625,
          90326.359375,
          90334.5078125,
          90338.265625,
          90359.7734375,
          90378.2109375,
          90404.4921875,
          90401.234375,
          90405.3125,
          90421.984375,
          90446.3828125,
          90449.140625,
          90451.96875,
          90458.0625,
          90446.734375,
          90463.875,
          90448.34375,
          90473.3125,
          90452.09375,
          90451.8984375,
          90448.65625,
          90441.015625,
          90448.0390625,
          90445.265625,
          90429.484375,
          90399.921875,
          90416.2734375,
          90458.8984375,
          90442.25,
          90467.140625,
          90474.90625,
          90466.8515625,
          90493.953125,
          90487.3515625,
          90479.859375,
          90481.65625,
          90510.296875,
          90503.7265625,
          90501.515625,
          90470.734375,
          90459.984375,
          90445.21875,
          90456.796875,
          90454.3515625,
          90470.9375,
          90483.53125,
          90456.96875,
          90465.15625,
          90461.4609375,
          90475.859375,
          90484.046875,
          90496.4765625,
          90493.4296875,
          90486.671875,
          90503.015625,
          90528.96875,
          90514.4765625,
          90519.53125,
          90519.7421875,
          90513.75,
          90513.234375,
          90513.7265625,
          90522.2109375,
          90530.15625,
          90503.71875,
          90503.7890625,
          90483,
          90485.1171875,
          90481.484375,
          90473.0546875,
          90473.40625,
          90477.203125,
          90484.21875,
          90478.015625,
          90498.640625,
          90495.59375,
          90490.796875,
          90486.8125,
          90510.1171875,
          90519.2890625,
          90522.7578125,
          90529.1484375,
          90527.328125,
          90530.703125,
          90528.90625,
          90528.359375,
          90539.3984375,
          90542.296875,
          90542.53125,
          90542.2109375,
          90544.765625,
          90545.5859375,
          90549.84375,
          90528.546875,
          90540.8671875,
          90539.78125,
          90559.4296875,
          90557.0703125,
          90568.4296875,
          90565.015625,
          90567.1015625,
          90565.734375,
          90559.3203125,
          90554.234375,
          90559,
          90560.6875,
          90569.109375,
          90572.046875,
          90574.2421875,
          90586.859375,
          90598,
          90605.96875,
          90593.6171875,
          90599.625,
          90604.921875,
          90635.015625,
          90647.953125,
          90640.640625,
          90649.515625,
          90659.28125,
          90656.8984375,
          90661.046875,
          90662.2890625,
          90670.1875,
          90693.359375,
          90691.875,
          90672.8125,
          90682.2421875,
          90676.7421875,
          90690.109375,
          90700.9921875,
          90701.4453125,
          90710.671875,
          90696.3515625,
          90695.3125,
          90714.109375,
          90711.0078125,
          90734.015625,
          90735.453125,
          90734.46875,
          90734.8046875,
          90719.171875,
          90719.3828125,
          90731.046875,
          90724.1484375,
          90691.2734375,
          90698.640625,
          90702.203125,
          90722.5,
          90726.6484375,
          90738.3671875,
          90748.109375,
          90742.953125,
          90724.046875,
          90720.90625,
          90743.484375,
          90759.9609375,
          90769.9921875,
          90755.59375,
          90769.328125,
          90770.109375,
          90771.8125,
          90776.765625,
          90785.8984375,
          90809.96875,
          90832.4375,
          90844.2890625,
          90858.796875,
          90841.6875,
          90831.6328125,
          90832.3984375,
          90866.0703125,
          90862.09375,
          90868.03125,
          90897.046875,
          90876.2578125,
          90888.453125,
          90893.921875,
          90900.4921875,
          90895.859375,
          90909.421875,
          90905.671875,
          90907.25,
          90899.5625,
          90905.46875,
          90915.59375,
          90937.4921875,
          90936.2109375,
          90971.140625,
          90986.03125,
          90995.203125,
          91023.234375,
          91025.609375,
          91031.265625,
          91047.203125,
          91056.859375,
          91061.6015625,
          91069.625,
          91083.6015625,
          91095.6015625,
          91087.984375,
          91115.4375,
          91098.484375,
          91128,
          91138.96875,
          91160.4609375,
          91189.078125,
          91198.953125,
          91204.203125,
          91219.8515625,
          91220.296875,
          91266.5390625,
          91302.5390625,
          91312.9453125,
          91312.90625,
          91327.515625,
          91341.90625,
          91356.6640625,
          91370.8984375,
          91363.3984375,
          91374.53125,
          91400.03125,
          91414.203125,
          91430.65625,
          91433.34375,
          91427.96875,
          91429.9375,
          91452.375,
          91479.7265625,
          91499.3125,
          91493.2578125,
          91531.2265625,
          91563.390625,
          91572.640625,
          91571.875,
          91604.0625,
          91604.515625,
          91600.46875,
          91626.828125,
          91659.953125,
          91676.5625,
          91685.140625,
          91662.171875,
          91654.03125,
          91655.015625,
          91658.40625,
          91670.109375,
          91679.84375,
          91667.3125,
          91675.0390625,
          91664.5,
          91676.5078125,
          91670.90625,
          91667.671875,
          91661.3125,
          91660.109375,
          91664.3359375,
          91682.5859375,
          91688.59375,
          91714.625,
          91727.984375,
          91760.328125,
          91769.0234375,
          91784.1953125,
          91825.0078125,
          91828.3125,
          91832.984375,
          91831.390625,
          91855.515625,
          91864.9765625,
          91866.703125,
          91880.328125,
          91890,
          91891.3125,
          91893.53125,
          91906.125
         ],
         "yaxis": "y2"
        },
        {
         "line": {
          "color": "rgb(32, 102, 168)",
          "width": 3
         },
         "name": "sgd LLC",
         "type": "scatter",
         "xaxis": "x",
         "y": [
          -0.138407900929451,
          -0.40950003266334534,
          0.021638236939907074,
          0.19583278894424438,
          0.5178852081298828,
          0.4641651213169098,
          0.7499846816062927,
          1.0470818281173706,
          1.2158788442611694,
          1.5043917894363403,
          2.0613508224487305,
          2.094714403152466,
          2.4663920402526855,
          2.620098114013672,
          3.0035862922668457,
          3.105466604232788,
          3.3516297340393066,
          3.566823959350586,
          3.8985702991485596,
          4.0446085929870605,
          4.447071075439453,
          4.439566612243652,
          4.74774694442749,
          5.08843994140625,
          5.3051018714904785,
          5.40865421295166,
          5.597634792327881,
          5.76129150390625,
          6.028497695922852,
          6.189732551574707,
          6.298983573913574,
          6.559469223022461,
          6.619580268859863,
          6.769913196563721,
          6.965023517608643,
          7.169775009155273,
          7.356125831604004,
          7.558127403259277,
          7.647563934326172,
          7.712225914001465,
          8.026007652282715,
          8.172374725341797,
          8.336094856262207,
          8.403326034545898,
          8.601758003234863,
          8.65400505065918,
          8.697501182556152,
          8.732207298278809,
          8.785276412963867,
          8.828485488891602,
          8.851618766784668,
          8.916278839111328,
          9.057130813598633,
          9.156417846679688,
          9.357301712036133,
          9.44163703918457,
          9.514076232910156,
          9.625064849853516,
          9.719985961914062,
          9.801458358764648,
          9.856819152832031,
          9.945940017700195,
          10.056278228759766,
          10.159236907958984,
          10.25648307800293,
          10.319899559020996,
          10.334632873535156,
          10.447694778442383,
          10.509096145629883,
          10.494607925415039,
          10.533295631408691,
          10.586254119873047,
          10.654980659484863,
          10.741936683654785,
          10.844949722290039,
          10.857511520385742,
          10.988916397094727,
          11.031760215759277,
          11.130311965942383,
          11.259696006774902,
          11.354061126708984,
          11.389978408813477,
          11.473359107971191,
          11.531732559204102,
          11.605443954467773,
          11.708547592163086,
          11.789846420288086,
          11.898157119750977,
          11.985916137695312,
          12.099130630493164,
          12.170072555541992,
          12.292926788330078,
          12.398918151855469,
          12.548227310180664,
          12.677757263183594,
          12.803274154663086,
          12.849431991577148,
          12.999887466430664,
          13.105283737182617,
          13.251237869262695,
          13.3184175491333,
          13.431209564208984,
          13.578056335449219,
          13.72201919555664,
          13.836078643798828,
          13.933258056640625,
          14.022777557373047,
          14.078739166259766,
          14.162220001220703,
          14.278060913085938,
          14.39843463897705,
          14.47115707397461,
          14.576362609863281,
          14.663252830505371,
          14.764568328857422,
          14.839184761047363,
          14.96396255493164,
          15.050994873046875,
          15.097997665405273,
          15.184540748596191,
          15.221295356750488,
          15.281352996826172,
          15.350761413574219,
          15.420248031616211,
          15.53390884399414,
          15.578584671020508,
          15.60539436340332,
          15.662081718444824,
          15.756118774414062,
          15.776483535766602,
          15.85169792175293,
          15.852154731750488,
          15.90536880493164,
          15.930692672729492,
          15.997297286987305,
          16.006526947021484,
          16.01512336730957,
          16.124401092529297,
          16.119497299194336,
          16.115976333618164,
          16.124717712402344,
          16.16942596435547,
          16.204504013061523,
          16.24617576599121,
          16.300859451293945,
          16.400049209594727,
          16.498008728027344,
          16.59564971923828,
          16.633548736572266,
          16.686847686767578,
          16.825149536132812,
          16.911178588867188,
          17.004032135009766,
          17.061017990112305,
          17.122604370117188,
          17.17234992980957,
          17.19283103942871,
          17.254230499267578,
          17.297386169433594,
          17.329864501953125,
          17.33758544921875,
          17.413272857666016,
          17.506919860839844,
          17.573566436767578,
          17.648595809936523,
          17.721542358398438,
          17.77597427368164,
          17.803573608398438,
          17.836790084838867,
          17.86608123779297,
          17.969284057617188,
          18.07159996032715,
          18.151817321777344,
          18.20260238647461,
          18.260587692260742,
          18.332897186279297,
          18.39459991455078,
          18.446365356445312,
          18.532142639160156,
          18.603572845458984,
          18.635028839111328,
          18.658802032470703,
          18.670652389526367,
          18.756168365478516,
          18.78567123413086,
          18.791976928710938,
          18.82025909423828,
          18.86445426940918,
          18.90234375,
          18.883071899414062,
          18.89038848876953,
          18.920513153076172,
          18.99944305419922,
          19.02276611328125,
          19.03652572631836,
          19.06659698486328,
          19.092042922973633,
          19.078933715820312,
          19.10601806640625,
          19.15317153930664,
          19.166210174560547,
          19.22974395751953,
          19.26110076904297,
          19.3101749420166,
          19.33426284790039,
          19.37664222717285,
          19.41204261779785,
          19.450571060180664,
          19.479324340820312,
          19.492488861083984,
          19.546573638916016,
          19.55899429321289,
          19.575828552246094,
          19.638324737548828,
          19.6774959564209,
          19.741859436035156,
          19.79958724975586,
          19.81887435913086,
          19.882837295532227,
          19.90697479248047,
          19.919448852539062,
          19.933151245117188,
          19.966472625732422,
          19.968257904052734,
          20.021286010742188,
          20.037776947021484,
          20.06092071533203,
          20.082611083984375,
          20.121597290039062,
          20.127605438232422,
          20.156963348388672,
          20.204635620117188,
          20.24798583984375,
          20.26498031616211,
          20.296741485595703,
          20.314533233642578,
          20.357507705688477,
          20.36962127685547,
          20.42026138305664,
          20.438507080078125,
          20.444883346557617,
          20.441776275634766,
          20.44551658630371,
          20.441898345947266,
          20.433284759521484,
          20.472824096679688,
          20.4780216217041,
          20.491722106933594,
          20.54055404663086,
          20.56332015991211,
          20.597991943359375,
          20.625564575195312,
          20.65666961669922,
          20.667030334472656,
          20.68335723876953,
          20.692466735839844,
          20.714845657348633,
          20.725799560546875,
          20.724075317382812,
          20.739288330078125,
          20.737205505371094,
          20.743144989013672,
          20.743900299072266,
          20.752521514892578,
          20.790002822875977,
          20.803508758544922,
          20.803466796875,
          20.842361450195312,
          20.8712158203125,
          20.891326904296875,
          20.917634963989258,
          20.942527770996094,
          20.967483520507812,
          21.012683868408203,
          21.040599822998047,
          21.042659759521484,
          21.043685913085938,
          21.053857803344727,
          21.093368530273438,
          21.08652114868164,
          21.107006072998047,
          21.124149322509766,
          21.14776611328125,
          21.16724967956543,
          21.180686950683594,
          21.213077545166016,
          21.250839233398438,
          21.256641387939453,
          21.278865814208984,
          21.293176651000977,
          21.306926727294922,
          21.331100463867188,
          21.343202590942383,
          21.376733779907227,
          21.418628692626953,
          21.434114456176758,
          21.45191764831543,
          21.502391815185547,
          21.517967224121094,
          21.545841217041016,
          21.561431884765625,
          21.597469329833984,
          21.60393714904785,
          21.621578216552734,
          21.609933853149414,
          21.626737594604492,
          21.650625228881836,
          21.653797149658203,
          21.65582275390625,
          21.680099487304688,
          21.69670867919922,
          21.708179473876953,
          21.71511459350586,
          21.71686553955078,
          21.70905303955078,
          21.709672927856445,
          21.713069915771484,
          21.729576110839844,
          21.755964279174805,
          21.77606201171875,
          21.78786849975586,
          21.819089889526367,
          21.80724334716797,
          21.80534553527832,
          21.820293426513672,
          21.819494247436523,
          21.831401824951172,
          21.839073181152344,
          21.848419189453125,
          21.86859893798828,
          21.898006439208984,
          21.919666290283203,
          21.920825958251953,
          21.926546096801758,
          21.949234008789062,
          21.96088218688965,
          21.983966827392578,
          21.993061065673828,
          22.026145935058594,
          22.039674758911133,
          22.072717666625977,
          22.099563598632812,
          22.113910675048828,
          22.12508773803711,
          22.12805938720703,
          22.147180557250977,
          22.178133010864258,
          22.18801498413086,
          22.208080291748047,
          22.232091903686523,
          22.270626068115234,
          22.292362213134766,
          22.3262882232666,
          22.35384178161621,
          22.36981201171875,
          22.400718688964844,
          22.424169540405273,
          22.44121742248535,
          22.45523452758789,
          22.45477294921875,
          22.47335433959961,
          22.504140853881836,
          22.533405303955078,
          22.54619598388672,
          22.566635131835938,
          22.593406677246094,
          22.592041015625,
          22.625347137451172,
          22.64107894897461,
          22.667497634887695,
          22.69949722290039,
          22.729496002197266,
          22.782161712646484,
          22.81201171875,
          22.833648681640625,
          22.860454559326172,
          22.8690185546875,
          22.869157791137695,
          22.894447326660156,
          22.922836303710938,
          22.945606231689453,
          22.963260650634766,
          22.977920532226562,
          22.98206901550293,
          22.983604431152344,
          22.993492126464844,
          23.00613784790039,
          23.028423309326172,
          23.025453567504883,
          23.014419555664062,
          23.017868041992188,
          23.022830963134766,
          23.036827087402344,
          23.05124282836914,
          23.054107666015625,
          23.06854248046875,
          23.098285675048828,
          23.10711669921875,
          23.123926162719727,
          23.13595962524414,
          23.15714454650879,
          23.17989730834961,
          23.18825912475586,
          23.203060150146484,
          23.208328247070312,
          23.22527313232422,
          23.229658126831055,
          23.259815216064453,
          23.26302719116211,
          23.285221099853516,
          23.28874969482422,
          23.297290802001953,
          23.310890197753906,
          23.31944465637207,
          23.339256286621094,
          23.343698501586914,
          23.37392807006836,
          23.388076782226562,
          23.406463623046875,
          23.393051147460938,
          23.392393112182617,
          23.397329330444336,
          23.413482666015625,
          23.427335739135742,
          23.437240600585938,
          23.44272232055664,
          23.455408096313477,
          23.48084259033203,
          23.50162124633789,
          23.518726348876953,
          23.536535263061523,
          23.548471450805664,
          23.559762954711914,
          23.58110809326172,
          23.595251083374023,
          23.605472564697266,
          23.607967376708984,
          23.617103576660156,
          23.63347625732422,
          23.649763107299805,
          23.657459259033203,
          23.669490814208984,
          23.667896270751953,
          23.69359588623047,
          23.728675842285156,
          23.756746292114258,
          23.784881591796875,
          23.804180145263672,
          23.83359146118164,
          23.879833221435547,
          23.882930755615234,
          23.898921966552734,
          23.904884338378906,
          23.921680450439453,
          23.946802139282227,
          23.94763946533203,
          23.958051681518555,
          23.971118927001953,
          23.990020751953125,
          24.002906799316406,
          24.02305030822754,
          24.048969268798828,
          24.085906982421875,
          24.109392166137695,
          24.141155242919922,
          24.152568817138672,
          24.181053161621094,
          24.205528259277344,
          24.221385955810547,
          24.241939544677734,
          24.25187110900879,
          24.26349639892578,
          24.285221099853516,
          24.303552627563477,
          24.30889892578125,
          24.331756591796875,
          24.350257873535156,
          24.370559692382812,
          24.389062881469727,
          24.403152465820312,
          24.436603546142578,
          24.446537017822266,
          24.469348907470703,
          24.487201690673828,
          24.497652053833008,
          24.514680862426758,
          24.538143157958984,
          24.55550765991211,
          24.582550048828125,
          24.607336044311523,
          24.62569808959961,
          24.649009704589844,
          24.671180725097656,
          24.695402145385742,
          24.710975646972656,
          24.73601722717285,
          24.747236251831055,
          24.765308380126953,
          24.787845611572266,
          24.788394927978516,
          24.81045913696289,
          24.814977645874023,
          24.83395767211914,
          24.842182159423828,
          24.868749618530273,
          24.873151779174805,
          24.885738372802734,
          24.882795333862305,
          24.888689041137695,
          24.892175674438477,
          24.901248931884766,
          24.907241821289062,
          24.910974502563477,
          24.927017211914062,
          24.924972534179688,
          24.932668685913086,
          24.93619155883789,
          24.947463989257812,
          24.948793411254883,
          24.95725440979004,
          24.979230880737305,
          24.993141174316406,
          25.014469146728516,
          25.027942657470703,
          25.036590576171875,
          25.053180694580078,
          25.079055786132812,
          25.088958740234375,
          25.113800048828125,
          25.113021850585938,
          25.128868103027344,
          25.12784194946289,
          25.13129425048828,
          25.132802963256836,
          25.147964477539062,
          25.154922485351562,
          25.15735626220703,
          25.167343139648438,
          25.165678024291992,
          25.18732452392578,
          25.199321746826172,
          25.196880340576172,
          25.206459045410156,
          25.210739135742188,
          25.238536834716797,
          25.259262084960938,
          25.265605926513672,
          25.263813018798828,
          25.285120010375977,
          25.29949951171875,
          25.303363800048828,
          25.296600341796875,
          25.293682098388672,
          25.291908264160156,
          25.298748016357422,
          25.311573028564453,
          25.318885803222656,
          25.321731567382812,
          25.33163070678711,
          25.336637496948242,
          25.352794647216797,
          25.360122680664062,
          25.37651824951172,
          25.38299560546875,
          25.393726348876953,
          25.40023422241211,
          25.41222381591797,
          25.415748596191406,
          25.418561935424805,
          25.424604415893555,
          25.437057495117188,
          25.441850662231445,
          25.45125961303711,
          25.452627182006836,
          25.478954315185547,
          25.47484016418457,
          25.485538482666016,
          25.490257263183594,
          25.500659942626953,
          25.51480484008789,
          25.531280517578125,
          25.53398895263672,
          25.55256462097168,
          25.57402801513672,
          25.590343475341797,
          25.59648895263672,
          25.606170654296875,
          25.627058029174805,
          25.639129638671875,
          25.646080017089844,
          25.64904022216797,
          25.646141052246094,
          25.653993606567383,
          25.661312103271484,
          25.666423797607422,
          25.676902770996094,
          25.687463760375977,
          25.70646095275879,
          25.714143753051758,
          25.71068572998047,
          25.704856872558594,
          25.706876754760742,
          25.707744598388672,
          25.726367950439453,
          25.73218536376953,
          25.731107711791992,
          25.739206314086914,
          25.744718551635742,
          25.740833282470703,
          25.730009078979492,
          25.7345027923584,
          25.735746383666992,
          25.740434646606445,
          25.769258499145508,
          25.787452697753906,
          25.789615631103516,
          25.81453514099121,
          25.807968139648438,
          25.80502700805664,
          25.805644989013672,
          25.823122024536133,
          25.827743530273438,
          25.83102035522461,
          25.822359085083008,
          25.822250366210938,
          25.815139770507812,
          25.813961029052734,
          25.81682586669922,
          25.8271484375,
          25.824493408203125,
          25.838014602661133,
          25.8413143157959,
          25.841785430908203,
          25.846248626708984,
          25.849239349365234,
          25.859508514404297,
          25.86249351501465,
          25.863426208496094,
          25.858007431030273,
          25.86371612548828,
          25.866436004638672,
          25.862701416015625,
          25.862712860107422,
          25.86155891418457,
          25.87146759033203,
          25.876937866210938,
          25.865772247314453,
          25.86880111694336,
          25.864364624023438,
          25.858306884765625,
          25.864242553710938,
          25.865568161010742,
          25.88370704650879,
          25.888933181762695,
          25.897293090820312,
          25.89579963684082,
          25.901634216308594,
          25.90032386779785,
          25.910015106201172,
          25.900821685791016,
          25.906051635742188,
          25.91747283935547,
          25.919504165649414,
          25.923168182373047,
          25.950498580932617,
          25.953292846679688,
          25.949535369873047,
          25.953943252563477,
          25.952167510986328,
          25.95903778076172,
          25.962421417236328,
          25.966047286987305,
          25.97849464416504,
          25.979530334472656,
          25.988428115844727,
          25.99166488647461,
          25.99224853515625,
          25.992748260498047,
          25.99945640563965,
          26.001483917236328,
          26.005496978759766,
          26.009422302246094,
          26.014942169189453,
          26.018985748291016,
          26.024425506591797,
          26.03270721435547,
          26.036727905273438,
          26.033201217651367,
          26.035646438598633,
          26.044837951660156,
          26.038936614990234,
          26.045703887939453,
          26.045570373535156,
          26.049945831298828,
          26.06045913696289,
          26.064098358154297,
          26.060209274291992,
          26.064746856689453,
          26.065919876098633,
          26.0742244720459,
          26.082862854003906,
          26.09014129638672,
          26.094480514526367,
          26.093841552734375,
          26.107315063476562,
          26.114986419677734,
          26.126056671142578,
          26.146167755126953,
          26.150699615478516,
          26.16877555847168,
          26.190658569335938,
          26.20714569091797,
          26.210933685302734,
          26.204322814941406,
          26.21092414855957,
          26.22360610961914,
          26.235836029052734,
          26.242591857910156,
          26.234928131103516,
          26.247760772705078,
          26.25605010986328,
          26.26158905029297,
          26.267667770385742,
          26.276893615722656,
          26.287864685058594,
          26.297958374023438,
          26.30751609802246,
          26.30146598815918,
          26.31570053100586,
          26.316383361816406,
          26.33688735961914,
          26.334609985351562,
          26.32801055908203,
          26.336166381835938,
          26.33575439453125,
          26.341962814331055,
          26.357145309448242,
          26.37218475341797,
          26.380313873291016,
          26.392215728759766,
          26.394168853759766,
          26.39533042907715,
          26.395835876464844,
          26.400039672851562,
          26.402873992919922,
          26.404945373535156,
          26.41133689880371,
          26.41799545288086,
          26.424068450927734,
          26.42363929748535,
          26.427753448486328,
          26.44625473022461,
          26.446008682250977,
          26.450393676757812,
          26.455663681030273,
          26.46851921081543,
          26.46302032470703,
          26.46941375732422,
          26.46906280517578,
          26.4661808013916,
          26.476028442382812,
          26.473236083984375,
          26.475486755371094,
          26.473590850830078,
          26.47576904296875,
          26.485462188720703,
          26.485687255859375,
          26.488258361816406,
          26.495223999023438,
          26.495189666748047,
          26.50156021118164,
          26.507495880126953,
          26.512462615966797,
          26.504207611083984,
          26.518598556518555,
          26.531831741333008,
          26.53363037109375,
          26.542692184448242,
          26.55835723876953,
          26.553665161132812,
          26.55028533935547,
          26.549800872802734,
          26.56568145751953,
          26.55684471130371,
          26.562175750732422,
          26.56273651123047,
          26.565397262573242,
          26.569860458374023,
          26.570159912109375,
          26.576980590820312,
          26.575340270996094,
          26.570451736450195,
          26.568004608154297,
          26.57321548461914,
          26.570676803588867,
          26.571704864501953,
          26.56436538696289,
          26.56269073486328,
          26.565284729003906,
          26.570358276367188,
          26.567995071411133,
          26.57569122314453,
          26.59029769897461,
          26.60588264465332,
          26.61821937561035,
          26.622623443603516,
          26.624038696289062,
          26.6301212310791,
          26.640880584716797,
          26.647384643554688,
          26.648778915405273,
          26.6551513671875,
          26.653797149658203,
          26.665340423583984,
          26.6570987701416,
          26.657020568847656,
          26.66565704345703,
          26.660858154296875,
          26.665138244628906,
          26.67116928100586,
          26.67007064819336,
          26.681795120239258,
          26.686485290527344,
          26.702713012695312,
          26.71004867553711,
          26.715160369873047,
          26.719074249267578,
          26.721752166748047,
          26.72903060913086,
          26.733665466308594,
          26.73855209350586,
          26.742897033691406,
          26.74287223815918,
          26.755149841308594,
          26.764169692993164,
          26.759496688842773,
          26.767494201660156,
          26.765361785888672,
          26.76738739013672,
          26.775117874145508,
          26.76656723022461,
          26.780460357666016,
          26.780803680419922,
          26.796215057373047,
          26.79994773864746,
          26.814455032348633,
          26.80938720703125,
          26.822385787963867,
          26.831218719482422,
          26.832740783691406,
          26.840229034423828,
          26.847694396972656,
          26.857614517211914,
          26.864639282226562,
          26.872394561767578,
          26.87696075439453,
          26.883670806884766,
          26.89666748046875,
          26.904481887817383,
          26.919815063476562,
          26.92221450805664,
          26.93065643310547,
          26.949121475219727,
          26.954797744750977,
          26.964130401611328,
          26.982254028320312,
          26.990083694458008,
          26.99093246459961,
          26.997406005859375,
          27.01032829284668,
          27.011045455932617,
          27.01375961303711,
          27.020856857299805,
          27.026844024658203,
          27.02958106994629,
          27.03030776977539,
          27.035505294799805,
          27.047292709350586,
          27.059810638427734,
          27.063316345214844,
          27.069622039794922,
          27.07575225830078,
          27.075693130493164,
          27.0915470123291,
          27.097763061523438,
          27.109169006347656,
          27.12165069580078,
          27.132553100585938,
          27.132972717285156,
          27.140647888183594,
          27.149215698242188,
          27.154743194580078,
          27.16830062866211,
          27.17650604248047,
          27.178592681884766,
          27.180622100830078,
          27.182178497314453,
          27.18332290649414,
          27.189788818359375,
          27.20263671875,
          27.20516586303711,
          27.20762062072754,
          27.210865020751953,
          27.217754364013672,
          27.215518951416016,
          27.2150936126709,
          27.212751388549805,
          27.22572898864746,
          27.234407424926758,
          27.24144744873047,
          27.254716873168945,
          27.254112243652344,
          27.259010314941406,
          27.275325775146484,
          27.278352737426758,
          27.297080993652344,
          27.30657958984375,
          27.310623168945312,
          27.32107162475586,
          27.32772445678711,
          27.33290672302246,
          27.3367919921875,
          27.344154357910156,
          27.351299285888672,
          27.35466766357422,
          27.35838508605957,
          27.365619659423828,
          27.367095947265625,
          27.379535675048828,
          27.383085250854492,
          27.383441925048828,
          27.39480209350586,
          27.401443481445312,
          27.40402603149414,
          27.41562271118164,
          27.4239501953125,
          27.425193786621094,
          27.430843353271484,
          27.438560485839844,
          27.446582794189453,
          27.45186996459961,
          27.466346740722656,
          27.470722198486328,
          27.466262817382812,
          27.469707489013672,
          27.48123550415039,
          27.498695373535156,
          27.501699447631836,
          27.50450325012207,
          27.512409210205078,
          27.522666931152344,
          27.525192260742188,
          27.533889770507812,
          27.53266143798828,
          27.53772735595703,
          27.54668426513672,
          27.55312728881836,
          27.565902709960938,
          27.570022583007812,
          27.569894790649414,
          27.57221221923828,
          27.57284927368164,
          27.577186584472656,
          27.575693130493164,
          27.580005645751953,
          27.574871063232422,
          27.583070755004883,
          27.586261749267578,
          27.587017059326172,
          27.59295654296875,
          27.59421157836914,
          27.603185653686523,
          27.607646942138672,
          27.609783172607422,
          27.61505126953125,
          27.62328338623047,
          27.617881774902344,
          27.622514724731445,
          27.62443733215332,
          27.626720428466797,
          27.627498626708984,
          27.632511138916016,
          27.64019012451172,
          27.643367767333984,
          27.642107009887695,
          27.64293670654297,
          27.648651123046875,
          27.64751625061035,
          27.652774810791016,
          27.660234451293945,
          27.662494659423828,
          27.66737937927246,
          27.675777435302734,
          27.671051025390625,
          27.67597198486328,
          27.680721282958984,
          27.689311981201172,
          27.7026424407959,
          27.70501708984375,
          27.710479736328125
         ],
         "yaxis": "y"
        },
        {
         "line": {
          "color": "rgb(32, 102, 168)",
          "dash": "dash",
          "width": 6
         },
         "name": "sgd WBIC",
         "type": "scatter",
         "xaxis": "x",
         "y": [
          10690.69921875,
          10074.130859375,
          11054.70703125,
          11450.892578125,
          12183.365234375,
          12061.1845703125,
          12711.25,
          13386.96484375,
          13770.875,
          14427.064453125,
          15693.806640625,
          15769.6875,
          16615.02734375,
          16964.61328125,
          17836.81640625,
          18068.53125,
          18628.40234375,
          19117.83984375,
          19872.359375,
          20204.505859375,
          21119.86328125,
          21102.796875,
          21803.71484375,
          22578.58203125,
          23071.35546875,
          23306.875,
          23736.69140625,
          24108.91015625,
          24716.640625,
          25083.349609375,
          25331.830078125,
          25924.2734375,
          26060.990234375,
          26402.90625,
          26846.6640625,
          27312.34765625,
          27736.1796875,
          28195.611328125,
          28399.0234375,
          28546.08984375,
          29259.75390625,
          29592.65234375,
          29965.015625,
          30117.92578125,
          30569.234375,
          30688.06640625,
          30786.9921875,
          30865.92578125,
          30986.62890625,
          31084.900390625,
          31137.515625,
          31284.578125,
          31604.9296875,
          31830.748046875,
          32287.6328125,
          32479.443359375,
          32644.197265625,
          32896.62890625,
          33112.515625,
          33297.8203125,
          33423.7265625,
          33626.42578125,
          33877.375,
          34111.5390625,
          34332.71875,
          34476.94921875,
          34510.4609375,
          34767.609375,
          34907.2578125,
          34874.30859375,
          34962.3046875,
          35082.75,
          35239.0625,
          35436.8359375,
          35671.125,
          35699.6953125,
          35998.5625,
          36096,
          36320.1484375,
          36614.4140625,
          36829.0390625,
          36910.7265625,
          37100.3671875,
          37233.1328125,
          37400.78125,
          37635.28125,
          37820.1875,
          38066.52734375,
          38266.12890625,
          38523.6171875,
          38684.97265625,
          38964.38671875,
          39205.453125,
          39545.0390625,
          39839.640625,
          40125.11328125,
          40230.09375,
          40572.2890625,
          40812,
          41143.9609375,
          41296.75390625,
          41553.28125,
          41887.2734375,
          42214.6953125,
          42474.109375,
          42695.13671875,
          42898.734375,
          43026.015625,
          43215.890625,
          43479.3515625,
          43753.1328125,
          43918.52734375,
          44157.8046875,
          44355.4296875,
          44585.859375,
          44755.5703125,
          45039.359375,
          45237.3046875,
          45344.2109375,
          45541.0390625,
          45624.63671875,
          45761.2265625,
          45919.09375,
          46077.140625,
          46335.64453125,
          46437.25,
          46498.2265625,
          46627.15625,
          46841.0390625,
          46887.3515625,
          47058.41796875,
          47059.45703125,
          47180.48828125,
          47238.0859375,
          47389.56640625,
          47410.5625,
          47430.11328125,
          47678.65234375,
          47667.4921875,
          47659.4921875,
          47679.37890625,
          47781.0625,
          47860.84375,
          47955.62109375,
          48079.9921875,
          48305.59375,
          48528.390625,
          48750.4609375,
          48836.66015625,
          48957.8828125,
          49272.4296875,
          49468.09765625,
          49679.28125,
          49808.88671875,
          49948.96875,
          50062.1015625,
          50108.68359375,
          50248.328125,
          50346.48046875,
          50420.34375,
          50437.90625,
          50610.0546875,
          50823.0390625,
          50974.625,
          51145.26953125,
          51311.1796875,
          51434.9765625,
          51497.7421875,
          51573.2890625,
          51639.90625,
          51874.6328125,
          52107.3359375,
          52289.7890625,
          52405.2890625,
          52537.1640625,
          52701.625,
          52841.9609375,
          52959.6953125,
          53154.7890625,
          53317.25,
          53388.7890625,
          53442.85546875,
          53469.80859375,
          53664.3046875,
          53731.41015625,
          53745.74609375,
          53810.078125,
          53910.59375,
          53996.7734375,
          53952.9375,
          53969.578125,
          54038.08984375,
          54217.6015625,
          54270.65625,
          54301.953125,
          54370.34375,
          54428.21875,
          54398.40625,
          54460.0078125,
          54567.25,
          54596.90625,
          54741.4140625,
          54812.734375,
          54924.34765625,
          54979.1328125,
          55075.515625,
          55156.03125,
          55243.66015625,
          55309.0625,
          55339,
          55462.00390625,
          55490.2578125,
          55528.53515625,
          55670.6796875,
          55759.7734375,
          55906.15625,
          56037.453125,
          56081.3203125,
          56226.796875,
          56281.6953125,
          56310.06640625,
          56341.2265625,
          56417.015625,
          56421.078125,
          56541.6796875,
          56579.1875,
          56631.828125,
          56681.16015625,
          56769.83203125,
          56783.4921875,
          56850.26171875,
          56958.6953125,
          57057.28125,
          57095.9375,
          57168.171875,
          57208.6328125,
          57306.3828125,
          57333.9296875,
          57449.10546875,
          57490.6015625,
          57505.1015625,
          57498.0390625,
          57506.54296875,
          57498.3203125,
          57478.7265625,
          57568.65625,
          57580.484375,
          57611.6484375,
          57722.7109375,
          57774.4921875,
          57853.34375,
          57916.0546875,
          57986.79296875,
          58010.359375,
          58047.4921875,
          58068.20703125,
          58119.1015625,
          58144.015625,
          58140.1015625,
          58174.6953125,
          58169.96484375,
          58183.46875,
          58185.19140625,
          58204.8046875,
          58290.046875,
          58320.765625,
          58320.66796875,
          58409.1328125,
          58474.7578125,
          58520.5,
          58580.3359375,
          58636.9453125,
          58693.7109375,
          58796.515625,
          58860.00390625,
          58864.68359375,
          58867.01953125,
          58890.1484375,
          58980.015625,
          58964.4453125,
          59011.03515625,
          59050.02734375,
          59103.73828125,
          59148.0546875,
          59178.6171875,
          59252.2890625,
          59338.171875,
          59351.375,
          59401.9140625,
          59434.4609375,
          59465.734375,
          59520.71484375,
          59548.2421875,
          59624.5078125,
          59719.7890625,
          59755.01171875,
          59795.5078125,
          59910.3046875,
          59945.73046875,
          60009.12109375,
          60044.578125,
          60126.54296875,
          60141.25390625,
          60181.375,
          60154.89453125,
          60193.1171875,
          60247.4375,
          60254.65625,
          60259.265625,
          60314.47265625,
          60352.25390625,
          60378.34375,
          60394.12109375,
          60398.09375,
          60380.328125,
          60381.734375,
          60389.453125,
          60426.99609375,
          60487.01953125,
          60532.73046875,
          60559.578125,
          60630.59375,
          60603.6484375,
          60599.328125,
          60633.328125,
          60631.515625,
          60658.59375,
          60676.04296875,
          60697.296875,
          60743.19921875,
          60810.078125,
          60859.3515625,
          60861.984375,
          60874.99609375,
          60926.59375,
          60953.08203125,
          61005.5859375,
          61026.26953125,
          61101.51953125,
          61132.2890625,
          61207.44921875,
          61268.5,
          61301.12109375,
          61326.546875,
          61333.3046875,
          61376.796875,
          61447.1953125,
          61469.67578125,
          61515.3046875,
          61569.921875,
          61657.56640625,
          61706.9921875,
          61784.15625,
          61846.828125,
          61883.1484375,
          61953.4453125,
          62006.7734375,
          62045.5546875,
          62077.4375,
          62076.3828125,
          62118.6484375,
          62188.65625,
          62255.2265625,
          62284.31640625,
          62330.796875,
          62391.6875,
          62388.58203125,
          62464.328125,
          62500.109375,
          62560.18359375,
          62632.96875,
          62701.1953125,
          62820.97265625,
          62888.8671875,
          62938.08203125,
          62999.05859375,
          63018.5390625,
          63018.85546875,
          63076.37109375,
          63140.9375,
          63192.73046875,
          63232.8828125,
          63266.2265625,
          63275.65625,
          63279.15625,
          63301.640625,
          63330.3984375,
          63381.0859375,
          63374.328125,
          63349.234375,
          63357.078125,
          63368.3671875,
          63400.1953125,
          63432.98046875,
          63439.50390625,
          63472.328125,
          63539.9765625,
          63560.0625,
          63598.29296875,
          63625.6640625,
          63673.8359375,
          63725.5859375,
          63744.6015625,
          63778.26953125,
          63790.2421875,
          63828.78515625,
          63838.76171875,
          63907.34375,
          63914.64453125,
          63965.1328125,
          63973.15625,
          63992.578125,
          64023.5078125,
          64042.95703125,
          64088.015625,
          64098.1171875,
          64166.8671875,
          64199.046875,
          64240.8671875,
          64210.3515625,
          64208.859375,
          64220.078125,
          64256.8203125,
          64288.3359375,
          64310.8671875,
          64323.33203125,
          64352.18359375,
          64410.03125,
          64457.2890625,
          64496.1953125,
          64536.69921875,
          64563.83984375,
          64589.52734375,
          64638.078125,
          64670.2421875,
          64693.484375,
          64699.16796875,
          64719.94921875,
          64757.1875,
          64794.2265625,
          64811.73828125,
          64839.09375,
          64835.46484375,
          64893.91796875,
          64973.703125,
          65037.55078125,
          65101.5390625,
          65145.43359375,
          65212.328125,
          65317.4921875,
          65324.53125,
          65360.90625,
          65374.46484375,
          65412.66796875,
          65469.8046875,
          65471.703125,
          65495.390625,
          65525.109375,
          65568.1015625,
          65597.40625,
          65643.2265625,
          65702.171875,
          65786.1875,
          65839.6015625,
          65911.8515625,
          65937.8125,
          66002.6015625,
          66058.2578125,
          66094.3203125,
          66141.0703125,
          66163.65625,
          66190.09375,
          66239.5,
          66281.203125,
          66293.359375,
          66345.34375,
          66387.421875,
          66433.6015625,
          66475.6875,
          66507.734375,
          66583.8125,
          66606.3984375,
          66658.28125,
          66698.890625,
          66722.65625,
          66761.3828125,
          66814.75,
          66854.25,
          66915.7578125,
          66972.125,
          67013.890625,
          67066.90625,
          67117.3359375,
          67172.4296875,
          67207.84375,
          67264.796875,
          67290.3125,
          67331.421875,
          67382.6796875,
          67383.9296875,
          67434.109375,
          67444.3828125,
          67487.546875,
          67506.2578125,
          67566.671875,
          67576.6796875,
          67605.3125,
          67598.609375,
          67612.015625,
          67619.9375,
          67640.578125,
          67654.203125,
          67662.703125,
          67699.1875,
          67694.53125,
          67712.0390625,
          67720.046875,
          67745.6953125,
          67748.703125,
          67767.953125,
          67817.9453125,
          67849.578125,
          67898.09375,
          67928.734375,
          67948.40625,
          67986.140625,
          68044.9921875,
          68067.5,
          68124.0078125,
          68122.234375,
          68158.2734375,
          68155.9375,
          68163.7890625,
          68167.21875,
          68201.703125,
          68217.53125,
          68223.078125,
          68245.78125,
          68242,
          68291.234375,
          68318.515625,
          68312.96875,
          68334.75,
          68344.484375,
          68407.703125,
          68454.84375,
          68469.265625,
          68465.1953125,
          68513.65625,
          68546.359375,
          68555.15625,
          68539.765625,
          68533.125,
          68529.109375,
          68544.6640625,
          68573.828125,
          68590.453125,
          68596.921875,
          68619.4453125,
          68630.828125,
          68667.578125,
          68684.25,
          68721.53125,
          68736.2578125,
          68760.671875,
          68775.4765625,
          68802.75,
          68810.7734375,
          68817.171875,
          68830.90625,
          68859.234375,
          68870.140625,
          68891.546875,
          68894.640625,
          68954.53125,
          68945.1640625,
          68969.5,
          68980.21875,
          69003.890625,
          69036.0546875,
          69073.53125,
          69079.6875,
          69121.9375,
          69170.7578125,
          69207.859375,
          69221.84375,
          69243.859375,
          69291.3671875,
          69318.828125,
          69334.6328125,
          69341.375,
          69334.7734375,
          69352.625,
          69369.28125,
          69380.90625,
          69404.734375,
          69428.75,
          69471.96875,
          69489.4375,
          69481.5703125,
          69468.3125,
          69472.90625,
          69474.875,
          69517.25,
          69530.4765625,
          69528.015625,
          69546.4375,
          69558.984375,
          69550.140625,
          69525.5234375,
          69535.75,
          69538.5703125,
          69549.234375,
          69614.7890625,
          69656.171875,
          69661.0859375,
          69717.765625,
          69702.828125,
          69696.140625,
          69697.546875,
          69737.296875,
          69747.796875,
          69755.25,
          69735.546875,
          69735.296875,
          69719.125,
          69716.4453125,
          69722.9609375,
          69746.4453125,
          69740.390625,
          69771.15625,
          69778.640625,
          69779.7265625,
          69789.875,
          69796.671875,
          69820.0390625,
          69826.8125,
          69828.9375,
          69816.6171875,
          69829.609375,
          69835.796875,
          69827.3046875,
          69827.328125,
          69824.703125,
          69847.234375,
          69859.6875,
          69834.2890625,
          69841.171875,
          69831.0859375,
          69817.3125,
          69830.8046875,
          69833.8203125,
          69875.078125,
          69886.9609375,
          69905.9765625,
          69902.578125,
          69915.84375,
          69912.875,
          69934.9140625,
          69914,
          69925.90625,
          69951.875,
          69956.5,
          69964.8359375,
          70026.9921875,
          70033.34375,
          70024.796875,
          70034.8203125,
          70030.78125,
          70046.40625,
          70054.1015625,
          70062.34375,
          70090.65625,
          70093.015625,
          70113.25,
          70120.609375,
          70121.9375,
          70123.078125,
          70138.3359375,
          70142.9453125,
          70152.078125,
          70161,
          70173.5546875,
          70182.75,
          70195.125,
          70213.9609375,
          70223.109375,
          70215.078125,
          70220.640625,
          70241.546875,
          70228.125,
          70243.515625,
          70243.21875,
          70253.171875,
          70277.078125,
          70285.359375,
          70276.515625,
          70286.84375,
          70289.5,
          70308.390625,
          70328.0390625,
          70344.59375,
          70354.4609375,
          70353.0078125,
          70383.65625,
          70401.09375,
          70426.28125,
          70472.015625,
          70482.3203125,
          70523.4375,
          70573.2109375,
          70610.703125,
          70619.328125,
          70604.28125,
          70619.296875,
          70648.125,
          70675.9453125,
          70691.3125,
          70673.8828125,
          70703.0625,
          70721.921875,
          70734.5234375,
          70748.34375,
          70769.328125,
          70794.28125,
          70817.234375,
          70838.96875,
          70825.203125,
          70857.59375,
          70859.140625,
          70905.7734375,
          70900.59375,
          70885.578125,
          70904.1328125,
          70903.1875,
          70917.3125,
          70951.84375,
          70986.046875,
          71004.5390625,
          71031.609375,
          71036.046875,
          71038.6953125,
          71039.84375,
          71049.40625,
          71055.84375,
          71060.5625,
          71075.09375,
          71090.2421875,
          71104.046875,
          71103.0703125,
          71112.4296875,
          71154.515625,
          71153.953125,
          71163.9296875,
          71175.9140625,
          71205.15625,
          71192.65625,
          71207.1875,
          71206.390625,
          71199.828125,
          71222.234375,
          71215.875,
          71221.0078125,
          71216.6875,
          71221.6484375,
          71243.6875,
          71244.203125,
          71250.0625,
          71265.890625,
          71265.8203125,
          71280.3046875,
          71293.8125,
          71305.109375,
          71286.328125,
          71319.0625,
          71349.15625,
          71353.25,
          71373.859375,
          71409.4921875,
          71398.8203125,
          71391.125,
          71390.015625,
          71426.1484375,
          71406.046875,
          71418.171875,
          71419.4375,
          71425.5,
          71435.65625,
          71436.328125,
          71451.8515625,
          71448.109375,
          71437,
          71431.421875,
          71443.28125,
          71437.515625,
          71439.8515625,
          71423.15625,
          71419.3515625,
          71425.25,
          71436.78125,
          71431.421875,
          71448.921875,
          71482.140625,
          71517.5859375,
          71545.6484375,
          71555.671875,
          71558.8828125,
          71572.71875,
          71597.1875,
          71611.96875,
          71615.140625,
          71629.640625,
          71626.5625,
          71652.8125,
          71634.0703125,
          71633.890625,
          71653.5234375,
          71642.609375,
          71652.34375,
          71666.0625,
          71663.5625,
          71690.21875,
          71700.890625,
          71737.796875,
          71754.484375,
          71766.1015625,
          71775.0078125,
          71781.09375,
          71797.65625,
          71808.1875,
          71819.3125,
          71829.1875,
          71829.125,
          71857.046875,
          71877.5625,
          71866.9375,
          71885.1328125,
          71880.28125,
          71884.8828125,
          71902.46875,
          71883.015625,
          71914.6015625,
          71915.390625,
          71950.4375,
          71958.9296875,
          71991.921875,
          71980.40625,
          72009.96875,
          72030.046875,
          72033.515625,
          72050.5546875,
          72067.5234375,
          72090.09375,
          72106.078125,
          72123.7109375,
          72134.09375,
          72149.359375,
          72178.921875,
          72196.6875,
          72231.5625,
          72237.015625,
          72256.2265625,
          72298.21875,
          72311.125,
          72332.3515625,
          72373.5703125,
          72391.375,
          72393.3125,
          72408.03125,
          72437.421875,
          72439.0625,
          72445.234375,
          72461.375,
          72475,
          72481.21875,
          72482.8828125,
          72494.703125,
          72521.515625,
          72549.984375,
          72557.953125,
          72572.2890625,
          72586.234375,
          72586.09375,
          72622.15625,
          72636.296875,
          72662.234375,
          72690.6171875,
          72715.421875,
          72716.3671875,
          72733.828125,
          72753.3046875,
          72765.875,
          72796.703125,
          72815.375,
          72820.125,
          72824.734375,
          72828.28125,
          72830.890625,
          72845.59375,
          72874.8125,
          72880.5703125,
          72886.15625,
          72893.53125,
          72909.203125,
          72904.1171875,
          72903.15625,
          72897.828125,
          72927.34375,
          72947.078125,
          72963.0859375,
          72993.265625,
          72991.890625,
          73003.03125,
          73040.125,
          73047.015625,
          73089.609375,
          73111.21875,
          73120.4140625,
          73144.1875,
          73159.3125,
          73171.1015625,
          73179.9375,
          73196.6875,
          73212.9375,
          73220.59375,
          73229.046875,
          73245.5,
          73248.8671875,
          73277.1640625,
          73285.234375,
          73286.0390625,
          73311.875,
          73326.984375,
          73332.859375,
          73359.234375,
          73378.171875,
          73381,
          73393.8515625,
          73411.3984375,
          73429.640625,
          73441.671875,
          73474.59375,
          73484.5390625,
          73474.40625,
          73482.25,
          73508.453125,
          73548.1640625,
          73555,
          73561.375,
          73579.359375,
          73602.703125,
          73608.4375,
          73628.234375,
          73625.4375,
          73636.953125,
          73657.328125,
          73671.984375,
          73701.03125,
          73710.40625,
          73710.109375,
          73715.375,
          73716.8125,
          73726.671875,
          73723.28125,
          73733.078125,
          73721.40625,
          73740.046875,
          73747.3125,
          73749.03125,
          73762.53125,
          73765.375,
          73785.796875,
          73795.9375,
          73800.7890625,
          73812.78125,
          73831.5,
          73819.21875,
          73829.765625,
          73834.140625,
          73839.328125,
          73841.1015625,
          73852.5,
          73869.953125,
          73877.1875,
          73874.3203125,
          73876.203125,
          73889.203125,
          73886.625,
          73898.578125,
          73915.546875,
          73920.6875,
          73931.796875,
          73950.90625,
          73940.15625,
          73951.34375,
          73962.140625,
          73981.6875,
          74012.015625,
          74017.40625,
          74029.828125
         ],
         "yaxis": "y2"
        }
       ],
       "layout": {
        "height": 400,
        "legend": {
         "orientation": "h",
         "x": 0,
         "xanchor": "left",
         "y": 1,
         "yanchor": "bottom"
        },
        "template": {
         "data": {
          "bar": [
           {
            "error_x": {
             "color": "#2a3f5f"
            },
            "error_y": {
             "color": "#2a3f5f"
            },
            "marker": {
             "line": {
              "color": "#E5ECF6",
              "width": 0.5
             },
             "pattern": {
              "fillmode": "overlay",
              "size": 10,
              "solidity": 0.2
             }
            },
            "type": "bar"
           }
          ],
          "barpolar": [
           {
            "marker": {
             "line": {
              "color": "#E5ECF6",
              "width": 0.5
             },
             "pattern": {
              "fillmode": "overlay",
              "size": 10,
              "solidity": 0.2
             }
            },
            "type": "barpolar"
           }
          ],
          "carpet": [
           {
            "aaxis": {
             "endlinecolor": "#2a3f5f",
             "gridcolor": "white",
             "linecolor": "white",
             "minorgridcolor": "white",
             "startlinecolor": "#2a3f5f"
            },
            "baxis": {
             "endlinecolor": "#2a3f5f",
             "gridcolor": "white",
             "linecolor": "white",
             "minorgridcolor": "white",
             "startlinecolor": "#2a3f5f"
            },
            "type": "carpet"
           }
          ],
          "choropleth": [
           {
            "colorbar": {
             "outlinewidth": 0,
             "ticks": ""
            },
            "type": "choropleth"
           }
          ],
          "contour": [
           {
            "colorbar": {
             "outlinewidth": 0,
             "ticks": ""
            },
            "colorscale": [
             [
              0,
              "#0d0887"
             ],
             [
              0.1111111111111111,
              "#46039f"
             ],
             [
              0.2222222222222222,
              "#7201a8"
             ],
             [
              0.3333333333333333,
              "#9c179e"
             ],
             [
              0.4444444444444444,
              "#bd3786"
             ],
             [
              0.5555555555555556,
              "#d8576b"
             ],
             [
              0.6666666666666666,
              "#ed7953"
             ],
             [
              0.7777777777777778,
              "#fb9f3a"
             ],
             [
              0.8888888888888888,
              "#fdca26"
             ],
             [
              1,
              "#f0f921"
             ]
            ],
            "type": "contour"
           }
          ],
          "contourcarpet": [
           {
            "colorbar": {
             "outlinewidth": 0,
             "ticks": ""
            },
            "type": "contourcarpet"
           }
          ],
          "heatmap": [
           {
            "colorbar": {
             "outlinewidth": 0,
             "ticks": ""
            },
            "colorscale": [
             [
              0,
              "#0d0887"
             ],
             [
              0.1111111111111111,
              "#46039f"
             ],
             [
              0.2222222222222222,
              "#7201a8"
             ],
             [
              0.3333333333333333,
              "#9c179e"
             ],
             [
              0.4444444444444444,
              "#bd3786"
             ],
             [
              0.5555555555555556,
              "#d8576b"
             ],
             [
              0.6666666666666666,
              "#ed7953"
             ],
             [
              0.7777777777777778,
              "#fb9f3a"
             ],
             [
              0.8888888888888888,
              "#fdca26"
             ],
             [
              1,
              "#f0f921"
             ]
            ],
            "type": "heatmap"
           }
          ],
          "heatmapgl": [
           {
            "colorbar": {
             "outlinewidth": 0,
             "ticks": ""
            },
            "colorscale": [
             [
              0,
              "#0d0887"
             ],
             [
              0.1111111111111111,
              "#46039f"
             ],
             [
              0.2222222222222222,
              "#7201a8"
             ],
             [
              0.3333333333333333,
              "#9c179e"
             ],
             [
              0.4444444444444444,
              "#bd3786"
             ],
             [
              0.5555555555555556,
              "#d8576b"
             ],
             [
              0.6666666666666666,
              "#ed7953"
             ],
             [
              0.7777777777777778,
              "#fb9f3a"
             ],
             [
              0.8888888888888888,
              "#fdca26"
             ],
             [
              1,
              "#f0f921"
             ]
            ],
            "type": "heatmapgl"
           }
          ],
          "histogram": [
           {
            "marker": {
             "pattern": {
              "fillmode": "overlay",
              "size": 10,
              "solidity": 0.2
             }
            },
            "type": "histogram"
           }
          ],
          "histogram2d": [
           {
            "colorbar": {
             "outlinewidth": 0,
             "ticks": ""
            },
            "colorscale": [
             [
              0,
              "#0d0887"
             ],
             [
              0.1111111111111111,
              "#46039f"
             ],
             [
              0.2222222222222222,
              "#7201a8"
             ],
             [
              0.3333333333333333,
              "#9c179e"
             ],
             [
              0.4444444444444444,
              "#bd3786"
             ],
             [
              0.5555555555555556,
              "#d8576b"
             ],
             [
              0.6666666666666666,
              "#ed7953"
             ],
             [
              0.7777777777777778,
              "#fb9f3a"
             ],
             [
              0.8888888888888888,
              "#fdca26"
             ],
             [
              1,
              "#f0f921"
             ]
            ],
            "type": "histogram2d"
           }
          ],
          "histogram2dcontour": [
           {
            "colorbar": {
             "outlinewidth": 0,
             "ticks": ""
            },
            "colorscale": [
             [
              0,
              "#0d0887"
             ],
             [
              0.1111111111111111,
              "#46039f"
             ],
             [
              0.2222222222222222,
              "#7201a8"
             ],
             [
              0.3333333333333333,
              "#9c179e"
             ],
             [
              0.4444444444444444,
              "#bd3786"
             ],
             [
              0.5555555555555556,
              "#d8576b"
             ],
             [
              0.6666666666666666,
              "#ed7953"
             ],
             [
              0.7777777777777778,
              "#fb9f3a"
             ],
             [
              0.8888888888888888,
              "#fdca26"
             ],
             [
              1,
              "#f0f921"
             ]
            ],
            "type": "histogram2dcontour"
           }
          ],
          "mesh3d": [
           {
            "colorbar": {
             "outlinewidth": 0,
             "ticks": ""
            },
            "type": "mesh3d"
           }
          ],
          "parcoords": [
           {
            "line": {
             "colorbar": {
              "outlinewidth": 0,
              "ticks": ""
             }
            },
            "type": "parcoords"
           }
          ],
          "pie": [
           {
            "automargin": true,
            "type": "pie"
           }
          ],
          "scatter": [
           {
            "fillpattern": {
             "fillmode": "overlay",
             "size": 10,
             "solidity": 0.2
            },
            "type": "scatter"
           }
          ],
          "scatter3d": [
           {
            "line": {
             "colorbar": {
              "outlinewidth": 0,
              "ticks": ""
             }
            },
            "marker": {
             "colorbar": {
              "outlinewidth": 0,
              "ticks": ""
             }
            },
            "type": "scatter3d"
           }
          ],
          "scattercarpet": [
           {
            "marker": {
             "colorbar": {
              "outlinewidth": 0,
              "ticks": ""
             }
            },
            "type": "scattercarpet"
           }
          ],
          "scattergeo": [
           {
            "marker": {
             "colorbar": {
              "outlinewidth": 0,
              "ticks": ""
             }
            },
            "type": "scattergeo"
           }
          ],
          "scattergl": [
           {
            "marker": {
             "colorbar": {
              "outlinewidth": 0,
              "ticks": ""
             }
            },
            "type": "scattergl"
           }
          ],
          "scattermapbox": [
           {
            "marker": {
             "colorbar": {
              "outlinewidth": 0,
              "ticks": ""
             }
            },
            "type": "scattermapbox"
           }
          ],
          "scatterpolar": [
           {
            "marker": {
             "colorbar": {
              "outlinewidth": 0,
              "ticks": ""
             }
            },
            "type": "scatterpolar"
           }
          ],
          "scatterpolargl": [
           {
            "marker": {
             "colorbar": {
              "outlinewidth": 0,
              "ticks": ""
             }
            },
            "type": "scatterpolargl"
           }
          ],
          "scatterternary": [
           {
            "marker": {
             "colorbar": {
              "outlinewidth": 0,
              "ticks": ""
             }
            },
            "type": "scatterternary"
           }
          ],
          "surface": [
           {
            "colorbar": {
             "outlinewidth": 0,
             "ticks": ""
            },
            "colorscale": [
             [
              0,
              "#0d0887"
             ],
             [
              0.1111111111111111,
              "#46039f"
             ],
             [
              0.2222222222222222,
              "#7201a8"
             ],
             [
              0.3333333333333333,
              "#9c179e"
             ],
             [
              0.4444444444444444,
              "#bd3786"
             ],
             [
              0.5555555555555556,
              "#d8576b"
             ],
             [
              0.6666666666666666,
              "#ed7953"
             ],
             [
              0.7777777777777778,
              "#fb9f3a"
             ],
             [
              0.8888888888888888,
              "#fdca26"
             ],
             [
              1,
              "#f0f921"
             ]
            ],
            "type": "surface"
           }
          ],
          "table": [
           {
            "cells": {
             "fill": {
              "color": "#EBF0F8"
             },
             "line": {
              "color": "white"
             }
            },
            "header": {
             "fill": {
              "color": "#C8D4E3"
             },
             "line": {
              "color": "white"
             }
            },
            "type": "table"
           }
          ]
         },
         "layout": {
          "annotationdefaults": {
           "arrowcolor": "#2a3f5f",
           "arrowhead": 0,
           "arrowwidth": 1
          },
          "autotypenumbers": "strict",
          "coloraxis": {
           "colorbar": {
            "outlinewidth": 0,
            "ticks": ""
           }
          },
          "colorscale": {
           "diverging": [
            [
             0,
             "#8e0152"
            ],
            [
             0.1,
             "#c51b7d"
            ],
            [
             0.2,
             "#de77ae"
            ],
            [
             0.3,
             "#f1b6da"
            ],
            [
             0.4,
             "#fde0ef"
            ],
            [
             0.5,
             "#f7f7f7"
            ],
            [
             0.6,
             "#e6f5d0"
            ],
            [
             0.7,
             "#b8e186"
            ],
            [
             0.8,
             "#7fbc41"
            ],
            [
             0.9,
             "#4d9221"
            ],
            [
             1,
             "#276419"
            ]
           ],
           "sequential": [
            [
             0,
             "#0d0887"
            ],
            [
             0.1111111111111111,
             "#46039f"
            ],
            [
             0.2222222222222222,
             "#7201a8"
            ],
            [
             0.3333333333333333,
             "#9c179e"
            ],
            [
             0.4444444444444444,
             "#bd3786"
            ],
            [
             0.5555555555555556,
             "#d8576b"
            ],
            [
             0.6666666666666666,
             "#ed7953"
            ],
            [
             0.7777777777777778,
             "#fb9f3a"
            ],
            [
             0.8888888888888888,
             "#fdca26"
            ],
            [
             1,
             "#f0f921"
            ]
           ],
           "sequentialminus": [
            [
             0,
             "#0d0887"
            ],
            [
             0.1111111111111111,
             "#46039f"
            ],
            [
             0.2222222222222222,
             "#7201a8"
            ],
            [
             0.3333333333333333,
             "#9c179e"
            ],
            [
             0.4444444444444444,
             "#bd3786"
            ],
            [
             0.5555555555555556,
             "#d8576b"
            ],
            [
             0.6666666666666666,
             "#ed7953"
            ],
            [
             0.7777777777777778,
             "#fb9f3a"
            ],
            [
             0.8888888888888888,
             "#fdca26"
            ],
            [
             1,
             "#f0f921"
            ]
           ]
          },
          "colorway": [
           "#636efa",
           "#EF553B",
           "#00cc96",
           "#ab63fa",
           "#FFA15A",
           "#19d3f3",
           "#FF6692",
           "#B6E880",
           "#FF97FF",
           "#FECB52"
          ],
          "font": {
           "color": "#2a3f5f"
          },
          "geo": {
           "bgcolor": "white",
           "lakecolor": "white",
           "landcolor": "#E5ECF6",
           "showlakes": true,
           "showland": true,
           "subunitcolor": "white"
          },
          "hoverlabel": {
           "align": "left"
          },
          "hovermode": "closest",
          "mapbox": {
           "style": "light"
          },
          "paper_bgcolor": "white",
          "plot_bgcolor": "#E5ECF6",
          "polar": {
           "angularaxis": {
            "gridcolor": "white",
            "linecolor": "white",
            "ticks": ""
           },
           "bgcolor": "#E5ECF6",
           "radialaxis": {
            "gridcolor": "white",
            "linecolor": "white",
            "ticks": ""
           }
          },
          "scene": {
           "xaxis": {
            "backgroundcolor": "#E5ECF6",
            "gridcolor": "white",
            "gridwidth": 2,
            "linecolor": "white",
            "showbackground": true,
            "ticks": "",
            "zerolinecolor": "white"
           },
           "yaxis": {
            "backgroundcolor": "#E5ECF6",
            "gridcolor": "white",
            "gridwidth": 2,
            "linecolor": "white",
            "showbackground": true,
            "ticks": "",
            "zerolinecolor": "white"
           },
           "zaxis": {
            "backgroundcolor": "#E5ECF6",
            "gridcolor": "white",
            "gridwidth": 2,
            "linecolor": "white",
            "showbackground": true,
            "ticks": "",
            "zerolinecolor": "white"
           }
          },
          "shapedefaults": {
           "line": {
            "color": "#2a3f5f"
           }
          },
          "ternary": {
           "aaxis": {
            "gridcolor": "white",
            "linecolor": "white",
            "ticks": ""
           },
           "baxis": {
            "gridcolor": "white",
            "linecolor": "white",
            "ticks": ""
           },
           "bgcolor": "#E5ECF6",
           "caxis": {
            "gridcolor": "white",
            "linecolor": "white",
            "ticks": ""
           }
          },
          "title": {
           "x": 0.05
          },
          "xaxis": {
           "automargin": true,
           "gridcolor": "white",
           "linecolor": "white",
           "ticks": "",
           "title": {
            "standoff": 15
           },
           "zerolinecolor": "white",
           "zerolinewidth": 2
          },
          "yaxis": {
           "automargin": true,
           "gridcolor": "white",
           "linecolor": "white",
           "ticks": "",
           "title": {
            "standoff": 15
           },
           "zerolinecolor": "white",
           "zerolinewidth": 2
          }
         }
        },
        "title": {
         "text": "LLC / WBIC Trace"
        },
        "width": 600,
        "xaxis": {
         "anchor": "y",
         "domain": [
          0,
          0.94
         ],
         "title": {
          "text": "Draws"
         }
        },
        "yaxis": {
         "anchor": "x",
         "domain": [
          0,
          1
         ],
         "range": [
          0,
          null
         ],
         "title": {
          "text": "LLC"
         }
        },
        "yaxis2": {
         "anchor": "x",
         "overlaying": "y",
         "showgrid": false,
         "side": "right",
         "title": {
          "text": "WBIC"
         }
        }
       }
      },
      "text/html": [
       "<div>                            <div id=\"59c8d7ec-30a7-4547-ac24-97f9a00bcb38\" class=\"plotly-graph-div\" style=\"height:400px; width:600px;\"></div>            <script type=\"text/javascript\">                require([\"plotly\"], function(Plotly) {                    window.PLOTLYENV=window.PLOTLYENV || {};                                    if (document.getElementById(\"59c8d7ec-30a7-4547-ac24-97f9a00bcb38\")) {                    Plotly.newPlot(                        \"59c8d7ec-30a7-4547-ac24-97f9a00bcb38\",                        [{\"line\":{\"color\":\"rgb(200, 0, 0)\",\"width\":3},\"name\":\"ngd LLC\",\"y\":[0.6709481477737427,0.8194503784179688,1.1443431377410889,1.671525239944458,1.7494211196899414,1.9565393924713135,2.327019214630127,2.6648435592651367,2.858199119567871,3.3578295707702637,3.883847713470459,4.147827625274658,4.519807815551758,5.026095390319824,5.193238258361816,5.306549549102783,5.559739112854004,5.823321342468262,6.119722366333008,6.520936489105225,6.844509124755859,7.27761697769165,7.680123805999756,8.117801666259766,8.875604629516602,9.19610595703125,9.368358612060547,9.631723403930664,9.922761917114258,10.22174072265625,10.710010528564453,10.913457870483398,11.123167991638184,11.335965156555176,11.478782653808594,11.783815383911133,12.111400604248047,12.320592880249023,12.630230903625488,12.88534164428711,13.099733352661133,13.166278839111328,13.177658081054688,13.340957641601562,13.48817253112793,13.711466789245605,13.837376594543457,14.034031867980957,14.18224811553955,14.429391860961914,14.621434211730957,14.783791542053223,14.95991325378418,15.053621292114258,15.298974990844727,15.375361442565918,15.481424331665039,15.637040138244629,15.70975112915039,15.934423446655273,15.98099136352539,16.03793716430664,16.18250274658203,16.34467315673828,16.548297882080078,16.681629180908203,16.799575805664062,16.94614601135254,17.084671020507812,17.13385772705078,17.23870849609375,17.433530807495117,17.602554321289062,17.734458923339844,17.7618408203125,17.97809600830078,18.08746337890625,18.18004035949707,18.36450958251953,18.493003845214844,18.632722854614258,18.818262100219727,18.953155517578125,19.062814712524414,19.260684967041016,19.472505569458008,19.698009490966797,19.812545776367188,20.008880615234375,20.16891098022461,20.27719497680664,20.32437515258789,20.498477935791016,20.6375732421875,20.739078521728516,20.881689071655273,21.05349349975586,21.09188461303711,21.148258209228516,21.313270568847656,21.35605239868164,21.39220428466797,21.419065475463867,21.500009536743164,21.543407440185547,21.64402198791504,21.7008056640625,21.763580322265625,21.84004783630371,21.98038101196289,22.04586410522461,22.1175537109375,22.178680419921875,22.2098331451416,22.23711395263672,22.34536361694336,22.38006591796875,22.403648376464844,22.5107421875,22.53451156616211,22.597091674804688,22.642269134521484,22.69855499267578,22.716785430908203,22.74262237548828,22.833309173583984,22.876384735107422,22.98381805419922,23.06342124938965,23.12505340576172,23.158618927001953,23.25634002685547,23.324169158935547,23.40184211730957,23.477249145507812,23.572864532470703,23.612281799316406,23.632720947265625,23.71639633178711,23.870479583740234,23.969417572021484,24.170917510986328,24.238719940185547,24.31564712524414,24.327152252197266,24.38524627685547,24.47666358947754,24.52046775817871,24.562122344970703,24.63034439086914,24.67420768737793,24.724323272705078,24.799339294433594,24.85738754272461,24.86566734313965,24.922962188720703,24.98186492919922,25.03380584716797,25.044864654541016,25.047073364257812,25.124252319335938,25.11969566345215,25.21532440185547,25.270339965820312,25.297103881835938,25.36412811279297,25.469675064086914,25.58438491821289,25.685470581054688,25.77557945251465,25.835224151611328,25.91234588623047,25.96894073486328,26.094131469726562,26.185754776000977,26.28997802734375,26.433992385864258,26.550546646118164,26.612558364868164,26.65945053100586,26.736804962158203,26.79813003540039,26.877437591552734,26.963314056396484,27.00916290283203,27.114978790283203,27.16964340209961,27.23394012451172,27.28266143798828,27.3649959564209,27.40962791442871,27.51058578491211,27.52164077758789,27.57927703857422,27.637683868408203,27.738428115844727,27.79906463623047,27.877819061279297,27.93975067138672,28.016864776611328,28.042335510253906,28.14470100402832,28.171886444091797,28.269819259643555,28.349092483520508,28.449913024902344,28.512378692626953,28.57241439819336,28.65386962890625,28.71564483642578,28.78588104248047,28.84615135192871,28.921051025390625,28.992694854736328,29.05626678466797,29.071674346923828,29.135536193847656,29.21438217163086,29.292606353759766,29.34467124938965,29.421039581298828,29.47658348083496,29.53194808959961,29.578243255615234,29.63309097290039,29.69527816772461,29.74317741394043,29.76209259033203,29.840503692626953,29.900501251220703,29.992948532104492,30.068485260009766,30.08999252319336,30.14297103881836,30.16399383544922,30.227455139160156,30.264904022216797,30.278640747070312,30.297250747680664,30.297422409057617,30.3021297454834,30.32367515563965,30.382465362548828,30.437602996826172,30.525569915771484,30.584815979003906,30.626285552978516,30.648630142211914,30.67730712890625,30.730266571044922,30.748275756835938,30.76968765258789,30.794803619384766,30.776199340820312,30.80966567993164,30.889413833618164,30.918418884277344,30.94554901123047,30.958084106445312,31.001060485839844,31.058534622192383,31.106094360351562,31.1588134765625,31.1964111328125,31.232894897460938,31.24995994567871,31.276077270507812,31.319692611694336,31.34954071044922,31.40047836303711,31.449153900146484,31.4978084564209,31.548213958740234,31.57843017578125,31.608776092529297,31.627059936523438,31.647207260131836,31.70431137084961,31.73093032836914,31.802955627441406,31.826263427734375,31.871379852294922,31.929744720458984,31.980792999267578,32.00171661376953,32.04331970214844,32.079986572265625,32.105865478515625,32.09695816040039,32.11146545410156,32.16260528564453,32.19480895996094,32.21186828613281,32.22686004638672,32.21072006225586,32.230140686035156,32.259979248046875,32.305213928222656,32.31986999511719,32.34900665283203,32.36491394042969,32.37371826171875,32.451175689697266,32.4627685546875,32.52198028564453,32.53788757324219,32.569908142089844,32.591102600097656,32.61915588378906,32.65770721435547,32.705448150634766,32.72822189331055,32.76750183105469,32.76599884033203,32.7829704284668,32.807891845703125,32.81724548339844,32.826416015625,32.849151611328125,32.856292724609375,32.85322952270508,32.84888458251953,32.86700439453125,32.86600112915039,32.87214279174805,32.90509796142578,32.92472839355469,32.95447540283203,32.987674713134766,32.994441986083984,33.000213623046875,33.035823822021484,33.05522155761719,33.091697692871094,33.13031005859375,33.16768264770508,33.19721221923828,33.22652053833008,33.262718200683594,33.27923583984375,33.31095504760742,33.347312927246094,33.37216567993164,33.378936767578125,33.3939208984375,33.418434143066406,33.44655227661133,33.47405242919922,33.49939727783203,33.52475357055664,33.538509368896484,33.54676055908203,33.53009033203125,33.54426956176758,33.54899215698242,33.58998489379883,33.59363555908203,33.614105224609375,33.63072204589844,33.64900588989258,33.658782958984375,33.66828918457031,33.69084167480469,33.70184326171875,33.716827392578125,33.75313186645508,33.75836944580078,33.75476837158203,33.780242919921875,33.81867218017578,33.850685119628906,33.88288879394531,33.876983642578125,33.87080001831055,33.88664245605469,33.878990173339844,33.88257598876953,33.903297424316406,33.92713928222656,33.94390869140625,33.948394775390625,33.95732116699219,33.960025787353516,33.974273681640625,33.982627868652344,33.99639892578125,34.007667541503906,34.026710510253906,34.04261016845703,34.056121826171875,34.06222152709961,34.05731964111328,34.08110046386719,34.09842300415039,34.11054611206055,34.1168212890625,34.111839294433594,34.114097595214844,34.129539489746094,34.13274002075195,34.131385803222656,34.15165710449219,34.17560958862305,34.18729782104492,34.198402404785156,34.224761962890625,34.24352264404297,34.26438903808594,34.27049255371094,34.275230407714844,34.302608489990234,34.32331085205078,34.341217041015625,34.33966064453125,34.35546112060547,34.36570739746094,34.38555145263672,34.41128158569336,34.425010681152344,34.45481872558594,34.478153228759766,34.51203155517578,34.53974151611328,34.54064178466797,34.549285888671875,34.55706787109375,34.56441116333008,34.58020782470703,34.59420394897461,34.60988998413086,34.629661560058594,34.65387725830078,34.672828674316406,34.68376922607422,34.68681716918945,34.71453094482422,34.71773910522461,34.737632751464844,34.74390411376953,34.74323272705078,34.75535202026367,34.76415252685547,34.771629333496094,34.81398010253906,34.846885681152344,34.85252380371094,34.84595489501953,34.85133361816406,34.873207092285156,34.86677932739258,34.882381439208984,34.88957977294922,34.90937042236328,34.94761657714844,34.97897720336914,35.00137710571289,35.02405548095703,35.03057098388672,35.06389617919922,35.087440490722656,35.08794403076172,35.10771560668945,35.125244140625,35.12605667114258,35.12724304199219,35.12333679199219,35.142967224121094,35.130279541015625,35.117218017578125,35.13392639160156,35.129661560058594,35.14771270751953,35.15658950805664,35.16511535644531,35.184303283691406,35.17552185058594,35.204254150390625,35.22053527832031,35.24629211425781,35.25552749633789,35.24964904785156,35.245513916015625,35.24596405029297,35.25481414794922,35.26739501953125,35.284027099609375,35.30706787109375,35.31869125366211,35.32945251464844,35.354949951171875,35.36019515991211,35.359100341796875,35.3509521484375,35.39117431640625,35.40740966796875,35.407936096191406,35.422393798828125,35.42675018310547,35.43166732788086,35.44697189331055,35.44340515136719,35.44462966918945,35.444129943847656,35.44834518432617,35.449188232421875,35.44880676269531,35.463321685791016,35.48744201660156,35.503456115722656,35.48429870605469,35.47697067260742,35.47388458251953,35.486900329589844,35.5084228515625,35.520774841308594,35.52644348144531,35.531700134277344,35.52036666870117,35.51667785644531,35.5369873046875,35.548221588134766,35.543006896972656,35.5576171875,35.56941604614258,35.58498001098633,35.58473587036133,35.5869255065918,35.602561950683594,35.65077209472656,35.66685485839844,35.68830871582031,35.70587921142578,35.72325134277344,35.733543395996094,35.746673583984375,35.77469253540039,35.78816223144531,35.80503845214844,35.81079864501953,35.82197570800781,35.82638931274414,35.84868240356445,35.851356506347656,35.84465789794922,35.85630416870117,35.872337341308594,35.86884689331055,35.89218521118164,35.88673400878906,35.924354553222656,35.928749084472656,35.93853759765625,35.9420280456543,35.95191192626953,35.96630859375,35.99475860595703,36.00096130371094,36.012107849121094,36.02448654174805,36.03641128540039,36.0498046875,36.06818389892578,36.081573486328125,36.1029052734375,36.112857818603516,36.136070251464844,36.15895462036133,36.17320251464844,36.19218063354492,36.20567321777344,36.21357727050781,36.20460510253906,36.214683532714844,36.225364685058594,36.23712921142578,36.24217987060547,36.2545166015625,36.279945373535156,36.29966354370117,36.32843017578125,36.341285705566406,36.351043701171875,36.348297119140625,36.366981506347656,36.38758850097656,36.391868591308594,36.38509750366211,36.39515686035156,36.40364456176758,36.41535186767578,36.41722106933594,36.4395751953125,36.45301055908203,36.45478820800781,36.470611572265625,36.478511810302734,36.47993850708008,36.483917236328125,36.49070739746094,36.498023986816406,36.495506286621094,36.504554748535156,36.523658752441406,36.53070068359375,36.53515625,36.544212341308594,36.56572723388672,36.58491516113281,36.60485076904297,36.6197509765625,36.63703918457031,36.645477294921875,36.659423828125,36.65449142456055,36.652320861816406,36.66986083984375,36.681175231933594,36.68510437011719,36.69300079345703,36.70755386352539,36.70537567138672,36.71052551269531,36.72665786743164,36.72516632080078,36.72814178466797,36.74932861328125,36.747459411621094,36.766902923583984,36.783992767333984,36.79589080810547,36.814064025878906,36.821922302246094,36.820152282714844,36.83142852783203,36.8472785949707,36.85774612426758,36.88920593261719,36.89299011230469,36.88996124267578,36.90167999267578,36.905609130859375,36.91201400756836,36.93248748779297,36.94102478027344,36.95402145385742,36.96563720703125,36.97616195678711,36.98247528076172,36.98109436035156,36.981895446777344,36.9951171875,37.00604248046875,37.01448440551758,37.0094108581543,37.01656723022461,37.01905059814453,37.033470153808594,37.039241790771484,37.05202102661133,37.05743408203125,37.062721252441406,37.06178283691406,37.070709228515625,37.087440490722656,37.1024169921875,37.09600067138672,37.095420837402344,37.09132385253906,37.09251403808594,37.096370697021484,37.118553161621094,37.12168884277344,37.138343811035156,37.160457611083984,37.17261505126953,37.18407440185547,37.205543518066406,37.2166748046875,37.2132568359375,37.23004913330078,37.23557662963867,37.246070861816406,37.26374053955078,37.275787353515625,37.275550842285156,37.276268005371094,37.276832580566406,37.28260803222656,37.27680206298828,37.285743713378906,37.304527282714844,37.31959533691406,37.34074783325195,37.3411750793457,37.33946990966797,37.33919143676758,37.348567962646484,37.35906982421875,37.370689392089844,37.385372161865234,37.411399841308594,37.424705505371094,37.435546875,37.434871673583984,37.44182586669922,37.44886779785156,37.462890625,37.46731185913086,37.463470458984375,37.45619583129883,37.455963134765625,37.46846389770508,37.47358703613281,37.518798828125,37.54438781738281,37.552345275878906,37.562660217285156,37.57058334350586,37.566795349121094,37.58783721923828,37.591121673583984,37.587188720703125,37.589698791503906,37.587799072265625,37.59706115722656,37.60337448120117,37.60694885253906,37.608604431152344,37.618064880371094,37.62616729736328,37.637725830078125,37.63629150390625,37.638084411621094,37.64541244506836,37.65614318847656,37.65735626220703,37.658599853515625,37.66128158569336,37.65630340576172,37.66383743286133,37.657005310058594,37.66798400878906,37.658653259277344,37.65856170654297,37.65713882446289,37.65378189086914,37.65686798095703,37.6556510925293,37.64871597290039,37.635719299316406,37.642906188964844,37.661643981933594,37.654327392578125,37.66526794433594,37.66868209838867,37.66514205932617,37.67706298828125,37.67416000366211,37.670867919921875,37.671661376953125,37.68425369262695,37.681358337402344,37.680389404296875,37.66685104370117,37.66212844848633,37.6556396484375,37.660728454589844,37.65965270996094,37.66694641113281,37.67247772216797,37.660804748535156,37.664405822753906,37.66278076171875,37.66911315917969,37.672706604003906,37.67817306518555,37.67683410644531,37.673866271972656,37.681053161621094,37.692466735839844,37.68609619140625,37.688316345214844,37.68840789794922,37.68577575683594,37.685546875,37.685760498046875,37.689491271972656,37.6929817199707,37.68136215209961,37.68138885498047,37.67224884033203,37.673179626464844,37.67158508300781,37.667877197265625,37.66802978515625,37.669700622558594,37.67278289794922,37.6700553894043,37.67912292480469,37.67778015136719,37.67567443847656,37.67392349243164,37.68416976928711,37.688201904296875,37.689727783203125,37.692535400390625,37.691734313964844,37.69322204589844,37.69242858886719,37.69219207763672,37.697044372558594,37.69831848144531,37.698421478271484,37.698280334472656,37.69940185546875,37.699764251708984,37.701637268066406,37.6922721862793,37.69770050048828,37.69721984863281,37.70585632324219,37.7048225402832,37.709815979003906,37.70831298828125,37.70923614501953,37.70863342285156,37.705814361572266,37.70357894897461,37.7056770324707,37.70641326904297,37.71011734008789,37.7114143371582,37.712379455566406,37.717926025390625,37.72282409667969,37.72632598876953,37.72089385986328,37.723541259765625,37.72586441040039,37.739097595214844,37.74478530883789,37.74156951904297,37.74546813964844,37.74976348876953,37.74871826171875,37.75054168701172,37.75109100341797,37.75456237792969,37.764747619628906,37.764095306396484,37.75571060180664,37.75986099243164,37.75743865966797,37.76331329345703,37.768096923828125,37.76829528808594,37.77235794067383,37.76605987548828,37.765602111816406,37.77386474609375,37.77250289916992,37.78261947631836,37.78324890136719,37.782814025878906,37.78296661376953,37.776092529296875,37.77618408203125,37.78131103515625,37.77827835083008,37.763816833496094,37.767059326171875,37.76862335205078,37.777549743652344,37.77937316894531,37.78453063964844,37.7888069152832,37.78654098510742,37.778228759765625,37.77684783935547,37.786773681640625,37.79402160644531,37.798431396484375,37.7921028137207,37.79814147949219,37.798484802246094,37.799232482910156,37.80140686035156,37.805423736572266,37.816009521484375,37.825889587402344,37.83110046386719,37.83747863769531,37.829959869384766,37.825538635253906,37.82587432861328,37.84067916870117,37.83892822265625,37.8415412902832,37.85429382324219,37.845157623291016,37.85051727294922,37.85292053222656,37.855812072753906,37.85377502441406,37.8597412109375,37.85809326171875,37.858787536621094,37.855403900146484,37.858001708984375,37.86245346069336,37.87208557128906,37.87152099609375,37.886878967285156,37.893428802490234,37.897457122802734,37.90978240966797,37.910823822021484,37.913307189941406,37.92031478881836,37.92455291748047,37.92664337158203,37.93016815185547,37.936317443847656,37.94158935546875,37.9382438659668,37.95030975341797,37.94285583496094,37.95582962036133,37.96065139770508,37.97010040283203,37.982688903808594,37.987030029296875,37.98933410644531,37.996212005615234,37.99641418457031,38.01674270629883,38.03257369995117,38.03715133666992,38.037132263183594,38.043556213378906,38.04988098144531,38.056373596191406,38.06262969970703,38.05933380126953,38.064231872558594,38.075443267822266,38.081668853759766,38.08890914916992,38.090084075927734,38.08772277832031,38.08858871459961,38.09845733642578,38.11048126220703,38.11908721923828,38.11642837524414,38.13311767578125,38.14726638793945,38.151336669921875,38.150997161865234,38.16515350341797,38.16535949707031,38.16358184814453,38.1751708984375,38.18973922729492,38.197044372558594,38.20081329345703,38.19071960449219,38.1871337890625,38.187564849853516,38.189064025878906,38.194210052490234,38.198486328125,38.19297790527344,38.19637680053711,38.19173812866211,38.197021484375,38.194557189941406,38.19313430786133,38.190345764160156,38.1898078918457,38.1916618347168,38.19969177246094,38.20233154296875,38.213775634765625,38.21965789794922,38.23387145996094,38.23769760131836,38.2443733215332,38.2623176574707,38.263771057128906,38.26582336425781,38.265113830566406,38.275726318359375,38.279884338378906,38.2806396484375,38.28662872314453,38.29088592529297,38.291465759277344,38.29243850708008,38.2979736328125],\"type\":\"scatter\",\"xaxis\":\"x\",\"yaxis\":\"y\"},{\"line\":{\"color\":\"rgb(200, 0, 0)\",\"dash\":\"dash\",\"width\":6},\"name\":\"ngd WBIC\",\"y\":[6327.705078125,6665.45654296875,7404.388671875,8603.40625,8780.572265625,9251.638671875,10094.25390625,10862.599609375,11302.365234375,12438.71875,13635.0888671875,14235.482421875,15081.509765625,16233.005859375,16613.15234375,16870.8671875,17446.71875,18046.20703125,18720.33984375,19632.85546875,20368.78515625,21353.83984375,22269.294921875,23264.74609375,24988.28515625,25717.2265625,26109.0,26707.9921875,27369.92578125,28049.919921875,29160.4375,29623.15234375,30100.115234375,30584.09765625,30908.91796875,31602.68359375,32347.73828125,32823.5234375,33527.765625,34107.98046875,34595.59375,34746.9453125,34772.828125,35144.234375,35479.0625,35986.921875,36273.2890625,36720.5546875,37057.65625,37619.765625,38056.5390625,38425.8046875,38826.375,39039.5,39597.53125,39771.265625,40012.49609375,40366.4296875,40531.796875,41042.7890625,41148.703125,41278.2265625,41607.0234375,41975.86328125,42438.98046875,42742.2265625,43010.4921875,43343.84765625,43658.90625,43770.78125,44009.25,44452.35546875,44836.78125,45136.78125,45199.05859375,45690.90625,45939.65234375,46150.2109375,46569.765625,46862.0,47179.78125,47601.7734375,47908.5703125,48157.9765625,48608.0078125,49089.7734375,49602.65625,49863.1484375,50309.6953125,50673.66796875,50919.9453125,51027.25,51423.2265625,51739.5859375,51970.4453125,52294.7890625,52685.546875,52772.859375,52901.0703125,53276.375,53373.6796875,53455.8984375,53516.9921875,53701.09375,53799.796875,54028.625,54157.77734375,54300.546875,54474.46875,54793.640625,54942.578125,55105.62890625,55244.65625,55315.5,55377.546875,55623.75,55702.6640625,55756.3046875,55999.875,56053.9296875,56196.265625,56299.015625,56427.03515625,56468.50390625,56527.26171875,56733.515625,56831.4921875,57075.8359375,57256.8828125,57397.0625,57473.3984375,57695.65625,57849.9296875,58026.59375,58198.09375,58415.56640625,58505.2109375,58551.703125,58742.0078125,59092.453125,59317.4765625,59775.765625,59929.9765625,60104.9375,60131.109375,60263.234375,60471.15625,60570.78515625,60665.515625,60820.68359375,60920.453125,61034.421875,61205.03125,61337.0625,61355.890625,61486.203125,61620.1796875,61738.3046875,61763.4609375,61768.48828125,61944.01953125,61933.65625,62151.1484375,62276.28125,62337.15625,62489.59765625,62729.64453125,62990.546875,63220.453125,63425.3984375,63561.05859375,63736.4609375,63865.1796875,64149.90625,64358.30078125,64595.3359375,64922.8828125,65187.97265625,65329.0078125,65435.6640625,65611.59375,65751.078125,65931.453125,66126.765625,66231.046875,66471.71875,66596.046875,66742.28125,66853.09375,67040.359375,67141.8671875,67371.484375,67396.6328125,67527.734375,67660.5625,67889.6953125,68027.609375,68206.734375,68347.578125,68522.96875,68580.90625,68813.734375,68875.5625,69098.296875,69278.59375,69507.8984375,69649.96875,69786.515625,69971.78125,70112.2734375,70272.015625,70409.09375,70579.453125,70742.390625,70886.984375,70922.03125,71067.28125,71246.609375,71424.53125,71542.9453125,71716.640625,71842.9609375,71968.875,72074.15625,72198.90625,72340.34375,72449.2890625,72492.3046875,72670.640625,72807.09375,73017.359375,73189.15625,73238.0625,73358.5625,73406.375,73550.7109375,73635.890625,73667.125,73709.453125,73709.84375,73720.546875,73769.546875,73903.2734375,74028.6875,74228.7578125,74363.5078125,74457.828125,74508.6484375,74573.8828125,74694.328125,74735.28125,74783.984375,74841.1015625,74798.796875,74874.90625,75056.28125,75122.25,75183.953125,75212.46875,75310.21875,75440.9375,75549.1015625,75669.0,75754.5078125,75837.484375,75876.296875,75935.703125,76034.890625,76102.78125,76218.640625,76329.34375,76440.0,76554.640625,76623.359375,76692.3828125,76733.96875,76779.7890625,76909.65625,76970.203125,77134.015625,77187.03125,77289.640625,77422.390625,77538.5,77586.078125,77680.703125,77764.09375,77822.9375,77802.6875,77835.671875,77951.984375,78025.25,78064.0390625,78098.1328125,78061.4375,78105.59375,78173.46875,78276.34375,78309.6796875,78375.9453125,78412.125,78432.15625,78608.3125,78634.671875,78769.3515625,78805.53125,78878.359375,78926.546875,78990.3515625,79078.03125,79186.6171875,79238.421875,79327.75,79324.34375,79362.9375,79419.609375,79440.890625,79461.7421875,79513.453125,79529.6875,79522.734375,79512.8515625,79554.078125,79551.78125,79565.75,79640.703125,79685.3515625,79753.0,79828.5078125,79843.90625,79857.046875,79938.03125,79982.15625,80065.09375,80152.921875,80237.921875,80305.078125,80371.734375,80454.0703125,80491.640625,80563.78125,80646.46875,80702.9921875,80718.390625,80752.484375,80808.21875,80872.171875,80934.71875,80992.3671875,81050.03125,81081.328125,81100.09375,81062.1875,81094.421875,81105.171875,81198.40625,81206.703125,81253.265625,81291.0546875,81332.6484375,81354.8828125,81376.515625,81427.796875,81452.8125,81486.8984375,81569.4609375,81581.375,81573.1953125,81631.125,81718.53125,81791.328125,81864.578125,81851.140625,81837.09375,81873.1171875,81855.7109375,81863.859375,81910.9921875,81965.21875,82003.359375,82013.5625,82033.859375,82040.015625,82072.421875,82091.421875,82122.734375,82148.375,82191.6953125,82227.84375,82258.578125,82272.453125,82261.296875,82315.390625,82354.78125,82382.359375,82396.640625,82385.3125,82390.453125,82425.5703125,82432.84375,82429.765625,82475.8671875,82530.3515625,82556.9375,82582.1796875,82642.140625,82684.8125,82732.2578125,82746.140625,82756.90625,82819.171875,82866.2578125,82906.984375,82903.4375,82939.3671875,82962.6875,83007.8125,83066.328125,83097.5625,83165.34375,83218.421875,83295.46875,83358.484375,83360.5234375,83380.1875,83397.890625,83414.6015625,83450.515625,83482.359375,83518.03125,83563.0,83618.0625,83661.171875,83686.046875,83692.984375,83756.015625,83763.328125,83808.578125,83822.828125,83821.3125,83848.8671875,83868.875,83885.890625,83982.203125,84057.0390625,84069.859375,84054.921875,84067.1484375,84116.90625,84102.28125,84137.765625,84154.125,84199.15625,84286.125,84357.46875,84408.40625,84459.984375,84474.796875,84550.5859375,84604.1484375,84605.28125,84650.2578125,84690.1328125,84691.984375,84694.671875,84685.796875,84730.4453125,84701.578125,84671.875,84709.875,84700.171875,84741.234375,84761.421875,84780.8125,84824.4765625,84804.4765625,84869.828125,84906.875,84965.453125,84986.4609375,84973.09375,84963.671875,84964.703125,84984.828125,85013.4375,85051.28125,85103.6875,85130.1171875,85154.59375,85212.578125,85224.5,85222.0078125,85203.46875,85294.9609375,85331.875,85333.0859375,85365.96875,85375.8828125,85387.0703125,85421.875,85413.75,85416.546875,85415.3984375,85424.9921875,85426.921875,85426.03125,85459.046875,85513.90625,85550.328125,85506.75,85490.09375,85483.0625,85512.671875,85561.625,85589.71875,85602.609375,85614.5703125,85588.796875,85580.3984375,85626.5859375,85652.15625,85640.296875,85673.53125,85700.359375,85735.7578125,85735.203125,85740.1875,85775.7421875,85885.3984375,85921.96875,85970.765625,86010.734375,86050.234375,86073.640625,86103.5,86167.234375,86197.875,86236.2578125,86249.359375,86274.7734375,86284.8125,86335.515625,86341.59375,86326.3671875,86352.8515625,86389.3125,86381.375,86434.4609375,86422.0625,86507.625,86517.6171875,86539.8828125,86547.8046875,86570.296875,86603.03125,86667.75,86681.84375,86707.203125,86735.3515625,86762.4765625,86792.9375,86834.75,86865.1953125,86913.71875,86936.359375,86989.15625,87041.203125,87073.609375,87116.765625,87147.4453125,87165.421875,87145.03125,87167.9375,87192.234375,87218.9921875,87230.46875,87258.53125,87316.359375,87361.2109375,87426.6328125,87455.875,87478.0625,87471.8125,87514.296875,87561.171875,87570.90625,87555.515625,87578.3984375,87597.7109375,87624.328125,87628.59375,87679.421875,87709.984375,87714.03125,87750.015625,87767.984375,87771.234375,87780.28125,87795.734375,87812.375,87806.640625,87827.2109375,87870.671875,87886.6875,87896.8203125,87917.421875,87966.3515625,88009.9921875,88055.328125,88089.2265625,88128.546875,88147.734375,88179.453125,88168.234375,88163.296875,88203.203125,88228.9375,88237.859375,88255.8125,88288.921875,88283.96875,88295.671875,88332.375,88328.984375,88335.765625,88383.953125,88379.703125,88423.921875,88462.78125,88489.84375,88531.171875,88549.046875,88545.0234375,88570.65625,88606.71875,88630.5234375,88702.078125,88710.6875,88703.796875,88730.4609375,88739.390625,88753.9609375,88800.5078125,88819.9453125,88849.484375,88875.90625,88899.8515625,88914.21875,88911.0625,88912.8984375,88942.96875,88967.8125,88987.015625,88975.46875,88991.7421875,88997.40625,89030.1875,89043.3125,89072.375,89084.6875,89096.734375,89094.578125,89114.8828125,89152.9375,89187.015625,89172.4140625,89171.0859375,89161.78125,89164.4765625,89173.25,89223.703125,89230.828125,89268.7109375,89319.0,89346.65625,89372.7265625,89421.5546875,89446.875,89439.109375,89477.296875,89489.875,89513.7421875,89553.921875,89581.328125,89580.7890625,89582.4296875,89583.7109375,89596.84375,89583.640625,89603.96875,89646.6875,89680.953125,89729.0703125,89730.03125,89726.15625,89725.5234375,89746.8515625,89770.734375,89797.1484375,89830.546875,89889.7421875,89920.015625,89944.6640625,89943.125,89958.9453125,89974.96875,90006.859375,90016.921875,90008.1875,89991.6328125,89991.1015625,90019.5390625,90031.1953125,90134.015625,90192.21875,90210.3203125,90233.765625,90251.796875,90243.1796875,90291.0390625,90298.5078125,90289.5625,90295.265625,90290.953125,90312.015625,90326.359375,90334.5078125,90338.265625,90359.7734375,90378.2109375,90404.4921875,90401.234375,90405.3125,90421.984375,90446.3828125,90449.140625,90451.96875,90458.0625,90446.734375,90463.875,90448.34375,90473.3125,90452.09375,90451.8984375,90448.65625,90441.015625,90448.0390625,90445.265625,90429.484375,90399.921875,90416.2734375,90458.8984375,90442.25,90467.140625,90474.90625,90466.8515625,90493.953125,90487.3515625,90479.859375,90481.65625,90510.296875,90503.7265625,90501.515625,90470.734375,90459.984375,90445.21875,90456.796875,90454.3515625,90470.9375,90483.53125,90456.96875,90465.15625,90461.4609375,90475.859375,90484.046875,90496.4765625,90493.4296875,90486.671875,90503.015625,90528.96875,90514.4765625,90519.53125,90519.7421875,90513.75,90513.234375,90513.7265625,90522.2109375,90530.15625,90503.71875,90503.7890625,90483.0,90485.1171875,90481.484375,90473.0546875,90473.40625,90477.203125,90484.21875,90478.015625,90498.640625,90495.59375,90490.796875,90486.8125,90510.1171875,90519.2890625,90522.7578125,90529.1484375,90527.328125,90530.703125,90528.90625,90528.359375,90539.3984375,90542.296875,90542.53125,90542.2109375,90544.765625,90545.5859375,90549.84375,90528.546875,90540.8671875,90539.78125,90559.4296875,90557.0703125,90568.4296875,90565.015625,90567.1015625,90565.734375,90559.3203125,90554.234375,90559.0,90560.6875,90569.109375,90572.046875,90574.2421875,90586.859375,90598.0,90605.96875,90593.6171875,90599.625,90604.921875,90635.015625,90647.953125,90640.640625,90649.515625,90659.28125,90656.8984375,90661.046875,90662.2890625,90670.1875,90693.359375,90691.875,90672.8125,90682.2421875,90676.7421875,90690.109375,90700.9921875,90701.4453125,90710.671875,90696.3515625,90695.3125,90714.109375,90711.0078125,90734.015625,90735.453125,90734.46875,90734.8046875,90719.171875,90719.3828125,90731.046875,90724.1484375,90691.2734375,90698.640625,90702.203125,90722.5,90726.6484375,90738.3671875,90748.109375,90742.953125,90724.046875,90720.90625,90743.484375,90759.9609375,90769.9921875,90755.59375,90769.328125,90770.109375,90771.8125,90776.765625,90785.8984375,90809.96875,90832.4375,90844.2890625,90858.796875,90841.6875,90831.6328125,90832.3984375,90866.0703125,90862.09375,90868.03125,90897.046875,90876.2578125,90888.453125,90893.921875,90900.4921875,90895.859375,90909.421875,90905.671875,90907.25,90899.5625,90905.46875,90915.59375,90937.4921875,90936.2109375,90971.140625,90986.03125,90995.203125,91023.234375,91025.609375,91031.265625,91047.203125,91056.859375,91061.6015625,91069.625,91083.6015625,91095.6015625,91087.984375,91115.4375,91098.484375,91128.0,91138.96875,91160.4609375,91189.078125,91198.953125,91204.203125,91219.8515625,91220.296875,91266.5390625,91302.5390625,91312.9453125,91312.90625,91327.515625,91341.90625,91356.6640625,91370.8984375,91363.3984375,91374.53125,91400.03125,91414.203125,91430.65625,91433.34375,91427.96875,91429.9375,91452.375,91479.7265625,91499.3125,91493.2578125,91531.2265625,91563.390625,91572.640625,91571.875,91604.0625,91604.515625,91600.46875,91626.828125,91659.953125,91676.5625,91685.140625,91662.171875,91654.03125,91655.015625,91658.40625,91670.109375,91679.84375,91667.3125,91675.0390625,91664.5,91676.5078125,91670.90625,91667.671875,91661.3125,91660.109375,91664.3359375,91682.5859375,91688.59375,91714.625,91727.984375,91760.328125,91769.0234375,91784.1953125,91825.0078125,91828.3125,91832.984375,91831.390625,91855.515625,91864.9765625,91866.703125,91880.328125,91890.0,91891.3125,91893.53125,91906.125],\"type\":\"scatter\",\"xaxis\":\"x\",\"yaxis\":\"y2\"},{\"line\":{\"color\":\"rgb(32, 102, 168)\",\"width\":3},\"name\":\"sgd LLC\",\"y\":[-0.138407900929451,-0.40950003266334534,0.021638236939907074,0.19583278894424438,0.5178852081298828,0.4641651213169098,0.7499846816062927,1.0470818281173706,1.2158788442611694,1.5043917894363403,2.0613508224487305,2.094714403152466,2.4663920402526855,2.620098114013672,3.0035862922668457,3.105466604232788,3.3516297340393066,3.566823959350586,3.8985702991485596,4.0446085929870605,4.447071075439453,4.439566612243652,4.74774694442749,5.08843994140625,5.3051018714904785,5.40865421295166,5.597634792327881,5.76129150390625,6.028497695922852,6.189732551574707,6.298983573913574,6.559469223022461,6.619580268859863,6.769913196563721,6.965023517608643,7.169775009155273,7.356125831604004,7.558127403259277,7.647563934326172,7.712225914001465,8.026007652282715,8.172374725341797,8.336094856262207,8.403326034545898,8.601758003234863,8.65400505065918,8.697501182556152,8.732207298278809,8.785276412963867,8.828485488891602,8.851618766784668,8.916278839111328,9.057130813598633,9.156417846679688,9.357301712036133,9.44163703918457,9.514076232910156,9.625064849853516,9.719985961914062,9.801458358764648,9.856819152832031,9.945940017700195,10.056278228759766,10.159236907958984,10.25648307800293,10.319899559020996,10.334632873535156,10.447694778442383,10.509096145629883,10.494607925415039,10.533295631408691,10.586254119873047,10.654980659484863,10.741936683654785,10.844949722290039,10.857511520385742,10.988916397094727,11.031760215759277,11.130311965942383,11.259696006774902,11.354061126708984,11.389978408813477,11.473359107971191,11.531732559204102,11.605443954467773,11.708547592163086,11.789846420288086,11.898157119750977,11.985916137695312,12.099130630493164,12.170072555541992,12.292926788330078,12.398918151855469,12.548227310180664,12.677757263183594,12.803274154663086,12.849431991577148,12.999887466430664,13.105283737182617,13.251237869262695,13.3184175491333,13.431209564208984,13.578056335449219,13.72201919555664,13.836078643798828,13.933258056640625,14.022777557373047,14.078739166259766,14.162220001220703,14.278060913085938,14.39843463897705,14.47115707397461,14.576362609863281,14.663252830505371,14.764568328857422,14.839184761047363,14.96396255493164,15.050994873046875,15.097997665405273,15.184540748596191,15.221295356750488,15.281352996826172,15.350761413574219,15.420248031616211,15.53390884399414,15.578584671020508,15.60539436340332,15.662081718444824,15.756118774414062,15.776483535766602,15.85169792175293,15.852154731750488,15.90536880493164,15.930692672729492,15.997297286987305,16.006526947021484,16.01512336730957,16.124401092529297,16.119497299194336,16.115976333618164,16.124717712402344,16.16942596435547,16.204504013061523,16.24617576599121,16.300859451293945,16.400049209594727,16.498008728027344,16.59564971923828,16.633548736572266,16.686847686767578,16.825149536132812,16.911178588867188,17.004032135009766,17.061017990112305,17.122604370117188,17.17234992980957,17.19283103942871,17.254230499267578,17.297386169433594,17.329864501953125,17.33758544921875,17.413272857666016,17.506919860839844,17.573566436767578,17.648595809936523,17.721542358398438,17.77597427368164,17.803573608398438,17.836790084838867,17.86608123779297,17.969284057617188,18.07159996032715,18.151817321777344,18.20260238647461,18.260587692260742,18.332897186279297,18.39459991455078,18.446365356445312,18.532142639160156,18.603572845458984,18.635028839111328,18.658802032470703,18.670652389526367,18.756168365478516,18.78567123413086,18.791976928710938,18.82025909423828,18.86445426940918,18.90234375,18.883071899414062,18.89038848876953,18.920513153076172,18.99944305419922,19.02276611328125,19.03652572631836,19.06659698486328,19.092042922973633,19.078933715820312,19.10601806640625,19.15317153930664,19.166210174560547,19.22974395751953,19.26110076904297,19.3101749420166,19.33426284790039,19.37664222717285,19.41204261779785,19.450571060180664,19.479324340820312,19.492488861083984,19.546573638916016,19.55899429321289,19.575828552246094,19.638324737548828,19.6774959564209,19.741859436035156,19.79958724975586,19.81887435913086,19.882837295532227,19.90697479248047,19.919448852539062,19.933151245117188,19.966472625732422,19.968257904052734,20.021286010742188,20.037776947021484,20.06092071533203,20.082611083984375,20.121597290039062,20.127605438232422,20.156963348388672,20.204635620117188,20.24798583984375,20.26498031616211,20.296741485595703,20.314533233642578,20.357507705688477,20.36962127685547,20.42026138305664,20.438507080078125,20.444883346557617,20.441776275634766,20.44551658630371,20.441898345947266,20.433284759521484,20.472824096679688,20.4780216217041,20.491722106933594,20.54055404663086,20.56332015991211,20.597991943359375,20.625564575195312,20.65666961669922,20.667030334472656,20.68335723876953,20.692466735839844,20.714845657348633,20.725799560546875,20.724075317382812,20.739288330078125,20.737205505371094,20.743144989013672,20.743900299072266,20.752521514892578,20.790002822875977,20.803508758544922,20.803466796875,20.842361450195312,20.8712158203125,20.891326904296875,20.917634963989258,20.942527770996094,20.967483520507812,21.012683868408203,21.040599822998047,21.042659759521484,21.043685913085938,21.053857803344727,21.093368530273438,21.08652114868164,21.107006072998047,21.124149322509766,21.14776611328125,21.16724967956543,21.180686950683594,21.213077545166016,21.250839233398438,21.256641387939453,21.278865814208984,21.293176651000977,21.306926727294922,21.331100463867188,21.343202590942383,21.376733779907227,21.418628692626953,21.434114456176758,21.45191764831543,21.502391815185547,21.517967224121094,21.545841217041016,21.561431884765625,21.597469329833984,21.60393714904785,21.621578216552734,21.609933853149414,21.626737594604492,21.650625228881836,21.653797149658203,21.65582275390625,21.680099487304688,21.69670867919922,21.708179473876953,21.71511459350586,21.71686553955078,21.70905303955078,21.709672927856445,21.713069915771484,21.729576110839844,21.755964279174805,21.77606201171875,21.78786849975586,21.819089889526367,21.80724334716797,21.80534553527832,21.820293426513672,21.819494247436523,21.831401824951172,21.839073181152344,21.848419189453125,21.86859893798828,21.898006439208984,21.919666290283203,21.920825958251953,21.926546096801758,21.949234008789062,21.96088218688965,21.983966827392578,21.993061065673828,22.026145935058594,22.039674758911133,22.072717666625977,22.099563598632812,22.113910675048828,22.12508773803711,22.12805938720703,22.147180557250977,22.178133010864258,22.18801498413086,22.208080291748047,22.232091903686523,22.270626068115234,22.292362213134766,22.3262882232666,22.35384178161621,22.36981201171875,22.400718688964844,22.424169540405273,22.44121742248535,22.45523452758789,22.45477294921875,22.47335433959961,22.504140853881836,22.533405303955078,22.54619598388672,22.566635131835938,22.593406677246094,22.592041015625,22.625347137451172,22.64107894897461,22.667497634887695,22.69949722290039,22.729496002197266,22.782161712646484,22.81201171875,22.833648681640625,22.860454559326172,22.8690185546875,22.869157791137695,22.894447326660156,22.922836303710938,22.945606231689453,22.963260650634766,22.977920532226562,22.98206901550293,22.983604431152344,22.993492126464844,23.00613784790039,23.028423309326172,23.025453567504883,23.014419555664062,23.017868041992188,23.022830963134766,23.036827087402344,23.05124282836914,23.054107666015625,23.06854248046875,23.098285675048828,23.10711669921875,23.123926162719727,23.13595962524414,23.15714454650879,23.17989730834961,23.18825912475586,23.203060150146484,23.208328247070312,23.22527313232422,23.229658126831055,23.259815216064453,23.26302719116211,23.285221099853516,23.28874969482422,23.297290802001953,23.310890197753906,23.31944465637207,23.339256286621094,23.343698501586914,23.37392807006836,23.388076782226562,23.406463623046875,23.393051147460938,23.392393112182617,23.397329330444336,23.413482666015625,23.427335739135742,23.437240600585938,23.44272232055664,23.455408096313477,23.48084259033203,23.50162124633789,23.518726348876953,23.536535263061523,23.548471450805664,23.559762954711914,23.58110809326172,23.595251083374023,23.605472564697266,23.607967376708984,23.617103576660156,23.63347625732422,23.649763107299805,23.657459259033203,23.669490814208984,23.667896270751953,23.69359588623047,23.728675842285156,23.756746292114258,23.784881591796875,23.804180145263672,23.83359146118164,23.879833221435547,23.882930755615234,23.898921966552734,23.904884338378906,23.921680450439453,23.946802139282227,23.94763946533203,23.958051681518555,23.971118927001953,23.990020751953125,24.002906799316406,24.02305030822754,24.048969268798828,24.085906982421875,24.109392166137695,24.141155242919922,24.152568817138672,24.181053161621094,24.205528259277344,24.221385955810547,24.241939544677734,24.25187110900879,24.26349639892578,24.285221099853516,24.303552627563477,24.30889892578125,24.331756591796875,24.350257873535156,24.370559692382812,24.389062881469727,24.403152465820312,24.436603546142578,24.446537017822266,24.469348907470703,24.487201690673828,24.497652053833008,24.514680862426758,24.538143157958984,24.55550765991211,24.582550048828125,24.607336044311523,24.62569808959961,24.649009704589844,24.671180725097656,24.695402145385742,24.710975646972656,24.73601722717285,24.747236251831055,24.765308380126953,24.787845611572266,24.788394927978516,24.81045913696289,24.814977645874023,24.83395767211914,24.842182159423828,24.868749618530273,24.873151779174805,24.885738372802734,24.882795333862305,24.888689041137695,24.892175674438477,24.901248931884766,24.907241821289062,24.910974502563477,24.927017211914062,24.924972534179688,24.932668685913086,24.93619155883789,24.947463989257812,24.948793411254883,24.95725440979004,24.979230880737305,24.993141174316406,25.014469146728516,25.027942657470703,25.036590576171875,25.053180694580078,25.079055786132812,25.088958740234375,25.113800048828125,25.113021850585938,25.128868103027344,25.12784194946289,25.13129425048828,25.132802963256836,25.147964477539062,25.154922485351562,25.15735626220703,25.167343139648438,25.165678024291992,25.18732452392578,25.199321746826172,25.196880340576172,25.206459045410156,25.210739135742188,25.238536834716797,25.259262084960938,25.265605926513672,25.263813018798828,25.285120010375977,25.29949951171875,25.303363800048828,25.296600341796875,25.293682098388672,25.291908264160156,25.298748016357422,25.311573028564453,25.318885803222656,25.321731567382812,25.33163070678711,25.336637496948242,25.352794647216797,25.360122680664062,25.37651824951172,25.38299560546875,25.393726348876953,25.40023422241211,25.41222381591797,25.415748596191406,25.418561935424805,25.424604415893555,25.437057495117188,25.441850662231445,25.45125961303711,25.452627182006836,25.478954315185547,25.47484016418457,25.485538482666016,25.490257263183594,25.500659942626953,25.51480484008789,25.531280517578125,25.53398895263672,25.55256462097168,25.57402801513672,25.590343475341797,25.59648895263672,25.606170654296875,25.627058029174805,25.639129638671875,25.646080017089844,25.64904022216797,25.646141052246094,25.653993606567383,25.661312103271484,25.666423797607422,25.676902770996094,25.687463760375977,25.70646095275879,25.714143753051758,25.71068572998047,25.704856872558594,25.706876754760742,25.707744598388672,25.726367950439453,25.73218536376953,25.731107711791992,25.739206314086914,25.744718551635742,25.740833282470703,25.730009078979492,25.7345027923584,25.735746383666992,25.740434646606445,25.769258499145508,25.787452697753906,25.789615631103516,25.81453514099121,25.807968139648438,25.80502700805664,25.805644989013672,25.823122024536133,25.827743530273438,25.83102035522461,25.822359085083008,25.822250366210938,25.815139770507812,25.813961029052734,25.81682586669922,25.8271484375,25.824493408203125,25.838014602661133,25.8413143157959,25.841785430908203,25.846248626708984,25.849239349365234,25.859508514404297,25.86249351501465,25.863426208496094,25.858007431030273,25.86371612548828,25.866436004638672,25.862701416015625,25.862712860107422,25.86155891418457,25.87146759033203,25.876937866210938,25.865772247314453,25.86880111694336,25.864364624023438,25.858306884765625,25.864242553710938,25.865568161010742,25.88370704650879,25.888933181762695,25.897293090820312,25.89579963684082,25.901634216308594,25.90032386779785,25.910015106201172,25.900821685791016,25.906051635742188,25.91747283935547,25.919504165649414,25.923168182373047,25.950498580932617,25.953292846679688,25.949535369873047,25.953943252563477,25.952167510986328,25.95903778076172,25.962421417236328,25.966047286987305,25.97849464416504,25.979530334472656,25.988428115844727,25.99166488647461,25.99224853515625,25.992748260498047,25.99945640563965,26.001483917236328,26.005496978759766,26.009422302246094,26.014942169189453,26.018985748291016,26.024425506591797,26.03270721435547,26.036727905273438,26.033201217651367,26.035646438598633,26.044837951660156,26.038936614990234,26.045703887939453,26.045570373535156,26.049945831298828,26.06045913696289,26.064098358154297,26.060209274291992,26.064746856689453,26.065919876098633,26.0742244720459,26.082862854003906,26.09014129638672,26.094480514526367,26.093841552734375,26.107315063476562,26.114986419677734,26.126056671142578,26.146167755126953,26.150699615478516,26.16877555847168,26.190658569335938,26.20714569091797,26.210933685302734,26.204322814941406,26.21092414855957,26.22360610961914,26.235836029052734,26.242591857910156,26.234928131103516,26.247760772705078,26.25605010986328,26.26158905029297,26.267667770385742,26.276893615722656,26.287864685058594,26.297958374023438,26.30751609802246,26.30146598815918,26.31570053100586,26.316383361816406,26.33688735961914,26.334609985351562,26.32801055908203,26.336166381835938,26.33575439453125,26.341962814331055,26.357145309448242,26.37218475341797,26.380313873291016,26.392215728759766,26.394168853759766,26.39533042907715,26.395835876464844,26.400039672851562,26.402873992919922,26.404945373535156,26.41133689880371,26.41799545288086,26.424068450927734,26.42363929748535,26.427753448486328,26.44625473022461,26.446008682250977,26.450393676757812,26.455663681030273,26.46851921081543,26.46302032470703,26.46941375732422,26.46906280517578,26.4661808013916,26.476028442382812,26.473236083984375,26.475486755371094,26.473590850830078,26.47576904296875,26.485462188720703,26.485687255859375,26.488258361816406,26.495223999023438,26.495189666748047,26.50156021118164,26.507495880126953,26.512462615966797,26.504207611083984,26.518598556518555,26.531831741333008,26.53363037109375,26.542692184448242,26.55835723876953,26.553665161132812,26.55028533935547,26.549800872802734,26.56568145751953,26.55684471130371,26.562175750732422,26.56273651123047,26.565397262573242,26.569860458374023,26.570159912109375,26.576980590820312,26.575340270996094,26.570451736450195,26.568004608154297,26.57321548461914,26.570676803588867,26.571704864501953,26.56436538696289,26.56269073486328,26.565284729003906,26.570358276367188,26.567995071411133,26.57569122314453,26.59029769897461,26.60588264465332,26.61821937561035,26.622623443603516,26.624038696289062,26.6301212310791,26.640880584716797,26.647384643554688,26.648778915405273,26.6551513671875,26.653797149658203,26.665340423583984,26.6570987701416,26.657020568847656,26.66565704345703,26.660858154296875,26.665138244628906,26.67116928100586,26.67007064819336,26.681795120239258,26.686485290527344,26.702713012695312,26.71004867553711,26.715160369873047,26.719074249267578,26.721752166748047,26.72903060913086,26.733665466308594,26.73855209350586,26.742897033691406,26.74287223815918,26.755149841308594,26.764169692993164,26.759496688842773,26.767494201660156,26.765361785888672,26.76738739013672,26.775117874145508,26.76656723022461,26.780460357666016,26.780803680419922,26.796215057373047,26.79994773864746,26.814455032348633,26.80938720703125,26.822385787963867,26.831218719482422,26.832740783691406,26.840229034423828,26.847694396972656,26.857614517211914,26.864639282226562,26.872394561767578,26.87696075439453,26.883670806884766,26.89666748046875,26.904481887817383,26.919815063476562,26.92221450805664,26.93065643310547,26.949121475219727,26.954797744750977,26.964130401611328,26.982254028320312,26.990083694458008,26.99093246459961,26.997406005859375,27.01032829284668,27.011045455932617,27.01375961303711,27.020856857299805,27.026844024658203,27.02958106994629,27.03030776977539,27.035505294799805,27.047292709350586,27.059810638427734,27.063316345214844,27.069622039794922,27.07575225830078,27.075693130493164,27.0915470123291,27.097763061523438,27.109169006347656,27.12165069580078,27.132553100585938,27.132972717285156,27.140647888183594,27.149215698242188,27.154743194580078,27.16830062866211,27.17650604248047,27.178592681884766,27.180622100830078,27.182178497314453,27.18332290649414,27.189788818359375,27.20263671875,27.20516586303711,27.20762062072754,27.210865020751953,27.217754364013672,27.215518951416016,27.2150936126709,27.212751388549805,27.22572898864746,27.234407424926758,27.24144744873047,27.254716873168945,27.254112243652344,27.259010314941406,27.275325775146484,27.278352737426758,27.297080993652344,27.30657958984375,27.310623168945312,27.32107162475586,27.32772445678711,27.33290672302246,27.3367919921875,27.344154357910156,27.351299285888672,27.35466766357422,27.35838508605957,27.365619659423828,27.367095947265625,27.379535675048828,27.383085250854492,27.383441925048828,27.39480209350586,27.401443481445312,27.40402603149414,27.41562271118164,27.4239501953125,27.425193786621094,27.430843353271484,27.438560485839844,27.446582794189453,27.45186996459961,27.466346740722656,27.470722198486328,27.466262817382812,27.469707489013672,27.48123550415039,27.498695373535156,27.501699447631836,27.50450325012207,27.512409210205078,27.522666931152344,27.525192260742188,27.533889770507812,27.53266143798828,27.53772735595703,27.54668426513672,27.55312728881836,27.565902709960938,27.570022583007812,27.569894790649414,27.57221221923828,27.57284927368164,27.577186584472656,27.575693130493164,27.580005645751953,27.574871063232422,27.583070755004883,27.586261749267578,27.587017059326172,27.59295654296875,27.59421157836914,27.603185653686523,27.607646942138672,27.609783172607422,27.61505126953125,27.62328338623047,27.617881774902344,27.622514724731445,27.62443733215332,27.626720428466797,27.627498626708984,27.632511138916016,27.64019012451172,27.643367767333984,27.642107009887695,27.64293670654297,27.648651123046875,27.64751625061035,27.652774810791016,27.660234451293945,27.662494659423828,27.66737937927246,27.675777435302734,27.671051025390625,27.67597198486328,27.680721282958984,27.689311981201172,27.7026424407959,27.70501708984375,27.710479736328125],\"type\":\"scatter\",\"xaxis\":\"x\",\"yaxis\":\"y\"},{\"line\":{\"color\":\"rgb(32, 102, 168)\",\"dash\":\"dash\",\"width\":6},\"name\":\"sgd WBIC\",\"y\":[10690.69921875,10074.130859375,11054.70703125,11450.892578125,12183.365234375,12061.1845703125,12711.25,13386.96484375,13770.875,14427.064453125,15693.806640625,15769.6875,16615.02734375,16964.61328125,17836.81640625,18068.53125,18628.40234375,19117.83984375,19872.359375,20204.505859375,21119.86328125,21102.796875,21803.71484375,22578.58203125,23071.35546875,23306.875,23736.69140625,24108.91015625,24716.640625,25083.349609375,25331.830078125,25924.2734375,26060.990234375,26402.90625,26846.6640625,27312.34765625,27736.1796875,28195.611328125,28399.0234375,28546.08984375,29259.75390625,29592.65234375,29965.015625,30117.92578125,30569.234375,30688.06640625,30786.9921875,30865.92578125,30986.62890625,31084.900390625,31137.515625,31284.578125,31604.9296875,31830.748046875,32287.6328125,32479.443359375,32644.197265625,32896.62890625,33112.515625,33297.8203125,33423.7265625,33626.42578125,33877.375,34111.5390625,34332.71875,34476.94921875,34510.4609375,34767.609375,34907.2578125,34874.30859375,34962.3046875,35082.75,35239.0625,35436.8359375,35671.125,35699.6953125,35998.5625,36096.0,36320.1484375,36614.4140625,36829.0390625,36910.7265625,37100.3671875,37233.1328125,37400.78125,37635.28125,37820.1875,38066.52734375,38266.12890625,38523.6171875,38684.97265625,38964.38671875,39205.453125,39545.0390625,39839.640625,40125.11328125,40230.09375,40572.2890625,40812.0,41143.9609375,41296.75390625,41553.28125,41887.2734375,42214.6953125,42474.109375,42695.13671875,42898.734375,43026.015625,43215.890625,43479.3515625,43753.1328125,43918.52734375,44157.8046875,44355.4296875,44585.859375,44755.5703125,45039.359375,45237.3046875,45344.2109375,45541.0390625,45624.63671875,45761.2265625,45919.09375,46077.140625,46335.64453125,46437.25,46498.2265625,46627.15625,46841.0390625,46887.3515625,47058.41796875,47059.45703125,47180.48828125,47238.0859375,47389.56640625,47410.5625,47430.11328125,47678.65234375,47667.4921875,47659.4921875,47679.37890625,47781.0625,47860.84375,47955.62109375,48079.9921875,48305.59375,48528.390625,48750.4609375,48836.66015625,48957.8828125,49272.4296875,49468.09765625,49679.28125,49808.88671875,49948.96875,50062.1015625,50108.68359375,50248.328125,50346.48046875,50420.34375,50437.90625,50610.0546875,50823.0390625,50974.625,51145.26953125,51311.1796875,51434.9765625,51497.7421875,51573.2890625,51639.90625,51874.6328125,52107.3359375,52289.7890625,52405.2890625,52537.1640625,52701.625,52841.9609375,52959.6953125,53154.7890625,53317.25,53388.7890625,53442.85546875,53469.80859375,53664.3046875,53731.41015625,53745.74609375,53810.078125,53910.59375,53996.7734375,53952.9375,53969.578125,54038.08984375,54217.6015625,54270.65625,54301.953125,54370.34375,54428.21875,54398.40625,54460.0078125,54567.25,54596.90625,54741.4140625,54812.734375,54924.34765625,54979.1328125,55075.515625,55156.03125,55243.66015625,55309.0625,55339.0,55462.00390625,55490.2578125,55528.53515625,55670.6796875,55759.7734375,55906.15625,56037.453125,56081.3203125,56226.796875,56281.6953125,56310.06640625,56341.2265625,56417.015625,56421.078125,56541.6796875,56579.1875,56631.828125,56681.16015625,56769.83203125,56783.4921875,56850.26171875,56958.6953125,57057.28125,57095.9375,57168.171875,57208.6328125,57306.3828125,57333.9296875,57449.10546875,57490.6015625,57505.1015625,57498.0390625,57506.54296875,57498.3203125,57478.7265625,57568.65625,57580.484375,57611.6484375,57722.7109375,57774.4921875,57853.34375,57916.0546875,57986.79296875,58010.359375,58047.4921875,58068.20703125,58119.1015625,58144.015625,58140.1015625,58174.6953125,58169.96484375,58183.46875,58185.19140625,58204.8046875,58290.046875,58320.765625,58320.66796875,58409.1328125,58474.7578125,58520.5,58580.3359375,58636.9453125,58693.7109375,58796.515625,58860.00390625,58864.68359375,58867.01953125,58890.1484375,58980.015625,58964.4453125,59011.03515625,59050.02734375,59103.73828125,59148.0546875,59178.6171875,59252.2890625,59338.171875,59351.375,59401.9140625,59434.4609375,59465.734375,59520.71484375,59548.2421875,59624.5078125,59719.7890625,59755.01171875,59795.5078125,59910.3046875,59945.73046875,60009.12109375,60044.578125,60126.54296875,60141.25390625,60181.375,60154.89453125,60193.1171875,60247.4375,60254.65625,60259.265625,60314.47265625,60352.25390625,60378.34375,60394.12109375,60398.09375,60380.328125,60381.734375,60389.453125,60426.99609375,60487.01953125,60532.73046875,60559.578125,60630.59375,60603.6484375,60599.328125,60633.328125,60631.515625,60658.59375,60676.04296875,60697.296875,60743.19921875,60810.078125,60859.3515625,60861.984375,60874.99609375,60926.59375,60953.08203125,61005.5859375,61026.26953125,61101.51953125,61132.2890625,61207.44921875,61268.5,61301.12109375,61326.546875,61333.3046875,61376.796875,61447.1953125,61469.67578125,61515.3046875,61569.921875,61657.56640625,61706.9921875,61784.15625,61846.828125,61883.1484375,61953.4453125,62006.7734375,62045.5546875,62077.4375,62076.3828125,62118.6484375,62188.65625,62255.2265625,62284.31640625,62330.796875,62391.6875,62388.58203125,62464.328125,62500.109375,62560.18359375,62632.96875,62701.1953125,62820.97265625,62888.8671875,62938.08203125,62999.05859375,63018.5390625,63018.85546875,63076.37109375,63140.9375,63192.73046875,63232.8828125,63266.2265625,63275.65625,63279.15625,63301.640625,63330.3984375,63381.0859375,63374.328125,63349.234375,63357.078125,63368.3671875,63400.1953125,63432.98046875,63439.50390625,63472.328125,63539.9765625,63560.0625,63598.29296875,63625.6640625,63673.8359375,63725.5859375,63744.6015625,63778.26953125,63790.2421875,63828.78515625,63838.76171875,63907.34375,63914.64453125,63965.1328125,63973.15625,63992.578125,64023.5078125,64042.95703125,64088.015625,64098.1171875,64166.8671875,64199.046875,64240.8671875,64210.3515625,64208.859375,64220.078125,64256.8203125,64288.3359375,64310.8671875,64323.33203125,64352.18359375,64410.03125,64457.2890625,64496.1953125,64536.69921875,64563.83984375,64589.52734375,64638.078125,64670.2421875,64693.484375,64699.16796875,64719.94921875,64757.1875,64794.2265625,64811.73828125,64839.09375,64835.46484375,64893.91796875,64973.703125,65037.55078125,65101.5390625,65145.43359375,65212.328125,65317.4921875,65324.53125,65360.90625,65374.46484375,65412.66796875,65469.8046875,65471.703125,65495.390625,65525.109375,65568.1015625,65597.40625,65643.2265625,65702.171875,65786.1875,65839.6015625,65911.8515625,65937.8125,66002.6015625,66058.2578125,66094.3203125,66141.0703125,66163.65625,66190.09375,66239.5,66281.203125,66293.359375,66345.34375,66387.421875,66433.6015625,66475.6875,66507.734375,66583.8125,66606.3984375,66658.28125,66698.890625,66722.65625,66761.3828125,66814.75,66854.25,66915.7578125,66972.125,67013.890625,67066.90625,67117.3359375,67172.4296875,67207.84375,67264.796875,67290.3125,67331.421875,67382.6796875,67383.9296875,67434.109375,67444.3828125,67487.546875,67506.2578125,67566.671875,67576.6796875,67605.3125,67598.609375,67612.015625,67619.9375,67640.578125,67654.203125,67662.703125,67699.1875,67694.53125,67712.0390625,67720.046875,67745.6953125,67748.703125,67767.953125,67817.9453125,67849.578125,67898.09375,67928.734375,67948.40625,67986.140625,68044.9921875,68067.5,68124.0078125,68122.234375,68158.2734375,68155.9375,68163.7890625,68167.21875,68201.703125,68217.53125,68223.078125,68245.78125,68242.0,68291.234375,68318.515625,68312.96875,68334.75,68344.484375,68407.703125,68454.84375,68469.265625,68465.1953125,68513.65625,68546.359375,68555.15625,68539.765625,68533.125,68529.109375,68544.6640625,68573.828125,68590.453125,68596.921875,68619.4453125,68630.828125,68667.578125,68684.25,68721.53125,68736.2578125,68760.671875,68775.4765625,68802.75,68810.7734375,68817.171875,68830.90625,68859.234375,68870.140625,68891.546875,68894.640625,68954.53125,68945.1640625,68969.5,68980.21875,69003.890625,69036.0546875,69073.53125,69079.6875,69121.9375,69170.7578125,69207.859375,69221.84375,69243.859375,69291.3671875,69318.828125,69334.6328125,69341.375,69334.7734375,69352.625,69369.28125,69380.90625,69404.734375,69428.75,69471.96875,69489.4375,69481.5703125,69468.3125,69472.90625,69474.875,69517.25,69530.4765625,69528.015625,69546.4375,69558.984375,69550.140625,69525.5234375,69535.75,69538.5703125,69549.234375,69614.7890625,69656.171875,69661.0859375,69717.765625,69702.828125,69696.140625,69697.546875,69737.296875,69747.796875,69755.25,69735.546875,69735.296875,69719.125,69716.4453125,69722.9609375,69746.4453125,69740.390625,69771.15625,69778.640625,69779.7265625,69789.875,69796.671875,69820.0390625,69826.8125,69828.9375,69816.6171875,69829.609375,69835.796875,69827.3046875,69827.328125,69824.703125,69847.234375,69859.6875,69834.2890625,69841.171875,69831.0859375,69817.3125,69830.8046875,69833.8203125,69875.078125,69886.9609375,69905.9765625,69902.578125,69915.84375,69912.875,69934.9140625,69914.0,69925.90625,69951.875,69956.5,69964.8359375,70026.9921875,70033.34375,70024.796875,70034.8203125,70030.78125,70046.40625,70054.1015625,70062.34375,70090.65625,70093.015625,70113.25,70120.609375,70121.9375,70123.078125,70138.3359375,70142.9453125,70152.078125,70161.0,70173.5546875,70182.75,70195.125,70213.9609375,70223.109375,70215.078125,70220.640625,70241.546875,70228.125,70243.515625,70243.21875,70253.171875,70277.078125,70285.359375,70276.515625,70286.84375,70289.5,70308.390625,70328.0390625,70344.59375,70354.4609375,70353.0078125,70383.65625,70401.09375,70426.28125,70472.015625,70482.3203125,70523.4375,70573.2109375,70610.703125,70619.328125,70604.28125,70619.296875,70648.125,70675.9453125,70691.3125,70673.8828125,70703.0625,70721.921875,70734.5234375,70748.34375,70769.328125,70794.28125,70817.234375,70838.96875,70825.203125,70857.59375,70859.140625,70905.7734375,70900.59375,70885.578125,70904.1328125,70903.1875,70917.3125,70951.84375,70986.046875,71004.5390625,71031.609375,71036.046875,71038.6953125,71039.84375,71049.40625,71055.84375,71060.5625,71075.09375,71090.2421875,71104.046875,71103.0703125,71112.4296875,71154.515625,71153.953125,71163.9296875,71175.9140625,71205.15625,71192.65625,71207.1875,71206.390625,71199.828125,71222.234375,71215.875,71221.0078125,71216.6875,71221.6484375,71243.6875,71244.203125,71250.0625,71265.890625,71265.8203125,71280.3046875,71293.8125,71305.109375,71286.328125,71319.0625,71349.15625,71353.25,71373.859375,71409.4921875,71398.8203125,71391.125,71390.015625,71426.1484375,71406.046875,71418.171875,71419.4375,71425.5,71435.65625,71436.328125,71451.8515625,71448.109375,71437.0,71431.421875,71443.28125,71437.515625,71439.8515625,71423.15625,71419.3515625,71425.25,71436.78125,71431.421875,71448.921875,71482.140625,71517.5859375,71545.6484375,71555.671875,71558.8828125,71572.71875,71597.1875,71611.96875,71615.140625,71629.640625,71626.5625,71652.8125,71634.0703125,71633.890625,71653.5234375,71642.609375,71652.34375,71666.0625,71663.5625,71690.21875,71700.890625,71737.796875,71754.484375,71766.1015625,71775.0078125,71781.09375,71797.65625,71808.1875,71819.3125,71829.1875,71829.125,71857.046875,71877.5625,71866.9375,71885.1328125,71880.28125,71884.8828125,71902.46875,71883.015625,71914.6015625,71915.390625,71950.4375,71958.9296875,71991.921875,71980.40625,72009.96875,72030.046875,72033.515625,72050.5546875,72067.5234375,72090.09375,72106.078125,72123.7109375,72134.09375,72149.359375,72178.921875,72196.6875,72231.5625,72237.015625,72256.2265625,72298.21875,72311.125,72332.3515625,72373.5703125,72391.375,72393.3125,72408.03125,72437.421875,72439.0625,72445.234375,72461.375,72475.0,72481.21875,72482.8828125,72494.703125,72521.515625,72549.984375,72557.953125,72572.2890625,72586.234375,72586.09375,72622.15625,72636.296875,72662.234375,72690.6171875,72715.421875,72716.3671875,72733.828125,72753.3046875,72765.875,72796.703125,72815.375,72820.125,72824.734375,72828.28125,72830.890625,72845.59375,72874.8125,72880.5703125,72886.15625,72893.53125,72909.203125,72904.1171875,72903.15625,72897.828125,72927.34375,72947.078125,72963.0859375,72993.265625,72991.890625,73003.03125,73040.125,73047.015625,73089.609375,73111.21875,73120.4140625,73144.1875,73159.3125,73171.1015625,73179.9375,73196.6875,73212.9375,73220.59375,73229.046875,73245.5,73248.8671875,73277.1640625,73285.234375,73286.0390625,73311.875,73326.984375,73332.859375,73359.234375,73378.171875,73381.0,73393.8515625,73411.3984375,73429.640625,73441.671875,73474.59375,73484.5390625,73474.40625,73482.25,73508.453125,73548.1640625,73555.0,73561.375,73579.359375,73602.703125,73608.4375,73628.234375,73625.4375,73636.953125,73657.328125,73671.984375,73701.03125,73710.40625,73710.109375,73715.375,73716.8125,73726.671875,73723.28125,73733.078125,73721.40625,73740.046875,73747.3125,73749.03125,73762.53125,73765.375,73785.796875,73795.9375,73800.7890625,73812.78125,73831.5,73819.21875,73829.765625,73834.140625,73839.328125,73841.1015625,73852.5,73869.953125,73877.1875,73874.3203125,73876.203125,73889.203125,73886.625,73898.578125,73915.546875,73920.6875,73931.796875,73950.90625,73940.15625,73951.34375,73962.140625,73981.6875,74012.015625,74017.40625,74029.828125],\"type\":\"scatter\",\"xaxis\":\"x\",\"yaxis\":\"y2\"}],                        {\"template\":{\"data\":{\"histogram2dcontour\":[{\"type\":\"histogram2dcontour\",\"colorbar\":{\"outlinewidth\":0,\"ticks\":\"\"},\"colorscale\":[[0.0,\"#0d0887\"],[0.1111111111111111,\"#46039f\"],[0.2222222222222222,\"#7201a8\"],[0.3333333333333333,\"#9c179e\"],[0.4444444444444444,\"#bd3786\"],[0.5555555555555556,\"#d8576b\"],[0.6666666666666666,\"#ed7953\"],[0.7777777777777778,\"#fb9f3a\"],[0.8888888888888888,\"#fdca26\"],[1.0,\"#f0f921\"]]}],\"choropleth\":[{\"type\":\"choropleth\",\"colorbar\":{\"outlinewidth\":0,\"ticks\":\"\"}}],\"histogram2d\":[{\"type\":\"histogram2d\",\"colorbar\":{\"outlinewidth\":0,\"ticks\":\"\"},\"colorscale\":[[0.0,\"#0d0887\"],[0.1111111111111111,\"#46039f\"],[0.2222222222222222,\"#7201a8\"],[0.3333333333333333,\"#9c179e\"],[0.4444444444444444,\"#bd3786\"],[0.5555555555555556,\"#d8576b\"],[0.6666666666666666,\"#ed7953\"],[0.7777777777777778,\"#fb9f3a\"],[0.8888888888888888,\"#fdca26\"],[1.0,\"#f0f921\"]]}],\"heatmap\":[{\"type\":\"heatmap\",\"colorbar\":{\"outlinewidth\":0,\"ticks\":\"\"},\"colorscale\":[[0.0,\"#0d0887\"],[0.1111111111111111,\"#46039f\"],[0.2222222222222222,\"#7201a8\"],[0.3333333333333333,\"#9c179e\"],[0.4444444444444444,\"#bd3786\"],[0.5555555555555556,\"#d8576b\"],[0.6666666666666666,\"#ed7953\"],[0.7777777777777778,\"#fb9f3a\"],[0.8888888888888888,\"#fdca26\"],[1.0,\"#f0f921\"]]}],\"heatmapgl\":[{\"type\":\"heatmapgl\",\"colorbar\":{\"outlinewidth\":0,\"ticks\":\"\"},\"colorscale\":[[0.0,\"#0d0887\"],[0.1111111111111111,\"#46039f\"],[0.2222222222222222,\"#7201a8\"],[0.3333333333333333,\"#9c179e\"],[0.4444444444444444,\"#bd3786\"],[0.5555555555555556,\"#d8576b\"],[0.6666666666666666,\"#ed7953\"],[0.7777777777777778,\"#fb9f3a\"],[0.8888888888888888,\"#fdca26\"],[1.0,\"#f0f921\"]]}],\"contourcarpet\":[{\"type\":\"contourcarpet\",\"colorbar\":{\"outlinewidth\":0,\"ticks\":\"\"}}],\"contour\":[{\"type\":\"contour\",\"colorbar\":{\"outlinewidth\":0,\"ticks\":\"\"},\"colorscale\":[[0.0,\"#0d0887\"],[0.1111111111111111,\"#46039f\"],[0.2222222222222222,\"#7201a8\"],[0.3333333333333333,\"#9c179e\"],[0.4444444444444444,\"#bd3786\"],[0.5555555555555556,\"#d8576b\"],[0.6666666666666666,\"#ed7953\"],[0.7777777777777778,\"#fb9f3a\"],[0.8888888888888888,\"#fdca26\"],[1.0,\"#f0f921\"]]}],\"surface\":[{\"type\":\"surface\",\"colorbar\":{\"outlinewidth\":0,\"ticks\":\"\"},\"colorscale\":[[0.0,\"#0d0887\"],[0.1111111111111111,\"#46039f\"],[0.2222222222222222,\"#7201a8\"],[0.3333333333333333,\"#9c179e\"],[0.4444444444444444,\"#bd3786\"],[0.5555555555555556,\"#d8576b\"],[0.6666666666666666,\"#ed7953\"],[0.7777777777777778,\"#fb9f3a\"],[0.8888888888888888,\"#fdca26\"],[1.0,\"#f0f921\"]]}],\"mesh3d\":[{\"type\":\"mesh3d\",\"colorbar\":{\"outlinewidth\":0,\"ticks\":\"\"}}],\"scatter\":[{\"fillpattern\":{\"fillmode\":\"overlay\",\"size\":10,\"solidity\":0.2},\"type\":\"scatter\"}],\"parcoords\":[{\"type\":\"parcoords\",\"line\":{\"colorbar\":{\"outlinewidth\":0,\"ticks\":\"\"}}}],\"scatterpolargl\":[{\"type\":\"scatterpolargl\",\"marker\":{\"colorbar\":{\"outlinewidth\":0,\"ticks\":\"\"}}}],\"bar\":[{\"error_x\":{\"color\":\"#2a3f5f\"},\"error_y\":{\"color\":\"#2a3f5f\"},\"marker\":{\"line\":{\"color\":\"#E5ECF6\",\"width\":0.5},\"pattern\":{\"fillmode\":\"overlay\",\"size\":10,\"solidity\":0.2}},\"type\":\"bar\"}],\"scattergeo\":[{\"type\":\"scattergeo\",\"marker\":{\"colorbar\":{\"outlinewidth\":0,\"ticks\":\"\"}}}],\"scatterpolar\":[{\"type\":\"scatterpolar\",\"marker\":{\"colorbar\":{\"outlinewidth\":0,\"ticks\":\"\"}}}],\"histogram\":[{\"marker\":{\"pattern\":{\"fillmode\":\"overlay\",\"size\":10,\"solidity\":0.2}},\"type\":\"histogram\"}],\"scattergl\":[{\"type\":\"scattergl\",\"marker\":{\"colorbar\":{\"outlinewidth\":0,\"ticks\":\"\"}}}],\"scatter3d\":[{\"type\":\"scatter3d\",\"line\":{\"colorbar\":{\"outlinewidth\":0,\"ticks\":\"\"}},\"marker\":{\"colorbar\":{\"outlinewidth\":0,\"ticks\":\"\"}}}],\"scattermapbox\":[{\"type\":\"scattermapbox\",\"marker\":{\"colorbar\":{\"outlinewidth\":0,\"ticks\":\"\"}}}],\"scatterternary\":[{\"type\":\"scatterternary\",\"marker\":{\"colorbar\":{\"outlinewidth\":0,\"ticks\":\"\"}}}],\"scattercarpet\":[{\"type\":\"scattercarpet\",\"marker\":{\"colorbar\":{\"outlinewidth\":0,\"ticks\":\"\"}}}],\"carpet\":[{\"aaxis\":{\"endlinecolor\":\"#2a3f5f\",\"gridcolor\":\"white\",\"linecolor\":\"white\",\"minorgridcolor\":\"white\",\"startlinecolor\":\"#2a3f5f\"},\"baxis\":{\"endlinecolor\":\"#2a3f5f\",\"gridcolor\":\"white\",\"linecolor\":\"white\",\"minorgridcolor\":\"white\",\"startlinecolor\":\"#2a3f5f\"},\"type\":\"carpet\"}],\"table\":[{\"cells\":{\"fill\":{\"color\":\"#EBF0F8\"},\"line\":{\"color\":\"white\"}},\"header\":{\"fill\":{\"color\":\"#C8D4E3\"},\"line\":{\"color\":\"white\"}},\"type\":\"table\"}],\"barpolar\":[{\"marker\":{\"line\":{\"color\":\"#E5ECF6\",\"width\":0.5},\"pattern\":{\"fillmode\":\"overlay\",\"size\":10,\"solidity\":0.2}},\"type\":\"barpolar\"}],\"pie\":[{\"automargin\":true,\"type\":\"pie\"}]},\"layout\":{\"autotypenumbers\":\"strict\",\"colorway\":[\"#636efa\",\"#EF553B\",\"#00cc96\",\"#ab63fa\",\"#FFA15A\",\"#19d3f3\",\"#FF6692\",\"#B6E880\",\"#FF97FF\",\"#FECB52\"],\"font\":{\"color\":\"#2a3f5f\"},\"hovermode\":\"closest\",\"hoverlabel\":{\"align\":\"left\"},\"paper_bgcolor\":\"white\",\"plot_bgcolor\":\"#E5ECF6\",\"polar\":{\"bgcolor\":\"#E5ECF6\",\"angularaxis\":{\"gridcolor\":\"white\",\"linecolor\":\"white\",\"ticks\":\"\"},\"radialaxis\":{\"gridcolor\":\"white\",\"linecolor\":\"white\",\"ticks\":\"\"}},\"ternary\":{\"bgcolor\":\"#E5ECF6\",\"aaxis\":{\"gridcolor\":\"white\",\"linecolor\":\"white\",\"ticks\":\"\"},\"baxis\":{\"gridcolor\":\"white\",\"linecolor\":\"white\",\"ticks\":\"\"},\"caxis\":{\"gridcolor\":\"white\",\"linecolor\":\"white\",\"ticks\":\"\"}},\"coloraxis\":{\"colorbar\":{\"outlinewidth\":0,\"ticks\":\"\"}},\"colorscale\":{\"sequential\":[[0.0,\"#0d0887\"],[0.1111111111111111,\"#46039f\"],[0.2222222222222222,\"#7201a8\"],[0.3333333333333333,\"#9c179e\"],[0.4444444444444444,\"#bd3786\"],[0.5555555555555556,\"#d8576b\"],[0.6666666666666666,\"#ed7953\"],[0.7777777777777778,\"#fb9f3a\"],[0.8888888888888888,\"#fdca26\"],[1.0,\"#f0f921\"]],\"sequentialminus\":[[0.0,\"#0d0887\"],[0.1111111111111111,\"#46039f\"],[0.2222222222222222,\"#7201a8\"],[0.3333333333333333,\"#9c179e\"],[0.4444444444444444,\"#bd3786\"],[0.5555555555555556,\"#d8576b\"],[0.6666666666666666,\"#ed7953\"],[0.7777777777777778,\"#fb9f3a\"],[0.8888888888888888,\"#fdca26\"],[1.0,\"#f0f921\"]],\"diverging\":[[0,\"#8e0152\"],[0.1,\"#c51b7d\"],[0.2,\"#de77ae\"],[0.3,\"#f1b6da\"],[0.4,\"#fde0ef\"],[0.5,\"#f7f7f7\"],[0.6,\"#e6f5d0\"],[0.7,\"#b8e186\"],[0.8,\"#7fbc41\"],[0.9,\"#4d9221\"],[1,\"#276419\"]]},\"xaxis\":{\"gridcolor\":\"white\",\"linecolor\":\"white\",\"ticks\":\"\",\"title\":{\"standoff\":15},\"zerolinecolor\":\"white\",\"automargin\":true,\"zerolinewidth\":2},\"yaxis\":{\"gridcolor\":\"white\",\"linecolor\":\"white\",\"ticks\":\"\",\"title\":{\"standoff\":15},\"zerolinecolor\":\"white\",\"automargin\":true,\"zerolinewidth\":2},\"scene\":{\"xaxis\":{\"backgroundcolor\":\"#E5ECF6\",\"gridcolor\":\"white\",\"linecolor\":\"white\",\"showbackground\":true,\"ticks\":\"\",\"zerolinecolor\":\"white\",\"gridwidth\":2},\"yaxis\":{\"backgroundcolor\":\"#E5ECF6\",\"gridcolor\":\"white\",\"linecolor\":\"white\",\"showbackground\":true,\"ticks\":\"\",\"zerolinecolor\":\"white\",\"gridwidth\":2},\"zaxis\":{\"backgroundcolor\":\"#E5ECF6\",\"gridcolor\":\"white\",\"linecolor\":\"white\",\"showbackground\":true,\"ticks\":\"\",\"zerolinecolor\":\"white\",\"gridwidth\":2}},\"shapedefaults\":{\"line\":{\"color\":\"#2a3f5f\"}},\"annotationdefaults\":{\"arrowcolor\":\"#2a3f5f\",\"arrowhead\":0,\"arrowwidth\":1},\"geo\":{\"bgcolor\":\"white\",\"landcolor\":\"#E5ECF6\",\"subunitcolor\":\"white\",\"showland\":true,\"showlakes\":true,\"lakecolor\":\"white\"},\"title\":{\"x\":0.05},\"mapbox\":{\"style\":\"light\"}}},\"xaxis\":{\"anchor\":\"y\",\"domain\":[0.0,0.94],\"title\":{\"text\":\"Draws\"}},\"yaxis\":{\"anchor\":\"x\",\"domain\":[0.0,1.0],\"range\":[0,null],\"title\":{\"text\":\"LLC\"}},\"yaxis2\":{\"anchor\":\"x\",\"overlaying\":\"y\",\"side\":\"right\",\"title\":{\"text\":\"WBIC\"},\"showgrid\":false},\"legend\":{\"x\":0,\"y\":1,\"xanchor\":\"left\",\"yanchor\":\"bottom\",\"orientation\":\"h\"},\"title\":{\"text\":\"LLC \\u002f WBIC Trace\"},\"width\":600,\"height\":400},                        {\"responsive\": true}                    ).then(function(){\n",
       "                            \n",
       "var gd = document.getElementById('59c8d7ec-30a7-4547-ac24-97f9a00bcb38');\n",
       "var x = new MutationObserver(function (mutations, observer) {{\n",
       "        var display = window.getComputedStyle(gd).display;\n",
       "        if (!display || display === 'none') {{\n",
       "            console.log([gd, 'removed!']);\n",
       "            Plotly.purge(gd);\n",
       "            observer.disconnect();\n",
       "        }}\n",
       "}});\n",
       "\n",
       "// Listen for the removal of the full notebook cells\n",
       "var notebookContainer = gd.closest('#notebook-container');\n",
       "if (notebookContainer) {{\n",
       "    x.observe(notebookContainer, {childList: true});\n",
       "}}\n",
       "\n",
       "// Listen for the clearing of the current output cell\n",
       "var outputEl = gd.closest('.output');\n",
       "if (outputEl) {{\n",
       "    x.observe(outputEl, {childList: true});\n",
       "}}\n",
       "\n",
       "                        })                };                });            </script>        </div>"
      ]
     },
     "metadata": {},
     "output_type": "display_data"
    }
   ],
   "source": [
    "# Check the LLC chains / WBIC chains converged for each model\n",
    "\n",
    "rlct_converge_plots = {}\n",
    "for title in models.keys():\n",
    "    rlct_converge_plot = make_subplots(specs=[[{\"secondary_y\" : True}]])\n",
    "    for optim in optimizers:\n",
    "        color = color_cycle[color_index % len(color_cycle)]\n",
    "        color_index += 1\n",
    "        if wbic_histories[title][optim][-1] is not None and llc_histories[title][optim][-1] is not None:\n",
    "            rlct_converge_plot.add_trace(go.Scatter(\n",
    "                y=np.mean(llc_histories[title][optim][-1][\"llc/moving_avg\"],axis=0),\n",
    "                name=f\"{optim} LLC\",\n",
    "                line=dict(color=color, width=3)\n",
    "            ), secondary_y=False)\n",
    "            rlct_converge_plot.add_trace(go.Scatter(\n",
    "                y=wbic_histories[title][optim][-1][\"wbic/means\"],\n",
    "                name=f\"{optim} WBIC\",\n",
    "                line=dict(color=color, dash=\"dash\", width=6)\n",
    "            ), secondary_y=True)\n",
    "    rlct_converge_plot.update_layout(\n",
    "        title=f\"LLC / WBIC Trace\",\n",
    "        xaxis_title=\"Draws\",\n",
    "        yaxis=dict(\n",
    "            range=[0,None]\n",
    "        ),\n",
    "        width=600,\n",
    "        height=400,\n",
    "        legend=dict(\n",
    "            x=0,\n",
    "            y=1,\n",
    "            xanchor='left',\n",
    "            yanchor='bottom',\n",
    "            orientation='h',\n",
    "        ),\n",
    "    )\n",
    "    rlct_converge_plot.update_yaxes(title=\"LLC\", secondary_y=False)\n",
    "    rlct_converge_plot.update_yaxes(title=\"WBIC\",\n",
    "                                    secondary_y=True,\n",
    "                                    showgrid=False)\n",
    "    rlct_converge_plots[title] = rlct_converge_plot\n",
    "    rlct_converge_plot.show()"
   ]
  },
  {
   "cell_type": "code",
   "execution_count": 43,
   "metadata": {
    "execution": {
     "iopub.execute_input": "2024-04-04T14:34:40.995993Z",
     "iopub.status.busy": "2024-04-04T14:34:40.995993Z",
     "iopub.status.idle": "2024-04-04T14:34:41.057330Z",
     "shell.execute_reply": "2024-04-04T14:34:41.057330Z"
    }
   },
   "outputs": [],
   "source": [
    "# Save the results to a HTML file.\n",
    "\n",
    "figures = []\n",
    "\n",
    "combined_args = {**hp, **data_args, **devinterp_args}\n",
    "\n",
    "if loss_figures:\n",
    "    figures += list(loss_figures.values())\n",
    "if update_norm_figures:\n",
    "    figures += list(update_norm_figures.values())\n",
    "if exp_figures:\n",
    "    figures += list(exp_figures.values())\n",
    "# if combined_eigenspectra:\n",
    "#     figures += list(combined_eigenspectra.values())\n",
    "if val_wbic_figs:\n",
    "    figures += list(val_wbic_figs.values())\n",
    "if rlct_converge_plots:\n",
    "    figures += list(rlct_converge_plots.values())\n",
    "\n",
    "figures+=list(llc_figures.values())\n",
    "figures+=list(hess_figures.values())\n",
    "figures+=list(corr_figs.values())\n",
    "\n",
    "curr_time = datetime.now().strftime(\"%Y-%m-%d-%H-%M\")\n",
    "\n",
    "write_figs_to_html(\n",
    "    figs=figures,\n",
    "    dest=f\"./ngd_sgd/{hp['model_type']}_ngd_sgd_llc_{curr_time}.html\",\n",
    "    title=\"Does NGD converge to minima that are 'more complex' i.e. have a higher RLCT?\",\n",
    "    summary=combined_args,\n",
    ")"
   ]
  }
 ],
 "metadata": {
  "kernelspec": {
   "display_name": "env",
   "language": "python",
   "name": "python3"
  },
  "language_info": {
   "codemirror_mode": {
    "name": "ipython",
    "version": 3
   },
   "file_extension": ".py",
   "mimetype": "text/x-python",
   "name": "python",
   "nbconvert_exporter": "python",
   "pygments_lexer": "ipython3",
   "version": "3.10.12"
  }
 },
 "nbformat": 4,
 "nbformat_minor": 2
}
