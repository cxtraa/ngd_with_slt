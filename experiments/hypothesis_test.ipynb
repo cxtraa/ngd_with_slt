{
 "cells": [
  {
   "cell_type": "code",
   "execution_count": 40,
   "metadata": {},
   "outputs": [],
   "source": [
    "from bs4 import BeautifulSoup\n",
    "import numpy as np\n",
    "import os\n",
    "import scipy.stats as s"
   ]
  },
  {
   "cell_type": "code",
   "execution_count": 41,
   "metadata": {},
   "outputs": [],
   "source": [
    "# choose arguments\n",
    "average_last_n = 2 # number of final RLCT values averaged from 1 epoch"
   ]
  },
  {
   "cell_type": "code",
   "execution_count": 42,
   "metadata": {},
   "outputs": [],
   "source": [
    "# converts javascript code from plotly plot in html to numpy arrays\n",
    "def jscript_to_array(js_code, start_string, end_string):\n",
    "    start_len = len(start_string)\n",
    "\n",
    "    start_index = js_code.find(start_string)\n",
    "    if start_index != -1: \n",
    "        start_index += start_len\n",
    "        rlct_end_index = js_code.find(end_string, start_index)\n",
    "        array_string = js_code[start_index:rlct_end_index]\n",
    "        numpy_array = np.array(eval(array_string))\n",
    "        return numpy_array\n",
    "    return np.array([])"
   ]
  },
  {
   "cell_type": "code",
   "execution_count": 43,
   "metadata": {},
   "outputs": [],
   "source": [
    "def data_from_file(directory, filename, average_last_n):\n",
    "    html_file_path = directory + '/' + filename\n",
    "\n",
    "    # Load the HTML file\n",
    "    with open(html_file_path, \"r\") as file:\n",
    "        html_content = file.read()\n",
    "\n",
    "    soup = BeautifulSoup(html_content, \"html.parser\")\n",
    "\n",
    "    # Find all <script> tags\n",
    "    script_tags = soup.find_all(\"script\")\n",
    "\n",
    "    # helper string initialisation\n",
    "    sgd_rlct_start_string = 'sgd RLCT\",\"x\":[1,2,3,4,5,6,7,8,9,10,11,12,13,14,15,16,17,18,19,20],\"y\":'\n",
    "    ngd_rlct_start_string = 'ngd RLCT\",\"x\":[1,2,3,4,5,6,7,8,9,10,11,12,13,14,15,16,17,18,19,20],\"y\":'\n",
    "    rlct_end_string = ',\"type\":\"scatter\"'\n",
    "\n",
    "    sgd_matrix = []\n",
    "    ngd_matrix = []\n",
    "\n",
    "    # Iterate over each <script> tag\n",
    "    for script_tag in script_tags:\n",
    "        # Extract the JavaScript code\n",
    "        js_code = script_tag.string\n",
    "\n",
    "        # Check if the script contains Plotly initialization code\n",
    "        if js_code and \"Plotly.newPlot\" in js_code:\n",
    "            # sgd\n",
    "            rlct_array = jscript_to_array(js_code, sgd_rlct_start_string, rlct_end_string)\n",
    "            if (rlct_array.size > 0):\n",
    "                sgd_matrix.append(rlct_array)\n",
    "\n",
    "\n",
    "            #ngd\n",
    "            rlct_array = jscript_to_array(js_code, ngd_rlct_start_string, rlct_end_string)\n",
    "            if (rlct_array.size > 0):\n",
    "                ngd_matrix.append(rlct_array)\n",
    "\n",
    "    sgd_matrix = np.array(sgd_matrix)\n",
    "    ngd_matrix = np.array(ngd_matrix)\n",
    "\n",
    "    sgd_matrix_average = sgd_matrix[:,-average_last_n:].mean(axis = 1)\n",
    "    ngd_matrix_average = ngd_matrix[:,-average_last_n:].mean(axis = 1)\n",
    "\n",
    "    return sgd_matrix_average, ngd_matrix_average\n",
    "\n",
    "    \n"
   ]
  },
  {
   "cell_type": "code",
   "execution_count": 44,
   "metadata": {},
   "outputs": [
    {
     "name": "stdout",
     "output_type": "stream",
     "text": [
      "number of files:  30\n"
     ]
    }
   ],
   "source": [
    "# Get the experiment directory\n",
    "directory = \"ngd_sgd\"\n",
    "count = 0\n",
    "\n",
    "sgd_rlct_values = []\n",
    "ngd_rlct_values = []\n",
    "\n",
    "# Loop through the files in the current working directory\n",
    "for filename in os.listdir(directory):\n",
    "    # Check if the filename contains the word \"seed\"\n",
    "    if \"seed\" in filename:\n",
    "        count += 1\n",
    "        sgd_matrix_average, ngd_matrix_average = data_from_file(directory, filename, average_last_n)\n",
    "        sgd_rlct_values.append(sgd_matrix_average)\n",
    "        ngd_rlct_values.append(ngd_matrix_average)\n",
    "\n",
    "print(\"number of files: \", count)"
   ]
  },
  {
   "cell_type": "code",
   "execution_count": 45,
   "metadata": {},
   "outputs": [
    {
     "name": "stdout",
     "output_type": "stream",
     "text": [
      "sgd rlct std:  [0.58972984 0.6248595  0.72181244 0.82955899 0.74946956 0.92028196]\n",
      "ngd rlct std:  [0.83250222 0.77634998 0.85134888 1.0478341  1.4762508  0.98220954]\n",
      "\n",
      "sgd rlct mean:  [16.30601522 18.84313513 23.24316651 25.46965288 32.85987771 43.84351247]\n",
      "ngd rlct mean:  [23.70035092 31.36502829 36.4120868  31.77519293 42.4361625  55.91884823]\n"
     ]
    }
   ],
   "source": [
    "# experiment format: [rlct1, rlct2, rlct3, rlct4, rlct5, rlct6]\n",
    "# RLCTs obtained from the following settings:\n",
    "# \"hidden_nodes\" : [64, 128, 256, 64, 128, 256], \"hidden_layers\" : [1, 1, 1, 2, 2, 2],\n",
    "\n",
    "# calculate the std and mean of the 2 distrbutions\n",
    "sgd_rlct_values = np.array(sgd_rlct_values)\n",
    "ngd_rlct_values = np.array(ngd_rlct_values)\n",
    "\n",
    "sgd_rlct_std = np.std(sgd_rlct_values, axis=0)\n",
    "ngd_rlct_std = np.std(ngd_rlct_values, axis=0)\n",
    "\n",
    "sgd_rlct_mean = np.mean(sgd_rlct_values, axis=0)\n",
    "ngd_rlct_mean = np.mean(ngd_rlct_values, axis=0)\n",
    "\n",
    "print(\"sgd rlct std: \", sgd_rlct_std)\n",
    "print(\"ngd rlct std: \", ngd_rlct_std)\n",
    "print()\n",
    "print(\"sgd rlct mean: \", sgd_rlct_mean)\n",
    "print(\"ngd rlct mean: \", ngd_rlct_mean)"
   ]
  },
  {
   "cell_type": "code",
   "execution_count": 46,
   "metadata": {},
   "outputs": [
    {
     "name": "stdout",
     "output_type": "stream",
     "text": [
      "\n",
      "64 hidden node/s | 1 hidden layer/s\n",
      "\n",
      "sgd rlct std:  0.5897298400468453\n",
      "ngd rlct std:  0.832502220840553\n",
      "\n",
      "sgd rlct mean:  16.30601522127787\n",
      "ngd rlct mean:  23.700350920359295\n",
      "\n",
      " ----------------------------------------\n",
      "\n",
      "128 hidden node/s | 1 hidden layer/s\n",
      "\n",
      "sgd rlct std:  0.6248595031612819\n",
      "ngd rlct std:  0.7763499845575881\n",
      "\n",
      "sgd rlct mean:  18.843135134379068\n",
      "ngd rlct mean:  31.365028285980223\n",
      "\n",
      " ----------------------------------------\n",
      "\n",
      "256 hidden node/s | 1 hidden layer/s\n",
      "\n",
      "sgd rlct std:  0.7218124397779772\n",
      "ngd rlct std:  0.8513488841291114\n",
      "\n",
      "sgd rlct mean:  23.24316651026408\n",
      "ngd rlct mean:  36.41208680470785\n",
      "\n",
      " ----------------------------------------\n",
      "\n",
      "64 hidden node/s | 2 hidden layer/s\n",
      "\n",
      "sgd rlct std:  0.8295589892312767\n",
      "ngd rlct std:  1.0478341025021805\n",
      "\n",
      "sgd rlct mean:  25.469652875264487\n",
      "ngd rlct mean:  31.77519292831421\n",
      "\n",
      " ----------------------------------------\n",
      "\n",
      "128 hidden node/s | 2 hidden layer/s\n",
      "\n",
      "sgd rlct std:  0.7494695626319364\n",
      "ngd rlct std:  1.476250803988563\n",
      "\n",
      "sgd rlct mean:  32.85987771352132\n",
      "ngd rlct mean:  42.43616250356038\n",
      "\n",
      " ----------------------------------------\n",
      "\n",
      "256 hidden node/s | 2 hidden layer/s\n",
      "\n",
      "sgd rlct std:  0.9202819618832295\n",
      "ngd rlct std:  0.9822095423415504\n",
      "\n",
      "sgd rlct mean:  43.843512471516924\n",
      "ngd rlct mean:  55.91884822845459\n",
      "\n",
      " ----------------------------------------\n"
     ]
    }
   ],
   "source": [
    "def preety_print():\n",
    "    hidden_nodes = [64, 128, 256, 64, 128, 256]\n",
    "    hidden_layers = [1, 1, 1, 2, 2, 2]\n",
    "\n",
    "    for i in range(len(hidden_nodes)):\n",
    "        print(f\"\\n{hidden_nodes[i]} hidden node/s | {hidden_layers[i]} hidden layer/s\")\n",
    "        print(\"\\nsgd rlct std: \", sgd_rlct_std[i])\n",
    "        print(\"ngd rlct std: \", ngd_rlct_std[i])\n",
    "        print(\"\\nsgd rlct mean: \", sgd_rlct_mean[i])\n",
    "        print(\"ngd rlct mean: \", ngd_rlct_mean[i])\n",
    "        print(\"\\n\", \"-\"*40)\n",
    "\n",
    "preety_print()"
   ]
  },
  {
   "cell_type": "code",
   "execution_count": 47,
   "metadata": {},
   "outputs": [
    {
     "name": "stdout",
     "output_type": "stream",
     "text": [
      "Hypothesis Test\n",
      "\n",
      "Null Hypothesis: rlct_ngd is equal to rlct_sgd\n",
      "Alternative Hypothesis: rlct_ngd is greater than rlct_sgd\n",
      "\n",
      " ----------------------------------------\n",
      "\n",
      "test 1: one tailed Welch's t-test\n",
      "\n",
      "This test compares if NGD's distribution is higher than SGD's distribution\n",
      "\n",
      "Welch's t-test pvalues:  [1.25368769e-40 2.68355304e-55 1.54212240e-54 2.09295033e-32\n",
      " 1.89996977e-31 1.05624311e-48]\n",
      "\n",
      "Conclusion: rlct_ngd is greater than rlct_sgd\n",
      "\n",
      " ----------------------------------------\n",
      "\n",
      "test 2: one-tailed z-test uing seed 1\n",
      "\n",
      "This test checks if NGD values for seed 1 are higher than SGD\n",
      "\n",
      "z scores:  [11.01179614 19.93546518 18.78165676  9.07753062 14.19687045 14.73079783]\n",
      "p values for ngd seed1:  [0. 0. 0. 0. 0. 0.]\n",
      "\n",
      "Conclusion: rlct_ngd for seed 1 is greater than rlct_sgd\n"
     ]
    }
   ],
   "source": [
    "# hypothesis test: rlct_ngd > rlct_sgd\n",
    "print(\"Hypothesis Test\")\n",
    "print(\"\\nNull Hypothesis: rlct_ngd is equal to rlct_sgd\")\n",
    "print(\"Alternative Hypothesis: rlct_ngd is greater than rlct_sgd\")\n",
    "print(\"\\n\", \"-\"*40)\n",
    "# test 1: one tailed Welch's t-test \n",
    "print(\"\\ntest 1: one tailed Welch's t-test\\n\")\n",
    "print(\"This test compares if NGD's distribution is higher than SGD's distribution\\n\")\n",
    "result = s.ttest_ind(sgd_rlct_values, ngd_rlct_values, axis=0, equal_var=False, alternative=\"less\")\n",
    "print(\"Welch's t-test pvalues: \", result.pvalue)\n",
    "print(\"\\nConclusion: rlct_ngd is greater than rlct_sgd\")\n",
    "print(\"\\n\", \"-\"*40)\n",
    "\n",
    "# test 2: one-tailed test using seed 1\n",
    "print(\"\\ntest 2: one-tailed z-test uing seed 1\\n\")\n",
    "print(\"This test checks if NGD values for seed 1 are higher than SGD\\n\")\n",
    "z_score = (np.array([22.8, 31.3, 36.8, 33, 43.5, 57.4]) - sgd_rlct_mean)/sgd_rlct_std\n",
    "print(\"z scores: \", z_score)\n",
    "print(\"p values for ngd seed1: \",1 - s.norm.cdf(z_score))\n",
    "print(\"\\nConclusion: rlct_ngd for seed 1 is greater than rlct_sgd\")"
   ]
  }
 ],
 "metadata": {
  "kernelspec": {
   "display_name": "devinterp_env",
   "language": "python",
   "name": "python3"
  },
  "language_info": {
   "codemirror_mode": {
    "name": "ipython",
    "version": 3
   },
   "file_extension": ".py",
   "mimetype": "text/x-python",
   "name": "python",
   "nbconvert_exporter": "python",
   "pygments_lexer": "ipython3",
   "version": "3.11.7"
  }
 },
 "nbformat": 4,
 "nbformat_minor": 2
}
