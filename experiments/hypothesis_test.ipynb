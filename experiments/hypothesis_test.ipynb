{
 "cells": [
  {
   "cell_type": "code",
   "execution_count": 1,
   "metadata": {},
   "outputs": [],
   "source": [
    "from bs4 import BeautifulSoup\n",
    "import numpy as np\n",
    "import os\n",
    "import scipy.stats as s"
   ]
  },
  {
   "cell_type": "code",
   "execution_count": 2,
   "metadata": {},
   "outputs": [],
   "source": [
    "def jscript_to_array(js_code, start_string, end_string):\n",
    "    start_len = len(start_string)\n",
    "\n",
    "    start_index = js_code.find(start_string)\n",
    "    if start_index != -1: \n",
    "        start_index += start_len\n",
    "        rlct_end_index = js_code.find(end_string, start_index)\n",
    "        array_string = js_code[start_index:rlct_end_index]\n",
    "        numpy_array = np.array(eval(array_string))\n",
    "        return numpy_array\n",
    "    return np.array([])"
   ]
  },
  {
   "cell_type": "code",
   "execution_count": 3,
   "metadata": {},
   "outputs": [],
   "source": [
    "def data_from_file(directory, filename, average_last_n):\n",
    "    html_file_path = directory + '/' + filename\n",
    "\n",
    "    # Load the HTML file\n",
    "    with open(html_file_path, \"r\") as file:\n",
    "        html_content = file.read()\n",
    "\n",
    "    soup = BeautifulSoup(html_content, \"html.parser\")\n",
    "\n",
    "    # Find all <script> tags\n",
    "    script_tags = soup.find_all(\"script\")\n",
    "\n",
    "    # helper string initialisation\n",
    "    sgd_rlct_start_string = 'sgd RLCT\",\"x\":[1,2,3,4,5,6,7,8,9,10,11,12,13,14,15,16,17,18,19,20],\"y\":'\n",
    "    ngd_rlct_start_string = 'ngd RLCT\",\"x\":[1,2,3,4,5,6,7,8,9,10,11,12,13,14,15,16,17,18,19,20],\"y\":'\n",
    "    rlct_end_string = ',\"type\":\"scatter\"'\n",
    "\n",
    "    sgd_matrix = []\n",
    "    ngd_matrix = []\n",
    "\n",
    "    # Iterate over each <script> tag\n",
    "    for script_tag in script_tags:\n",
    "        # Extract the JavaScript code\n",
    "        js_code = script_tag.string\n",
    "\n",
    "        # Check if the script contains Plotly initialization code\n",
    "        if js_code and \"Plotly.newPlot\" in js_code:\n",
    "            # sgd\n",
    "            rlct_array = jscript_to_array(js_code, sgd_rlct_start_string, rlct_end_string)\n",
    "            if (rlct_array.size > 0):\n",
    "                sgd_matrix.append(rlct_array)\n",
    "\n",
    "\n",
    "            #ngd\n",
    "            rlct_array = jscript_to_array(js_code, ngd_rlct_start_string, rlct_end_string)\n",
    "            if (rlct_array.size > 0):\n",
    "                ngd_matrix.append(rlct_array)\n",
    "\n",
    "    sgd_matrix = np.array(sgd_matrix)\n",
    "    ngd_matrix = np.array(ngd_matrix)\n",
    "\n",
    "    sgd_matrix_average = sgd_matrix[:,-average_last_n:].mean(axis = 1)\n",
    "    ngd_matrix_average = ngd_matrix[:,-average_last_n:].mean(axis = 1)\n",
    "\n",
    "    return sgd_matrix_average, ngd_matrix_average\n",
    "\n",
    "    \n"
   ]
  },
  {
   "cell_type": "code",
   "execution_count": 4,
   "metadata": {},
   "outputs": [
    {
     "name": "stdout",
     "output_type": "stream",
     "text": [
      "number of files:  29\n"
     ]
    }
   ],
   "source": [
    "# Get the experiment directory\n",
    "directory = \"ngd_sgd\"\n",
    "count = 0\n",
    "\n",
    "sgd_rlct_values = []\n",
    "ngd_rlct_values = []\n",
    "\n",
    "# Loop through the files in the current working directory\n",
    "for filename in os.listdir(directory):\n",
    "    # Check if the filename contains the word \"seed\"\n",
    "    if \"seed\" in filename:\n",
    "        count += 1\n",
    "        sgd_matrix_average, ngd_matrix_average = data_from_file(directory, filename, 5)\n",
    "        sgd_rlct_values.append(sgd_matrix_average)\n",
    "        ngd_rlct_values.append(ngd_matrix_average)\n",
    "\n",
    "print(\"number of files: \", count)"
   ]
  },
  {
   "cell_type": "code",
   "execution_count": 5,
   "metadata": {},
   "outputs": [],
   "source": [
    "# manually add experiments\n",
    "# experiment format: [rlct1, rlct2, rlct3, rlct4, rlct5, rlct6]\n",
    "# RLCTs obtained from the following settings:\n",
    "# \"hidden_nodes\" : [64, 128, 256, 64, 128, 256], \"hidden_layers\" : [1, 1, 1, 2, 2, 2],\n",
    "sgd_rlct_values.append(np.array([16, 19.6, 23.3, 24.7, 32.2, 42.8]))\n",
    "ngd_rlct_values.append(np.array([22.8, 31.3, 36.8, 33, 43.5, 57.4]))\n",
    "\n",
    "sgd_rlct_values = np.array(sgd_rlct_values)\n",
    "ngd_rlct_values = np.array(ngd_rlct_values)"
   ]
  },
  {
   "cell_type": "code",
   "execution_count": 6,
   "metadata": {},
   "outputs": [
    {
     "name": "stdout",
     "output_type": "stream",
     "text": [
      "sgd rlct std:  [0.47666392 0.52720814 0.48883943 0.5327783  0.43776954 0.48362876]\n",
      "ngd rlct std:  [0.71372949 1.98063731 4.08126041 0.79022677 2.45160731 5.57706612]\n",
      "\n",
      "sgd rlct mean:  [0.47666392 0.52720814 0.48883943 0.5327783  0.43776954 0.48362876]\n",
      "ngd rlct mean:  [0.71372949 1.98063731 4.08126041 0.79022677 2.45160731 5.57706612]\n"
     ]
    }
   ],
   "source": [
    "# calculate the std and mean of the 2 distrbutions\n",
    "sgd_rlct_std = np.std(sgd_rlct_values, axis=0)\n",
    "ngd_rlct_std = np.std(ngd_rlct_values, axis=0)\n",
    "\n",
    "sgd_rlct_mean = np.mean(sgd_rlct_values, axis=0)\n",
    "ngd_rlct_mean = np.mean(ngd_rlct_values, axis=0)\n",
    "\n",
    "print(\"sgd rlct std: \", sgd_rlct_std)\n",
    "print(\"ngd rlct std: \", ngd_rlct_std)\n",
    "print()\n",
    "print(\"sgd rlct mean: \", sgd_rlct_std)\n",
    "print(\"ngd rlct mean: \", ngd_rlct_std)"
   ]
  },
  {
   "cell_type": "code",
   "execution_count": 8,
   "metadata": {},
   "outputs": [
    {
     "name": "stdout",
     "output_type": "stream",
     "text": [
      "test 1: one tailed Welch's t-test\n",
      "This test compares if NGD's distribution is higher than SGD's distribution\n",
      "Welch's t-test pvalues:  [4.94386510e-45 5.89862477e-25 6.82052879e-14 3.83308168e-40\n",
      " 2.56744618e-17 7.07565655e-08]\n",
      "\n",
      "test 2: one-tailed z-test uing seed 1\n",
      "This test checks if NGD values for seed 1 are higher than SGD\n",
      "z scores:  [13.54647062 23.22825038 27.35043587 14.56859419 24.54793304 28.20581376]\n",
      "p values for ngd seed1:  [0. 0. 0. 0. 0. 0.]\n"
     ]
    }
   ],
   "source": [
    "# hypothesis test: rlct_sgd < rlct_sgd\n",
    "\n",
    "# test 1: one tailed Welch's t-test \n",
    "print(\"test 1: one tailed Welch's t-test\")\n",
    "print(\"This test compares if NGD's distribution is higher than SGD's distribution\")\n",
    "result = s.ttest_ind(sgd_rlct_values, ngd_rlct_values, axis=0, equal_var=False, alternative=\"less\")\n",
    "print(\"Welch's t-test pvalues: \", result.pvalue)\n",
    "print()\n",
    "\n",
    "# test 2: one-tailed test using seed 1\n",
    "print(\"test 2: one-tailed z-test uing seed 1\")\n",
    "print(\"This test checks if NGD values for seed 1 are higher than SGD\")\n",
    "z_score = (np.array([22.8, 31.3, 36.8, 33, 43.5, 57.4]) - sgd_rlct_mean)/sgd_rlct_std\n",
    "print(\"z scores: \", z_score)\n",
    "print(\"p values for ngd seed1: \",1 - s.norm.cdf(z_score))"
   ]
  }
 ],
 "metadata": {
  "kernelspec": {
   "display_name": "devinterp_env",
   "language": "python",
   "name": "python3"
  },
  "language_info": {
   "codemirror_mode": {
    "name": "ipython",
    "version": 3
   },
   "file_extension": ".py",
   "mimetype": "text/x-python",
   "name": "python",
   "nbconvert_exporter": "python",
   "pygments_lexer": "ipython3",
   "version": "3.11.7"
  }
 },
 "nbformat": 4,
 "nbformat_minor": 2
}
