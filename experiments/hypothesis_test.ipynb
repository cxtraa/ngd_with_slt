{
 "cells": [
  {
   "cell_type": "code",
   "execution_count": 17,
   "metadata": {},
   "outputs": [],
   "source": [
    "from bs4 import BeautifulSoup\n",
    "import numpy as np\n",
    "import os\n",
    "import scipy.stats as s"
   ]
  },
  {
   "cell_type": "code",
   "execution_count": 18,
   "metadata": {},
   "outputs": [],
   "source": [
    "# choose arguments\n",
    "average_last_n = 5 # number of final RLCT values averaged from 1 epoch"
   ]
  },
  {
   "cell_type": "code",
   "execution_count": 19,
   "metadata": {},
   "outputs": [],
   "source": [
    "# converts javascript code from plotly plot in html to numpy arrays\n",
    "def jscript_to_array(js_code, start_string, end_string):\n",
    "    start_len = len(start_string)\n",
    "\n",
    "    start_index = js_code.find(start_string)\n",
    "    if start_index != -1: \n",
    "        start_index += start_len\n",
    "        rlct_end_index = js_code.find(end_string, start_index)\n",
    "        array_string = js_code[start_index:rlct_end_index]\n",
    "        numpy_array = np.array(eval(array_string))\n",
    "        return numpy_array\n",
    "    return np.array([])"
   ]
  },
  {
   "cell_type": "code",
   "execution_count": 20,
   "metadata": {},
   "outputs": [],
   "source": [
    "def data_from_file(directory, filename, average_last_n):\n",
    "    html_file_path = directory + '/' + filename\n",
    "\n",
    "    # Load the HTML file\n",
    "    with open(html_file_path, \"r\") as file:\n",
    "        html_content = file.read()\n",
    "\n",
    "    soup = BeautifulSoup(html_content, \"html.parser\")\n",
    "\n",
    "    # Find all <script> tags\n",
    "    script_tags = soup.find_all(\"script\")\n",
    "\n",
    "    # helper string initialisation\n",
    "    sgd_rlct_start_string = 'sgd RLCT\",\"x\":[1,2,3,4,5,6,7,8,9,10,11,12,13,14,15,16,17,18,19,20],\"y\":'\n",
    "    ngd_rlct_start_string = 'ngd RLCT\",\"x\":[1,2,3,4,5,6,7,8,9,10,11,12,13,14,15,16,17,18,19,20],\"y\":'\n",
    "    rlct_end_string = ',\"type\":\"scatter\"'\n",
    "\n",
    "    sgd_matrix = []\n",
    "    ngd_matrix = []\n",
    "\n",
    "    # Iterate over each <script> tag\n",
    "    for script_tag in script_tags:\n",
    "        # Extract the JavaScript code\n",
    "        js_code = script_tag.string\n",
    "\n",
    "        # Check if the script contains Plotly initialization code\n",
    "        if js_code and \"Plotly.newPlot\" in js_code:\n",
    "            # sgd\n",
    "            rlct_array = jscript_to_array(js_code, sgd_rlct_start_string, rlct_end_string)\n",
    "            if (rlct_array.size > 0):\n",
    "                sgd_matrix.append(rlct_array)\n",
    "\n",
    "\n",
    "            #ngd\n",
    "            rlct_array = jscript_to_array(js_code, ngd_rlct_start_string, rlct_end_string)\n",
    "            if (rlct_array.size > 0):\n",
    "                ngd_matrix.append(rlct_array)\n",
    "\n",
    "    sgd_matrix = np.array(sgd_matrix)\n",
    "    ngd_matrix = np.array(ngd_matrix)\n",
    "\n",
    "    sgd_matrix_average = sgd_matrix[:,-average_last_n:].mean(axis = 1)\n",
    "    ngd_matrix_average = ngd_matrix[:,-average_last_n:].mean(axis = 1)\n",
    "\n",
    "    return sgd_matrix_average, ngd_matrix_average\n",
    "\n",
    "    \n"
   ]
  },
  {
   "cell_type": "code",
   "execution_count": 21,
   "metadata": {},
   "outputs": [
    {
     "name": "stdout",
     "output_type": "stream",
     "text": [
      "number of files:  30\n"
     ]
    }
   ],
   "source": [
    "# Get the experiment directory\n",
    "directory = \"ngd_sgd\"\n",
    "count = 0\n",
    "\n",
    "sgd_rlct_values = []\n",
    "ngd_rlct_values = []\n",
    "\n",
    "# Loop through the files in the current working directory\n",
    "for filename in os.listdir(directory):\n",
    "    # Check if the filename contains the word \"seed\"\n",
    "    if \"seed\" in filename:\n",
    "        count += 1\n",
    "        sgd_matrix_average, ngd_matrix_average = data_from_file(directory, filename, average_last_n)\n",
    "        sgd_rlct_values.append(sgd_matrix_average)\n",
    "        ngd_rlct_values.append(ngd_matrix_average)\n",
    "\n",
    "print(\"number of files: \", count)"
   ]
  },
  {
   "cell_type": "code",
   "execution_count": 23,
   "metadata": {},
   "outputs": [
    {
     "name": "stdout",
     "output_type": "stream",
     "text": [
      "sgd rlct std:  [0.47802885 0.52507816 0.52439516 0.53304194 0.43003263 0.53077106]\n",
      "ngd rlct std:  [0.62964714 0.65414845 0.73289246 0.59286157 1.22941648 1.01080784]\n",
      "\n",
      "sgd rlct mean:  [0.47802885 0.52507816 0.52439516 0.53304194 0.43003263 0.53077106]\n",
      "ngd rlct mean:  [0.62964714 0.65414845 0.73289246 0.59286157 1.22941648 1.01080784]\n"
     ]
    }
   ],
   "source": [
    "# experiment format: [rlct1, rlct2, rlct3, rlct4, rlct5, rlct6]\n",
    "# RLCTs obtained from the following settings:\n",
    "# \"hidden_nodes\" : [64, 128, 256, 64, 128, 256], \"hidden_layers\" : [1, 1, 1, 2, 2, 2],\n",
    "\n",
    "# calculate the std and mean of the 2 distrbutions\n",
    "sgd_rlct_values = np.array(sgd_rlct_values)\n",
    "ngd_rlct_values = np.array(ngd_rlct_values)\n",
    "\n",
    "sgd_rlct_std = np.std(sgd_rlct_values, axis=0)\n",
    "ngd_rlct_std = np.std(ngd_rlct_values, axis=0)\n",
    "\n",
    "sgd_rlct_mean = np.mean(sgd_rlct_values, axis=0)\n",
    "ngd_rlct_mean = np.mean(ngd_rlct_values, axis=0)\n",
    "\n",
    "print(\"sgd rlct std: \", sgd_rlct_std)\n",
    "print(\"ngd rlct std: \", ngd_rlct_std)\n",
    "print()\n",
    "print(\"sgd rlct mean: \", sgd_rlct_mean)\n",
    "print(\"ngd rlct mean: \", ngd_rlct_mean)"
   ]
  },
  {
   "cell_type": "code",
   "execution_count": 24,
   "metadata": {},
   "outputs": [
    {
     "name": "stdout",
     "output_type": "stream",
     "text": [
      "test 1: one tailed Welch's t-test\n",
      "This test compares if NGD's distribution is higher than SGD's distribution\n",
      "Welch's t-test pvalues:  [8.49122227e-50 9.53869955e-62 9.01733633e-59 9.19883720e-50\n",
      " 1.05553954e-32 1.15606202e-44]\n",
      "\n",
      "test 2: one-tailed z-test uing seed 1\n",
      "This test checks if NGD values for seed 1 are higher than SGD\n",
      "z scores:  [13.5415131  23.33043818 25.5459749  14.56745867 24.98590093 25.83921972]\n",
      "p values for ngd seed1:  [0. 0. 0. 0. 0. 0.]\n"
     ]
    }
   ],
   "source": [
    "# hypothesis test: rlct_sgd < rlct_sgd\n",
    "\n",
    "# test 1: one tailed Welch's t-test \n",
    "print(\"test 1: one tailed Welch's t-test\")\n",
    "print(\"This test compares if NGD's distribution is higher than SGD's distribution\")\n",
    "result = s.ttest_ind(sgd_rlct_values, ngd_rlct_values, axis=0, equal_var=False, alternative=\"less\")\n",
    "print(\"Welch's t-test pvalues: \", result.pvalue)\n",
    "print()\n",
    "\n",
    "# test 2: one-tailed test using seed 1\n",
    "print(\"test 2: one-tailed z-test uing seed 1\")\n",
    "print(\"This test checks if NGD values for seed 1 are higher than SGD\")\n",
    "z_score = (np.array([22.8, 31.3, 36.8, 33, 43.5, 57.4]) - sgd_rlct_mean)/sgd_rlct_std\n",
    "print(\"z scores: \", z_score)\n",
    "print(\"p values for ngd seed1: \",1 - s.norm.cdf(z_score))"
   ]
  }
 ],
 "metadata": {
  "kernelspec": {
   "display_name": "devinterp_env",
   "language": "python",
   "name": "python3"
  },
  "language_info": {
   "codemirror_mode": {
    "name": "ipython",
    "version": 3
   },
   "file_extension": ".py",
   "mimetype": "text/x-python",
   "name": "python",
   "nbconvert_exporter": "python",
   "pygments_lexer": "ipython3",
   "version": "3.11.7"
  }
 },
 "nbformat": 4,
 "nbformat_minor": 2
}
